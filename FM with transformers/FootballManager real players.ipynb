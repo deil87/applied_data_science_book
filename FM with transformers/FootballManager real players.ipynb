{
 "cells": [
  {
   "cell_type": "code",
   "execution_count": 1,
   "id": "b30031ee-5c79-46a5-a3d4-5e154ccef692",
   "metadata": {},
   "outputs": [],
   "source": [
    "import tensorflow as tf\n",
    "from tensorflow.keras import layers, Model, Input, initializers\n",
    "from datetime import date\n",
    "import numpy as np\n",
    "\n",
    "\n",
    "# import competition_manager as cm\n",
    "from competition_manager import *"
   ]
  },
  {
   "cell_type": "code",
   "execution_count": 2,
   "id": "1917c83c-6aef-4006-aef0-744537fe0ade",
   "metadata": {},
   "outputs": [],
   "source": [
    "import random\n",
    "import os\n",
    "def set_seed(seed=42):\n",
    "    np.random.seed(seed)                  # Fix NumPy random seed\n",
    "    random.seed(seed)                     # Fix Python built-in random seed\n",
    "    tf.random.set_seed(seed)              # Fix TensorFlow random seed\n",
    "\n",
    "    # Optional but recommended: configure TensorFlow for deterministic ops\n",
    "    os.environ['TF_DETERMINISTIC_OPS'] = '1'\n",
    "\n",
    "# Call this function at the very start, before building or training your model\n",
    "seed_value = 42\n",
    "set_seed(seed_value)"
   ]
  },
  {
   "cell_type": "markdown",
   "id": "204ced67-44c3-4e09-b65b-fc35a92320c7",
   "metadata": {},
   "source": [
    "## Prepare real players data"
   ]
  },
  {
   "cell_type": "code",
   "execution_count": 3,
   "id": "a0f6c7ac-dc43-4840-99e7-88ff9e8a2832",
   "metadata": {},
   "outputs": [],
   "source": [
    "team_members = [\"Andrey Spiridonov\", \"Andrey Trubicin\", \"Andrey Larionov\", \"Veselin\", \"Fedor\", \"Andrey Selifonov\",\n",
    "                \"Dmitro Ilchenko\", \"Sergii Kolbasin\", \"Vlad\", \"Pavel Karacharov\", \"Sanya\", \"Roman\", \"Ivan\", \"Denys\", \"Vitalii Zhebrakovksy\",\n",
    "                \"Oleksandr\", \"Loginov Dmitrii\", \"Artem Bykov\", \"Kirill\", \"Bondarev Yurii\", \"Gundars Mednis\", \"Alexandr Mikhailov\",\n",
    "                \"Pedro Ispanec\", \"Dimon Sirnik Lozuk\", \"Sergey Konovalov\", \"Vladimir Chavskiy\", \"Alex Akimov\", \"Andrey\", \"Sanya DrugIlchenko\", \n",
    "                \"Vitalik goalkeeper\", \"Dimon Melkii\"]\n"
   ]
  },
  {
   "cell_type": "code",
   "execution_count": 4,
   "id": "c66447ee-2d6c-4df6-8cd2-f8535a607501",
   "metadata": {},
   "outputs": [
    {
     "data": {
      "text/plain": [
       "{1: 'Andrey Spiridonov',\n",
       " 2: 'Andrey Trubicin',\n",
       " 3: 'Andrey Larionov',\n",
       " 4: 'Veselin',\n",
       " 5: 'Fedor',\n",
       " 6: 'Andrey Selifonov',\n",
       " 7: 'Dmitro Ilchenko',\n",
       " 8: 'Sergii Kolbasin',\n",
       " 9: 'Vlad',\n",
       " 10: 'Pavel Karacharov',\n",
       " 11: 'Sanya',\n",
       " 12: 'Roman',\n",
       " 13: 'Ivan',\n",
       " 14: 'Denys',\n",
       " 15: 'Vitalii Zhebrakovksy',\n",
       " 16: 'Oleksandr',\n",
       " 17: 'Loginov Dmitrii',\n",
       " 18: 'Artem Bykov',\n",
       " 19: 'Kirill',\n",
       " 20: 'Bondarev Yurii',\n",
       " 21: 'Gundars Mednis',\n",
       " 22: 'Alexandr Mikhailov',\n",
       " 23: 'Pedro Ispanec',\n",
       " 24: 'Dimon Sirnik Lozuk',\n",
       " 25: 'Sergey Konovalov',\n",
       " 26: 'Vladimir Chavskiy',\n",
       " 27: 'Alex Akimov',\n",
       " 28: 'Andrey',\n",
       " 29: 'Sanya DrugIlchenko',\n",
       " 30: 'Vitalik goalkeeper',\n",
       " 31: 'Dimon Melkii'}"
      ]
     },
     "execution_count": 4,
     "metadata": {},
     "output_type": "execute_result"
    }
   ],
   "source": [
    "team_members_with_ids = {idx + 1: tm for idx, tm in enumerate(team_members)}\n",
    "team_members_with_ids"
   ]
  },
  {
   "cell_type": "code",
   "execution_count": 5,
   "id": "8bdefce7-c53e-4016-9375-6a6a916e53ed",
   "metadata": {},
   "outputs": [
    {
     "data": {
      "text/plain": [
       "31"
      ]
     },
     "execution_count": 5,
     "metadata": {},
     "output_type": "execute_result"
    }
   ],
   "source": [
    "len(team_members_with_ids)"
   ]
  },
  {
   "cell_type": "markdown",
   "id": "f6dc55e8-fa29-4691-8991-6c6a3454ac58",
   "metadata": {},
   "source": [
    "{1: 'Andrey Spiridonov', #9.75\n",
    " 2: 'Andrey Trubicin', # 9 \n",
    " 3: 'Andrey Larionov', #5\n",
    " 4: 'Veselin', # 6\n",
    " 5: 'Fedor', # 7\n",
    " 6: 'Andrey Selifonov', # 6.5\n",
    " 7: 'Dmitro Ilchenko', #7.5\n",
    " 8: 'Sergii Kolbasin', # 6.5\n",
    " 9: 'Vlad', #4\n",
    " 10: 'Pavel Karacharov', # 7\n",
    " 11: 'Sanya', # 6\n",
    " 12: 'Roman', # 6.5\n",
    " 13: 'Ivan', # 9.25\n",
    " 14: 'Denys', # 4.5\n",
    " 15: 'Vitalii Zhebrakovksy', #6.75\n",
    " 16: 'Oleksandr', #9.25\n",
    " 17: 'Loginov Dmitrii', # 8.5\n",
    " 18: 'Artem Bykov', # 7.5\n",
    " 19: 'Kirill', #9.5\n",
    " 20: 'Bondarev Yurii', # 5\n",
    " 21: 'Gundars Mednis', # 5.5\n",
    " 22: 'Alexandr Mikhailov', # 5.5\n",
    " 23: 'Pedro Ispanec', #9.5\n",
    " 24: 'Dimon Sirnik Lozuk', # 8.75\n",
    " 25: 'Sergey Konovalov' # 6.5,\n",
    " 26: 'Vladimir Chavskiy' # 8,\n",
    " 27: 'Alex Akimov' # 7,\n",
    " 28: 'Andrey' # 7.5,\n",
    " 29: 'Sanya DrugIlchenko', #8\n",
    " 30: 'Vitalik goalkeeper', #7,\n",
    " 31: 'Dimon Melkii' # 6.5}"
   ]
  },
  {
   "cell_type": "code",
   "execution_count": 6,
   "id": "2cef32c7-66b6-4c24-8bf0-12cbfde2159e",
   "metadata": {},
   "outputs": [],
   "source": [
    "player_strengths_estimates = np.array([0, 9.5, 9, 5, 6, 8.5, 6.5, 7.5, 6.5,4, 7, 6,6.5, 9.25, 4.5, 6.75, 9.25, 8.5, \n",
    "                                       7.5, 9.5, 5, 5.5, 5.5 , 9.5, 8.75, 6.5, 8, 7, 7.5, 8 , 7, 6.5])"
   ]
  },
  {
   "cell_type": "code",
   "execution_count": 7,
   "id": "3e8b1d05-edb1-4673-ac0b-79326f3d012f",
   "metadata": {},
   "outputs": [
    {
     "data": {
      "text/plain": [
       "32"
      ]
     },
     "execution_count": 7,
     "metadata": {},
     "output_type": "execute_result"
    }
   ],
   "source": [
    "len(player_strengths_estimates)"
   ]
  },
  {
   "cell_type": "code",
   "execution_count": 8,
   "id": "cf6280fa-6ad3-4e90-9073-65e9fa8d2d09",
   "metadata": {},
   "outputs": [],
   "source": [
    "\n",
    "def name_to_var(name):\n",
    "    \"\"\"Convert a full name string into a valid Python variable name.\"\"\"\n",
    "    # Lowercase, replace spaces with underscores, remove non-alphanumeric/underscore characters\n",
    "    import re\n",
    "    var = name.lower()\n",
    "    var = var.replace(' ', '_')\n",
    "    var = re.sub(r'[^0-9a-z_]', '', var)\n",
    "    return var\n",
    "\n",
    "# Define variables dynamically in globals()\n",
    "for idx, name in team_members_with_ids.items():\n",
    "    var_name = name_to_var(name)\n",
    "    globals()[var_name] = idx"
   ]
  },
  {
   "cell_type": "markdown",
   "id": "27880ace-ba81-485d-a0a6-6a023893d06a",
   "metadata": {},
   "source": [
    "## Historical data / competitions"
   ]
  },
  {
   "cell_type": "code",
   "execution_count": 111,
   "id": "730adf2b-74b7-4da4-9bf1-841e821863cc",
   "metadata": {},
   "outputs": [],
   "source": [
    "historical_cometitions = [\n",
    "    Competition([loginov_dmitrii, andrey_spiridonov, veselin, alexandr_mikhailov, ivan],\n",
    "     [kirill, andrey_trubicin, oleksandr, fedor, denys], 11, date(2025, 7, 13 ),\n",
    "               {\n",
    "                   fedor:6, andrey_trubicin:6, oleksandr:4, kirill:2, \n",
    "                   loginov_dmitrii:7, veselin:4, ivan:12, andrey_spiridonov:5\n",
    "               }),\n",
    "\n",
    "    Competition([roman, oleksandr, andrey_trubicin, denys, andrey_selifonov, veselin],\n",
    "     [alex_akimov, loginov_dmitrii, andrey_larionov, vitalik_goalkeeper, artem_bykov, andrey_spiridonov], 1, date(2025, 7, 6 )),\n",
    "\n",
    "    Competition([andrey_selifonov, roman, loginov_dmitrii, andrey_trubicin, kirill, vitalik_goalkeeper],\n",
    "     [oleksandr, andrey_larionov, sergii_kolbasin, andrey_spiridonov, pavel_karacharov, vlad], 2, date(2025, 6, 22 ),\n",
    "               {\n",
    "                    andrey_trubicin: 8, andrey_selifonov: 2, kirill: 3, roman: 3, loginov_dmitrii: 4,\n",
    "                    andrey_larionov: 1, andrey_spiridonov: 2, pavel_karacharov: 5, vlad: 4, sergii_kolbasin: 3, oleksandr: 2 \n",
    "               }),\n",
    "\n",
    "    Competition([ivan, artem_bykov, andrey_larionov, oleksandr, gundars_mednis, veselin, vitalii_zhebrakovksy, andrey_spiridonov],\n",
    "     [andrey_trubicin, loginov_dmitrii, dimon_sirnik_lozuk, kirill, alex_akimov, dimon_melkii, roman, sergii_kolbasin], 3, date(2025, 6, 14 )),\n",
    "\n",
    "    Competition([andrey_trubicin, loginov_dmitrii, roman, sergii_kolbasin, gundars_mednis],\n",
    "     [andrey_spiridonov, oleksandr, vlad, alex_akimov, vitalii_zhebrakovksy], 3, date(2025, 6, 9 )),\n",
    "\n",
    "    Competition([ivan, bondarev_yurii, loginov_dmitrii, andrey_larionov, fedor, andrey_spiridonov, roman, dimon_sirnik_lozuk],\n",
    "     [oleksandr, dimon_melkii, andrey_selifonov, artem_bykov, andrey_trubicin, gundars_mednis, pedro_ispanec, veselin], 3, date(2025, 6, 8 ), \n",
    "               {\n",
    "                   fedor: 6, andrey_larionov: 1, loginov_dmitrii: 2, bondarev_yurii: 1, andrey_spiridonov: 1, ivan: 1, dimon_sirnik_lozuk:1,\n",
    "                   andrey_selifonov: 1, andrey_trubicin: 4, pedro_ispanec: 1, artem_bykov: 1, dimon_melkii: 1 \n",
    "               }),\n",
    "\n",
    "    Competition([andrey_larionov, vitalii_zhebrakovksy, roman, andrey_spiridonov, loginov_dmitrii, sergii_kolbasin],\n",
    "     [oleksandr, veselin, andrey_selifonov, bondarev_yurii, alex_akimov, andrey_trubicin], 1, date(2025, 5, 25 ), \n",
    "               {\n",
    "                   sergii_kolbasin: 2, roman: 2, loginov_dmitrii: 6, andrey_spiridonov: 4, andrey_larionov: 1,\n",
    "                   oleksandr: 3, andrey_selifonov: 2, veselin: 4, andrey_trubicin: 4\n",
    "               }),\n",
    "\n",
    "    Competition([oleksandr, fedor, andrey_spiridonov, loginov_dmitrii, vitalii_zhebrakovksy, pavel_karacharov],\n",
    "     [pedro_ispanec, andrey, andrey_trubicin, artem_bykov, roman, kirill], 1, date(2025, 5, 4 ),\n",
    "               {\n",
    "                   oleksandr: 4, loginov_dmitrii: 4, pavel_karacharov: 2, fedor: 1, andrey_spiridonov: 2, vitalii_zhebrakovksy: 1,\n",
    "                    andrey_trubicin: 4, roman: 1, pedro_ispanec: 4, artem_bykov: 4\n",
    "               }), # 14:13\n",
    "\n",
    "    Competition([loginov_dmitrii, alex_akimov, andrey_larionov, oleksandr, veselin, andrey, andrey_trubicin],\n",
    "     [bondarev_yurii, artem_bykov, ivan, gundars_mednis, andrey_selifonov, roman, andrey_spiridonov], -2, date(2025, 4, 12 ),\n",
    "               {\n",
    "                   andrey_trubicin: 7, andrey_larionov: 1, oleksandr: 1, \n",
    "                   andrey_selifonov: 3, andrey_spiridonov: 3, bondarev_yurii: 3, ivan: 1, artem_bykov: 1\n",
    "               }), # 9:11\n",
    "\n",
    "    Competition([andrey_larionov, gundars_mednis, andrey_spiridonov, loginov_dmitrii, andrey_selifonov],\n",
    "     [oleksandr, vitalii_zhebrakovksy, andrey_trubicin, roman, denys], -3, date(2025, 4, 6 ),\n",
    "               {\n",
    "                   loginov_dmitrii: 4, andrey_spiridonov: 4, gundars_mednis: 2, andrey_selifonov: 2, andrey_larionov: 1,\n",
    "                    oleksandr: 4, andrey_trubicin: 6, vitalii_zhebrakovksy: 3, denys: 1, roman: 2\n",
    "               }), # 13:16\n",
    "\n",
    "    \n",
    "    \n",
    "    Competition([andrey_trubicin, fedor, gundars_mednis, pedro_ispanec, loginov_dmitrii],\n",
    "     [ivan, roman, alexandr_mikhailov, andrey_spiridonov, andrey_selifonov], -4, date(2025, 3, 29 )),\n",
    "\n",
    "    Competition([loginov_dmitrii, dimon_sirnik_lozuk, roman, sanya, andrey_larionov, sergii_kolbasin, roman, denys],\n",
    "     [veselin, andrey_spiridonov, andrey_trubicin, fedor, pedro_ispanec, artem_bykov, andrey, vlad], -4, date( 2025, 3, 22)),\n",
    "\n",
    "    Competition([roman, andrey_spiridonov, andrey_trubicin, ivan, pedro_ispanec, denys, artem_bykov],\n",
    "     [bondarev_yurii, fedor, kirill, oleksandr, andrey_larionov, veselin, loginov_dmitrii], 0, date(2025, 3, 9)),\n",
    "\n",
    "    Competition([andrey_larionov, oleksandr, andrey_trubicin, veselin, loginov_dmitrii, kirill, roman, pedro_ispanec, pavel_karacharov],\n",
    "     [ivan, dmitro_ilchenko, andrey_spiridonov, fedor, artem_bykov, sanya, sanya_drugilchenko, andrey_selifonov, alexandr_mikhailov], -1, date(2025, 3, 2)),\n",
    "\n",
    "    Competition([oleksandr, vlad, andrey_spiridonov, artem_bykov, andrey_larionov, andrey_trubicin, roman, bondarev_yurii],\n",
    "     [ivan, fedor, loginov_dmitrii, denys, dmitro_ilchenko, andrey_selifonov, sergii_kolbasin, pedro_ispanec], 1, date(2025, 2, 8)),\n",
    "\n",
    "    Competition([roman, andrey_trubicin, ivan, andrey_spiridonov, veselin, vlad, sergii_kolbasin, andrey_selifonov],\n",
    "     [denys, oleksandr, dmitro_ilchenko, fedor, artem_bykov, andrey_larionov, loginov_dmitrii, sanya], 0, date(2025, 2, 1)),\n",
    "\n",
    "    Competition([loginov_dmitrii, alexandr_mikhailov, bondarev_yurii, pavel_karacharov, fedor, dmitro_ilchenko],\n",
    "     [oleksandr, andrey_trubicin, andrey, andrey_larionov, artem_bykov, vitalii_zhebrakovksy], 0, date(2025, 1, 26)),\n",
    "\n",
    "    \n",
    "    Competition([bondarev_yurii, dmitro_ilchenko, roman, andrey_trubicin, andrey_spiridonov, vlad, pavel_karacharov, artem_bykov],\n",
    "     [loginov_dmitrii, veselin, ivan, oleksandr, vitalii_zhebrakovksy, sergii_kolbasin, denys, andrey_larionov], 0, date(2025, 1, 18)),  # Black legs matter\n",
    "\n",
    "    Competition([vitalii_zhebrakovksy, loginov_dmitrii, ivan, andrey_spiridonov, andrey_larionov, andrey_trubicin, veselin],\n",
    "     [sanya, roman, denys, andrey_spiridonov, andrey_selifonov, oleksandr, alex_akimov], 0, date(2024, 12, 29)),\n",
    "]"
   ]
  },
  {
   "cell_type": "code",
   "execution_count": 10,
   "id": "10c223b1-b4e8-4b14-86bd-39ccf0ad08f8",
   "metadata": {},
   "outputs": [
    {
     "data": {
      "text/plain": [
       "19"
      ]
     },
     "execution_count": 10,
     "metadata": {},
     "output_type": "execute_result"
    }
   ],
   "source": [
    "len(historical_cometitions)"
   ]
  },
  {
   "cell_type": "code",
   "execution_count": 112,
   "id": "819712f0-6627-46d8-b50d-86397b575eed",
   "metadata": {},
   "outputs": [
    {
     "data": {
      "text/plain": [
       "[Competition(team_a=[17, 1, 4, 22, 13], team_b=[19, 2, 16, 5, 14], score_diff=11, date=datetime.date(2025, 7, 13), scores_stats={5: 6, 2: 6, 16: 4, 19: 2, 17: 7, 4: 4, 13: 12, 1: 5}),\n",
       " Competition(team_a=[12, 16, 2, 14, 6, 4], team_b=[27, 17, 3, 30, 18, 1], score_diff=1, date=datetime.date(2025, 7, 6), scores_stats={}),\n",
       " Competition(team_a=[6, 12, 17, 2, 19, 30], team_b=[16, 3, 8, 1, 10, 9], score_diff=2, date=datetime.date(2025, 6, 22), scores_stats={2: 8, 6: 2, 19: 3, 12: 3, 17: 4, 3: 1, 1: 2, 10: 5, 9: 4, 8: 3, 16: 2}),\n",
       " Competition(team_a=[13, 18, 3, 16, 21, 4, 15, 1], team_b=[2, 17, 24, 19, 27, 31, 12, 8], score_diff=3, date=datetime.date(2025, 6, 14), scores_stats={}),\n",
       " Competition(team_a=[2, 17, 12, 8, 21], team_b=[1, 16, 9, 27, 15], score_diff=3, date=datetime.date(2025, 6, 9), scores_stats={}),\n",
       " Competition(team_a=[13, 20, 17, 3, 5, 1, 12, 24], team_b=[16, 31, 6, 18, 2, 21, 23, 4], score_diff=3, date=datetime.date(2025, 6, 8), scores_stats={5: 6, 3: 1, 17: 2, 20: 1, 1: 1, 13: 1, 24: 1, 6: 1, 2: 4, 23: 1, 18: 1, 31: 1}),\n",
       " Competition(team_a=[3, 15, 12, 1, 17, 8], team_b=[16, 4, 6, 20, 27, 2], score_diff=1, date=datetime.date(2025, 5, 25), scores_stats={8: 2, 12: 2, 17: 6, 1: 4, 3: 1, 16: 3, 6: 2, 4: 4, 2: 4}),\n",
       " Competition(team_a=[16, 5, 1, 17, 15, 10], team_b=[23, 28, 2, 18, 12, 19], score_diff=1, date=datetime.date(2025, 5, 4), scores_stats={16: 4, 17: 4, 10: 2, 5: 1, 1: 2, 15: 1, 2: 4, 12: 1, 23: 4, 18: 4}),\n",
       " Competition(team_a=[17, 27, 3, 16, 4, 28, 2], team_b=[20, 18, 13, 21, 6, 12, 1], score_diff=-2, date=datetime.date(2025, 4, 12), scores_stats={2: 7, 3: 1, 16: 1, 6: 3, 1: 3, 20: 3, 13: 1, 18: 1}),\n",
       " Competition(team_a=[3, 21, 1, 17, 6], team_b=[16, 15, 2, 12, 14], score_diff=-3, date=datetime.date(2025, 4, 6), scores_stats={17: 4, 1: 4, 21: 2, 6: 2, 3: 1, 16: 4, 2: 6, 15: 3, 14: 1, 12: 2}),\n",
       " Competition(team_a=[2, 5, 21, 23, 17], team_b=[13, 12, 22, 1, 6], score_diff=-4, date=datetime.date(2025, 3, 29), scores_stats={}),\n",
       " Competition(team_a=[17, 24, 12, 11, 3, 8, 12, 14], team_b=[4, 1, 2, 5, 23, 18, 28, 9], score_diff=-4, date=datetime.date(2025, 3, 22), scores_stats={}),\n",
       " Competition(team_a=[12, 1, 2, 13, 23, 14, 18], team_b=[20, 5, 19, 16, 3, 4, 17], score_diff=0, date=datetime.date(2025, 3, 9), scores_stats={}),\n",
       " Competition(team_a=[3, 16, 2, 4, 17, 19, 12, 23, 10], team_b=[13, 7, 1, 5, 18, 11, 29, 6, 22], score_diff=-1, date=datetime.date(2025, 3, 2), scores_stats={}),\n",
       " Competition(team_a=[16, 9, 1, 18, 3, 2, 12, 20], team_b=[13, 5, 17, 14, 7, 6, 8, 23], score_diff=1, date=datetime.date(2025, 2, 8), scores_stats={}),\n",
       " Competition(team_a=[12, 2, 13, 1, 4, 9, 8, 6], team_b=[14, 16, 7, 5, 18, 3, 17, 11], score_diff=0, date=datetime.date(2025, 2, 1), scores_stats={}),\n",
       " Competition(team_a=[17, 22, 20, 10, 5, 7], team_b=[16, 2, 28, 3, 18, 15], score_diff=0, date=datetime.date(2025, 1, 26), scores_stats={}),\n",
       " Competition(team_a=[20, 7, 12, 2, 1, 9, 10, 18], team_b=[17, 4, 13, 16, 15, 8, 14, 3], score_diff=0, date=datetime.date(2025, 1, 18), scores_stats={}),\n",
       " Competition(team_a=[15, 17, 13, 1, 3, 2, 4], team_b=[11, 12, 14, 1, 6, 16, 27], score_diff=0, date=datetime.date(2024, 12, 29), scores_stats={})]"
      ]
     },
     "execution_count": 112,
     "metadata": {},
     "output_type": "execute_result"
    }
   ],
   "source": [
    "historical_cometitions"
   ]
  },
  {
   "cell_type": "markdown",
   "id": "d11f7ab7-a049-4b92-8e56-f38b13b2e0c6",
   "metadata": {},
   "source": [
    "## Manually labeled matches"
   ]
  },
  {
   "cell_type": "code",
   "execution_count": 113,
   "id": "d8169b39-582c-43aa-b576-864028a8c33c",
   "metadata": {},
   "outputs": [],
   "source": [
    "def strength_to_goal_advantage(strength1, strength2, scale=7, noise_std=1.5):\n",
    "   \n",
    "    diff = strength1 - strength2\n",
    "    advantage = diff / scale\n",
    "    noise = np.random.normal(0, noise_std)\n",
    "    return np.floor(advantage + noise)"
   ]
  },
  {
   "cell_type": "code",
   "execution_count": 114,
   "id": "4872e5b6-3ac1-4f20-b092-1d922a89975d",
   "metadata": {},
   "outputs": [
    {
     "data": {
      "text/plain": [
       "np.float64(-1.0)"
      ]
     },
     "execution_count": 114,
     "metadata": {},
     "output_type": "execute_result"
    }
   ],
   "source": [
    "strength_to_goal_advantage(34, 33)"
   ]
  },
  {
   "cell_type": "code",
   "execution_count": 139,
   "id": "c9a3dbc8-2f84-4890-a565-effd382ded47",
   "metadata": {},
   "outputs": [],
   "source": [
    "synth_competitions = []\n",
    "for idx in range(1000):\n",
    "    team_size = np.random.randint(MIN_TEAM_SIZE, MAX_TEAM_SIZE + 1)\n",
    "    all_players = np.random.permutation(np.arange(1, NUM_PLAYERS + 1))\n",
    "    teamA_idxs = all_players[:team_size]\n",
    "    teamB_idxs = all_players[team_size:2*team_size]\n",
    "    teamA_players = [team_members_with_ids[pl_i] for pl_i in teamA_idxs]\n",
    "    teamB_players = [team_members_with_ids[pl_i] for pl_i in teamB_idxs]\n",
    "    joined = ','.join(str(x) for x in teamA_idxs)\n",
    "\n",
    "    str_A = player_strengths_estimates[teamA_idxs].sum()\n",
    "    str_B = player_strengths_estimates[teamB_idxs].sum()\n",
    "    # print(f\"Team A idxs: {joined}\")\n",
    "    # print(f\"Team A: {teamA_players} {player_strengths_estimates[teamA_idxs]} sum:{str_A}\")\n",
    "    # print(f\"Team B idxs: {','.join(str(x) for x in teamB_idxs)}\")\n",
    "    # print(f\"Team B: {teamB_players} {player_strengths_estimates[teamB_idxs]} sum: {str_B}\")\n",
    "    # print(\"=\"*100)\n",
    "    synth_competitions.append(Competition(teamA_idxs.tolist(), teamB_idxs.tolist(), strength_to_goal_advantage(str_A, str_B) ,date(2024, 12, 29)))"
   ]
  },
  {
   "cell_type": "code",
   "execution_count": 140,
   "id": "6b371ef9-e88d-43c8-85de-bb07277bb08f",
   "metadata": {},
   "outputs": [],
   "source": [
    "historical_cometitions += synth_competitions"
   ]
  },
  {
   "cell_type": "code",
   "execution_count": 141,
   "id": "3d69cda4-3b41-4cd8-b966-af42106f8104",
   "metadata": {},
   "outputs": [
    {
     "name": "stdout",
     "output_type": "stream",
     "text": [
      "Shape of teamA_data: (1119, 9)\n",
      "teamA_data shape: (1119, 9)\n",
      "teamB_data shape: (1119, 9)\n",
      "outcomes shape: (1119,)\n"
     ]
    }
   ],
   "source": [
    "\n",
    "NUM_PLAYERS = len(team_members_with_ids)\n",
    "MIN_TEAM_SIZE = 5\n",
    "MAX_TEAM_SIZE = 9\n",
    "NUM_GAMES = len(historical_cometitions)\n",
    "\n",
    "teamA_data = np.zeros((NUM_GAMES, MAX_TEAM_SIZE), dtype=int)\n",
    "teamB_data = np.zeros((NUM_GAMES, MAX_TEAM_SIZE), dtype=int)\n",
    "outcomes = np.zeros(NUM_GAMES)\n",
    "\n",
    "print(f\"Shape of teamA_data: {teamA_data.shape}\")\n",
    "\n",
    "for comp_i, competition in enumerate(historical_cometitions):\n",
    "\n",
    "    teamA_players = competition.team_a\n",
    "    teamB_players = competition.team_b\n",
    "    assert len(teamA_players) == len(teamB_players), f\"Teams are supposed to be of equal size, Team A:{len(teamA_players)} Team B: {len(teamB_players)}\"\n",
    "    team_size = len(teamA_players)\n",
    "\n",
    "    outcomes[comp_i] = competition.score_diff\n",
    "\n",
    "    # print(teamA_players)\n",
    "    # print(teamB_players)\n",
    "    # Pad teams to max size using zeros (which corresponds to masked player)\n",
    "    teamA_data[comp_i, :team_size] = teamA_players\n",
    "    teamB_data[comp_i, :team_size] = teamB_players\n",
    "\n",
    "print(\"teamA_data shape:\", teamA_data.shape)\n",
    "print(\"teamB_data shape:\", teamB_data.shape)\n",
    "print(\"outcomes shape:\", outcomes.shape)"
   ]
  },
  {
   "cell_type": "code",
   "execution_count": 142,
   "id": "0bb27ba4-79fb-4b74-8845-c586f07924e1",
   "metadata": {},
   "outputs": [
    {
     "data": {
      "text/plain": [
       "array([[17,  1,  4, ...,  0,  0,  0],\n",
       "       [12, 16,  2, ...,  0,  0,  0],\n",
       "       [ 6, 12, 17, ...,  0,  0,  0],\n",
       "       ...,\n",
       "       [ 5, 29,  2, ...,  0,  0,  0],\n",
       "       [12,  5, 11, ..., 26, 20,  0],\n",
       "       [19,  7, 10, ...,  1, 27, 20]])"
      ]
     },
     "execution_count": 142,
     "metadata": {},
     "output_type": "execute_result"
    }
   ],
   "source": [
    "teamA_data"
   ]
  },
  {
   "cell_type": "markdown",
   "id": "77c86620-b38e-488a-a8f4-1f2207bba927",
   "metadata": {},
   "source": [
    "## Version of the model for real data"
   ]
  },
  {
   "cell_type": "code",
   "execution_count": 143,
   "id": "a63e979a-e3f9-4f61-9468-7f5663aada75",
   "metadata": {},
   "outputs": [
    {
     "data": {
      "text/plain": [
       "(1119, 9)"
      ]
     },
     "execution_count": 143,
     "metadata": {},
     "output_type": "execute_result"
    }
   ],
   "source": [
    "teamB_data.shape"
   ]
  },
  {
   "cell_type": "markdown",
   "id": "2c844175-d561-40dd-af3a-26257da6b448",
   "metadata": {},
   "source": [
    "## Masked MSE function"
   ]
  },
  {
   "cell_type": "code",
   "execution_count": 144,
   "id": "d6ac6ff1-af26-4d36-aca7-88c203f973d9",
   "metadata": {},
   "outputs": [],
   "source": [
    "def masked_mse(missing_value=-1.0):\n",
    "    def loss(y_true, y_pred):\n",
    "        mask = tf.not_equal(y_true, missing_value)\n",
    "        y_true_masked = tf.boolean_mask(y_true, mask)\n",
    "        y_pred_masked = tf.boolean_mask(y_pred, mask)\n",
    "        loss_value = tf.reduce_mean(tf.square(y_true_masked - y_pred_masked))\n",
    "        # print(f\"Loss value {y_true.numpy()}: {loss_value}\") tensors are only symbolic at this stage. Only with eager execution can work\n",
    "        # tf.print(\"goals_out y_true:\", y_true, summarize=10)\n",
    "        # tf.print(\"goals_out mask:\", mask, summarize=10)\n",
    "        # tf.print(\"goals_out y_true_masked:\", y_true_masked, summarize=100)\n",
    "        # tf.print(\"goals_out y_pred_masked:\", y_pred_masked, summarize=100)\n",
    "        \n",
    "        return loss_value\n",
    "    return loss"
   ]
  },
  {
   "cell_type": "code",
   "execution_count": 145,
   "id": "528f7e01-f1ae-4e90-912b-ae79fe90cdcd",
   "metadata": {},
   "outputs": [],
   "source": [
    "import matplotlib.pyplot as plt\n",
    "\n",
    "def monitor_training_overfitting(history):\n",
    "    # Assume 'history' is the object returned by your call to model.fit(...)\n",
    "    \n",
    "    # Plot training and validation accuracy\n",
    "    plt.figure(figsize=(14, 5))\n",
    "    \n",
    "    plt.subplot(1, 2, 1)\n",
    "    plt.plot(history.history['game_outcome_mean_absolute_error'], label='Training MAE')\n",
    "    plt.plot(history.history['val_game_outcome_mean_absolute_error'], label='Validation MAE')\n",
    "    plt.xlabel('Epoch')\n",
    "    plt.ylabel('mean_absolute_error')\n",
    "    plt.title('Game outcome Training vs Validation MAE')\n",
    "    plt.legend()\n",
    "    \n",
    "    # Plot training and validation loss\n",
    "    plt.subplot(1, 2, 2)\n",
    "    plt.plot(history.history['loss'], label='Training Loss')\n",
    "    plt.plot(history.history['val_loss'], label='Validation Loss')\n",
    "    plt.xlabel('Epoch')\n",
    "    plt.ylabel('Loss')\n",
    "    plt.title('Training vs Validation Loss')\n",
    "    plt.legend()\n",
    "    \n",
    "    plt.tight_layout()\n",
    "    plt.show()\n"
   ]
  },
  {
   "cell_type": "markdown",
   "id": "6d5db8f0-b317-4050-9b6d-ce580a2a254c",
   "metadata": {},
   "source": [
    "## Building a model / model definition"
   ]
  },
  {
   "cell_type": "code",
   "execution_count": 146,
   "id": "0136ea00-52e8-4a49-babc-b6d51d5d2eaf",
   "metadata": {},
   "outputs": [
    {
     "data": {
      "text/plain": [
       "31"
      ]
     },
     "execution_count": 146,
     "metadata": {},
     "output_type": "execute_result"
    }
   ],
   "source": [
    "NUM_PLAYERS"
   ]
  },
  {
   "cell_type": "code",
   "execution_count": 147,
   "id": "a702f663-1001-4c3b-9df0-fefa0315aa33",
   "metadata": {},
   "outputs": [],
   "source": [
    "\n",
    "def build_model(num_players, player_emb_dim, max_team_size):\n",
    "\n",
    "    #TODO max_team_size is not used??\n",
    "    \n",
    "    # Inputs: variable-length teams\n",
    "    # teamA_input = Input(shape=(9,), dtype='int32', name='teamA')  # variable-length\n",
    "    # teamB_input = Input(shape=(9,), dtype='int32', name='teamB')  # variable-length\n",
    "    teamA_input = Input(batch_shape=(19, 9), dtype='int32', name='teamA')  # variable-length\n",
    "    teamB_input = Input(batch_shape=(19, 9), dtype='int32', name='teamB')  # variable-length\n",
    "    # teamB_input = Input(shape=(None,), dtype='int32', name='teamB')  # variable-length\n",
    "    \n",
    "    # Embedding layer with mask support\n",
    "    player_embedding = layers.Embedding(\n",
    "        input_dim=num_players + 1,  # includes 0 for mask\n",
    "        output_dim=player_emb_dim,\n",
    "        embeddings_initializer=initializers.GlorotUniform(seed=seed_value),\n",
    "        mask_zero=True,  # Important: enables automatic masking for padding (0 as pad token)\n",
    "        # embeddings_regularizer=tf.keras.regularizers.l2(1e-4),\n",
    "        name='player_embedding'\n",
    "    )\n",
    "    \n",
    "    # Embed team players\n",
    "    teamA_embeds = player_embedding(teamA_input)  # shape: (batch, teamA_len, emb_dim)\n",
    "    teamB_embeds = player_embedding(teamB_input)\n",
    "    \n",
    "    # Self-attention block (respects masks automatically if using Functional API)\n",
    "    def self_attention_block(x, name_prefix=''):\n",
    "        attn_output = layers.MultiHeadAttention(\n",
    "            num_heads=4,\n",
    "            key_dim=player_emb_dim,\n",
    "            dropout=0.1,\n",
    "            name=f'{name_prefix}_attn'\n",
    "        )(x, x)\n",
    "        x = layers.Add(name=f'{name_prefix}_residual')([x, attn_output])\n",
    "        x = layers.LayerNormalization(name=f'{name_prefix}_norm')(x)\n",
    "        return x\n",
    "    \n",
    "    # Apply attention\n",
    "    teamA_attn = self_attention_block(teamA_embeds, 'teamA')\n",
    "    teamB_attn = self_attention_block(teamB_embeds, 'teamB')\n",
    "    \n",
    "    # Global average pooling over valid (non-padded) tokens\n",
    "    # TF handles masking automatically in GlobalAveragePooling1D if mask_zero=True\n",
    "    teamA_vector = layers.GlobalAveragePooling1D(name='teamA_avgpool')(teamA_attn)\n",
    "    teamB_vector = layers.GlobalAveragePooling1D(name='teamB_avgpool')(teamB_attn)\n",
    "    \n",
    "    # Matchup modeling (difference vector)\n",
    "    matchup_vector = layers.Subtract(name='matchup_diff')([teamA_vector, teamB_vector])\n",
    "    \n",
    "    # Concatenate summary representation\n",
    "    match_input = layers.Concatenate(name='match_features')([teamA_vector, teamB_vector, matchup_vector])\n",
    "    \n",
    "    # Feedforward classification head\n",
    "    x = layers.Dense(64, activation='relu', kernel_regularizer=tf.keras.regularizers.l2(1e-4))(match_input)\n",
    "    x = layers.Dropout(0.3)(x)\n",
    "    x = layers.Dense(32, activation='relu', kernel_regularizer=tf.keras.regularizers.l2(1e-4))(x)\n",
    "    x = layers.Dropout(0.3)(x)\n",
    "    \n",
    "    outcome = layers.Dense(1, activation='linear', name='game_outcome')(x)\n",
    "    \n",
    "    # Output 2: Player goals (per player in both teams, flatten and predict goals per player)\n",
    "    all_team_players = layers.Concatenate(axis=1)([teamA_input, teamB_input])  # shape (batch, 2*max_team_size)\n",
    "    emb_all = player_embedding(all_team_players)  # shape (batch, 2*max_team_size, emb_dim)\n",
    "    goals_dense = layers.TimeDistributed(layers.Dense(1))(emb_all)\n",
    "    goals_out = layers.Flatten(name=\"player_goals\")(goals_dense)  # shape (batch, 2*max_team_size)\n",
    "    # goals_out = layers.Lambda(lambda x: tf.reshape(x, (tf.shape(x)[0], -1)), name=\"player_goals\")(goals_dense)\n",
    "\n",
    "    # Final model\n",
    "    model = Model(inputs=[teamA_input, teamB_input], outputs=[outcome, goals_out])\n",
    "    model.compile(optimizer='adam', \n",
    "                  # loss='mean_squared_error',   # or 'mean_absolute_error'\n",
    "                  #   metrics=['mean_absolute_error']\n",
    "                  loss={\"game_outcome\": \"mean_squared_error\", \"player_goals\": masked_mse(missing_value=-1.0)},\n",
    "                  loss_weights={\n",
    "                        \"game_outcome\": 1.0,     # full weight\n",
    "                        \"player_goals\": 0.0      # reduce influence of goals output loss by factor of 10\n",
    "                    },\n",
    "                   metrics={\"game_outcome\": \"mean_absolute_error\"}\n",
    "                 )\n",
    "\n",
    "    \n",
    "    # model.summary()\n",
    "    return model"
   ]
  },
  {
   "cell_type": "code",
   "execution_count": 148,
   "id": "bf676d80-8f75-49fc-a8f6-0401f4b3a0b1",
   "metadata": {},
   "outputs": [],
   "source": [
    "def competitions_goals_to_player_goals(competitions, num_games, max_team_size):\n",
    "    base = np.full((num_games, 2 * max_team_size), -1)\n",
    "    # print(base.shape)\n",
    "    def pad_team(players):\n",
    "        padded = players + [0]*(max_team_size - len(players))\n",
    "        return padded\n",
    "    \n",
    "    for comp_i, competition in enumerate(historical_cometitions):\n",
    "        # print(comp_i)\n",
    "        # print(competition)\n",
    "        # players should be in the same order as when we are building team's embeddings\n",
    "        all_players = pad_team(competition.team_a) + pad_team(competition.team_b)\n",
    "        for key, val in competition.scores_stats.items():\n",
    "            idx_for_player = all_players.index(key)\n",
    "            base[comp_i, idx_for_player] = val\n",
    "    return base\n",
    "    \n",
    "    "
   ]
  },
  {
   "cell_type": "code",
   "execution_count": 149,
   "id": "14e0d98f-93c1-4508-8231-73c3285fc6d4",
   "metadata": {},
   "outputs": [
    {
     "data": {
      "text/plain": [
       "array([[ 7,  5,  4, ..., -1, -1, -1],\n",
       "       [-1, -1, -1, ..., -1, -1, -1],\n",
       "       [ 2,  3,  4, ..., -1, -1, -1],\n",
       "       ...,\n",
       "       [-1, -1, -1, ..., -1, -1, -1],\n",
       "       [-1, -1, -1, ..., -1, -1, -1],\n",
       "       [-1, -1, -1, ..., -1, -1, -1]])"
      ]
     },
     "execution_count": 149,
     "metadata": {},
     "output_type": "execute_result"
    }
   ],
   "source": [
    "player_goals = competitions_goals_to_player_goals(historical_cometitions, NUM_GAMES, MAX_TEAM_SIZE) #np.random.rand(NUM_GAMES, 2 * MAX_TEAM_SIZE)\n",
    "player_goals"
   ]
  },
  {
   "cell_type": "code",
   "execution_count": 150,
   "id": "b4a9f468-a989-43ae-ac4c-26fe99f48133",
   "metadata": {},
   "outputs": [
    {
     "data": {
      "text/plain": [
       "array([1., 0., 1., ..., 0., 0., 0.])"
      ]
     },
     "execution_count": 150,
     "metadata": {},
     "output_type": "execute_result"
    }
   ],
   "source": [
    "has_goals = (~np.all(player_goals == -1, axis=1)).astype(float)\n",
    "has_goals"
   ]
  },
  {
   "cell_type": "code",
   "execution_count": 151,
   "id": "7eeeffa1-3f34-4e7c-92c5-afa248cc8361",
   "metadata": {},
   "outputs": [
    {
     "name": "stdout",
     "output_type": "stream",
     "text": [
      "Max goals in dataset: 12\n"
     ]
    }
   ],
   "source": [
    "max_goals = np.max(player_goals[player_goals != -1])  # exclude missing values marked as -1\n",
    "print(f\"Max goals in dataset: {max_goals}\")"
   ]
  },
  {
   "cell_type": "code",
   "execution_count": 152,
   "id": "57e1d432-9d7b-4770-bc67-ee14e85aac35",
   "metadata": {},
   "outputs": [],
   "source": [
    "# Create a copy to avoid modifying original data\n",
    "scaled_player_goals = np.copy(player_goals).astype(float) # otherwise values will be rounded to 0\n",
    "\n",
    "# Scale non-missing elements\n",
    "mask = (player_goals != -1)\n",
    "scaled_player_goals[mask] = player_goals[mask] / max_goals\n",
    "\n",
    "# Leave missing values as is (-1)"
   ]
  },
  {
   "cell_type": "code",
   "execution_count": 153,
   "id": "7919a245-d931-4489-9364-8e56602c2e4a",
   "metadata": {},
   "outputs": [
    {
     "data": {
      "text/plain": [
       "array([[ 0.58333333,  0.41666667,  0.33333333, ..., -1.        ,\n",
       "        -1.        , -1.        ],\n",
       "       [-1.        , -1.        , -1.        , ..., -1.        ,\n",
       "        -1.        , -1.        ],\n",
       "       [ 0.16666667,  0.25      ,  0.33333333, ..., -1.        ,\n",
       "        -1.        , -1.        ],\n",
       "       ...,\n",
       "       [-1.        , -1.        , -1.        , ..., -1.        ,\n",
       "        -1.        , -1.        ],\n",
       "       [-1.        , -1.        , -1.        , ..., -1.        ,\n",
       "        -1.        , -1.        ],\n",
       "       [-1.        , -1.        , -1.        , ..., -1.        ,\n",
       "        -1.        , -1.        ]])"
      ]
     },
     "execution_count": 153,
     "metadata": {},
     "output_type": "execute_result"
    }
   ],
   "source": [
    "scaled_player_goals"
   ]
  },
  {
   "cell_type": "markdown",
   "id": "94be70a2-d901-4f19-aee8-93c407d56715",
   "metadata": {},
   "source": [
    "## Run training over K folds"
   ]
  },
  {
   "cell_type": "code",
   "execution_count": 154,
   "id": "6c528321-5073-4d26-b395-bcfb51e49f6e",
   "metadata": {},
   "outputs": [
    {
     "name": "stderr",
     "output_type": "stream",
     "text": [
      "/opt/anaconda3/envs/footballman/lib/python3.12/site-packages/keras/src/layers/layer.py:939: UserWarning:\n",
      "\n",
      "Layer 'player_goals' (of type Flatten) was passed an input with a mask attached to it. However, this layer does not support masking and will therefore destroy the mask information. Downstream layers will not see the mask.\n",
      "\n",
      "2025-08-06 22:10:40.677401: E tensorflow/core/framework/node_def_util.cc:676] NodeDef mentions attribute use_unbounded_threadpool which is not in the op definition: Op<name=MapDataset; signature=input_dataset:variant, other_arguments: -> handle:variant; attr=f:func; attr=Targuments:list(type),min=0; attr=output_types:list(type),min=1; attr=output_shapes:list(shape),min=1; attr=use_inter_op_parallelism:bool,default=true; attr=preserve_cardinality:bool,default=false; attr=force_synchronous:bool,default=false; attr=metadata:string,default=\"\"> This may be expected if your graph generating binary is newer  than this binary. Unknown attributes will be ignored. NodeDef: {{node ParallelMapDatasetV2/_17}}\n",
      "2025-08-06 22:10:40.677705: E tensorflow/core/framework/node_def_util.cc:676] NodeDef mentions attribute use_unbounded_threadpool which is not in the op definition: Op<name=MapDataset; signature=input_dataset:variant, other_arguments: -> handle:variant; attr=f:func; attr=Targuments:list(type),min=0; attr=output_types:list(type),min=1; attr=output_shapes:list(shape),min=1; attr=use_inter_op_parallelism:bool,default=true; attr=preserve_cardinality:bool,default=false; attr=force_synchronous:bool,default=false; attr=metadata:string,default=\"\"> This may be expected if your graph generating binary is newer  than this binary. Unknown attributes will be ignored. NodeDef: {{node ParallelMapDatasetV2/_17}}\n"
     ]
    },
    {
     "name": "stdout",
     "output_type": "stream",
     "text": [
      "Embedding vector for player zero before training: [-0.13323195 -0.00096944  0.13194087 -0.29381505 -0.25805488  0.07750148\n",
      "  0.15615395 -0.20011973 -0.22736615 -0.27393228  0.27099267 -0.16506381\n",
      " -0.01375294 -0.15520269  0.13752416  0.16476852  0.02260321 -0.20287587\n",
      "  0.00171983 -0.1837469  -0.28457138 -0.11464813 -0.01568022  0.03661951\n",
      "  0.19812527  0.05595043 -0.11006211  0.16076088 -0.22917882  0.06002998\n",
      " -0.12077236  0.21608105]\n"
     ]
    },
    {
     "data": {
      "image/png": "[encoded data removed]",
      "text/plain": [
       "<Figure size 1400x500 with 2 Axes>"
      ]
     },
     "metadata": {},
     "output_type": "display_data"
    },
    {
     "name": "stdout",
     "output_type": "stream",
     "text": [
      "Embedding vector for player zero after training: [-0.13323195 -0.00096944  0.13194087 -0.29381505 -0.25805488  0.07750148\n",
      "  0.15615395 -0.20011973 -0.22736615 -0.27393228  0.27099267 -0.16506381\n",
      " -0.01375294 -0.15520269  0.13752416  0.16476852  0.02260321 -0.20287587\n",
      "  0.00171983 -0.1837469  -0.28457138 -0.11464813 -0.01568022  0.03661951\n",
      "  0.19812527  0.05595043 -0.11006211  0.16076088 -0.22917882  0.06002998\n",
      " -0.12077236  0.21608105]\n",
      "Change in player zero embedding vector: 0.0\n",
      "\u001b[1m7/7\u001b[0m \u001b[32m━━━━━━━━━━━━━━━━━━━━\u001b[0m\u001b[37m\u001b[0m \u001b[1m0s\u001b[0m 3ms/step - game_outcome_loss: 3.4455 - game_outcome_mean_absolute_error: 1.4261 - loss: nan - player_goals_loss: nan \n",
      "Fold val total_loss: nan | Fold val game_outcome_loss: 3.0543 | val player_goals_loss: nan | metric: 1.3619\n",
      "Embedding vector for player zero before training: [-0.13323195 -0.00096944  0.13194087 -0.29381505 -0.25805488  0.07750148\n",
      "  0.15615395 -0.20011973 -0.22736615 -0.27393228  0.27099267 -0.16506381\n",
      " -0.01375294 -0.15520269  0.13752416  0.16476852  0.02260321 -0.20287587\n",
      "  0.00171983 -0.1837469  -0.28457138 -0.11464813 -0.01568022  0.03661951\n",
      "  0.19812527  0.05595043 -0.11006211  0.16076088 -0.22917882  0.06002998\n",
      " -0.12077236  0.21608105]\n"
     ]
    },
    {
     "data": {
      "image/png": "[encoded data removed]",
      "text/plain": [
       "<Figure size 1400x500 with 2 Axes>"
      ]
     },
     "metadata": {},
     "output_type": "display_data"
    },
    {
     "name": "stdout",
     "output_type": "stream",
     "text": [
      "Embedding vector for player zero after training: [-0.13323195 -0.00096944  0.13194087 -0.29381505 -0.25805488  0.07750148\n",
      "  0.15615395 -0.20011973 -0.22736615 -0.27393228  0.27099267 -0.16506381\n",
      " -0.01375294 -0.15520269  0.13752416  0.16476852  0.02260321 -0.20287587\n",
      "  0.00171983 -0.1837469  -0.28457138 -0.11464813 -0.01568022  0.03661951\n",
      "  0.19812527  0.05595043 -0.11006211  0.16076088 -0.22917882  0.06002998\n",
      " -0.12077236  0.21608105]\n",
      "Change in player zero embedding vector: 0.0\n",
      "\u001b[1m7/7\u001b[0m \u001b[32m━━━━━━━━━━━━━━━━━━━━\u001b[0m\u001b[37m\u001b[0m \u001b[1m0s\u001b[0m 2ms/step - game_outcome_loss: 2.8355 - game_outcome_mean_absolute_error: 1.3832 - loss: nan - player_goals_loss: nan       \n",
      "Fold val total_loss: nan | Fold val game_outcome_loss: 2.9253 | val player_goals_loss: nan | metric: 1.3873\n",
      "Embedding vector for player zero before training: [-0.13323195 -0.00096944  0.13194087 -0.29381505 -0.25805488  0.07750148\n",
      "  0.15615395 -0.20011973 -0.22736615 -0.27393228  0.27099267 -0.16506381\n",
      " -0.01375294 -0.15520269  0.13752416  0.16476852  0.02260321 -0.20287587\n",
      "  0.00171983 -0.1837469  -0.28457138 -0.11464813 -0.01568022  0.03661951\n",
      "  0.19812527  0.05595043 -0.11006211  0.16076088 -0.22917882  0.06002998\n",
      " -0.12077236  0.21608105]\n"
     ]
    },
    {
     "data": {
      "image/png": "[encoded data removed]",
      "text/plain": [
       "<Figure size 1400x500 with 2 Axes>"
      ]
     },
     "metadata": {},
     "output_type": "display_data"
    },
    {
     "name": "stdout",
     "output_type": "stream",
     "text": [
      "Embedding vector for player zero after training: [-0.13323195 -0.00096944  0.13194087 -0.29381505 -0.25805488  0.07750148\n",
      "  0.15615395 -0.20011973 -0.22736615 -0.27393228  0.27099267 -0.16506381\n",
      " -0.01375294 -0.15520269  0.13752416  0.16476852  0.02260321 -0.20287587\n",
      "  0.00171983 -0.1837469  -0.28457138 -0.11464813 -0.01568022  0.03661951\n",
      "  0.19812527  0.05595043 -0.11006211  0.16076088 -0.22917882  0.06002998\n",
      " -0.12077236  0.21608105]\n",
      "Change in player zero embedding vector: 0.0\n",
      "\u001b[1m7/7\u001b[0m \u001b[32m━━━━━━━━━━━━━━━━━━━━\u001b[0m\u001b[37m\u001b[0m \u001b[1m0s\u001b[0m 2ms/step - game_outcome_loss: 4.5566 - game_outcome_mean_absolute_error: 1.5243 - loss: nan - player_goals_loss: nan       \n",
      "Fold val total_loss: nan | Fold val game_outcome_loss: 4.0899 | val player_goals_loss: nan | metric: 1.5375\n",
      "Embedding vector for player zero before training: [-0.13323195 -0.00096944  0.13194087 -0.29381505 -0.25805488  0.07750148\n",
      "  0.15615395 -0.20011973 -0.22736615 -0.27393228  0.27099267 -0.16506381\n",
      " -0.01375294 -0.15520269  0.13752416  0.16476852  0.02260321 -0.20287587\n",
      "  0.00171983 -0.1837469  -0.28457138 -0.11464813 -0.01568022  0.03661951\n",
      "  0.19812527  0.05595043 -0.11006211  0.16076088 -0.22917882  0.06002998\n",
      " -0.12077236  0.21608105]\n"
     ]
    },
    {
     "name": "stderr",
     "output_type": "stream",
     "text": [
      "2025-08-06 22:10:48.499501: E tensorflow/core/framework/node_def_util.cc:676] NodeDef mentions attribute use_unbounded_threadpool which is not in the op definition: Op<name=MapDataset; signature=input_dataset:variant, other_arguments: -> handle:variant; attr=f:func; attr=Targuments:list(type),min=0; attr=output_types:list(type),min=1; attr=output_shapes:list(shape),min=1; attr=use_inter_op_parallelism:bool,default=true; attr=preserve_cardinality:bool,default=false; attr=force_synchronous:bool,default=false; attr=metadata:string,default=\"\"> This may be expected if your graph generating binary is newer  than this binary. Unknown attributes will be ignored. NodeDef: {{node ParallelMapDatasetV2/_17}}\n",
      "2025-08-06 22:10:48.499734: E tensorflow/core/framework/node_def_util.cc:676] NodeDef mentions attribute use_unbounded_threadpool which is not in the op definition: Op<name=MapDataset; signature=input_dataset:variant, other_arguments: -> handle:variant; attr=f:func; attr=Targuments:list(type),min=0; attr=output_types:list(type),min=1; attr=output_shapes:list(shape),min=1; attr=use_inter_op_parallelism:bool,default=true; attr=preserve_cardinality:bool,default=false; attr=force_synchronous:bool,default=false; attr=metadata:string,default=\"\"> This may be expected if your graph generating binary is newer  than this binary. Unknown attributes will be ignored. NodeDef: {{node ParallelMapDatasetV2/_17}}\n"
     ]
    },
    {
     "data": {
      "image/png": "[encoded data removed]",
      "text/plain": [
       "<Figure size 1400x500 with 2 Axes>"
      ]
     },
     "metadata": {},
     "output_type": "display_data"
    },
    {
     "name": "stdout",
     "output_type": "stream",
     "text": [
      "Embedding vector for player zero after training: [-0.13323195 -0.00096944  0.13194087 -0.29381505 -0.25805488  0.07750148\n",
      "  0.15615395 -0.20011973 -0.22736615 -0.27393228  0.27099267 -0.16506381\n",
      " -0.01375294 -0.15520269  0.13752416  0.16476852  0.02260321 -0.20287587\n",
      "  0.00171983 -0.1837469  -0.28457138 -0.11464813 -0.01568022  0.03661951\n",
      "  0.19812527  0.05595043 -0.11006211  0.16076088 -0.22917882  0.06002998\n",
      " -0.12077236  0.21608105]\n",
      "Change in player zero embedding vector: 0.0\n",
      "\u001b[1m7/7\u001b[0m \u001b[32m━━━━━━━━━━━━━━━━━━━━\u001b[0m\u001b[37m\u001b[0m \u001b[1m0s\u001b[0m 2ms/step - game_outcome_loss: 2.6749 - game_outcome_mean_absolute_error: 1.2596 - loss: nan - player_goals_loss: nan       \n",
      "Fold val total_loss: nan | Fold val game_outcome_loss: 2.6205 | val player_goals_loss: nan | metric: 1.2787\n",
      "Embedding vector for player zero before training: [-0.13323195 -0.00096944  0.13194087 -0.29381505 -0.25805488  0.07750148\n",
      "  0.15615395 -0.20011973 -0.22736615 -0.27393228  0.27099267 -0.16506381\n",
      " -0.01375294 -0.15520269  0.13752416  0.16476852  0.02260321 -0.20287587\n",
      "  0.00171983 -0.1837469  -0.28457138 -0.11464813 -0.01568022  0.03661951\n",
      "  0.19812527  0.05595043 -0.11006211  0.16076088 -0.22917882  0.06002998\n",
      " -0.12077236  0.21608105]\n"
     ]
    },
    {
     "data": {
      "image/png": "[encoded data removed]",
      "text/plain": [
       "<Figure size 1400x500 with 2 Axes>"
      ]
     },
     "metadata": {},
     "output_type": "display_data"
    },
    {
     "name": "stdout",
     "output_type": "stream",
     "text": [
      "Embedding vector for player zero after training: [-0.13323195 -0.00096944  0.13194087 -0.29381505 -0.25805488  0.07750148\n",
      "  0.15615395 -0.20011973 -0.22736615 -0.27393228  0.27099267 -0.16506381\n",
      " -0.01375294 -0.15520269  0.13752416  0.16476852  0.02260321 -0.20287587\n",
      "  0.00171983 -0.1837469  -0.28457138 -0.11464813 -0.01568022  0.03661951\n",
      "  0.19812527  0.05595043 -0.11006211  0.16076088 -0.22917882  0.06002998\n",
      " -0.12077236  0.21608105]\n",
      "Change in player zero embedding vector: 0.0\n",
      "\u001b[1m7/7\u001b[0m \u001b[32m━━━━━━━━━━━━━━━━━━━━\u001b[0m\u001b[37m\u001b[0m \u001b[1m0s\u001b[0m 2ms/step - game_outcome_loss: 2.6857 - game_outcome_mean_absolute_error: 1.2452 - loss: nan - player_goals_loss: nan \n",
      "Fold val total_loss: nan | Fold val game_outcome_loss: 2.5075 | val player_goals_loss: nan | metric: 1.2731\n",
      "Mean cross-validated accuracy: nan\n"
     ]
    }
   ],
   "source": [
    "import numpy as np\n",
    "from sklearn.model_selection import train_test_split\n",
    "from sklearn.model_selection import KFold\n",
    "\n",
    "\n",
    "X = [teamA_data, teamB_data]\n",
    "y = [outcomes, scaled_player_goals]\n",
    "\n",
    "\n",
    "# 3. Optional: callbacks for monitoring\n",
    "from tensorflow.keras.callbacks import EarlyStopping\n",
    "\n",
    "early_stop = EarlyStopping(monitor='val_loss', patience=5, restore_best_weights=True)\n",
    "\n",
    "# Define a learning rate schedule function (step decay example)\n",
    "def lr_schedule(epoch, lr):\n",
    "    drop_rate = 0.5\n",
    "    epochs_drop = 10\n",
    "    if epoch > 0 and epoch % epochs_drop == 0:\n",
    "        return lr * drop_rate\n",
    "    return lr\n",
    "\n",
    "#Instantiate callback\n",
    "lr_scheduler = tf.keras.callbacks.LearningRateScheduler(lr_schedule)\n",
    "\n",
    "# Or adaptive reduction on plateau (reduce LR when val_loss stalls)\n",
    "reduce_lr = tf.keras.callbacks.ReduceLROnPlateau(monitor='val_loss', factor=0.5,\n",
    "                                                 patience=5, min_lr=1e-6)\n",
    "\n",
    "NUM_PLAYERS = len(team_members_with_ids)\n",
    "PLAYER_EMB_DIM = 32\n",
    "\n",
    "# K-fold CV setup\n",
    "k = 5\n",
    "kf = KFold(n_splits=k, shuffle=True, random_state=42)\n",
    "\n",
    "cv_scores = []\n",
    "for train_ix, val_ix in kf.split(teamA_data):\n",
    "    model = build_model(NUM_PLAYERS, PLAYER_EMB_DIM, MAX_TEAM_SIZE)\n",
    "    X_train = [teamA_data[train_ix], teamB_data[train_ix]]\n",
    "    X_val   = [teamA_data[val_ix], teamB_data[val_ix]]\n",
    "    y_train = [outcomes[train_ix], scaled_player_goals[train_ix]]\n",
    "    y_val   = [outcomes[val_ix], scaled_player_goals[val_ix]]\n",
    "\n",
    "    \n",
    "    # Only fo debuggind purposes\n",
    "    player_embedding_layer = model.get_layer(\"player_embedding\")\n",
    "    embeddings_before_fold = player_embedding_layer.get_weights()[0].copy()\n",
    "    print(\"Embedding vector for player zero before training:\", embeddings_before_fold[0])\n",
    "\n",
    "    history = model.fit(\n",
    "        X_train, y_train,\n",
    "        validation_data=(X_val, y_val),\n",
    "        epochs=100, batch_size=32, verbose=0,\n",
    "        callbacks=[lr_scheduler, reduce_lr, early_stop],\n",
    "        # sample_weight={  # sample_weight can be a dict by output name\n",
    "        #     \"player_goals\": has_goals,\n",
    "        #     \"game_outcome\": np.ones(len(outcomes))  # no masking for outcome\n",
    "        # },\n",
    "    )\n",
    "    # Only fo debuggind purposes\n",
    "    monitor_training_overfitting(history)\n",
    "\n",
    "    # Only fo debuggind purposes\n",
    "    pe_layer = model.get_layer(\"player_embedding\")\n",
    "    embeddings_after_fold = pe_layer.get_weights()[0]\n",
    "    print(\"Embedding vector for player zero after training:\", embeddings_after_fold[0])\n",
    "\n",
    "    # Only fo debuggind purposes\n",
    "    change = np.linalg.norm(embeddings_after_fold[0] - embeddings_before_fold[0])\n",
    "    print(\"Change in player zero embedding vector:\", change)\n",
    "\n",
    "        \n",
    "    score = model.evaluate(X_val, y_val, verbose=1)\n",
    "    print(f\"Fold val total_loss: {score[0]:.4f} | Fold val game_outcome_loss: {score[1]:.4f} | val player_goals_loss: {score[2]:.4f} | metric: {score[3]:.4f}\")\n",
    "    cv_scores.append(score[0])  # game_outcome accuracy (check metric order in model.evaluate)\n",
    "print(f\"Mean cross-validated accuracy: {np.mean(cv_scores):.4f}\")\n"
   ]
  },
  {
   "cell_type": "code",
   "execution_count": 155,
   "id": "27056466-b7bf-4d1c-ac0d-323bad7f1f73",
   "metadata": {
    "scrolled": true
   },
   "outputs": [
    {
     "name": "stdout",
     "output_type": "stream",
     "text": [
      "Epoch 1/100\n"
     ]
    },
    {
     "name": "stderr",
     "output_type": "stream",
     "text": [
      "2025-08-06 22:11:00.978865: E tensorflow/core/framework/node_def_util.cc:676] NodeDef mentions attribute use_unbounded_threadpool which is not in the op definition: Op<name=MapDataset; signature=input_dataset:variant, other_arguments: -> handle:variant; attr=f:func; attr=Targuments:list(type),min=0; attr=output_types:list(type),min=1; attr=output_shapes:list(shape),min=1; attr=use_inter_op_parallelism:bool,default=true; attr=preserve_cardinality:bool,default=false; attr=force_synchronous:bool,default=false; attr=metadata:string,default=\"\"> This may be expected if your graph generating binary is newer  than this binary. Unknown attributes will be ignored. NodeDef: {{node ParallelMapDatasetV2/_17}}\n",
      "2025-08-06 22:11:00.979128: E tensorflow/core/framework/node_def_util.cc:676] NodeDef mentions attribute use_unbounded_threadpool which is not in the op definition: Op<name=MapDataset; signature=input_dataset:variant, other_arguments: -> handle:variant; attr=f:func; attr=Targuments:list(type),min=0; attr=output_types:list(type),min=1; attr=output_shapes:list(shape),min=1; attr=use_inter_op_parallelism:bool,default=true; attr=preserve_cardinality:bool,default=false; attr=force_synchronous:bool,default=false; attr=metadata:string,default=\"\"> This may be expected if your graph generating binary is newer  than this binary. Unknown attributes will be ignored. NodeDef: {{node ParallelMapDatasetV2/_17}}\n"
     ]
    },
    {
     "name": "stdout",
     "output_type": "stream",
     "text": [
      "\u001b[1m35/35\u001b[0m \u001b[32m━━━━━━━━━━━━━━━━━━━━\u001b[0m\u001b[37m\u001b[0m \u001b[1m2s\u001b[0m 2ms/step - game_outcome_loss: 3.5596 - game_outcome_mean_absolute_error: 1.4471 - loss: nan - player_goals_loss: nan\n",
      "Epoch 2/100\n",
      "\u001b[1m35/35\u001b[0m \u001b[32m━━━━━━━━━━━━━━━━━━━━\u001b[0m\u001b[37m\u001b[0m \u001b[1m0s\u001b[0m 2ms/step - game_outcome_loss: 3.2792 - game_outcome_mean_absolute_error: 1.3771 - loss: nan - player_goals_loss: nan\n",
      "Epoch 3/100\n",
      "\u001b[1m35/35\u001b[0m \u001b[32m━━━━━━━━━━━━━━━━━━━━\u001b[0m\u001b[37m\u001b[0m \u001b[1m0s\u001b[0m 3ms/step - game_outcome_loss: 3.0472 - game_outcome_mean_absolute_error: 1.3435 - loss: nan - player_goals_loss: nan\n",
      "Epoch 4/100\n",
      "\u001b[1m35/35\u001b[0m \u001b[32m━━━━━━━━━━━━━━━━━━━━\u001b[0m\u001b[37m\u001b[0m \u001b[1m0s\u001b[0m 4ms/step - game_outcome_loss: 2.8559 - game_outcome_mean_absolute_error: 1.3241 - loss: nan - player_goals_loss: nan\n",
      "Epoch 5/100\n",
      "\u001b[1m35/35\u001b[0m \u001b[32m━━━━━━━━━━━━━━━━━━━━\u001b[0m\u001b[37m\u001b[0m \u001b[1m0s\u001b[0m 4ms/step - game_outcome_loss: 2.7563 - game_outcome_mean_absolute_error: 1.2883 - loss: nan - player_goals_loss: nan\n",
      "Epoch 6/100\n",
      "\u001b[1m35/35\u001b[0m \u001b[32m━━━━━━━━━━━━━━━━━━━━\u001b[0m\u001b[37m\u001b[0m \u001b[1m0s\u001b[0m 4ms/step - game_outcome_loss: 2.7458 - game_outcome_mean_absolute_error: 1.2689 - loss: nan - player_goals_loss: nan\n",
      "Epoch 7/100\n",
      "\u001b[1m35/35\u001b[0m \u001b[32m━━━━━━━━━━━━━━━━━━━━\u001b[0m\u001b[37m\u001b[0m \u001b[1m0s\u001b[0m 4ms/step - game_outcome_loss: 2.6477 - game_outcome_mean_absolute_error: 1.2503 - loss: nan - player_goals_loss: nan\n",
      "Epoch 8/100\n",
      "\u001b[1m35/35\u001b[0m \u001b[32m━━━━━━━━━━━━━━━━━━━━\u001b[0m\u001b[37m\u001b[0m \u001b[1m0s\u001b[0m 4ms/step - game_outcome_loss: 2.6339 - game_outcome_mean_absolute_error: 1.2563 - loss: nan - player_goals_loss: nan\n",
      "Epoch 9/100\n",
      "\u001b[1m35/35\u001b[0m \u001b[32m━━━━━━━━━━━━━━━━━━━━\u001b[0m\u001b[37m\u001b[0m \u001b[1m0s\u001b[0m 4ms/step - game_outcome_loss: 2.5734 - game_outcome_mean_absolute_error: 1.2443 - loss: nan - player_goals_loss: nan\n",
      "Epoch 10/100\n",
      "\u001b[1m35/35\u001b[0m \u001b[32m━━━━━━━━━━━━━━━━━━━━\u001b[0m\u001b[37m\u001b[0m \u001b[1m0s\u001b[0m 4ms/step - game_outcome_loss: 2.5384 - game_outcome_mean_absolute_error: 1.2356 - loss: nan - player_goals_loss: nan\n",
      "Epoch 11/100\n",
      "\u001b[1m35/35\u001b[0m \u001b[32m━━━━━━━━━━━━━━━━━━━━\u001b[0m\u001b[37m\u001b[0m \u001b[1m0s\u001b[0m 4ms/step - game_outcome_loss: 2.4207 - game_outcome_mean_absolute_error: 1.1924 - loss: nan - player_goals_loss: nan\n",
      "Epoch 12/100\n",
      "\u001b[1m35/35\u001b[0m \u001b[32m━━━━━━━━━━━━━━━━━━━━\u001b[0m\u001b[37m\u001b[0m \u001b[1m0s\u001b[0m 4ms/step - game_outcome_loss: 2.4934 - game_outcome_mean_absolute_error: 1.1917 - loss: nan - player_goals_loss: nan\n",
      "Epoch 13/100\n",
      "\u001b[1m35/35\u001b[0m \u001b[32m━━━━━━━━━━━━━━━━━━━━\u001b[0m\u001b[37m\u001b[0m \u001b[1m0s\u001b[0m 4ms/step - game_outcome_loss: 2.1782 - game_outcome_mean_absolute_error: 1.1652 - loss: nan - player_goals_loss: nan\n",
      "Epoch 14/100\n",
      "\u001b[1m35/35\u001b[0m \u001b[32m━━━━━━━━━━━━━━━━━━━━\u001b[0m\u001b[37m\u001b[0m \u001b[1m0s\u001b[0m 4ms/step - game_outcome_loss: 2.3080 - game_outcome_mean_absolute_error: 1.1732 - loss: nan - player_goals_loss: nan\n",
      "Epoch 15/100\n",
      "\u001b[1m35/35\u001b[0m \u001b[32m━━━━━━━━━━━━━━━━━━━━\u001b[0m\u001b[37m\u001b[0m \u001b[1m0s\u001b[0m 4ms/step - game_outcome_loss: 2.1444 - game_outcome_mean_absolute_error: 1.1529 - loss: nan - player_goals_loss: nan\n",
      "Epoch 16/100\n",
      "\u001b[1m35/35\u001b[0m \u001b[32m━━━━━━━━━━━━━━━━━━━━\u001b[0m\u001b[37m\u001b[0m \u001b[1m0s\u001b[0m 4ms/step - game_outcome_loss: 2.2611 - game_outcome_mean_absolute_error: 1.1553 - loss: nan - player_goals_loss: nan\n",
      "Epoch 17/100\n",
      "\u001b[1m35/35\u001b[0m \u001b[32m━━━━━━━━━━━━━━━━━━━━\u001b[0m\u001b[37m\u001b[0m \u001b[1m0s\u001b[0m 4ms/step - game_outcome_loss: 2.1352 - game_outcome_mean_absolute_error: 1.1378 - loss: nan - player_goals_loss: nan\n",
      "Epoch 18/100\n",
      "\u001b[1m35/35\u001b[0m \u001b[32m━━━━━━━━━━━━━━━━━━━━\u001b[0m\u001b[37m\u001b[0m \u001b[1m0s\u001b[0m 4ms/step - game_outcome_loss: 1.9948 - game_outcome_mean_absolute_error: 1.1108 - loss: nan - player_goals_loss: nan\n",
      "Epoch 19/100\n",
      "\u001b[1m35/35\u001b[0m \u001b[32m━━━━━━━━━━━━━━━━━━━━\u001b[0m\u001b[37m\u001b[0m \u001b[1m0s\u001b[0m 4ms/step - game_outcome_loss: 2.1362 - game_outcome_mean_absolute_error: 1.1487 - loss: nan - player_goals_loss: nan\n",
      "Epoch 20/100\n",
      "\u001b[1m35/35\u001b[0m \u001b[32m━━━━━━━━━━━━━━━━━━━━\u001b[0m\u001b[37m\u001b[0m \u001b[1m0s\u001b[0m 4ms/step - game_outcome_loss: 2.1766 - game_outcome_mean_absolute_error: 1.1238 - loss: nan - player_goals_loss: nan\n",
      "Epoch 21/100\n",
      "\u001b[1m35/35\u001b[0m \u001b[32m━━━━━━━━━━━━━━━━━━━━\u001b[0m\u001b[37m\u001b[0m \u001b[1m0s\u001b[0m 4ms/step - game_outcome_loss: 1.8797 - game_outcome_mean_absolute_error: 1.0787 - loss: nan - player_goals_loss: nan\n",
      "Epoch 22/100\n",
      "\u001b[1m35/35\u001b[0m \u001b[32m━━━━━━━━━━━━━━━━━━━━\u001b[0m\u001b[37m\u001b[0m \u001b[1m0s\u001b[0m 5ms/step - game_outcome_loss: 1.9223 - game_outcome_mean_absolute_error: 1.0891 - loss: nan - player_goals_loss: nan\n",
      "Epoch 23/100\n",
      "\u001b[1m35/35\u001b[0m \u001b[32m━━━━━━━━━━━━━━━━━━━━\u001b[0m\u001b[37m\u001b[0m \u001b[1m0s\u001b[0m 4ms/step - game_outcome_loss: 1.9072 - game_outcome_mean_absolute_error: 1.0921 - loss: nan - player_goals_loss: nan\n",
      "Epoch 24/100\n",
      "\u001b[1m35/35\u001b[0m \u001b[32m━━━━━━━━━━━━━━━━━━━━\u001b[0m\u001b[37m\u001b[0m \u001b[1m0s\u001b[0m 4ms/step - game_outcome_loss: 1.8936 - game_outcome_mean_absolute_error: 1.0609 - loss: nan - player_goals_loss: nan\n",
      "Epoch 25/100\n",
      "\u001b[1m35/35\u001b[0m \u001b[32m━━━━━━━━━━━━━━━━━━━━\u001b[0m\u001b[37m\u001b[0m \u001b[1m0s\u001b[0m 4ms/step - game_outcome_loss: 1.7904 - game_outcome_mean_absolute_error: 1.0515 - loss: nan - player_goals_loss: nan\n",
      "Epoch 26/100\n",
      "\u001b[1m35/35\u001b[0m \u001b[32m━━━━━━━━━━━━━━━━━━━━\u001b[0m\u001b[37m\u001b[0m \u001b[1m0s\u001b[0m 4ms/step - game_outcome_loss: 1.8390 - game_outcome_mean_absolute_error: 1.0682 - loss: nan - player_goals_loss: nan\n",
      "Epoch 27/100\n",
      "\u001b[1m35/35\u001b[0m \u001b[32m━━━━━━━━━━━━━━━━━━━━\u001b[0m\u001b[37m\u001b[0m \u001b[1m0s\u001b[0m 4ms/step - game_outcome_loss: 1.6997 - game_outcome_mean_absolute_error: 1.0382 - loss: nan - player_goals_loss: nan\n",
      "Epoch 28/100\n",
      "\u001b[1m35/35\u001b[0m \u001b[32m━━━━━━━━━━━━━━━━━━━━\u001b[0m\u001b[37m\u001b[0m \u001b[1m0s\u001b[0m 4ms/step - game_outcome_loss: 1.7648 - game_outcome_mean_absolute_error: 1.0546 - loss: nan - player_goals_loss: nan\n",
      "Epoch 29/100\n",
      "\u001b[1m35/35\u001b[0m \u001b[32m━━━━━━━━━━━━━━━━━━━━\u001b[0m\u001b[37m\u001b[0m \u001b[1m0s\u001b[0m 4ms/step - game_outcome_loss: 1.6546 - game_outcome_mean_absolute_error: 1.0065 - loss: nan - player_goals_loss: nan\n",
      "Epoch 30/100\n",
      "\u001b[1m35/35\u001b[0m \u001b[32m━━━━━━━━━━━━━━━━━━━━\u001b[0m\u001b[37m\u001b[0m \u001b[1m0s\u001b[0m 4ms/step - game_outcome_loss: 1.5477 - game_outcome_mean_absolute_error: 0.9961 - loss: nan - player_goals_loss: nan\n",
      "Epoch 31/100\n",
      "\u001b[1m35/35\u001b[0m \u001b[32m━━━━━━━━━━━━━━━━━━━━\u001b[0m\u001b[37m\u001b[0m \u001b[1m0s\u001b[0m 4ms/step - game_outcome_loss: 1.5879 - game_outcome_mean_absolute_error: 0.9966 - loss: nan - player_goals_loss: nan\n",
      "Epoch 32/100\n",
      "\u001b[1m35/35\u001b[0m \u001b[32m━━━━━━━━━━━━━━━━━━━━\u001b[0m\u001b[37m\u001b[0m \u001b[1m0s\u001b[0m 4ms/step - game_outcome_loss: 1.5964 - game_outcome_mean_absolute_error: 1.0026 - loss: nan - player_goals_loss: nan\n",
      "Epoch 33/100\n",
      "\u001b[1m35/35\u001b[0m \u001b[32m━━━━━━━━━━━━━━━━━━━━\u001b[0m\u001b[37m\u001b[0m \u001b[1m0s\u001b[0m 4ms/step - game_outcome_loss: 1.5350 - game_outcome_mean_absolute_error: 0.9683 - loss: nan - player_goals_loss: nan\n",
      "Epoch 34/100\n",
      "\u001b[1m35/35\u001b[0m \u001b[32m━━━━━━━━━━━━━━━━━━━━\u001b[0m\u001b[37m\u001b[0m \u001b[1m0s\u001b[0m 4ms/step - game_outcome_loss: 1.5785 - game_outcome_mean_absolute_error: 0.9689 - loss: nan - player_goals_loss: nan\n",
      "Epoch 35/100\n",
      "\u001b[1m35/35\u001b[0m \u001b[32m━━━━━━━━━━━━━━━━━━━━\u001b[0m\u001b[37m\u001b[0m \u001b[1m0s\u001b[0m 5ms/step - game_outcome_loss: 1.5975 - game_outcome_mean_absolute_error: 0.9835 - loss: nan - player_goals_loss: nan\n",
      "Epoch 36/100\n",
      "\u001b[1m35/35\u001b[0m \u001b[32m━━━━━━━━━━━━━━━━━━━━\u001b[0m\u001b[37m\u001b[0m \u001b[1m0s\u001b[0m 4ms/step - game_outcome_loss: 1.6395 - game_outcome_mean_absolute_error: 1.0195 - loss: nan - player_goals_loss: nan\n",
      "Epoch 37/100\n",
      "\u001b[1m35/35\u001b[0m \u001b[32m━━━━━━━━━━━━━━━━━━━━\u001b[0m\u001b[37m\u001b[0m \u001b[1m0s\u001b[0m 4ms/step - game_outcome_loss: 1.4940 - game_outcome_mean_absolute_error: 0.9662 - loss: nan - player_goals_loss: nan\n",
      "Epoch 38/100\n",
      "\u001b[1m35/35\u001b[0m \u001b[32m━━━━━━━━━━━━━━━━━━━━\u001b[0m\u001b[37m\u001b[0m \u001b[1m0s\u001b[0m 4ms/step - game_outcome_loss: 1.7477 - game_outcome_mean_absolute_error: 1.0017 - loss: nan - player_goals_loss: nan\n",
      "Epoch 39/100\n",
      "\u001b[1m35/35\u001b[0m \u001b[32m━━━━━━━━━━━━━━━━━━━━\u001b[0m\u001b[37m\u001b[0m \u001b[1m0s\u001b[0m 6ms/step - game_outcome_loss: 1.4396 - game_outcome_mean_absolute_error: 0.9203 - loss: nan - player_goals_loss: nan\n",
      "Epoch 40/100\n",
      "\u001b[1m35/35\u001b[0m \u001b[32m━━━━━━━━━━━━━━━━━━━━\u001b[0m\u001b[37m\u001b[0m \u001b[1m0s\u001b[0m 4ms/step - game_outcome_loss: 1.4341 - game_outcome_mean_absolute_error: 0.9347 - loss: nan - player_goals_loss: nan\n",
      "Epoch 41/100\n",
      "\u001b[1m35/35\u001b[0m \u001b[32m━━━━━━━━━━━━━━━━━━━━\u001b[0m\u001b[37m\u001b[0m \u001b[1m0s\u001b[0m 5ms/step - game_outcome_loss: 1.3895 - game_outcome_mean_absolute_error: 0.9234 - loss: nan - player_goals_loss: nan\n",
      "Epoch 42/100\n",
      "\u001b[1m35/35\u001b[0m \u001b[32m━━━━━━━━━━━━━━━━━━━━\u001b[0m\u001b[37m\u001b[0m \u001b[1m0s\u001b[0m 4ms/step - game_outcome_loss: 1.3342 - game_outcome_mean_absolute_error: 0.9077 - loss: nan - player_goals_loss: nan\n",
      "Epoch 43/100\n",
      "\u001b[1m35/35\u001b[0m \u001b[32m━━━━━━━━━━━━━━━━━━━━\u001b[0m\u001b[37m\u001b[0m \u001b[1m0s\u001b[0m 4ms/step - game_outcome_loss: 1.2606 - game_outcome_mean_absolute_error: 0.8910 - loss: nan - player_goals_loss: nan\n",
      "Epoch 44/100\n",
      "\u001b[1m35/35\u001b[0m \u001b[32m━━━━━━━━━━━━━━━━━━━━\u001b[0m\u001b[37m\u001b[0m \u001b[1m0s\u001b[0m 4ms/step - game_outcome_loss: 1.3224 - game_outcome_mean_absolute_error: 0.9097 - loss: nan - player_goals_loss: nan\n",
      "Epoch 45/100\n",
      "\u001b[1m35/35\u001b[0m \u001b[32m━━━━━━━━━━━━━━━━━━━━\u001b[0m\u001b[37m\u001b[0m \u001b[1m0s\u001b[0m 4ms/step - game_outcome_loss: 1.3413 - game_outcome_mean_absolute_error: 0.9014 - loss: nan - player_goals_loss: nan\n",
      "Epoch 46/100\n",
      "\u001b[1m35/35\u001b[0m \u001b[32m━━━━━━━━━━━━━━━━━━━━\u001b[0m\u001b[37m\u001b[0m \u001b[1m0s\u001b[0m 4ms/step - game_outcome_loss: 1.4496 - game_outcome_mean_absolute_error: 0.9129 - loss: nan - player_goals_loss: nan\n",
      "Epoch 47/100\n",
      "\u001b[1m35/35\u001b[0m \u001b[32m━━━━━━━━━━━━━━━━━━━━\u001b[0m\u001b[37m\u001b[0m \u001b[1m0s\u001b[0m 4ms/step - game_outcome_loss: 1.3802 - game_outcome_mean_absolute_error: 0.9097 - loss: nan - player_goals_loss: nan\n",
      "Epoch 48/100\n",
      "\u001b[1m35/35\u001b[0m \u001b[32m━━━━━━━━━━━━━━━━━━━━\u001b[0m\u001b[37m\u001b[0m \u001b[1m0s\u001b[0m 4ms/step - game_outcome_loss: 1.3650 - game_outcome_mean_absolute_error: 0.9375 - loss: nan - player_goals_loss: nan\n",
      "Epoch 49/100\n",
      "\u001b[1m35/35\u001b[0m \u001b[32m━━━━━━━━━━━━━━━━━━━━\u001b[0m\u001b[37m\u001b[0m \u001b[1m0s\u001b[0m 4ms/step - game_outcome_loss: 1.2423 - game_outcome_mean_absolute_error: 0.8587 - loss: nan - player_goals_loss: nan\n",
      "Epoch 50/100\n",
      "\u001b[1m35/35\u001b[0m \u001b[32m━━━━━━━━━━━━━━━━━━━━\u001b[0m\u001b[37m\u001b[0m \u001b[1m0s\u001b[0m 4ms/step - game_outcome_loss: 1.2790 - game_outcome_mean_absolute_error: 0.8845 - loss: nan - player_goals_loss: nan\n",
      "Epoch 51/100\n",
      "\u001b[1m35/35\u001b[0m \u001b[32m━━━━━━━━━━━━━━━━━━━━\u001b[0m\u001b[37m\u001b[0m \u001b[1m0s\u001b[0m 4ms/step - game_outcome_loss: 1.2412 - game_outcome_mean_absolute_error: 0.8829 - loss: nan - player_goals_loss: nan\n",
      "Epoch 52/100\n",
      "\u001b[1m35/35\u001b[0m \u001b[32m━━━━━━━━━━━━━━━━━━━━\u001b[0m\u001b[37m\u001b[0m \u001b[1m0s\u001b[0m 4ms/step - game_outcome_loss: 1.1926 - game_outcome_mean_absolute_error: 0.8543 - loss: nan - player_goals_loss: nan\n",
      "Epoch 53/100\n",
      "\u001b[1m35/35\u001b[0m \u001b[32m━━━━━━━━━━━━━━━━━━━━\u001b[0m\u001b[37m\u001b[0m \u001b[1m0s\u001b[0m 4ms/step - game_outcome_loss: 1.3152 - game_outcome_mean_absolute_error: 0.8683 - loss: nan - player_goals_loss: nan\n",
      "Epoch 54/100\n",
      "\u001b[1m35/35\u001b[0m \u001b[32m━━━━━━━━━━━━━━━━━━━━\u001b[0m\u001b[37m\u001b[0m \u001b[1m0s\u001b[0m 4ms/step - game_outcome_loss: 1.1410 - game_outcome_mean_absolute_error: 0.8263 - loss: nan - player_goals_loss: nan\n",
      "Epoch 55/100\n",
      "\u001b[1m35/35\u001b[0m \u001b[32m━━━━━━━━━━━━━━━━━━━━\u001b[0m\u001b[37m\u001b[0m \u001b[1m0s\u001b[0m 4ms/step - game_outcome_loss: 1.2356 - game_outcome_mean_absolute_error: 0.8468 - loss: nan - player_goals_loss: nan\n",
      "Epoch 56/100\n",
      "\u001b[1m35/35\u001b[0m \u001b[32m━━━━━━━━━━━━━━━━━━━━\u001b[0m\u001b[37m\u001b[0m \u001b[1m0s\u001b[0m 4ms/step - game_outcome_loss: 1.1363 - game_outcome_mean_absolute_error: 0.8194 - loss: nan - player_goals_loss: nan\n",
      "Epoch 57/100\n",
      "\u001b[1m35/35\u001b[0m \u001b[32m━━━━━━━━━━━━━━━━━━━━\u001b[0m\u001b[37m\u001b[0m \u001b[1m0s\u001b[0m 4ms/step - game_outcome_loss: 1.1071 - game_outcome_mean_absolute_error: 0.8273 - loss: nan - player_goals_loss: nan\n",
      "Epoch 58/100\n",
      "\u001b[1m35/35\u001b[0m \u001b[32m━━━━━━━━━━━━━━━━━━━━\u001b[0m\u001b[37m\u001b[0m \u001b[1m0s\u001b[0m 4ms/step - game_outcome_loss: 1.1376 - game_outcome_mean_absolute_error: 0.8590 - loss: nan - player_goals_loss: nan\n",
      "Epoch 59/100\n",
      "\u001b[1m35/35\u001b[0m \u001b[32m━━━━━━━━━━━━━━━━━━━━\u001b[0m\u001b[37m\u001b[0m \u001b[1m0s\u001b[0m 6ms/step - game_outcome_loss: 1.1117 - game_outcome_mean_absolute_error: 0.8249 - loss: nan - player_goals_loss: nan\n",
      "Epoch 60/100\n",
      "\u001b[1m35/35\u001b[0m \u001b[32m━━━━━━━━━━━━━━━━━━━━\u001b[0m\u001b[37m\u001b[0m \u001b[1m0s\u001b[0m 4ms/step - game_outcome_loss: 1.1569 - game_outcome_mean_absolute_error: 0.8289 - loss: nan - player_goals_loss: nan\n",
      "Epoch 61/100\n",
      "\u001b[1m35/35\u001b[0m \u001b[32m━━━━━━━━━━━━━━━━━━━━\u001b[0m\u001b[37m\u001b[0m \u001b[1m0s\u001b[0m 4ms/step - game_outcome_loss: 1.3396 - game_outcome_mean_absolute_error: 0.8561 - loss: nan - player_goals_loss: nan\n",
      "Epoch 62/100\n",
      "\u001b[1m35/35\u001b[0m \u001b[32m━━━━━━━━━━━━━━━━━━━━\u001b[0m\u001b[37m\u001b[0m \u001b[1m0s\u001b[0m 4ms/step - game_outcome_loss: 0.9935 - game_outcome_mean_absolute_error: 0.7753 - loss: nan - player_goals_loss: nan\n",
      "Epoch 63/100\n",
      "\u001b[1m35/35\u001b[0m \u001b[32m━━━━━━━━━━━━━━━━━━━━\u001b[0m\u001b[37m\u001b[0m \u001b[1m0s\u001b[0m 4ms/step - game_outcome_loss: 1.0648 - game_outcome_mean_absolute_error: 0.8254 - loss: nan - player_goals_loss: nan\n",
      "Epoch 64/100\n",
      "\u001b[1m35/35\u001b[0m \u001b[32m━━━━━━━━━━━━━━━━━━━━\u001b[0m\u001b[37m\u001b[0m \u001b[1m0s\u001b[0m 4ms/step - game_outcome_loss: 1.0503 - game_outcome_mean_absolute_error: 0.7993 - loss: nan - player_goals_loss: nan\n",
      "Epoch 65/100\n",
      "\u001b[1m35/35\u001b[0m \u001b[32m━━━━━━━━━━━━━━━━━━━━\u001b[0m\u001b[37m\u001b[0m \u001b[1m0s\u001b[0m 4ms/step - game_outcome_loss: 1.0977 - game_outcome_mean_absolute_error: 0.8216 - loss: nan - player_goals_loss: nan\n",
      "Epoch 66/100\n",
      "\u001b[1m35/35\u001b[0m \u001b[32m━━━━━━━━━━━━━━━━━━━━\u001b[0m\u001b[37m\u001b[0m \u001b[1m0s\u001b[0m 4ms/step - game_outcome_loss: 1.0906 - game_outcome_mean_absolute_error: 0.7964 - loss: nan - player_goals_loss: nan\n",
      "Epoch 67/100\n",
      "\u001b[1m35/35\u001b[0m \u001b[32m━━━━━━━━━━━━━━━━━━━━\u001b[0m\u001b[37m\u001b[0m \u001b[1m0s\u001b[0m 4ms/step - game_outcome_loss: 0.9641 - game_outcome_mean_absolute_error: 0.7646 - loss: nan - player_goals_loss: nan\n",
      "Epoch 68/100\n",
      "\u001b[1m35/35\u001b[0m \u001b[32m━━━━━━━━━━━━━━━━━━━━\u001b[0m\u001b[37m\u001b[0m \u001b[1m0s\u001b[0m 4ms/step - game_outcome_loss: 1.1094 - game_outcome_mean_absolute_error: 0.8072 - loss: nan - player_goals_loss: nan\n",
      "Epoch 69/100\n",
      "\u001b[1m35/35\u001b[0m \u001b[32m━━━━━━━━━━━━━━━━━━━━\u001b[0m\u001b[37m\u001b[0m \u001b[1m0s\u001b[0m 4ms/step - game_outcome_loss: 1.1040 - game_outcome_mean_absolute_error: 0.8117 - loss: nan - player_goals_loss: nan\n",
      "Epoch 70/100\n",
      "\u001b[1m35/35\u001b[0m \u001b[32m━━━━━━━━━━━━━━━━━━━━\u001b[0m\u001b[37m\u001b[0m \u001b[1m0s\u001b[0m 4ms/step - game_outcome_loss: 1.0566 - game_outcome_mean_absolute_error: 0.7979 - loss: nan - player_goals_loss: nan\n",
      "Epoch 71/100\n",
      "\u001b[1m35/35\u001b[0m \u001b[32m━━━━━━━━━━━━━━━━━━━━\u001b[0m\u001b[37m\u001b[0m \u001b[1m0s\u001b[0m 4ms/step - game_outcome_loss: 0.9823 - game_outcome_mean_absolute_error: 0.7638 - loss: nan - player_goals_loss: nan\n",
      "Epoch 72/100\n",
      "\u001b[1m35/35\u001b[0m \u001b[32m━━━━━━━━━━━━━━━━━━━━\u001b[0m\u001b[37m\u001b[0m \u001b[1m0s\u001b[0m 4ms/step - game_outcome_loss: 0.9343 - game_outcome_mean_absolute_error: 0.7507 - loss: nan - player_goals_loss: nan\n",
      "Epoch 73/100\n",
      "\u001b[1m35/35\u001b[0m \u001b[32m━━━━━━━━━━━━━━━━━━━━\u001b[0m\u001b[37m\u001b[0m \u001b[1m0s\u001b[0m 4ms/step - game_outcome_loss: 1.0085 - game_outcome_mean_absolute_error: 0.7960 - loss: nan - player_goals_loss: nan\n",
      "Epoch 74/100\n",
      "\u001b[1m35/35\u001b[0m \u001b[32m━━━━━━━━━━━━━━━━━━━━\u001b[0m\u001b[37m\u001b[0m \u001b[1m0s\u001b[0m 4ms/step - game_outcome_loss: 0.9797 - game_outcome_mean_absolute_error: 0.7622 - loss: nan - player_goals_loss: nan\n",
      "Epoch 75/100\n",
      "\u001b[1m35/35\u001b[0m \u001b[32m━━━━━━━━━━━━━━━━━━━━\u001b[0m\u001b[37m\u001b[0m \u001b[1m0s\u001b[0m 4ms/step - game_outcome_loss: 1.0723 - game_outcome_mean_absolute_error: 0.7957 - loss: nan - player_goals_loss: nan\n",
      "Epoch 76/100\n",
      "\u001b[1m35/35\u001b[0m \u001b[32m━━━━━━━━━━━━━━━━━━━━\u001b[0m\u001b[37m\u001b[0m \u001b[1m0s\u001b[0m 6ms/step - game_outcome_loss: 0.8953 - game_outcome_mean_absolute_error: 0.7514 - loss: nan - player_goals_loss: nan\n",
      "Epoch 77/100\n",
      "\u001b[1m35/35\u001b[0m \u001b[32m━━━━━━━━━━━━━━━━━━━━\u001b[0m\u001b[37m\u001b[0m \u001b[1m0s\u001b[0m 4ms/step - game_outcome_loss: 1.0009 - game_outcome_mean_absolute_error: 0.7650 - loss: nan - player_goals_loss: nan\n",
      "Epoch 78/100\n",
      "\u001b[1m35/35\u001b[0m \u001b[32m━━━━━━━━━━━━━━━━━━━━\u001b[0m\u001b[37m\u001b[0m \u001b[1m0s\u001b[0m 4ms/step - game_outcome_loss: 0.9358 - game_outcome_mean_absolute_error: 0.7493 - loss: nan - player_goals_loss: nan\n",
      "Epoch 79/100\n",
      "\u001b[1m35/35\u001b[0m \u001b[32m━━━━━━━━━━━━━━━━━━━━\u001b[0m\u001b[37m\u001b[0m \u001b[1m0s\u001b[0m 4ms/step - game_outcome_loss: 0.9186 - game_outcome_mean_absolute_error: 0.7457 - loss: nan - player_goals_loss: nan\n",
      "Epoch 80/100\n",
      "\u001b[1m35/35\u001b[0m \u001b[32m━━━━━━━━━━━━━━━━━━━━\u001b[0m\u001b[37m\u001b[0m \u001b[1m0s\u001b[0m 4ms/step - game_outcome_loss: 0.9753 - game_outcome_mean_absolute_error: 0.7753 - loss: nan - player_goals_loss: nan\n",
      "Epoch 81/100\n",
      "\u001b[1m35/35\u001b[0m \u001b[32m━━━━━━━━━━━━━━━━━━━━\u001b[0m\u001b[37m\u001b[0m \u001b[1m0s\u001b[0m 4ms/step - game_outcome_loss: 0.9889 - game_outcome_mean_absolute_error: 0.7781 - loss: nan - player_goals_loss: nan\n",
      "Epoch 82/100\n",
      "\u001b[1m35/35\u001b[0m \u001b[32m━━━━━━━━━━━━━━━━━━━━\u001b[0m\u001b[37m\u001b[0m \u001b[1m0s\u001b[0m 4ms/step - game_outcome_loss: 0.8976 - game_outcome_mean_absolute_error: 0.7327 - loss: nan - player_goals_loss: nan\n",
      "Epoch 83/100\n",
      "\u001b[1m35/35\u001b[0m \u001b[32m━━━━━━━━━━━━━━━━━━━━\u001b[0m\u001b[37m\u001b[0m \u001b[1m0s\u001b[0m 4ms/step - game_outcome_loss: 0.9313 - game_outcome_mean_absolute_error: 0.7481 - loss: nan - player_goals_loss: nan\n",
      "Epoch 84/100\n",
      "\u001b[1m35/35\u001b[0m \u001b[32m━━━━━━━━━━━━━━━━━━━━\u001b[0m\u001b[37m\u001b[0m \u001b[1m0s\u001b[0m 4ms/step - game_outcome_loss: 0.9436 - game_outcome_mean_absolute_error: 0.7476 - loss: nan - player_goals_loss: nan\n",
      "Epoch 85/100\n",
      "\u001b[1m35/35\u001b[0m \u001b[32m━━━━━━━━━━━━━━━━━━━━\u001b[0m\u001b[37m\u001b[0m \u001b[1m0s\u001b[0m 4ms/step - game_outcome_loss: 0.8933 - game_outcome_mean_absolute_error: 0.7318 - loss: nan - player_goals_loss: nan\n",
      "Epoch 86/100\n",
      "\u001b[1m35/35\u001b[0m \u001b[32m━━━━━━━━━━━━━━━━━━━━\u001b[0m\u001b[37m\u001b[0m \u001b[1m0s\u001b[0m 11ms/step - game_outcome_loss: 0.9777 - game_outcome_mean_absolute_error: 0.7554 - loss: nan - player_goals_loss: nan\n",
      "Epoch 87/100\n",
      "\u001b[1m35/35\u001b[0m \u001b[32m━━━━━━━━━━━━━━━━━━━━\u001b[0m\u001b[37m\u001b[0m \u001b[1m0s\u001b[0m 4ms/step - game_outcome_loss: 0.9334 - game_outcome_mean_absolute_error: 0.7435 - loss: nan - player_goals_loss: nan\n",
      "Epoch 88/100\n",
      "\u001b[1m35/35\u001b[0m \u001b[32m━━━━━━━━━━━━━━━━━━━━\u001b[0m\u001b[37m\u001b[0m \u001b[1m0s\u001b[0m 4ms/step - game_outcome_loss: 0.8523 - game_outcome_mean_absolute_error: 0.7405 - loss: nan - player_goals_loss: nan\n",
      "Epoch 89/100\n",
      "\u001b[1m35/35\u001b[0m \u001b[32m━━━━━━━━━━━━━━━━━━━━\u001b[0m\u001b[37m\u001b[0m \u001b[1m0s\u001b[0m 4ms/step - game_outcome_loss: 0.9271 - game_outcome_mean_absolute_error: 0.7620 - loss: nan - player_goals_loss: nan\n",
      "Epoch 90/100\n",
      "\u001b[1m35/35\u001b[0m \u001b[32m━━━━━━━━━━━━━━━━━━━━\u001b[0m\u001b[37m\u001b[0m \u001b[1m0s\u001b[0m 6ms/step - game_outcome_loss: 0.8839 - game_outcome_mean_absolute_error: 0.7260 - loss: nan - player_goals_loss: nan\n",
      "Epoch 91/100\n",
      "\u001b[1m35/35\u001b[0m \u001b[32m━━━━━━━━━━━━━━━━━━━━\u001b[0m\u001b[37m\u001b[0m \u001b[1m0s\u001b[0m 4ms/step - game_outcome_loss: 0.8672 - game_outcome_mean_absolute_error: 0.7337 - loss: nan - player_goals_loss: nan\n",
      "Epoch 92/100\n",
      "\u001b[1m35/35\u001b[0m \u001b[32m━━━━━━━━━━━━━━━━━━━━\u001b[0m\u001b[37m\u001b[0m \u001b[1m0s\u001b[0m 4ms/step - game_outcome_loss: 0.8399 - game_outcome_mean_absolute_error: 0.7022 - loss: nan - player_goals_loss: nan\n",
      "Epoch 93/100\n",
      "\u001b[1m35/35\u001b[0m \u001b[32m━━━━━━━━━━━━━━━━━━━━\u001b[0m\u001b[37m\u001b[0m \u001b[1m0s\u001b[0m 4ms/step - game_outcome_loss: 0.9456 - game_outcome_mean_absolute_error: 0.7288 - loss: nan - player_goals_loss: nan\n",
      "Epoch 94/100\n",
      "\u001b[1m35/35\u001b[0m \u001b[32m━━━━━━━━━━━━━━━━━━━━\u001b[0m\u001b[37m\u001b[0m \u001b[1m0s\u001b[0m 4ms/step - game_outcome_loss: 0.9052 - game_outcome_mean_absolute_error: 0.7438 - loss: nan - player_goals_loss: nan\n",
      "Epoch 95/100\n",
      "\u001b[1m35/35\u001b[0m \u001b[32m━━━━━━━━━━━━━━━━━━━━\u001b[0m\u001b[37m\u001b[0m \u001b[1m0s\u001b[0m 4ms/step - game_outcome_loss: 0.8493 - game_outcome_mean_absolute_error: 0.7193 - loss: nan - player_goals_loss: nan\n",
      "Epoch 96/100\n",
      "\u001b[1m35/35\u001b[0m \u001b[32m━━━━━━━━━━━━━━━━━━━━\u001b[0m\u001b[37m\u001b[0m \u001b[1m0s\u001b[0m 4ms/step - game_outcome_loss: 0.8382 - game_outcome_mean_absolute_error: 0.7187 - loss: nan - player_goals_loss: nan\n",
      "Epoch 97/100\n",
      "\u001b[1m35/35\u001b[0m \u001b[32m━━━━━━━━━━━━━━━━━━━━\u001b[0m\u001b[37m\u001b[0m \u001b[1m0s\u001b[0m 4ms/step - game_outcome_loss: 0.9423 - game_outcome_mean_absolute_error: 0.7018 - loss: nan - player_goals_loss: nan\n",
      "Epoch 98/100\n",
      "\u001b[1m35/35\u001b[0m \u001b[32m━━━━━━━━━━━━━━━━━━━━\u001b[0m\u001b[37m\u001b[0m \u001b[1m0s\u001b[0m 4ms/step - game_outcome_loss: 0.7909 - game_outcome_mean_absolute_error: 0.6908 - loss: nan - player_goals_loss: nan\n",
      "Epoch 99/100\n",
      "\u001b[1m35/35\u001b[0m \u001b[32m━━━━━━━━━━━━━━━━━━━━\u001b[0m\u001b[37m\u001b[0m \u001b[1m0s\u001b[0m 4ms/step - game_outcome_loss: 0.8656 - game_outcome_mean_absolute_error: 0.7100 - loss: nan - player_goals_loss: nan\n",
      "Epoch 100/100\n",
      "\u001b[1m35/35\u001b[0m \u001b[32m━━━━━━━━━━━━━━━━━━━━\u001b[0m\u001b[37m\u001b[0m \u001b[1m0s\u001b[0m 4ms/step - game_outcome_loss: 0.7847 - game_outcome_mean_absolute_error: 0.6995 - loss: nan - player_goals_loss: nan\n"
     ]
    },
    {
     "data": {
      "text/plain": [
       "<keras.src.callbacks.history.History at 0x323fd7e60>"
      ]
     },
     "execution_count": 155,
     "metadata": {},
     "output_type": "execute_result"
    }
   ],
   "source": [
    "final_model = build_model(NUM_PLAYERS, PLAYER_EMB_DIM, MAX_TEAM_SIZE)\n",
    "final_model.fit(\n",
    "    [teamA_data, teamB_data], [outcomes, scaled_player_goals],\n",
    "    epochs=100, batch_size=32, verbose=1\n",
    ")\n"
   ]
  },
  {
   "cell_type": "code",
   "execution_count": null,
   "id": "47788d70-7198-474e-be56-fbea8f0af128",
   "metadata": {},
   "outputs": [],
   "source": []
  },
  {
   "cell_type": "markdown",
   "id": "43120009-27cc-4269-9ad3-3055b150ae11",
   "metadata": {
    "jp-MarkdownHeadingCollapsed": true
   },
   "source": [
    "## Predicting for the match"
   ]
  },
  {
   "cell_type": "code",
   "execution_count": 60,
   "id": "5a834ebb-3739-4835-b3ad-a7188f0490d5",
   "metadata": {},
   "outputs": [
    {
     "data": {
      "text/plain": [
       "[15, 17, 13, 1, 3, 2, 4]"
      ]
     },
     "execution_count": 60,
     "metadata": {},
     "output_type": "execute_result"
    }
   ],
   "source": [
    "teamA_players = [vitalii_zhebrakovksy, loginov_dmitrii, ivan, andrey_spiridonov, andrey_larionov, andrey_trubicin, veselin]   # player IDs for Team A\n",
    "teamB_players = [sanya, roman, denys, andrey_spiridonov, andrey_selifonov, oleksandr, alex_akimov]      # player IDs for Team B\n",
    "teamA_players"
   ]
  },
  {
   "cell_type": "code",
   "execution_count": 30,
   "id": "f059fcaf-6c19-4935-855d-dd3d355e1807",
   "metadata": {
    "collapsed": true,
    "jupyter": {
     "outputs_hidden": true
    }
   },
   "outputs": [
    {
     "ename": "AttributeError",
     "evalue": "'list' object has no attribute 'shape'",
     "output_type": "error",
     "traceback": [
      "\u001b[31m---------------------------------------------------------------------------\u001b[39m",
      "\u001b[31mAttributeError\u001b[39m                            Traceback (most recent call last)",
      "\u001b[36mCell\u001b[39m\u001b[36m \u001b[39m\u001b[32mIn[30]\u001b[39m\u001b[32m, line 9\u001b[39m\n\u001b[32m      6\u001b[39m     padded = players + [\u001b[32m0\u001b[39m]*(max_size - \u001b[38;5;28mlen\u001b[39m(players))\n\u001b[32m      7\u001b[39m     \u001b[38;5;28;01mreturn\u001b[39;00m np.array(padded)\n\u001b[32m----> \u001b[39m\u001b[32m9\u001b[39m teamA_input = \u001b[43mpad_team\u001b[49m\u001b[43m(\u001b[49m\u001b[43mteamA_players\u001b[49m\u001b[43m,\u001b[49m\u001b[43m \u001b[49m\u001b[43mMAX_TEAM_SIZE\u001b[49m\u001b[43m)\u001b[49m\n\u001b[32m     10\u001b[39m teamB_input = pad_team(teamB_players, MAX_TEAM_SIZE)\n\u001b[32m     12\u001b[39m \u001b[38;5;66;03m# Add batch dimension: shape (1, MAX_TEAM_SIZE)\u001b[39;00m\n",
      "\u001b[36mCell\u001b[39m\u001b[36m \u001b[39m\u001b[32mIn[30]\u001b[39m\u001b[32m, line 5\u001b[39m, in \u001b[36mpad_team\u001b[39m\u001b[34m(players, max_size)\u001b[39m\n\u001b[32m      4\u001b[39m \u001b[38;5;28;01mdef\u001b[39;00m\u001b[38;5;250m \u001b[39m\u001b[34mpad_team\u001b[39m(players, max_size):\n\u001b[32m----> \u001b[39m\u001b[32m5\u001b[39m     \u001b[38;5;28mprint\u001b[39m(\u001b[43mplayers\u001b[49m\u001b[43m.\u001b[49m\u001b[43mshape\u001b[49m)\n\u001b[32m      6\u001b[39m     padded = players + [\u001b[32m0\u001b[39m]*(max_size - \u001b[38;5;28mlen\u001b[39m(players))\n\u001b[32m      7\u001b[39m     \u001b[38;5;28;01mreturn\u001b[39;00m np.array(padded)\n",
      "\u001b[31mAttributeError\u001b[39m: 'list' object has no attribute 'shape'"
     ]
    }
   ],
   "source": [
    "\n",
    "MAX_TEAM_SIZE = 9  # Should match model's expected size\n",
    "\n",
    "# Pad teams to MAX_TEAM_SIZE with 0 (mask token)\n",
    "def pad_team(players, max_size):\n",
    "    padded = players + [0]*(max_size - len(players))\n",
    "    return np.array(padded)\n",
    "\n",
    "teamA_input = pad_team(teamA_players, MAX_TEAM_SIZE)\n",
    "teamB_input = pad_team(teamB_players, MAX_TEAM_SIZE)\n",
    "\n",
    "# Add batch dimension: shape (1, MAX_TEAM_SIZE)\n",
    "teamA_input = np.expand_dims(teamA_input, axis=0)\n",
    "teamB_input = np.expand_dims(teamB_input, axis=0)\n",
    "\n",
    "# Predict using the trained model\n",
    "prediction = model.predict([teamA_input, teamB_input])\n",
    "print(prediction)\n",
    "# If model output is sigmoid probability of Team A win:\n",
    "# prob_teamA_wins = prediction[0][0]\n",
    "\n",
    "# print(f\"Predicted probability that Team A wins: {prob_teamA_wins:.3f}\")\n",
    "\n",
    "# # Optional: Decide class label\n",
    "# predicted_label = 1 if prob_teamA_wins > 0.5 else 0\n",
    "# print(\"Predicted winner:\", \"Team A\" if predicted_label == 1 else \"Team B\")\n"
   ]
  },
  {
   "cell_type": "code",
   "execution_count": 244,
   "id": "292ac828-9f31-48cd-8436-bb24239d7cdf",
   "metadata": {},
   "outputs": [],
   "source": [
    "\n",
    "# teamA_pls = teamA_players\n",
    "# print(\" Team A players: \", teamA_pls)\n",
    "# teamA_str = player_strengths[teamA_pls]\n",
    "# print(f\" Team A palyers' stregths:{teamA_str}, Total: {teamA_str.sum()}\")\n",
    "\n",
    "# teamB_pls = teamB_players\n",
    "# print(\" Team B players: \", teamB_pls)\n",
    "# teamB_str = player_strengths[teamB_pls]\n",
    "# print(f\" Team B palyers' stregths:{teamB_str}, Total: {teamB_str.sum()}\")\n",
    "# # print(\" Label (Team A wins=1):\", outcomes[i])"
   ]
  },
  {
   "cell_type": "code",
   "execution_count": 67,
   "id": "e266c2a0-ec4e-413e-813f-2103a055ec88",
   "metadata": {
    "jupyter": {
     "source_hidden": true
    }
   },
   "outputs": [],
   "source": [
    "# outcome = teamA_strength - teamB_strength\n",
    "# competition_res = 1 if outcome > 0 else 0\n",
    "# competition_res"
   ]
  },
  {
   "cell_type": "markdown",
   "id": "152c5dc8-78f0-4ece-bde8-b2e4514d8881",
   "metadata": {
    "jp-MarkdownHeadingCollapsed": true
   },
   "source": [
    "## Checking embeddings for player-zero didn't change"
   ]
  },
  {
   "cell_type": "code",
   "execution_count": 46,
   "id": "69737de0-f6dd-4db1-81b3-27781ff5a8c1",
   "metadata": {},
   "outputs": [
    {
     "name": "stdout",
     "output_type": "stream",
     "text": [
      "[array([[-0.13323195, -0.00096944,  0.13194087, ...,  0.06002998,\n",
      "        -0.12077236,  0.21608105],\n",
      "       [ 0.25799596,  0.14437412, -0.12090246, ...,  0.2338862 ,\n",
      "        -0.22508083,  0.27917218],\n",
      "       [ 0.05737278, -0.18427649,  0.0448258 , ...,  0.03547481,\n",
      "         0.11724964,  0.01851659],\n",
      "       ...,\n",
      "       [-0.24211977,  0.14603835, -0.07750341, ...,  0.14155856,\n",
      "        -0.20976669, -0.02695062],\n",
      "       [ 0.20007047,  0.16510814,  0.03071143, ..., -0.04832422,\n",
      "         0.1226583 , -0.12132613],\n",
      "       [ 0.22340769,  0.16554756,  0.26984534, ...,  0.07564413,\n",
      "        -0.07597711, -0.22517112]], dtype=float32)]\n",
      "Embedding vector for player zero after training: [-0.13323195 -0.00096944  0.13194087 -0.29381505 -0.25805488  0.07750148\n",
      "  0.15615395 -0.20011973 -0.22736615 -0.27393228  0.27099267 -0.16506381\n",
      " -0.01375294 -0.15520269  0.13752416  0.16476852  0.02260321 -0.20287587\n",
      "  0.00171983 -0.1837469  -0.28457138 -0.11464813 -0.01568022  0.03661951\n",
      "  0.19812527  0.05595043 -0.11006211  0.16076088 -0.22917882  0.06002998\n",
      " -0.12077236  0.21608105]\n"
     ]
    }
   ],
   "source": [
    "player_embedding_layer = final_model.get_layer(\"player_embedding\")\n",
    "print(player_embedding_layer.get_weights())\n",
    "embeddings_after = player_embedding_layer.get_weights()[0]\n",
    "print(\"Embedding vector for player zero after training:\", embeddings_after[0])"
   ]
  },
  {
   "cell_type": "markdown",
   "id": "78cbd871-e050-4c66-9a86-efd29b6169fa",
   "metadata": {},
   "source": [
    "[-5.07739708e-02 -4.36284972e-06  4.96770889e-02 -2.01140255e-01\n",
    " -1.66482732e-01  9.76330414e-03  7.08238930e-02 -1.11250795e-01\n",
    " -1.37040332e-01 -1.81832418e-01  1.78985596e-01 -7.88500682e-02\n",
    "  6.81006131e-05 -6.99735954e-02  5.44489920e-02  7.85823390e-02\n",
    "  1.21108722e-04 -1.13840222e-01  8.64824688e-06 -9.59808752e-02\n",
    " -1.92153260e-01 -3.54439728e-02  9.12378673e-05 -2.82771420e-04\n",
    "  1.09380044e-01  1.10181991e-03 -3.18431519e-02  7.49605969e-02\n",
    " -1.38769433e-01  2.19749822e-03 -4.03767787e-02  1.26310453e-01]"
   ]
  },
  {
   "cell_type": "code",
   "execution_count": 47,
   "id": "401fedc0-c4e4-40ca-ae35-28a7c591e8a0",
   "metadata": {
    "collapsed": true,
    "jupyter": {
     "outputs_hidden": true
    }
   },
   "outputs": [
    {
     "ename": "NameError",
     "evalue": "name 'embeddings_before' is not defined",
     "output_type": "error",
     "traceback": [
      "\u001b[31m---------------------------------------------------------------------------\u001b[39m",
      "\u001b[31mNameError\u001b[39m                                 Traceback (most recent call last)",
      "\u001b[36mCell\u001b[39m\u001b[36m \u001b[39m\u001b[32mIn[47]\u001b[39m\u001b[32m, line 1\u001b[39m\n\u001b[32m----> \u001b[39m\u001b[32m1\u001b[39m change = np.linalg.norm(embeddings_after[\u001b[32m0\u001b[39m] - \u001b[43membeddings_before\u001b[49m[\u001b[32m0\u001b[39m])\n\u001b[32m      2\u001b[39m \u001b[38;5;28mprint\u001b[39m(\u001b[33m\"\u001b[39m\u001b[33mChange in player zero embedding vector:\u001b[39m\u001b[33m\"\u001b[39m, change)\n",
      "\u001b[31mNameError\u001b[39m: name 'embeddings_before' is not defined"
     ]
    }
   ],
   "source": [
    "change = np.linalg.norm(embeddings_after[0] - embeddings_before[0])\n",
    "print(\"Change in player zero embedding vector:\", change)"
   ]
  },
  {
   "cell_type": "markdown",
   "id": "805c50f3-5539-45e2-906c-3020a96fc3b0",
   "metadata": {},
   "source": [
    "## Extracting embeddings of players"
   ]
  },
  {
   "cell_type": "code",
   "execution_count": 156,
   "id": "587acf16-124f-477f-811e-bab61b6688f1",
   "metadata": {},
   "outputs": [
    {
     "name": "stdout",
     "output_type": "stream",
     "text": [
      "(32, 32)\n"
     ]
    }
   ],
   "source": [
    "# Direct reference to layer\n",
    "player_embedding_layer = final_model.get_layer(\"player_embedding\")\n",
    "player_embeddings = player_embedding_layer.get_weights()[0]\n",
    "print(player_embeddings.shape)  # (NUM_PLAYERS, PLAYER_EMB_DIM)\n",
    "\n",
    "player_embeddings_wzp = player_embeddings[1:, :]\n",
    "player_strengths_estimates_wzp = player_strengths_estimates[1:]"
   ]
  },
  {
   "cell_type": "code",
   "execution_count": 157,
   "id": "a2b15743-fc52-4a27-9d4c-b68d483b0ae3",
   "metadata": {},
   "outputs": [
    {
     "name": "stdout",
     "output_type": "stream",
     "text": [
      "32\n",
      "(32, 32)\n"
     ]
    }
   ],
   "source": [
    "print(player_embedding_layer.input_dim)  # should show actual input_dim in the model\n",
    "print(player_embedding_layer.embeddings.shape)  "
   ]
  },
  {
   "cell_type": "markdown",
   "id": "9eab6fe6-3124-4101-be14-41f5f39fbebf",
   "metadata": {},
   "source": [
    "## Try to initialize embeddings based on content based similarity.\n",
    "\n",
    "TODO Use MPS(not sure) manifold approach to get initial embeddings"
   ]
  },
  {
   "cell_type": "markdown",
   "id": "62c8fe56-8ce5-40fc-ac70-396c8929e696",
   "metadata": {},
   "source": [
    "## UMAP and visualizing players in 3D"
   ]
  },
  {
   "cell_type": "code",
   "execution_count": 158,
   "id": "c821ad50-ddaa-4197-9c4b-d9d81dbc810c",
   "metadata": {},
   "outputs": [
    {
     "name": "stdout",
     "output_type": "stream",
     "text": [
      "x_min: 11.561052322387695 x_max: 14.246432304382324\n",
      "y_min: 8.627099990844727 y_max: 11.023767471313477\n",
      "z_min: -3.824582576751709 z_max: -1.2832655906677246\n"
     ]
    },
    {
     "name": "stderr",
     "output_type": "stream",
     "text": [
      "/opt/anaconda3/envs/footballman/lib/python3.12/site-packages/umap/umap_.py:1952: UserWarning:\n",
      "\n",
      "n_jobs value 1 overridden to 1 by setting random_state. Use no seed for parallelism.\n",
      "\n"
     ]
    },
    {
     "data": {
      "application/vnd.plotly.v1+json": {
       "config": {
        "plotlyServerURL": "https://plot.ly"
       },
       "data": [
        {
         "color": "lightblue",
         "i": [
          0,
          0
         ],
         "j": [
          1,
          2
         ],
         "k": [
          2,
          3
         ],
         "name": "Rhombus",
         "opacity": 0.5,
         "type": "mesh3d",
         "x": [
          11.561052322387695,
          11.561052322387695,
          14.246432304382324,
          14.246432304382324
         ],
         "y": [
          8.627099990844727,
          11.023767471313477,
          11.023767471313477,
          8.627099990844727
         ],
         "z": [
          -2.553924083709717,
          -3.824582576751709,
          -2.553924083709717,
          -1.2832655906677246
         ]
        },
        {
         "hoverinfo": "text",
         "marker": {
          "color": {
           "bdata": "AAAAAAAAI0AAAAAAAAAiQAAAAAAAABRAAAAAAAAAGEAAAAAAAAAhQAAAAAAAABpAAAAAAAAAHkAAAAAAAAAaQAAAAAAAABBAAAAAAAAAHEAAAAAAAAAYQAAAAAAAABpAAAAAAACAIkAAAAAAAAASQAAAAAAAABtAAAAAAACAIkAAAAAAAAAhQAAAAAAAAB5AAAAAAAAAI0AAAAAAAAAUQAAAAAAAABZAAAAAAAAAFkAAAAAAAAAjQAAAAAAAgCFAAAAAAAAAGkAAAAAAAAAgQAAAAAAAABxAAAAAAAAAHkAAAAAAAAAgQAAAAAAAABxAAAAAAAAAGkA=",
           "dtype": "f8"
          },
          "colorbar": {
           "title": {
            "text": "Strength"
           }
          },
          "colorscale": [
           [
            0,
            "#440154"
           ],
           [
            0.1111111111111111,
            "#482878"
           ],
           [
            0.2222222222222222,
            "#3e4989"
           ],
           [
            0.3333333333333333,
            "#31688e"
           ],
           [
            0.4444444444444444,
            "#26828e"
           ],
           [
            0.5555555555555556,
            "#1f9e89"
           ],
           [
            0.6666666666666666,
            "#35b779"
           ],
           [
            0.7777777777777778,
            "#6ece58"
           ],
           [
            0.8888888888888888,
            "#b5de2b"
           ],
           [
            1,
            "#fde725"
           ]
          ],
          "opacity": 0.8,
          "size": 7
         },
         "mode": "markers+text",
         "text": [
          "Andrey Spiridonov",
          "Andrey Trubicin",
          "Andrey Larionov",
          "Veselin",
          "Fedor",
          "Andrey Selifonov",
          "Dmitro Ilchenko",
          "Sergii Kolbasin",
          "Vlad",
          "Pavel Karacharov",
          "Sanya",
          "Roman",
          "Ivan",
          "Denys",
          "Vitalii Zhebrakovksy",
          "Oleksandr",
          "Loginov Dmitrii",
          "Artem Bykov",
          "Kirill",
          "Bondarev Yurii",
          "Gundars Mednis",
          "Alexandr Mikhailov",
          "Pedro Ispanec",
          "Dimon Sirnik Lozuk",
          "Sergey Konovalov",
          "Vladimir Chavskiy",
          "Alex Akimov",
          "Andrey",
          "Sanya DrugIlchenko",
          "Vitalik goalkeeper",
          "Dimon Melkii"
         ],
         "type": "scatter3d",
         "x": {
          "bdata": "4UlQQee+V0Flfj5BzoVMQWRLT0GR50ZBDf5BQX+wR0ES+jhBc65IQYtiREFeyk9BmkVTQVRdQEHfuVRBB+ZaQeCdXEH+NFRBE0FUQYrgW0G6CVxBiVdTQXn3X0Gpgl1B0LlSQaDJV0Fj8WNBss9fQUrjV0GZklRBdyE9QQ==",
          "dtype": "f4"
         },
         "y": {
          "bdata": "c7UiQXkEHEHhSCNBqlEOQbcMF0Ex8yRBlJMnQQnXDkER+SRBYdMfQbtTHUEaoSNBiiYVQczDFEGaCApB65EaQdPjIUFaYTBBHbcXQVuTD0FbwRBBsjwpQVSWKkGDagxBpaAZQTRsLkGz8xNBJzseQV58JUFQ6htBi5MuQQ==",
          "dtype": "f4"
         },
         "z": {
          "bdata": "8cZbwNd7/78rzSXAxqtCwHSG1r+Ai0jAqzb5v6KBF8CEngvALuCwv4YJA8CsjzTArPNMwGzbBcDF9yzAfOtuwNErV8B+pBTA9sV0wOwKScAoVu+/lQj+vwIhN8Ag0h3ADEKkvxXtTsAr5wzADQ8vwDCBur8BeC7A0goQwA==",
          "dtype": "f4"
         }
        }
       ],
       "layout": {
        "height": 900,
        "scene": {
         "xaxis": {
          "title": {
           "text": "X"
          }
         },
         "yaxis": {
          "title": {
           "text": "Y"
          }
         },
         "zaxis": {
          "title": {
           "text": "Z"
          }
         }
        },
        "template": {
         "data": {
          "bar": [
           {
            "error_x": {
             "color": "#2a3f5f"
            },
            "error_y": {
             "color": "#2a3f5f"
            },
            "marker": {
             "line": {
              "color": "#E5ECF6",
              "width": 0.5
             },
             "pattern": {
              "fillmode": "overlay",
              "size": 10,
              "solidity": 0.2
             }
            },
            "type": "bar"
           }
          ],
          "barpolar": [
           {
            "marker": {
             "line": {
              "color": "#E5ECF6",
              "width": 0.5
             },
             "pattern": {
              "fillmode": "overlay",
              "size": 10,
              "solidity": 0.2
             }
            },
            "type": "barpolar"
           }
          ],
          "carpet": [
           {
            "aaxis": {
             "endlinecolor": "#2a3f5f",
             "gridcolor": "white",
             "linecolor": "white",
             "minorgridcolor": "white",
             "startlinecolor": "#2a3f5f"
            },
            "baxis": {
             "endlinecolor": "#2a3f5f",
             "gridcolor": "white",
             "linecolor": "white",
             "minorgridcolor": "white",
             "startlinecolor": "#2a3f5f"
            },
            "type": "carpet"
           }
          ],
          "choropleth": [
           {
            "colorbar": {
             "outlinewidth": 0,
             "ticks": ""
            },
            "type": "choropleth"
           }
          ],
          "contour": [
           {
            "colorbar": {
             "outlinewidth": 0,
             "ticks": ""
            },
            "colorscale": [
             [
              0,
              "#0d0887"
             ],
             [
              0.1111111111111111,
              "#46039f"
             ],
             [
              0.2222222222222222,
              "#7201a8"
             ],
             [
              0.3333333333333333,
              "#9c179e"
             ],
             [
              0.4444444444444444,
              "#bd3786"
             ],
             [
              0.5555555555555556,
              "#d8576b"
             ],
             [
              0.6666666666666666,
              "#ed7953"
             ],
             [
              0.7777777777777778,
              "#fb9f3a"
             ],
             [
              0.8888888888888888,
              "#fdca26"
             ],
             [
              1,
              "#f0f921"
             ]
            ],
            "type": "contour"
           }
          ],
          "contourcarpet": [
           {
            "colorbar": {
             "outlinewidth": 0,
             "ticks": ""
            },
            "type": "contourcarpet"
           }
          ],
          "heatmap": [
           {
            "colorbar": {
             "outlinewidth": 0,
             "ticks": ""
            },
            "colorscale": [
             [
              0,
              "#0d0887"
             ],
             [
              0.1111111111111111,
              "#46039f"
             ],
             [
              0.2222222222222222,
              "#7201a8"
             ],
             [
              0.3333333333333333,
              "#9c179e"
             ],
             [
              0.4444444444444444,
              "#bd3786"
             ],
             [
              0.5555555555555556,
              "#d8576b"
             ],
             [
              0.6666666666666666,
              "#ed7953"
             ],
             [
              0.7777777777777778,
              "#fb9f3a"
             ],
             [
              0.8888888888888888,
              "#fdca26"
             ],
             [
              1,
              "#f0f921"
             ]
            ],
            "type": "heatmap"
           }
          ],
          "histogram": [
           {
            "marker": {
             "pattern": {
              "fillmode": "overlay",
              "size": 10,
              "solidity": 0.2
             }
            },
            "type": "histogram"
           }
          ],
          "histogram2d": [
           {
            "colorbar": {
             "outlinewidth": 0,
             "ticks": ""
            },
            "colorscale": [
             [
              0,
              "#0d0887"
             ],
             [
              0.1111111111111111,
              "#46039f"
             ],
             [
              0.2222222222222222,
              "#7201a8"
             ],
             [
              0.3333333333333333,
              "#9c179e"
             ],
             [
              0.4444444444444444,
              "#bd3786"
             ],
             [
              0.5555555555555556,
              "#d8576b"
             ],
             [
              0.6666666666666666,
              "#ed7953"
             ],
             [
              0.7777777777777778,
              "#fb9f3a"
             ],
             [
              0.8888888888888888,
              "#fdca26"
             ],
             [
              1,
              "#f0f921"
             ]
            ],
            "type": "histogram2d"
           }
          ],
          "histogram2dcontour": [
           {
            "colorbar": {
             "outlinewidth": 0,
             "ticks": ""
            },
            "colorscale": [
             [
              0,
              "#0d0887"
             ],
             [
              0.1111111111111111,
              "#46039f"
             ],
             [
              0.2222222222222222,
              "#7201a8"
             ],
             [
              0.3333333333333333,
              "#9c179e"
             ],
             [
              0.4444444444444444,
              "#bd3786"
             ],
             [
              0.5555555555555556,
              "#d8576b"
             ],
             [
              0.6666666666666666,
              "#ed7953"
             ],
             [
              0.7777777777777778,
              "#fb9f3a"
             ],
             [
              0.8888888888888888,
              "#fdca26"
             ],
             [
              1,
              "#f0f921"
             ]
            ],
            "type": "histogram2dcontour"
           }
          ],
          "mesh3d": [
           {
            "colorbar": {
             "outlinewidth": 0,
             "ticks": ""
            },
            "type": "mesh3d"
           }
          ],
          "parcoords": [
           {
            "line": {
             "colorbar": {
              "outlinewidth": 0,
              "ticks": ""
             }
            },
            "type": "parcoords"
           }
          ],
          "pie": [
           {
            "automargin": true,
            "type": "pie"
           }
          ],
          "scatter": [
           {
            "fillpattern": {
             "fillmode": "overlay",
             "size": 10,
             "solidity": 0.2
            },
            "type": "scatter"
           }
          ],
          "scatter3d": [
           {
            "line": {
             "colorbar": {
              "outlinewidth": 0,
              "ticks": ""
             }
            },
            "marker": {
             "colorbar": {
              "outlinewidth": 0,
              "ticks": ""
             }
            },
            "type": "scatter3d"
           }
          ],
          "scattercarpet": [
           {
            "marker": {
             "colorbar": {
              "outlinewidth": 0,
              "ticks": ""
             }
            },
            "type": "scattercarpet"
           }
          ],
          "scattergeo": [
           {
            "marker": {
             "colorbar": {
              "outlinewidth": 0,
              "ticks": ""
             }
            },
            "type": "scattergeo"
           }
          ],
          "scattergl": [
           {
            "marker": {
             "colorbar": {
              "outlinewidth": 0,
              "ticks": ""
             }
            },
            "type": "scattergl"
           }
          ],
          "scattermap": [
           {
            "marker": {
             "colorbar": {
              "outlinewidth": 0,
              "ticks": ""
             }
            },
            "type": "scattermap"
           }
          ],
          "scattermapbox": [
           {
            "marker": {
             "colorbar": {
              "outlinewidth": 0,
              "ticks": ""
             }
            },
            "type": "scattermapbox"
           }
          ],
          "scatterpolar": [
           {
            "marker": {
             "colorbar": {
              "outlinewidth": 0,
              "ticks": ""
             }
            },
            "type": "scatterpolar"
           }
          ],
          "scatterpolargl": [
           {
            "marker": {
             "colorbar": {
              "outlinewidth": 0,
              "ticks": ""
             }
            },
            "type": "scatterpolargl"
           }
          ],
          "scatterternary": [
           {
            "marker": {
             "colorbar": {
              "outlinewidth": 0,
              "ticks": ""
             }
            },
            "type": "scatterternary"
           }
          ],
          "surface": [
           {
            "colorbar": {
             "outlinewidth": 0,
             "ticks": ""
            },
            "colorscale": [
             [
              0,
              "#0d0887"
             ],
             [
              0.1111111111111111,
              "#46039f"
             ],
             [
              0.2222222222222222,
              "#7201a8"
             ],
             [
              0.3333333333333333,
              "#9c179e"
             ],
             [
              0.4444444444444444,
              "#bd3786"
             ],
             [
              0.5555555555555556,
              "#d8576b"
             ],
             [
              0.6666666666666666,
              "#ed7953"
             ],
             [
              0.7777777777777778,
              "#fb9f3a"
             ],
             [
              0.8888888888888888,
              "#fdca26"
             ],
             [
              1,
              "#f0f921"
             ]
            ],
            "type": "surface"
           }
          ],
          "table": [
           {
            "cells": {
             "fill": {
              "color": "#EBF0F8"
             },
             "line": {
              "color": "white"
             }
            },
            "header": {
             "fill": {
              "color": "#C8D4E3"
             },
             "line": {
              "color": "white"
             }
            },
            "type": "table"
           }
          ]
         },
         "layout": {
          "annotationdefaults": {
           "arrowcolor": "#2a3f5f",
           "arrowhead": 0,
           "arrowwidth": 1
          },
          "autotypenumbers": "strict",
          "coloraxis": {
           "colorbar": {
            "outlinewidth": 0,
            "ticks": ""
           }
          },
          "colorscale": {
           "diverging": [
            [
             0,
             "#8e0152"
            ],
            [
             0.1,
             "#c51b7d"
            ],
            [
             0.2,
             "#de77ae"
            ],
            [
             0.3,
             "#f1b6da"
            ],
            [
             0.4,
             "#fde0ef"
            ],
            [
             0.5,
             "#f7f7f7"
            ],
            [
             0.6,
             "#e6f5d0"
            ],
            [
             0.7,
             "#b8e186"
            ],
            [
             0.8,
             "#7fbc41"
            ],
            [
             0.9,
             "#4d9221"
            ],
            [
             1,
             "#276419"
            ]
           ],
           "sequential": [
            [
             0,
             "#0d0887"
            ],
            [
             0.1111111111111111,
             "#46039f"
            ],
            [
             0.2222222222222222,
             "#7201a8"
            ],
            [
             0.3333333333333333,
             "#9c179e"
            ],
            [
             0.4444444444444444,
             "#bd3786"
            ],
            [
             0.5555555555555556,
             "#d8576b"
            ],
            [
             0.6666666666666666,
             "#ed7953"
            ],
            [
             0.7777777777777778,
             "#fb9f3a"
            ],
            [
             0.8888888888888888,
             "#fdca26"
            ],
            [
             1,
             "#f0f921"
            ]
           ],
           "sequentialminus": [
            [
             0,
             "#0d0887"
            ],
            [
             0.1111111111111111,
             "#46039f"
            ],
            [
             0.2222222222222222,
             "#7201a8"
            ],
            [
             0.3333333333333333,
             "#9c179e"
            ],
            [
             0.4444444444444444,
             "#bd3786"
            ],
            [
             0.5555555555555556,
             "#d8576b"
            ],
            [
             0.6666666666666666,
             "#ed7953"
            ],
            [
             0.7777777777777778,
             "#fb9f3a"
            ],
            [
             0.8888888888888888,
             "#fdca26"
            ],
            [
             1,
             "#f0f921"
            ]
           ]
          },
          "colorway": [
           "#636efa",
           "#EF553B",
           "#00cc96",
           "#ab63fa",
           "#FFA15A",
           "#19d3f3",
           "#FF6692",
           "#B6E880",
           "#FF97FF",
           "#FECB52"
          ],
          "font": {
           "color": "#2a3f5f"
          },
          "geo": {
           "bgcolor": "white",
           "lakecolor": "white",
           "landcolor": "#E5ECF6",
           "showlakes": true,
           "showland": true,
           "subunitcolor": "white"
          },
          "hoverlabel": {
           "align": "left"
          },
          "hovermode": "closest",
          "mapbox": {
           "style": "light"
          },
          "paper_bgcolor": "white",
          "plot_bgcolor": "#E5ECF6",
          "polar": {
           "angularaxis": {
            "gridcolor": "white",
            "linecolor": "white",
            "ticks": ""
           },
           "bgcolor": "#E5ECF6",
           "radialaxis": {
            "gridcolor": "white",
            "linecolor": "white",
            "ticks": ""
           }
          },
          "scene": {
           "xaxis": {
            "backgroundcolor": "#E5ECF6",
            "gridcolor": "white",
            "gridwidth": 2,
            "linecolor": "white",
            "showbackground": true,
            "ticks": "",
            "zerolinecolor": "white"
           },
           "yaxis": {
            "backgroundcolor": "#E5ECF6",
            "gridcolor": "white",
            "gridwidth": 2,
            "linecolor": "white",
            "showbackground": true,
            "ticks": "",
            "zerolinecolor": "white"
           },
           "zaxis": {
            "backgroundcolor": "#E5ECF6",
            "gridcolor": "white",
            "gridwidth": 2,
            "linecolor": "white",
            "showbackground": true,
            "ticks": "",
            "zerolinecolor": "white"
           }
          },
          "shapedefaults": {
           "line": {
            "color": "#2a3f5f"
           }
          },
          "ternary": {
           "aaxis": {
            "gridcolor": "white",
            "linecolor": "white",
            "ticks": ""
           },
           "baxis": {
            "gridcolor": "white",
            "linecolor": "white",
            "ticks": ""
           },
           "bgcolor": "#E5ECF6",
           "caxis": {
            "gridcolor": "white",
            "linecolor": "white",
            "ticks": ""
           }
          },
          "title": {
           "x": 0.05
          },
          "xaxis": {
           "automargin": true,
           "gridcolor": "white",
           "linecolor": "white",
           "ticks": "",
           "title": {
            "standoff": 15
           },
           "zerolinecolor": "white",
           "zerolinewidth": 2
          },
          "yaxis": {
           "automargin": true,
           "gridcolor": "white",
           "linecolor": "white",
           "ticks": "",
           "title": {
            "standoff": 15
           },
           "zerolinecolor": "white",
           "zerolinewidth": 2
          }
         }
        },
        "title": {
         "text": "3D UMAP projection of player embeddings"
        },
        "width": 1000
       }
      },
      "image/png": "[encoded data removed]"
     },
     "metadata": {},
     "output_type": "display_data"
    }
   ],
   "source": [
    "import numpy as np\n",
    "import umap\n",
    "import matplotlib.pyplot as plt\n",
    "import plotly.graph_objs as go\n",
    "\n",
    "# Generate test embeddings and outcomes (replace these with actual data)\n",
    "labels_points = [f'{name}' for name in team_members_with_ids.values()]\n",
    "\n",
    "\n",
    "# Embed to 3D\n",
    "reducer = umap.UMAP(n_components=3, random_state=42)\n",
    "embeddings_3d = reducer.fit_transform(player_embeddings_wzp)\n",
    "\n",
    "x_emb = embeddings_3d[:, 0]\n",
    "y_emb = embeddings_3d[:, 1]\n",
    "z_emb = embeddings_3d[:, 2]\n",
    "\n",
    "x_min = np.min(x_emb)\n",
    "x_max = np.max(x_emb)\n",
    "y_min = np.min(y_emb)\n",
    "y_max = np.max(y_emb)\n",
    "z_min = np.min(z_emb)\n",
    "z_max = np.max(z_emb)\n",
    "\n",
    "# Create interactive 3D scatter plot\n",
    "scatter = go.Scatter3d(\n",
    "        x=x_emb,\n",
    "        y=y_emb,\n",
    "        z=z_emb,\n",
    "        # mode='markers',\n",
    "        mode='markers+text',\n",
    "        marker=dict(\n",
    "            size=7,\n",
    "            color=player_strengths_estimates_wzp,       # Color by this array\n",
    "            colorscale='Viridis',         # Choose a colorscale\n",
    "            colorbar=dict(title='Strength'),\n",
    "            opacity=0.8\n",
    "        ),\n",
    "        text=labels_points,          # Hover labels\n",
    "        hoverinfo='text'\n",
    "    )\n",
    "print(f\"x_min: {x_min} x_max: {x_max}\")\n",
    "print(f\"y_min: {y_min} y_max: {y_max}\")\n",
    "print(f\"z_min: {z_min} z_max: {z_max}\")\n",
    "\n",
    "\n",
    "# Define the 3 corners of the triangle in 3D\n",
    "x_m = [x_min, x_min, x_max, x_max,]  # Replace with your corner x coordinates\n",
    "y_m = [y_min ,y_max, y_max, y_min]  # Replace with your corner y coordinates\n",
    "z_m = [(z_max + z_min) / 2 , z_min, (z_max + z_min) / 2 , z_max]  # Replace with your corner z coordinates\n",
    "\n",
    "\n",
    "# Define two triangles that form the rhombus\n",
    "i = [0, 0]  # first vertices of triangles\n",
    "j = [1, 2]  # second vertices of triangles\n",
    "k = [2, 3]  # third vertices of triangles\n",
    "\n",
    "# Create the Mesh3d object representing the triangle surface\n",
    "triangle_surface = go.Mesh3d(\n",
    "    x=x_m,\n",
    "    y=y_m,\n",
    "    z=z_m,\n",
    "    i=i,\n",
    "    j=j,\n",
    "    k=k,\n",
    "    color='lightblue',\n",
    "    opacity=0.5,\n",
    "    name='Rhombus'\n",
    ")\n",
    "\n",
    "# fig = go.Figure(data=[scatter, quivers])\n",
    "fig = go.Figure(data=[triangle_surface, scatter])\n",
    "\n",
    "\n",
    "fig.update_layout(\n",
    "    title=\"3D UMAP projection of player embeddings\",\n",
    "    width=1000,             # <-- Change this to your desired width in pixels\n",
    "    height=900,  \n",
    "    scene=dict(\n",
    "        xaxis_title=\"X\",\n",
    "        yaxis_title=\"Y\",\n",
    "        zaxis_title=\"Z\"\n",
    "    )\n",
    ")\n",
    "\n",
    "fig.show()\n"
   ]
  },
  {
   "cell_type": "code",
   "execution_count": null,
   "id": "43cfc378-18ec-4cbf-baad-a436f9b8e7c1",
   "metadata": {},
   "outputs": [],
   "source": []
  },
  {
   "cell_type": "code",
   "execution_count": null,
   "id": "1fc6735e-7ef7-4bcb-9d39-5eee7bf47984",
   "metadata": {},
   "outputs": [],
   "source": []
  },
  {
   "cell_type": "code",
   "execution_count": null,
   "id": "62f51176-596f-4f32-bc3c-2d652f2ae248",
   "metadata": {},
   "outputs": [],
   "source": []
  },
  {
   "cell_type": "code",
   "execution_count": 159,
   "id": "321b79a0-2da7-457a-a6ef-6d6c07ce96d2",
   "metadata": {},
   "outputs": [
    {
     "name": "stdout",
     "output_type": "stream",
     "text": [
      "(31,)\n",
      "(31, 3)\n",
      "Dimension 1 correlation with base strengths: r = 0.5249, p-value = 0.002434\n",
      "Dimension 2 correlation with base strengths: r = 0.0837, p-value = 0.6545\n",
      "Dimension 3 correlation with base strengths: r = -0.3662, p-value = 0.04276\n",
      "Average absolute correlation across 3 components: 0.3249\n"
     ]
    }
   ],
   "source": [
    "import numpy as np\n",
    "from scipy.stats import pearsonr\n",
    "\n",
    "# Assuming these variables from your setup:\n",
    "# player_strengths: numpy array of shape (num_players,)\n",
    "# embeddings_3d: numpy array of shape (num_players, 3) -- UMAP 3D projections\n",
    "\n",
    "num_players = player_strengths_estimates_wzp.shape[0] # NUM_PLAYERS ???\n",
    "correlations = []\n",
    "print(player_strengths_estimates_wzp.shape)\n",
    "print(embeddings_3d.shape)\n",
    "for dim in range(3):\n",
    "    corr, p_value = pearsonr(embeddings_3d[:, dim], player_strengths_estimates_wzp)\n",
    "    correlations.append((corr, p_value))\n",
    "    print(f\"Dimension {dim + 1} correlation with base strengths: r = {corr:.4f}, p-value = {p_value:.4g}\")\n",
    "\n",
    "# Optionally, compute average absolute correlation across all 3 dimensions\n",
    "avg_abs_corr = np.mean([abs(c[0]) for c in correlations])\n",
    "print(f\"Average absolute correlation across 3 components: {avg_abs_corr:.4f}\")\n"
   ]
  },
  {
   "cell_type": "markdown",
   "id": "f82155eb-96be-48d2-9ba8-b60f3850d3e0",
   "metadata": {},
   "source": [
    "## SHAP explanations"
   ]
  },
  {
   "cell_type": "code",
   "execution_count": 57,
   "id": "b220ad3d-c4fc-4f59-9d53-6849a6a812f6",
   "metadata": {},
   "outputs": [
    {
     "data": {
      "text/plain": [
       "'0.48.0'"
      ]
     },
     "execution_count": 57,
     "metadata": {},
     "output_type": "execute_result"
    }
   ],
   "source": [
    "import shap\n",
    "shap.__version__"
   ]
  },
  {
   "cell_type": "code",
   "execution_count": 58,
   "id": "890c9771-17f9-4081-8e0c-18315ab7cf41",
   "metadata": {
    "collapsed": true,
    "jupyter": {
     "outputs_hidden": true
    }
   },
   "outputs": [
    {
     "name": "stdout",
     "output_type": "stream",
     "text": [
      "(2, 19, 9)\n",
      "[array([[17,  1,  4, 22, 13,  0,  0,  0,  0],\n",
      "       [12, 16,  2, 14,  6,  4,  0,  0,  0],\n",
      "       [ 6, 12, 17,  2, 19, 30,  0,  0,  0],\n",
      "       [13, 18,  3, 16, 21,  4, 15,  1,  0],\n",
      "       [ 2, 17, 12,  8, 21,  0,  0,  0,  0],\n",
      "       [13, 20, 17,  3,  5,  1, 12, 24,  0],\n",
      "       [ 3, 15, 12,  1, 17,  8,  0,  0,  0],\n",
      "       [16,  5,  1, 17, 15, 10,  0,  0,  0],\n",
      "       [17, 27,  3, 16,  4, 28,  2,  0,  0],\n",
      "       [ 3, 21,  1, 17,  6,  0,  0,  0,  0],\n",
      "       [ 2,  5, 21, 23, 17,  0,  0,  0,  0],\n",
      "       [17, 24, 12, 11,  3,  8, 12, 14,  0],\n",
      "       [12,  1,  2, 13, 23, 14, 18,  0,  0],\n",
      "       [ 3, 16,  2,  4, 17, 19, 12, 23, 10],\n",
      "       [16,  9,  1, 18,  3,  2, 12, 20,  0],\n",
      "       [12,  2, 13,  1,  4,  9,  8,  6,  0],\n",
      "       [17, 22, 20, 10,  5,  7,  0,  0,  0],\n",
      "       [20,  7, 12,  2,  1,  9, 10, 18,  0],\n",
      "       [15, 17, 13,  1,  3,  2,  4,  0,  0]]), array([[19,  2, 16,  5, 14,  0,  0,  0,  0],\n",
      "       [27, 17,  3, 30, 18,  1,  0,  0,  0],\n",
      "       [16,  3,  8,  1, 10,  9,  0,  0,  0],\n",
      "       [ 2, 17, 24, 19, 27, 31, 12,  8,  0],\n",
      "       [ 1, 16,  9, 27, 15,  0,  0,  0,  0],\n",
      "       [16, 31,  6, 18,  2, 21, 23,  4,  0],\n",
      "       [16,  4,  6, 20, 27,  2,  0,  0,  0],\n",
      "       [23, 28,  2, 18, 12, 19,  0,  0,  0],\n",
      "       [20, 18, 13, 21,  6, 12,  1,  0,  0],\n",
      "       [16, 15,  2, 12, 14,  0,  0,  0,  0],\n",
      "       [13, 12, 22,  1,  6,  0,  0,  0,  0],\n",
      "       [ 4,  1,  2,  5, 23, 18, 28,  9,  0],\n",
      "       [20,  5, 19, 16,  3,  4, 17,  0,  0],\n",
      "       [13,  7,  1,  5, 18, 11, 29,  6, 22],\n",
      "       [13,  5, 17, 14,  7,  6,  8, 23,  0],\n",
      "       [14, 16,  7,  5, 18,  3, 17, 11,  0],\n",
      "       [16,  2, 28,  3, 18, 15,  0,  0,  0],\n",
      "       [17,  4, 13, 16, 15,  8, 14,  3,  0],\n",
      "       [11, 12, 14,  1,  6, 16, 27,  0,  0]])]\n"
     ]
    }
   ],
   "source": [
    "background = X\n",
    "print(np.array(background).shape)\n",
    "print(background) "
   ]
  },
  {
   "cell_type": "code",
   "execution_count": 59,
   "id": "627ee303-ae37-4445-9c43-f1b6013e3b34",
   "metadata": {},
   "outputs": [
    {
     "data": {
      "text/plain": [
       "(19, 18)"
      ]
     },
     "execution_count": 59,
     "metadata": {},
     "output_type": "execute_result"
    }
   ],
   "source": [
    "combined_background = np.concatenate(background, axis=1)  \n",
    "combined_background.shape"
   ]
  },
  {
   "cell_type": "code",
   "execution_count": 72,
   "id": "b5f6ca80-39da-4e6f-9bce-7690b1e10de2",
   "metadata": {
    "jupyter": {
     "source_hidden": true
    }
   },
   "outputs": [
    {
     "name": "stdout",
     "output_type": "stream",
     "text": [
      "\u001b[1m1/1\u001b[0m \u001b[32m━━━━━━━━━━━━━━━━━━━━\u001b[0m\u001b[37m\u001b[0m \u001b[1m0s\u001b[0m 39ms/step\n"
     ]
    },
    {
     "name": "stderr",
     "output_type": "stream",
     "text": [
      "2025-08-06 19:43:57.702208: E tensorflow/core/framework/node_def_util.cc:676] NodeDef mentions attribute use_unbounded_threadpool which is not in the op definition: Op<name=MapDataset; signature=input_dataset:variant, other_arguments: -> handle:variant; attr=f:func; attr=Targuments:list(type),min=0; attr=output_types:list(type),min=1; attr=output_shapes:list(shape),min=1; attr=use_inter_op_parallelism:bool,default=true; attr=preserve_cardinality:bool,default=false; attr=force_synchronous:bool,default=false; attr=metadata:string,default=\"\"> This may be expected if your graph generating binary is newer  than this binary. Unknown attributes will be ignored. NodeDef: {{node ParallelMapDatasetV2/_15}}\n",
      "2025-08-06 19:43:57.702702: E tensorflow/core/framework/node_def_util.cc:676] NodeDef mentions attribute use_unbounded_threadpool which is not in the op definition: Op<name=MapDataset; signature=input_dataset:variant, other_arguments: -> handle:variant; attr=f:func; attr=Targuments:list(type),min=0; attr=output_types:list(type),min=1; attr=output_shapes:list(shape),min=1; attr=use_inter_op_parallelism:bool,default=true; attr=preserve_cardinality:bool,default=false; attr=force_synchronous:bool,default=false; attr=metadata:string,default=\"\"> This may be expected if your graph generating binary is newer  than this binary. Unknown attributes will be ignored. NodeDef: {{node ParallelMapDatasetV2/_15}}\n"
     ]
    },
    {
     "name": "stdout",
     "output_type": "stream",
     "text": [
      "(19, 1)\n",
      "(19, 18)\n"
     ]
    },
    {
     "name": "stderr",
     "output_type": "stream",
     "text": [
      "  0%|                                                                                                                                                                                    | 0/19 [00:00<?, ?it/s]"
     ]
    },
    {
     "name": "stdout",
     "output_type": "stream",
     "text": [
      "\u001b[1m1/1\u001b[0m \u001b[32m━━━━━━━━━━━━━━━━━━━━\u001b[0m\u001b[37m\u001b[0m \u001b[1m0s\u001b[0m 15ms/step\n",
      "(1, 1)\n",
      "(1, 18)\n",
      "\u001b[1m1238/1238\u001b[0m \u001b[32m━━━━━━━━━━━━━━━━━━━━\u001b[0m\u001b[37m\u001b[0m \u001b[1m1s\u001b[0m 1ms/step\n"
     ]
    },
    {
     "name": "stderr",
     "output_type": "stream",
     "text": [
      "  5%|█████████                                                                                                                                                                   | 1/19 [00:01<00:29,  1.62s/it]"
     ]
    },
    {
     "name": "stdout",
     "output_type": "stream",
     "text": [
      "(39596, 1)\n",
      "(39596, 18)\n",
      "\u001b[1m1/1\u001b[0m \u001b[32m━━━━━━━━━━━━━━━━━━━━\u001b[0m\u001b[37m\u001b[0m \u001b[1m0s\u001b[0m 14ms/step\n",
      "(1, 1)\n",
      "(1, 18)\n",
      "\u001b[1m1238/1238\u001b[0m \u001b[32m━━━━━━━━━━━━━━━━━━━━\u001b[0m\u001b[37m\u001b[0m \u001b[1m1s\u001b[0m 1ms/step\n",
      "(39596, 1)\n",
      "(39596, 18)\n"
     ]
    },
    {
     "name": "stderr",
     "output_type": "stream",
     "text": [
      " 11%|██████████████████                                                                                                                                                          | 2/19 [00:03<00:27,  1.62s/it]"
     ]
    },
    {
     "name": "stdout",
     "output_type": "stream",
     "text": [
      "\u001b[1m1/1\u001b[0m \u001b[32m━━━━━━━━━━━━━━━━━━━━\u001b[0m\u001b[37m\u001b[0m \u001b[1m0s\u001b[0m 14ms/step\n",
      "(1, 1)\n",
      "(1, 18)\n",
      "\u001b[1m1238/1238\u001b[0m \u001b[32m━━━━━━━━━━━━━━━━━━━━\u001b[0m\u001b[37m\u001b[0m \u001b[1m1s\u001b[0m 1ms/step\n"
     ]
    },
    {
     "name": "stderr",
     "output_type": "stream",
     "text": [
      " 16%|███████████████████████████▏                                                                                                                                                | 3/19 [00:04<00:25,  1.61s/it]"
     ]
    },
    {
     "name": "stdout",
     "output_type": "stream",
     "text": [
      "(39596, 1)\n",
      "(39596, 18)\n",
      "\u001b[1m1/1\u001b[0m \u001b[32m━━━━━━━━━━━━━━━━━━━━\u001b[0m\u001b[37m\u001b[0m \u001b[1m0s\u001b[0m 14ms/step\n",
      "(1, 1)\n",
      "(1, 18)\n",
      "\u001b[1m1238/1238\u001b[0m \u001b[32m━━━━━━━━━━━━━━━━━━━━\u001b[0m\u001b[37m\u001b[0m \u001b[1m1s\u001b[0m 1ms/step\n",
      "(39596, 1)\n",
      "(39596, 18)\n"
     ]
    },
    {
     "name": "stderr",
     "output_type": "stream",
     "text": [
      " 21%|████████████████████████████████████▏                                                                                                                                       | 4/19 [00:06<00:24,  1.65s/it]"
     ]
    },
    {
     "name": "stdout",
     "output_type": "stream",
     "text": [
      "\u001b[1m1/1\u001b[0m \u001b[32m━━━━━━━━━━━━━━━━━━━━\u001b[0m\u001b[37m\u001b[0m \u001b[1m0s\u001b[0m 14ms/step\n",
      "(1, 1)\n",
      "(1, 18)\n",
      "\u001b[1m  85/1238\u001b[0m \u001b[32m━\u001b[0m\u001b[37m━━━━━━━━━━━━━━━━━━━\u001b[0m \u001b[1m1s\u001b[0m 1ms/step"
     ]
    },
    {
     "name": "stderr",
     "output_type": "stream",
     "text": [
      "2025-08-06 19:44:04.313758: E tensorflow/core/framework/node_def_util.cc:676] NodeDef mentions attribute use_unbounded_threadpool which is not in the op definition: Op<name=MapDataset; signature=input_dataset:variant, other_arguments: -> handle:variant; attr=f:func; attr=Targuments:list(type),min=0; attr=output_types:list(type),min=1; attr=output_shapes:list(shape),min=1; attr=use_inter_op_parallelism:bool,default=true; attr=preserve_cardinality:bool,default=false; attr=force_synchronous:bool,default=false; attr=metadata:string,default=\"\"> This may be expected if your graph generating binary is newer  than this binary. Unknown attributes will be ignored. NodeDef: {{node ParallelMapDatasetV2/_15}}\n",
      "2025-08-06 19:44:04.314005: E tensorflow/core/framework/node_def_util.cc:676] NodeDef mentions attribute use_unbounded_threadpool which is not in the op definition: Op<name=MapDataset; signature=input_dataset:variant, other_arguments: -> handle:variant; attr=f:func; attr=Targuments:list(type),min=0; attr=output_types:list(type),min=1; attr=output_shapes:list(shape),min=1; attr=use_inter_op_parallelism:bool,default=true; attr=preserve_cardinality:bool,default=false; attr=force_synchronous:bool,default=false; attr=metadata:string,default=\"\"> This may be expected if your graph generating binary is newer  than this binary. Unknown attributes will be ignored. NodeDef: {{node ParallelMapDatasetV2/_15}}\n"
     ]
    },
    {
     "name": "stdout",
     "output_type": "stream",
     "text": [
      "\u001b[1m1238/1238\u001b[0m \u001b[32m━━━━━━━━━━━━━━━━━━━━\u001b[0m\u001b[37m\u001b[0m \u001b[1m1s\u001b[0m 1ms/step\n"
     ]
    },
    {
     "name": "stderr",
     "output_type": "stream",
     "text": [
      " 26%|█████████████████████████████████████████████▎                                                                                                                              | 5/19 [00:08<00:23,  1.66s/it]"
     ]
    },
    {
     "name": "stdout",
     "output_type": "stream",
     "text": [
      "(39596, 1)\n",
      "(39596, 18)\n",
      "\u001b[1m1/1\u001b[0m \u001b[32m━━━━━━━━━━━━━━━━━━━━\u001b[0m\u001b[37m\u001b[0m \u001b[1m0s\u001b[0m 14ms/step\n",
      "(1, 1)\n",
      "(1, 18)\n",
      "\u001b[1m1238/1238\u001b[0m \u001b[32m━━━━━━━━━━━━━━━━━━━━\u001b[0m\u001b[37m\u001b[0m \u001b[1m1s\u001b[0m 1ms/step\n"
     ]
    },
    {
     "name": "stderr",
     "output_type": "stream",
     "text": [
      " 32%|██████████████████████████████████████████████████████▎                                                                                                                     | 6/19 [00:09<00:21,  1.67s/it]"
     ]
    },
    {
     "name": "stdout",
     "output_type": "stream",
     "text": [
      "(39596, 1)\n",
      "(39596, 18)\n",
      "\u001b[1m1/1\u001b[0m \u001b[32m━━━━━━━━━━━━━━━━━━━━\u001b[0m\u001b[37m\u001b[0m \u001b[1m0s\u001b[0m 14ms/step\n",
      "(1, 1)\n",
      "(1, 18)\n",
      "\u001b[1m1238/1238\u001b[0m \u001b[32m━━━━━━━━━━━━━━━━━━━━\u001b[0m\u001b[37m\u001b[0m \u001b[1m1s\u001b[0m 1ms/step\n"
     ]
    },
    {
     "name": "stderr",
     "output_type": "stream",
     "text": [
      " 37%|███████████████████████████████████████████████████████████████▎                                                                                                            | 7/19 [00:11<00:20,  1.68s/it]"
     ]
    },
    {
     "name": "stdout",
     "output_type": "stream",
     "text": [
      "(39596, 1)\n",
      "(39596, 18)\n",
      "\u001b[1m1/1\u001b[0m \u001b[32m━━━━━━━━━━━━━━━━━━━━\u001b[0m\u001b[37m\u001b[0m \u001b[1m0s\u001b[0m 14ms/step\n",
      "(1, 1)\n",
      "(1, 18)\n",
      "\u001b[1m  86/1238\u001b[0m \u001b[32m━\u001b[0m\u001b[37m━━━━━━━━━━━━━━━━━━━\u001b[0m \u001b[1m1s\u001b[0m 1ms/step"
     ]
    },
    {
     "name": "stderr",
     "output_type": "stream",
     "text": [
      "2025-08-06 19:44:09.361783: E tensorflow/core/framework/node_def_util.cc:676] NodeDef mentions attribute use_unbounded_threadpool which is not in the op definition: Op<name=MapDataset; signature=input_dataset:variant, other_arguments: -> handle:variant; attr=f:func; attr=Targuments:list(type),min=0; attr=output_types:list(type),min=1; attr=output_shapes:list(shape),min=1; attr=use_inter_op_parallelism:bool,default=true; attr=preserve_cardinality:bool,default=false; attr=force_synchronous:bool,default=false; attr=metadata:string,default=\"\"> This may be expected if your graph generating binary is newer  than this binary. Unknown attributes will be ignored. NodeDef: {{node ParallelMapDatasetV2/_15}}\n",
      "2025-08-06 19:44:09.362034: E tensorflow/core/framework/node_def_util.cc:676] NodeDef mentions attribute use_unbounded_threadpool which is not in the op definition: Op<name=MapDataset; signature=input_dataset:variant, other_arguments: -> handle:variant; attr=f:func; attr=Targuments:list(type),min=0; attr=output_types:list(type),min=1; attr=output_shapes:list(shape),min=1; attr=use_inter_op_parallelism:bool,default=true; attr=preserve_cardinality:bool,default=false; attr=force_synchronous:bool,default=false; attr=metadata:string,default=\"\"> This may be expected if your graph generating binary is newer  than this binary. Unknown attributes will be ignored. NodeDef: {{node ParallelMapDatasetV2/_15}}\n"
     ]
    },
    {
     "name": "stdout",
     "output_type": "stream",
     "text": [
      "\u001b[1m1238/1238\u001b[0m \u001b[32m━━━━━━━━━━━━━━━━━━━━\u001b[0m\u001b[37m\u001b[0m \u001b[1m1s\u001b[0m 1ms/step\n"
     ]
    },
    {
     "name": "stderr",
     "output_type": "stream",
     "text": [
      " 42%|████████████████████████████████████████████████████████████████████████▍                                                                                                   | 8/19 [00:13<00:18,  1.67s/it]"
     ]
    },
    {
     "name": "stdout",
     "output_type": "stream",
     "text": [
      "(39596, 1)\n",
      "(39596, 18)\n",
      "\u001b[1m1/1\u001b[0m \u001b[32m━━━━━━━━━━━━━━━━━━━━\u001b[0m\u001b[37m\u001b[0m \u001b[1m0s\u001b[0m 14ms/step\n",
      "(1, 1)\n",
      "(1, 18)\n",
      "\u001b[1m1238/1238\u001b[0m \u001b[32m━━━━━━━━━━━━━━━━━━━━\u001b[0m\u001b[37m\u001b[0m \u001b[1m1s\u001b[0m 1ms/step\n"
     ]
    },
    {
     "name": "stderr",
     "output_type": "stream",
     "text": [
      " 47%|█████████████████████████████████████████████████████████████████████████████████▍                                                                                          | 9/19 [00:14<00:16,  1.67s/it]"
     ]
    },
    {
     "name": "stdout",
     "output_type": "stream",
     "text": [
      "(39596, 1)\n",
      "(39596, 18)\n",
      "\u001b[1m1/1\u001b[0m \u001b[32m━━━━━━━━━━━━━━━━━━━━\u001b[0m\u001b[37m\u001b[0m \u001b[1m0s\u001b[0m 14ms/step\n",
      "(1, 1)\n",
      "(1, 18)\n",
      "\u001b[1m1238/1238\u001b[0m \u001b[32m━━━━━━━━━━━━━━━━━━━━\u001b[0m\u001b[37m\u001b[0m \u001b[1m1s\u001b[0m 1ms/step\n"
     ]
    },
    {
     "name": "stderr",
     "output_type": "stream",
     "text": [
      " 53%|██████████████████████████████████████████████████████████████████████████████████████████                                                                                 | 10/19 [00:16<00:15,  1.68s/it]"
     ]
    },
    {
     "name": "stdout",
     "output_type": "stream",
     "text": [
      "(39596, 1)\n",
      "(39596, 18)\n",
      "\u001b[1m1/1\u001b[0m \u001b[32m━━━━━━━━━━━━━━━━━━━━\u001b[0m\u001b[37m\u001b[0m \u001b[1m0s\u001b[0m 14ms/step\n",
      "(1, 1)\n",
      "(1, 18)\n",
      "\u001b[1m  84/1238\u001b[0m \u001b[32m━\u001b[0m\u001b[37m━━━━━━━━━━━━━━━━━━━\u001b[0m \u001b[1m1s\u001b[0m 1ms/step"
     ]
    },
    {
     "name": "stderr",
     "output_type": "stream",
     "text": [
      "2025-08-06 19:44:14.377804: E tensorflow/core/framework/node_def_util.cc:676] NodeDef mentions attribute use_unbounded_threadpool which is not in the op definition: Op<name=MapDataset; signature=input_dataset:variant, other_arguments: -> handle:variant; attr=f:func; attr=Targuments:list(type),min=0; attr=output_types:list(type),min=1; attr=output_shapes:list(shape),min=1; attr=use_inter_op_parallelism:bool,default=true; attr=preserve_cardinality:bool,default=false; attr=force_synchronous:bool,default=false; attr=metadata:string,default=\"\"> This may be expected if your graph generating binary is newer  than this binary. Unknown attributes will be ignored. NodeDef: {{node ParallelMapDatasetV2/_15}}\n",
      "2025-08-06 19:44:14.378059: E tensorflow/core/framework/node_def_util.cc:676] NodeDef mentions attribute use_unbounded_threadpool which is not in the op definition: Op<name=MapDataset; signature=input_dataset:variant, other_arguments: -> handle:variant; attr=f:func; attr=Targuments:list(type),min=0; attr=output_types:list(type),min=1; attr=output_shapes:list(shape),min=1; attr=use_inter_op_parallelism:bool,default=true; attr=preserve_cardinality:bool,default=false; attr=force_synchronous:bool,default=false; attr=metadata:string,default=\"\"> This may be expected if your graph generating binary is newer  than this binary. Unknown attributes will be ignored. NodeDef: {{node ParallelMapDatasetV2/_15}}\n"
     ]
    },
    {
     "name": "stdout",
     "output_type": "stream",
     "text": [
      "\u001b[1m1238/1238\u001b[0m \u001b[32m━━━━━━━━━━━━━━━━━━━━\u001b[0m\u001b[37m\u001b[0m \u001b[1m1s\u001b[0m 1ms/step\n"
     ]
    },
    {
     "name": "stderr",
     "output_type": "stream",
     "text": [
      " 58%|███████████████████████████████████████████████████████████████████████████████████████████████████                                                                        | 11/19 [00:18<00:13,  1.68s/it]"
     ]
    },
    {
     "name": "stdout",
     "output_type": "stream",
     "text": [
      "(39596, 1)\n",
      "(39596, 18)\n",
      "\u001b[1m1/1\u001b[0m \u001b[32m━━━━━━━━━━━━━━━━━━━━\u001b[0m\u001b[37m\u001b[0m \u001b[1m0s\u001b[0m 14ms/step\n",
      "(1, 1)\n",
      "(1, 18)\n",
      "\u001b[1m1238/1238\u001b[0m \u001b[32m━━━━━━━━━━━━━━━━━━━━\u001b[0m\u001b[37m\u001b[0m \u001b[1m2s\u001b[0m 1ms/step\n",
      "(39596, 1)\n",
      "(39596, 18)\n"
     ]
    },
    {
     "name": "stderr",
     "output_type": "stream",
     "text": [
      " 63%|████████████████████████████████████████████████████████████████████████████████████████████████████████████                                                               | 12/19 [00:20<00:11,  1.71s/it]"
     ]
    },
    {
     "name": "stdout",
     "output_type": "stream",
     "text": [
      "\u001b[1m1/1\u001b[0m \u001b[32m━━━━━━━━━━━━━━━━━━━━\u001b[0m\u001b[37m\u001b[0m \u001b[1m0s\u001b[0m 14ms/step\n",
      "(1, 1)\n",
      "(1, 18)\n",
      "\u001b[1m1238/1238\u001b[0m \u001b[32m━━━━━━━━━━━━━━━━━━━━\u001b[0m\u001b[37m\u001b[0m \u001b[1m1s\u001b[0m 1ms/step\n"
     ]
    },
    {
     "name": "stderr",
     "output_type": "stream",
     "text": [
      " 68%|█████████████████████████████████████████████████████████████████████████████████████████████████████████████████████                                                      | 13/19 [00:21<00:10,  1.70s/it]"
     ]
    },
    {
     "name": "stdout",
     "output_type": "stream",
     "text": [
      "(39596, 1)\n",
      "(39596, 18)\n",
      "\u001b[1m1/1\u001b[0m \u001b[32m━━━━━━━━━━━━━━━━━━━━\u001b[0m\u001b[37m\u001b[0m \u001b[1m0s\u001b[0m 13ms/step\n",
      "(1, 1)\n",
      "(1, 18)\n",
      "\u001b[1m  85/1238\u001b[0m \u001b[32m━\u001b[0m\u001b[37m━━━━━━━━━━━━━━━━━━━\u001b[0m \u001b[1m1s\u001b[0m 1ms/step"
     ]
    },
    {
     "name": "stderr",
     "output_type": "stream",
     "text": [
      "2025-08-06 19:44:19.541105: E tensorflow/core/framework/node_def_util.cc:676] NodeDef mentions attribute use_unbounded_threadpool which is not in the op definition: Op<name=MapDataset; signature=input_dataset:variant, other_arguments: -> handle:variant; attr=f:func; attr=Targuments:list(type),min=0; attr=output_types:list(type),min=1; attr=output_shapes:list(shape),min=1; attr=use_inter_op_parallelism:bool,default=true; attr=preserve_cardinality:bool,default=false; attr=force_synchronous:bool,default=false; attr=metadata:string,default=\"\"> This may be expected if your graph generating binary is newer  than this binary. Unknown attributes will be ignored. NodeDef: {{node ParallelMapDatasetV2/_15}}\n",
      "2025-08-06 19:44:19.541319: E tensorflow/core/framework/node_def_util.cc:676] NodeDef mentions attribute use_unbounded_threadpool which is not in the op definition: Op<name=MapDataset; signature=input_dataset:variant, other_arguments: -> handle:variant; attr=f:func; attr=Targuments:list(type),min=0; attr=output_types:list(type),min=1; attr=output_shapes:list(shape),min=1; attr=use_inter_op_parallelism:bool,default=true; attr=preserve_cardinality:bool,default=false; attr=force_synchronous:bool,default=false; attr=metadata:string,default=\"\"> This may be expected if your graph generating binary is newer  than this binary. Unknown attributes will be ignored. NodeDef: {{node ParallelMapDatasetV2/_15}}\n"
     ]
    },
    {
     "name": "stdout",
     "output_type": "stream",
     "text": [
      "\u001b[1m1238/1238\u001b[0m \u001b[32m━━━━━━━━━━━━━━━━━━━━\u001b[0m\u001b[37m\u001b[0m \u001b[1m1s\u001b[0m 1ms/step\n"
     ]
    },
    {
     "name": "stderr",
     "output_type": "stream",
     "text": [
      " 74%|██████████████████████████████████████████████████████████████████████████████████████████████████████████████████████████████                                             | 14/19 [00:23<00:08,  1.70s/it]"
     ]
    },
    {
     "name": "stdout",
     "output_type": "stream",
     "text": [
      "(39596, 1)\n",
      "(39596, 18)\n",
      "\u001b[1m1/1\u001b[0m \u001b[32m━━━━━━━━━━━━━━━━━━━━\u001b[0m\u001b[37m\u001b[0m \u001b[1m0s\u001b[0m 14ms/step\n",
      "(1, 1)\n",
      "(1, 18)\n",
      "\u001b[1m1238/1238\u001b[0m \u001b[32m━━━━━━━━━━━━━━━━━━━━\u001b[0m\u001b[37m\u001b[0m \u001b[1m1s\u001b[0m 1ms/step\n"
     ]
    },
    {
     "name": "stderr",
     "output_type": "stream",
     "text": [
      " 79%|███████████████████████████████████████████████████████████████████████████████████████████████████████████████████████████████████████                                    | 15/19 [00:25<00:06,  1.69s/it]"
     ]
    },
    {
     "name": "stdout",
     "output_type": "stream",
     "text": [
      "(39596, 1)\n",
      "(39596, 18)\n",
      "\u001b[1m1/1\u001b[0m \u001b[32m━━━━━━━━━━━━━━━━━━━━\u001b[0m\u001b[37m\u001b[0m \u001b[1m0s\u001b[0m 14ms/step\n",
      "(1, 1)\n",
      "(1, 18)\n",
      "\u001b[1m1238/1238\u001b[0m \u001b[32m━━━━━━━━━━━━━━━━━━━━\u001b[0m\u001b[37m\u001b[0m \u001b[1m1s\u001b[0m 1ms/step\n"
     ]
    },
    {
     "name": "stderr",
     "output_type": "stream",
     "text": [
      " 84%|████████████████████████████████████████████████████████████████████████████████████████████████████████████████████████████████████████████████                           | 16/19 [00:26<00:05,  1.67s/it]"
     ]
    },
    {
     "name": "stdout",
     "output_type": "stream",
     "text": [
      "(39596, 1)\n",
      "(39596, 18)\n",
      "\u001b[1m1/1\u001b[0m \u001b[32m━━━━━━━━━━━━━━━━━━━━\u001b[0m\u001b[37m\u001b[0m \u001b[1m0s\u001b[0m 14ms/step\n",
      "(1, 1)\n",
      "(1, 18)\n",
      "\u001b[1m  81/1238\u001b[0m \u001b[32m━\u001b[0m\u001b[37m━━━━━━━━━━━━━━━━━━━\u001b[0m \u001b[1m1s\u001b[0m 1ms/step"
     ]
    },
    {
     "name": "stderr",
     "output_type": "stream",
     "text": [
      "2025-08-06 19:44:24.569239: E tensorflow/core/framework/node_def_util.cc:676] NodeDef mentions attribute use_unbounded_threadpool which is not in the op definition: Op<name=MapDataset; signature=input_dataset:variant, other_arguments: -> handle:variant; attr=f:func; attr=Targuments:list(type),min=0; attr=output_types:list(type),min=1; attr=output_shapes:list(shape),min=1; attr=use_inter_op_parallelism:bool,default=true; attr=preserve_cardinality:bool,default=false; attr=force_synchronous:bool,default=false; attr=metadata:string,default=\"\"> This may be expected if your graph generating binary is newer  than this binary. Unknown attributes will be ignored. NodeDef: {{node ParallelMapDatasetV2/_15}}\n",
      "2025-08-06 19:44:24.569459: E tensorflow/core/framework/node_def_util.cc:676] NodeDef mentions attribute use_unbounded_threadpool which is not in the op definition: Op<name=MapDataset; signature=input_dataset:variant, other_arguments: -> handle:variant; attr=f:func; attr=Targuments:list(type),min=0; attr=output_types:list(type),min=1; attr=output_shapes:list(shape),min=1; attr=use_inter_op_parallelism:bool,default=true; attr=preserve_cardinality:bool,default=false; attr=force_synchronous:bool,default=false; attr=metadata:string,default=\"\"> This may be expected if your graph generating binary is newer  than this binary. Unknown attributes will be ignored. NodeDef: {{node ParallelMapDatasetV2/_15}}\n"
     ]
    },
    {
     "name": "stdout",
     "output_type": "stream",
     "text": [
      "\u001b[1m1238/1238\u001b[0m \u001b[32m━━━━━━━━━━━━━━━━━━━━\u001b[0m\u001b[37m\u001b[0m \u001b[1m1s\u001b[0m 1ms/step\n"
     ]
    },
    {
     "name": "stderr",
     "output_type": "stream",
     "text": [
      " 89%|█████████████████████████████████████████████████████████████████████████████████████████████████████████████████████████████████████████████████████████                  | 17/19 [00:28<00:03,  1.69s/it]"
     ]
    },
    {
     "name": "stdout",
     "output_type": "stream",
     "text": [
      "(39596, 1)\n",
      "(39596, 18)\n",
      "\u001b[1m1/1\u001b[0m \u001b[32m━━━━━━━━━━━━━━━━━━━━\u001b[0m\u001b[37m\u001b[0m \u001b[1m0s\u001b[0m 14ms/step\n",
      "(1, 1)\n",
      "(1, 18)\n",
      "\u001b[1m1238/1238\u001b[0m \u001b[32m━━━━━━━━━━━━━━━━━━━━\u001b[0m\u001b[37m\u001b[0m \u001b[1m2s\u001b[0m 1ms/step\n"
     ]
    },
    {
     "name": "stderr",
     "output_type": "stream",
     "text": [
      " 95%|██████████████████████████████████████████████████████████████████████████████████████████████████████████████████████████████████████████████████████████████████         | 18/19 [00:30<00:01,  1.70s/it]"
     ]
    },
    {
     "name": "stdout",
     "output_type": "stream",
     "text": [
      "(39596, 1)\n",
      "(39596, 18)\n",
      "\u001b[1m1/1\u001b[0m \u001b[32m━━━━━━━━━━━━━━━━━━━━\u001b[0m\u001b[37m\u001b[0m \u001b[1m0s\u001b[0m 14ms/step\n",
      "(1, 1)\n",
      "(1, 18)\n",
      "\u001b[1m1238/1238\u001b[0m \u001b[32m━━━━━━━━━━━━━━━━━━━━\u001b[0m\u001b[37m\u001b[0m \u001b[1m1s\u001b[0m 1ms/step\n"
     ]
    },
    {
     "name": "stderr",
     "output_type": "stream",
     "text": [
      "100%|███████████████████████████████████████████████████████████████████████████████████████████████████████████████████████████████████████████████████████████████████████████| 19/19 [00:31<00:00,  1.68s/it]"
     ]
    },
    {
     "name": "stdout",
     "output_type": "stream",
     "text": [
      "(39596, 1)\n",
      "(39596, 18)\n"
     ]
    },
    {
     "name": "stderr",
     "output_type": "stream",
     "text": [
      "\n"
     ]
    }
   ],
   "source": [
    "\n",
    "\n",
    "def model_wrapper(combined_input):\n",
    "    # combined_input.shape = (samples, d1 + d2)\n",
    "    \n",
    "    X1 = combined_input[:, :9]  # first d1 features\n",
    "    X2 = combined_input[:, 9:]  # remaining d2 features\n",
    "    \n",
    "    # Depending on the model input shape, possibly reshape if needed\n",
    "    # For example, if input expects 2D arrays directly, no reshape needed\n",
    "    # If input expects 3D or more, reshape here\n",
    "    \n",
    "    # Make prediction\n",
    "    preds = model.predict([X1, X2])\n",
    "    \n",
    "    # If preds is a list (multi-output), pick the output you want, e.g., the first one\n",
    "    if isinstance(preds, list):\n",
    "        print(preds[0].shape)\n",
    "        print(preds[1].shape)\n",
    "        preds = np.array(preds[0]) # concatenate np.array(preds[1])\n",
    "\n",
    "    # Ensure preds is a numpy array (or convert using .numpy() if tensor)\n",
    "    return preds\n",
    "\n",
    "# combined_background = np.concatenate(background, axis=1)  \n",
    "\n",
    "# Initialize the SHAP DeepExplainer\n",
    "explainer = shap.KernelExplainer(model_wrapper, combined_background)\n",
    "\n",
    "# Explain predictions for some test samples\n",
    "shap_values = explainer.shap_values(combined_background)\n"
   ]
  },
  {
   "cell_type": "code",
   "execution_count": 70,
   "id": "d24f2f2d-1d0b-4b55-8ef0-cabc069edefe",
   "metadata": {},
   "outputs": [
    {
     "data": {
      "text/plain": [
       "(19, 18, 18)"
      ]
     },
     "execution_count": 70,
     "metadata": {},
     "output_type": "execute_result"
    }
   ],
   "source": [
    "shap_values.shape"
   ]
  },
  {
   "cell_type": "code",
   "execution_count": 73,
   "id": "2494caaf-3c4a-4b42-981b-0e81095d6b5c",
   "metadata": {
    "collapsed": true,
    "jupyter": {
     "outputs_hidden": true
    }
   },
   "outputs": [
    {
     "name": "stdout",
     "output_type": "stream",
     "text": [
      "shap_contribs: [[ 0.03022836]\n",
      " [ 0.04266492]\n",
      " [ 0.09422577]\n",
      " [-0.0257669 ]\n",
      " [ 0.        ]\n",
      " [ 0.        ]\n",
      " [ 0.00485192]\n",
      " [ 0.        ]\n",
      " [ 0.        ]\n",
      " [ 0.08759948]\n",
      " [ 0.        ]\n",
      " [-0.01810956]\n",
      " [ 0.03899773]\n",
      " [ 0.073831  ]\n",
      " [ 0.01858673]\n",
      " [ 0.        ]\n",
      " [ 0.        ]\n",
      " [ 0.        ]] for game: [17  1  4 22 13  0  0  0  0 19  2 16  5 14  0  0  0  0]\n",
      "Mask contributed ( player: 0: idx: 6): shap_contribs: [0.00485192] for game: [17  1  4 22 13  0  0  0  0 19  2 16  5 14  0  0  0  0]\n",
      "Mask contributed ( player: 0: idx: 14): shap_contribs: [0.01858673] for game: [17  1  4 22 13  0  0  0  0 19  2 16  5 14  0  0  0  0]\n",
      "====================================================================================================\n",
      "shap_contribs: [[-0.03659318]\n",
      " [-0.04308682]\n",
      " [-0.05480817]\n",
      " [-0.02815471]\n",
      " [ 0.        ]\n",
      " [-0.01957258]\n",
      " [ 0.        ]\n",
      " [-0.01577051]\n",
      " [ 0.        ]\n",
      " [ 0.        ]\n",
      " [-0.06272592]\n",
      " [-0.03552123]\n",
      " [-0.06204766]\n",
      " [-0.02375579]\n",
      " [ 0.        ]\n",
      " [ 0.        ]\n",
      " [ 0.        ]\n",
      " [ 0.        ]] for game: [12 16  2 14  6  4  0  0  0 27 17  3 30 18  1  0  0  0]\n",
      "Mask contributed ( player: 0: idx: 7): shap_contribs: [-0.01577051] for game: [12 16  2 14  6  4  0  0  0 27 17  3 30 18  1  0  0  0]\n",
      "====================================================================================================\n",
      "shap_contribs: [[ 0.03106239]\n",
      " [-0.05445181]\n",
      " [ 0.12141322]\n",
      " [-0.0492419 ]\n",
      " [-0.01561404]\n",
      " [-0.10013731]\n",
      " [ 0.        ]\n",
      " [-0.01604838]\n",
      " [ 0.        ]\n",
      " [ 0.        ]\n",
      " [-0.08598321]\n",
      " [ 0.        ]\n",
      " [ 0.        ]\n",
      " [-0.03328485]\n",
      " [ 0.09251337]\n",
      " [ 0.        ]\n",
      " [ 0.        ]\n",
      " [ 0.        ]] for game: [ 6 12 17  2 19 30  0  0  0 16  3  8  1 10  9  0  0  0]\n",
      "Mask contributed ( player: 0: idx: 7): shap_contribs: [-0.01604838] for game: [ 6 12 17  2 19 30  0  0  0 16  3  8  1 10  9  0  0  0]\n",
      "====================================================================================================\n",
      "shap_contribs: [[ 0.02515474]\n",
      " [ 0.12751943]\n",
      " [ 0.03096029]\n",
      " [ 0.        ]\n",
      " [-0.07904595]\n",
      " [ 0.        ]\n",
      " [ 0.        ]\n",
      " [ 0.        ]\n",
      " [ 0.        ]\n",
      " [-0.04013855]\n",
      " [-0.05591512]\n",
      " [ 0.        ]\n",
      " [ 0.11325639]\n",
      " [ 0.07767858]\n",
      " [ 0.        ]\n",
      " [ 0.02044303]\n",
      " [ 0.01751346]\n",
      " [ 0.        ]] for game: [13 18  3 16 21  4 15  1  0  2 17 24 19 27 31 12  8  0]\n",
      "====================================================================================================\n",
      "shap_contribs: [[ 0.        ]\n",
      " [ 0.09138566]\n",
      " [-0.02740459]\n",
      " [-0.03284416]\n",
      " [-0.05076346]\n",
      " [ 0.        ]\n",
      " [-0.00879948]\n",
      " [-0.01000558]\n",
      " [ 0.        ]\n",
      " [-0.02963575]\n",
      " [ 0.        ]\n",
      " [ 0.0649156 ]\n",
      " [ 0.03734078]\n",
      " [ 0.01379382]\n",
      " [ 0.        ]\n",
      " [ 0.        ]\n",
      " [ 0.        ]\n",
      " [ 0.        ]] for game: [ 2 17 12  8 21  0  0  0  0  1 16  9 27 15  0  0  0  0]\n",
      "Mask contributed ( player: 0: idx: 6): shap_contribs: [-0.00879948] for game: [ 2 17 12  8 21  0  0  0  0  1 16  9 27 15  0  0  0  0]\n",
      "Mask contributed ( player: 0: idx: 7): shap_contribs: [-0.01000558] for game: [ 2 17 12  8 21  0  0  0  0  1 16  9 27 15  0  0  0  0]\n",
      "====================================================================================================\n",
      "shap_contribs: [[-0.02880253]\n",
      " [-0.03000378]\n",
      " [ 0.0861765 ]\n",
      " [ 0.        ]\n",
      " [-0.07649674]\n",
      " [-0.0444047 ]\n",
      " [-0.05282739]\n",
      " [ 0.        ]\n",
      " [ 0.        ]\n",
      " [ 0.        ]\n",
      " [ 0.        ]\n",
      " [-0.08205134]\n",
      " [ 0.        ]\n",
      " [ 0.        ]\n",
      " [-0.14314299]\n",
      " [-0.01400588]\n",
      " [ 0.06681991]\n",
      " [ 0.        ]] for game: [13 20 17  3  5  1 12 24  0 16 31  6 18  2 21 23  4  0]\n",
      "====================================================================================================\n",
      "shap_contribs: [[ 0.03797392]\n",
      " [ 0.        ]\n",
      " [-0.07034912]\n",
      " [-0.07196702]\n",
      " [ 0.0674102 ]\n",
      " [ 0.        ]\n",
      " [ 0.        ]\n",
      " [ 0.        ]\n",
      " [ 0.        ]\n",
      " [-0.04613456]\n",
      " [ 0.06284302]\n",
      " [-0.07911685]\n",
      " [ 0.01575234]\n",
      " [ 0.02390934]\n",
      " [-0.02920186]\n",
      " [ 0.        ]\n",
      " [ 0.        ]\n",
      " [ 0.        ]] for game: [ 3 15 12  1 17  8  0  0  0 16  4  6 20 27  2  0  0  0]\n",
      "====================================================================================================\n",
      "shap_contribs: [[-0.02420986]\n",
      " [-0.08301003]\n",
      " [-0.05538426]\n",
      " [ 0.06335806]\n",
      " [ 0.        ]\n",
      " [ 0.04907644]\n",
      " [ 0.        ]\n",
      " [-0.01641976]\n",
      " [ 0.        ]\n",
      " [-0.05789674]\n",
      " [ 0.        ]\n",
      " [ 0.        ]\n",
      " [-0.03762459]\n",
      " [ 0.12264369]\n",
      " [ 0.11613834]\n",
      " [ 0.        ]\n",
      " [ 0.        ]\n",
      " [ 0.        ]] for game: [16  5  1 17 15 10  0  0  0 23 28  2 18 12 19  0  0  0]\n",
      "Mask contributed ( player: 0: idx: 7): shap_contribs: [-0.01641976] for game: [16  5  1 17 15 10  0  0  0 23 28  2 18 12 19  0  0  0]\n",
      "====================================================================================================\n",
      "shap_contribs: [[ 0.09001034]\n",
      " [ 0.        ]\n",
      " [ 0.        ]\n",
      " [-0.10071065]\n",
      " [-0.06051375]\n",
      " [-0.07359441]\n",
      " [-0.08261281]\n",
      " [ 0.        ]\n",
      " [ 0.        ]\n",
      " [ 0.        ]\n",
      " [ 0.03286166]\n",
      " [ 0.06910835]\n",
      " [-0.17078651]\n",
      " [-0.1075732 ]\n",
      " [ 0.        ]\n",
      " [-0.01711081]\n",
      " [ 0.        ]\n",
      " [ 0.        ]] for game: [17 27  3 16  4 28  2  0  0 20 18 13 21  6 12  1  0  0]\n",
      "====================================================================================================\n",
      "shap_contribs: [[ 0.04016635]\n",
      " [-0.04120822]\n",
      " [-0.02426071]\n",
      " [ 0.065255  ]\n",
      " [ 0.03723126]\n",
      " [ 0.        ]\n",
      " [ 0.        ]\n",
      " [ 0.        ]\n",
      " [ 0.        ]\n",
      " [-0.03956088]\n",
      " [ 0.02451349]\n",
      " [-0.06132798]\n",
      " [ 0.14695364]\n",
      " [ 0.08392681]\n",
      " [ 0.        ]\n",
      " [ 0.        ]\n",
      " [ 0.        ]\n",
      " [ 0.        ]] for game: [ 3 21  1 17  6  0  0  0  0 16 15  2 12 14  0  0  0  0]\n",
      "====================================================================================================\n",
      "shap_contribs: [[ 0.        ]\n",
      " [ 0.07900995]\n",
      " [-0.04979025]\n",
      " [ 0.08725539]\n",
      " [ 0.10482916]\n",
      " [ 0.02060542]\n",
      " [ 0.        ]\n",
      " [ 0.        ]\n",
      " [ 0.        ]\n",
      " [ 0.04802108]\n",
      " [ 0.02185017]\n",
      " [ 0.08543826]\n",
      " [-0.05709169]\n",
      " [-0.15006789]\n",
      " [ 0.        ]\n",
      " [ 0.        ]\n",
      " [ 0.        ]\n",
      " [ 0.        ]] for game: [ 2  5 21 23 17  0  0  0  0 13 12 22  1  6  0  0  0  0]\n",
      "Mask contributed ( player: 0: idx: 5): shap_contribs: [0.02060542] for game: [ 2  5 21 23 17  0  0  0  0 13 12 22  1  6  0  0  0  0]\n",
      "====================================================================================================\n",
      "shap_contribs: [[ 0.05355372]\n",
      " [ 0.        ]\n",
      " [-0.03397681]\n",
      " [ 0.05861788]\n",
      " [ 0.02620938]\n",
      " [ 0.        ]\n",
      " [-0.03958771]\n",
      " [ 0.        ]\n",
      " [ 0.        ]\n",
      " [ 0.03347644]\n",
      " [ 0.        ]\n",
      " [ 0.        ]\n",
      " [ 0.        ]\n",
      " [-0.02258887]\n",
      " [ 0.00560616]\n",
      " [ 0.06996621]\n",
      " [ 0.02585932]\n",
      " [ 0.        ]] for game: [17 24 12 11  3  8 12 14  0  4  1  2  5 23 18 28  9  0]\n",
      "====================================================================================================\n",
      "shap_contribs: [[-0.06964994]\n",
      " [ 0.        ]\n",
      " [ 0.01050819]\n",
      " [ 0.        ]\n",
      " [ 0.05464746]\n",
      " [ 0.        ]\n",
      " [ 0.12249284]\n",
      " [ 0.        ]\n",
      " [ 0.        ]\n",
      " [ 0.05255636]\n",
      " [ 0.02834182]\n",
      " [ 0.04586434]\n",
      " [ 0.        ]\n",
      " [-0.03882972]\n",
      " [ 0.05349688]\n",
      " [-0.05008485]\n",
      " [ 0.        ]\n",
      " [ 0.        ]] for game: [12  1  2 13 23 14 18  0  0 20  5 19 16  3  4 17  0  0]\n",
      "====================================================================================================\n",
      "shap_contribs: [[ 0.        ]\n",
      " [-0.0505623 ]\n",
      " [ 0.        ]\n",
      " [-0.0603457 ]\n",
      " [ 0.        ]\n",
      " [ 0.04374059]\n",
      " [ 0.        ]\n",
      " [ 0.05903438]\n",
      " [ 0.10153162]\n",
      " [ 0.04316188]\n",
      " [ 0.        ]\n",
      " [-0.03495092]\n",
      " [ 0.        ]\n",
      " [ 0.        ]\n",
      " [-0.04783102]\n",
      " [-0.03564213]\n",
      " [-0.08285804]\n",
      " [ 0.        ]] for game: [ 3 16  2  4 17 19 12 23 10 13  7  1  5 18 11 29  6 22]\n",
      "====================================================================================================\n",
      "shap_contribs: [[-0.04159131]\n",
      " [ 0.        ]\n",
      " [ 0.0552484 ]\n",
      " [ 0.11018156]\n",
      " [ 0.        ]\n",
      " [ 0.        ]\n",
      " [-0.05657522]\n",
      " [-0.11600905]\n",
      " [ 0.        ]\n",
      " [ 0.04168566]\n",
      " [ 0.        ]\n",
      " [-0.09370841]\n",
      " [ 0.04935456]\n",
      " [ 0.        ]\n",
      " [-0.08539609]\n",
      " [ 0.        ]\n",
      " [ 0.04079416]\n",
      " [ 0.        ]] for game: [16  9  1 18  3  2 12 20  0 13  5 17 14  7  6  8 23  0]\n",
      "====================================================================================================\n",
      "shap_contribs: [[-0.06635813]\n",
      " [ 0.        ]\n",
      " [ 0.03844638]\n",
      " [-0.05241504]\n",
      " [ 0.        ]\n",
      " [ 0.06149989]\n",
      " [ 0.        ]\n",
      " [ 0.        ]\n",
      " [ 0.        ]\n",
      " [ 0.05536868]\n",
      " [ 0.05026974]\n",
      " [ 0.        ]\n",
      " [ 0.        ]\n",
      " [-0.0536855 ]\n",
      " [-0.06053531]\n",
      " [-0.02692024]\n",
      " [-0.05570568]\n",
      " [ 0.        ]] for game: [12  2 13  1  4  9  8  6  0 14 16  7  5 18  3 17 11  0]\n",
      "====================================================================================================\n",
      "shap_contribs: [[ 0.        ]\n",
      " [-0.0503621 ]\n",
      " [-0.04738929]\n",
      " [ 0.        ]\n",
      " [-0.0842851 ]\n",
      " [-0.0131561 ]\n",
      " [ 0.        ]\n",
      " [ 0.        ]\n",
      " [ 0.        ]\n",
      " [-0.02118238]\n",
      " [-0.06397896]\n",
      " [-0.0148495 ]\n",
      " [-0.00640683]\n",
      " [ 0.        ]\n",
      " [-0.0268462 ]\n",
      " [-0.01059389]\n",
      " [ 0.        ]\n",
      " [ 0.        ]] for game: [17 22 20 10  5  7  0  0  0 16  2 28  3 18 15  0  0  0]\n",
      "Mask contributed ( player: 0: idx: 15): shap_contribs: [-0.01059389] for game: [17 22 20 10  5  7  0  0  0 16  2 28  3 18 15  0  0  0]\n",
      "====================================================================================================\n",
      "shap_contribs: [[-0.04978428]\n",
      " [ 0.        ]\n",
      " [-0.06536899]\n",
      " [ 0.        ]\n",
      " [ 0.        ]\n",
      " [ 0.0767105 ]\n",
      " [ 0.13238715]\n",
      " [ 0.14447543]\n",
      " [ 0.        ]\n",
      " [-0.04871167]\n",
      " [ 0.02864241]\n",
      " [ 0.05408169]\n",
      " [ 0.        ]\n",
      " [ 0.02685359]\n",
      " [ 0.        ]\n",
      " [ 0.03443346]\n",
      " [ 0.        ]\n",
      " [ 0.        ]] for game: [20  7 12  2  1  9 10 18  0 17  4 13 16 15  8 14  3  0]\n",
      "====================================================================================================\n",
      "shap_contribs: [[-0.04698606]\n",
      " [ 0.04603213]\n",
      " [ 0.        ]\n",
      " [ 0.        ]\n",
      " [ 0.02881068]\n",
      " [ 0.        ]\n",
      " [ 0.0138969 ]\n",
      " [ 0.        ]\n",
      " [ 0.        ]\n",
      " [-0.09631622]\n",
      " [ 0.        ]\n",
      " [ 0.08855734]\n",
      " [-0.04257566]\n",
      " [-0.07408876]\n",
      " [ 0.06846019]\n",
      " [ 0.09324647]\n",
      " [ 0.        ]\n",
      " [ 0.        ]] for game: [15 17 13  1  3  2  4  0  0 11 12 14  1  6 16 27  0  0]\n",
      "====================================================================================================\n"
     ]
    }
   ],
   "source": [
    "explained_games = combined_background\n",
    "\n",
    "aggregated_contribs = {}\n",
    "\n",
    "for shap_contribs, game in zip(shap_values, explained_games):\n",
    "    print(f\"shap_contribs: {shap_contribs} for game: {game}\")\n",
    "    for idx, player in enumerate(game):\n",
    "        if player == 0 and shap_contribs[idx] != 0:\n",
    "            print(f\"Mask contributed ( player: {player}: idx: {idx}): shap_contribs: {shap_contribs[idx]} for game: {game}\")\n",
    "        aggregated_contribs[player] = aggregated_contribs.get(player, 0) + shap_contribs[idx]\n",
    "    print(\"=\"*100)"
   ]
  },
  {
   "cell_type": "code",
   "execution_count": 64,
   "id": "54eda14d-3962-44b9-886c-6a76d01bb6da",
   "metadata": {},
   "outputs": [
    {
     "data": {
      "text/plain": [
       "[(np.int64(6), array([-0.60043709])),\n",
       " (np.int64(21), array([-0.54130517])),\n",
       " (np.int64(2), array([-0.39372855])),\n",
       " (np.int64(1), array([-0.30811452])),\n",
       " (np.int64(12), array([-0.26827731])),\n",
       " (np.int64(16), array([-0.26725418])),\n",
       " (np.int64(20), array([-0.1939599])),\n",
       " (np.int64(30), array([-0.16110385])),\n",
       " (np.int64(11), array([-0.13729741])),\n",
       " (np.int64(5), array([-0.09698524])),\n",
       " (np.int64(3), array([-0.04523532])),\n",
       " (np.int64(29), array([-0.03445206])),\n",
       " (np.int64(0), array([-0.01968776])),\n",
       " (np.int64(28), array([-0.01928986])),\n",
       " (np.int64(8), array([-0.01779258])),\n",
       " (np.int64(7), array([-0.01143086])),\n",
       " (np.int64(15), array([-0.00472573])),\n",
       " (np.int64(24), array([0.])),\n",
       " (np.int64(22), array([0.01014287])),\n",
       " (np.int64(31), array([0.03519846])),\n",
       " (np.int64(23), array([0.16832644])),\n",
       " (np.int64(4), array([0.2099856])),\n",
       " (np.int64(27), array([0.23081838])),\n",
       " (np.int64(10), array([0.24206825])),\n",
       " (np.int64(13), array([0.27480076])),\n",
       " (np.int64(9), array([0.3247831])),\n",
       " (np.int64(14), array([0.36710465])),\n",
       " (np.int64(18), array([0.38522901])),\n",
       " (np.int64(19), array([0.39163796])),\n",
       " (np.int64(17), array([0.48098215]))]"
      ]
     },
     "execution_count": 64,
     "metadata": {},
     "output_type": "execute_result"
    }
   ],
   "source": [
    "aggregated_contribs_sorted = sorted(aggregated_contribs.items(), key=lambda item: item[1])\n",
    "aggregated_contribs_sorted"
   ]
  },
  {
   "cell_type": "code",
   "execution_count": null,
   "id": "e84aa607-da2e-47a8-b244-92daf8efc24b",
   "metadata": {},
   "outputs": [],
   "source": [
    "{1: 'Andrey Spiridonov',\n",
    " 2: 'Andrey Trubicin',\n",
    " 3: 'Andrey Larionov',\n",
    " 4: 'Veselin',\n",
    " 5: 'Fedor',\n",
    " 6: 'Andrey Selifonov',\n",
    " 7: 'Dmitro Ilchenko',\n",
    " 8: 'Sergii Kolbasin',\n",
    " 9: 'Vlad',\n",
    " 10: 'Pavel Karacharov',\n",
    " 11: 'Sanya',\n",
    " 12: 'Roman',\n",
    " 13: 'Ivan',\n",
    " 14: 'Denys',\n",
    " 15: 'Vitalii Zhebrakovksy',\n",
    " 16: 'Oleksandr',\n",
    " 17: 'Loginov Dmitrii',\n",
    " 18: 'Artem Bykov',\n",
    " 19: 'Kirill',\n",
    " 20: 'Bondarev Yurii',\n",
    " 21: 'Gundars Mednis',\n",
    " 22: 'Alexandr Mikhailov',\n",
    " 23: 'Pedro Ispanec',\n",
    " 24: 'Dimon Sirnik Lozuk',\n",
    " 25: 'Sergey Konovalov',\n",
    " 26: 'Vladimir Chavskiy',\n",
    " 27: 'Alex Akimov',\n",
    " 28: 'Andrey',\n",
    " 29: 'Sanya DrugIlchenko',\n",
    " 30: 'Vitalik goalkeeper',\n",
    " 31: 'Dimon Melkii'}"
   ]
  },
  {
   "cell_type": "markdown",
   "id": "5e159a0e-4cd4-48ab-a100-e58bef8172bc",
   "metadata": {
    "jp-MarkdownHeadingCollapsed": true
   },
   "source": [
    "## Data Augmentation"
   ]
  },
  {
   "cell_type": "code",
   "execution_count": 30,
   "id": "729e9e9a-4b4a-4b62-b2ce-2ab48dd5a394",
   "metadata": {},
   "outputs": [],
   "source": [
    "from smogn import smoter"
   ]
  },
  {
   "cell_type": "code",
   "execution_count": 36,
   "id": "70321d1d-5e59-454f-9153-e5a3a49f8c3a",
   "metadata": {},
   "outputs": [],
   "source": [
    "combined_background = np.concatenate(X, axis=1)  "
   ]
  },
  {
   "cell_type": "code",
   "execution_count": 37,
   "id": "2008a831-e436-471d-8dec-147ce610d317",
   "metadata": {},
   "outputs": [
    {
     "data": {
      "text/plain": [
       "(19, 18)"
      ]
     },
     "execution_count": 37,
     "metadata": {},
     "output_type": "execute_result"
    }
   ],
   "source": [
    "combined_background.shape"
   ]
  },
  {
   "cell_type": "code",
   "execution_count": 49,
   "id": "b017b08d-e20c-4e70-b9d9-949aedbb1de9",
   "metadata": {},
   "outputs": [],
   "source": [
    "y[0].shape\n",
    "y_0 = y[0].reshape(19, 1)"
   ]
  },
  {
   "cell_type": "code",
   "execution_count": 46,
   "id": "1cbc73cc-defa-441a-b565-a35398d65e8f",
   "metadata": {},
   "outputs": [
    {
     "data": {
      "text/plain": [
       "(19, 18)"
      ]
     },
     "execution_count": 46,
     "metadata": {},
     "output_type": "execute_result"
    }
   ],
   "source": [
    "y[1].shape"
   ]
  },
  {
   "cell_type": "code",
   "execution_count": 50,
   "id": "441c35e1-51a7-41fc-a3e3-c6fa0600e22f",
   "metadata": {},
   "outputs": [],
   "source": [
    "combined_y = np.hstack([y_0, y[1]])  "
   ]
  },
  {
   "cell_type": "code",
   "execution_count": 64,
   "id": "857e3f03-2bb2-4497-aa24-59e99a1d433d",
   "metadata": {},
   "outputs": [],
   "source": [
    "import pandas as pd\n",
    "data = pd.DataFrame(combined_background)\n",
    "data[\"target\"]= y_0"
   ]
  },
  {
   "cell_type": "code",
   "execution_count": 68,
   "id": "a15acffc-2ca6-4f9d-9027-a5fc578cfd61",
   "metadata": {},
   "outputs": [
    {
     "data": {
      "text/html": [
       "<div>\n",
       "<style scoped>\n",
       "    .dataframe tbody tr th:only-of-type {\n",
       "        vertical-align: middle;\n",
       "    }\n",
       "\n",
       "    .dataframe tbody tr th {\n",
       "        vertical-align: top;\n",
       "    }\n",
       "\n",
       "    .dataframe thead th {\n",
       "        text-align: right;\n",
       "    }\n",
       "</style>\n",
       "<table border=\"1\" class=\"dataframe\">\n",
       "  <thead>\n",
       "    <tr style=\"text-align: right;\">\n",
       "      <th></th>\n",
       "      <th>0</th>\n",
       "      <th>1</th>\n",
       "      <th>2</th>\n",
       "      <th>3</th>\n",
       "      <th>4</th>\n",
       "      <th>5</th>\n",
       "      <th>6</th>\n",
       "      <th>7</th>\n",
       "      <th>8</th>\n",
       "      <th>9</th>\n",
       "      <th>10</th>\n",
       "      <th>11</th>\n",
       "      <th>12</th>\n",
       "      <th>13</th>\n",
       "      <th>14</th>\n",
       "      <th>15</th>\n",
       "      <th>16</th>\n",
       "      <th>17</th>\n",
       "      <th>target</th>\n",
       "    </tr>\n",
       "  </thead>\n",
       "  <tbody>\n",
       "    <tr>\n",
       "      <th>0</th>\n",
       "      <td>17</td>\n",
       "      <td>1</td>\n",
       "      <td>4</td>\n",
       "      <td>22</td>\n",
       "      <td>13</td>\n",
       "      <td>0</td>\n",
       "      <td>0</td>\n",
       "      <td>0</td>\n",
       "      <td>0</td>\n",
       "      <td>19</td>\n",
       "      <td>2</td>\n",
       "      <td>16</td>\n",
       "      <td>5</td>\n",
       "      <td>14</td>\n",
       "      <td>0</td>\n",
       "      <td>0</td>\n",
       "      <td>0</td>\n",
       "      <td>0</td>\n",
       "      <td>11.0</td>\n",
       "    </tr>\n",
       "    <tr>\n",
       "      <th>1</th>\n",
       "      <td>12</td>\n",
       "      <td>16</td>\n",
       "      <td>2</td>\n",
       "      <td>14</td>\n",
       "      <td>6</td>\n",
       "      <td>4</td>\n",
       "      <td>0</td>\n",
       "      <td>0</td>\n",
       "      <td>0</td>\n",
       "      <td>27</td>\n",
       "      <td>17</td>\n",
       "      <td>3</td>\n",
       "      <td>30</td>\n",
       "      <td>18</td>\n",
       "      <td>1</td>\n",
       "      <td>0</td>\n",
       "      <td>0</td>\n",
       "      <td>0</td>\n",
       "      <td>1.0</td>\n",
       "    </tr>\n",
       "    <tr>\n",
       "      <th>2</th>\n",
       "      <td>6</td>\n",
       "      <td>12</td>\n",
       "      <td>17</td>\n",
       "      <td>2</td>\n",
       "      <td>19</td>\n",
       "      <td>30</td>\n",
       "      <td>0</td>\n",
       "      <td>0</td>\n",
       "      <td>0</td>\n",
       "      <td>16</td>\n",
       "      <td>3</td>\n",
       "      <td>8</td>\n",
       "      <td>1</td>\n",
       "      <td>10</td>\n",
       "      <td>9</td>\n",
       "      <td>0</td>\n",
       "      <td>0</td>\n",
       "      <td>0</td>\n",
       "      <td>2.0</td>\n",
       "    </tr>\n",
       "    <tr>\n",
       "      <th>3</th>\n",
       "      <td>13</td>\n",
       "      <td>18</td>\n",
       "      <td>3</td>\n",
       "      <td>16</td>\n",
       "      <td>21</td>\n",
       "      <td>4</td>\n",
       "      <td>15</td>\n",
       "      <td>1</td>\n",
       "      <td>0</td>\n",
       "      <td>2</td>\n",
       "      <td>17</td>\n",
       "      <td>24</td>\n",
       "      <td>19</td>\n",
       "      <td>27</td>\n",
       "      <td>31</td>\n",
       "      <td>12</td>\n",
       "      <td>8</td>\n",
       "      <td>0</td>\n",
       "      <td>3.0</td>\n",
       "    </tr>\n",
       "    <tr>\n",
       "      <th>4</th>\n",
       "      <td>2</td>\n",
       "      <td>17</td>\n",
       "      <td>12</td>\n",
       "      <td>8</td>\n",
       "      <td>21</td>\n",
       "      <td>0</td>\n",
       "      <td>0</td>\n",
       "      <td>0</td>\n",
       "      <td>0</td>\n",
       "      <td>1</td>\n",
       "      <td>16</td>\n",
       "      <td>9</td>\n",
       "      <td>27</td>\n",
       "      <td>15</td>\n",
       "      <td>0</td>\n",
       "      <td>0</td>\n",
       "      <td>0</td>\n",
       "      <td>0</td>\n",
       "      <td>3.0</td>\n",
       "    </tr>\n",
       "    <tr>\n",
       "      <th>5</th>\n",
       "      <td>13</td>\n",
       "      <td>20</td>\n",
       "      <td>17</td>\n",
       "      <td>3</td>\n",
       "      <td>5</td>\n",
       "      <td>1</td>\n",
       "      <td>12</td>\n",
       "      <td>24</td>\n",
       "      <td>0</td>\n",
       "      <td>16</td>\n",
       "      <td>31</td>\n",
       "      <td>6</td>\n",
       "      <td>18</td>\n",
       "      <td>2</td>\n",
       "      <td>21</td>\n",
       "      <td>23</td>\n",
       "      <td>4</td>\n",
       "      <td>0</td>\n",
       "      <td>3.0</td>\n",
       "    </tr>\n",
       "    <tr>\n",
       "      <th>6</th>\n",
       "      <td>3</td>\n",
       "      <td>15</td>\n",
       "      <td>12</td>\n",
       "      <td>1</td>\n",
       "      <td>17</td>\n",
       "      <td>8</td>\n",
       "      <td>0</td>\n",
       "      <td>0</td>\n",
       "      <td>0</td>\n",
       "      <td>16</td>\n",
       "      <td>4</td>\n",
       "      <td>6</td>\n",
       "      <td>20</td>\n",
       "      <td>27</td>\n",
       "      <td>2</td>\n",
       "      <td>0</td>\n",
       "      <td>0</td>\n",
       "      <td>0</td>\n",
       "      <td>1.0</td>\n",
       "    </tr>\n",
       "    <tr>\n",
       "      <th>7</th>\n",
       "      <td>16</td>\n",
       "      <td>5</td>\n",
       "      <td>1</td>\n",
       "      <td>17</td>\n",
       "      <td>15</td>\n",
       "      <td>10</td>\n",
       "      <td>0</td>\n",
       "      <td>0</td>\n",
       "      <td>0</td>\n",
       "      <td>23</td>\n",
       "      <td>28</td>\n",
       "      <td>2</td>\n",
       "      <td>18</td>\n",
       "      <td>12</td>\n",
       "      <td>19</td>\n",
       "      <td>0</td>\n",
       "      <td>0</td>\n",
       "      <td>0</td>\n",
       "      <td>1.0</td>\n",
       "    </tr>\n",
       "    <tr>\n",
       "      <th>8</th>\n",
       "      <td>17</td>\n",
       "      <td>27</td>\n",
       "      <td>3</td>\n",
       "      <td>16</td>\n",
       "      <td>4</td>\n",
       "      <td>28</td>\n",
       "      <td>2</td>\n",
       "      <td>0</td>\n",
       "      <td>0</td>\n",
       "      <td>20</td>\n",
       "      <td>18</td>\n",
       "      <td>13</td>\n",
       "      <td>21</td>\n",
       "      <td>6</td>\n",
       "      <td>12</td>\n",
       "      <td>1</td>\n",
       "      <td>0</td>\n",
       "      <td>0</td>\n",
       "      <td>-2.0</td>\n",
       "    </tr>\n",
       "    <tr>\n",
       "      <th>9</th>\n",
       "      <td>3</td>\n",
       "      <td>21</td>\n",
       "      <td>1</td>\n",
       "      <td>17</td>\n",
       "      <td>6</td>\n",
       "      <td>0</td>\n",
       "      <td>0</td>\n",
       "      <td>0</td>\n",
       "      <td>0</td>\n",
       "      <td>16</td>\n",
       "      <td>15</td>\n",
       "      <td>2</td>\n",
       "      <td>12</td>\n",
       "      <td>14</td>\n",
       "      <td>0</td>\n",
       "      <td>0</td>\n",
       "      <td>0</td>\n",
       "      <td>0</td>\n",
       "      <td>-3.0</td>\n",
       "    </tr>\n",
       "    <tr>\n",
       "      <th>10</th>\n",
       "      <td>2</td>\n",
       "      <td>5</td>\n",
       "      <td>21</td>\n",
       "      <td>23</td>\n",
       "      <td>17</td>\n",
       "      <td>0</td>\n",
       "      <td>0</td>\n",
       "      <td>0</td>\n",
       "      <td>0</td>\n",
       "      <td>13</td>\n",
       "      <td>12</td>\n",
       "      <td>22</td>\n",
       "      <td>1</td>\n",
       "      <td>6</td>\n",
       "      <td>0</td>\n",
       "      <td>0</td>\n",
       "      <td>0</td>\n",
       "      <td>0</td>\n",
       "      <td>-4.0</td>\n",
       "    </tr>\n",
       "    <tr>\n",
       "      <th>11</th>\n",
       "      <td>17</td>\n",
       "      <td>24</td>\n",
       "      <td>12</td>\n",
       "      <td>11</td>\n",
       "      <td>3</td>\n",
       "      <td>8</td>\n",
       "      <td>12</td>\n",
       "      <td>14</td>\n",
       "      <td>0</td>\n",
       "      <td>4</td>\n",
       "      <td>1</td>\n",
       "      <td>2</td>\n",
       "      <td>5</td>\n",
       "      <td>23</td>\n",
       "      <td>18</td>\n",
       "      <td>28</td>\n",
       "      <td>9</td>\n",
       "      <td>0</td>\n",
       "      <td>-4.0</td>\n",
       "    </tr>\n",
       "    <tr>\n",
       "      <th>12</th>\n",
       "      <td>12</td>\n",
       "      <td>1</td>\n",
       "      <td>2</td>\n",
       "      <td>13</td>\n",
       "      <td>23</td>\n",
       "      <td>14</td>\n",
       "      <td>18</td>\n",
       "      <td>0</td>\n",
       "      <td>0</td>\n",
       "      <td>20</td>\n",
       "      <td>5</td>\n",
       "      <td>19</td>\n",
       "      <td>16</td>\n",
       "      <td>3</td>\n",
       "      <td>4</td>\n",
       "      <td>17</td>\n",
       "      <td>0</td>\n",
       "      <td>0</td>\n",
       "      <td>0.0</td>\n",
       "    </tr>\n",
       "    <tr>\n",
       "      <th>13</th>\n",
       "      <td>3</td>\n",
       "      <td>16</td>\n",
       "      <td>2</td>\n",
       "      <td>4</td>\n",
       "      <td>17</td>\n",
       "      <td>19</td>\n",
       "      <td>12</td>\n",
       "      <td>23</td>\n",
       "      <td>10</td>\n",
       "      <td>13</td>\n",
       "      <td>7</td>\n",
       "      <td>1</td>\n",
       "      <td>5</td>\n",
       "      <td>18</td>\n",
       "      <td>11</td>\n",
       "      <td>29</td>\n",
       "      <td>6</td>\n",
       "      <td>22</td>\n",
       "      <td>-1.0</td>\n",
       "    </tr>\n",
       "    <tr>\n",
       "      <th>14</th>\n",
       "      <td>16</td>\n",
       "      <td>9</td>\n",
       "      <td>1</td>\n",
       "      <td>18</td>\n",
       "      <td>3</td>\n",
       "      <td>2</td>\n",
       "      <td>12</td>\n",
       "      <td>20</td>\n",
       "      <td>0</td>\n",
       "      <td>13</td>\n",
       "      <td>5</td>\n",
       "      <td>17</td>\n",
       "      <td>14</td>\n",
       "      <td>7</td>\n",
       "      <td>6</td>\n",
       "      <td>8</td>\n",
       "      <td>23</td>\n",
       "      <td>0</td>\n",
       "      <td>1.0</td>\n",
       "    </tr>\n",
       "    <tr>\n",
       "      <th>15</th>\n",
       "      <td>12</td>\n",
       "      <td>2</td>\n",
       "      <td>13</td>\n",
       "      <td>1</td>\n",
       "      <td>4</td>\n",
       "      <td>9</td>\n",
       "      <td>8</td>\n",
       "      <td>6</td>\n",
       "      <td>0</td>\n",
       "      <td>14</td>\n",
       "      <td>16</td>\n",
       "      <td>7</td>\n",
       "      <td>5</td>\n",
       "      <td>18</td>\n",
       "      <td>3</td>\n",
       "      <td>17</td>\n",
       "      <td>11</td>\n",
       "      <td>0</td>\n",
       "      <td>0.0</td>\n",
       "    </tr>\n",
       "    <tr>\n",
       "      <th>16</th>\n",
       "      <td>17</td>\n",
       "      <td>22</td>\n",
       "      <td>20</td>\n",
       "      <td>10</td>\n",
       "      <td>5</td>\n",
       "      <td>7</td>\n",
       "      <td>0</td>\n",
       "      <td>0</td>\n",
       "      <td>0</td>\n",
       "      <td>16</td>\n",
       "      <td>2</td>\n",
       "      <td>28</td>\n",
       "      <td>3</td>\n",
       "      <td>18</td>\n",
       "      <td>15</td>\n",
       "      <td>0</td>\n",
       "      <td>0</td>\n",
       "      <td>0</td>\n",
       "      <td>0.0</td>\n",
       "    </tr>\n",
       "    <tr>\n",
       "      <th>17</th>\n",
       "      <td>20</td>\n",
       "      <td>7</td>\n",
       "      <td>12</td>\n",
       "      <td>2</td>\n",
       "      <td>1</td>\n",
       "      <td>9</td>\n",
       "      <td>10</td>\n",
       "      <td>18</td>\n",
       "      <td>0</td>\n",
       "      <td>17</td>\n",
       "      <td>4</td>\n",
       "      <td>13</td>\n",
       "      <td>16</td>\n",
       "      <td>15</td>\n",
       "      <td>8</td>\n",
       "      <td>14</td>\n",
       "      <td>3</td>\n",
       "      <td>0</td>\n",
       "      <td>0.0</td>\n",
       "    </tr>\n",
       "    <tr>\n",
       "      <th>18</th>\n",
       "      <td>15</td>\n",
       "      <td>17</td>\n",
       "      <td>13</td>\n",
       "      <td>1</td>\n",
       "      <td>3</td>\n",
       "      <td>2</td>\n",
       "      <td>4</td>\n",
       "      <td>0</td>\n",
       "      <td>0</td>\n",
       "      <td>11</td>\n",
       "      <td>12</td>\n",
       "      <td>14</td>\n",
       "      <td>1</td>\n",
       "      <td>6</td>\n",
       "      <td>16</td>\n",
       "      <td>27</td>\n",
       "      <td>0</td>\n",
       "      <td>0</td>\n",
       "      <td>0.0</td>\n",
       "    </tr>\n",
       "  </tbody>\n",
       "</table>\n",
       "</div>"
      ],
      "text/plain": [
       "     0   1   2   3   4   5   6   7   8   9  10  11  12  13  14  15  16  17  \\\n",
       "0   17   1   4  22  13   0   0   0   0  19   2  16   5  14   0   0   0   0   \n",
       "1   12  16   2  14   6   4   0   0   0  27  17   3  30  18   1   0   0   0   \n",
       "2    6  12  17   2  19  30   0   0   0  16   3   8   1  10   9   0   0   0   \n",
       "3   13  18   3  16  21   4  15   1   0   2  17  24  19  27  31  12   8   0   \n",
       "4    2  17  12   8  21   0   0   0   0   1  16   9  27  15   0   0   0   0   \n",
       "5   13  20  17   3   5   1  12  24   0  16  31   6  18   2  21  23   4   0   \n",
       "6    3  15  12   1  17   8   0   0   0  16   4   6  20  27   2   0   0   0   \n",
       "7   16   5   1  17  15  10   0   0   0  23  28   2  18  12  19   0   0   0   \n",
       "8   17  27   3  16   4  28   2   0   0  20  18  13  21   6  12   1   0   0   \n",
       "9    3  21   1  17   6   0   0   0   0  16  15   2  12  14   0   0   0   0   \n",
       "10   2   5  21  23  17   0   0   0   0  13  12  22   1   6   0   0   0   0   \n",
       "11  17  24  12  11   3   8  12  14   0   4   1   2   5  23  18  28   9   0   \n",
       "12  12   1   2  13  23  14  18   0   0  20   5  19  16   3   4  17   0   0   \n",
       "13   3  16   2   4  17  19  12  23  10  13   7   1   5  18  11  29   6  22   \n",
       "14  16   9   1  18   3   2  12  20   0  13   5  17  14   7   6   8  23   0   \n",
       "15  12   2  13   1   4   9   8   6   0  14  16   7   5  18   3  17  11   0   \n",
       "16  17  22  20  10   5   7   0   0   0  16   2  28   3  18  15   0   0   0   \n",
       "17  20   7  12   2   1   9  10  18   0  17   4  13  16  15   8  14   3   0   \n",
       "18  15  17  13   1   3   2   4   0   0  11  12  14   1   6  16  27   0   0   \n",
       "\n",
       "    target  \n",
       "0     11.0  \n",
       "1      1.0  \n",
       "2      2.0  \n",
       "3      3.0  \n",
       "4      3.0  \n",
       "5      3.0  \n",
       "6      1.0  \n",
       "7      1.0  \n",
       "8     -2.0  \n",
       "9     -3.0  \n",
       "10    -4.0  \n",
       "11    -4.0  \n",
       "12     0.0  \n",
       "13    -1.0  \n",
       "14     1.0  \n",
       "15     0.0  \n",
       "16     0.0  \n",
       "17     0.0  \n",
       "18     0.0  "
      ]
     },
     "execution_count": 68,
     "metadata": {},
     "output_type": "execute_result"
    }
   ],
   "source": [
    "data"
   ]
  },
  {
   "cell_type": "code",
   "execution_count": 54,
   "id": "31df213d-3777-4dd3-8957-a24b00ed02aa",
   "metadata": {},
   "outputs": [
    {
     "data": {
      "text/plain": [
       "(19, 37)"
      ]
     },
     "execution_count": 54,
     "metadata": {},
     "output_type": "execute_result"
    }
   ],
   "source": [
    "# data = np.concatenate([combined_background, combined_y] , axis=1)  \n",
    "# data.shape"
   ]
  },
  {
   "cell_type": "code",
   "execution_count": 69,
   "id": "14d48569-896d-45cf-89d7-2791faa3a075",
   "metadata": {},
   "outputs": [
    {
     "name": "stderr",
     "output_type": "stream",
     "text": [
      "dist_matrix: 100%|###############################################################################################################################################################| 4/4 [00:00<00:00, 977.47it/s]\n",
      "r_index: 100%|###################################################################################################################################################################| 2/2 [00:00<00:00, 646.62it/s]\n",
      "dist_matrix: 100%|##############################################################################################################################################################| 5/5 [00:00<00:00, 1582.28it/s]\n"
     ]
    }
   ],
   "source": [
    "# Apply SMOTER augmentation\n",
    "data_resampled = smoter(data=data, y=\"target\", under_samp=False, drop_na_row=False, drop_na_col=False)\n",
    "\n"
   ]
  },
  {
   "cell_type": "code",
   "execution_count": 70,
   "id": "978a5485-9c36-4995-86aa-5aa404063d81",
   "metadata": {},
   "outputs": [
    {
     "data": {
      "text/plain": [
       "(2, 19)"
      ]
     },
     "execution_count": 70,
     "metadata": {},
     "output_type": "execute_result"
    }
   ],
   "source": [
    "data_resampled.shape"
   ]
  },
  {
   "cell_type": "code",
   "execution_count": 67,
   "id": "41432cfe-1204-45bb-9fae-1cd9454f707f",
   "metadata": {},
   "outputs": [
    {
     "data": {
      "text/html": [
       "<div>\n",
       "<style scoped>\n",
       "    .dataframe tbody tr th:only-of-type {\n",
       "        vertical-align: middle;\n",
       "    }\n",
       "\n",
       "    .dataframe tbody tr th {\n",
       "        vertical-align: top;\n",
       "    }\n",
       "\n",
       "    .dataframe thead th {\n",
       "        text-align: right;\n",
       "    }\n",
       "</style>\n",
       "<table border=\"1\" class=\"dataframe\">\n",
       "  <thead>\n",
       "    <tr style=\"text-align: right;\">\n",
       "      <th></th>\n",
       "      <th>0</th>\n",
       "      <th>1</th>\n",
       "      <th>2</th>\n",
       "      <th>3</th>\n",
       "      <th>4</th>\n",
       "      <th>5</th>\n",
       "      <th>6</th>\n",
       "      <th>7</th>\n",
       "      <th>8</th>\n",
       "      <th>9</th>\n",
       "      <th>10</th>\n",
       "      <th>11</th>\n",
       "      <th>12</th>\n",
       "      <th>13</th>\n",
       "      <th>14</th>\n",
       "      <th>15</th>\n",
       "      <th>16</th>\n",
       "      <th>17</th>\n",
       "      <th>target</th>\n",
       "    </tr>\n",
       "  </thead>\n",
       "  <tbody>\n",
       "    <tr>\n",
       "      <th>0</th>\n",
       "      <td>17.0</td>\n",
       "      <td>27.0</td>\n",
       "      <td>2.0</td>\n",
       "      <td>15.0</td>\n",
       "      <td>3.0</td>\n",
       "      <td>28.0</td>\n",
       "      <td>1.0</td>\n",
       "      <td>0.0</td>\n",
       "      <td>0</td>\n",
       "      <td>20.0</td>\n",
       "      <td>18.0</td>\n",
       "      <td>13.0</td>\n",
       "      <td>21.0</td>\n",
       "      <td>6.0</td>\n",
       "      <td>12.0</td>\n",
       "      <td>0.0</td>\n",
       "      <td>0.0</td>\n",
       "      <td>0</td>\n",
       "      <td>-2.004256</td>\n",
       "    </tr>\n",
       "    <tr>\n",
       "      <th>1</th>\n",
       "      <td>1.0</td>\n",
       "      <td>5.0</td>\n",
       "      <td>21.0</td>\n",
       "      <td>23.0</td>\n",
       "      <td>16.0</td>\n",
       "      <td>0.0</td>\n",
       "      <td>0.0</td>\n",
       "      <td>0.0</td>\n",
       "      <td>0</td>\n",
       "      <td>12.0</td>\n",
       "      <td>11.0</td>\n",
       "      <td>22.0</td>\n",
       "      <td>1.0</td>\n",
       "      <td>6.0</td>\n",
       "      <td>0.0</td>\n",
       "      <td>0.0</td>\n",
       "      <td>0.0</td>\n",
       "      <td>0</td>\n",
       "      <td>-4.000440</td>\n",
       "    </tr>\n",
       "  </tbody>\n",
       "</table>\n",
       "</div>"
      ],
      "text/plain": [
       "      0     1     2     3     4     5    6    7  8     9    10    11    12  \\\n",
       "0  17.0  27.0   2.0  15.0   3.0  28.0  1.0  0.0  0  20.0  18.0  13.0  21.0   \n",
       "1   1.0   5.0  21.0  23.0  16.0   0.0  0.0  0.0  0  12.0  11.0  22.0   1.0   \n",
       "\n",
       "    13    14   15   16  17    target  \n",
       "0  6.0  12.0  0.0  0.0   0 -2.004256  \n",
       "1  6.0   0.0  0.0  0.0   0 -4.000440  "
      ]
     },
     "execution_count": 67,
     "metadata": {},
     "output_type": "execute_result"
    }
   ],
   "source": [
    "data_resampled"
   ]
  },
  {
   "cell_type": "code",
   "execution_count": null,
   "id": "c6820187-136e-43d5-ba16-95aa2c1da4b0",
   "metadata": {},
   "outputs": [],
   "source": [
    "X_res = data_resampled.drop('target', axis=1).values\n",
    "y_res = data_resampled['target'].values"
   ]
  },
  {
   "cell_type": "markdown",
   "id": "93aca921-52eb-4f3d-933d-35e2b7cbe6a3",
   "metadata": {},
   "source": [
    "## Ideas"
   ]
  },
  {
   "cell_type": "markdown",
   "id": "e0285159-71ac-45ae-a438-300d6bb6b9ef",
   "metadata": {},
   "source": [
    "\n",
    "1. how vector embeddings initialisation affects results? +\n",
    "2. add scores statistics for the player to speedup learning +\n",
    "3. WHy embeddings always different?\n",
    "4. How to check whether player zero embeddings change? - ok, doesn change if we disable embedding L2 regularization +\n",
    "5. can SMOTE help with learning?\n",
    "6. SHAP values, model agnostic?\n",
    "7. Show how for synthetic data avg.correlation increases and we can see how quicly model is learning\n",
    "8. Hyper parameter search with choise()"
   ]
  },
  {
   "cell_type": "code",
   "execution_count": null,
   "id": "bbd1ade8-11d2-4377-8c2f-aed04d4216fc",
   "metadata": {},
   "outputs": [],
   "source": []
  }
 ],
 "metadata": {
  "kernelspec": {
   "display_name": "Python Football Manager",
   "language": "python",
   "name": "footballman"
  },
  "language_info": {
   "codemirror_mode": {
    "name": "ipython",
    "version": 3
   },
   "file_extension": ".py",
   "mimetype": "text/x-python",
   "name": "python",
   "nbconvert_exporter": "python",
   "pygments_lexer": "ipython3",
   "version": "3.12.9"
  }
 },
 "nbformat": 4,
 "nbformat_minor": 5
}

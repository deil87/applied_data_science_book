{
 "cells": [
  {
   "cell_type": "code",
   "execution_count": 6,
   "id": "b30031ee-5c79-46a5-a3d4-5e154ccef692",
   "metadata": {},
   "outputs": [],
   "source": [
    "import tensorflow as tf\n",
    "from tensorflow.keras import layers, Model, Input\n",
    "from datetime import date\n",
    "import numpy as np\n",
    "\n",
    "# import competition_manager as cm\n",
    "from competition_manager import *"
   ]
  },
  {
   "cell_type": "markdown",
   "id": "204ced67-44c3-4e09-b65b-fc35a92320c7",
   "metadata": {},
   "source": [
    "## Prepare real players data"
   ]
  },
  {
   "cell_type": "code",
   "execution_count": 7,
   "id": "a0f6c7ac-dc43-4840-99e7-88ff9e8a2832",
   "metadata": {},
   "outputs": [],
   "source": [
    "team_members = [\"Andrey Spiridonov\", \"Andrey Trubicin\", \"Andrey Larionov\", \"Veselin\", \"Fedor\", \"Andrey Selifonov\",\n",
    "                \"Dmitro Ilchenko\", \"Sergii Kolbasin\", \"Vlad\", \"Pavel Karacharov\", \"Sanya\", \"Roman\", \"Ivan\", \"Denys\", \"Vitalii Zhebrakovksy\",\n",
    "                \"Oleksandr\", \"Loginov Dmitrii\", \"Artem Bykov\", \"Kirill\", \"Bondarev Yurii\", \"Gundars Mednis\", \"Alexandr Mikhailov\",\n",
    "                \"Pedro Ispanec\", \"Dimon Sirnik Lozuk\", \"Sergey Konovalov\", \"Vladimir Chavskiy\", \"Alex Akimov\", \"Andrey\", \"Sanya DrugIlchenko\", \n",
    "                \"Vitalik goalkeeper\", \"Dimon Melkii\"]\n"
   ]
  },
  {
   "cell_type": "code",
   "execution_count": 8,
   "id": "c66447ee-2d6c-4df6-8cd2-f8535a607501",
   "metadata": {},
   "outputs": [
    {
     "data": {
      "text/plain": [
       "{1: 'Andrey Spiridonov',\n",
       " 2: 'Andrey Trubicin',\n",
       " 3: 'Andrey Larionov',\n",
       " 4: 'Veselin',\n",
       " 5: 'Fedor',\n",
       " 6: 'Andrey Selifonov',\n",
       " 7: 'Dmitro Ilchenko',\n",
       " 8: 'Sergii Kolbasin',\n",
       " 9: 'Vlad',\n",
       " 10: 'Pavel Karacharov',\n",
       " 11: 'Sanya',\n",
       " 12: 'Roman',\n",
       " 13: 'Ivan',\n",
       " 14: 'Denys',\n",
       " 15: 'Vitalii Zhebrakovksy',\n",
       " 16: 'Oleksandr',\n",
       " 17: 'Loginov Dmitrii',\n",
       " 18: 'Artem Bykov',\n",
       " 19: 'Kirill',\n",
       " 20: 'Bondarev Yurii',\n",
       " 21: 'Gundars Mednis',\n",
       " 22: 'Alexandr Mikhailov',\n",
       " 23: 'Pedro Ispanec',\n",
       " 24: 'Dimon Sirnik Lozuk',\n",
       " 25: 'Sergey Konovalov',\n",
       " 26: 'Vladimir Chavskiy',\n",
       " 27: 'Alex Akimov',\n",
       " 28: 'Andrey',\n",
       " 29: 'Sanya DrugIlchenko',\n",
       " 30: 'Vitalik goalkeeper',\n",
       " 31: 'Dimon Melkii'}"
      ]
     },
     "execution_count": 8,
     "metadata": {},
     "output_type": "execute_result"
    }
   ],
   "source": [
    "team_members_with_ids = {idx + 1: tm for idx, tm in enumerate(team_members)}\n",
    "team_members_with_ids"
   ]
  },
  {
   "cell_type": "code",
   "execution_count": null,
   "id": "1e861817-00b4-484f-a46e-546510fb244b",
   "metadata": {},
   "outputs": [],
   "source": [
    "{1: 'Andrey Spiridonov', #9.75\n",
    " 2: 'Andrey Trubicin', # 9 \n",
    " 3: 'Andrey Larionov', #5\n",
    " 4: 'Veselin', # 6\n",
    " 5: 'Fedor', # 7\n",
    " 6: 'Andrey Selifonov', # 6.5\n",
    " 7: 'Dmitro Ilchenko', #7.5\n",
    " 8: 'Sergii Kolbasin', # 6.5\n",
    " 9: 'Vlad', #4\n",
    " 10: 'Pavel Karacharov', # 7\n",
    " 11: 'Sanya', # 6\n",
    " 12: 'Roman', # 6.5\n",
    " 13: 'Ivan', # 9.25\n",
    " 14: 'Denys', # 4.5\n",
    " 15: 'Vitalii Zhebrakovksy', #6.75\n",
    " 16: 'Oleksandr', #9.25\n",
    " 17: 'Loginov Dmitrii', # 8.5\n",
    " 18: 'Artem Bykov', # 7.5\n",
    " 19: 'Kirill', #9.5\n",
    " 20: 'Bondarev Yurii', # 5\n",
    " 21: 'Gundars Mednis', # 5.5\n",
    " 22: 'Alexandr Mikhailov', # 5.5\n",
    " 23: 'Pedro Ispanec', #9.5\n",
    " 24: 'Dimon Sirnik Lozuk', # 8.75\n",
    " 25: 'Sergey Konovalov' # 6.5,\n",
    " 26: 'Vladimir Chavskiy' # 8,\n",
    " 27: 'Alex Akimov' # 7,\n",
    " 28: 'Andrey' # 7.5,\n",
    " 29: 'Sanya DrugIlchenko', #8\n",
    " 30: 'Vitalik goalkeeper', #7,\n",
    " 31: 'Dimon Melkii' # 6.5}"
   ]
  },
  {
   "cell_type": "code",
   "execution_count": 122,
   "id": "2cef32c7-66b6-4c24-8bf0-12cbfde2159e",
   "metadata": {},
   "outputs": [],
   "source": [
    "player_strengths_estimates = np.array([9.5, 9, 5, 6, 8.5, 6.5, 7.5, 6.5,4, 7, 6,6.5, 9.25, 4.5, 6.75, 9.25, 8.5, \n",
    "                                       7.5, 9.5, 5, 5.5, 5.5 , 9.5, 8.75, 6.5, 8, 7, 7.5, 8 , 7, 6.5])"
   ]
  },
  {
   "cell_type": "code",
   "execution_count": 22,
   "id": "3e8b1d05-edb1-4673-ac0b-79326f3d012f",
   "metadata": {},
   "outputs": [
    {
     "data": {
      "text/plain": [
       "31"
      ]
     },
     "execution_count": 22,
     "metadata": {},
     "output_type": "execute_result"
    }
   ],
   "source": [
    "len(player_strengths_estimates)"
   ]
  },
  {
   "cell_type": "code",
   "execution_count": 9,
   "id": "cf6280fa-6ad3-4e90-9073-65e9fa8d2d09",
   "metadata": {},
   "outputs": [],
   "source": [
    "\n",
    "def name_to_var(name):\n",
    "    \"\"\"Convert a full name string into a valid Python variable name.\"\"\"\n",
    "    # Lowercase, replace spaces with underscores, remove non-alphanumeric/underscore characters\n",
    "    import re\n",
    "    var = name.lower()\n",
    "    var = var.replace(' ', '_')\n",
    "    var = re.sub(r'[^0-9a-z_]', '', var)\n",
    "    return var\n",
    "\n",
    "# Define variables dynamically in globals()\n",
    "for idx, name in team_members_with_ids.items():\n",
    "    var_name = name_to_var(name)\n",
    "    globals()[var_name] = idx"
   ]
  },
  {
   "cell_type": "code",
   "execution_count": null,
   "id": "3127cc64-1031-4be3-b61a-2fa3300ae879",
   "metadata": {},
   "outputs": [],
   "source": []
  },
  {
   "cell_type": "code",
   "execution_count": 10,
   "id": "730adf2b-74b7-4da4-9bf1-841e821863cc",
   "metadata": {},
   "outputs": [],
   "source": [
    "historical_cometitions = [\n",
    "    Competition([loginov_dmitrii, andrey_spiridonov, veselin, alexandr_mikhailov, ivan],\n",
    "     [kirill, andrey_trubicin, oleksandr, fedor, denys], 11, date(2025, 7, 13 )),\n",
    "\n",
    "    Competition([roman, oleksandr, andrey_trubicin, denys, andrey_selifonov, veselin],\n",
    "     [alex_akimov, loginov_dmitrii, andrey_larionov, vitalik_goalkeeper, artem_bykov, andrey_spiridonov], 1, date(2025, 7, 6 )),\n",
    "\n",
    "    Competition([andrey_selifonov, roman, loginov_dmitrii, andrey_trubicin, kirill, vitalik_goalkeeper],\n",
    "     [oleksandr, andrey_larionov, sergii_kolbasin, andrey_spiridonov, pavel_karacharov, vlad], 2, date(2025, 6, 22 )),\n",
    "\n",
    "    Competition([ivan, artem_bykov, andrey_larionov, oleksandr, gundars_mednis, veselin, vitalii_zhebrakovksy, andrey_spiridonov],\n",
    "     [andrey_trubicin, loginov_dmitrii, dimon_sirnik_lozuk, kirill, alex_akimov, dimon_melkii, roman, sergii_kolbasin], 3, date(2025, 6, 14 )),\n",
    "\n",
    "    Competition([andrey_trubicin, loginov_dmitrii, roman, sergii_kolbasin, gundars_mednis],\n",
    "     [andrey_spiridonov, oleksandr, vlad, alex_akimov, vitalii_zhebrakovksy], 3, date(2025, 6, 9 )),\n",
    "\n",
    "    Competition([ivan, bondarev_yurii, loginov_dmitrii, andrey_larionov, fedor, andrey_spiridonov, roman, dimon_sirnik_lozuk],\n",
    "     [oleksandr, dimon_melkii, andrey_selifonov, artem_bykov, andrey_trubicin, gundars_mednis, pedro_ispanec, veselin], 3, date(2025, 6, 8 )),\n",
    "\n",
    "    Competition([andrey_larionov, vitalii_zhebrakovksy, roman, andrey_spiridonov, loginov_dmitrii, sergii_kolbasin],\n",
    "     [oleksandr, veselin, andrey_selifonov, bondarev_yurii, alex_akimov, andrey_trubicin], 1, date(2025, 5, 25 )),\n",
    "\n",
    "    Competition([oleksandr, fedor, andrey_spiridonov, loginov_dmitrii, vitalii_zhebrakovksy, pavel_karacharov],\n",
    "     [pedro_ispanec, andrey, andrey_trubicin, artem_bykov, roman, kirill], 1, date(2025, 5, 4 )), # 14:13\n",
    "\n",
    "    Competition([loginov_dmitrii, alex_akimov, andrey_larionov, oleksandr, veselin, andrey, andrey_trubicin],\n",
    "     [bondarev_yurii, artem_bykov, ivan, gundars_mednis, andrey_selifonov, roman, andrey_spiridonov], -2, date(2025, 4, 12 )), # 9:11\n",
    "\n",
    "    Competition([andrey_larionov, gundars_mednis, andrey_spiridonov, loginov_dmitrii, andrey_selifonov],\n",
    "     [oleksandr, vitalii_zhebrakovksy, andrey_trubicin, roman, denys], -3, date(2025, 4, 6 )), # 13:16\n",
    "\n",
    "    \n",
    "    \n",
    "    Competition([andrey_trubicin, fedor, gundars_mednis, pedro_ispanec, loginov_dmitrii],\n",
    "     [ivan, roman, alexandr_mikhailov, andrey_spiridonov, andrey_selifonov], -4, date(2025, 3, 29 )),\n",
    "\n",
    "    Competition([loginov_dmitrii, dimon_sirnik_lozuk, roman, sanya, andrey_larionov, sergii_kolbasin, roman, denys],\n",
    "     [veselin, andrey_spiridonov, andrey_trubicin, fedor, pedro_ispanec, artem_bykov, andrey, vlad], -4, date( 2025, 3, 22)),\n",
    "\n",
    "    Competition([roman, andrey_spiridonov, andrey_trubicin, ivan, pedro_ispanec, denys, artem_bykov],\n",
    "     [bondarev_yurii, fedor, kirill, oleksandr, andrey_larionov, veselin, loginov_dmitrii], 0, date(2025, 3, 9)),\n",
    "\n",
    "    Competition([andrey_larionov, oleksandr, andrey_trubicin, veselin, loginov_dmitrii, kirill, roman, pedro_ispanec, pavel_karacharov],\n",
    "     [ivan, dmitro_ilchenko, andrey_spiridonov, fedor, artem_bykov, sanya, sanya_drugilchenko, andrey_selifonov, alexandr_mikhailov], -1, date(2025, 3, 2)),\n",
    "\n",
    "    Competition([oleksandr, vlad, andrey_spiridonov, artem_bykov, andrey_larionov, andrey_trubicin, roman, bondarev_yurii],\n",
    "     [ivan, fedor, loginov_dmitrii, denys, dmitro_ilchenko, andrey_selifonov, sergii_kolbasin, pedro_ispanec], 1, date(2025, 2, 8)),\n",
    "\n",
    "    Competition([roman, andrey_trubicin, ivan, andrey_spiridonov, veselin, vlad, sergii_kolbasin, andrey_selifonov],\n",
    "     [denys, oleksandr, dmitro_ilchenko, fedor, artem_bykov, andrey_larionov, loginov_dmitrii, sanya], 0, date(2025, 2, 1)),\n",
    "\n",
    "    Competition([loginov_dmitrii, alexandr_mikhailov, bondarev_yurii, pavel_karacharov, fedor, dmitro_ilchenko],\n",
    "     [oleksandr, andrey_trubicin, andrey, andrey_larionov, artem_bykov, vitalii_zhebrakovksy], 0, date(2025, 1, 26)),\n",
    "\n",
    "    \n",
    "    Competition([bondarev_yurii, dmitro_ilchenko, roman, andrey_trubicin, andrey_spiridonov, vlad, pavel_karacharov, artem_bykov],\n",
    "     [loginov_dmitrii, veselin, ivan, oleksandr, vitalii_zhebrakovksy, sergii_kolbasin, denys, andrey_larionov], 0, date(2025, 1, 18)),  # Black legs matter\n",
    "\n",
    "    Competition([vitalii_zhebrakovksy, loginov_dmitrii, ivan, andrey_spiridonov, andrey_larionov, andrey_trubicin, veselin],\n",
    "     [sanya, roman, denys, andrey_spiridonov, andrey_selifonov, oleksandr, alex_akimov], 0, date(2024, 12, 29)),\n",
    "]"
   ]
  },
  {
   "cell_type": "code",
   "execution_count": 119,
   "id": "10c223b1-b4e8-4b14-86bd-39ccf0ad08f8",
   "metadata": {},
   "outputs": [
    {
     "data": {
      "text/plain": [
       "19"
      ]
     },
     "execution_count": 119,
     "metadata": {},
     "output_type": "execute_result"
    }
   ],
   "source": [
    "len(historical_cometitions)"
   ]
  },
  {
   "cell_type": "code",
   "execution_count": 11,
   "id": "3d69cda4-3b41-4cd8-b966-af42106f8104",
   "metadata": {
    "jupyter": {
     "source_hidden": true
    }
   },
   "outputs": [
    {
     "name": "stdout",
     "output_type": "stream",
     "text": [
      "Shape of teamA_data: (19, 9)\n",
      "teamA_data shape: (19, 9)\n",
      "teamB_data shape: (19, 9)\n",
      "labels shape: (19,)\n"
     ]
    }
   ],
   "source": [
    "np.random.seed(42)  # for reproducibility\n",
    "\n",
    "NUM_PLAYERS = len(team_members_with_ids)\n",
    "MIN_TEAM_SIZE = 5\n",
    "MAX_TEAM_SIZE = 9\n",
    "NUM_GAMES = len(historical_cometitions)\n",
    "\n",
    "teamA_data = np.zeros((NUM_GAMES, MAX_TEAM_SIZE), dtype=int)\n",
    "teamB_data = np.zeros((NUM_GAMES, MAX_TEAM_SIZE), dtype=int)\n",
    "labels = np.zeros(NUM_GAMES)\n",
    "\n",
    "print(f\"Shape of teamA_data: {teamA_data.shape}\")\n",
    "\n",
    "for comp_i, competition in enumerate(historical_cometitions):\n",
    "\n",
    "    teamA_players = competition.team_a\n",
    "    teamB_players = competition.team_b\n",
    "    assert len(teamA_players) == len(teamB_players), f\"Teams are supposed to be of equal size, Team A:{len(teamA_players)} Team B: {len(teamB_players)}\"\n",
    "    team_size = len(teamA_players)\n",
    "\n",
    "    labels[comp_i] = competition.score_diff\n",
    "\n",
    "    # print(teamA_players)\n",
    "    # print(teamB_players)\n",
    "    # Pad teams to max size using zeros (which corresponds to masked player)\n",
    "    teamA_data[comp_i, :team_size] = teamA_players\n",
    "    teamB_data[comp_i, :team_size] = teamB_players\n",
    "\n",
    "print(\"teamA_data shape:\", teamA_data.shape)\n",
    "print(\"teamB_data shape:\", teamB_data.shape)\n",
    "print(\"labels shape:\", labels.shape)"
   ]
  },
  {
   "cell_type": "markdown",
   "id": "77c86620-b38e-488a-a8f4-1f2207bba927",
   "metadata": {},
   "source": [
    "## Version of the model for real data"
   ]
  },
  {
   "cell_type": "code",
   "execution_count": 12,
   "id": "a63e979a-e3f9-4f61-9468-7f5663aada75",
   "metadata": {},
   "outputs": [
    {
     "data": {
      "text/plain": [
       "(19, 9)"
      ]
     },
     "execution_count": 12,
     "metadata": {},
     "output_type": "execute_result"
    }
   ],
   "source": [
    "teamB_data.shape"
   ]
  },
  {
   "cell_type": "code",
   "execution_count": 14,
   "id": "a702f663-1001-4c3b-9df0-fefa0315aa33",
   "metadata": {},
   "outputs": [
    {
     "data": {
      "text/html": [
       "<pre style=\"white-space:pre;overflow-x:auto;line-height:normal;font-family:Menlo,'DejaVu Sans Mono',consolas,'Courier New',monospace\"><span style=\"font-weight: bold\">Model: \"functional\"</span>\n",
       "</pre>\n"
      ],
      "text/plain": [
       "\u001b[1mModel: \"functional\"\u001b[0m\n"
      ]
     },
     "metadata": {},
     "output_type": "display_data"
    },
    {
     "data": {
      "text/html": [
       "<pre style=\"white-space:pre;overflow-x:auto;line-height:normal;font-family:Menlo,'DejaVu Sans Mono',consolas,'Courier New',monospace\">┏━━━━━━━━━━━━━━━━━━━━━┳━━━━━━━━━━━━━━━━━━━┳━━━━━━━━━━━━┳━━━━━━━━━━━━━━━━━━━┓\n",
       "┃<span style=\"font-weight: bold\"> Layer (type)        </span>┃<span style=\"font-weight: bold\"> Output Shape      </span>┃<span style=\"font-weight: bold\">    Param # </span>┃<span style=\"font-weight: bold\"> Connected to      </span>┃\n",
       "┡━━━━━━━━━━━━━━━━━━━━━╇━━━━━━━━━━━━━━━━━━━╇━━━━━━━━━━━━╇━━━━━━━━━━━━━━━━━━━┩\n",
       "│ teamA (<span style=\"color: #0087ff; text-decoration-color: #0087ff\">InputLayer</span>)  │ (<span style=\"color: #00d7ff; text-decoration-color: #00d7ff\">None</span>, <span style=\"color: #00d7ff; text-decoration-color: #00d7ff\">None</span>)      │          <span style=\"color: #00af00; text-decoration-color: #00af00\">0</span> │ -                 │\n",
       "├─────────────────────┼───────────────────┼────────────┼───────────────────┤\n",
       "│ teamB (<span style=\"color: #0087ff; text-decoration-color: #0087ff\">InputLayer</span>)  │ (<span style=\"color: #00d7ff; text-decoration-color: #00d7ff\">None</span>, <span style=\"color: #00d7ff; text-decoration-color: #00d7ff\">None</span>)      │          <span style=\"color: #00af00; text-decoration-color: #00af00\">0</span> │ -                 │\n",
       "├─────────────────────┼───────────────────┼────────────┼───────────────────┤\n",
       "│ player_embedding    │ (<span style=\"color: #00d7ff; text-decoration-color: #00d7ff\">None</span>, <span style=\"color: #00d7ff; text-decoration-color: #00d7ff\">None</span>, <span style=\"color: #00af00; text-decoration-color: #00af00\">32</span>)  │      <span style=\"color: #00af00; text-decoration-color: #00af00\">1,024</span> │ teamA[<span style=\"color: #00af00; text-decoration-color: #00af00\">0</span>][<span style=\"color: #00af00; text-decoration-color: #00af00\">0</span>],      │\n",
       "│ (<span style=\"color: #0087ff; text-decoration-color: #0087ff\">Embedding</span>)         │                   │            │ teamB[<span style=\"color: #00af00; text-decoration-color: #00af00\">0</span>][<span style=\"color: #00af00; text-decoration-color: #00af00\">0</span>]       │\n",
       "├─────────────────────┼───────────────────┼────────────┼───────────────────┤\n",
       "│ not_equal           │ (<span style=\"color: #00d7ff; text-decoration-color: #00d7ff\">None</span>, <span style=\"color: #00d7ff; text-decoration-color: #00d7ff\">None</span>)      │          <span style=\"color: #00af00; text-decoration-color: #00af00\">0</span> │ teamA[<span style=\"color: #00af00; text-decoration-color: #00af00\">0</span>][<span style=\"color: #00af00; text-decoration-color: #00af00\">0</span>]       │\n",
       "│ (<span style=\"color: #0087ff; text-decoration-color: #0087ff\">NotEqual</span>)          │                   │            │                   │\n",
       "├─────────────────────┼───────────────────┼────────────┼───────────────────┤\n",
       "│ not_equal_1         │ (<span style=\"color: #00d7ff; text-decoration-color: #00d7ff\">None</span>, <span style=\"color: #00d7ff; text-decoration-color: #00d7ff\">None</span>)      │          <span style=\"color: #00af00; text-decoration-color: #00af00\">0</span> │ teamB[<span style=\"color: #00af00; text-decoration-color: #00af00\">0</span>][<span style=\"color: #00af00; text-decoration-color: #00af00\">0</span>]       │\n",
       "│ (<span style=\"color: #0087ff; text-decoration-color: #0087ff\">NotEqual</span>)          │                   │            │                   │\n",
       "├─────────────────────┼───────────────────┼────────────┼───────────────────┤\n",
       "│ teamA_attn          │ (<span style=\"color: #00d7ff; text-decoration-color: #00d7ff\">None</span>, <span style=\"color: #00d7ff; text-decoration-color: #00d7ff\">None</span>, <span style=\"color: #00af00; text-decoration-color: #00af00\">32</span>)  │     <span style=\"color: #00af00; text-decoration-color: #00af00\">16,800</span> │ player_embedding… │\n",
       "│ (<span style=\"color: #0087ff; text-decoration-color: #0087ff\">MultiHeadAttentio…</span> │                   │            │ player_embedding… │\n",
       "│                     │                   │            │ not_equal[<span style=\"color: #00af00; text-decoration-color: #00af00\">0</span>][<span style=\"color: #00af00; text-decoration-color: #00af00\">0</span>],  │\n",
       "│                     │                   │            │ not_equal[<span style=\"color: #00af00; text-decoration-color: #00af00\">0</span>][<span style=\"color: #00af00; text-decoration-color: #00af00\">0</span>]   │\n",
       "├─────────────────────┼───────────────────┼────────────┼───────────────────┤\n",
       "│ teamB_attn          │ (<span style=\"color: #00d7ff; text-decoration-color: #00d7ff\">None</span>, <span style=\"color: #00d7ff; text-decoration-color: #00d7ff\">None</span>, <span style=\"color: #00af00; text-decoration-color: #00af00\">32</span>)  │     <span style=\"color: #00af00; text-decoration-color: #00af00\">16,800</span> │ player_embedding… │\n",
       "│ (<span style=\"color: #0087ff; text-decoration-color: #0087ff\">MultiHeadAttentio…</span> │                   │            │ player_embedding… │\n",
       "│                     │                   │            │ not_equal_1[<span style=\"color: #00af00; text-decoration-color: #00af00\">0</span>][<span style=\"color: #00af00; text-decoration-color: #00af00\">0</span>… │\n",
       "│                     │                   │            │ not_equal_1[<span style=\"color: #00af00; text-decoration-color: #00af00\">0</span>][<span style=\"color: #00af00; text-decoration-color: #00af00\">0</span>] │\n",
       "├─────────────────────┼───────────────────┼────────────┼───────────────────┤\n",
       "│ teamA_residual      │ (<span style=\"color: #00d7ff; text-decoration-color: #00d7ff\">None</span>, <span style=\"color: #00d7ff; text-decoration-color: #00d7ff\">None</span>, <span style=\"color: #00af00; text-decoration-color: #00af00\">32</span>)  │          <span style=\"color: #00af00; text-decoration-color: #00af00\">0</span> │ player_embedding… │\n",
       "│ (<span style=\"color: #0087ff; text-decoration-color: #0087ff\">Add</span>)               │                   │            │ teamA_attn[<span style=\"color: #00af00; text-decoration-color: #00af00\">0</span>][<span style=\"color: #00af00; text-decoration-color: #00af00\">0</span>]  │\n",
       "├─────────────────────┼───────────────────┼────────────┼───────────────────┤\n",
       "│ teamB_residual      │ (<span style=\"color: #00d7ff; text-decoration-color: #00d7ff\">None</span>, <span style=\"color: #00d7ff; text-decoration-color: #00d7ff\">None</span>, <span style=\"color: #00af00; text-decoration-color: #00af00\">32</span>)  │          <span style=\"color: #00af00; text-decoration-color: #00af00\">0</span> │ player_embedding… │\n",
       "│ (<span style=\"color: #0087ff; text-decoration-color: #0087ff\">Add</span>)               │                   │            │ teamB_attn[<span style=\"color: #00af00; text-decoration-color: #00af00\">0</span>][<span style=\"color: #00af00; text-decoration-color: #00af00\">0</span>]  │\n",
       "├─────────────────────┼───────────────────┼────────────┼───────────────────┤\n",
       "│ teamA_norm          │ (<span style=\"color: #00d7ff; text-decoration-color: #00d7ff\">None</span>, <span style=\"color: #00d7ff; text-decoration-color: #00d7ff\">None</span>, <span style=\"color: #00af00; text-decoration-color: #00af00\">32</span>)  │         <span style=\"color: #00af00; text-decoration-color: #00af00\">64</span> │ teamA_residual[<span style=\"color: #00af00; text-decoration-color: #00af00\">0</span>… │\n",
       "│ (<span style=\"color: #0087ff; text-decoration-color: #0087ff\">LayerNormalizatio…</span> │                   │            │                   │\n",
       "├─────────────────────┼───────────────────┼────────────┼───────────────────┤\n",
       "│ logical_or          │ (<span style=\"color: #00d7ff; text-decoration-color: #00d7ff\">None</span>, <span style=\"color: #00d7ff; text-decoration-color: #00d7ff\">None</span>)      │          <span style=\"color: #00af00; text-decoration-color: #00af00\">0</span> │ not_equal[<span style=\"color: #00af00; text-decoration-color: #00af00\">0</span>][<span style=\"color: #00af00; text-decoration-color: #00af00\">0</span>],  │\n",
       "│ (<span style=\"color: #0087ff; text-decoration-color: #0087ff\">LogicalOr</span>)         │                   │            │ not_equal[<span style=\"color: #00af00; text-decoration-color: #00af00\">0</span>][<span style=\"color: #00af00; text-decoration-color: #00af00\">0</span>]   │\n",
       "├─────────────────────┼───────────────────┼────────────┼───────────────────┤\n",
       "│ teamB_norm          │ (<span style=\"color: #00d7ff; text-decoration-color: #00d7ff\">None</span>, <span style=\"color: #00d7ff; text-decoration-color: #00d7ff\">None</span>, <span style=\"color: #00af00; text-decoration-color: #00af00\">32</span>)  │         <span style=\"color: #00af00; text-decoration-color: #00af00\">64</span> │ teamB_residual[<span style=\"color: #00af00; text-decoration-color: #00af00\">0</span>… │\n",
       "│ (<span style=\"color: #0087ff; text-decoration-color: #0087ff\">LayerNormalizatio…</span> │                   │            │                   │\n",
       "├─────────────────────┼───────────────────┼────────────┼───────────────────┤\n",
       "│ logical_or_1        │ (<span style=\"color: #00d7ff; text-decoration-color: #00d7ff\">None</span>, <span style=\"color: #00d7ff; text-decoration-color: #00d7ff\">None</span>)      │          <span style=\"color: #00af00; text-decoration-color: #00af00\">0</span> │ not_equal_1[<span style=\"color: #00af00; text-decoration-color: #00af00\">0</span>][<span style=\"color: #00af00; text-decoration-color: #00af00\">0</span>… │\n",
       "│ (<span style=\"color: #0087ff; text-decoration-color: #0087ff\">LogicalOr</span>)         │                   │            │ not_equal_1[<span style=\"color: #00af00; text-decoration-color: #00af00\">0</span>][<span style=\"color: #00af00; text-decoration-color: #00af00\">0</span>] │\n",
       "├─────────────────────┼───────────────────┼────────────┼───────────────────┤\n",
       "│ teamA_avgpool       │ (<span style=\"color: #00d7ff; text-decoration-color: #00d7ff\">None</span>, <span style=\"color: #00af00; text-decoration-color: #00af00\">32</span>)        │          <span style=\"color: #00af00; text-decoration-color: #00af00\">0</span> │ teamA_norm[<span style=\"color: #00af00; text-decoration-color: #00af00\">0</span>][<span style=\"color: #00af00; text-decoration-color: #00af00\">0</span>], │\n",
       "│ (<span style=\"color: #0087ff; text-decoration-color: #0087ff\">GlobalAveragePool…</span> │                   │            │ logical_or[<span style=\"color: #00af00; text-decoration-color: #00af00\">0</span>][<span style=\"color: #00af00; text-decoration-color: #00af00\">0</span>]  │\n",
       "├─────────────────────┼───────────────────┼────────────┼───────────────────┤\n",
       "│ teamB_avgpool       │ (<span style=\"color: #00d7ff; text-decoration-color: #00d7ff\">None</span>, <span style=\"color: #00af00; text-decoration-color: #00af00\">32</span>)        │          <span style=\"color: #00af00; text-decoration-color: #00af00\">0</span> │ teamB_norm[<span style=\"color: #00af00; text-decoration-color: #00af00\">0</span>][<span style=\"color: #00af00; text-decoration-color: #00af00\">0</span>], │\n",
       "│ (<span style=\"color: #0087ff; text-decoration-color: #0087ff\">GlobalAveragePool…</span> │                   │            │ logical_or_1[<span style=\"color: #00af00; text-decoration-color: #00af00\">0</span>][<span style=\"color: #00af00; text-decoration-color: #00af00\">…</span> │\n",
       "├─────────────────────┼───────────────────┼────────────┼───────────────────┤\n",
       "│ matchup_diff        │ (<span style=\"color: #00d7ff; text-decoration-color: #00d7ff\">None</span>, <span style=\"color: #00af00; text-decoration-color: #00af00\">32</span>)        │          <span style=\"color: #00af00; text-decoration-color: #00af00\">0</span> │ teamA_avgpool[<span style=\"color: #00af00; text-decoration-color: #00af00\">0</span>]… │\n",
       "│ (<span style=\"color: #0087ff; text-decoration-color: #0087ff\">Subtract</span>)          │                   │            │ teamB_avgpool[<span style=\"color: #00af00; text-decoration-color: #00af00\">0</span>]… │\n",
       "├─────────────────────┼───────────────────┼────────────┼───────────────────┤\n",
       "│ match_features      │ (<span style=\"color: #00d7ff; text-decoration-color: #00d7ff\">None</span>, <span style=\"color: #00af00; text-decoration-color: #00af00\">96</span>)        │          <span style=\"color: #00af00; text-decoration-color: #00af00\">0</span> │ teamA_avgpool[<span style=\"color: #00af00; text-decoration-color: #00af00\">0</span>]… │\n",
       "│ (<span style=\"color: #0087ff; text-decoration-color: #0087ff\">Concatenate</span>)       │                   │            │ teamB_avgpool[<span style=\"color: #00af00; text-decoration-color: #00af00\">0</span>]… │\n",
       "│                     │                   │            │ matchup_diff[<span style=\"color: #00af00; text-decoration-color: #00af00\">0</span>][<span style=\"color: #00af00; text-decoration-color: #00af00\">…</span> │\n",
       "├─────────────────────┼───────────────────┼────────────┼───────────────────┤\n",
       "│ dense (<span style=\"color: #0087ff; text-decoration-color: #0087ff\">Dense</span>)       │ (<span style=\"color: #00d7ff; text-decoration-color: #00d7ff\">None</span>, <span style=\"color: #00af00; text-decoration-color: #00af00\">64</span>)        │      <span style=\"color: #00af00; text-decoration-color: #00af00\">6,208</span> │ match_features[<span style=\"color: #00af00; text-decoration-color: #00af00\">0</span>… │\n",
       "├─────────────────────┼───────────────────┼────────────┼───────────────────┤\n",
       "│ dropout_2 (<span style=\"color: #0087ff; text-decoration-color: #0087ff\">Dropout</span>) │ (<span style=\"color: #00d7ff; text-decoration-color: #00d7ff\">None</span>, <span style=\"color: #00af00; text-decoration-color: #00af00\">64</span>)        │          <span style=\"color: #00af00; text-decoration-color: #00af00\">0</span> │ dense[<span style=\"color: #00af00; text-decoration-color: #00af00\">0</span>][<span style=\"color: #00af00; text-decoration-color: #00af00\">0</span>]       │\n",
       "├─────────────────────┼───────────────────┼────────────┼───────────────────┤\n",
       "│ dense_1 (<span style=\"color: #0087ff; text-decoration-color: #0087ff\">Dense</span>)     │ (<span style=\"color: #00d7ff; text-decoration-color: #00d7ff\">None</span>, <span style=\"color: #00af00; text-decoration-color: #00af00\">32</span>)        │      <span style=\"color: #00af00; text-decoration-color: #00af00\">2,080</span> │ dropout_2[<span style=\"color: #00af00; text-decoration-color: #00af00\">0</span>][<span style=\"color: #00af00; text-decoration-color: #00af00\">0</span>]   │\n",
       "├─────────────────────┼───────────────────┼────────────┼───────────────────┤\n",
       "│ dropout_3 (<span style=\"color: #0087ff; text-decoration-color: #0087ff\">Dropout</span>) │ (<span style=\"color: #00d7ff; text-decoration-color: #00d7ff\">None</span>, <span style=\"color: #00af00; text-decoration-color: #00af00\">32</span>)        │          <span style=\"color: #00af00; text-decoration-color: #00af00\">0</span> │ dense_1[<span style=\"color: #00af00; text-decoration-color: #00af00\">0</span>][<span style=\"color: #00af00; text-decoration-color: #00af00\">0</span>]     │\n",
       "├─────────────────────┼───────────────────┼────────────┼───────────────────┤\n",
       "│ regression_output   │ (<span style=\"color: #00d7ff; text-decoration-color: #00d7ff\">None</span>, <span style=\"color: #00af00; text-decoration-color: #00af00\">1</span>)         │         <span style=\"color: #00af00; text-decoration-color: #00af00\">33</span> │ dropout_3[<span style=\"color: #00af00; text-decoration-color: #00af00\">0</span>][<span style=\"color: #00af00; text-decoration-color: #00af00\">0</span>]   │\n",
       "│ (<span style=\"color: #0087ff; text-decoration-color: #0087ff\">Dense</span>)             │                   │            │                   │\n",
       "└─────────────────────┴───────────────────┴────────────┴───────────────────┘\n",
       "</pre>\n"
      ],
      "text/plain": [
       "┏━━━━━━━━━━━━━━━━━━━━━┳━━━━━━━━━━━━━━━━━━━┳━━━━━━━━━━━━┳━━━━━━━━━━━━━━━━━━━┓\n",
       "┃\u001b[1m \u001b[0m\u001b[1mLayer (type)       \u001b[0m\u001b[1m \u001b[0m┃\u001b[1m \u001b[0m\u001b[1mOutput Shape     \u001b[0m\u001b[1m \u001b[0m┃\u001b[1m \u001b[0m\u001b[1m   Param #\u001b[0m\u001b[1m \u001b[0m┃\u001b[1m \u001b[0m\u001b[1mConnected to     \u001b[0m\u001b[1m \u001b[0m┃\n",
       "┡━━━━━━━━━━━━━━━━━━━━━╇━━━━━━━━━━━━━━━━━━━╇━━━━━━━━━━━━╇━━━━━━━━━━━━━━━━━━━┩\n",
       "│ teamA (\u001b[38;5;33mInputLayer\u001b[0m)  │ (\u001b[38;5;45mNone\u001b[0m, \u001b[38;5;45mNone\u001b[0m)      │          \u001b[38;5;34m0\u001b[0m │ -                 │\n",
       "├─────────────────────┼───────────────────┼────────────┼───────────────────┤\n",
       "│ teamB (\u001b[38;5;33mInputLayer\u001b[0m)  │ (\u001b[38;5;45mNone\u001b[0m, \u001b[38;5;45mNone\u001b[0m)      │          \u001b[38;5;34m0\u001b[0m │ -                 │\n",
       "├─────────────────────┼───────────────────┼────────────┼───────────────────┤\n",
       "│ player_embedding    │ (\u001b[38;5;45mNone\u001b[0m, \u001b[38;5;45mNone\u001b[0m, \u001b[38;5;34m32\u001b[0m)  │      \u001b[38;5;34m1,024\u001b[0m │ teamA[\u001b[38;5;34m0\u001b[0m][\u001b[38;5;34m0\u001b[0m],      │\n",
       "│ (\u001b[38;5;33mEmbedding\u001b[0m)         │                   │            │ teamB[\u001b[38;5;34m0\u001b[0m][\u001b[38;5;34m0\u001b[0m]       │\n",
       "├─────────────────────┼───────────────────┼────────────┼───────────────────┤\n",
       "│ not_equal           │ (\u001b[38;5;45mNone\u001b[0m, \u001b[38;5;45mNone\u001b[0m)      │          \u001b[38;5;34m0\u001b[0m │ teamA[\u001b[38;5;34m0\u001b[0m][\u001b[38;5;34m0\u001b[0m]       │\n",
       "│ (\u001b[38;5;33mNotEqual\u001b[0m)          │                   │            │                   │\n",
       "├─────────────────────┼───────────────────┼────────────┼───────────────────┤\n",
       "│ not_equal_1         │ (\u001b[38;5;45mNone\u001b[0m, \u001b[38;5;45mNone\u001b[0m)      │          \u001b[38;5;34m0\u001b[0m │ teamB[\u001b[38;5;34m0\u001b[0m][\u001b[38;5;34m0\u001b[0m]       │\n",
       "│ (\u001b[38;5;33mNotEqual\u001b[0m)          │                   │            │                   │\n",
       "├─────────────────────┼───────────────────┼────────────┼───────────────────┤\n",
       "│ teamA_attn          │ (\u001b[38;5;45mNone\u001b[0m, \u001b[38;5;45mNone\u001b[0m, \u001b[38;5;34m32\u001b[0m)  │     \u001b[38;5;34m16,800\u001b[0m │ player_embedding… │\n",
       "│ (\u001b[38;5;33mMultiHeadAttentio…\u001b[0m │                   │            │ player_embedding… │\n",
       "│                     │                   │            │ not_equal[\u001b[38;5;34m0\u001b[0m][\u001b[38;5;34m0\u001b[0m],  │\n",
       "│                     │                   │            │ not_equal[\u001b[38;5;34m0\u001b[0m][\u001b[38;5;34m0\u001b[0m]   │\n",
       "├─────────────────────┼───────────────────┼────────────┼───────────────────┤\n",
       "│ teamB_attn          │ (\u001b[38;5;45mNone\u001b[0m, \u001b[38;5;45mNone\u001b[0m, \u001b[38;5;34m32\u001b[0m)  │     \u001b[38;5;34m16,800\u001b[0m │ player_embedding… │\n",
       "│ (\u001b[38;5;33mMultiHeadAttentio…\u001b[0m │                   │            │ player_embedding… │\n",
       "│                     │                   │            │ not_equal_1[\u001b[38;5;34m0\u001b[0m][\u001b[38;5;34m0\u001b[0m… │\n",
       "│                     │                   │            │ not_equal_1[\u001b[38;5;34m0\u001b[0m][\u001b[38;5;34m0\u001b[0m] │\n",
       "├─────────────────────┼───────────────────┼────────────┼───────────────────┤\n",
       "│ teamA_residual      │ (\u001b[38;5;45mNone\u001b[0m, \u001b[38;5;45mNone\u001b[0m, \u001b[38;5;34m32\u001b[0m)  │          \u001b[38;5;34m0\u001b[0m │ player_embedding… │\n",
       "│ (\u001b[38;5;33mAdd\u001b[0m)               │                   │            │ teamA_attn[\u001b[38;5;34m0\u001b[0m][\u001b[38;5;34m0\u001b[0m]  │\n",
       "├─────────────────────┼───────────────────┼────────────┼───────────────────┤\n",
       "│ teamB_residual      │ (\u001b[38;5;45mNone\u001b[0m, \u001b[38;5;45mNone\u001b[0m, \u001b[38;5;34m32\u001b[0m)  │          \u001b[38;5;34m0\u001b[0m │ player_embedding… │\n",
       "│ (\u001b[38;5;33mAdd\u001b[0m)               │                   │            │ teamB_attn[\u001b[38;5;34m0\u001b[0m][\u001b[38;5;34m0\u001b[0m]  │\n",
       "├─────────────────────┼───────────────────┼────────────┼───────────────────┤\n",
       "│ teamA_norm          │ (\u001b[38;5;45mNone\u001b[0m, \u001b[38;5;45mNone\u001b[0m, \u001b[38;5;34m32\u001b[0m)  │         \u001b[38;5;34m64\u001b[0m │ teamA_residual[\u001b[38;5;34m0\u001b[0m… │\n",
       "│ (\u001b[38;5;33mLayerNormalizatio…\u001b[0m │                   │            │                   │\n",
       "├─────────────────────┼───────────────────┼────────────┼───────────────────┤\n",
       "│ logical_or          │ (\u001b[38;5;45mNone\u001b[0m, \u001b[38;5;45mNone\u001b[0m)      │          \u001b[38;5;34m0\u001b[0m │ not_equal[\u001b[38;5;34m0\u001b[0m][\u001b[38;5;34m0\u001b[0m],  │\n",
       "│ (\u001b[38;5;33mLogicalOr\u001b[0m)         │                   │            │ not_equal[\u001b[38;5;34m0\u001b[0m][\u001b[38;5;34m0\u001b[0m]   │\n",
       "├─────────────────────┼───────────────────┼────────────┼───────────────────┤\n",
       "│ teamB_norm          │ (\u001b[38;5;45mNone\u001b[0m, \u001b[38;5;45mNone\u001b[0m, \u001b[38;5;34m32\u001b[0m)  │         \u001b[38;5;34m64\u001b[0m │ teamB_residual[\u001b[38;5;34m0\u001b[0m… │\n",
       "│ (\u001b[38;5;33mLayerNormalizatio…\u001b[0m │                   │            │                   │\n",
       "├─────────────────────┼───────────────────┼────────────┼───────────────────┤\n",
       "│ logical_or_1        │ (\u001b[38;5;45mNone\u001b[0m, \u001b[38;5;45mNone\u001b[0m)      │          \u001b[38;5;34m0\u001b[0m │ not_equal_1[\u001b[38;5;34m0\u001b[0m][\u001b[38;5;34m0\u001b[0m… │\n",
       "│ (\u001b[38;5;33mLogicalOr\u001b[0m)         │                   │            │ not_equal_1[\u001b[38;5;34m0\u001b[0m][\u001b[38;5;34m0\u001b[0m] │\n",
       "├─────────────────────┼───────────────────┼────────────┼───────────────────┤\n",
       "│ teamA_avgpool       │ (\u001b[38;5;45mNone\u001b[0m, \u001b[38;5;34m32\u001b[0m)        │          \u001b[38;5;34m0\u001b[0m │ teamA_norm[\u001b[38;5;34m0\u001b[0m][\u001b[38;5;34m0\u001b[0m], │\n",
       "│ (\u001b[38;5;33mGlobalAveragePool…\u001b[0m │                   │            │ logical_or[\u001b[38;5;34m0\u001b[0m][\u001b[38;5;34m0\u001b[0m]  │\n",
       "├─────────────────────┼───────────────────┼────────────┼───────────────────┤\n",
       "│ teamB_avgpool       │ (\u001b[38;5;45mNone\u001b[0m, \u001b[38;5;34m32\u001b[0m)        │          \u001b[38;5;34m0\u001b[0m │ teamB_norm[\u001b[38;5;34m0\u001b[0m][\u001b[38;5;34m0\u001b[0m], │\n",
       "│ (\u001b[38;5;33mGlobalAveragePool…\u001b[0m │                   │            │ logical_or_1[\u001b[38;5;34m0\u001b[0m][\u001b[38;5;34m…\u001b[0m │\n",
       "├─────────────────────┼───────────────────┼────────────┼───────────────────┤\n",
       "│ matchup_diff        │ (\u001b[38;5;45mNone\u001b[0m, \u001b[38;5;34m32\u001b[0m)        │          \u001b[38;5;34m0\u001b[0m │ teamA_avgpool[\u001b[38;5;34m0\u001b[0m]… │\n",
       "│ (\u001b[38;5;33mSubtract\u001b[0m)          │                   │            │ teamB_avgpool[\u001b[38;5;34m0\u001b[0m]… │\n",
       "├─────────────────────┼───────────────────┼────────────┼───────────────────┤\n",
       "│ match_features      │ (\u001b[38;5;45mNone\u001b[0m, \u001b[38;5;34m96\u001b[0m)        │          \u001b[38;5;34m0\u001b[0m │ teamA_avgpool[\u001b[38;5;34m0\u001b[0m]… │\n",
       "│ (\u001b[38;5;33mConcatenate\u001b[0m)       │                   │            │ teamB_avgpool[\u001b[38;5;34m0\u001b[0m]… │\n",
       "│                     │                   │            │ matchup_diff[\u001b[38;5;34m0\u001b[0m][\u001b[38;5;34m…\u001b[0m │\n",
       "├─────────────────────┼───────────────────┼────────────┼───────────────────┤\n",
       "│ dense (\u001b[38;5;33mDense\u001b[0m)       │ (\u001b[38;5;45mNone\u001b[0m, \u001b[38;5;34m64\u001b[0m)        │      \u001b[38;5;34m6,208\u001b[0m │ match_features[\u001b[38;5;34m0\u001b[0m… │\n",
       "├─────────────────────┼───────────────────┼────────────┼───────────────────┤\n",
       "│ dropout_2 (\u001b[38;5;33mDropout\u001b[0m) │ (\u001b[38;5;45mNone\u001b[0m, \u001b[38;5;34m64\u001b[0m)        │          \u001b[38;5;34m0\u001b[0m │ dense[\u001b[38;5;34m0\u001b[0m][\u001b[38;5;34m0\u001b[0m]       │\n",
       "├─────────────────────┼───────────────────┼────────────┼───────────────────┤\n",
       "│ dense_1 (\u001b[38;5;33mDense\u001b[0m)     │ (\u001b[38;5;45mNone\u001b[0m, \u001b[38;5;34m32\u001b[0m)        │      \u001b[38;5;34m2,080\u001b[0m │ dropout_2[\u001b[38;5;34m0\u001b[0m][\u001b[38;5;34m0\u001b[0m]   │\n",
       "├─────────────────────┼───────────────────┼────────────┼───────────────────┤\n",
       "│ dropout_3 (\u001b[38;5;33mDropout\u001b[0m) │ (\u001b[38;5;45mNone\u001b[0m, \u001b[38;5;34m32\u001b[0m)        │          \u001b[38;5;34m0\u001b[0m │ dense_1[\u001b[38;5;34m0\u001b[0m][\u001b[38;5;34m0\u001b[0m]     │\n",
       "├─────────────────────┼───────────────────┼────────────┼───────────────────┤\n",
       "│ regression_output   │ (\u001b[38;5;45mNone\u001b[0m, \u001b[38;5;34m1\u001b[0m)         │         \u001b[38;5;34m33\u001b[0m │ dropout_3[\u001b[38;5;34m0\u001b[0m][\u001b[38;5;34m0\u001b[0m]   │\n",
       "│ (\u001b[38;5;33mDense\u001b[0m)             │                   │            │                   │\n",
       "└─────────────────────┴───────────────────┴────────────┴───────────────────┘\n"
      ]
     },
     "metadata": {},
     "output_type": "display_data"
    },
    {
     "data": {
      "text/html": [
       "<pre style=\"white-space:pre;overflow-x:auto;line-height:normal;font-family:Menlo,'DejaVu Sans Mono',consolas,'Courier New',monospace\"><span style=\"font-weight: bold\"> Total params: </span><span style=\"color: #00af00; text-decoration-color: #00af00\">43,073</span> (168.25 KB)\n",
       "</pre>\n"
      ],
      "text/plain": [
       "\u001b[1m Total params: \u001b[0m\u001b[38;5;34m43,073\u001b[0m (168.25 KB)\n"
      ]
     },
     "metadata": {},
     "output_type": "display_data"
    },
    {
     "data": {
      "text/html": [
       "<pre style=\"white-space:pre;overflow-x:auto;line-height:normal;font-family:Menlo,'DejaVu Sans Mono',consolas,'Courier New',monospace\"><span style=\"font-weight: bold\"> Trainable params: </span><span style=\"color: #00af00; text-decoration-color: #00af00\">43,073</span> (168.25 KB)\n",
       "</pre>\n"
      ],
      "text/plain": [
       "\u001b[1m Trainable params: \u001b[0m\u001b[38;5;34m43,073\u001b[0m (168.25 KB)\n"
      ]
     },
     "metadata": {},
     "output_type": "display_data"
    },
    {
     "data": {
      "text/html": [
       "<pre style=\"white-space:pre;overflow-x:auto;line-height:normal;font-family:Menlo,'DejaVu Sans Mono',consolas,'Courier New',monospace\"><span style=\"font-weight: bold\"> Non-trainable params: </span><span style=\"color: #00af00; text-decoration-color: #00af00\">0</span> (0.00 B)\n",
       "</pre>\n"
      ],
      "text/plain": [
       "\u001b[1m Non-trainable params: \u001b[0m\u001b[38;5;34m0\u001b[0m (0.00 B)\n"
      ]
     },
     "metadata": {},
     "output_type": "display_data"
    }
   ],
   "source": [
    "# Constants (adjust as needed)\n",
    "NUM_PLAYERS = len(team_members_with_ids)\n",
    "PLAYER_EMB_DIM = 32\n",
    "NUM_CLASSES = 1  # Binary: win/loss\n",
    "\n",
    "# Inputs: variable-length teams\n",
    "teamA_input = Input(shape=(None,), dtype='int32', name='teamA')  # variable-length\n",
    "teamB_input = Input(shape=(None,), dtype='int32', name='teamB')  # variable-length\n",
    "\n",
    "# Embedding layer with mask support\n",
    "player_embedding = layers.Embedding(\n",
    "    input_dim=NUM_PLAYERS + 1,  # includes 0 for mask\n",
    "    output_dim=PLAYER_EMB_DIM,\n",
    "    mask_zero=True,  # Important: enables automatic masking for padding (0 as pad token)\n",
    "    embeddings_regularizer=tf.keras.regularizers.l2(1e-4),\n",
    "    name='player_embedding'\n",
    ")\n",
    "\n",
    "# Embed team players\n",
    "teamA_embeds = player_embedding(teamA_input)  # shape: (batch, teamA_len, emb_dim)\n",
    "teamB_embeds = player_embedding(teamB_input)\n",
    "\n",
    "# Self-attention block (respects masks automatically if using Functional API)\n",
    "def self_attention_block(x, name_prefix=''):\n",
    "    attn_output = layers.MultiHeadAttention(\n",
    "        num_heads=4,\n",
    "        key_dim=PLAYER_EMB_DIM,\n",
    "        dropout=0.1,\n",
    "        name=f'{name_prefix}_attn'\n",
    "    )(x, x)\n",
    "    x = layers.Add(name=f'{name_prefix}_residual')([x, attn_output])\n",
    "    x = layers.LayerNormalization(name=f'{name_prefix}_norm')(x)\n",
    "    return x\n",
    "\n",
    "# Apply attention\n",
    "teamA_attn = self_attention_block(teamA_embeds, 'teamA')\n",
    "teamB_attn = self_attention_block(teamB_embeds, 'teamB')\n",
    "\n",
    "# Global average pooling over valid (non-padded) tokens\n",
    "# TF handles masking automatically in GlobalAveragePooling1D if mask_zero=True\n",
    "teamA_vector = layers.GlobalAveragePooling1D(name='teamA_avgpool')(teamA_attn)\n",
    "teamB_vector = layers.GlobalAveragePooling1D(name='teamB_avgpool')(teamB_attn)\n",
    "\n",
    "# Matchup modeling (difference vector)\n",
    "matchup_vector = layers.Subtract(name='matchup_diff')([teamA_vector, teamB_vector])\n",
    "\n",
    "# Concatenate summary representation\n",
    "match_input = layers.Concatenate(name='match_features')([teamA_vector, teamB_vector, matchup_vector])\n",
    "\n",
    "# Feedforward classification head\n",
    "x = layers.Dense(64, activation='relu', kernel_regularizer=tf.keras.regularizers.l2(1e-4))(match_input)\n",
    "x = layers.Dropout(0.3)(x)\n",
    "x = layers.Dense(32, activation='relu', kernel_regularizer=tf.keras.regularizers.l2(1e-4))(x)\n",
    "x = layers.Dropout(0.3)(x)\n",
    "# output = layers.Dense(NUM_CLASSES, activation='sigmoid')(x)\n",
    "output = layers.Dense(1, activation='linear', name='regression_output')(x)\n",
    "\n",
    "# Final model\n",
    "model = Model(inputs=[teamA_input, teamB_input], outputs=output)\n",
    "model.compile(optimizer='adam', \n",
    "              loss='mean_squared_error',   # or 'mean_absolute_error'\n",
    "                metrics=['mean_absolute_error']\n",
    "             )\n",
    "\n",
    "model.summary()"
   ]
  },
  {
   "cell_type": "code",
   "execution_count": 15,
   "id": "6c528321-5073-4d26-b395-bcfb51e49f6e",
   "metadata": {},
   "outputs": [
    {
     "name": "stdout",
     "output_type": "stream",
     "text": [
      "Epoch 1/50\n",
      "\u001b[1m1/1\u001b[0m \u001b[32m━━━━━━━━━━━━━━━━━━━━\u001b[0m\u001b[37m\u001b[0m \u001b[1m1s\u001b[0m 1s/step - loss: 3.4396 - mean_absolute_error: 1.4044 - val_loss: 38.4746 - val_mean_absolute_error: 4.9231 - learning_rate: 0.0010\n",
      "Epoch 2/50\n",
      "\u001b[1m1/1\u001b[0m \u001b[32m━━━━━━━━━━━━━━━━━━━━\u001b[0m\u001b[37m\u001b[0m \u001b[1m0s\u001b[0m 26ms/step - loss: 3.1795 - mean_absolute_error: 1.3963 - val_loss: 37.0075 - val_mean_absolute_error: 4.8461 - learning_rate: 0.0010\n",
      "Epoch 3/50\n",
      "\u001b[1m1/1\u001b[0m \u001b[32m━━━━━━━━━━━━━━━━━━━━\u001b[0m\u001b[37m\u001b[0m \u001b[1m0s\u001b[0m 26ms/step - loss: 3.1469 - mean_absolute_error: 1.3314 - val_loss: 36.6116 - val_mean_absolute_error: 4.8009 - learning_rate: 0.0010\n",
      "Epoch 4/50\n",
      "\u001b[1m1/1\u001b[0m \u001b[32m━━━━━━━━━━━━━━━━━━━━\u001b[0m\u001b[37m\u001b[0m \u001b[1m0s\u001b[0m 25ms/step - loss: 2.5361 - mean_absolute_error: 1.2434 - val_loss: 36.6880 - val_mean_absolute_error: 4.7760 - learning_rate: 0.0010\n",
      "Epoch 5/50\n",
      "\u001b[1m1/1\u001b[0m \u001b[32m━━━━━━━━━━━━━━━━━━━━\u001b[0m\u001b[37m\u001b[0m \u001b[1m0s\u001b[0m 25ms/step - loss: 2.8962 - mean_absolute_error: 1.3010 - val_loss: 37.0734 - val_mean_absolute_error: 4.7921 - learning_rate: 0.0010\n",
      "Epoch 6/50\n",
      "\u001b[1m1/1\u001b[0m \u001b[32m━━━━━━━━━━━━━━━━━━━━\u001b[0m\u001b[37m\u001b[0m \u001b[1m0s\u001b[0m 25ms/step - loss: 2.0518 - mean_absolute_error: 1.1263 - val_loss: 37.5087 - val_mean_absolute_error: 4.8132 - learning_rate: 0.0010\n",
      "Epoch 7/50\n",
      "\u001b[1m1/1\u001b[0m \u001b[32m━━━━━━━━━━━━━━━━━━━━\u001b[0m\u001b[37m\u001b[0m \u001b[1m0s\u001b[0m 24ms/step - loss: 2.5442 - mean_absolute_error: 1.3627 - val_loss: 37.6741 - val_mean_absolute_error: 4.8181 - learning_rate: 0.0010\n",
      "Epoch 8/50\n",
      "\u001b[1m1/1\u001b[0m \u001b[32m━━━━━━━━━━━━━━━━━━━━\u001b[0m\u001b[37m\u001b[0m \u001b[1m0s\u001b[0m 25ms/step - loss: 4.0568 - mean_absolute_error: 1.5922 - val_loss: 38.0494 - val_mean_absolute_error: 4.8409 - learning_rate: 0.0010\n",
      "\u001b[1m1/1\u001b[0m \u001b[32m━━━━━━━━━━━━━━━━━━━━\u001b[0m\u001b[37m\u001b[0m \u001b[1m0s\u001b[0m 12ms/step - loss: 36.6116 - mean_absolute_error: 4.8009\n",
      "Validation accuracy: 4.801\n"
     ]
    }
   ],
   "source": [
    "import numpy as np\n",
    "from sklearn.model_selection import train_test_split\n",
    "\n",
    "# Assume the following arrays from your dataset generation code:\n",
    "# teamA_data, teamB_data, labels (all np arrays)\n",
    "\n",
    "# 1. Train-validation split (80% train, 20% validation)\n",
    "X_trainA, X_valA, X_trainB, X_valB, y_train, y_val = train_test_split(\n",
    "    teamA_data, teamB_data, labels, test_size=0.2, random_state=42\n",
    ")\n",
    "\n",
    "# 2. Build or import your Keras model (reuse the model creation code from before)\n",
    "# For example, let's say you have your variable-size team transformer model as 'model'\n",
    "\n",
    "# 3. Optional: callbacks for monitoring\n",
    "from tensorflow.keras.callbacks import EarlyStopping\n",
    "\n",
    "early_stop = EarlyStopping(monitor='val_loss', patience=5, restore_best_weights=True)\n",
    "\n",
    "# Define a learning rate schedule function (step decay example)\n",
    "def lr_schedule(epoch, lr):\n",
    "    drop_rate = 0.5\n",
    "    epochs_drop = 10\n",
    "    if epoch > 0 and epoch % epochs_drop == 0:\n",
    "        return lr * drop_rate\n",
    "    return lr\n",
    "\n",
    "#Instantiate callback\n",
    "lr_scheduler = tf.keras.callbacks.LearningRateScheduler(lr_schedule)\n",
    "\n",
    "# Or adaptive reduction on plateau (reduce LR when val_loss stalls)\n",
    "reduce_lr = tf.keras.callbacks.ReduceLROnPlateau(monitor='val_loss', factor=0.5,\n",
    "                                                 patience=5, min_lr=1e-6)\n",
    "\n",
    "\n",
    "# 4. Train the model\n",
    "history = model.fit(\n",
    "    [X_trainA, X_trainB],                 # Inputs as a list\n",
    "    y_train,                              # Targets\n",
    "    epochs=50,\n",
    "    batch_size=32,\n",
    "    validation_data=([X_valA, X_valB], y_val),\n",
    "    callbacks=[lr_scheduler, reduce_lr, early_stop],\n",
    "    # callbacks=[early_stop]\n",
    ")\n",
    "\n",
    "# 5. Evaluate model performance\n",
    "loss, accuracy = model.evaluate([X_valA, X_valB], y_val)\n",
    "print(f\"Validation accuracy: {accuracy:.3f}\")"
   ]
  },
  {
   "cell_type": "code",
   "execution_count": 16,
   "id": "528f7e01-f1ae-4e90-912b-ae79fe90cdcd",
   "metadata": {},
   "outputs": [
    {
     "data": {
      "image/png": "[encoded data removed]",
      "text/plain": [
       "<Figure size 1400x500 with 2 Axes>"
      ]
     },
     "metadata": {},
     "output_type": "display_data"
    }
   ],
   "source": [
    "import matplotlib.pyplot as plt\n",
    "\n",
    "# Assume 'history' is the object returned by your call to model.fit(...)\n",
    "\n",
    "# Plot training and validation accuracy\n",
    "plt.figure(figsize=(14, 5))\n",
    "\n",
    "plt.subplot(1, 2, 1)\n",
    "plt.plot(history.history['mean_absolute_error'], label='Training MAE')\n",
    "plt.plot(history.history['val_mean_absolute_error'], label='Validation MAE')\n",
    "plt.xlabel('Epoch')\n",
    "plt.ylabel('mean_absolute_error')\n",
    "plt.title('Training vs Validation MAE')\n",
    "plt.legend()\n",
    "\n",
    "# Plot training and validation loss\n",
    "plt.subplot(1, 2, 2)\n",
    "plt.plot(history.history['loss'], label='Training Loss')\n",
    "plt.plot(history.history['val_loss'], label='Validation Loss')\n",
    "plt.xlabel('Epoch')\n",
    "plt.ylabel('Loss')\n",
    "plt.title('Training vs Validation Loss')\n",
    "plt.legend()\n",
    "\n",
    "plt.tight_layout()\n",
    "plt.show()\n"
   ]
  },
  {
   "cell_type": "markdown",
   "id": "43120009-27cc-4269-9ad3-3055b150ae11",
   "metadata": {},
   "source": [
    "## Predicting for the match"
   ]
  },
  {
   "cell_type": "code",
   "execution_count": 60,
   "id": "5a834ebb-3739-4835-b3ad-a7188f0490d5",
   "metadata": {},
   "outputs": [
    {
     "data": {
      "text/plain": [
       "[15, 17, 13, 1, 3, 2, 4]"
      ]
     },
     "execution_count": 60,
     "metadata": {},
     "output_type": "execute_result"
    }
   ],
   "source": [
    "teamA_players = [vitalii_zhebrakovksy, loginov_dmitrii, ivan, andrey_spiridonov, andrey_larionov, andrey_trubicin, veselin]   # player IDs for Team A\n",
    "teamB_players = [sanya, roman, denys, andrey_spiridonov, andrey_selifonov, oleksandr, alex_akimov]      # player IDs for Team B\n",
    "teamA_players"
   ]
  },
  {
   "cell_type": "code",
   "execution_count": 61,
   "id": "f059fcaf-6c19-4935-855d-dd3d355e1807",
   "metadata": {},
   "outputs": [
    {
     "name": "stdout",
     "output_type": "stream",
     "text": [
      "\u001b[1m1/1\u001b[0m \u001b[32m━━━━━━━━━━━━━━━━━━━━\u001b[0m\u001b[37m\u001b[0m \u001b[1m0s\u001b[0m 94ms/step\n",
      "[[-0.13870883]]\n"
     ]
    }
   ],
   "source": [
    "\n",
    "MAX_TEAM_SIZE = 9  # Should match model's expected size\n",
    "\n",
    "# Pad teams to MAX_TEAM_SIZE with 0 (mask token)\n",
    "def pad_team(players, max_size):\n",
    "    padded = players + [0]*(max_size - len(players))\n",
    "    return np.array(padded)\n",
    "\n",
    "teamA_input = pad_team(teamA_players, MAX_TEAM_SIZE)\n",
    "teamB_input = pad_team(teamB_players, MAX_TEAM_SIZE)\n",
    "\n",
    "# Add batch dimension: shape (1, MAX_TEAM_SIZE)\n",
    "teamA_input = np.expand_dims(teamA_input, axis=0)\n",
    "teamB_input = np.expand_dims(teamB_input, axis=0)\n",
    "\n",
    "# Predict using the trained model\n",
    "prediction = model.predict([teamA_input, teamB_input])\n",
    "print(prediction)\n",
    "# If model output is sigmoid probability of Team A win:\n",
    "# prob_teamA_wins = prediction[0][0]\n",
    "\n",
    "# print(f\"Predicted probability that Team A wins: {prob_teamA_wins:.3f}\")\n",
    "\n",
    "# # Optional: Decide class label\n",
    "# predicted_label = 1 if prob_teamA_wins > 0.5 else 0\n",
    "# print(\"Predicted winner:\", \"Team A\" if predicted_label == 1 else \"Team B\")\n"
   ]
  },
  {
   "cell_type": "code",
   "execution_count": 244,
   "id": "292ac828-9f31-48cd-8436-bb24239d7cdf",
   "metadata": {},
   "outputs": [],
   "source": [
    "\n",
    "# teamA_pls = teamA_players\n",
    "# print(\" Team A players: \", teamA_pls)\n",
    "# teamA_str = player_strengths[teamA_pls]\n",
    "# print(f\" Team A palyers' stregths:{teamA_str}, Total: {teamA_str.sum()}\")\n",
    "\n",
    "# teamB_pls = teamB_players\n",
    "# print(\" Team B players: \", teamB_pls)\n",
    "# teamB_str = player_strengths[teamB_pls]\n",
    "# print(f\" Team B palyers' stregths:{teamB_str}, Total: {teamB_str.sum()}\")\n",
    "# # print(\" Label (Team A wins=1):\", labels[i])"
   ]
  },
  {
   "cell_type": "code",
   "execution_count": 67,
   "id": "e266c2a0-ec4e-413e-813f-2103a055ec88",
   "metadata": {},
   "outputs": [],
   "source": [
    "# outcome = teamA_strength - teamB_strength\n",
    "# competition_res = 1 if outcome > 0 else 0\n",
    "# competition_res"
   ]
  },
  {
   "cell_type": "markdown",
   "id": "805c50f3-5539-45e2-906c-3020a96fc3b0",
   "metadata": {},
   "source": [
    "## Extracting embeddings of players"
   ]
  },
  {
   "cell_type": "code",
   "execution_count": 53,
   "id": "587acf16-124f-477f-811e-bab61b6688f1",
   "metadata": {},
   "outputs": [
    {
     "name": "stdout",
     "output_type": "stream",
     "text": [
      "(32, 32)\n"
     ]
    }
   ],
   "source": [
    "# Direct reference to layer\n",
    "player_embeddings = player_embedding.get_weights()[0]\n",
    "print(player_embeddings.shape)  # (NUM_PLAYERS, PLAYER_EMB_DIM)"
   ]
  },
  {
   "cell_type": "code",
   "execution_count": 54,
   "id": "a2b15743-fc52-4a27-9d4c-b68d483b0ae3",
   "metadata": {},
   "outputs": [
    {
     "name": "stdout",
     "output_type": "stream",
     "text": [
      "32\n",
      "(32, 32)\n"
     ]
    }
   ],
   "source": [
    "print(player_embedding.input_dim)  # should show actual input_dim in the model\n",
    "print(player_embedding.embeddings.shape)  "
   ]
  },
  {
   "cell_type": "code",
   "execution_count": 55,
   "id": "7e1fdc26-8afd-40ca-8081-ce6c72a7a436",
   "metadata": {},
   "outputs": [
    {
     "data": {
      "text/plain": [
       "array([ 0.04191646,  0.01750091, -0.03810655, -0.04407998, -0.02531474,\n",
       "        0.03816222, -0.03449935,  0.01194894, -0.03120314,  0.01341735,\n",
       "        0.03350885, -0.00200235, -0.04191852, -0.04525606, -0.00487887,\n",
       "        0.00514221, -0.03325051, -0.02482355, -0.01707902,  0.0005273 ,\n",
       "       -0.03210484, -0.02773686, -0.00672875, -0.03909703,  0.0043079 ,\n",
       "        0.00924572,  0.02557483,  0.00043425,  0.03328383,  0.02851425,\n",
       "       -0.02367504,  0.02932754], dtype=float32)"
      ]
     },
     "execution_count": 55,
     "metadata": {},
     "output_type": "execute_result"
    }
   ],
   "source": [
    "player_embeddings[0, :] # why embeddings for player 0 are being learned?"
   ]
  },
  {
   "cell_type": "code",
   "execution_count": 56,
   "id": "eb9029e0-835f-4a65-b786-1aacba092e7a",
   "metadata": {},
   "outputs": [],
   "source": [
    "player_embeddings = player_embeddings[1:, :]"
   ]
  },
  {
   "cell_type": "code",
   "execution_count": 57,
   "id": "51dadcb1-1577-47fa-b24c-2a0c2e59f3cc",
   "metadata": {},
   "outputs": [
    {
     "data": {
      "text/plain": [
       "(31, 32)"
      ]
     },
     "execution_count": 57,
     "metadata": {},
     "output_type": "execute_result"
    }
   ],
   "source": [
    "player_embeddings.shape"
   ]
  },
  {
   "cell_type": "markdown",
   "id": "9eab6fe6-3124-4101-be14-41f5f39fbebf",
   "metadata": {},
   "source": [
    "## Try to initialize embeddings based on content based similarity.\n",
    "\n",
    "TODO Use MPS(not sure) manifold approach to get initial embeddings"
   ]
  },
  {
   "cell_type": "markdown",
   "id": "62c8fe56-8ce5-40fc-ac70-396c8929e696",
   "metadata": {},
   "source": [
    "## UMAP and visualizing players in 3D"
   ]
  },
  {
   "cell_type": "code",
   "execution_count": 123,
   "id": "c821ad50-ddaa-4197-9c4b-d9d81dbc810c",
   "metadata": {},
   "outputs": [
    {
     "name": "stdout",
     "output_type": "stream",
     "text": [
      "x_min: 1.8263641595840454 x_max: 4.172611713409424\n",
      "y_min: 5.402998924255371 y_max: 7.635038375854492\n",
      "z_min: 3.017019033432007 z_max: 5.376616954803467\n"
     ]
    },
    {
     "name": "stderr",
     "output_type": "stream",
     "text": [
      "/opt/anaconda3/envs/footballman/lib/python3.12/site-packages/umap/umap_.py:1952: UserWarning:\n",
      "\n",
      "n_jobs value 1 overridden to 1 by setting random_state. Use no seed for parallelism.\n",
      "\n"
     ]
    },
    {
     "data": {
      "application/vnd.plotly.v1+json": {
       "config": {
        "plotlyServerURL": "https://plot.ly"
       },
       "data": [
        {
         "color": "lightblue",
         "i": [
          0,
          0
         ],
         "j": [
          1,
          2
         ],
         "k": [
          2,
          3
         ],
         "name": "Rhombus",
         "opacity": 0.5,
         "type": "mesh3d",
         "x": [
          1.8263641595840454,
          1.8263641595840454,
          4.172611713409424,
          4.172611713409424
         ],
         "y": [
          5.402998924255371,
          7.635038375854492,
          7.635038375854492,
          5.402998924255371
         ],
         "z": [
          4.196817874908447,
          3.017019033432007,
          4.196817874908447,
          5.376616954803467
         ]
        },
        {
         "hoverinfo": "text",
         "marker": {
          "color": {
           "bdata": "AAAAAAAAI0AAAAAAAAAiQAAAAAAAABRAAAAAAAAAGEAAAAAAAAAhQAAAAAAAABpAAAAAAAAAHkAAAAAAAAAaQAAAAAAAABBAAAAAAAAAHEAAAAAAAAAYQAAAAAAAABpAAAAAAACAIkAAAAAAAAASQAAAAAAAABtAAAAAAACAIkAAAAAAAAAhQAAAAAAAAB5AAAAAAAAAI0AAAAAAAAAUQAAAAAAAABZAAAAAAAAAFkAAAAAAAAAjQAAAAAAAgCFAAAAAAAAAGkAAAAAAAAAgQAAAAAAAABxAAAAAAAAAHkAAAAAAAAAgQAAAAAAAABxAAAAAAAAAGkA=",
           "dtype": "f8"
          },
          "colorbar": {
           "title": {
            "text": "Strength"
           }
          },
          "colorscale": [
           [
            0,
            "#440154"
           ],
           [
            0.1111111111111111,
            "#482878"
           ],
           [
            0.2222222222222222,
            "#3e4989"
           ],
           [
            0.3333333333333333,
            "#31688e"
           ],
           [
            0.4444444444444444,
            "#26828e"
           ],
           [
            0.5555555555555556,
            "#1f9e89"
           ],
           [
            0.6666666666666666,
            "#35b779"
           ],
           [
            0.7777777777777778,
            "#6ece58"
           ],
           [
            0.8888888888888888,
            "#b5de2b"
           ],
           [
            1,
            "#fde725"
           ]
          ],
          "opacity": 0.8,
          "size": 7
         },
         "mode": "markers+text",
         "text": [
          "Andrey Spiridonov",
          "Andrey Trubicin",
          "Andrey Larionov",
          "Veselin",
          "Fedor",
          "Andrey Selifonov",
          "Dmitro Ilchenko",
          "Sergii Kolbasin",
          "Vlad",
          "Pavel Karacharov",
          "Sanya",
          "Roman",
          "Ivan",
          "Denys",
          "Vitalii Zhebrakovksy",
          "Oleksandr",
          "Loginov Dmitrii",
          "Artem Bykov",
          "Kirill",
          "Bondarev Yurii",
          "Gundars Mednis",
          "Alexandr Mikhailov",
          "Pedro Ispanec",
          "Dimon Sirnik Lozuk",
          "Sergey Konovalov",
          "Vladimir Chavskiy",
          "Alex Akimov",
          "Andrey",
          "Sanya DrugIlchenko",
          "Vitalik goalkeeper",
          "Dimon Melkii"
         ],
         "type": "scatter3d",
         "x": {
          "bdata": "aYBoQMeCN0DZQDZAAsR9QPEDEkBNxuk/YgI7QAZDAkAPTxNApuk2QNZfZkBeCUNAW4kSQKvDLUCrDTJACYaFQKJnF0BALhpAwzFDQKQEQUDyYk5AW90BQFaxIkCevWlATuFXQPWSVkBJmPk/uywXQLvbekCzZCxAAgZ0QA==",
          "dtype": "f4"
         },
         "y": {
          "bdata": "T8e3QE8duUA2Hu1Az43SQJEg60DIg9tAFHfOQAptwkDUn7BAnO7bQJ6Gr0A/DchAotrqQM2D2EAlarZAd7S7QBQRuEAcP8RAOSbqQNtk4kDSktZAnrjvQJgGvkAHh8dA2lHsQF7lrEAt1cJAjBTVQP+LvUA8UvRAEcrFQA==",
          "dtype": "f4"
         },
         "z": {
          "bdata": "JZ6eQHqPc0BYnYxAMtKFQJmchEDBvmdAaGxxQL24b0AtUHJAotmJQFS8aUCsu6lAksBJQNcWQUAbF55As2h2QN2cjUA/DaxAWFBCQNPrnUCs9JVAQAVbQHA4SUDW7IBAqWBuQH95l0DpGJxAU/epQPqxWEA1e1VAwQKkQA==",
          "dtype": "f4"
         }
        }
       ],
       "layout": {
        "height": 900,
        "scene": {
         "xaxis": {
          "title": {
           "text": "X"
          }
         },
         "yaxis": {
          "title": {
           "text": "Y"
          }
         },
         "zaxis": {
          "title": {
           "text": "Z"
          }
         }
        },
        "template": {
         "data": {
          "bar": [
           {
            "error_x": {
             "color": "#2a3f5f"
            },
            "error_y": {
             "color": "#2a3f5f"
            },
            "marker": {
             "line": {
              "color": "#E5ECF6",
              "width": 0.5
             },
             "pattern": {
              "fillmode": "overlay",
              "size": 10,
              "solidity": 0.2
             }
            },
            "type": "bar"
           }
          ],
          "barpolar": [
           {
            "marker": {
             "line": {
              "color": "#E5ECF6",
              "width": 0.5
             },
             "pattern": {
              "fillmode": "overlay",
              "size": 10,
              "solidity": 0.2
             }
            },
            "type": "barpolar"
           }
          ],
          "carpet": [
           {
            "aaxis": {
             "endlinecolor": "#2a3f5f",
             "gridcolor": "white",
             "linecolor": "white",
             "minorgridcolor": "white",
             "startlinecolor": "#2a3f5f"
            },
            "baxis": {
             "endlinecolor": "#2a3f5f",
             "gridcolor": "white",
             "linecolor": "white",
             "minorgridcolor": "white",
             "startlinecolor": "#2a3f5f"
            },
            "type": "carpet"
           }
          ],
          "choropleth": [
           {
            "colorbar": {
             "outlinewidth": 0,
             "ticks": ""
            },
            "type": "choropleth"
           }
          ],
          "contour": [
           {
            "colorbar": {
             "outlinewidth": 0,
             "ticks": ""
            },
            "colorscale": [
             [
              0,
              "#0d0887"
             ],
             [
              0.1111111111111111,
              "#46039f"
             ],
             [
              0.2222222222222222,
              "#7201a8"
             ],
             [
              0.3333333333333333,
              "#9c179e"
             ],
             [
              0.4444444444444444,
              "#bd3786"
             ],
             [
              0.5555555555555556,
              "#d8576b"
             ],
             [
              0.6666666666666666,
              "#ed7953"
             ],
             [
              0.7777777777777778,
              "#fb9f3a"
             ],
             [
              0.8888888888888888,
              "#fdca26"
             ],
             [
              1,
              "#f0f921"
             ]
            ],
            "type": "contour"
           }
          ],
          "contourcarpet": [
           {
            "colorbar": {
             "outlinewidth": 0,
             "ticks": ""
            },
            "type": "contourcarpet"
           }
          ],
          "heatmap": [
           {
            "colorbar": {
             "outlinewidth": 0,
             "ticks": ""
            },
            "colorscale": [
             [
              0,
              "#0d0887"
             ],
             [
              0.1111111111111111,
              "#46039f"
             ],
             [
              0.2222222222222222,
              "#7201a8"
             ],
             [
              0.3333333333333333,
              "#9c179e"
             ],
             [
              0.4444444444444444,
              "#bd3786"
             ],
             [
              0.5555555555555556,
              "#d8576b"
             ],
             [
              0.6666666666666666,
              "#ed7953"
             ],
             [
              0.7777777777777778,
              "#fb9f3a"
             ],
             [
              0.8888888888888888,
              "#fdca26"
             ],
             [
              1,
              "#f0f921"
             ]
            ],
            "type": "heatmap"
           }
          ],
          "histogram": [
           {
            "marker": {
             "pattern": {
              "fillmode": "overlay",
              "size": 10,
              "solidity": 0.2
             }
            },
            "type": "histogram"
           }
          ],
          "histogram2d": [
           {
            "colorbar": {
             "outlinewidth": 0,
             "ticks": ""
            },
            "colorscale": [
             [
              0,
              "#0d0887"
             ],
             [
              0.1111111111111111,
              "#46039f"
             ],
             [
              0.2222222222222222,
              "#7201a8"
             ],
             [
              0.3333333333333333,
              "#9c179e"
             ],
             [
              0.4444444444444444,
              "#bd3786"
             ],
             [
              0.5555555555555556,
              "#d8576b"
             ],
             [
              0.6666666666666666,
              "#ed7953"
             ],
             [
              0.7777777777777778,
              "#fb9f3a"
             ],
             [
              0.8888888888888888,
              "#fdca26"
             ],
             [
              1,
              "#f0f921"
             ]
            ],
            "type": "histogram2d"
           }
          ],
          "histogram2dcontour": [
           {
            "colorbar": {
             "outlinewidth": 0,
             "ticks": ""
            },
            "colorscale": [
             [
              0,
              "#0d0887"
             ],
             [
              0.1111111111111111,
              "#46039f"
             ],
             [
              0.2222222222222222,
              "#7201a8"
             ],
             [
              0.3333333333333333,
              "#9c179e"
             ],
             [
              0.4444444444444444,
              "#bd3786"
             ],
             [
              0.5555555555555556,
              "#d8576b"
             ],
             [
              0.6666666666666666,
              "#ed7953"
             ],
             [
              0.7777777777777778,
              "#fb9f3a"
             ],
             [
              0.8888888888888888,
              "#fdca26"
             ],
             [
              1,
              "#f0f921"
             ]
            ],
            "type": "histogram2dcontour"
           }
          ],
          "mesh3d": [
           {
            "colorbar": {
             "outlinewidth": 0,
             "ticks": ""
            },
            "type": "mesh3d"
           }
          ],
          "parcoords": [
           {
            "line": {
             "colorbar": {
              "outlinewidth": 0,
              "ticks": ""
             }
            },
            "type": "parcoords"
           }
          ],
          "pie": [
           {
            "automargin": true,
            "type": "pie"
           }
          ],
          "scatter": [
           {
            "fillpattern": {
             "fillmode": "overlay",
             "size": 10,
             "solidity": 0.2
            },
            "type": "scatter"
           }
          ],
          "scatter3d": [
           {
            "line": {
             "colorbar": {
              "outlinewidth": 0,
              "ticks": ""
             }
            },
            "marker": {
             "colorbar": {
              "outlinewidth": 0,
              "ticks": ""
             }
            },
            "type": "scatter3d"
           }
          ],
          "scattercarpet": [
           {
            "marker": {
             "colorbar": {
              "outlinewidth": 0,
              "ticks": ""
             }
            },
            "type": "scattercarpet"
           }
          ],
          "scattergeo": [
           {
            "marker": {
             "colorbar": {
              "outlinewidth": 0,
              "ticks": ""
             }
            },
            "type": "scattergeo"
           }
          ],
          "scattergl": [
           {
            "marker": {
             "colorbar": {
              "outlinewidth": 0,
              "ticks": ""
             }
            },
            "type": "scattergl"
           }
          ],
          "scattermap": [
           {
            "marker": {
             "colorbar": {
              "outlinewidth": 0,
              "ticks": ""
             }
            },
            "type": "scattermap"
           }
          ],
          "scattermapbox": [
           {
            "marker": {
             "colorbar": {
              "outlinewidth": 0,
              "ticks": ""
             }
            },
            "type": "scattermapbox"
           }
          ],
          "scatterpolar": [
           {
            "marker": {
             "colorbar": {
              "outlinewidth": 0,
              "ticks": ""
             }
            },
            "type": "scatterpolar"
           }
          ],
          "scatterpolargl": [
           {
            "marker": {
             "colorbar": {
              "outlinewidth": 0,
              "ticks": ""
             }
            },
            "type": "scatterpolargl"
           }
          ],
          "scatterternary": [
           {
            "marker": {
             "colorbar": {
              "outlinewidth": 0,
              "ticks": ""
             }
            },
            "type": "scatterternary"
           }
          ],
          "surface": [
           {
            "colorbar": {
             "outlinewidth": 0,
             "ticks": ""
            },
            "colorscale": [
             [
              0,
              "#0d0887"
             ],
             [
              0.1111111111111111,
              "#46039f"
             ],
             [
              0.2222222222222222,
              "#7201a8"
             ],
             [
              0.3333333333333333,
              "#9c179e"
             ],
             [
              0.4444444444444444,
              "#bd3786"
             ],
             [
              0.5555555555555556,
              "#d8576b"
             ],
             [
              0.6666666666666666,
              "#ed7953"
             ],
             [
              0.7777777777777778,
              "#fb9f3a"
             ],
             [
              0.8888888888888888,
              "#fdca26"
             ],
             [
              1,
              "#f0f921"
             ]
            ],
            "type": "surface"
           }
          ],
          "table": [
           {
            "cells": {
             "fill": {
              "color": "#EBF0F8"
             },
             "line": {
              "color": "white"
             }
            },
            "header": {
             "fill": {
              "color": "#C8D4E3"
             },
             "line": {
              "color": "white"
             }
            },
            "type": "table"
           }
          ]
         },
         "layout": {
          "annotationdefaults": {
           "arrowcolor": "#2a3f5f",
           "arrowhead": 0,
           "arrowwidth": 1
          },
          "autotypenumbers": "strict",
          "coloraxis": {
           "colorbar": {
            "outlinewidth": 0,
            "ticks": ""
           }
          },
          "colorscale": {
           "diverging": [
            [
             0,
             "#8e0152"
            ],
            [
             0.1,
             "#c51b7d"
            ],
            [
             0.2,
             "#de77ae"
            ],
            [
             0.3,
             "#f1b6da"
            ],
            [
             0.4,
             "#fde0ef"
            ],
            [
             0.5,
             "#f7f7f7"
            ],
            [
             0.6,
             "#e6f5d0"
            ],
            [
             0.7,
             "#b8e186"
            ],
            [
             0.8,
             "#7fbc41"
            ],
            [
             0.9,
             "#4d9221"
            ],
            [
             1,
             "#276419"
            ]
           ],
           "sequential": [
            [
             0,
             "#0d0887"
            ],
            [
             0.1111111111111111,
             "#46039f"
            ],
            [
             0.2222222222222222,
             "#7201a8"
            ],
            [
             0.3333333333333333,
             "#9c179e"
            ],
            [
             0.4444444444444444,
             "#bd3786"
            ],
            [
             0.5555555555555556,
             "#d8576b"
            ],
            [
             0.6666666666666666,
             "#ed7953"
            ],
            [
             0.7777777777777778,
             "#fb9f3a"
            ],
            [
             0.8888888888888888,
             "#fdca26"
            ],
            [
             1,
             "#f0f921"
            ]
           ],
           "sequentialminus": [
            [
             0,
             "#0d0887"
            ],
            [
             0.1111111111111111,
             "#46039f"
            ],
            [
             0.2222222222222222,
             "#7201a8"
            ],
            [
             0.3333333333333333,
             "#9c179e"
            ],
            [
             0.4444444444444444,
             "#bd3786"
            ],
            [
             0.5555555555555556,
             "#d8576b"
            ],
            [
             0.6666666666666666,
             "#ed7953"
            ],
            [
             0.7777777777777778,
             "#fb9f3a"
            ],
            [
             0.8888888888888888,
             "#fdca26"
            ],
            [
             1,
             "#f0f921"
            ]
           ]
          },
          "colorway": [
           "#636efa",
           "#EF553B",
           "#00cc96",
           "#ab63fa",
           "#FFA15A",
           "#19d3f3",
           "#FF6692",
           "#B6E880",
           "#FF97FF",
           "#FECB52"
          ],
          "font": {
           "color": "#2a3f5f"
          },
          "geo": {
           "bgcolor": "white",
           "lakecolor": "white",
           "landcolor": "#E5ECF6",
           "showlakes": true,
           "showland": true,
           "subunitcolor": "white"
          },
          "hoverlabel": {
           "align": "left"
          },
          "hovermode": "closest",
          "mapbox": {
           "style": "light"
          },
          "paper_bgcolor": "white",
          "plot_bgcolor": "#E5ECF6",
          "polar": {
           "angularaxis": {
            "gridcolor": "white",
            "linecolor": "white",
            "ticks": ""
           },
           "bgcolor": "#E5ECF6",
           "radialaxis": {
            "gridcolor": "white",
            "linecolor": "white",
            "ticks": ""
           }
          },
          "scene": {
           "xaxis": {
            "backgroundcolor": "#E5ECF6",
            "gridcolor": "white",
            "gridwidth": 2,
            "linecolor": "white",
            "showbackground": true,
            "ticks": "",
            "zerolinecolor": "white"
           },
           "yaxis": {
            "backgroundcolor": "#E5ECF6",
            "gridcolor": "white",
            "gridwidth": 2,
            "linecolor": "white",
            "showbackground": true,
            "ticks": "",
            "zerolinecolor": "white"
           },
           "zaxis": {
            "backgroundcolor": "#E5ECF6",
            "gridcolor": "white",
            "gridwidth": 2,
            "linecolor": "white",
            "showbackground": true,
            "ticks": "",
            "zerolinecolor": "white"
           }
          },
          "shapedefaults": {
           "line": {
            "color": "#2a3f5f"
           }
          },
          "ternary": {
           "aaxis": {
            "gridcolor": "white",
            "linecolor": "white",
            "ticks": ""
           },
           "baxis": {
            "gridcolor": "white",
            "linecolor": "white",
            "ticks": ""
           },
           "bgcolor": "#E5ECF6",
           "caxis": {
            "gridcolor": "white",
            "linecolor": "white",
            "ticks": ""
           }
          },
          "title": {
           "x": 0.05
          },
          "xaxis": {
           "automargin": true,
           "gridcolor": "white",
           "linecolor": "white",
           "ticks": "",
           "title": {
            "standoff": 15
           },
           "zerolinecolor": "white",
           "zerolinewidth": 2
          },
          "yaxis": {
           "automargin": true,
           "gridcolor": "white",
           "linecolor": "white",
           "ticks": "",
           "title": {
            "standoff": 15
           },
           "zerolinecolor": "white",
           "zerolinewidth": 2
          }
         }
        },
        "title": {
         "text": "3D UMAP projection of player embeddings"
        },
        "width": 1000
       }
      }
     },
     "metadata": {},
     "output_type": "display_data"
    }
   ],
   "source": [
    "import numpy as np\n",
    "import umap\n",
    "import matplotlib.pyplot as plt\n",
    "import plotly.graph_objs as go\n",
    "\n",
    "# Generate test embeddings and labels (replace these with actual data)\n",
    "np.random.seed(42)\n",
    "labels_points = [f'{name}' for name in team_members_with_ids.values()]\n",
    "\n",
    "\n",
    "# Embed to 3D\n",
    "reducer = umap.UMAP(n_components=3, random_state=42)\n",
    "embeddings_3d = reducer.fit_transform(player_embeddings)\n",
    "\n",
    "x_emb = embeddings_3d[:, 0]\n",
    "y_emb = embeddings_3d[:, 1]\n",
    "z_emb = embeddings_3d[:, 2]\n",
    "\n",
    "x_min = np.min(x_emb)\n",
    "x_max = np.max(x_emb)\n",
    "y_min = np.min(y_emb)\n",
    "y_max = np.max(y_emb)\n",
    "z_min = np.min(z_emb)\n",
    "z_max = np.max(z_emb)\n",
    "\n",
    "# Create interactive 3D scatter plot\n",
    "scatter = go.Scatter3d(\n",
    "        x=x_emb,\n",
    "        y=y_emb,\n",
    "        z=z_emb,\n",
    "        # mode='markers',\n",
    "        mode='markers+text',\n",
    "        marker=dict(\n",
    "            size=7,\n",
    "            color=player_strengths_estimates,       # Color by this array\n",
    "            colorscale='Viridis',         # Choose a colorscale\n",
    "            colorbar=dict(title='Strength'),\n",
    "            opacity=0.8\n",
    "        ),\n",
    "        text=labels_points,          # Hover labels\n",
    "        hoverinfo='text'\n",
    "    )\n",
    "print(f\"x_min: {x_min} x_max: {x_max}\")\n",
    "print(f\"y_min: {y_min} y_max: {y_max}\")\n",
    "print(f\"z_min: {z_min} z_max: {z_max}\")\n",
    "\n",
    "\n",
    "# Define the 3 corners of the triangle in 3D\n",
    "x_m = [x_min, x_min, x_max, x_max,]  # Replace with your corner x coordinates\n",
    "y_m = [y_min ,y_max, y_max, y_min]  # Replace with your corner y coordinates\n",
    "z_m = [(z_max + z_min) / 2 , z_min, (z_max + z_min) / 2 , z_max]  # Replace with your corner z coordinates\n",
    "\n",
    "\n",
    "# Define two triangles that form the rhombus\n",
    "i = [0, 0]  # first vertices of triangles\n",
    "j = [1, 2]  # second vertices of triangles\n",
    "k = [2, 3]  # third vertices of triangles\n",
    "\n",
    "# Create the Mesh3d object representing the triangle surface\n",
    "triangle_surface = go.Mesh3d(\n",
    "    x=x_m,\n",
    "    y=y_m,\n",
    "    z=z_m,\n",
    "    i=i,\n",
    "    j=j,\n",
    "    k=k,\n",
    "    color='lightblue',\n",
    "    opacity=0.5,\n",
    "    name='Rhombus'\n",
    ")\n",
    "\n",
    "# fig = go.Figure(data=[scatter, quivers])\n",
    "fig = go.Figure(data=[triangle_surface, scatter])\n",
    "\n",
    "\n",
    "fig.update_layout(\n",
    "    title=\"3D UMAP projection of player embeddings\",\n",
    "    width=1000,             # <-- Change this to your desired width in pixels\n",
    "    height=900,  \n",
    "    scene=dict(\n",
    "        xaxis_title=\"X\",\n",
    "        yaxis_title=\"Y\",\n",
    "        zaxis_title=\"Z\"\n",
    "    )\n",
    ")\n",
    "\n",
    "fig.show()\n"
   ]
  },
  {
   "cell_type": "code",
   "execution_count": null,
   "id": "62f51176-596f-4f32-bc3c-2d652f2ae248",
   "metadata": {},
   "outputs": [],
   "source": []
  },
  {
   "cell_type": "code",
   "execution_count": 90,
   "id": "321b79a0-2da7-457a-a6ef-6d6c07ce96d2",
   "metadata": {},
   "outputs": [
    {
     "name": "stdout",
     "output_type": "stream",
     "text": [
      "(31,)\n",
      "(31, 3)\n",
      "Dimension 1 correlation with base strengths: r = 0.1927, p-value = 0.2991\n",
      "Dimension 2 correlation with base strengths: r = -0.2230, p-value = 0.2278\n",
      "Dimension 3 correlation with base strengths: r = -0.1045, p-value = 0.5758\n",
      "Average absolute correlation across 3 components: 0.1734\n"
     ]
    }
   ],
   "source": [
    "import numpy as np\n",
    "from scipy.stats import pearsonr\n",
    "\n",
    "# Assuming these variables from your setup:\n",
    "# player_strengths: numpy array of shape (num_players,)\n",
    "# embeddings_3d: numpy array of shape (num_players, 3) -- UMAP 3D projections\n",
    "\n",
    "num_players = player_strengths_estimates.shape[0]\n",
    "correlations = []\n",
    "print(player_strengths_estimates.shape)\n",
    "print(embeddings_3d.shape)\n",
    "for dim in range(3):\n",
    "    corr, p_value = pearsonr(embeddings_3d[:, dim], player_strengths_estimates)\n",
    "    correlations.append((corr, p_value))\n",
    "    print(f\"Dimension {dim + 1} correlation with base strengths: r = {corr:.4f}, p-value = {p_value:.4g}\")\n",
    "\n",
    "# Optionally, compute average absolute correlation across all 3 dimensions\n",
    "avg_abs_corr = np.mean([abs(c[0]) for c in correlations])\n",
    "print(f\"Average absolute correlation across 3 components: {avg_abs_corr:.4f}\")\n"
   ]
  },
  {
   "cell_type": "code",
   "execution_count": null,
   "id": "6e97c024-0388-4a54-96e6-1006454c9292",
   "metadata": {},
   "outputs": [],
   "source": [
    "# TODO\n",
    "# 1. how vector embeddings initialisation affects results?\n",
    "# 2. add scores statistics for the player to speedup learning"
   ]
  }
 ],
 "metadata": {
  "kernelspec": {
   "display_name": "Python Football Manager",
   "language": "python",
   "name": "footballman"
  },
  "language_info": {
   "codemirror_mode": {
    "name": "ipython",
    "version": 3
   },
   "file_extension": ".py",
   "mimetype": "text/x-python",
   "name": "python",
   "nbconvert_exporter": "python",
   "pygments_lexer": "ipython3",
   "version": "3.12.9"
  }
 },
 "nbformat": 4,
 "nbformat_minor": 5
}

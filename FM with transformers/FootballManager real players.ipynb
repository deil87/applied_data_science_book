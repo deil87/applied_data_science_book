{
 "cells": [
  {
   "cell_type": "code",
   "execution_count": 5,
   "id": "b30031ee-5c79-46a5-a3d4-5e154ccef692",
   "metadata": {},
   "outputs": [],
   "source": [
    "import tensorflow as tf\n",
    "from tensorflow.keras import layers, Model, Input, initializers\n",
    "from datetime import date\n",
    "import numpy as np\n",
    "\n",
    "\n",
    "# import competition_manager as cm\n",
    "from competition_manager import *"
   ]
  },
  {
   "cell_type": "code",
   "execution_count": 6,
   "id": "1917c83c-6aef-4006-aef0-744537fe0ade",
   "metadata": {},
   "outputs": [],
   "source": [
    "import random\n",
    "import os\n",
    "def set_seed(seed=42):\n",
    "    np.random.seed(seed)                  # Fix NumPy random seed\n",
    "    random.seed(seed)                     # Fix Python built-in random seed\n",
    "    tf.random.set_seed(seed)              # Fix TensorFlow random seed\n",
    "\n",
    "    # Optional but recommended: configure TensorFlow for deterministic ops\n",
    "    os.environ['TF_DETERMINISTIC_OPS'] = '1'\n",
    "\n",
    "# Call this function at the very start, before building or training your model\n",
    "seed_value = 42\n",
    "set_seed(seed_value)"
   ]
  },
  {
   "cell_type": "markdown",
   "id": "204ced67-44c3-4e09-b65b-fc35a92320c7",
   "metadata": {},
   "source": [
    "## Prepare real players data"
   ]
  },
  {
   "cell_type": "code",
   "execution_count": 7,
   "id": "a0f6c7ac-dc43-4840-99e7-88ff9e8a2832",
   "metadata": {},
   "outputs": [],
   "source": [
    "team_members = [\"Andrey Spiridonov\", \"Andrey Trubicin\", \"Andrey Larionov\", \"Veselin\", \"Fedor\", \"Andrey Selifonov\",\n",
    "                \"Dmitro Ilchenko\", \"Sergii Kolbasin\", \"Vlad\", \"Pavel Karacharov\", \"Sanya\", \"Roman\", \"Ivan\", \"Denys\", \"Vitalii Zhebrakovksy\",\n",
    "                \"Oleksandr\", \"Loginov Dmitrii\", \"Artem Bykov\", \"Kirill\", \"Bondarev Yurii\", \"Gundars Mednis\", \"Alexandr Mikhailov\",\n",
    "                \"Pedro Ispanec\", \"Dimon Sirnik Lozuk\", \"Sergey Konovalov\", \"Vladimir Chavskiy\", \"Alex Akimov\", \"Andrey\", \"Sanya DrugIlchenko\", \n",
    "                \"Vitalik goalkeeper\", \"Dimon Melkii\"]\n"
   ]
  },
  {
   "cell_type": "code",
   "execution_count": 8,
   "id": "c66447ee-2d6c-4df6-8cd2-f8535a607501",
   "metadata": {},
   "outputs": [
    {
     "data": {
      "text/plain": [
       "{1: 'Andrey Spiridonov',\n",
       " 2: 'Andrey Trubicin',\n",
       " 3: 'Andrey Larionov',\n",
       " 4: 'Veselin',\n",
       " 5: 'Fedor',\n",
       " 6: 'Andrey Selifonov',\n",
       " 7: 'Dmitro Ilchenko',\n",
       " 8: 'Sergii Kolbasin',\n",
       " 9: 'Vlad',\n",
       " 10: 'Pavel Karacharov',\n",
       " 11: 'Sanya',\n",
       " 12: 'Roman',\n",
       " 13: 'Ivan',\n",
       " 14: 'Denys',\n",
       " 15: 'Vitalii Zhebrakovksy',\n",
       " 16: 'Oleksandr',\n",
       " 17: 'Loginov Dmitrii',\n",
       " 18: 'Artem Bykov',\n",
       " 19: 'Kirill',\n",
       " 20: 'Bondarev Yurii',\n",
       " 21: 'Gundars Mednis',\n",
       " 22: 'Alexandr Mikhailov',\n",
       " 23: 'Pedro Ispanec',\n",
       " 24: 'Dimon Sirnik Lozuk',\n",
       " 25: 'Sergey Konovalov',\n",
       " 26: 'Vladimir Chavskiy',\n",
       " 27: 'Alex Akimov',\n",
       " 28: 'Andrey',\n",
       " 29: 'Sanya DrugIlchenko',\n",
       " 30: 'Vitalik goalkeeper',\n",
       " 31: 'Dimon Melkii'}"
      ]
     },
     "execution_count": 8,
     "metadata": {},
     "output_type": "execute_result"
    }
   ],
   "source": [
    "team_members_with_ids = {idx + 1: tm for idx, tm in enumerate(team_members)}\n",
    "team_members_with_ids"
   ]
  },
  {
   "cell_type": "code",
   "execution_count": 9,
   "id": "8bdefce7-c53e-4016-9375-6a6a916e53ed",
   "metadata": {},
   "outputs": [
    {
     "data": {
      "text/plain": [
       "31"
      ]
     },
     "execution_count": 9,
     "metadata": {},
     "output_type": "execute_result"
    }
   ],
   "source": [
    "len(team_members_with_ids)"
   ]
  },
  {
   "cell_type": "markdown",
   "id": "f6dc55e8-fa29-4691-8991-6c6a3454ac58",
   "metadata": {},
   "source": [
    "{1: 'Andrey Spiridonov', #9.75\n",
    " 2: 'Andrey Trubicin', # 9 \n",
    " 3: 'Andrey Larionov', #5\n",
    " 4: 'Veselin', # 6\n",
    " 5: 'Fedor', # 7\n",
    " 6: 'Andrey Selifonov', # 6.5\n",
    " 7: 'Dmitro Ilchenko', #7.5\n",
    " 8: 'Sergii Kolbasin', # 6.5\n",
    " 9: 'Vlad', #4\n",
    " 10: 'Pavel Karacharov', # 7\n",
    " 11: 'Sanya', # 6\n",
    " 12: 'Roman', # 6.5\n",
    " 13: 'Ivan', # 9.25\n",
    " 14: 'Denys', # 4.5\n",
    " 15: 'Vitalii Zhebrakovksy', #6.75\n",
    " 16: 'Oleksandr', #9.25\n",
    " 17: 'Loginov Dmitrii', # 8.5\n",
    " 18: 'Artem Bykov', # 7.5\n",
    " 19: 'Kirill', #9.5\n",
    " 20: 'Bondarev Yurii', # 5\n",
    " 21: 'Gundars Mednis', # 5.5\n",
    " 22: 'Alexandr Mikhailov', # 5.5\n",
    " 23: 'Pedro Ispanec', #9.5\n",
    " 24: 'Dimon Sirnik Lozuk', # 8.75\n",
    " 25: 'Sergey Konovalov' # 6.5,\n",
    " 26: 'Vladimir Chavskiy' # 8,\n",
    " 27: 'Alex Akimov' # 7,\n",
    " 28: 'Andrey' # 7.5,\n",
    " 29: 'Sanya DrugIlchenko', #8\n",
    " 30: 'Vitalik goalkeeper', #7,\n",
    " 31: 'Dimon Melkii' # 6.5}"
   ]
  },
  {
   "cell_type": "code",
   "execution_count": 10,
   "id": "2cef32c7-66b6-4c24-8bf0-12cbfde2159e",
   "metadata": {},
   "outputs": [],
   "source": [
    "player_strengths_estimates = np.array([0, 9.5, 9, 5, 6, 8.5, 6.5, 7.5, 6.5,4, 7, 6,6.5, 9.25, 4.5, 6.75, 9.25, 8.5, \n",
    "                                       7.5, 9.5, 5, 5.5, 5.5 , 9.5, 8.75, 6.5, 8, 7, 7.5, 8 , 7, 6.5])"
   ]
  },
  {
   "cell_type": "code",
   "execution_count": 11,
   "id": "3e8b1d05-edb1-4673-ac0b-79326f3d012f",
   "metadata": {},
   "outputs": [
    {
     "data": {
      "text/plain": [
       "32"
      ]
     },
     "execution_count": 11,
     "metadata": {},
     "output_type": "execute_result"
    }
   ],
   "source": [
    "len(player_strengths_estimates)"
   ]
  },
  {
   "cell_type": "code",
   "execution_count": 12,
   "id": "cf6280fa-6ad3-4e90-9073-65e9fa8d2d09",
   "metadata": {},
   "outputs": [],
   "source": [
    "\n",
    "def name_to_var(name):\n",
    "    \"\"\"Convert a full name string into a valid Python variable name.\"\"\"\n",
    "    # Lowercase, replace spaces with underscores, remove non-alphanumeric/underscore characters\n",
    "    import re\n",
    "    var = name.lower()\n",
    "    var = var.replace(' ', '_')\n",
    "    var = re.sub(r'[^0-9a-z_]', '', var)\n",
    "    return var\n",
    "\n",
    "# Define variables dynamically in globals()\n",
    "for idx, name in team_members_with_ids.items():\n",
    "    var_name = name_to_var(name)\n",
    "    globals()[var_name] = idx"
   ]
  },
  {
   "cell_type": "markdown",
   "id": "27880ace-ba81-485d-a0a6-6a023893d06a",
   "metadata": {},
   "source": [
    "## Historical data / competitions"
   ]
  },
  {
   "cell_type": "code",
   "execution_count": 13,
   "id": "730adf2b-74b7-4da4-9bf1-841e821863cc",
   "metadata": {},
   "outputs": [],
   "source": [
    "historical_cometitions = [\n",
    "    Competition([loginov_dmitrii, andrey_spiridonov, veselin, alexandr_mikhailov, ivan],\n",
    "     [kirill, andrey_trubicin, oleksandr, fedor, denys], 11, date(2025, 7, 13 ),\n",
    "               {\n",
    "                   fedor:6, andrey_trubicin:6, oleksandr:4, kirill:2, \n",
    "                   loginov_dmitrii:7, veselin:4, ivan:12, andrey_spiridonov:5\n",
    "               }),\n",
    "\n",
    "    Competition([roman, oleksandr, andrey_trubicin, denys, andrey_selifonov, veselin],\n",
    "     [alex_akimov, loginov_dmitrii, andrey_larionov, vitalik_goalkeeper, artem_bykov, andrey_spiridonov], 1, date(2025, 7, 6 )),\n",
    "\n",
    "    Competition([andrey_selifonov, roman, loginov_dmitrii, andrey_trubicin, kirill, vitalik_goalkeeper],\n",
    "     [oleksandr, andrey_larionov, sergii_kolbasin, andrey_spiridonov, pavel_karacharov, vlad], 2, date(2025, 6, 22 ),\n",
    "               {\n",
    "                    andrey_trubicin: 8, andrey_selifonov: 2, kirill: 3, roman: 3, loginov_dmitrii: 4,\n",
    "                    andrey_larionov: 1, andrey_spiridonov: 2, pavel_karacharov: 5, vlad: 4, sergii_kolbasin: 3, oleksandr: 2 \n",
    "               }),\n",
    "\n",
    "    Competition([ivan, artem_bykov, andrey_larionov, oleksandr, gundars_mednis, veselin, vitalii_zhebrakovksy, andrey_spiridonov],\n",
    "     [andrey_trubicin, loginov_dmitrii, dimon_sirnik_lozuk, kirill, alex_akimov, dimon_melkii, roman, sergii_kolbasin], 3, date(2025, 6, 14 )),\n",
    "\n",
    "    Competition([andrey_trubicin, loginov_dmitrii, roman, sergii_kolbasin, gundars_mednis],\n",
    "     [andrey_spiridonov, oleksandr, vlad, alex_akimov, vitalii_zhebrakovksy], 3, date(2025, 6, 9 )),\n",
    "\n",
    "    Competition([ivan, bondarev_yurii, loginov_dmitrii, andrey_larionov, fedor, andrey_spiridonov, roman, dimon_sirnik_lozuk],\n",
    "     [oleksandr, dimon_melkii, andrey_selifonov, artem_bykov, andrey_trubicin, gundars_mednis, pedro_ispanec, veselin], 3, date(2025, 6, 8 ), \n",
    "               {\n",
    "                   fedor: 6, andrey_larionov: 1, loginov_dmitrii: 2, bondarev_yurii: 1, andrey_spiridonov: 1, ivan: 1, dimon_sirnik_lozuk:1,\n",
    "                   andrey_selifonov: 1, andrey_trubicin: 4, pedro_ispanec: 1, artem_bykov: 1, dimon_melkii: 1 \n",
    "               }),\n",
    "\n",
    "    Competition([andrey_larionov, vitalii_zhebrakovksy, roman, andrey_spiridonov, loginov_dmitrii, sergii_kolbasin],\n",
    "     [oleksandr, veselin, andrey_selifonov, bondarev_yurii, alex_akimov, andrey_trubicin], 1, date(2025, 5, 25 ), \n",
    "               {\n",
    "                   sergii_kolbasin: 2, roman: 2, loginov_dmitrii: 6, andrey_spiridonov: 4, andrey_larionov: 1,\n",
    "                   oleksandr: 3, andrey_selifonov: 2, veselin: 4, andrey_trubicin: 4\n",
    "               }),\n",
    "\n",
    "    Competition([oleksandr, fedor, andrey_spiridonov, loginov_dmitrii, vitalii_zhebrakovksy, pavel_karacharov],\n",
    "     [pedro_ispanec, andrey, andrey_trubicin, artem_bykov, roman, kirill], 1, date(2025, 5, 4 ),\n",
    "               {\n",
    "                   oleksandr: 4, loginov_dmitrii: 4, pavel_karacharov: 2, fedor: 1, andrey_spiridonov: 2, vitalii_zhebrakovksy: 1,\n",
    "                    andrey_trubicin: 4, roman: 1, pedro_ispanec: 4, artem_bykov: 4\n",
    "               }), # 14:13\n",
    "\n",
    "    Competition([loginov_dmitrii, alex_akimov, andrey_larionov, oleksandr, veselin, andrey, andrey_trubicin],\n",
    "     [bondarev_yurii, artem_bykov, ivan, gundars_mednis, andrey_selifonov, roman, andrey_spiridonov], -2, date(2025, 4, 12 ),\n",
    "               {\n",
    "                   andrey_trubicin: 7, andrey_larionov: 1, oleksandr: 1, \n",
    "                   andrey_selifonov: 3, andrey_spiridonov: 3, bondarev_yurii: 3, ivan: 1, artem_bykov: 1\n",
    "               }), # 9:11\n",
    "\n",
    "    Competition([andrey_larionov, gundars_mednis, andrey_spiridonov, loginov_dmitrii, andrey_selifonov],\n",
    "     [oleksandr, vitalii_zhebrakovksy, andrey_trubicin, roman, denys], -3, date(2025, 4, 6 ),\n",
    "               {\n",
    "                   loginov_dmitrii: 4, andrey_spiridonov: 4, gundars_mednis: 2, andrey_selifonov: 2, andrey_larionov: 1,\n",
    "                    oleksandr: 4, andrey_trubicin: 6, vitalii_zhebrakovksy: 3, denys: 1, roman: 2\n",
    "               }), # 13:16\n",
    "\n",
    "    \n",
    "    \n",
    "    Competition([andrey_trubicin, fedor, gundars_mednis, pedro_ispanec, loginov_dmitrii],\n",
    "     [ivan, roman, alexandr_mikhailov, andrey_spiridonov, andrey_selifonov], -4, date(2025, 3, 29 )),\n",
    "\n",
    "    Competition([loginov_dmitrii, dimon_sirnik_lozuk, roman, sanya, andrey_larionov, sergii_kolbasin, roman, denys],\n",
    "     [veselin, andrey_spiridonov, andrey_trubicin, fedor, pedro_ispanec, artem_bykov, andrey, vlad], -4, date( 2025, 3, 22)),\n",
    "\n",
    "    Competition([roman, andrey_spiridonov, andrey_trubicin, ivan, pedro_ispanec, denys, artem_bykov],\n",
    "     [bondarev_yurii, fedor, kirill, oleksandr, andrey_larionov, veselin, loginov_dmitrii], 0, date(2025, 3, 9)),\n",
    "\n",
    "    Competition([andrey_larionov, oleksandr, andrey_trubicin, veselin, loginov_dmitrii, kirill, roman, pedro_ispanec, pavel_karacharov],\n",
    "     [ivan, dmitro_ilchenko, andrey_spiridonov, fedor, artem_bykov, sanya, sanya_drugilchenko, andrey_selifonov, alexandr_mikhailov], -1, date(2025, 3, 2)),\n",
    "\n",
    "    Competition([oleksandr, vlad, andrey_spiridonov, artem_bykov, andrey_larionov, andrey_trubicin, roman, bondarev_yurii],\n",
    "     [ivan, fedor, loginov_dmitrii, denys, dmitro_ilchenko, andrey_selifonov, sergii_kolbasin, pedro_ispanec], 1, date(2025, 2, 8)),\n",
    "\n",
    "    Competition([roman, andrey_trubicin, ivan, andrey_spiridonov, veselin, vlad, sergii_kolbasin, andrey_selifonov],\n",
    "     [denys, oleksandr, dmitro_ilchenko, fedor, artem_bykov, andrey_larionov, loginov_dmitrii, sanya], 0, date(2025, 2, 1)),\n",
    "\n",
    "    Competition([loginov_dmitrii, alexandr_mikhailov, bondarev_yurii, pavel_karacharov, fedor, dmitro_ilchenko],\n",
    "     [oleksandr, andrey_trubicin, andrey, andrey_larionov, artem_bykov, vitalii_zhebrakovksy], 0, date(2025, 1, 26)),\n",
    "\n",
    "    \n",
    "    Competition([bondarev_yurii, dmitro_ilchenko, roman, andrey_trubicin, andrey_spiridonov, vlad, pavel_karacharov, artem_bykov],\n",
    "     [loginov_dmitrii, veselin, ivan, oleksandr, vitalii_zhebrakovksy, sergii_kolbasin, denys, andrey_larionov], 0, date(2025, 1, 18)),  # Black legs matter\n",
    "\n",
    "    Competition([vitalii_zhebrakovksy, loginov_dmitrii, ivan, andrey_spiridonov, andrey_larionov, andrey_trubicin, veselin],\n",
    "     [sanya, roman, denys, andrey_spiridonov, andrey_selifonov, oleksandr, alex_akimov], 0, date(2024, 12, 29)),\n",
    "]"
   ]
  },
  {
   "cell_type": "code",
   "execution_count": 14,
   "id": "10c223b1-b4e8-4b14-86bd-39ccf0ad08f8",
   "metadata": {},
   "outputs": [
    {
     "data": {
      "text/plain": [
       "19"
      ]
     },
     "execution_count": 14,
     "metadata": {},
     "output_type": "execute_result"
    }
   ],
   "source": [
    "len(historical_cometitions)"
   ]
  },
  {
   "cell_type": "code",
   "execution_count": 15,
   "id": "3d69cda4-3b41-4cd8-b966-af42106f8104",
   "metadata": {},
   "outputs": [
    {
     "name": "stdout",
     "output_type": "stream",
     "text": [
      "Shape of teamA_data: (19, 9)\n",
      "teamA_data shape: (19, 9)\n",
      "teamB_data shape: (19, 9)\n",
      "outcomes shape: (19,)\n"
     ]
    }
   ],
   "source": [
    "\n",
    "NUM_PLAYERS = len(team_members_with_ids)\n",
    "MIN_TEAM_SIZE = 5\n",
    "MAX_TEAM_SIZE = 9\n",
    "NUM_GAMES = len(historical_cometitions)\n",
    "\n",
    "teamA_data = np.zeros((NUM_GAMES, MAX_TEAM_SIZE), dtype=int)\n",
    "teamB_data = np.zeros((NUM_GAMES, MAX_TEAM_SIZE), dtype=int)\n",
    "outcomes = np.zeros(NUM_GAMES)\n",
    "\n",
    "print(f\"Shape of teamA_data: {teamA_data.shape}\")\n",
    "\n",
    "for comp_i, competition in enumerate(historical_cometitions):\n",
    "\n",
    "    teamA_players = competition.team_a\n",
    "    teamB_players = competition.team_b\n",
    "    assert len(teamA_players) == len(teamB_players), f\"Teams are supposed to be of equal size, Team A:{len(teamA_players)} Team B: {len(teamB_players)}\"\n",
    "    team_size = len(teamA_players)\n",
    "\n",
    "    outcomes[comp_i] = competition.score_diff\n",
    "\n",
    "    # print(teamA_players)\n",
    "    # print(teamB_players)\n",
    "    # Pad teams to max size using zeros (which corresponds to masked player)\n",
    "    teamA_data[comp_i, :team_size] = teamA_players\n",
    "    teamB_data[comp_i, :team_size] = teamB_players\n",
    "\n",
    "print(\"teamA_data shape:\", teamA_data.shape)\n",
    "print(\"teamB_data shape:\", teamB_data.shape)\n",
    "print(\"outcomes shape:\", outcomes.shape)"
   ]
  },
  {
   "cell_type": "code",
   "execution_count": 16,
   "id": "0bb27ba4-79fb-4b74-8845-c586f07924e1",
   "metadata": {},
   "outputs": [
    {
     "data": {
      "text/plain": [
       "array([[17,  1,  4, 22, 13,  0,  0,  0,  0],\n",
       "       [12, 16,  2, 14,  6,  4,  0,  0,  0],\n",
       "       [ 6, 12, 17,  2, 19, 30,  0,  0,  0],\n",
       "       [13, 18,  3, 16, 21,  4, 15,  1,  0],\n",
       "       [ 2, 17, 12,  8, 21,  0,  0,  0,  0],\n",
       "       [13, 20, 17,  3,  5,  1, 12, 24,  0],\n",
       "       [ 3, 15, 12,  1, 17,  8,  0,  0,  0],\n",
       "       [16,  5,  1, 17, 15, 10,  0,  0,  0],\n",
       "       [17, 27,  3, 16,  4, 28,  2,  0,  0],\n",
       "       [ 3, 21,  1, 17,  6,  0,  0,  0,  0],\n",
       "       [ 2,  5, 21, 23, 17,  0,  0,  0,  0],\n",
       "       [17, 24, 12, 11,  3,  8, 12, 14,  0],\n",
       "       [12,  1,  2, 13, 23, 14, 18,  0,  0],\n",
       "       [ 3, 16,  2,  4, 17, 19, 12, 23, 10],\n",
       "       [16,  9,  1, 18,  3,  2, 12, 20,  0],\n",
       "       [12,  2, 13,  1,  4,  9,  8,  6,  0],\n",
       "       [17, 22, 20, 10,  5,  7,  0,  0,  0],\n",
       "       [20,  7, 12,  2,  1,  9, 10, 18,  0],\n",
       "       [15, 17, 13,  1,  3,  2,  4,  0,  0]])"
      ]
     },
     "execution_count": 16,
     "metadata": {},
     "output_type": "execute_result"
    }
   ],
   "source": [
    "teamA_data"
   ]
  },
  {
   "cell_type": "markdown",
   "id": "77c86620-b38e-488a-a8f4-1f2207bba927",
   "metadata": {},
   "source": [
    "## Version of the model for real data"
   ]
  },
  {
   "cell_type": "code",
   "execution_count": 17,
   "id": "a63e979a-e3f9-4f61-9468-7f5663aada75",
   "metadata": {},
   "outputs": [
    {
     "data": {
      "text/plain": [
       "(19, 9)"
      ]
     },
     "execution_count": 17,
     "metadata": {},
     "output_type": "execute_result"
    }
   ],
   "source": [
    "teamB_data.shape"
   ]
  },
  {
   "cell_type": "markdown",
   "id": "2c844175-d561-40dd-af3a-26257da6b448",
   "metadata": {},
   "source": [
    "## Masked MSE function"
   ]
  },
  {
   "cell_type": "code",
   "execution_count": 18,
   "id": "d6ac6ff1-af26-4d36-aca7-88c203f973d9",
   "metadata": {},
   "outputs": [],
   "source": [
    "def masked_mse(missing_value=-1.0):\n",
    "    def loss(y_true, y_pred):\n",
    "        mask = tf.not_equal(y_true, missing_value)\n",
    "        y_true_masked = tf.boolean_mask(y_true, mask)\n",
    "        y_pred_masked = tf.boolean_mask(y_pred, mask)\n",
    "        loss_value = tf.reduce_mean(tf.square(y_true_masked - y_pred_masked))\n",
    "        # print(f\"Loss value {y_true.numpy()}: {loss_value}\") tensors are only symbolic at this stage. Only with eager execution can work\n",
    "        # tf.print(\"goals_out y_true:\", y_true, summarize=10)\n",
    "        # tf.print(\"goals_out mask:\", mask, summarize=10)\n",
    "        # tf.print(\"goals_out y_true_masked:\", y_true_masked, summarize=100)\n",
    "        # tf.print(\"goals_out y_pred_masked:\", y_pred_masked, summarize=100)\n",
    "        \n",
    "        return loss_value\n",
    "    return loss"
   ]
  },
  {
   "cell_type": "code",
   "execution_count": 19,
   "id": "528f7e01-f1ae-4e90-912b-ae79fe90cdcd",
   "metadata": {},
   "outputs": [],
   "source": [
    "import matplotlib.pyplot as plt\n",
    "\n",
    "def monitor_training_overfitting(history):\n",
    "    # Assume 'history' is the object returned by your call to model.fit(...)\n",
    "    \n",
    "    # Plot training and validation accuracy\n",
    "    plt.figure(figsize=(14, 5))\n",
    "    \n",
    "    plt.subplot(1, 2, 1)\n",
    "    plt.plot(history.history['game_outcome_mean_absolute_error'], label='Training MAE')\n",
    "    plt.plot(history.history['val_game_outcome_mean_absolute_error'], label='Validation MAE')\n",
    "    plt.xlabel('Epoch')\n",
    "    plt.ylabel('mean_absolute_error')\n",
    "    plt.title('Game outcome Training vs Validation MAE')\n",
    "    plt.legend()\n",
    "    \n",
    "    # Plot training and validation loss\n",
    "    plt.subplot(1, 2, 2)\n",
    "    plt.plot(history.history['loss'], label='Training Loss')\n",
    "    plt.plot(history.history['val_loss'], label='Validation Loss')\n",
    "    plt.xlabel('Epoch')\n",
    "    plt.ylabel('Loss')\n",
    "    plt.title('Training vs Validation Loss')\n",
    "    plt.legend()\n",
    "    \n",
    "    plt.tight_layout()\n",
    "    plt.show()\n"
   ]
  },
  {
   "cell_type": "markdown",
   "id": "6d5db8f0-b317-4050-9b6d-ce580a2a254c",
   "metadata": {},
   "source": [
    "## Building a model / model definition"
   ]
  },
  {
   "cell_type": "code",
   "execution_count": 20,
   "id": "0136ea00-52e8-4a49-babc-b6d51d5d2eaf",
   "metadata": {},
   "outputs": [
    {
     "data": {
      "text/plain": [
       "31"
      ]
     },
     "execution_count": 20,
     "metadata": {},
     "output_type": "execute_result"
    }
   ],
   "source": [
    "NUM_PLAYERS"
   ]
  },
  {
   "cell_type": "code",
   "execution_count": 44,
   "id": "a702f663-1001-4c3b-9df0-fefa0315aa33",
   "metadata": {},
   "outputs": [],
   "source": [
    "\n",
    "def build_model(num_players, player_emb_dim, max_team_size):\n",
    "\n",
    "    #TODO max_team_size is not used??\n",
    "    \n",
    "    # Inputs: variable-length teams\n",
    "    # teamA_input = Input(shape=(9,), dtype='int32', name='teamA')  # variable-length\n",
    "    # teamB_input = Input(shape=(9,), dtype='int32', name='teamB')  # variable-length\n",
    "    teamA_input = Input(batch_shape=(19, 9), dtype='int32', name='teamA')  # variable-length\n",
    "    teamB_input = Input(batch_shape=(19, 9), dtype='int32', name='teamB')  # variable-length\n",
    "    # teamB_input = Input(shape=(None,), dtype='int32', name='teamB')  # variable-length\n",
    "    \n",
    "    # Embedding layer with mask support\n",
    "    player_embedding = layers.Embedding(\n",
    "        input_dim=num_players + 1,  # includes 0 for mask\n",
    "        output_dim=player_emb_dim,\n",
    "        embeddings_initializer=initializers.GlorotUniform(seed=seed_value),\n",
    "        mask_zero=True,  # Important: enables automatic masking for padding (0 as pad token)\n",
    "        # embeddings_regularizer=tf.keras.regularizers.l2(1e-4),\n",
    "        name='player_embedding'\n",
    "    )\n",
    "    \n",
    "    # Embed team players\n",
    "    teamA_embeds = player_embedding(teamA_input)  # shape: (batch, teamA_len, emb_dim)\n",
    "    teamB_embeds = player_embedding(teamB_input)\n",
    "    \n",
    "    # Self-attention block (respects masks automatically if using Functional API)\n",
    "    def self_attention_block(x, name_prefix=''):\n",
    "        attn_output = layers.MultiHeadAttention(\n",
    "            num_heads=4,\n",
    "            key_dim=player_emb_dim,\n",
    "            dropout=0.1,\n",
    "            name=f'{name_prefix}_attn'\n",
    "        )(x, x)\n",
    "        x = layers.Add(name=f'{name_prefix}_residual')([x, attn_output])\n",
    "        x = layers.LayerNormalization(name=f'{name_prefix}_norm')(x)\n",
    "        return x\n",
    "    \n",
    "    # Apply attention\n",
    "    teamA_attn = self_attention_block(teamA_embeds, 'teamA')\n",
    "    teamB_attn = self_attention_block(teamB_embeds, 'teamB')\n",
    "    \n",
    "    # Global average pooling over valid (non-padded) tokens\n",
    "    # TF handles masking automatically in GlobalAveragePooling1D if mask_zero=True\n",
    "    teamA_vector = layers.GlobalAveragePooling1D(name='teamA_avgpool')(teamA_attn)\n",
    "    teamB_vector = layers.GlobalAveragePooling1D(name='teamB_avgpool')(teamB_attn)\n",
    "    \n",
    "    # Matchup modeling (difference vector)\n",
    "    matchup_vector = layers.Subtract(name='matchup_diff')([teamA_vector, teamB_vector])\n",
    "    \n",
    "    # Concatenate summary representation\n",
    "    match_input = layers.Concatenate(name='match_features')([teamA_vector, teamB_vector, matchup_vector])\n",
    "    \n",
    "    # Feedforward classification head\n",
    "    x = layers.Dense(64, activation='relu', kernel_regularizer=tf.keras.regularizers.l2(1e-4))(match_input)\n",
    "    x = layers.Dropout(0.3)(x)\n",
    "    x = layers.Dense(32, activation='relu', kernel_regularizer=tf.keras.regularizers.l2(1e-4))(x)\n",
    "    x = layers.Dropout(0.3)(x)\n",
    "    \n",
    "    outcome = layers.Dense(1, activation='linear', name='game_outcome')(x)\n",
    "    \n",
    "    # Output 2: Player goals (per player in both teams, flatten and predict goals per player)\n",
    "    all_team_players = layers.Concatenate(axis=1)([teamA_input, teamB_input])  # shape (batch, 2*max_team_size)\n",
    "    emb_all = player_embedding(all_team_players)  # shape (batch, 2*max_team_size, emb_dim)\n",
    "    goals_dense = layers.TimeDistributed(layers.Dense(1))(emb_all)\n",
    "    goals_out = layers.Flatten(name=\"player_goals\")(goals_dense)  # shape (batch, 2*max_team_size)\n",
    "    # goals_out = layers.Lambda(lambda x: tf.reshape(x, (tf.shape(x)[0], -1)), name=\"player_goals\")(goals_dense)\n",
    "\n",
    "    # Final model\n",
    "    model = Model(inputs=[teamA_input, teamB_input], outputs=[outcome, goals_out])\n",
    "    model.compile(optimizer='adam', \n",
    "                  # loss='mean_squared_error',   # or 'mean_absolute_error'\n",
    "                  #   metrics=['mean_absolute_error']\n",
    "                  loss={\"game_outcome\": \"mean_squared_error\", \"player_goals\": masked_mse(missing_value=-1.0)},\n",
    "                  loss_weights={\n",
    "                        \"game_outcome\": 1.0,     # full weight\n",
    "                        \"player_goals\": 0.0      # reduce influence of goals output loss by factor of 10\n",
    "                    },\n",
    "                   metrics={\"game_outcome\": \"mean_absolute_error\"}\n",
    "                 )\n",
    "\n",
    "    \n",
    "    # model.summary()\n",
    "    return model"
   ]
  },
  {
   "cell_type": "code",
   "execution_count": 45,
   "id": "bf676d80-8f75-49fc-a8f6-0401f4b3a0b1",
   "metadata": {},
   "outputs": [],
   "source": [
    "def competitions_goals_to_player_goals(competitions, num_games, max_team_size):\n",
    "    base = np.full((num_games, 2 * max_team_size), -1)\n",
    "    # print(base.shape)\n",
    "    def pad_team(players):\n",
    "        padded = players + [0]*(max_team_size - len(players))\n",
    "        return padded\n",
    "    \n",
    "    for comp_i, competition in enumerate(historical_cometitions):\n",
    "        # print(comp_i)\n",
    "        # print(competition)\n",
    "        # players should be in the same order as when we are building team's embeddings\n",
    "        all_players = pad_team(competition.team_a) + pad_team(competition.team_b)\n",
    "        for key, val in competition.scores_stats.items():\n",
    "            idx_for_player = all_players.index(key)\n",
    "            base[comp_i, idx_for_player] = val\n",
    "    return base\n",
    "    \n",
    "    "
   ]
  },
  {
   "cell_type": "code",
   "execution_count": 46,
   "id": "14e0d98f-93c1-4508-8231-73c3285fc6d4",
   "metadata": {},
   "outputs": [
    {
     "data": {
      "text/plain": [
       "array([[ 7,  5,  4, -1, 12, -1, -1, -1, -1,  2,  6,  4,  6, -1, -1, -1,\n",
       "        -1, -1],\n",
       "       [-1, -1, -1, -1, -1, -1, -1, -1, -1, -1, -1, -1, -1, -1, -1, -1,\n",
       "        -1, -1],\n",
       "       [ 2,  3,  4,  8,  3, -1, -1, -1, -1,  2,  1,  3,  2,  5,  4, -1,\n",
       "        -1, -1],\n",
       "       [-1, -1, -1, -1, -1, -1, -1, -1, -1, -1, -1, -1, -1, -1, -1, -1,\n",
       "        -1, -1],\n",
       "       [-1, -1, -1, -1, -1, -1, -1, -1, -1, -1, -1, -1, -1, -1, -1, -1,\n",
       "        -1, -1],\n",
       "       [ 1,  1,  2,  1,  6,  1, -1,  1, -1, -1,  1,  1,  1,  4, -1,  1,\n",
       "        -1, -1],\n",
       "       [ 1, -1,  2,  4,  6,  2, -1, -1, -1,  3,  4,  2, -1, -1,  4, -1,\n",
       "        -1, -1],\n",
       "       [ 4,  1,  2,  4,  1,  2, -1, -1, -1,  4, -1,  4,  4,  1, -1, -1,\n",
       "        -1, -1],\n",
       "       [-1, -1,  1,  1, -1, -1,  7, -1, -1,  3,  1,  1, -1,  3, -1,  3,\n",
       "        -1, -1],\n",
       "       [ 1,  2,  4,  4,  2, -1, -1, -1, -1,  4,  3,  6,  2,  1, -1, -1,\n",
       "        -1, -1],\n",
       "       [-1, -1, -1, -1, -1, -1, -1, -1, -1, -1, -1, -1, -1, -1, -1, -1,\n",
       "        -1, -1],\n",
       "       [-1, -1, -1, -1, -1, -1, -1, -1, -1, -1, -1, -1, -1, -1, -1, -1,\n",
       "        -1, -1],\n",
       "       [-1, -1, -1, -1, -1, -1, -1, -1, -1, -1, -1, -1, -1, -1, -1, -1,\n",
       "        -1, -1],\n",
       "       [-1, -1, -1, -1, -1, -1, -1, -1, -1, -1, -1, -1, -1, -1, -1, -1,\n",
       "        -1, -1],\n",
       "       [-1, -1, -1, -1, -1, -1, -1, -1, -1, -1, -1, -1, -1, -1, -1, -1,\n",
       "        -1, -1],\n",
       "       [-1, -1, -1, -1, -1, -1, -1, -1, -1, -1, -1, -1, -1, -1, -1, -1,\n",
       "        -1, -1],\n",
       "       [-1, -1, -1, -1, -1, -1, -1, -1, -1, -1, -1, -1, -1, -1, -1, -1,\n",
       "        -1, -1],\n",
       "       [-1, -1, -1, -1, -1, -1, -1, -1, -1, -1, -1, -1, -1, -1, -1, -1,\n",
       "        -1, -1],\n",
       "       [-1, -1, -1, -1, -1, -1, -1, -1, -1, -1, -1, -1, -1, -1, -1, -1,\n",
       "        -1, -1]])"
      ]
     },
     "execution_count": 46,
     "metadata": {},
     "output_type": "execute_result"
    }
   ],
   "source": [
    "player_goals = competitions_goals_to_player_goals(historical_cometitions, NUM_GAMES, MAX_TEAM_SIZE) #np.random.rand(NUM_GAMES, 2 * MAX_TEAM_SIZE)\n",
    "player_goals"
   ]
  },
  {
   "cell_type": "code",
   "execution_count": 47,
   "id": "b4a9f468-a989-43ae-ac4c-26fe99f48133",
   "metadata": {},
   "outputs": [
    {
     "data": {
      "text/plain": [
       "array([1., 0., 1., 0., 0., 1., 1., 1., 1., 1., 0., 0., 0., 0., 0., 0., 0.,\n",
       "       0., 0.])"
      ]
     },
     "execution_count": 47,
     "metadata": {},
     "output_type": "execute_result"
    }
   ],
   "source": [
    "has_goals = (~np.all(player_goals == -1, axis=1)).astype(float)\n",
    "has_goals"
   ]
  },
  {
   "cell_type": "code",
   "execution_count": 48,
   "id": "7eeeffa1-3f34-4e7c-92c5-afa248cc8361",
   "metadata": {},
   "outputs": [
    {
     "name": "stdout",
     "output_type": "stream",
     "text": [
      "Max goals in dataset: 12\n"
     ]
    }
   ],
   "source": [
    "max_goals = np.max(player_goals[player_goals != -1])  # exclude missing values marked as -1\n",
    "print(f\"Max goals in dataset: {max_goals}\")"
   ]
  },
  {
   "cell_type": "code",
   "execution_count": 49,
   "id": "57e1d432-9d7b-4770-bc67-ee14e85aac35",
   "metadata": {},
   "outputs": [],
   "source": [
    "# Create a copy to avoid modifying original data\n",
    "scaled_player_goals = np.copy(player_goals).astype(float) # otherwise values will be rounded to 0\n",
    "\n",
    "# Scale non-missing elements\n",
    "mask = (player_goals != -1)\n",
    "scaled_player_goals[mask] = player_goals[mask] / max_goals\n",
    "\n",
    "# Leave missing values as is (-1)"
   ]
  },
  {
   "cell_type": "code",
   "execution_count": 50,
   "id": "7919a245-d931-4489-9364-8e56602c2e4a",
   "metadata": {},
   "outputs": [
    {
     "data": {
      "text/plain": [
       "array([[ 0.58333333,  0.41666667,  0.33333333, -1.        ,  1.        ,\n",
       "        -1.        , -1.        , -1.        , -1.        ,  0.16666667,\n",
       "         0.5       ,  0.33333333,  0.5       , -1.        , -1.        ,\n",
       "        -1.        , -1.        , -1.        ],\n",
       "       [-1.        , -1.        , -1.        , -1.        , -1.        ,\n",
       "        -1.        , -1.        , -1.        , -1.        , -1.        ,\n",
       "        -1.        , -1.        , -1.        , -1.        , -1.        ,\n",
       "        -1.        , -1.        , -1.        ],\n",
       "       [ 0.16666667,  0.25      ,  0.33333333,  0.66666667,  0.25      ,\n",
       "        -1.        , -1.        , -1.        , -1.        ,  0.16666667,\n",
       "         0.08333333,  0.25      ,  0.16666667,  0.41666667,  0.33333333,\n",
       "        -1.        , -1.        , -1.        ],\n",
       "       [-1.        , -1.        , -1.        , -1.        , -1.        ,\n",
       "        -1.        , -1.        , -1.        , -1.        , -1.        ,\n",
       "        -1.        , -1.        , -1.        , -1.        , -1.        ,\n",
       "        -1.        , -1.        , -1.        ],\n",
       "       [-1.        , -1.        , -1.        , -1.        , -1.        ,\n",
       "        -1.        , -1.        , -1.        , -1.        , -1.        ,\n",
       "        -1.        , -1.        , -1.        , -1.        , -1.        ,\n",
       "        -1.        , -1.        , -1.        ],\n",
       "       [ 0.08333333,  0.08333333,  0.16666667,  0.08333333,  0.5       ,\n",
       "         0.08333333, -1.        ,  0.08333333, -1.        , -1.        ,\n",
       "         0.08333333,  0.08333333,  0.08333333,  0.33333333, -1.        ,\n",
       "         0.08333333, -1.        , -1.        ],\n",
       "       [ 0.08333333, -1.        ,  0.16666667,  0.33333333,  0.5       ,\n",
       "         0.16666667, -1.        , -1.        , -1.        ,  0.25      ,\n",
       "         0.33333333,  0.16666667, -1.        , -1.        ,  0.33333333,\n",
       "        -1.        , -1.        , -1.        ],\n",
       "       [ 0.33333333,  0.08333333,  0.16666667,  0.33333333,  0.08333333,\n",
       "         0.16666667, -1.        , -1.        , -1.        ,  0.33333333,\n",
       "        -1.        ,  0.33333333,  0.33333333,  0.08333333, -1.        ,\n",
       "        -1.        , -1.        , -1.        ],\n",
       "       [-1.        , -1.        ,  0.08333333,  0.08333333, -1.        ,\n",
       "        -1.        ,  0.58333333, -1.        , -1.        ,  0.25      ,\n",
       "         0.08333333,  0.08333333, -1.        ,  0.25      , -1.        ,\n",
       "         0.25      , -1.        , -1.        ],\n",
       "       [ 0.08333333,  0.16666667,  0.33333333,  0.33333333,  0.16666667,\n",
       "        -1.        , -1.        , -1.        , -1.        ,  0.33333333,\n",
       "         0.25      ,  0.5       ,  0.16666667,  0.08333333, -1.        ,\n",
       "        -1.        , -1.        , -1.        ],\n",
       "       [-1.        , -1.        , -1.        , -1.        , -1.        ,\n",
       "        -1.        , -1.        , -1.        , -1.        , -1.        ,\n",
       "        -1.        , -1.        , -1.        , -1.        , -1.        ,\n",
       "        -1.        , -1.        , -1.        ],\n",
       "       [-1.        , -1.        , -1.        , -1.        , -1.        ,\n",
       "        -1.        , -1.        , -1.        , -1.        , -1.        ,\n",
       "        -1.        , -1.        , -1.        , -1.        , -1.        ,\n",
       "        -1.        , -1.        , -1.        ],\n",
       "       [-1.        , -1.        , -1.        , -1.        , -1.        ,\n",
       "        -1.        , -1.        , -1.        , -1.        , -1.        ,\n",
       "        -1.        , -1.        , -1.        , -1.        , -1.        ,\n",
       "        -1.        , -1.        , -1.        ],\n",
       "       [-1.        , -1.        , -1.        , -1.        , -1.        ,\n",
       "        -1.        , -1.        , -1.        , -1.        , -1.        ,\n",
       "        -1.        , -1.        , -1.        , -1.        , -1.        ,\n",
       "        -1.        , -1.        , -1.        ],\n",
       "       [-1.        , -1.        , -1.        , -1.        , -1.        ,\n",
       "        -1.        , -1.        , -1.        , -1.        , -1.        ,\n",
       "        -1.        , -1.        , -1.        , -1.        , -1.        ,\n",
       "        -1.        , -1.        , -1.        ],\n",
       "       [-1.        , -1.        , -1.        , -1.        , -1.        ,\n",
       "        -1.        , -1.        , -1.        , -1.        , -1.        ,\n",
       "        -1.        , -1.        , -1.        , -1.        , -1.        ,\n",
       "        -1.        , -1.        , -1.        ],\n",
       "       [-1.        , -1.        , -1.        , -1.        , -1.        ,\n",
       "        -1.        , -1.        , -1.        , -1.        , -1.        ,\n",
       "        -1.        , -1.        , -1.        , -1.        , -1.        ,\n",
       "        -1.        , -1.        , -1.        ],\n",
       "       [-1.        , -1.        , -1.        , -1.        , -1.        ,\n",
       "        -1.        , -1.        , -1.        , -1.        , -1.        ,\n",
       "        -1.        , -1.        , -1.        , -1.        , -1.        ,\n",
       "        -1.        , -1.        , -1.        ],\n",
       "       [-1.        , -1.        , -1.        , -1.        , -1.        ,\n",
       "        -1.        , -1.        , -1.        , -1.        , -1.        ,\n",
       "        -1.        , -1.        , -1.        , -1.        , -1.        ,\n",
       "        -1.        , -1.        , -1.        ]])"
      ]
     },
     "execution_count": 50,
     "metadata": {},
     "output_type": "execute_result"
    }
   ],
   "source": [
    "scaled_player_goals"
   ]
  },
  {
   "cell_type": "markdown",
   "id": "94be70a2-d901-4f19-aee8-93c407d56715",
   "metadata": {},
   "source": [
    "## Run training over K folds"
   ]
  },
  {
   "cell_type": "code",
   "execution_count": 51,
   "id": "6c528321-5073-4d26-b395-bcfb51e49f6e",
   "metadata": {},
   "outputs": [
    {
     "name": "stdout",
     "output_type": "stream",
     "text": [
      "Embedding vector for player zero before training: [-0.13323195 -0.00096944  0.13194087 -0.29381505 -0.25805488  0.07750148\n",
      "  0.15615395 -0.20011973 -0.22736615 -0.27393228  0.27099267 -0.16506381\n",
      " -0.01375294 -0.15520269  0.13752416  0.16476852  0.02260321 -0.20287587\n",
      "  0.00171983 -0.1837469  -0.28457138 -0.11464813 -0.01568022  0.03661951\n",
      "  0.19812527  0.05595043 -0.11006211  0.16076088 -0.22917882  0.06002998\n",
      " -0.12077236  0.21608105]\n"
     ]
    },
    {
     "name": "stderr",
     "output_type": "stream",
     "text": [
      "2025-08-06 19:21:52.795158: E tensorflow/core/framework/node_def_util.cc:676] NodeDef mentions attribute use_unbounded_threadpool which is not in the op definition: Op<name=MapDataset; signature=input_dataset:variant, other_arguments: -> handle:variant; attr=f:func; attr=Targuments:list(type),min=0; attr=output_types:list(type),min=1; attr=output_shapes:list(shape),min=1; attr=use_inter_op_parallelism:bool,default=true; attr=preserve_cardinality:bool,default=false; attr=force_synchronous:bool,default=false; attr=metadata:string,default=\"\"> This may be expected if your graph generating binary is newer  than this binary. Unknown attributes will be ignored. NodeDef: {{node ParallelMapDatasetV2/_17}}\n",
      "2025-08-06 19:21:52.795490: E tensorflow/core/framework/node_def_util.cc:676] NodeDef mentions attribute use_unbounded_threadpool which is not in the op definition: Op<name=MapDataset; signature=input_dataset:variant, other_arguments: -> handle:variant; attr=f:func; attr=Targuments:list(type),min=0; attr=output_types:list(type),min=1; attr=output_shapes:list(shape),min=1; attr=use_inter_op_parallelism:bool,default=true; attr=preserve_cardinality:bool,default=false; attr=force_synchronous:bool,default=false; attr=metadata:string,default=\"\"> This may be expected if your graph generating binary is newer  than this binary. Unknown attributes will be ignored. NodeDef: {{node ParallelMapDatasetV2/_17}}\n"
     ]
    },
    {
     "data": {
      "image/png": "[encoded data removed]",
      "text/plain": [
       "<Figure size 1400x500 with 2 Axes>"
      ]
     },
     "metadata": {},
     "output_type": "display_data"
    },
    {
     "name": "stdout",
     "output_type": "stream",
     "text": [
      "Embedding vector for player zero after training: [-0.13323195 -0.00096944  0.13194087 -0.29381505 -0.25805488  0.07750148\n",
      "  0.15615395 -0.20011973 -0.22736615 -0.27393228  0.27099267 -0.16506381\n",
      " -0.01375294 -0.15520269  0.13752416  0.16476852  0.02260321 -0.20287587\n",
      "  0.00171983 -0.1837469  -0.28457138 -0.11464813 -0.01568022  0.03661951\n",
      "  0.19812527  0.05595043 -0.11006211  0.16076088 -0.22917882  0.06002998\n",
      " -0.12077236  0.21608105]\n",
      "Change in player zero embedding vector: 0.0\n",
      "\u001b[1m1/1\u001b[0m \u001b[32m━━━━━━━━━━━━━━━━━━━━\u001b[0m\u001b[37m\u001b[0m \u001b[1m0s\u001b[0m 16ms/step - game_outcome_loss: 32.3801 - game_outcome_mean_absolute_error: 4.4456 - loss: 32.3921 - player_goals_loss: 0.2567\n",
      "Fold val total_loss: 32.3921 | Fold val game_outcome_loss: 32.3801 | val player_goals_loss: 0.2567 | metric: 4.4456\n",
      "Embedding vector for player zero before training: [-0.13323195 -0.00096944  0.13194087 -0.29381505 -0.25805488  0.07750148\n",
      "  0.15615395 -0.20011973 -0.22736615 -0.27393228  0.27099267 -0.16506381\n",
      " -0.01375294 -0.15520269  0.13752416  0.16476852  0.02260321 -0.20287587\n",
      "  0.00171983 -0.1837469  -0.28457138 -0.11464813 -0.01568022  0.03661951\n",
      "  0.19812527  0.05595043 -0.11006211  0.16076088 -0.22917882  0.06002998\n",
      " -0.12077236  0.21608105]\n"
     ]
    },
    {
     "data": {
      "image/png": "[encoded data removed]",
      "text/plain": [
       "<Figure size 1400x500 with 2 Axes>"
      ]
     },
     "metadata": {},
     "output_type": "display_data"
    },
    {
     "name": "stdout",
     "output_type": "stream",
     "text": [
      "Embedding vector for player zero after training: [-0.13323195 -0.00096944  0.13194087 -0.29381505 -0.25805488  0.07750148\n",
      "  0.15615395 -0.20011973 -0.22736615 -0.27393228  0.27099267 -0.16506381\n",
      " -0.01375294 -0.15520269  0.13752416  0.16476852  0.02260321 -0.20287587\n",
      "  0.00171983 -0.1837469  -0.28457138 -0.11464813 -0.01568022  0.03661951\n",
      "  0.19812527  0.05595043 -0.11006211  0.16076088 -0.22917882  0.06002998\n",
      " -0.12077236  0.21608105]\n",
      "Change in player zero embedding vector: 0.0\n",
      "\u001b[1m1/1\u001b[0m \u001b[32m━━━━━━━━━━━━━━━━━━━━\u001b[0m\u001b[37m\u001b[0m \u001b[1m0s\u001b[0m 17ms/step - game_outcome_loss: 1.5232 - game_outcome_mean_absolute_error: 1.0321 - loss: 1.5355 - player_goals_loss: 0.0874\n",
      "Fold val total_loss: 1.5355 | Fold val game_outcome_loss: 1.5232 | val player_goals_loss: 0.0874 | metric: 1.0321\n",
      "Embedding vector for player zero before training: [-0.13323195 -0.00096944  0.13194087 -0.29381505 -0.25805488  0.07750148\n",
      "  0.15615395 -0.20011973 -0.22736615 -0.27393228  0.27099267 -0.16506381\n",
      " -0.01375294 -0.15520269  0.13752416  0.16476852  0.02260321 -0.20287587\n",
      "  0.00171983 -0.1837469  -0.28457138 -0.11464813 -0.01568022  0.03661951\n",
      "  0.19812527  0.05595043 -0.11006211  0.16076088 -0.22917882  0.06002998\n",
      " -0.12077236  0.21608105]\n"
     ]
    },
    {
     "name": "stderr",
     "output_type": "stream",
     "text": [
      "2025-08-06 19:21:59.419068: E tensorflow/core/framework/node_def_util.cc:676] NodeDef mentions attribute use_unbounded_threadpool which is not in the op definition: Op<name=MapDataset; signature=input_dataset:variant, other_arguments: -> handle:variant; attr=f:func; attr=Targuments:list(type),min=0; attr=output_types:list(type),min=1; attr=output_shapes:list(shape),min=1; attr=use_inter_op_parallelism:bool,default=true; attr=preserve_cardinality:bool,default=false; attr=force_synchronous:bool,default=false; attr=metadata:string,default=\"\"> This may be expected if your graph generating binary is newer  than this binary. Unknown attributes will be ignored. NodeDef: {{node ParallelMapDatasetV2/_17}}\n",
      "2025-08-06 19:21:59.419313: E tensorflow/core/framework/node_def_util.cc:676] NodeDef mentions attribute use_unbounded_threadpool which is not in the op definition: Op<name=MapDataset; signature=input_dataset:variant, other_arguments: -> handle:variant; attr=f:func; attr=Targuments:list(type),min=0; attr=output_types:list(type),min=1; attr=output_shapes:list(shape),min=1; attr=use_inter_op_parallelism:bool,default=true; attr=preserve_cardinality:bool,default=false; attr=force_synchronous:bool,default=false; attr=metadata:string,default=\"\"> This may be expected if your graph generating binary is newer  than this binary. Unknown attributes will be ignored. NodeDef: {{node ParallelMapDatasetV2/_17}}\n"
     ]
    },
    {
     "data": {
      "image/png": "[encoded data removed]",
      "text/plain": [
       "<Figure size 1400x500 with 2 Axes>"
      ]
     },
     "metadata": {},
     "output_type": "display_data"
    },
    {
     "name": "stdout",
     "output_type": "stream",
     "text": [
      "Embedding vector for player zero after training: [-0.13323195 -0.00096944  0.13194087 -0.29381505 -0.25805488  0.07750148\n",
      "  0.15615395 -0.20011973 -0.22736615 -0.27393228  0.27099267 -0.16506381\n",
      " -0.01375294 -0.15520269  0.13752416  0.16476852  0.02260321 -0.20287587\n",
      "  0.00171983 -0.1837469  -0.28457138 -0.11464813 -0.01568022  0.03661951\n",
      "  0.19812527  0.05595043 -0.11006211  0.16076088 -0.22917882  0.06002998\n",
      " -0.12077236  0.21608105]\n",
      "Change in player zero embedding vector: 0.0\n",
      "\u001b[1m1/1\u001b[0m \u001b[32m━━━━━━━━━━━━━━━━━━━━\u001b[0m\u001b[37m\u001b[0m \u001b[1m0s\u001b[0m 17ms/step - game_outcome_loss: 3.0835 - game_outcome_mean_absolute_error: 1.2635 - loss: 3.0954 - player_goals_loss: 0.0982\n",
      "Fold val total_loss: 3.0954 | Fold val game_outcome_loss: 3.0835 | val player_goals_loss: 0.0982 | metric: 1.2635\n",
      "Embedding vector for player zero before training: [-0.13323195 -0.00096944  0.13194087 -0.29381505 -0.25805488  0.07750148\n",
      "  0.15615395 -0.20011973 -0.22736615 -0.27393228  0.27099267 -0.16506381\n",
      " -0.01375294 -0.15520269  0.13752416  0.16476852  0.02260321 -0.20287587\n",
      "  0.00171983 -0.1837469  -0.28457138 -0.11464813 -0.01568022  0.03661951\n",
      "  0.19812527  0.05595043 -0.11006211  0.16076088 -0.22917882  0.06002998\n",
      " -0.12077236  0.21608105]\n"
     ]
    },
    {
     "data": {
      "image/png": "[encoded data removed]",
      "text/plain": [
       "<Figure size 1400x500 with 2 Axes>"
      ]
     },
     "metadata": {},
     "output_type": "display_data"
    },
    {
     "name": "stdout",
     "output_type": "stream",
     "text": [
      "Embedding vector for player zero after training: [-0.13323195 -0.00096944  0.13194087 -0.29381505 -0.25805488  0.07750148\n",
      "  0.15615395 -0.20011973 -0.22736615 -0.27393228  0.27099267 -0.16506381\n",
      " -0.01375294 -0.15520269  0.13752416  0.16476852  0.02260321 -0.20287587\n",
      "  0.00171983 -0.1837469  -0.28457138 -0.11464813 -0.01568022  0.03661951\n",
      "  0.19812527  0.05595043 -0.11006211  0.16076088 -0.22917882  0.06002998\n",
      " -0.12077236  0.21608105]\n",
      "Change in player zero embedding vector: 0.0\n",
      "\u001b[1m1/1\u001b[0m \u001b[32m━━━━━━━━━━━━━━━━━━━━\u001b[0m\u001b[37m\u001b[0m \u001b[1m0s\u001b[0m 17ms/step - game_outcome_loss: 2.1268 - game_outcome_mean_absolute_error: 1.1748 - loss: 2.1386 - player_goals_loss: 0.1706\n",
      "Fold val total_loss: 2.1386 | Fold val game_outcome_loss: 2.1268 | val player_goals_loss: 0.1706 | metric: 1.1748\n",
      "Embedding vector for player zero before training: [-0.13323195 -0.00096944  0.13194087 -0.29381505 -0.25805488  0.07750148\n",
      "  0.15615395 -0.20011973 -0.22736615 -0.27393228  0.27099267 -0.16506381\n",
      " -0.01375294 -0.15520269  0.13752416  0.16476852  0.02260321 -0.20287587\n",
      "  0.00171983 -0.1837469  -0.28457138 -0.11464813 -0.01568022  0.03661951\n",
      "  0.19812527  0.05595043 -0.11006211  0.16076088 -0.22917882  0.06002998\n",
      " -0.12077236  0.21608105]\n"
     ]
    },
    {
     "name": "stderr",
     "output_type": "stream",
     "text": [
      "2025-08-06 19:22:05.335606: E tensorflow/core/framework/node_def_util.cc:676] NodeDef mentions attribute use_unbounded_threadpool which is not in the op definition: Op<name=MapDataset; signature=input_dataset:variant, other_arguments: -> handle:variant; attr=f:func; attr=Targuments:list(type),min=0; attr=output_types:list(type),min=1; attr=output_shapes:list(shape),min=1; attr=use_inter_op_parallelism:bool,default=true; attr=preserve_cardinality:bool,default=false; attr=force_synchronous:bool,default=false; attr=metadata:string,default=\"\"> This may be expected if your graph generating binary is newer  than this binary. Unknown attributes will be ignored. NodeDef: {{node ParallelMapDatasetV2/_17}}\n",
      "2025-08-06 19:22:05.335863: E tensorflow/core/framework/node_def_util.cc:676] NodeDef mentions attribute use_unbounded_threadpool which is not in the op definition: Op<name=MapDataset; signature=input_dataset:variant, other_arguments: -> handle:variant; attr=f:func; attr=Targuments:list(type),min=0; attr=output_types:list(type),min=1; attr=output_shapes:list(shape),min=1; attr=use_inter_op_parallelism:bool,default=true; attr=preserve_cardinality:bool,default=false; attr=force_synchronous:bool,default=false; attr=metadata:string,default=\"\"> This may be expected if your graph generating binary is newer  than this binary. Unknown attributes will be ignored. NodeDef: {{node ParallelMapDatasetV2/_17}}\n"
     ]
    },
    {
     "data": {
      "image/png": "[encoded data removed]",
      "text/plain": [
       "<Figure size 1400x500 with 2 Axes>"
      ]
     },
     "metadata": {},
     "output_type": "display_data"
    },
    {
     "name": "stdout",
     "output_type": "stream",
     "text": [
      "Embedding vector for player zero after training: [-0.13323195 -0.00096944  0.13194087 -0.29381505 -0.25805488  0.07750148\n",
      "  0.15615395 -0.20011973 -0.22736615 -0.27393228  0.27099267 -0.16506381\n",
      " -0.01375294 -0.15520269  0.13752416  0.16476852  0.02260321 -0.20287587\n",
      "  0.00171983 -0.1837469  -0.28457138 -0.11464813 -0.01568022  0.03661951\n",
      "  0.19812527  0.05595043 -0.11006211  0.16076088 -0.22917882  0.06002998\n",
      " -0.12077236  0.21608105]\n",
      "Change in player zero embedding vector: 0.0\n",
      "\u001b[1m1/1\u001b[0m \u001b[32m━━━━━━━━━━━━━━━━━━━━\u001b[0m\u001b[37m\u001b[0m \u001b[1m0s\u001b[0m 17ms/step - game_outcome_loss: 6.2391 - game_outcome_mean_absolute_error: 2.2828 - loss: 6.2508 - player_goals_loss: 0.3056\n",
      "Fold val total_loss: 6.2508 | Fold val game_outcome_loss: 6.2391 | val player_goals_loss: 0.3056 | metric: 2.2828\n",
      "Mean cross-validated accuracy: 9.0825\n"
     ]
    }
   ],
   "source": [
    "import numpy as np\n",
    "from sklearn.model_selection import train_test_split\n",
    "from sklearn.model_selection import KFold\n",
    "\n",
    "\n",
    "X = [teamA_data, teamB_data]\n",
    "y = [outcomes, scaled_player_goals]\n",
    "\n",
    "\n",
    "# 3. Optional: callbacks for monitoring\n",
    "from tensorflow.keras.callbacks import EarlyStopping\n",
    "\n",
    "early_stop = EarlyStopping(monitor='val_loss', patience=5, restore_best_weights=True)\n",
    "\n",
    "# Define a learning rate schedule function (step decay example)\n",
    "def lr_schedule(epoch, lr):\n",
    "    drop_rate = 0.5\n",
    "    epochs_drop = 10\n",
    "    if epoch > 0 and epoch % epochs_drop == 0:\n",
    "        return lr * drop_rate\n",
    "    return lr\n",
    "\n",
    "#Instantiate callback\n",
    "lr_scheduler = tf.keras.callbacks.LearningRateScheduler(lr_schedule)\n",
    "\n",
    "# Or adaptive reduction on plateau (reduce LR when val_loss stalls)\n",
    "reduce_lr = tf.keras.callbacks.ReduceLROnPlateau(monitor='val_loss', factor=0.5,\n",
    "                                                 patience=5, min_lr=1e-6)\n",
    "\n",
    "NUM_PLAYERS = len(team_members_with_ids)\n",
    "PLAYER_EMB_DIM = 32\n",
    "\n",
    "# K-fold CV setup\n",
    "k = 5\n",
    "kf = KFold(n_splits=k, shuffle=True, random_state=42)\n",
    "\n",
    "cv_scores = []\n",
    "for train_ix, val_ix in kf.split(teamA_data):\n",
    "    model = build_model(NUM_PLAYERS, PLAYER_EMB_DIM, MAX_TEAM_SIZE)\n",
    "    X_train = [teamA_data[train_ix], teamB_data[train_ix]]\n",
    "    X_val   = [teamA_data[val_ix], teamB_data[val_ix]]\n",
    "    y_train = [outcomes[train_ix], scaled_player_goals[train_ix]]\n",
    "    y_val   = [outcomes[val_ix], scaled_player_goals[val_ix]]\n",
    "\n",
    "    \n",
    "    # Only fo debuggind purposes\n",
    "    player_embedding_layer = model.get_layer(\"player_embedding\")\n",
    "    embeddings_before_fold = player_embedding_layer.get_weights()[0].copy()\n",
    "    print(\"Embedding vector for player zero before training:\", embeddings_before_fold[0])\n",
    "\n",
    "    history = model.fit(\n",
    "        X_train, y_train,\n",
    "        validation_data=(X_val, y_val),\n",
    "        epochs=100, batch_size=32, verbose=0,\n",
    "        callbacks=[lr_scheduler, reduce_lr, early_stop],\n",
    "        # sample_weight={  # sample_weight can be a dict by output name\n",
    "        #     \"player_goals\": has_goals,\n",
    "        #     \"game_outcome\": np.ones(len(outcomes))  # no masking for outcome\n",
    "        # },\n",
    "    )\n",
    "    # Only fo debuggind purposes\n",
    "    monitor_training_overfitting(history)\n",
    "\n",
    "    # Only fo debuggind purposes\n",
    "    pe_layer = model.get_layer(\"player_embedding\")\n",
    "    embeddings_after_fold = pe_layer.get_weights()[0]\n",
    "    print(\"Embedding vector for player zero after training:\", embeddings_after_fold[0])\n",
    "\n",
    "    # Only fo debuggind purposes\n",
    "    change = np.linalg.norm(embeddings_after_fold[0] - embeddings_before_fold[0])\n",
    "    print(\"Change in player zero embedding vector:\", change)\n",
    "\n",
    "        \n",
    "    score = model.evaluate(X_val, y_val, verbose=1)\n",
    "    print(f\"Fold val total_loss: {score[0]:.4f} | Fold val game_outcome_loss: {score[1]:.4f} | val player_goals_loss: {score[2]:.4f} | metric: {score[3]:.4f}\")\n",
    "    cv_scores.append(score[0])  # game_outcome accuracy (check metric order in model.evaluate)\n",
    "print(f\"Mean cross-validated accuracy: {np.mean(cv_scores):.4f}\")\n"
   ]
  },
  {
   "cell_type": "code",
   "execution_count": 52,
   "id": "27056466-b7bf-4d1c-ac0d-323bad7f1f73",
   "metadata": {
    "scrolled": true
   },
   "outputs": [
    {
     "name": "stdout",
     "output_type": "stream",
     "text": [
      "Epoch 1/100\n",
      "\u001b[1m1/1\u001b[0m \u001b[32m━━━━━━━━━━━━━━━━━━━━\u001b[0m\u001b[37m\u001b[0m \u001b[1m2s\u001b[0m 2s/step - game_outcome_loss: 10.5090 - game_outcome_mean_absolute_error: 2.3136 - loss: 10.5209 - player_goals_loss: 0.1245\n",
      "Epoch 2/100\n",
      "\u001b[1m1/1\u001b[0m \u001b[32m━━━━━━━━━━━━━━━━━━━━\u001b[0m\u001b[37m\u001b[0m \u001b[1m0s\u001b[0m 16ms/step - game_outcome_loss: 9.6608 - game_outcome_mean_absolute_error: 2.0413 - loss: 9.6727 - player_goals_loss: 0.1244\n",
      "Epoch 3/100\n",
      "\u001b[1m1/1\u001b[0m \u001b[32m━━━━━━━━━━━━━━━━━━━━\u001b[0m\u001b[37m\u001b[0m \u001b[1m0s\u001b[0m 17ms/step - game_outcome_loss: 10.8853 - game_outcome_mean_absolute_error: 2.1844 - loss: 10.8972 - player_goals_loss: 0.1242\n",
      "Epoch 4/100\n",
      "\u001b[1m1/1\u001b[0m \u001b[32m━━━━━━━━━━━━━━━━━━━━\u001b[0m\u001b[37m\u001b[0m \u001b[1m0s\u001b[0m 16ms/step - game_outcome_loss: 9.3289 - game_outcome_mean_absolute_error: 2.1670 - loss: 9.3407 - player_goals_loss: 0.1240\n",
      "Epoch 5/100\n",
      "\u001b[1m1/1\u001b[0m \u001b[32m━━━━━━━━━━━━━━━━━━━━\u001b[0m\u001b[37m\u001b[0m \u001b[1m0s\u001b[0m 17ms/step - game_outcome_loss: 8.5281 - game_outcome_mean_absolute_error: 2.0659 - loss: 8.5400 - player_goals_loss: 0.1238\n",
      "Epoch 6/100\n",
      "\u001b[1m1/1\u001b[0m \u001b[32m━━━━━━━━━━━━━━━━━━━━\u001b[0m\u001b[37m\u001b[0m \u001b[1m0s\u001b[0m 16ms/step - game_outcome_loss: 8.5950 - game_outcome_mean_absolute_error: 2.0883 - loss: 8.6069 - player_goals_loss: 0.1235\n",
      "Epoch 7/100\n",
      "\u001b[1m1/1\u001b[0m \u001b[32m━━━━━━━━━━━━━━━━━━━━\u001b[0m\u001b[37m\u001b[0m \u001b[1m0s\u001b[0m 17ms/step - game_outcome_loss: 7.9221 - game_outcome_mean_absolute_error: 2.0386 - loss: 7.9340 - player_goals_loss: 0.1232\n",
      "Epoch 8/100\n",
      "\u001b[1m1/1\u001b[0m \u001b[32m━━━━━━━━━━━━━━━━━━━━\u001b[0m\u001b[37m\u001b[0m \u001b[1m0s\u001b[0m 17ms/step - game_outcome_loss: 6.7618 - game_outcome_mean_absolute_error: 1.8576 - loss: 6.7737 - player_goals_loss: 0.1229\n",
      "Epoch 9/100\n",
      "\u001b[1m1/1\u001b[0m \u001b[32m━━━━━━━━━━━━━━━━━━━━\u001b[0m\u001b[37m\u001b[0m \u001b[1m0s\u001b[0m 15ms/step - game_outcome_loss: 9.3096 - game_outcome_mean_absolute_error: 2.0355 - loss: 9.3214 - player_goals_loss: 0.1227\n",
      "Epoch 10/100\n",
      "\u001b[1m1/1\u001b[0m \u001b[32m━━━━━━━━━━━━━━━━━━━━\u001b[0m\u001b[37m\u001b[0m \u001b[1m0s\u001b[0m 16ms/step - game_outcome_loss: 6.2536 - game_outcome_mean_absolute_error: 1.7898 - loss: 6.2655 - player_goals_loss: 0.1225\n",
      "Epoch 11/100\n",
      "\u001b[1m1/1\u001b[0m \u001b[32m━━━━━━━━━━━━━━━━━━━━\u001b[0m\u001b[37m\u001b[0m \u001b[1m0s\u001b[0m 15ms/step - game_outcome_loss: 8.3805 - game_outcome_mean_absolute_error: 1.8479 - loss: 8.3923 - player_goals_loss: 0.1222\n",
      "Epoch 12/100\n",
      "\u001b[1m1/1\u001b[0m \u001b[32m━━━━━━━━━━━━━━━━━━━━\u001b[0m\u001b[37m\u001b[0m \u001b[1m0s\u001b[0m 15ms/step - game_outcome_loss: 6.1059 - game_outcome_mean_absolute_error: 1.7749 - loss: 6.1178 - player_goals_loss: 0.1220\n",
      "Epoch 13/100\n",
      "\u001b[1m1/1\u001b[0m \u001b[32m━━━━━━━━━━━━━━━━━━━━\u001b[0m\u001b[37m\u001b[0m \u001b[1m0s\u001b[0m 16ms/step - game_outcome_loss: 6.3772 - game_outcome_mean_absolute_error: 1.7652 - loss: 6.3891 - player_goals_loss: 0.1218\n",
      "Epoch 14/100\n",
      "\u001b[1m1/1\u001b[0m \u001b[32m━━━━━━━━━━━━━━━━━━━━\u001b[0m\u001b[37m\u001b[0m \u001b[1m0s\u001b[0m 15ms/step - game_outcome_loss: 7.7785 - game_outcome_mean_absolute_error: 1.9950 - loss: 7.7904 - player_goals_loss: 0.1216\n",
      "Epoch 15/100\n",
      "\u001b[1m1/1\u001b[0m \u001b[32m━━━━━━━━━━━━━━━━━━━━\u001b[0m\u001b[37m\u001b[0m \u001b[1m0s\u001b[0m 15ms/step - game_outcome_loss: 8.9353 - game_outcome_mean_absolute_error: 1.8698 - loss: 8.9472 - player_goals_loss: 0.1214\n",
      "Epoch 16/100\n",
      "\u001b[1m1/1\u001b[0m \u001b[32m━━━━━━━━━━━━━━━━━━━━\u001b[0m\u001b[37m\u001b[0m \u001b[1m0s\u001b[0m 15ms/step - game_outcome_loss: 4.9534 - game_outcome_mean_absolute_error: 1.6112 - loss: 4.9653 - player_goals_loss: 0.1212\n",
      "Epoch 17/100\n",
      "\u001b[1m1/1\u001b[0m \u001b[32m━━━━━━━━━━━━━━━━━━━━\u001b[0m\u001b[37m\u001b[0m \u001b[1m0s\u001b[0m 15ms/step - game_outcome_loss: 6.3175 - game_outcome_mean_absolute_error: 1.8008 - loss: 6.3294 - player_goals_loss: 0.1211\n",
      "Epoch 18/100\n",
      "\u001b[1m1/1\u001b[0m \u001b[32m━━━━━━━━━━━━━━━━━━━━\u001b[0m\u001b[37m\u001b[0m \u001b[1m0s\u001b[0m 15ms/step - game_outcome_loss: 5.4793 - game_outcome_mean_absolute_error: 1.6325 - loss: 5.4912 - player_goals_loss: 0.1209\n",
      "Epoch 19/100\n",
      "\u001b[1m1/1\u001b[0m \u001b[32m━━━━━━━━━━━━━━━━━━━━\u001b[0m\u001b[37m\u001b[0m \u001b[1m0s\u001b[0m 23ms/step - game_outcome_loss: 4.2919 - game_outcome_mean_absolute_error: 1.5957 - loss: 4.3038 - player_goals_loss: 0.1208\n",
      "Epoch 20/100\n",
      "\u001b[1m1/1\u001b[0m \u001b[32m━━━━━━━━━━━━━━━━━━━━\u001b[0m\u001b[37m\u001b[0m \u001b[1m0s\u001b[0m 18ms/step - game_outcome_loss: 6.5787 - game_outcome_mean_absolute_error: 1.8408 - loss: 6.5906 - player_goals_loss: 0.1207\n",
      "Epoch 21/100\n",
      "\u001b[1m1/1\u001b[0m \u001b[32m━━━━━━━━━━━━━━━━━━━━\u001b[0m\u001b[37m\u001b[0m \u001b[1m0s\u001b[0m 16ms/step - game_outcome_loss: 4.6070 - game_outcome_mean_absolute_error: 1.5181 - loss: 4.6189 - player_goals_loss: 0.1205\n",
      "Epoch 22/100\n",
      "\u001b[1m1/1\u001b[0m \u001b[32m━━━━━━━━━━━━━━━━━━━━\u001b[0m\u001b[37m\u001b[0m \u001b[1m0s\u001b[0m 80ms/step - game_outcome_loss: 3.3384 - game_outcome_mean_absolute_error: 1.4557 - loss: 3.3504 - player_goals_loss: 0.1204\n",
      "Epoch 23/100\n",
      "\u001b[1m1/1\u001b[0m \u001b[32m━━━━━━━━━━━━━━━━━━━━\u001b[0m\u001b[37m\u001b[0m \u001b[1m0s\u001b[0m 18ms/step - game_outcome_loss: 4.0082 - game_outcome_mean_absolute_error: 1.4395 - loss: 4.0202 - player_goals_loss: 0.1203\n",
      "Epoch 24/100\n",
      "\u001b[1m1/1\u001b[0m \u001b[32m━━━━━━━━━━━━━━━━━━━━\u001b[0m\u001b[37m\u001b[0m \u001b[1m0s\u001b[0m 18ms/step - game_outcome_loss: 5.7981 - game_outcome_mean_absolute_error: 1.6007 - loss: 5.8100 - player_goals_loss: 0.1202\n",
      "Epoch 25/100\n",
      "\u001b[1m1/1\u001b[0m \u001b[32m━━━━━━━━━━━━━━━━━━━━\u001b[0m\u001b[37m\u001b[0m \u001b[1m0s\u001b[0m 17ms/step - game_outcome_loss: 5.2928 - game_outcome_mean_absolute_error: 1.4790 - loss: 5.3047 - player_goals_loss: 0.1201\n",
      "Epoch 26/100\n",
      "\u001b[1m1/1\u001b[0m \u001b[32m━━━━━━━━━━━━━━━━━━━━\u001b[0m\u001b[37m\u001b[0m \u001b[1m0s\u001b[0m 16ms/step - game_outcome_loss: 4.3990 - game_outcome_mean_absolute_error: 1.4973 - loss: 4.4109 - player_goals_loss: 0.1200\n",
      "Epoch 27/100\n",
      "\u001b[1m1/1\u001b[0m \u001b[32m━━━━━━━━━━━━━━━━━━━━\u001b[0m\u001b[37m\u001b[0m \u001b[1m0s\u001b[0m 17ms/step - game_outcome_loss: 3.7553 - game_outcome_mean_absolute_error: 1.4558 - loss: 3.7673 - player_goals_loss: 0.1199\n",
      "Epoch 28/100\n",
      "\u001b[1m1/1\u001b[0m \u001b[32m━━━━━━━━━━━━━━━━━━━━\u001b[0m\u001b[37m\u001b[0m \u001b[1m0s\u001b[0m 17ms/step - game_outcome_loss: 2.5209 - game_outcome_mean_absolute_error: 1.1573 - loss: 2.5329 - player_goals_loss: 0.1199\n",
      "Epoch 29/100\n",
      "\u001b[1m1/1\u001b[0m \u001b[32m━━━━━━━━━━━━━━━━━━━━\u001b[0m\u001b[37m\u001b[0m \u001b[1m0s\u001b[0m 18ms/step - game_outcome_loss: 2.4044 - game_outcome_mean_absolute_error: 1.2157 - loss: 2.4164 - player_goals_loss: 0.1198\n",
      "Epoch 30/100\n",
      "\u001b[1m1/1\u001b[0m \u001b[32m━━━━━━━━━━━━━━━━━━━━\u001b[0m\u001b[37m\u001b[0m \u001b[1m0s\u001b[0m 17ms/step - game_outcome_loss: 2.5183 - game_outcome_mean_absolute_error: 1.1227 - loss: 2.5304 - player_goals_loss: 0.1198\n",
      "Epoch 31/100\n",
      "\u001b[1m1/1\u001b[0m \u001b[32m━━━━━━━━━━━━━━━━━━━━\u001b[0m\u001b[37m\u001b[0m \u001b[1m0s\u001b[0m 17ms/step - game_outcome_loss: 4.5791 - game_outcome_mean_absolute_error: 1.5389 - loss: 4.5911 - player_goals_loss: 0.1198\n",
      "Epoch 32/100\n",
      "\u001b[1m1/1\u001b[0m \u001b[32m━━━━━━━━━━━━━━━━━━━━\u001b[0m\u001b[37m\u001b[0m \u001b[1m0s\u001b[0m 17ms/step - game_outcome_loss: 1.8750 - game_outcome_mean_absolute_error: 1.1180 - loss: 1.8870 - player_goals_loss: 0.1198\n",
      "Epoch 33/100\n",
      "\u001b[1m1/1\u001b[0m \u001b[32m━━━━━━━━━━━━━━━━━━━━\u001b[0m\u001b[37m\u001b[0m \u001b[1m0s\u001b[0m 19ms/step - game_outcome_loss: 4.0208 - game_outcome_mean_absolute_error: 1.3985 - loss: 4.0329 - player_goals_loss: 0.1198\n",
      "Epoch 34/100\n",
      "\u001b[1m1/1\u001b[0m \u001b[32m━━━━━━━━━━━━━━━━━━━━\u001b[0m\u001b[37m\u001b[0m \u001b[1m0s\u001b[0m 18ms/step - game_outcome_loss: 1.8696 - game_outcome_mean_absolute_error: 1.0665 - loss: 1.8817 - player_goals_loss: 0.1198\n",
      "Epoch 35/100\n",
      "\u001b[1m1/1\u001b[0m \u001b[32m━━━━━━━━━━━━━━━━━━━━\u001b[0m\u001b[37m\u001b[0m \u001b[1m0s\u001b[0m 17ms/step - game_outcome_loss: 3.4110 - game_outcome_mean_absolute_error: 1.3949 - loss: 3.4231 - player_goals_loss: 0.1198\n",
      "Epoch 36/100\n",
      "\u001b[1m1/1\u001b[0m \u001b[32m━━━━━━━━━━━━━━━━━━━━\u001b[0m\u001b[37m\u001b[0m \u001b[1m0s\u001b[0m 17ms/step - game_outcome_loss: 2.3872 - game_outcome_mean_absolute_error: 1.2666 - loss: 2.3993 - player_goals_loss: 0.1198\n",
      "Epoch 37/100\n",
      "\u001b[1m1/1\u001b[0m \u001b[32m━━━━━━━━━━━━━━━━━━━━\u001b[0m\u001b[37m\u001b[0m \u001b[1m0s\u001b[0m 17ms/step - game_outcome_loss: 2.6879 - game_outcome_mean_absolute_error: 1.0538 - loss: 2.7000 - player_goals_loss: 0.1198\n",
      "Epoch 38/100\n",
      "\u001b[1m1/1\u001b[0m \u001b[32m━━━━━━━━━━━━━━━━━━━━\u001b[0m\u001b[37m\u001b[0m \u001b[1m0s\u001b[0m 18ms/step - game_outcome_loss: 3.5613 - game_outcome_mean_absolute_error: 1.1944 - loss: 3.5734 - player_goals_loss: 0.1198\n",
      "Epoch 39/100\n",
      "\u001b[1m1/1\u001b[0m \u001b[32m━━━━━━━━━━━━━━━━━━━━\u001b[0m\u001b[37m\u001b[0m \u001b[1m0s\u001b[0m 16ms/step - game_outcome_loss: 2.2926 - game_outcome_mean_absolute_error: 1.0921 - loss: 2.3047 - player_goals_loss: 0.1197\n",
      "Epoch 40/100\n",
      "\u001b[1m1/1\u001b[0m \u001b[32m━━━━━━━━━━━━━━━━━━━━\u001b[0m\u001b[37m\u001b[0m \u001b[1m0s\u001b[0m 18ms/step - game_outcome_loss: 1.4762 - game_outcome_mean_absolute_error: 0.9489 - loss: 1.4883 - player_goals_loss: 0.1197\n",
      "Epoch 41/100\n",
      "\u001b[1m1/1\u001b[0m \u001b[32m━━━━━━━━━━━━━━━━━━━━\u001b[0m\u001b[37m\u001b[0m \u001b[1m0s\u001b[0m 18ms/step - game_outcome_loss: 2.1492 - game_outcome_mean_absolute_error: 1.1042 - loss: 2.1613 - player_goals_loss: 0.1196\n",
      "Epoch 42/100\n",
      "\u001b[1m1/1\u001b[0m \u001b[32m━━━━━━━━━━━━━━━━━━━━\u001b[0m\u001b[37m\u001b[0m \u001b[1m0s\u001b[0m 18ms/step - game_outcome_loss: 2.1469 - game_outcome_mean_absolute_error: 1.0881 - loss: 2.1590 - player_goals_loss: 0.1196\n",
      "Epoch 43/100\n",
      "\u001b[1m1/1\u001b[0m \u001b[32m━━━━━━━━━━━━━━━━━━━━\u001b[0m\u001b[37m\u001b[0m \u001b[1m0s\u001b[0m 17ms/step - game_outcome_loss: 2.1342 - game_outcome_mean_absolute_error: 1.0724 - loss: 2.1464 - player_goals_loss: 0.1196\n",
      "Epoch 44/100\n",
      "\u001b[1m1/1\u001b[0m \u001b[32m━━━━━━━━━━━━━━━━━━━━\u001b[0m\u001b[37m\u001b[0m \u001b[1m0s\u001b[0m 16ms/step - game_outcome_loss: 2.6254 - game_outcome_mean_absolute_error: 1.2179 - loss: 2.6375 - player_goals_loss: 0.1196\n",
      "Epoch 45/100\n",
      "\u001b[1m1/1\u001b[0m \u001b[32m━━━━━━━━━━━━━━━━━━━━\u001b[0m\u001b[37m\u001b[0m \u001b[1m0s\u001b[0m 17ms/step - game_outcome_loss: 1.3440 - game_outcome_mean_absolute_error: 0.8762 - loss: 1.3561 - player_goals_loss: 0.1195\n",
      "Epoch 46/100\n",
      "\u001b[1m1/1\u001b[0m \u001b[32m━━━━━━━━━━━━━━━━━━━━\u001b[0m\u001b[37m\u001b[0m \u001b[1m0s\u001b[0m 16ms/step - game_outcome_loss: 1.4027 - game_outcome_mean_absolute_error: 0.9587 - loss: 1.4148 - player_goals_loss: 0.1194\n",
      "Epoch 47/100\n",
      "\u001b[1m1/1\u001b[0m \u001b[32m━━━━━━━━━━━━━━━━━━━━\u001b[0m\u001b[37m\u001b[0m \u001b[1m0s\u001b[0m 18ms/step - game_outcome_loss: 3.1640 - game_outcome_mean_absolute_error: 1.3676 - loss: 3.1761 - player_goals_loss: 0.1194\n",
      "Epoch 48/100\n",
      "\u001b[1m1/1\u001b[0m \u001b[32m━━━━━━━━━━━━━━━━━━━━\u001b[0m\u001b[37m\u001b[0m \u001b[1m0s\u001b[0m 18ms/step - game_outcome_loss: 2.3021 - game_outcome_mean_absolute_error: 1.2404 - loss: 2.3143 - player_goals_loss: 0.1193\n",
      "Epoch 49/100\n",
      "\u001b[1m1/1\u001b[0m \u001b[32m━━━━━━━━━━━━━━━━━━━━\u001b[0m\u001b[37m\u001b[0m \u001b[1m0s\u001b[0m 17ms/step - game_outcome_loss: 2.4682 - game_outcome_mean_absolute_error: 1.1218 - loss: 2.4804 - player_goals_loss: 0.1193\n",
      "Epoch 50/100\n",
      "\u001b[1m1/1\u001b[0m \u001b[32m━━━━━━━━━━━━━━━━━━━━\u001b[0m\u001b[37m\u001b[0m \u001b[1m0s\u001b[0m 17ms/step - game_outcome_loss: 1.3709 - game_outcome_mean_absolute_error: 0.9148 - loss: 1.3831 - player_goals_loss: 0.1193\n",
      "Epoch 51/100\n",
      "\u001b[1m1/1\u001b[0m \u001b[32m━━━━━━━━━━━━━━━━━━━━\u001b[0m\u001b[37m\u001b[0m \u001b[1m0s\u001b[0m 18ms/step - game_outcome_loss: 1.5091 - game_outcome_mean_absolute_error: 0.9964 - loss: 1.5213 - player_goals_loss: 0.1192\n",
      "Epoch 52/100\n",
      "\u001b[1m1/1\u001b[0m \u001b[32m━━━━━━━━━━━━━━━━━━━━\u001b[0m\u001b[37m\u001b[0m \u001b[1m0s\u001b[0m 18ms/step - game_outcome_loss: 1.7784 - game_outcome_mean_absolute_error: 1.0074 - loss: 1.7906 - player_goals_loss: 0.1192\n",
      "Epoch 53/100\n",
      "\u001b[1m1/1\u001b[0m \u001b[32m━━━━━━━━━━━━━━━━━━━━\u001b[0m\u001b[37m\u001b[0m \u001b[1m0s\u001b[0m 17ms/step - game_outcome_loss: 1.0684 - game_outcome_mean_absolute_error: 0.7214 - loss: 1.0806 - player_goals_loss: 0.1192\n",
      "Epoch 54/100\n",
      "\u001b[1m1/1\u001b[0m \u001b[32m━━━━━━━━━━━━━━━━━━━━\u001b[0m\u001b[37m\u001b[0m \u001b[1m0s\u001b[0m 18ms/step - game_outcome_loss: 1.7440 - game_outcome_mean_absolute_error: 1.0981 - loss: 1.7562 - player_goals_loss: 0.1192\n",
      "Epoch 55/100\n",
      "\u001b[1m1/1\u001b[0m \u001b[32m━━━━━━━━━━━━━━━━━━━━\u001b[0m\u001b[37m\u001b[0m \u001b[1m0s\u001b[0m 18ms/step - game_outcome_loss: 1.2052 - game_outcome_mean_absolute_error: 0.9274 - loss: 1.2174 - player_goals_loss: 0.1192\n",
      "Epoch 56/100\n",
      "\u001b[1m1/1\u001b[0m \u001b[32m━━━━━━━━━━━━━━━━━━━━\u001b[0m\u001b[37m\u001b[0m \u001b[1m0s\u001b[0m 18ms/step - game_outcome_loss: 2.5974 - game_outcome_mean_absolute_error: 1.2000 - loss: 2.6096 - player_goals_loss: 0.1192\n",
      "Epoch 57/100\n",
      "\u001b[1m1/1\u001b[0m \u001b[32m━━━━━━━━━━━━━━━━━━━━\u001b[0m\u001b[37m\u001b[0m \u001b[1m0s\u001b[0m 19ms/step - game_outcome_loss: 1.4322 - game_outcome_mean_absolute_error: 0.8898 - loss: 1.4444 - player_goals_loss: 0.1192\n",
      "Epoch 58/100\n",
      "\u001b[1m1/1\u001b[0m \u001b[32m━━━━━━━━━━━━━━━━━━━━\u001b[0m\u001b[37m\u001b[0m \u001b[1m0s\u001b[0m 19ms/step - game_outcome_loss: 1.3394 - game_outcome_mean_absolute_error: 0.9275 - loss: 1.3516 - player_goals_loss: 0.1192\n",
      "Epoch 59/100\n",
      "\u001b[1m1/1\u001b[0m \u001b[32m━━━━━━━━━━━━━━━━━━━━\u001b[0m\u001b[37m\u001b[0m \u001b[1m0s\u001b[0m 21ms/step - game_outcome_loss: 1.2254 - game_outcome_mean_absolute_error: 0.6985 - loss: 1.2376 - player_goals_loss: 0.1192\n",
      "Epoch 60/100\n",
      "\u001b[1m1/1\u001b[0m \u001b[32m━━━━━━━━━━━━━━━━━━━━\u001b[0m\u001b[37m\u001b[0m \u001b[1m0s\u001b[0m 17ms/step - game_outcome_loss: 3.2499 - game_outcome_mean_absolute_error: 1.0966 - loss: 3.2621 - player_goals_loss: 0.1192\n",
      "Epoch 61/100\n",
      "\u001b[1m1/1\u001b[0m \u001b[32m━━━━━━━━━━━━━━━━━━━━\u001b[0m\u001b[37m\u001b[0m \u001b[1m0s\u001b[0m 17ms/step - game_outcome_loss: 1.1327 - game_outcome_mean_absolute_error: 0.7548 - loss: 1.1449 - player_goals_loss: 0.1192\n",
      "Epoch 62/100\n",
      "\u001b[1m1/1\u001b[0m \u001b[32m━━━━━━━━━━━━━━━━━━━━\u001b[0m\u001b[37m\u001b[0m \u001b[1m0s\u001b[0m 18ms/step - game_outcome_loss: 1.5582 - game_outcome_mean_absolute_error: 0.9584 - loss: 1.5704 - player_goals_loss: 0.1192\n",
      "Epoch 63/100\n",
      "\u001b[1m1/1\u001b[0m \u001b[32m━━━━━━━━━━━━━━━━━━━━\u001b[0m\u001b[37m\u001b[0m \u001b[1m0s\u001b[0m 17ms/step - game_outcome_loss: 2.1398 - game_outcome_mean_absolute_error: 0.8850 - loss: 2.1520 - player_goals_loss: 0.1192\n",
      "Epoch 64/100\n",
      "\u001b[1m1/1\u001b[0m \u001b[32m━━━━━━━━━━━━━━━━━━━━\u001b[0m\u001b[37m\u001b[0m \u001b[1m0s\u001b[0m 17ms/step - game_outcome_loss: 1.5792 - game_outcome_mean_absolute_error: 0.8245 - loss: 1.5914 - player_goals_loss: 0.1191\n",
      "Epoch 65/100\n",
      "\u001b[1m1/1\u001b[0m \u001b[32m━━━━━━━━━━━━━━━━━━━━\u001b[0m\u001b[37m\u001b[0m \u001b[1m0s\u001b[0m 17ms/step - game_outcome_loss: 2.1785 - game_outcome_mean_absolute_error: 1.0792 - loss: 2.1907 - player_goals_loss: 0.1191\n",
      "Epoch 66/100\n",
      "\u001b[1m1/1\u001b[0m \u001b[32m━━━━━━━━━━━━━━━━━━━━\u001b[0m\u001b[37m\u001b[0m \u001b[1m0s\u001b[0m 59ms/step - game_outcome_loss: 0.6451 - game_outcome_mean_absolute_error: 0.5852 - loss: 0.6573 - player_goals_loss: 0.1191\n",
      "Epoch 67/100\n",
      "\u001b[1m1/1\u001b[0m \u001b[32m━━━━━━━━━━━━━━━━━━━━\u001b[0m\u001b[37m\u001b[0m \u001b[1m0s\u001b[0m 30ms/step - game_outcome_loss: 1.4900 - game_outcome_mean_absolute_error: 0.9204 - loss: 1.5022 - player_goals_loss: 0.1191\n",
      "Epoch 68/100\n",
      "\u001b[1m1/1\u001b[0m \u001b[32m━━━━━━━━━━━━━━━━━━━━\u001b[0m\u001b[37m\u001b[0m \u001b[1m0s\u001b[0m 18ms/step - game_outcome_loss: 1.0058 - game_outcome_mean_absolute_error: 0.7659 - loss: 1.0181 - player_goals_loss: 0.1191\n",
      "Epoch 69/100\n",
      "\u001b[1m1/1\u001b[0m \u001b[32m━━━━━━━━━━━━━━━━━━━━\u001b[0m\u001b[37m\u001b[0m \u001b[1m0s\u001b[0m 18ms/step - game_outcome_loss: 1.3721 - game_outcome_mean_absolute_error: 0.9227 - loss: 1.3843 - player_goals_loss: 0.1191\n",
      "Epoch 70/100\n",
      "\u001b[1m1/1\u001b[0m \u001b[32m━━━━━━━━━━━━━━━━━━━━\u001b[0m\u001b[37m\u001b[0m \u001b[1m0s\u001b[0m 19ms/step - game_outcome_loss: 2.1821 - game_outcome_mean_absolute_error: 0.8435 - loss: 2.1943 - player_goals_loss: 0.1191\n",
      "Epoch 71/100\n",
      "\u001b[1m1/1\u001b[0m \u001b[32m━━━━━━━━━━━━━━━━━━━━\u001b[0m\u001b[37m\u001b[0m \u001b[1m0s\u001b[0m 18ms/step - game_outcome_loss: 0.8316 - game_outcome_mean_absolute_error: 0.7009 - loss: 0.8438 - player_goals_loss: 0.1191\n",
      "Epoch 72/100\n",
      "\u001b[1m1/1\u001b[0m \u001b[32m━━━━━━━━━━━━━━━━━━━━\u001b[0m\u001b[37m\u001b[0m \u001b[1m0s\u001b[0m 17ms/step - game_outcome_loss: 1.2493 - game_outcome_mean_absolute_error: 0.7770 - loss: 1.2615 - player_goals_loss: 0.1191\n",
      "Epoch 73/100\n",
      "\u001b[1m1/1\u001b[0m \u001b[32m━━━━━━━━━━━━━━━━━━━━\u001b[0m\u001b[37m\u001b[0m \u001b[1m0s\u001b[0m 20ms/step - game_outcome_loss: 0.7165 - game_outcome_mean_absolute_error: 0.6959 - loss: 0.7287 - player_goals_loss: 0.1191\n",
      "Epoch 74/100\n",
      "\u001b[1m1/1\u001b[0m \u001b[32m━━━━━━━━━━━━━━━━━━━━\u001b[0m\u001b[37m\u001b[0m \u001b[1m0s\u001b[0m 19ms/step - game_outcome_loss: 2.8690 - game_outcome_mean_absolute_error: 0.9110 - loss: 2.8812 - player_goals_loss: 0.1191\n",
      "Epoch 75/100\n",
      "\u001b[1m1/1\u001b[0m \u001b[32m━━━━━━━━━━━━━━━━━━━━\u001b[0m\u001b[37m\u001b[0m \u001b[1m0s\u001b[0m 18ms/step - game_outcome_loss: 3.7842 - game_outcome_mean_absolute_error: 1.3114 - loss: 3.7964 - player_goals_loss: 0.1192\n",
      "Epoch 76/100\n",
      "\u001b[1m1/1\u001b[0m \u001b[32m━━━━━━━━━━━━━━━━━━━━\u001b[0m\u001b[37m\u001b[0m \u001b[1m0s\u001b[0m 18ms/step - game_outcome_loss: 1.2732 - game_outcome_mean_absolute_error: 0.8746 - loss: 1.2855 - player_goals_loss: 0.1192\n",
      "Epoch 77/100\n",
      "\u001b[1m1/1\u001b[0m \u001b[32m━━━━━━━━━━━━━━━━━━━━\u001b[0m\u001b[37m\u001b[0m \u001b[1m0s\u001b[0m 17ms/step - game_outcome_loss: 0.9222 - game_outcome_mean_absolute_error: 0.7257 - loss: 0.9345 - player_goals_loss: 0.1192\n",
      "Epoch 78/100\n",
      "\u001b[1m1/1\u001b[0m \u001b[32m━━━━━━━━━━━━━━━━━━━━\u001b[0m\u001b[37m\u001b[0m \u001b[1m0s\u001b[0m 17ms/step - game_outcome_loss: 1.7724 - game_outcome_mean_absolute_error: 0.9949 - loss: 1.7847 - player_goals_loss: 0.1192\n",
      "Epoch 79/100\n",
      "\u001b[1m1/1\u001b[0m \u001b[32m━━━━━━━━━━━━━━━━━━━━\u001b[0m\u001b[37m\u001b[0m \u001b[1m0s\u001b[0m 20ms/step - game_outcome_loss: 0.6812 - game_outcome_mean_absolute_error: 0.6338 - loss: 0.6935 - player_goals_loss: 0.1192\n",
      "Epoch 80/100\n",
      "\u001b[1m1/1\u001b[0m \u001b[32m━━━━━━━━━━━━━━━━━━━━\u001b[0m\u001b[37m\u001b[0m \u001b[1m0s\u001b[0m 18ms/step - game_outcome_loss: 0.4722 - game_outcome_mean_absolute_error: 0.5248 - loss: 0.4845 - player_goals_loss: 0.1192\n",
      "Epoch 81/100\n",
      "\u001b[1m1/1\u001b[0m \u001b[32m━━━━━━━━━━━━━━━━━━━━\u001b[0m\u001b[37m\u001b[0m \u001b[1m0s\u001b[0m 17ms/step - game_outcome_loss: 1.0707 - game_outcome_mean_absolute_error: 0.7422 - loss: 1.0830 - player_goals_loss: 0.1192\n",
      "Epoch 82/100\n",
      "\u001b[1m1/1\u001b[0m \u001b[32m━━━━━━━━━━━━━━━━━━━━\u001b[0m\u001b[37m\u001b[0m \u001b[1m0s\u001b[0m 17ms/step - game_outcome_loss: 0.6766 - game_outcome_mean_absolute_error: 0.5729 - loss: 0.6888 - player_goals_loss: 0.1191\n",
      "Epoch 83/100\n",
      "\u001b[1m1/1\u001b[0m \u001b[32m━━━━━━━━━━━━━━━━━━━━\u001b[0m\u001b[37m\u001b[0m \u001b[1m0s\u001b[0m 19ms/step - game_outcome_loss: 0.5323 - game_outcome_mean_absolute_error: 0.5278 - loss: 0.5446 - player_goals_loss: 0.1191\n",
      "Epoch 84/100\n",
      "\u001b[1m1/1\u001b[0m \u001b[32m━━━━━━━━━━━━━━━━━━━━\u001b[0m\u001b[37m\u001b[0m \u001b[1m0s\u001b[0m 17ms/step - game_outcome_loss: 0.5995 - game_outcome_mean_absolute_error: 0.6212 - loss: 0.6117 - player_goals_loss: 0.1191\n",
      "Epoch 85/100\n",
      "\u001b[1m1/1\u001b[0m \u001b[32m━━━━━━━━━━━━━━━━━━━━\u001b[0m\u001b[37m\u001b[0m \u001b[1m0s\u001b[0m 18ms/step - game_outcome_loss: 2.3270 - game_outcome_mean_absolute_error: 0.8627 - loss: 2.3393 - player_goals_loss: 0.1191\n",
      "Epoch 86/100\n",
      "\u001b[1m1/1\u001b[0m \u001b[32m━━━━━━━━━━━━━━━━━━━━\u001b[0m\u001b[37m\u001b[0m \u001b[1m0s\u001b[0m 18ms/step - game_outcome_loss: 0.6382 - game_outcome_mean_absolute_error: 0.6353 - loss: 0.6505 - player_goals_loss: 0.1190\n",
      "Epoch 87/100\n",
      "\u001b[1m1/1\u001b[0m \u001b[32m━━━━━━━━━━━━━━━━━━━━\u001b[0m\u001b[37m\u001b[0m \u001b[1m0s\u001b[0m 17ms/step - game_outcome_loss: 1.5961 - game_outcome_mean_absolute_error: 0.8015 - loss: 1.6084 - player_goals_loss: 0.1190\n",
      "Epoch 88/100\n",
      "\u001b[1m1/1\u001b[0m \u001b[32m━━━━━━━━━━━━━━━━━━━━\u001b[0m\u001b[37m\u001b[0m \u001b[1m0s\u001b[0m 17ms/step - game_outcome_loss: 0.6926 - game_outcome_mean_absolute_error: 0.6384 - loss: 0.7049 - player_goals_loss: 0.1190\n",
      "Epoch 89/100\n",
      "\u001b[1m1/1\u001b[0m \u001b[32m━━━━━━━━━━━━━━━━━━━━\u001b[0m\u001b[37m\u001b[0m \u001b[1m0s\u001b[0m 17ms/step - game_outcome_loss: 1.4484 - game_outcome_mean_absolute_error: 0.9377 - loss: 1.4607 - player_goals_loss: 0.1190\n",
      "Epoch 90/100\n",
      "\u001b[1m1/1\u001b[0m \u001b[32m━━━━━━━━━━━━━━━━━━━━\u001b[0m\u001b[37m\u001b[0m \u001b[1m0s\u001b[0m 18ms/step - game_outcome_loss: 0.6245 - game_outcome_mean_absolute_error: 0.6567 - loss: 0.6367 - player_goals_loss: 0.1190\n",
      "Epoch 91/100\n",
      "\u001b[1m1/1\u001b[0m \u001b[32m━━━━━━━━━━━━━━━━━━━━\u001b[0m\u001b[37m\u001b[0m \u001b[1m0s\u001b[0m 18ms/step - game_outcome_loss: 0.7313 - game_outcome_mean_absolute_error: 0.6510 - loss: 0.7436 - player_goals_loss: 0.1190\n",
      "Epoch 92/100\n",
      "\u001b[1m1/1\u001b[0m \u001b[32m━━━━━━━━━━━━━━━━━━━━\u001b[0m\u001b[37m\u001b[0m \u001b[1m0s\u001b[0m 18ms/step - game_outcome_loss: 0.5369 - game_outcome_mean_absolute_error: 0.5240 - loss: 0.5492 - player_goals_loss: 0.1190\n",
      "Epoch 93/100\n",
      "\u001b[1m1/1\u001b[0m \u001b[32m━━━━━━━━━━━━━━━━━━━━\u001b[0m\u001b[37m\u001b[0m \u001b[1m0s\u001b[0m 17ms/step - game_outcome_loss: 0.6561 - game_outcome_mean_absolute_error: 0.5803 - loss: 0.6683 - player_goals_loss: 0.1190\n",
      "Epoch 94/100\n",
      "\u001b[1m1/1\u001b[0m \u001b[32m━━━━━━━━━━━━━━━━━━━━\u001b[0m\u001b[37m\u001b[0m \u001b[1m0s\u001b[0m 19ms/step - game_outcome_loss: 0.7311 - game_outcome_mean_absolute_error: 0.6851 - loss: 0.7434 - player_goals_loss: 0.1189\n",
      "Epoch 95/100\n",
      "\u001b[1m1/1\u001b[0m \u001b[32m━━━━━━━━━━━━━━━━━━━━\u001b[0m\u001b[37m\u001b[0m \u001b[1m0s\u001b[0m 19ms/step - game_outcome_loss: 0.6845 - game_outcome_mean_absolute_error: 0.6589 - loss: 0.6968 - player_goals_loss: 0.1189\n",
      "Epoch 96/100\n",
      "\u001b[1m1/1\u001b[0m \u001b[32m━━━━━━━━━━━━━━━━━━━━\u001b[0m\u001b[37m\u001b[0m \u001b[1m0s\u001b[0m 19ms/step - game_outcome_loss: 0.6308 - game_outcome_mean_absolute_error: 0.6296 - loss: 0.6431 - player_goals_loss: 0.1189\n",
      "Epoch 97/100\n",
      "\u001b[1m1/1\u001b[0m \u001b[32m━━━━━━━━━━━━━━━━━━━━\u001b[0m\u001b[37m\u001b[0m \u001b[1m0s\u001b[0m 19ms/step - game_outcome_loss: 1.4150 - game_outcome_mean_absolute_error: 0.6934 - loss: 1.4273 - player_goals_loss: 0.1189\n",
      "Epoch 98/100\n",
      "\u001b[1m1/1\u001b[0m \u001b[32m━━━━━━━━━━━━━━━━━━━━\u001b[0m\u001b[37m\u001b[0m \u001b[1m0s\u001b[0m 18ms/step - game_outcome_loss: 1.4053 - game_outcome_mean_absolute_error: 0.9324 - loss: 1.4176 - player_goals_loss: 0.1189\n",
      "Epoch 99/100\n",
      "\u001b[1m1/1\u001b[0m \u001b[32m━━━━━━━━━━━━━━━━━━━━\u001b[0m\u001b[37m\u001b[0m \u001b[1m0s\u001b[0m 19ms/step - game_outcome_loss: 1.3897 - game_outcome_mean_absolute_error: 0.8935 - loss: 1.4020 - player_goals_loss: 0.1189\n",
      "Epoch 100/100\n",
      "\u001b[1m1/1\u001b[0m \u001b[32m━━━━━━━━━━━━━━━━━━━━\u001b[0m\u001b[37m\u001b[0m \u001b[1m0s\u001b[0m 71ms/step - game_outcome_loss: 0.5362 - game_outcome_mean_absolute_error: 0.4982 - loss: 0.5485 - player_goals_loss: 0.1189\n"
     ]
    },
    {
     "data": {
      "text/plain": [
       "<keras.src.callbacks.history.History at 0x31438ef60>"
      ]
     },
     "execution_count": 52,
     "metadata": {},
     "output_type": "execute_result"
    }
   ],
   "source": [
    "final_model = build_model(NUM_PLAYERS, PLAYER_EMB_DIM, MAX_TEAM_SIZE)\n",
    "final_model.fit(\n",
    "    [teamA_data, teamB_data], [outcomes, scaled_player_goals],\n",
    "    epochs=100, batch_size=32, verbose=1\n",
    ")\n"
   ]
  },
  {
   "cell_type": "code",
   "execution_count": null,
   "id": "47788d70-7198-474e-be56-fbea8f0af128",
   "metadata": {},
   "outputs": [],
   "source": []
  },
  {
   "cell_type": "markdown",
   "id": "43120009-27cc-4269-9ad3-3055b150ae11",
   "metadata": {},
   "source": [
    "## Predicting for the match"
   ]
  },
  {
   "cell_type": "code",
   "execution_count": 60,
   "id": "5a834ebb-3739-4835-b3ad-a7188f0490d5",
   "metadata": {},
   "outputs": [
    {
     "data": {
      "text/plain": [
       "[15, 17, 13, 1, 3, 2, 4]"
      ]
     },
     "execution_count": 60,
     "metadata": {},
     "output_type": "execute_result"
    }
   ],
   "source": [
    "teamA_players = [vitalii_zhebrakovksy, loginov_dmitrii, ivan, andrey_spiridonov, andrey_larionov, andrey_trubicin, veselin]   # player IDs for Team A\n",
    "teamB_players = [sanya, roman, denys, andrey_spiridonov, andrey_selifonov, oleksandr, alex_akimov]      # player IDs for Team B\n",
    "teamA_players"
   ]
  },
  {
   "cell_type": "code",
   "execution_count": 30,
   "id": "f059fcaf-6c19-4935-855d-dd3d355e1807",
   "metadata": {
    "collapsed": true,
    "jupyter": {
     "outputs_hidden": true
    }
   },
   "outputs": [
    {
     "ename": "AttributeError",
     "evalue": "'list' object has no attribute 'shape'",
     "output_type": "error",
     "traceback": [
      "\u001b[31m---------------------------------------------------------------------------\u001b[39m",
      "\u001b[31mAttributeError\u001b[39m                            Traceback (most recent call last)",
      "\u001b[36mCell\u001b[39m\u001b[36m \u001b[39m\u001b[32mIn[30]\u001b[39m\u001b[32m, line 9\u001b[39m\n\u001b[32m      6\u001b[39m     padded = players + [\u001b[32m0\u001b[39m]*(max_size - \u001b[38;5;28mlen\u001b[39m(players))\n\u001b[32m      7\u001b[39m     \u001b[38;5;28;01mreturn\u001b[39;00m np.array(padded)\n\u001b[32m----> \u001b[39m\u001b[32m9\u001b[39m teamA_input = \u001b[43mpad_team\u001b[49m\u001b[43m(\u001b[49m\u001b[43mteamA_players\u001b[49m\u001b[43m,\u001b[49m\u001b[43m \u001b[49m\u001b[43mMAX_TEAM_SIZE\u001b[49m\u001b[43m)\u001b[49m\n\u001b[32m     10\u001b[39m teamB_input = pad_team(teamB_players, MAX_TEAM_SIZE)\n\u001b[32m     12\u001b[39m \u001b[38;5;66;03m# Add batch dimension: shape (1, MAX_TEAM_SIZE)\u001b[39;00m\n",
      "\u001b[36mCell\u001b[39m\u001b[36m \u001b[39m\u001b[32mIn[30]\u001b[39m\u001b[32m, line 5\u001b[39m, in \u001b[36mpad_team\u001b[39m\u001b[34m(players, max_size)\u001b[39m\n\u001b[32m      4\u001b[39m \u001b[38;5;28;01mdef\u001b[39;00m\u001b[38;5;250m \u001b[39m\u001b[34mpad_team\u001b[39m(players, max_size):\n\u001b[32m----> \u001b[39m\u001b[32m5\u001b[39m     \u001b[38;5;28mprint\u001b[39m(\u001b[43mplayers\u001b[49m\u001b[43m.\u001b[49m\u001b[43mshape\u001b[49m)\n\u001b[32m      6\u001b[39m     padded = players + [\u001b[32m0\u001b[39m]*(max_size - \u001b[38;5;28mlen\u001b[39m(players))\n\u001b[32m      7\u001b[39m     \u001b[38;5;28;01mreturn\u001b[39;00m np.array(padded)\n",
      "\u001b[31mAttributeError\u001b[39m: 'list' object has no attribute 'shape'"
     ]
    }
   ],
   "source": [
    "\n",
    "MAX_TEAM_SIZE = 9  # Should match model's expected size\n",
    "\n",
    "# Pad teams to MAX_TEAM_SIZE with 0 (mask token)\n",
    "def pad_team(players, max_size):\n",
    "    padded = players + [0]*(max_size - len(players))\n",
    "    return np.array(padded)\n",
    "\n",
    "teamA_input = pad_team(teamA_players, MAX_TEAM_SIZE)\n",
    "teamB_input = pad_team(teamB_players, MAX_TEAM_SIZE)\n",
    "\n",
    "# Add batch dimension: shape (1, MAX_TEAM_SIZE)\n",
    "teamA_input = np.expand_dims(teamA_input, axis=0)\n",
    "teamB_input = np.expand_dims(teamB_input, axis=0)\n",
    "\n",
    "# Predict using the trained model\n",
    "prediction = model.predict([teamA_input, teamB_input])\n",
    "print(prediction)\n",
    "# If model output is sigmoid probability of Team A win:\n",
    "# prob_teamA_wins = prediction[0][0]\n",
    "\n",
    "# print(f\"Predicted probability that Team A wins: {prob_teamA_wins:.3f}\")\n",
    "\n",
    "# # Optional: Decide class label\n",
    "# predicted_label = 1 if prob_teamA_wins > 0.5 else 0\n",
    "# print(\"Predicted winner:\", \"Team A\" if predicted_label == 1 else \"Team B\")\n"
   ]
  },
  {
   "cell_type": "code",
   "execution_count": 244,
   "id": "292ac828-9f31-48cd-8436-bb24239d7cdf",
   "metadata": {},
   "outputs": [],
   "source": [
    "\n",
    "# teamA_pls = teamA_players\n",
    "# print(\" Team A players: \", teamA_pls)\n",
    "# teamA_str = player_strengths[teamA_pls]\n",
    "# print(f\" Team A palyers' stregths:{teamA_str}, Total: {teamA_str.sum()}\")\n",
    "\n",
    "# teamB_pls = teamB_players\n",
    "# print(\" Team B players: \", teamB_pls)\n",
    "# teamB_str = player_strengths[teamB_pls]\n",
    "# print(f\" Team B palyers' stregths:{teamB_str}, Total: {teamB_str.sum()}\")\n",
    "# # print(\" Label (Team A wins=1):\", outcomes[i])"
   ]
  },
  {
   "cell_type": "code",
   "execution_count": 67,
   "id": "e266c2a0-ec4e-413e-813f-2103a055ec88",
   "metadata": {
    "jupyter": {
     "source_hidden": true
    }
   },
   "outputs": [],
   "source": [
    "# outcome = teamA_strength - teamB_strength\n",
    "# competition_res = 1 if outcome > 0 else 0\n",
    "# competition_res"
   ]
  },
  {
   "cell_type": "markdown",
   "id": "152c5dc8-78f0-4ece-bde8-b2e4514d8881",
   "metadata": {
    "jp-MarkdownHeadingCollapsed": true
   },
   "source": [
    "## Checking embeddings for player-zero didn't change"
   ]
  },
  {
   "cell_type": "code",
   "execution_count": 46,
   "id": "69737de0-f6dd-4db1-81b3-27781ff5a8c1",
   "metadata": {},
   "outputs": [
    {
     "name": "stdout",
     "output_type": "stream",
     "text": [
      "[array([[-0.13323195, -0.00096944,  0.13194087, ...,  0.06002998,\n",
      "        -0.12077236,  0.21608105],\n",
      "       [ 0.25799596,  0.14437412, -0.12090246, ...,  0.2338862 ,\n",
      "        -0.22508083,  0.27917218],\n",
      "       [ 0.05737278, -0.18427649,  0.0448258 , ...,  0.03547481,\n",
      "         0.11724964,  0.01851659],\n",
      "       ...,\n",
      "       [-0.24211977,  0.14603835, -0.07750341, ...,  0.14155856,\n",
      "        -0.20976669, -0.02695062],\n",
      "       [ 0.20007047,  0.16510814,  0.03071143, ..., -0.04832422,\n",
      "         0.1226583 , -0.12132613],\n",
      "       [ 0.22340769,  0.16554756,  0.26984534, ...,  0.07564413,\n",
      "        -0.07597711, -0.22517112]], dtype=float32)]\n",
      "Embedding vector for player zero after training: [-0.13323195 -0.00096944  0.13194087 -0.29381505 -0.25805488  0.07750148\n",
      "  0.15615395 -0.20011973 -0.22736615 -0.27393228  0.27099267 -0.16506381\n",
      " -0.01375294 -0.15520269  0.13752416  0.16476852  0.02260321 -0.20287587\n",
      "  0.00171983 -0.1837469  -0.28457138 -0.11464813 -0.01568022  0.03661951\n",
      "  0.19812527  0.05595043 -0.11006211  0.16076088 -0.22917882  0.06002998\n",
      " -0.12077236  0.21608105]\n"
     ]
    }
   ],
   "source": [
    "player_embedding_layer = final_model.get_layer(\"player_embedding\")\n",
    "print(player_embedding_layer.get_weights())\n",
    "embeddings_after = player_embedding_layer.get_weights()[0]\n",
    "print(\"Embedding vector for player zero after training:\", embeddings_after[0])"
   ]
  },
  {
   "cell_type": "markdown",
   "id": "78cbd871-e050-4c66-9a86-efd29b6169fa",
   "metadata": {},
   "source": [
    "[-5.07739708e-02 -4.36284972e-06  4.96770889e-02 -2.01140255e-01\n",
    " -1.66482732e-01  9.76330414e-03  7.08238930e-02 -1.11250795e-01\n",
    " -1.37040332e-01 -1.81832418e-01  1.78985596e-01 -7.88500682e-02\n",
    "  6.81006131e-05 -6.99735954e-02  5.44489920e-02  7.85823390e-02\n",
    "  1.21108722e-04 -1.13840222e-01  8.64824688e-06 -9.59808752e-02\n",
    " -1.92153260e-01 -3.54439728e-02  9.12378673e-05 -2.82771420e-04\n",
    "  1.09380044e-01  1.10181991e-03 -3.18431519e-02  7.49605969e-02\n",
    " -1.38769433e-01  2.19749822e-03 -4.03767787e-02  1.26310453e-01]"
   ]
  },
  {
   "cell_type": "code",
   "execution_count": 47,
   "id": "401fedc0-c4e4-40ca-ae35-28a7c591e8a0",
   "metadata": {
    "collapsed": true,
    "jupyter": {
     "outputs_hidden": true
    }
   },
   "outputs": [
    {
     "ename": "NameError",
     "evalue": "name 'embeddings_before' is not defined",
     "output_type": "error",
     "traceback": [
      "\u001b[31m---------------------------------------------------------------------------\u001b[39m",
      "\u001b[31mNameError\u001b[39m                                 Traceback (most recent call last)",
      "\u001b[36mCell\u001b[39m\u001b[36m \u001b[39m\u001b[32mIn[47]\u001b[39m\u001b[32m, line 1\u001b[39m\n\u001b[32m----> \u001b[39m\u001b[32m1\u001b[39m change = np.linalg.norm(embeddings_after[\u001b[32m0\u001b[39m] - \u001b[43membeddings_before\u001b[49m[\u001b[32m0\u001b[39m])\n\u001b[32m      2\u001b[39m \u001b[38;5;28mprint\u001b[39m(\u001b[33m\"\u001b[39m\u001b[33mChange in player zero embedding vector:\u001b[39m\u001b[33m\"\u001b[39m, change)\n",
      "\u001b[31mNameError\u001b[39m: name 'embeddings_before' is not defined"
     ]
    }
   ],
   "source": [
    "change = np.linalg.norm(embeddings_after[0] - embeddings_before[0])\n",
    "print(\"Change in player zero embedding vector:\", change)"
   ]
  },
  {
   "cell_type": "markdown",
   "id": "805c50f3-5539-45e2-906c-3020a96fc3b0",
   "metadata": {},
   "source": [
    "## Extracting embeddings of players"
   ]
  },
  {
   "cell_type": "code",
   "execution_count": 53,
   "id": "587acf16-124f-477f-811e-bab61b6688f1",
   "metadata": {},
   "outputs": [
    {
     "name": "stdout",
     "output_type": "stream",
     "text": [
      "(32, 32)\n"
     ]
    }
   ],
   "source": [
    "# Direct reference to layer\n",
    "player_embedding_layer = final_model.get_layer(\"player_embedding\")\n",
    "player_embeddings = player_embedding_layer.get_weights()[0]\n",
    "print(player_embeddings.shape)  # (NUM_PLAYERS, PLAYER_EMB_DIM)\n",
    "\n",
    "player_embeddings_wzp = player_embeddings[1:, :]\n",
    "player_strengths_estimates_wzp = player_strengths_estimates[1:]"
   ]
  },
  {
   "cell_type": "code",
   "execution_count": 54,
   "id": "a2b15743-fc52-4a27-9d4c-b68d483b0ae3",
   "metadata": {},
   "outputs": [
    {
     "name": "stdout",
     "output_type": "stream",
     "text": [
      "32\n",
      "(32, 32)\n"
     ]
    }
   ],
   "source": [
    "print(player_embedding_layer.input_dim)  # should show actual input_dim in the model\n",
    "print(player_embedding_layer.embeddings.shape)  "
   ]
  },
  {
   "cell_type": "markdown",
   "id": "9eab6fe6-3124-4101-be14-41f5f39fbebf",
   "metadata": {},
   "source": [
    "## Try to initialize embeddings based on content based similarity.\n",
    "\n",
    "TODO Use MPS(not sure) manifold approach to get initial embeddings"
   ]
  },
  {
   "cell_type": "markdown",
   "id": "62c8fe56-8ce5-40fc-ac70-396c8929e696",
   "metadata": {},
   "source": [
    "## UMAP and visualizing players in 3D"
   ]
  },
  {
   "cell_type": "code",
   "execution_count": 55,
   "id": "c821ad50-ddaa-4197-9c4b-d9d81dbc810c",
   "metadata": {},
   "outputs": [
    {
     "name": "stdout",
     "output_type": "stream",
     "text": [
      "x_min: 6.974906921386719 x_max: 8.713268280029297\n",
      "y_min: 8.994684219360352 y_max: 12.205850601196289\n",
      "z_min: 4.598097801208496 z_max: 7.04670524597168\n"
     ]
    },
    {
     "name": "stderr",
     "output_type": "stream",
     "text": [
      "/opt/anaconda3/envs/footballman/lib/python3.12/site-packages/umap/umap_.py:1952: UserWarning:\n",
      "\n",
      "n_jobs value 1 overridden to 1 by setting random_state. Use no seed for parallelism.\n",
      "\n"
     ]
    },
    {
     "data": {
      "application/vnd.plotly.v1+json": {
       "config": {
        "plotlyServerURL": "https://plot.ly"
       },
       "data": [
        {
         "color": "lightblue",
         "i": [
          0,
          0
         ],
         "j": [
          1,
          2
         ],
         "k": [
          2,
          3
         ],
         "name": "Rhombus",
         "opacity": 0.5,
         "type": "mesh3d",
         "x": [
          6.974906921386719,
          6.974906921386719,
          8.713268280029297,
          8.713268280029297
         ],
         "y": [
          8.994684219360352,
          12.205850601196289,
          12.205850601196289,
          8.994684219360352
         ],
         "z": [
          5.822401523590088,
          4.598097801208496,
          5.822401523590088,
          7.04670524597168
         ]
        },
        {
         "hoverinfo": "text",
         "marker": {
          "color": {
           "bdata": "AAAAAAAAI0AAAAAAAAAiQAAAAAAAABRAAAAAAAAAGEAAAAAAAAAhQAAAAAAAABpAAAAAAAAAHkAAAAAAAAAaQAAAAAAAABBAAAAAAAAAHEAAAAAAAAAYQAAAAAAAABpAAAAAAACAIkAAAAAAAAASQAAAAAAAABtAAAAAAACAIkAAAAAAAAAhQAAAAAAAAB5AAAAAAAAAI0AAAAAAAAAUQAAAAAAAABZAAAAAAAAAFkAAAAAAAAAjQAAAAAAAgCFAAAAAAAAAGkAAAAAAAAAgQAAAAAAAABxAAAAAAAAAHkAAAAAAAAAgQAAAAAAAABxAAAAAAAAAGkA=",
           "dtype": "f8"
          },
          "colorbar": {
           "title": {
            "text": "Strength"
           }
          },
          "colorscale": [
           [
            0,
            "#440154"
           ],
           [
            0.1111111111111111,
            "#482878"
           ],
           [
            0.2222222222222222,
            "#3e4989"
           ],
           [
            0.3333333333333333,
            "#31688e"
           ],
           [
            0.4444444444444444,
            "#26828e"
           ],
           [
            0.5555555555555556,
            "#1f9e89"
           ],
           [
            0.6666666666666666,
            "#35b779"
           ],
           [
            0.7777777777777778,
            "#6ece58"
           ],
           [
            0.8888888888888888,
            "#b5de2b"
           ],
           [
            1,
            "#fde725"
           ]
          ],
          "opacity": 0.8,
          "size": 7
         },
         "mode": "markers+text",
         "text": [
          "Andrey Spiridonov",
          "Andrey Trubicin",
          "Andrey Larionov",
          "Veselin",
          "Fedor",
          "Andrey Selifonov",
          "Dmitro Ilchenko",
          "Sergii Kolbasin",
          "Vlad",
          "Pavel Karacharov",
          "Sanya",
          "Roman",
          "Ivan",
          "Denys",
          "Vitalii Zhebrakovksy",
          "Oleksandr",
          "Loginov Dmitrii",
          "Artem Bykov",
          "Kirill",
          "Bondarev Yurii",
          "Gundars Mednis",
          "Alexandr Mikhailov",
          "Pedro Ispanec",
          "Dimon Sirnik Lozuk",
          "Sergey Konovalov",
          "Vladimir Chavskiy",
          "Alex Akimov",
          "Andrey",
          "Sanya DrugIlchenko",
          "Vitalik goalkeeper",
          "Dimon Melkii"
         ],
         "type": "scatter3d",
         "x": {
          "bdata": "74DtQHKIA0E7DvZA5LbmQIxpC0HHpPRAfSDyQJoKB0H7Vv9AlNP9QFVYCEFwMt9ADl7kQJUNAUFaUgBBFcP/QLpA7EDSmARBs7T1QO+I7kBeIQhBpuXiQLCA+kC8awZBXlALQemrAkF6/QVB9VUBQfMp6EBn9AJB4t/9QA==",
          "dtype": "f4"
         },
         "y": {
          "bdata": "Fn4vQQEuMUE+ARxB+9cmQYBiJ0E8DD1B68gWQZx6KkFj+BJBG2QaQfSdHkETmC5B7bgoQcFLJ0G43jlBNPgvQU2BOkFFGyBBa3ggQa0lOUGE8zRBJI8gQSpLQ0E/mjRBduUrQQafPEH32kBBF0U8QdUQG0FBTiZBOuoPQQ==",
          "dtype": "f4"
         },
         "z": {
          "bdata": "2VbcQCkYwEDneZdApVqkQF8Ww0ClG9hABQrBQNCzoEA0PsJAJdOlQGe9p0D5f85ARl61QLpFqUCv3aFAstfaQLT2xECeI5NAoDDSQKe+rkCQ49pAJSXFQPxo0ECJ56BAmYG0QJx+4UCa4cxAYDC3QM2PsEDBV9FAw9i0QA==",
          "dtype": "f4"
         }
        }
       ],
       "layout": {
        "height": 900,
        "scene": {
         "xaxis": {
          "title": {
           "text": "X"
          }
         },
         "yaxis": {
          "title": {
           "text": "Y"
          }
         },
         "zaxis": {
          "title": {
           "text": "Z"
          }
         }
        },
        "template": {
         "data": {
          "bar": [
           {
            "error_x": {
             "color": "#2a3f5f"
            },
            "error_y": {
             "color": "#2a3f5f"
            },
            "marker": {
             "line": {
              "color": "#E5ECF6",
              "width": 0.5
             },
             "pattern": {
              "fillmode": "overlay",
              "size": 10,
              "solidity": 0.2
             }
            },
            "type": "bar"
           }
          ],
          "barpolar": [
           {
            "marker": {
             "line": {
              "color": "#E5ECF6",
              "width": 0.5
             },
             "pattern": {
              "fillmode": "overlay",
              "size": 10,
              "solidity": 0.2
             }
            },
            "type": "barpolar"
           }
          ],
          "carpet": [
           {
            "aaxis": {
             "endlinecolor": "#2a3f5f",
             "gridcolor": "white",
             "linecolor": "white",
             "minorgridcolor": "white",
             "startlinecolor": "#2a3f5f"
            },
            "baxis": {
             "endlinecolor": "#2a3f5f",
             "gridcolor": "white",
             "linecolor": "white",
             "minorgridcolor": "white",
             "startlinecolor": "#2a3f5f"
            },
            "type": "carpet"
           }
          ],
          "choropleth": [
           {
            "colorbar": {
             "outlinewidth": 0,
             "ticks": ""
            },
            "type": "choropleth"
           }
          ],
          "contour": [
           {
            "colorbar": {
             "outlinewidth": 0,
             "ticks": ""
            },
            "colorscale": [
             [
              0,
              "#0d0887"
             ],
             [
              0.1111111111111111,
              "#46039f"
             ],
             [
              0.2222222222222222,
              "#7201a8"
             ],
             [
              0.3333333333333333,
              "#9c179e"
             ],
             [
              0.4444444444444444,
              "#bd3786"
             ],
             [
              0.5555555555555556,
              "#d8576b"
             ],
             [
              0.6666666666666666,
              "#ed7953"
             ],
             [
              0.7777777777777778,
              "#fb9f3a"
             ],
             [
              0.8888888888888888,
              "#fdca26"
             ],
             [
              1,
              "#f0f921"
             ]
            ],
            "type": "contour"
           }
          ],
          "contourcarpet": [
           {
            "colorbar": {
             "outlinewidth": 0,
             "ticks": ""
            },
            "type": "contourcarpet"
           }
          ],
          "heatmap": [
           {
            "colorbar": {
             "outlinewidth": 0,
             "ticks": ""
            },
            "colorscale": [
             [
              0,
              "#0d0887"
             ],
             [
              0.1111111111111111,
              "#46039f"
             ],
             [
              0.2222222222222222,
              "#7201a8"
             ],
             [
              0.3333333333333333,
              "#9c179e"
             ],
             [
              0.4444444444444444,
              "#bd3786"
             ],
             [
              0.5555555555555556,
              "#d8576b"
             ],
             [
              0.6666666666666666,
              "#ed7953"
             ],
             [
              0.7777777777777778,
              "#fb9f3a"
             ],
             [
              0.8888888888888888,
              "#fdca26"
             ],
             [
              1,
              "#f0f921"
             ]
            ],
            "type": "heatmap"
           }
          ],
          "histogram": [
           {
            "marker": {
             "pattern": {
              "fillmode": "overlay",
              "size": 10,
              "solidity": 0.2
             }
            },
            "type": "histogram"
           }
          ],
          "histogram2d": [
           {
            "colorbar": {
             "outlinewidth": 0,
             "ticks": ""
            },
            "colorscale": [
             [
              0,
              "#0d0887"
             ],
             [
              0.1111111111111111,
              "#46039f"
             ],
             [
              0.2222222222222222,
              "#7201a8"
             ],
             [
              0.3333333333333333,
              "#9c179e"
             ],
             [
              0.4444444444444444,
              "#bd3786"
             ],
             [
              0.5555555555555556,
              "#d8576b"
             ],
             [
              0.6666666666666666,
              "#ed7953"
             ],
             [
              0.7777777777777778,
              "#fb9f3a"
             ],
             [
              0.8888888888888888,
              "#fdca26"
             ],
             [
              1,
              "#f0f921"
             ]
            ],
            "type": "histogram2d"
           }
          ],
          "histogram2dcontour": [
           {
            "colorbar": {
             "outlinewidth": 0,
             "ticks": ""
            },
            "colorscale": [
             [
              0,
              "#0d0887"
             ],
             [
              0.1111111111111111,
              "#46039f"
             ],
             [
              0.2222222222222222,
              "#7201a8"
             ],
             [
              0.3333333333333333,
              "#9c179e"
             ],
             [
              0.4444444444444444,
              "#bd3786"
             ],
             [
              0.5555555555555556,
              "#d8576b"
             ],
             [
              0.6666666666666666,
              "#ed7953"
             ],
             [
              0.7777777777777778,
              "#fb9f3a"
             ],
             [
              0.8888888888888888,
              "#fdca26"
             ],
             [
              1,
              "#f0f921"
             ]
            ],
            "type": "histogram2dcontour"
           }
          ],
          "mesh3d": [
           {
            "colorbar": {
             "outlinewidth": 0,
             "ticks": ""
            },
            "type": "mesh3d"
           }
          ],
          "parcoords": [
           {
            "line": {
             "colorbar": {
              "outlinewidth": 0,
              "ticks": ""
             }
            },
            "type": "parcoords"
           }
          ],
          "pie": [
           {
            "automargin": true,
            "type": "pie"
           }
          ],
          "scatter": [
           {
            "fillpattern": {
             "fillmode": "overlay",
             "size": 10,
             "solidity": 0.2
            },
            "type": "scatter"
           }
          ],
          "scatter3d": [
           {
            "line": {
             "colorbar": {
              "outlinewidth": 0,
              "ticks": ""
             }
            },
            "marker": {
             "colorbar": {
              "outlinewidth": 0,
              "ticks": ""
             }
            },
            "type": "scatter3d"
           }
          ],
          "scattercarpet": [
           {
            "marker": {
             "colorbar": {
              "outlinewidth": 0,
              "ticks": ""
             }
            },
            "type": "scattercarpet"
           }
          ],
          "scattergeo": [
           {
            "marker": {
             "colorbar": {
              "outlinewidth": 0,
              "ticks": ""
             }
            },
            "type": "scattergeo"
           }
          ],
          "scattergl": [
           {
            "marker": {
             "colorbar": {
              "outlinewidth": 0,
              "ticks": ""
             }
            },
            "type": "scattergl"
           }
          ],
          "scattermap": [
           {
            "marker": {
             "colorbar": {
              "outlinewidth": 0,
              "ticks": ""
             }
            },
            "type": "scattermap"
           }
          ],
          "scattermapbox": [
           {
            "marker": {
             "colorbar": {
              "outlinewidth": 0,
              "ticks": ""
             }
            },
            "type": "scattermapbox"
           }
          ],
          "scatterpolar": [
           {
            "marker": {
             "colorbar": {
              "outlinewidth": 0,
              "ticks": ""
             }
            },
            "type": "scatterpolar"
           }
          ],
          "scatterpolargl": [
           {
            "marker": {
             "colorbar": {
              "outlinewidth": 0,
              "ticks": ""
             }
            },
            "type": "scatterpolargl"
           }
          ],
          "scatterternary": [
           {
            "marker": {
             "colorbar": {
              "outlinewidth": 0,
              "ticks": ""
             }
            },
            "type": "scatterternary"
           }
          ],
          "surface": [
           {
            "colorbar": {
             "outlinewidth": 0,
             "ticks": ""
            },
            "colorscale": [
             [
              0,
              "#0d0887"
             ],
             [
              0.1111111111111111,
              "#46039f"
             ],
             [
              0.2222222222222222,
              "#7201a8"
             ],
             [
              0.3333333333333333,
              "#9c179e"
             ],
             [
              0.4444444444444444,
              "#bd3786"
             ],
             [
              0.5555555555555556,
              "#d8576b"
             ],
             [
              0.6666666666666666,
              "#ed7953"
             ],
             [
              0.7777777777777778,
              "#fb9f3a"
             ],
             [
              0.8888888888888888,
              "#fdca26"
             ],
             [
              1,
              "#f0f921"
             ]
            ],
            "type": "surface"
           }
          ],
          "table": [
           {
            "cells": {
             "fill": {
              "color": "#EBF0F8"
             },
             "line": {
              "color": "white"
             }
            },
            "header": {
             "fill": {
              "color": "#C8D4E3"
             },
             "line": {
              "color": "white"
             }
            },
            "type": "table"
           }
          ]
         },
         "layout": {
          "annotationdefaults": {
           "arrowcolor": "#2a3f5f",
           "arrowhead": 0,
           "arrowwidth": 1
          },
          "autotypenumbers": "strict",
          "coloraxis": {
           "colorbar": {
            "outlinewidth": 0,
            "ticks": ""
           }
          },
          "colorscale": {
           "diverging": [
            [
             0,
             "#8e0152"
            ],
            [
             0.1,
             "#c51b7d"
            ],
            [
             0.2,
             "#de77ae"
            ],
            [
             0.3,
             "#f1b6da"
            ],
            [
             0.4,
             "#fde0ef"
            ],
            [
             0.5,
             "#f7f7f7"
            ],
            [
             0.6,
             "#e6f5d0"
            ],
            [
             0.7,
             "#b8e186"
            ],
            [
             0.8,
             "#7fbc41"
            ],
            [
             0.9,
             "#4d9221"
            ],
            [
             1,
             "#276419"
            ]
           ],
           "sequential": [
            [
             0,
             "#0d0887"
            ],
            [
             0.1111111111111111,
             "#46039f"
            ],
            [
             0.2222222222222222,
             "#7201a8"
            ],
            [
             0.3333333333333333,
             "#9c179e"
            ],
            [
             0.4444444444444444,
             "#bd3786"
            ],
            [
             0.5555555555555556,
             "#d8576b"
            ],
            [
             0.6666666666666666,
             "#ed7953"
            ],
            [
             0.7777777777777778,
             "#fb9f3a"
            ],
            [
             0.8888888888888888,
             "#fdca26"
            ],
            [
             1,
             "#f0f921"
            ]
           ],
           "sequentialminus": [
            [
             0,
             "#0d0887"
            ],
            [
             0.1111111111111111,
             "#46039f"
            ],
            [
             0.2222222222222222,
             "#7201a8"
            ],
            [
             0.3333333333333333,
             "#9c179e"
            ],
            [
             0.4444444444444444,
             "#bd3786"
            ],
            [
             0.5555555555555556,
             "#d8576b"
            ],
            [
             0.6666666666666666,
             "#ed7953"
            ],
            [
             0.7777777777777778,
             "#fb9f3a"
            ],
            [
             0.8888888888888888,
             "#fdca26"
            ],
            [
             1,
             "#f0f921"
            ]
           ]
          },
          "colorway": [
           "#636efa",
           "#EF553B",
           "#00cc96",
           "#ab63fa",
           "#FFA15A",
           "#19d3f3",
           "#FF6692",
           "#B6E880",
           "#FF97FF",
           "#FECB52"
          ],
          "font": {
           "color": "#2a3f5f"
          },
          "geo": {
           "bgcolor": "white",
           "lakecolor": "white",
           "landcolor": "#E5ECF6",
           "showlakes": true,
           "showland": true,
           "subunitcolor": "white"
          },
          "hoverlabel": {
           "align": "left"
          },
          "hovermode": "closest",
          "mapbox": {
           "style": "light"
          },
          "paper_bgcolor": "white",
          "plot_bgcolor": "#E5ECF6",
          "polar": {
           "angularaxis": {
            "gridcolor": "white",
            "linecolor": "white",
            "ticks": ""
           },
           "bgcolor": "#E5ECF6",
           "radialaxis": {
            "gridcolor": "white",
            "linecolor": "white",
            "ticks": ""
           }
          },
          "scene": {
           "xaxis": {
            "backgroundcolor": "#E5ECF6",
            "gridcolor": "white",
            "gridwidth": 2,
            "linecolor": "white",
            "showbackground": true,
            "ticks": "",
            "zerolinecolor": "white"
           },
           "yaxis": {
            "backgroundcolor": "#E5ECF6",
            "gridcolor": "white",
            "gridwidth": 2,
            "linecolor": "white",
            "showbackground": true,
            "ticks": "",
            "zerolinecolor": "white"
           },
           "zaxis": {
            "backgroundcolor": "#E5ECF6",
            "gridcolor": "white",
            "gridwidth": 2,
            "linecolor": "white",
            "showbackground": true,
            "ticks": "",
            "zerolinecolor": "white"
           }
          },
          "shapedefaults": {
           "line": {
            "color": "#2a3f5f"
           }
          },
          "ternary": {
           "aaxis": {
            "gridcolor": "white",
            "linecolor": "white",
            "ticks": ""
           },
           "baxis": {
            "gridcolor": "white",
            "linecolor": "white",
            "ticks": ""
           },
           "bgcolor": "#E5ECF6",
           "caxis": {
            "gridcolor": "white",
            "linecolor": "white",
            "ticks": ""
           }
          },
          "title": {
           "x": 0.05
          },
          "xaxis": {
           "automargin": true,
           "gridcolor": "white",
           "linecolor": "white",
           "ticks": "",
           "title": {
            "standoff": 15
           },
           "zerolinecolor": "white",
           "zerolinewidth": 2
          },
          "yaxis": {
           "automargin": true,
           "gridcolor": "white",
           "linecolor": "white",
           "ticks": "",
           "title": {
            "standoff": 15
           },
           "zerolinecolor": "white",
           "zerolinewidth": 2
          }
         }
        },
        "title": {
         "text": "3D UMAP projection of player embeddings"
        },
        "width": 1000
       }
      },
      "image/png": "[encoded data removed]"
     },
     "metadata": {},
     "output_type": "display_data"
    }
   ],
   "source": [
    "import numpy as np\n",
    "import umap\n",
    "import matplotlib.pyplot as plt\n",
    "import plotly.graph_objs as go\n",
    "\n",
    "# Generate test embeddings and outcomes (replace these with actual data)\n",
    "labels_points = [f'{name}' for name in team_members_with_ids.values()]\n",
    "\n",
    "\n",
    "# Embed to 3D\n",
    "reducer = umap.UMAP(n_components=3, random_state=42)\n",
    "embeddings_3d = reducer.fit_transform(player_embeddings_wzp)\n",
    "\n",
    "x_emb = embeddings_3d[:, 0]\n",
    "y_emb = embeddings_3d[:, 1]\n",
    "z_emb = embeddings_3d[:, 2]\n",
    "\n",
    "x_min = np.min(x_emb)\n",
    "x_max = np.max(x_emb)\n",
    "y_min = np.min(y_emb)\n",
    "y_max = np.max(y_emb)\n",
    "z_min = np.min(z_emb)\n",
    "z_max = np.max(z_emb)\n",
    "\n",
    "# Create interactive 3D scatter plot\n",
    "scatter = go.Scatter3d(\n",
    "        x=x_emb,\n",
    "        y=y_emb,\n",
    "        z=z_emb,\n",
    "        # mode='markers',\n",
    "        mode='markers+text',\n",
    "        marker=dict(\n",
    "            size=7,\n",
    "            color=player_strengths_estimates_wzp,       # Color by this array\n",
    "            colorscale='Viridis',         # Choose a colorscale\n",
    "            colorbar=dict(title='Strength'),\n",
    "            opacity=0.8\n",
    "        ),\n",
    "        text=labels_points,          # Hover labels\n",
    "        hoverinfo='text'\n",
    "    )\n",
    "print(f\"x_min: {x_min} x_max: {x_max}\")\n",
    "print(f\"y_min: {y_min} y_max: {y_max}\")\n",
    "print(f\"z_min: {z_min} z_max: {z_max}\")\n",
    "\n",
    "\n",
    "# Define the 3 corners of the triangle in 3D\n",
    "x_m = [x_min, x_min, x_max, x_max,]  # Replace with your corner x coordinates\n",
    "y_m = [y_min ,y_max, y_max, y_min]  # Replace with your corner y coordinates\n",
    "z_m = [(z_max + z_min) / 2 , z_min, (z_max + z_min) / 2 , z_max]  # Replace with your corner z coordinates\n",
    "\n",
    "\n",
    "# Define two triangles that form the rhombus\n",
    "i = [0, 0]  # first vertices of triangles\n",
    "j = [1, 2]  # second vertices of triangles\n",
    "k = [2, 3]  # third vertices of triangles\n",
    "\n",
    "# Create the Mesh3d object representing the triangle surface\n",
    "triangle_surface = go.Mesh3d(\n",
    "    x=x_m,\n",
    "    y=y_m,\n",
    "    z=z_m,\n",
    "    i=i,\n",
    "    j=j,\n",
    "    k=k,\n",
    "    color='lightblue',\n",
    "    opacity=0.5,\n",
    "    name='Rhombus'\n",
    ")\n",
    "\n",
    "# fig = go.Figure(data=[scatter, quivers])\n",
    "fig = go.Figure(data=[triangle_surface, scatter])\n",
    "\n",
    "\n",
    "fig.update_layout(\n",
    "    title=\"3D UMAP projection of player embeddings\",\n",
    "    width=1000,             # <-- Change this to your desired width in pixels\n",
    "    height=900,  \n",
    "    scene=dict(\n",
    "        xaxis_title=\"X\",\n",
    "        yaxis_title=\"Y\",\n",
    "        zaxis_title=\"Z\"\n",
    "    )\n",
    ")\n",
    "\n",
    "fig.show()\n"
   ]
  },
  {
   "cell_type": "code",
   "execution_count": null,
   "id": "43cfc378-18ec-4cbf-baad-a436f9b8e7c1",
   "metadata": {},
   "outputs": [],
   "source": []
  },
  {
   "cell_type": "code",
   "execution_count": null,
   "id": "1fc6735e-7ef7-4bcb-9d39-5eee7bf47984",
   "metadata": {},
   "outputs": [],
   "source": []
  },
  {
   "cell_type": "code",
   "execution_count": null,
   "id": "62f51176-596f-4f32-bc3c-2d652f2ae248",
   "metadata": {},
   "outputs": [],
   "source": []
  },
  {
   "cell_type": "code",
   "execution_count": 56,
   "id": "321b79a0-2da7-457a-a6ef-6d6c07ce96d2",
   "metadata": {},
   "outputs": [
    {
     "name": "stdout",
     "output_type": "stream",
     "text": [
      "(31,)\n",
      "(31, 3)\n",
      "Dimension 1 correlation with base strengths: r = -0.0358, p-value = 0.8484\n",
      "Dimension 2 correlation with base strengths: r = 0.2901, p-value = 0.1134\n",
      "Dimension 3 correlation with base strengths: r = 0.3319, p-value = 0.06811\n",
      "Average absolute correlation across 3 components: 0.2193\n"
     ]
    }
   ],
   "source": [
    "import numpy as np\n",
    "from scipy.stats import pearsonr\n",
    "\n",
    "# Assuming these variables from your setup:\n",
    "# player_strengths: numpy array of shape (num_players,)\n",
    "# embeddings_3d: numpy array of shape (num_players, 3) -- UMAP 3D projections\n",
    "\n",
    "num_players = player_strengths_estimates_wzp.shape[0] # NUM_PLAYERS ???\n",
    "correlations = []\n",
    "print(player_strengths_estimates_wzp.shape)\n",
    "print(embeddings_3d.shape)\n",
    "for dim in range(3):\n",
    "    corr, p_value = pearsonr(embeddings_3d[:, dim], player_strengths_estimates_wzp)\n",
    "    correlations.append((corr, p_value))\n",
    "    print(f\"Dimension {dim + 1} correlation with base strengths: r = {corr:.4f}, p-value = {p_value:.4g}\")\n",
    "\n",
    "# Optionally, compute average absolute correlation across all 3 dimensions\n",
    "avg_abs_corr = np.mean([abs(c[0]) for c in correlations])\n",
    "print(f\"Average absolute correlation across 3 components: {avg_abs_corr:.4f}\")\n"
   ]
  },
  {
   "cell_type": "markdown",
   "id": "f82155eb-96be-48d2-9ba8-b60f3850d3e0",
   "metadata": {},
   "source": [
    "## SHAP explanations"
   ]
  },
  {
   "cell_type": "code",
   "execution_count": 57,
   "id": "b220ad3d-c4fc-4f59-9d53-6849a6a812f6",
   "metadata": {},
   "outputs": [
    {
     "data": {
      "text/plain": [
       "'0.48.0'"
      ]
     },
     "execution_count": 57,
     "metadata": {},
     "output_type": "execute_result"
    }
   ],
   "source": [
    "import shap\n",
    "shap.__version__"
   ]
  },
  {
   "cell_type": "code",
   "execution_count": 58,
   "id": "890c9771-17f9-4081-8e0c-18315ab7cf41",
   "metadata": {
    "collapsed": true,
    "jupyter": {
     "outputs_hidden": true,
     "source_hidden": true
    }
   },
   "outputs": [
    {
     "name": "stdout",
     "output_type": "stream",
     "text": [
      "(2, 19, 9)\n",
      "[array([[17,  1,  4, 22, 13,  0,  0,  0,  0],\n",
      "       [12, 16,  2, 14,  6,  4,  0,  0,  0],\n",
      "       [ 6, 12, 17,  2, 19, 30,  0,  0,  0],\n",
      "       [13, 18,  3, 16, 21,  4, 15,  1,  0],\n",
      "       [ 2, 17, 12,  8, 21,  0,  0,  0,  0],\n",
      "       [13, 20, 17,  3,  5,  1, 12, 24,  0],\n",
      "       [ 3, 15, 12,  1, 17,  8,  0,  0,  0],\n",
      "       [16,  5,  1, 17, 15, 10,  0,  0,  0],\n",
      "       [17, 27,  3, 16,  4, 28,  2,  0,  0],\n",
      "       [ 3, 21,  1, 17,  6,  0,  0,  0,  0],\n",
      "       [ 2,  5, 21, 23, 17,  0,  0,  0,  0],\n",
      "       [17, 24, 12, 11,  3,  8, 12, 14,  0],\n",
      "       [12,  1,  2, 13, 23, 14, 18,  0,  0],\n",
      "       [ 3, 16,  2,  4, 17, 19, 12, 23, 10],\n",
      "       [16,  9,  1, 18,  3,  2, 12, 20,  0],\n",
      "       [12,  2, 13,  1,  4,  9,  8,  6,  0],\n",
      "       [17, 22, 20, 10,  5,  7,  0,  0,  0],\n",
      "       [20,  7, 12,  2,  1,  9, 10, 18,  0],\n",
      "       [15, 17, 13,  1,  3,  2,  4,  0,  0]]), array([[19,  2, 16,  5, 14,  0,  0,  0,  0],\n",
      "       [27, 17,  3, 30, 18,  1,  0,  0,  0],\n",
      "       [16,  3,  8,  1, 10,  9,  0,  0,  0],\n",
      "       [ 2, 17, 24, 19, 27, 31, 12,  8,  0],\n",
      "       [ 1, 16,  9, 27, 15,  0,  0,  0,  0],\n",
      "       [16, 31,  6, 18,  2, 21, 23,  4,  0],\n",
      "       [16,  4,  6, 20, 27,  2,  0,  0,  0],\n",
      "       [23, 28,  2, 18, 12, 19,  0,  0,  0],\n",
      "       [20, 18, 13, 21,  6, 12,  1,  0,  0],\n",
      "       [16, 15,  2, 12, 14,  0,  0,  0,  0],\n",
      "       [13, 12, 22,  1,  6,  0,  0,  0,  0],\n",
      "       [ 4,  1,  2,  5, 23, 18, 28,  9,  0],\n",
      "       [20,  5, 19, 16,  3,  4, 17,  0,  0],\n",
      "       [13,  7,  1,  5, 18, 11, 29,  6, 22],\n",
      "       [13,  5, 17, 14,  7,  6,  8, 23,  0],\n",
      "       [14, 16,  7,  5, 18,  3, 17, 11,  0],\n",
      "       [16,  2, 28,  3, 18, 15,  0,  0,  0],\n",
      "       [17,  4, 13, 16, 15,  8, 14,  3,  0],\n",
      "       [11, 12, 14,  1,  6, 16, 27,  0,  0]])]\n"
     ]
    }
   ],
   "source": [
    "background = X\n",
    "print(np.array(background).shape)\n",
    "print(background) "
   ]
  },
  {
   "cell_type": "code",
   "execution_count": 59,
   "id": "627ee303-ae37-4445-9c43-f1b6013e3b34",
   "metadata": {},
   "outputs": [
    {
     "data": {
      "text/plain": [
       "(19, 18)"
      ]
     },
     "execution_count": 59,
     "metadata": {},
     "output_type": "execute_result"
    }
   ],
   "source": [
    "combined_background = np.concatenate(background, axis=1)  \n",
    "combined_background.shape"
   ]
  },
  {
   "cell_type": "code",
   "execution_count": 72,
   "id": "b5f6ca80-39da-4e6f-9bce-7690b1e10de2",
   "metadata": {
    "jupyter": {
     "source_hidden": true
    }
   },
   "outputs": [
    {
     "name": "stdout",
     "output_type": "stream",
     "text": [
      "\u001b[1m1/1\u001b[0m \u001b[32m━━━━━━━━━━━━━━━━━━━━\u001b[0m\u001b[37m\u001b[0m \u001b[1m0s\u001b[0m 39ms/step\n"
     ]
    },
    {
     "name": "stderr",
     "output_type": "stream",
     "text": [
      "2025-08-06 19:43:57.702208: E tensorflow/core/framework/node_def_util.cc:676] NodeDef mentions attribute use_unbounded_threadpool which is not in the op definition: Op<name=MapDataset; signature=input_dataset:variant, other_arguments: -> handle:variant; attr=f:func; attr=Targuments:list(type),min=0; attr=output_types:list(type),min=1; attr=output_shapes:list(shape),min=1; attr=use_inter_op_parallelism:bool,default=true; attr=preserve_cardinality:bool,default=false; attr=force_synchronous:bool,default=false; attr=metadata:string,default=\"\"> This may be expected if your graph generating binary is newer  than this binary. Unknown attributes will be ignored. NodeDef: {{node ParallelMapDatasetV2/_15}}\n",
      "2025-08-06 19:43:57.702702: E tensorflow/core/framework/node_def_util.cc:676] NodeDef mentions attribute use_unbounded_threadpool which is not in the op definition: Op<name=MapDataset; signature=input_dataset:variant, other_arguments: -> handle:variant; attr=f:func; attr=Targuments:list(type),min=0; attr=output_types:list(type),min=1; attr=output_shapes:list(shape),min=1; attr=use_inter_op_parallelism:bool,default=true; attr=preserve_cardinality:bool,default=false; attr=force_synchronous:bool,default=false; attr=metadata:string,default=\"\"> This may be expected if your graph generating binary is newer  than this binary. Unknown attributes will be ignored. NodeDef: {{node ParallelMapDatasetV2/_15}}\n"
     ]
    },
    {
     "name": "stdout",
     "output_type": "stream",
     "text": [
      "(19, 1)\n",
      "(19, 18)\n"
     ]
    },
    {
     "name": "stderr",
     "output_type": "stream",
     "text": [
      "  0%|                                                                                                                                                                                    | 0/19 [00:00<?, ?it/s]"
     ]
    },
    {
     "name": "stdout",
     "output_type": "stream",
     "text": [
      "\u001b[1m1/1\u001b[0m \u001b[32m━━━━━━━━━━━━━━━━━━━━\u001b[0m\u001b[37m\u001b[0m \u001b[1m0s\u001b[0m 15ms/step\n",
      "(1, 1)\n",
      "(1, 18)\n",
      "\u001b[1m1238/1238\u001b[0m \u001b[32m━━━━━━━━━━━━━━━━━━━━\u001b[0m\u001b[37m\u001b[0m \u001b[1m1s\u001b[0m 1ms/step\n"
     ]
    },
    {
     "name": "stderr",
     "output_type": "stream",
     "text": [
      "  5%|█████████                                                                                                                                                                   | 1/19 [00:01<00:29,  1.62s/it]"
     ]
    },
    {
     "name": "stdout",
     "output_type": "stream",
     "text": [
      "(39596, 1)\n",
      "(39596, 18)\n",
      "\u001b[1m1/1\u001b[0m \u001b[32m━━━━━━━━━━━━━━━━━━━━\u001b[0m\u001b[37m\u001b[0m \u001b[1m0s\u001b[0m 14ms/step\n",
      "(1, 1)\n",
      "(1, 18)\n",
      "\u001b[1m1238/1238\u001b[0m \u001b[32m━━━━━━━━━━━━━━━━━━━━\u001b[0m\u001b[37m\u001b[0m \u001b[1m1s\u001b[0m 1ms/step\n",
      "(39596, 1)\n",
      "(39596, 18)\n"
     ]
    },
    {
     "name": "stderr",
     "output_type": "stream",
     "text": [
      " 11%|██████████████████                                                                                                                                                          | 2/19 [00:03<00:27,  1.62s/it]"
     ]
    },
    {
     "name": "stdout",
     "output_type": "stream",
     "text": [
      "\u001b[1m1/1\u001b[0m \u001b[32m━━━━━━━━━━━━━━━━━━━━\u001b[0m\u001b[37m\u001b[0m \u001b[1m0s\u001b[0m 14ms/step\n",
      "(1, 1)\n",
      "(1, 18)\n",
      "\u001b[1m1238/1238\u001b[0m \u001b[32m━━━━━━━━━━━━━━━━━━━━\u001b[0m\u001b[37m\u001b[0m \u001b[1m1s\u001b[0m 1ms/step\n"
     ]
    },
    {
     "name": "stderr",
     "output_type": "stream",
     "text": [
      " 16%|███████████████████████████▏                                                                                                                                                | 3/19 [00:04<00:25,  1.61s/it]"
     ]
    },
    {
     "name": "stdout",
     "output_type": "stream",
     "text": [
      "(39596, 1)\n",
      "(39596, 18)\n",
      "\u001b[1m1/1\u001b[0m \u001b[32m━━━━━━━━━━━━━━━━━━━━\u001b[0m\u001b[37m\u001b[0m \u001b[1m0s\u001b[0m 14ms/step\n",
      "(1, 1)\n",
      "(1, 18)\n",
      "\u001b[1m1238/1238\u001b[0m \u001b[32m━━━━━━━━━━━━━━━━━━━━\u001b[0m\u001b[37m\u001b[0m \u001b[1m1s\u001b[0m 1ms/step\n",
      "(39596, 1)\n",
      "(39596, 18)\n"
     ]
    },
    {
     "name": "stderr",
     "output_type": "stream",
     "text": [
      " 21%|████████████████████████████████████▏                                                                                                                                       | 4/19 [00:06<00:24,  1.65s/it]"
     ]
    },
    {
     "name": "stdout",
     "output_type": "stream",
     "text": [
      "\u001b[1m1/1\u001b[0m \u001b[32m━━━━━━━━━━━━━━━━━━━━\u001b[0m\u001b[37m\u001b[0m \u001b[1m0s\u001b[0m 14ms/step\n",
      "(1, 1)\n",
      "(1, 18)\n",
      "\u001b[1m  85/1238\u001b[0m \u001b[32m━\u001b[0m\u001b[37m━━━━━━━━━━━━━━━━━━━\u001b[0m \u001b[1m1s\u001b[0m 1ms/step"
     ]
    },
    {
     "name": "stderr",
     "output_type": "stream",
     "text": [
      "2025-08-06 19:44:04.313758: E tensorflow/core/framework/node_def_util.cc:676] NodeDef mentions attribute use_unbounded_threadpool which is not in the op definition: Op<name=MapDataset; signature=input_dataset:variant, other_arguments: -> handle:variant; attr=f:func; attr=Targuments:list(type),min=0; attr=output_types:list(type),min=1; attr=output_shapes:list(shape),min=1; attr=use_inter_op_parallelism:bool,default=true; attr=preserve_cardinality:bool,default=false; attr=force_synchronous:bool,default=false; attr=metadata:string,default=\"\"> This may be expected if your graph generating binary is newer  than this binary. Unknown attributes will be ignored. NodeDef: {{node ParallelMapDatasetV2/_15}}\n",
      "2025-08-06 19:44:04.314005: E tensorflow/core/framework/node_def_util.cc:676] NodeDef mentions attribute use_unbounded_threadpool which is not in the op definition: Op<name=MapDataset; signature=input_dataset:variant, other_arguments: -> handle:variant; attr=f:func; attr=Targuments:list(type),min=0; attr=output_types:list(type),min=1; attr=output_shapes:list(shape),min=1; attr=use_inter_op_parallelism:bool,default=true; attr=preserve_cardinality:bool,default=false; attr=force_synchronous:bool,default=false; attr=metadata:string,default=\"\"> This may be expected if your graph generating binary is newer  than this binary. Unknown attributes will be ignored. NodeDef: {{node ParallelMapDatasetV2/_15}}\n"
     ]
    },
    {
     "name": "stdout",
     "output_type": "stream",
     "text": [
      "\u001b[1m1238/1238\u001b[0m \u001b[32m━━━━━━━━━━━━━━━━━━━━\u001b[0m\u001b[37m\u001b[0m \u001b[1m1s\u001b[0m 1ms/step\n"
     ]
    },
    {
     "name": "stderr",
     "output_type": "stream",
     "text": [
      " 26%|█████████████████████████████████████████████▎                                                                                                                              | 5/19 [00:08<00:23,  1.66s/it]"
     ]
    },
    {
     "name": "stdout",
     "output_type": "stream",
     "text": [
      "(39596, 1)\n",
      "(39596, 18)\n",
      "\u001b[1m1/1\u001b[0m \u001b[32m━━━━━━━━━━━━━━━━━━━━\u001b[0m\u001b[37m\u001b[0m \u001b[1m0s\u001b[0m 14ms/step\n",
      "(1, 1)\n",
      "(1, 18)\n",
      "\u001b[1m1238/1238\u001b[0m \u001b[32m━━━━━━━━━━━━━━━━━━━━\u001b[0m\u001b[37m\u001b[0m \u001b[1m1s\u001b[0m 1ms/step\n"
     ]
    },
    {
     "name": "stderr",
     "output_type": "stream",
     "text": [
      " 32%|██████████████████████████████████████████████████████▎                                                                                                                     | 6/19 [00:09<00:21,  1.67s/it]"
     ]
    },
    {
     "name": "stdout",
     "output_type": "stream",
     "text": [
      "(39596, 1)\n",
      "(39596, 18)\n",
      "\u001b[1m1/1\u001b[0m \u001b[32m━━━━━━━━━━━━━━━━━━━━\u001b[0m\u001b[37m\u001b[0m \u001b[1m0s\u001b[0m 14ms/step\n",
      "(1, 1)\n",
      "(1, 18)\n",
      "\u001b[1m1238/1238\u001b[0m \u001b[32m━━━━━━━━━━━━━━━━━━━━\u001b[0m\u001b[37m\u001b[0m \u001b[1m1s\u001b[0m 1ms/step\n"
     ]
    },
    {
     "name": "stderr",
     "output_type": "stream",
     "text": [
      " 37%|███████████████████████████████████████████████████████████████▎                                                                                                            | 7/19 [00:11<00:20,  1.68s/it]"
     ]
    },
    {
     "name": "stdout",
     "output_type": "stream",
     "text": [
      "(39596, 1)\n",
      "(39596, 18)\n",
      "\u001b[1m1/1\u001b[0m \u001b[32m━━━━━━━━━━━━━━━━━━━━\u001b[0m\u001b[37m\u001b[0m \u001b[1m0s\u001b[0m 14ms/step\n",
      "(1, 1)\n",
      "(1, 18)\n",
      "\u001b[1m  86/1238\u001b[0m \u001b[32m━\u001b[0m\u001b[37m━━━━━━━━━━━━━━━━━━━\u001b[0m \u001b[1m1s\u001b[0m 1ms/step"
     ]
    },
    {
     "name": "stderr",
     "output_type": "stream",
     "text": [
      "2025-08-06 19:44:09.361783: E tensorflow/core/framework/node_def_util.cc:676] NodeDef mentions attribute use_unbounded_threadpool which is not in the op definition: Op<name=MapDataset; signature=input_dataset:variant, other_arguments: -> handle:variant; attr=f:func; attr=Targuments:list(type),min=0; attr=output_types:list(type),min=1; attr=output_shapes:list(shape),min=1; attr=use_inter_op_parallelism:bool,default=true; attr=preserve_cardinality:bool,default=false; attr=force_synchronous:bool,default=false; attr=metadata:string,default=\"\"> This may be expected if your graph generating binary is newer  than this binary. Unknown attributes will be ignored. NodeDef: {{node ParallelMapDatasetV2/_15}}\n",
      "2025-08-06 19:44:09.362034: E tensorflow/core/framework/node_def_util.cc:676] NodeDef mentions attribute use_unbounded_threadpool which is not in the op definition: Op<name=MapDataset; signature=input_dataset:variant, other_arguments: -> handle:variant; attr=f:func; attr=Targuments:list(type),min=0; attr=output_types:list(type),min=1; attr=output_shapes:list(shape),min=1; attr=use_inter_op_parallelism:bool,default=true; attr=preserve_cardinality:bool,default=false; attr=force_synchronous:bool,default=false; attr=metadata:string,default=\"\"> This may be expected if your graph generating binary is newer  than this binary. Unknown attributes will be ignored. NodeDef: {{node ParallelMapDatasetV2/_15}}\n"
     ]
    },
    {
     "name": "stdout",
     "output_type": "stream",
     "text": [
      "\u001b[1m1238/1238\u001b[0m \u001b[32m━━━━━━━━━━━━━━━━━━━━\u001b[0m\u001b[37m\u001b[0m \u001b[1m1s\u001b[0m 1ms/step\n"
     ]
    },
    {
     "name": "stderr",
     "output_type": "stream",
     "text": [
      " 42%|████████████████████████████████████████████████████████████████████████▍                                                                                                   | 8/19 [00:13<00:18,  1.67s/it]"
     ]
    },
    {
     "name": "stdout",
     "output_type": "stream",
     "text": [
      "(39596, 1)\n",
      "(39596, 18)\n",
      "\u001b[1m1/1\u001b[0m \u001b[32m━━━━━━━━━━━━━━━━━━━━\u001b[0m\u001b[37m\u001b[0m \u001b[1m0s\u001b[0m 14ms/step\n",
      "(1, 1)\n",
      "(1, 18)\n",
      "\u001b[1m1238/1238\u001b[0m \u001b[32m━━━━━━━━━━━━━━━━━━━━\u001b[0m\u001b[37m\u001b[0m \u001b[1m1s\u001b[0m 1ms/step\n"
     ]
    },
    {
     "name": "stderr",
     "output_type": "stream",
     "text": [
      " 47%|█████████████████████████████████████████████████████████████████████████████████▍                                                                                          | 9/19 [00:14<00:16,  1.67s/it]"
     ]
    },
    {
     "name": "stdout",
     "output_type": "stream",
     "text": [
      "(39596, 1)\n",
      "(39596, 18)\n",
      "\u001b[1m1/1\u001b[0m \u001b[32m━━━━━━━━━━━━━━━━━━━━\u001b[0m\u001b[37m\u001b[0m \u001b[1m0s\u001b[0m 14ms/step\n",
      "(1, 1)\n",
      "(1, 18)\n",
      "\u001b[1m1238/1238\u001b[0m \u001b[32m━━━━━━━━━━━━━━━━━━━━\u001b[0m\u001b[37m\u001b[0m \u001b[1m1s\u001b[0m 1ms/step\n"
     ]
    },
    {
     "name": "stderr",
     "output_type": "stream",
     "text": [
      " 53%|██████████████████████████████████████████████████████████████████████████████████████████                                                                                 | 10/19 [00:16<00:15,  1.68s/it]"
     ]
    },
    {
     "name": "stdout",
     "output_type": "stream",
     "text": [
      "(39596, 1)\n",
      "(39596, 18)\n",
      "\u001b[1m1/1\u001b[0m \u001b[32m━━━━━━━━━━━━━━━━━━━━\u001b[0m\u001b[37m\u001b[0m \u001b[1m0s\u001b[0m 14ms/step\n",
      "(1, 1)\n",
      "(1, 18)\n",
      "\u001b[1m  84/1238\u001b[0m \u001b[32m━\u001b[0m\u001b[37m━━━━━━━━━━━━━━━━━━━\u001b[0m \u001b[1m1s\u001b[0m 1ms/step"
     ]
    },
    {
     "name": "stderr",
     "output_type": "stream",
     "text": [
      "2025-08-06 19:44:14.377804: E tensorflow/core/framework/node_def_util.cc:676] NodeDef mentions attribute use_unbounded_threadpool which is not in the op definition: Op<name=MapDataset; signature=input_dataset:variant, other_arguments: -> handle:variant; attr=f:func; attr=Targuments:list(type),min=0; attr=output_types:list(type),min=1; attr=output_shapes:list(shape),min=1; attr=use_inter_op_parallelism:bool,default=true; attr=preserve_cardinality:bool,default=false; attr=force_synchronous:bool,default=false; attr=metadata:string,default=\"\"> This may be expected if your graph generating binary is newer  than this binary. Unknown attributes will be ignored. NodeDef: {{node ParallelMapDatasetV2/_15}}\n",
      "2025-08-06 19:44:14.378059: E tensorflow/core/framework/node_def_util.cc:676] NodeDef mentions attribute use_unbounded_threadpool which is not in the op definition: Op<name=MapDataset; signature=input_dataset:variant, other_arguments: -> handle:variant; attr=f:func; attr=Targuments:list(type),min=0; attr=output_types:list(type),min=1; attr=output_shapes:list(shape),min=1; attr=use_inter_op_parallelism:bool,default=true; attr=preserve_cardinality:bool,default=false; attr=force_synchronous:bool,default=false; attr=metadata:string,default=\"\"> This may be expected if your graph generating binary is newer  than this binary. Unknown attributes will be ignored. NodeDef: {{node ParallelMapDatasetV2/_15}}\n"
     ]
    },
    {
     "name": "stdout",
     "output_type": "stream",
     "text": [
      "\u001b[1m1238/1238\u001b[0m \u001b[32m━━━━━━━━━━━━━━━━━━━━\u001b[0m\u001b[37m\u001b[0m \u001b[1m1s\u001b[0m 1ms/step\n"
     ]
    },
    {
     "name": "stderr",
     "output_type": "stream",
     "text": [
      " 58%|███████████████████████████████████████████████████████████████████████████████████████████████████                                                                        | 11/19 [00:18<00:13,  1.68s/it]"
     ]
    },
    {
     "name": "stdout",
     "output_type": "stream",
     "text": [
      "(39596, 1)\n",
      "(39596, 18)\n",
      "\u001b[1m1/1\u001b[0m \u001b[32m━━━━━━━━━━━━━━━━━━━━\u001b[0m\u001b[37m\u001b[0m \u001b[1m0s\u001b[0m 14ms/step\n",
      "(1, 1)\n",
      "(1, 18)\n",
      "\u001b[1m1238/1238\u001b[0m \u001b[32m━━━━━━━━━━━━━━━━━━━━\u001b[0m\u001b[37m\u001b[0m \u001b[1m2s\u001b[0m 1ms/step\n",
      "(39596, 1)\n",
      "(39596, 18)\n"
     ]
    },
    {
     "name": "stderr",
     "output_type": "stream",
     "text": [
      " 63%|████████████████████████████████████████████████████████████████████████████████████████████████████████████                                                               | 12/19 [00:20<00:11,  1.71s/it]"
     ]
    },
    {
     "name": "stdout",
     "output_type": "stream",
     "text": [
      "\u001b[1m1/1\u001b[0m \u001b[32m━━━━━━━━━━━━━━━━━━━━\u001b[0m\u001b[37m\u001b[0m \u001b[1m0s\u001b[0m 14ms/step\n",
      "(1, 1)\n",
      "(1, 18)\n",
      "\u001b[1m1238/1238\u001b[0m \u001b[32m━━━━━━━━━━━━━━━━━━━━\u001b[0m\u001b[37m\u001b[0m \u001b[1m1s\u001b[0m 1ms/step\n"
     ]
    },
    {
     "name": "stderr",
     "output_type": "stream",
     "text": [
      " 68%|█████████████████████████████████████████████████████████████████████████████████████████████████████████████████████                                                      | 13/19 [00:21<00:10,  1.70s/it]"
     ]
    },
    {
     "name": "stdout",
     "output_type": "stream",
     "text": [
      "(39596, 1)\n",
      "(39596, 18)\n",
      "\u001b[1m1/1\u001b[0m \u001b[32m━━━━━━━━━━━━━━━━━━━━\u001b[0m\u001b[37m\u001b[0m \u001b[1m0s\u001b[0m 13ms/step\n",
      "(1, 1)\n",
      "(1, 18)\n",
      "\u001b[1m  85/1238\u001b[0m \u001b[32m━\u001b[0m\u001b[37m━━━━━━━━━━━━━━━━━━━\u001b[0m \u001b[1m1s\u001b[0m 1ms/step"
     ]
    },
    {
     "name": "stderr",
     "output_type": "stream",
     "text": [
      "2025-08-06 19:44:19.541105: E tensorflow/core/framework/node_def_util.cc:676] NodeDef mentions attribute use_unbounded_threadpool which is not in the op definition: Op<name=MapDataset; signature=input_dataset:variant, other_arguments: -> handle:variant; attr=f:func; attr=Targuments:list(type),min=0; attr=output_types:list(type),min=1; attr=output_shapes:list(shape),min=1; attr=use_inter_op_parallelism:bool,default=true; attr=preserve_cardinality:bool,default=false; attr=force_synchronous:bool,default=false; attr=metadata:string,default=\"\"> This may be expected if your graph generating binary is newer  than this binary. Unknown attributes will be ignored. NodeDef: {{node ParallelMapDatasetV2/_15}}\n",
      "2025-08-06 19:44:19.541319: E tensorflow/core/framework/node_def_util.cc:676] NodeDef mentions attribute use_unbounded_threadpool which is not in the op definition: Op<name=MapDataset; signature=input_dataset:variant, other_arguments: -> handle:variant; attr=f:func; attr=Targuments:list(type),min=0; attr=output_types:list(type),min=1; attr=output_shapes:list(shape),min=1; attr=use_inter_op_parallelism:bool,default=true; attr=preserve_cardinality:bool,default=false; attr=force_synchronous:bool,default=false; attr=metadata:string,default=\"\"> This may be expected if your graph generating binary is newer  than this binary. Unknown attributes will be ignored. NodeDef: {{node ParallelMapDatasetV2/_15}}\n"
     ]
    },
    {
     "name": "stdout",
     "output_type": "stream",
     "text": [
      "\u001b[1m1238/1238\u001b[0m \u001b[32m━━━━━━━━━━━━━━━━━━━━\u001b[0m\u001b[37m\u001b[0m \u001b[1m1s\u001b[0m 1ms/step\n"
     ]
    },
    {
     "name": "stderr",
     "output_type": "stream",
     "text": [
      " 74%|██████████████████████████████████████████████████████████████████████████████████████████████████████████████████████████████                                             | 14/19 [00:23<00:08,  1.70s/it]"
     ]
    },
    {
     "name": "stdout",
     "output_type": "stream",
     "text": [
      "(39596, 1)\n",
      "(39596, 18)\n",
      "\u001b[1m1/1\u001b[0m \u001b[32m━━━━━━━━━━━━━━━━━━━━\u001b[0m\u001b[37m\u001b[0m \u001b[1m0s\u001b[0m 14ms/step\n",
      "(1, 1)\n",
      "(1, 18)\n",
      "\u001b[1m1238/1238\u001b[0m \u001b[32m━━━━━━━━━━━━━━━━━━━━\u001b[0m\u001b[37m\u001b[0m \u001b[1m1s\u001b[0m 1ms/step\n"
     ]
    },
    {
     "name": "stderr",
     "output_type": "stream",
     "text": [
      " 79%|███████████████████████████████████████████████████████████████████████████████████████████████████████████████████████████████████████                                    | 15/19 [00:25<00:06,  1.69s/it]"
     ]
    },
    {
     "name": "stdout",
     "output_type": "stream",
     "text": [
      "(39596, 1)\n",
      "(39596, 18)\n",
      "\u001b[1m1/1\u001b[0m \u001b[32m━━━━━━━━━━━━━━━━━━━━\u001b[0m\u001b[37m\u001b[0m \u001b[1m0s\u001b[0m 14ms/step\n",
      "(1, 1)\n",
      "(1, 18)\n",
      "\u001b[1m1238/1238\u001b[0m \u001b[32m━━━━━━━━━━━━━━━━━━━━\u001b[0m\u001b[37m\u001b[0m \u001b[1m1s\u001b[0m 1ms/step\n"
     ]
    },
    {
     "name": "stderr",
     "output_type": "stream",
     "text": [
      " 84%|████████████████████████████████████████████████████████████████████████████████████████████████████████████████████████████████████████████████                           | 16/19 [00:26<00:05,  1.67s/it]"
     ]
    },
    {
     "name": "stdout",
     "output_type": "stream",
     "text": [
      "(39596, 1)\n",
      "(39596, 18)\n",
      "\u001b[1m1/1\u001b[0m \u001b[32m━━━━━━━━━━━━━━━━━━━━\u001b[0m\u001b[37m\u001b[0m \u001b[1m0s\u001b[0m 14ms/step\n",
      "(1, 1)\n",
      "(1, 18)\n",
      "\u001b[1m  81/1238\u001b[0m \u001b[32m━\u001b[0m\u001b[37m━━━━━━━━━━━━━━━━━━━\u001b[0m \u001b[1m1s\u001b[0m 1ms/step"
     ]
    },
    {
     "name": "stderr",
     "output_type": "stream",
     "text": [
      "2025-08-06 19:44:24.569239: E tensorflow/core/framework/node_def_util.cc:676] NodeDef mentions attribute use_unbounded_threadpool which is not in the op definition: Op<name=MapDataset; signature=input_dataset:variant, other_arguments: -> handle:variant; attr=f:func; attr=Targuments:list(type),min=0; attr=output_types:list(type),min=1; attr=output_shapes:list(shape),min=1; attr=use_inter_op_parallelism:bool,default=true; attr=preserve_cardinality:bool,default=false; attr=force_synchronous:bool,default=false; attr=metadata:string,default=\"\"> This may be expected if your graph generating binary is newer  than this binary. Unknown attributes will be ignored. NodeDef: {{node ParallelMapDatasetV2/_15}}\n",
      "2025-08-06 19:44:24.569459: E tensorflow/core/framework/node_def_util.cc:676] NodeDef mentions attribute use_unbounded_threadpool which is not in the op definition: Op<name=MapDataset; signature=input_dataset:variant, other_arguments: -> handle:variant; attr=f:func; attr=Targuments:list(type),min=0; attr=output_types:list(type),min=1; attr=output_shapes:list(shape),min=1; attr=use_inter_op_parallelism:bool,default=true; attr=preserve_cardinality:bool,default=false; attr=force_synchronous:bool,default=false; attr=metadata:string,default=\"\"> This may be expected if your graph generating binary is newer  than this binary. Unknown attributes will be ignored. NodeDef: {{node ParallelMapDatasetV2/_15}}\n"
     ]
    },
    {
     "name": "stdout",
     "output_type": "stream",
     "text": [
      "\u001b[1m1238/1238\u001b[0m \u001b[32m━━━━━━━━━━━━━━━━━━━━\u001b[0m\u001b[37m\u001b[0m \u001b[1m1s\u001b[0m 1ms/step\n"
     ]
    },
    {
     "name": "stderr",
     "output_type": "stream",
     "text": [
      " 89%|█████████████████████████████████████████████████████████████████████████████████████████████████████████████████████████████████████████████████████████                  | 17/19 [00:28<00:03,  1.69s/it]"
     ]
    },
    {
     "name": "stdout",
     "output_type": "stream",
     "text": [
      "(39596, 1)\n",
      "(39596, 18)\n",
      "\u001b[1m1/1\u001b[0m \u001b[32m━━━━━━━━━━━━━━━━━━━━\u001b[0m\u001b[37m\u001b[0m \u001b[1m0s\u001b[0m 14ms/step\n",
      "(1, 1)\n",
      "(1, 18)\n",
      "\u001b[1m1238/1238\u001b[0m \u001b[32m━━━━━━━━━━━━━━━━━━━━\u001b[0m\u001b[37m\u001b[0m \u001b[1m2s\u001b[0m 1ms/step\n"
     ]
    },
    {
     "name": "stderr",
     "output_type": "stream",
     "text": [
      " 95%|██████████████████████████████████████████████████████████████████████████████████████████████████████████████████████████████████████████████████████████████████         | 18/19 [00:30<00:01,  1.70s/it]"
     ]
    },
    {
     "name": "stdout",
     "output_type": "stream",
     "text": [
      "(39596, 1)\n",
      "(39596, 18)\n",
      "\u001b[1m1/1\u001b[0m \u001b[32m━━━━━━━━━━━━━━━━━━━━\u001b[0m\u001b[37m\u001b[0m \u001b[1m0s\u001b[0m 14ms/step\n",
      "(1, 1)\n",
      "(1, 18)\n",
      "\u001b[1m1238/1238\u001b[0m \u001b[32m━━━━━━━━━━━━━━━━━━━━\u001b[0m\u001b[37m\u001b[0m \u001b[1m1s\u001b[0m 1ms/step\n"
     ]
    },
    {
     "name": "stderr",
     "output_type": "stream",
     "text": [
      "100%|███████████████████████████████████████████████████████████████████████████████████████████████████████████████████████████████████████████████████████████████████████████| 19/19 [00:31<00:00,  1.68s/it]"
     ]
    },
    {
     "name": "stdout",
     "output_type": "stream",
     "text": [
      "(39596, 1)\n",
      "(39596, 18)\n"
     ]
    },
    {
     "name": "stderr",
     "output_type": "stream",
     "text": [
      "\n"
     ]
    }
   ],
   "source": [
    "\n",
    "\n",
    "def model_wrapper(combined_input):\n",
    "    # combined_input.shape = (samples, d1 + d2)\n",
    "    \n",
    "    X1 = combined_input[:, :9]  # first d1 features\n",
    "    X2 = combined_input[:, 9:]  # remaining d2 features\n",
    "    \n",
    "    # Depending on the model input shape, possibly reshape if needed\n",
    "    # For example, if input expects 2D arrays directly, no reshape needed\n",
    "    # If input expects 3D or more, reshape here\n",
    "    \n",
    "    # Make prediction\n",
    "    preds = model.predict([X1, X2])\n",
    "    \n",
    "    # If preds is a list (multi-output), pick the output you want, e.g., the first one\n",
    "    if isinstance(preds, list):\n",
    "        print(preds[0].shape)\n",
    "        print(preds[1].shape)\n",
    "        preds = np.array(preds[0]) # concatenate np.array(preds[1])\n",
    "\n",
    "    # Ensure preds is a numpy array (or convert using .numpy() if tensor)\n",
    "    return preds\n",
    "\n",
    "# combined_background = np.concatenate(background, axis=1)  \n",
    "\n",
    "# Initialize the SHAP DeepExplainer\n",
    "explainer = shap.KernelExplainer(model_wrapper, combined_background)\n",
    "\n",
    "# Explain predictions for some test samples\n",
    "shap_values = explainer.shap_values(combined_background)\n"
   ]
  },
  {
   "cell_type": "code",
   "execution_count": 70,
   "id": "d24f2f2d-1d0b-4b55-8ef0-cabc069edefe",
   "metadata": {},
   "outputs": [
    {
     "data": {
      "text/plain": [
       "(19, 18, 18)"
      ]
     },
     "execution_count": 70,
     "metadata": {},
     "output_type": "execute_result"
    }
   ],
   "source": [
    "shap_values.shape"
   ]
  },
  {
   "cell_type": "code",
   "execution_count": 73,
   "id": "2494caaf-3c4a-4b42-981b-0e81095d6b5c",
   "metadata": {
    "collapsed": true,
    "jupyter": {
     "outputs_hidden": true
    }
   },
   "outputs": [
    {
     "name": "stdout",
     "output_type": "stream",
     "text": [
      "shap_contribs: [[ 0.03022836]\n",
      " [ 0.04266492]\n",
      " [ 0.09422577]\n",
      " [-0.0257669 ]\n",
      " [ 0.        ]\n",
      " [ 0.        ]\n",
      " [ 0.00485192]\n",
      " [ 0.        ]\n",
      " [ 0.        ]\n",
      " [ 0.08759948]\n",
      " [ 0.        ]\n",
      " [-0.01810956]\n",
      " [ 0.03899773]\n",
      " [ 0.073831  ]\n",
      " [ 0.01858673]\n",
      " [ 0.        ]\n",
      " [ 0.        ]\n",
      " [ 0.        ]] for game: [17  1  4 22 13  0  0  0  0 19  2 16  5 14  0  0  0  0]\n",
      "Mask contributed ( player: 0: idx: 6): shap_contribs: [0.00485192] for game: [17  1  4 22 13  0  0  0  0 19  2 16  5 14  0  0  0  0]\n",
      "Mask contributed ( player: 0: idx: 14): shap_contribs: [0.01858673] for game: [17  1  4 22 13  0  0  0  0 19  2 16  5 14  0  0  0  0]\n",
      "====================================================================================================\n",
      "shap_contribs: [[-0.03659318]\n",
      " [-0.04308682]\n",
      " [-0.05480817]\n",
      " [-0.02815471]\n",
      " [ 0.        ]\n",
      " [-0.01957258]\n",
      " [ 0.        ]\n",
      " [-0.01577051]\n",
      " [ 0.        ]\n",
      " [ 0.        ]\n",
      " [-0.06272592]\n",
      " [-0.03552123]\n",
      " [-0.06204766]\n",
      " [-0.02375579]\n",
      " [ 0.        ]\n",
      " [ 0.        ]\n",
      " [ 0.        ]\n",
      " [ 0.        ]] for game: [12 16  2 14  6  4  0  0  0 27 17  3 30 18  1  0  0  0]\n",
      "Mask contributed ( player: 0: idx: 7): shap_contribs: [-0.01577051] for game: [12 16  2 14  6  4  0  0  0 27 17  3 30 18  1  0  0  0]\n",
      "====================================================================================================\n",
      "shap_contribs: [[ 0.03106239]\n",
      " [-0.05445181]\n",
      " [ 0.12141322]\n",
      " [-0.0492419 ]\n",
      " [-0.01561404]\n",
      " [-0.10013731]\n",
      " [ 0.        ]\n",
      " [-0.01604838]\n",
      " [ 0.        ]\n",
      " [ 0.        ]\n",
      " [-0.08598321]\n",
      " [ 0.        ]\n",
      " [ 0.        ]\n",
      " [-0.03328485]\n",
      " [ 0.09251337]\n",
      " [ 0.        ]\n",
      " [ 0.        ]\n",
      " [ 0.        ]] for game: [ 6 12 17  2 19 30  0  0  0 16  3  8  1 10  9  0  0  0]\n",
      "Mask contributed ( player: 0: idx: 7): shap_contribs: [-0.01604838] for game: [ 6 12 17  2 19 30  0  0  0 16  3  8  1 10  9  0  0  0]\n",
      "====================================================================================================\n",
      "shap_contribs: [[ 0.02515474]\n",
      " [ 0.12751943]\n",
      " [ 0.03096029]\n",
      " [ 0.        ]\n",
      " [-0.07904595]\n",
      " [ 0.        ]\n",
      " [ 0.        ]\n",
      " [ 0.        ]\n",
      " [ 0.        ]\n",
      " [-0.04013855]\n",
      " [-0.05591512]\n",
      " [ 0.        ]\n",
      " [ 0.11325639]\n",
      " [ 0.07767858]\n",
      " [ 0.        ]\n",
      " [ 0.02044303]\n",
      " [ 0.01751346]\n",
      " [ 0.        ]] for game: [13 18  3 16 21  4 15  1  0  2 17 24 19 27 31 12  8  0]\n",
      "====================================================================================================\n",
      "shap_contribs: [[ 0.        ]\n",
      " [ 0.09138566]\n",
      " [-0.02740459]\n",
      " [-0.03284416]\n",
      " [-0.05076346]\n",
      " [ 0.        ]\n",
      " [-0.00879948]\n",
      " [-0.01000558]\n",
      " [ 0.        ]\n",
      " [-0.02963575]\n",
      " [ 0.        ]\n",
      " [ 0.0649156 ]\n",
      " [ 0.03734078]\n",
      " [ 0.01379382]\n",
      " [ 0.        ]\n",
      " [ 0.        ]\n",
      " [ 0.        ]\n",
      " [ 0.        ]] for game: [ 2 17 12  8 21  0  0  0  0  1 16  9 27 15  0  0  0  0]\n",
      "Mask contributed ( player: 0: idx: 6): shap_contribs: [-0.00879948] for game: [ 2 17 12  8 21  0  0  0  0  1 16  9 27 15  0  0  0  0]\n",
      "Mask contributed ( player: 0: idx: 7): shap_contribs: [-0.01000558] for game: [ 2 17 12  8 21  0  0  0  0  1 16  9 27 15  0  0  0  0]\n",
      "====================================================================================================\n",
      "shap_contribs: [[-0.02880253]\n",
      " [-0.03000378]\n",
      " [ 0.0861765 ]\n",
      " [ 0.        ]\n",
      " [-0.07649674]\n",
      " [-0.0444047 ]\n",
      " [-0.05282739]\n",
      " [ 0.        ]\n",
      " [ 0.        ]\n",
      " [ 0.        ]\n",
      " [ 0.        ]\n",
      " [-0.08205134]\n",
      " [ 0.        ]\n",
      " [ 0.        ]\n",
      " [-0.14314299]\n",
      " [-0.01400588]\n",
      " [ 0.06681991]\n",
      " [ 0.        ]] for game: [13 20 17  3  5  1 12 24  0 16 31  6 18  2 21 23  4  0]\n",
      "====================================================================================================\n",
      "shap_contribs: [[ 0.03797392]\n",
      " [ 0.        ]\n",
      " [-0.07034912]\n",
      " [-0.07196702]\n",
      " [ 0.0674102 ]\n",
      " [ 0.        ]\n",
      " [ 0.        ]\n",
      " [ 0.        ]\n",
      " [ 0.        ]\n",
      " [-0.04613456]\n",
      " [ 0.06284302]\n",
      " [-0.07911685]\n",
      " [ 0.01575234]\n",
      " [ 0.02390934]\n",
      " [-0.02920186]\n",
      " [ 0.        ]\n",
      " [ 0.        ]\n",
      " [ 0.        ]] for game: [ 3 15 12  1 17  8  0  0  0 16  4  6 20 27  2  0  0  0]\n",
      "====================================================================================================\n",
      "shap_contribs: [[-0.02420986]\n",
      " [-0.08301003]\n",
      " [-0.05538426]\n",
      " [ 0.06335806]\n",
      " [ 0.        ]\n",
      " [ 0.04907644]\n",
      " [ 0.        ]\n",
      " [-0.01641976]\n",
      " [ 0.        ]\n",
      " [-0.05789674]\n",
      " [ 0.        ]\n",
      " [ 0.        ]\n",
      " [-0.03762459]\n",
      " [ 0.12264369]\n",
      " [ 0.11613834]\n",
      " [ 0.        ]\n",
      " [ 0.        ]\n",
      " [ 0.        ]] for game: [16  5  1 17 15 10  0  0  0 23 28  2 18 12 19  0  0  0]\n",
      "Mask contributed ( player: 0: idx: 7): shap_contribs: [-0.01641976] for game: [16  5  1 17 15 10  0  0  0 23 28  2 18 12 19  0  0  0]\n",
      "====================================================================================================\n",
      "shap_contribs: [[ 0.09001034]\n",
      " [ 0.        ]\n",
      " [ 0.        ]\n",
      " [-0.10071065]\n",
      " [-0.06051375]\n",
      " [-0.07359441]\n",
      " [-0.08261281]\n",
      " [ 0.        ]\n",
      " [ 0.        ]\n",
      " [ 0.        ]\n",
      " [ 0.03286166]\n",
      " [ 0.06910835]\n",
      " [-0.17078651]\n",
      " [-0.1075732 ]\n",
      " [ 0.        ]\n",
      " [-0.01711081]\n",
      " [ 0.        ]\n",
      " [ 0.        ]] for game: [17 27  3 16  4 28  2  0  0 20 18 13 21  6 12  1  0  0]\n",
      "====================================================================================================\n",
      "shap_contribs: [[ 0.04016635]\n",
      " [-0.04120822]\n",
      " [-0.02426071]\n",
      " [ 0.065255  ]\n",
      " [ 0.03723126]\n",
      " [ 0.        ]\n",
      " [ 0.        ]\n",
      " [ 0.        ]\n",
      " [ 0.        ]\n",
      " [-0.03956088]\n",
      " [ 0.02451349]\n",
      " [-0.06132798]\n",
      " [ 0.14695364]\n",
      " [ 0.08392681]\n",
      " [ 0.        ]\n",
      " [ 0.        ]\n",
      " [ 0.        ]\n",
      " [ 0.        ]] for game: [ 3 21  1 17  6  0  0  0  0 16 15  2 12 14  0  0  0  0]\n",
      "====================================================================================================\n",
      "shap_contribs: [[ 0.        ]\n",
      " [ 0.07900995]\n",
      " [-0.04979025]\n",
      " [ 0.08725539]\n",
      " [ 0.10482916]\n",
      " [ 0.02060542]\n",
      " [ 0.        ]\n",
      " [ 0.        ]\n",
      " [ 0.        ]\n",
      " [ 0.04802108]\n",
      " [ 0.02185017]\n",
      " [ 0.08543826]\n",
      " [-0.05709169]\n",
      " [-0.15006789]\n",
      " [ 0.        ]\n",
      " [ 0.        ]\n",
      " [ 0.        ]\n",
      " [ 0.        ]] for game: [ 2  5 21 23 17  0  0  0  0 13 12 22  1  6  0  0  0  0]\n",
      "Mask contributed ( player: 0: idx: 5): shap_contribs: [0.02060542] for game: [ 2  5 21 23 17  0  0  0  0 13 12 22  1  6  0  0  0  0]\n",
      "====================================================================================================\n",
      "shap_contribs: [[ 0.05355372]\n",
      " [ 0.        ]\n",
      " [-0.03397681]\n",
      " [ 0.05861788]\n",
      " [ 0.02620938]\n",
      " [ 0.        ]\n",
      " [-0.03958771]\n",
      " [ 0.        ]\n",
      " [ 0.        ]\n",
      " [ 0.03347644]\n",
      " [ 0.        ]\n",
      " [ 0.        ]\n",
      " [ 0.        ]\n",
      " [-0.02258887]\n",
      " [ 0.00560616]\n",
      " [ 0.06996621]\n",
      " [ 0.02585932]\n",
      " [ 0.        ]] for game: [17 24 12 11  3  8 12 14  0  4  1  2  5 23 18 28  9  0]\n",
      "====================================================================================================\n",
      "shap_contribs: [[-0.06964994]\n",
      " [ 0.        ]\n",
      " [ 0.01050819]\n",
      " [ 0.        ]\n",
      " [ 0.05464746]\n",
      " [ 0.        ]\n",
      " [ 0.12249284]\n",
      " [ 0.        ]\n",
      " [ 0.        ]\n",
      " [ 0.05255636]\n",
      " [ 0.02834182]\n",
      " [ 0.04586434]\n",
      " [ 0.        ]\n",
      " [-0.03882972]\n",
      " [ 0.05349688]\n",
      " [-0.05008485]\n",
      " [ 0.        ]\n",
      " [ 0.        ]] for game: [12  1  2 13 23 14 18  0  0 20  5 19 16  3  4 17  0  0]\n",
      "====================================================================================================\n",
      "shap_contribs: [[ 0.        ]\n",
      " [-0.0505623 ]\n",
      " [ 0.        ]\n",
      " [-0.0603457 ]\n",
      " [ 0.        ]\n",
      " [ 0.04374059]\n",
      " [ 0.        ]\n",
      " [ 0.05903438]\n",
      " [ 0.10153162]\n",
      " [ 0.04316188]\n",
      " [ 0.        ]\n",
      " [-0.03495092]\n",
      " [ 0.        ]\n",
      " [ 0.        ]\n",
      " [-0.04783102]\n",
      " [-0.03564213]\n",
      " [-0.08285804]\n",
      " [ 0.        ]] for game: [ 3 16  2  4 17 19 12 23 10 13  7  1  5 18 11 29  6 22]\n",
      "====================================================================================================\n",
      "shap_contribs: [[-0.04159131]\n",
      " [ 0.        ]\n",
      " [ 0.0552484 ]\n",
      " [ 0.11018156]\n",
      " [ 0.        ]\n",
      " [ 0.        ]\n",
      " [-0.05657522]\n",
      " [-0.11600905]\n",
      " [ 0.        ]\n",
      " [ 0.04168566]\n",
      " [ 0.        ]\n",
      " [-0.09370841]\n",
      " [ 0.04935456]\n",
      " [ 0.        ]\n",
      " [-0.08539609]\n",
      " [ 0.        ]\n",
      " [ 0.04079416]\n",
      " [ 0.        ]] for game: [16  9  1 18  3  2 12 20  0 13  5 17 14  7  6  8 23  0]\n",
      "====================================================================================================\n",
      "shap_contribs: [[-0.06635813]\n",
      " [ 0.        ]\n",
      " [ 0.03844638]\n",
      " [-0.05241504]\n",
      " [ 0.        ]\n",
      " [ 0.06149989]\n",
      " [ 0.        ]\n",
      " [ 0.        ]\n",
      " [ 0.        ]\n",
      " [ 0.05536868]\n",
      " [ 0.05026974]\n",
      " [ 0.        ]\n",
      " [ 0.        ]\n",
      " [-0.0536855 ]\n",
      " [-0.06053531]\n",
      " [-0.02692024]\n",
      " [-0.05570568]\n",
      " [ 0.        ]] for game: [12  2 13  1  4  9  8  6  0 14 16  7  5 18  3 17 11  0]\n",
      "====================================================================================================\n",
      "shap_contribs: [[ 0.        ]\n",
      " [-0.0503621 ]\n",
      " [-0.04738929]\n",
      " [ 0.        ]\n",
      " [-0.0842851 ]\n",
      " [-0.0131561 ]\n",
      " [ 0.        ]\n",
      " [ 0.        ]\n",
      " [ 0.        ]\n",
      " [-0.02118238]\n",
      " [-0.06397896]\n",
      " [-0.0148495 ]\n",
      " [-0.00640683]\n",
      " [ 0.        ]\n",
      " [-0.0268462 ]\n",
      " [-0.01059389]\n",
      " [ 0.        ]\n",
      " [ 0.        ]] for game: [17 22 20 10  5  7  0  0  0 16  2 28  3 18 15  0  0  0]\n",
      "Mask contributed ( player: 0: idx: 15): shap_contribs: [-0.01059389] for game: [17 22 20 10  5  7  0  0  0 16  2 28  3 18 15  0  0  0]\n",
      "====================================================================================================\n",
      "shap_contribs: [[-0.04978428]\n",
      " [ 0.        ]\n",
      " [-0.06536899]\n",
      " [ 0.        ]\n",
      " [ 0.        ]\n",
      " [ 0.0767105 ]\n",
      " [ 0.13238715]\n",
      " [ 0.14447543]\n",
      " [ 0.        ]\n",
      " [-0.04871167]\n",
      " [ 0.02864241]\n",
      " [ 0.05408169]\n",
      " [ 0.        ]\n",
      " [ 0.02685359]\n",
      " [ 0.        ]\n",
      " [ 0.03443346]\n",
      " [ 0.        ]\n",
      " [ 0.        ]] for game: [20  7 12  2  1  9 10 18  0 17  4 13 16 15  8 14  3  0]\n",
      "====================================================================================================\n",
      "shap_contribs: [[-0.04698606]\n",
      " [ 0.04603213]\n",
      " [ 0.        ]\n",
      " [ 0.        ]\n",
      " [ 0.02881068]\n",
      " [ 0.        ]\n",
      " [ 0.0138969 ]\n",
      " [ 0.        ]\n",
      " [ 0.        ]\n",
      " [-0.09631622]\n",
      " [ 0.        ]\n",
      " [ 0.08855734]\n",
      " [-0.04257566]\n",
      " [-0.07408876]\n",
      " [ 0.06846019]\n",
      " [ 0.09324647]\n",
      " [ 0.        ]\n",
      " [ 0.        ]] for game: [15 17 13  1  3  2  4  0  0 11 12 14  1  6 16 27  0  0]\n",
      "====================================================================================================\n"
     ]
    }
   ],
   "source": [
    "explained_games = combined_background\n",
    "\n",
    "aggregated_contribs = {}\n",
    "\n",
    "for shap_contribs, game in zip(shap_values, explained_games):\n",
    "    print(f\"shap_contribs: {shap_contribs} for game: {game}\")\n",
    "    for idx, player in enumerate(game):\n",
    "        if player == 0 and shap_contribs[idx] != 0:\n",
    "            print(f\"Mask contributed ( player: {player}: idx: {idx}): shap_contribs: {shap_contribs[idx]} for game: {game}\")\n",
    "        aggregated_contribs[player] = aggregated_contribs.get(player, 0) + shap_contribs[idx]\n",
    "    print(\"=\"*100)"
   ]
  },
  {
   "cell_type": "code",
   "execution_count": 64,
   "id": "54eda14d-3962-44b9-886c-6a76d01bb6da",
   "metadata": {},
   "outputs": [
    {
     "data": {
      "text/plain": [
       "[(np.int64(6), array([-0.60043709])),\n",
       " (np.int64(21), array([-0.54130517])),\n",
       " (np.int64(2), array([-0.39372855])),\n",
       " (np.int64(1), array([-0.30811452])),\n",
       " (np.int64(12), array([-0.26827731])),\n",
       " (np.int64(16), array([-0.26725418])),\n",
       " (np.int64(20), array([-0.1939599])),\n",
       " (np.int64(30), array([-0.16110385])),\n",
       " (np.int64(11), array([-0.13729741])),\n",
       " (np.int64(5), array([-0.09698524])),\n",
       " (np.int64(3), array([-0.04523532])),\n",
       " (np.int64(29), array([-0.03445206])),\n",
       " (np.int64(0), array([-0.01968776])),\n",
       " (np.int64(28), array([-0.01928986])),\n",
       " (np.int64(8), array([-0.01779258])),\n",
       " (np.int64(7), array([-0.01143086])),\n",
       " (np.int64(15), array([-0.00472573])),\n",
       " (np.int64(24), array([0.])),\n",
       " (np.int64(22), array([0.01014287])),\n",
       " (np.int64(31), array([0.03519846])),\n",
       " (np.int64(23), array([0.16832644])),\n",
       " (np.int64(4), array([0.2099856])),\n",
       " (np.int64(27), array([0.23081838])),\n",
       " (np.int64(10), array([0.24206825])),\n",
       " (np.int64(13), array([0.27480076])),\n",
       " (np.int64(9), array([0.3247831])),\n",
       " (np.int64(14), array([0.36710465])),\n",
       " (np.int64(18), array([0.38522901])),\n",
       " (np.int64(19), array([0.39163796])),\n",
       " (np.int64(17), array([0.48098215]))]"
      ]
     },
     "execution_count": 64,
     "metadata": {},
     "output_type": "execute_result"
    }
   ],
   "source": [
    "aggregated_contribs_sorted = sorted(aggregated_contribs.items(), key=lambda item: item[1])\n",
    "aggregated_contribs_sorted"
   ]
  },
  {
   "cell_type": "code",
   "execution_count": null,
   "id": "e84aa607-da2e-47a8-b244-92daf8efc24b",
   "metadata": {},
   "outputs": [],
   "source": [
    "{1: 'Andrey Spiridonov',\n",
    " 2: 'Andrey Trubicin',\n",
    " 3: 'Andrey Larionov',\n",
    " 4: 'Veselin',\n",
    " 5: 'Fedor',\n",
    " 6: 'Andrey Selifonov',\n",
    " 7: 'Dmitro Ilchenko',\n",
    " 8: 'Sergii Kolbasin',\n",
    " 9: 'Vlad',\n",
    " 10: 'Pavel Karacharov',\n",
    " 11: 'Sanya',\n",
    " 12: 'Roman',\n",
    " 13: 'Ivan',\n",
    " 14: 'Denys',\n",
    " 15: 'Vitalii Zhebrakovksy',\n",
    " 16: 'Oleksandr',\n",
    " 17: 'Loginov Dmitrii',\n",
    " 18: 'Artem Bykov',\n",
    " 19: 'Kirill',\n",
    " 20: 'Bondarev Yurii',\n",
    " 21: 'Gundars Mednis',\n",
    " 22: 'Alexandr Mikhailov',\n",
    " 23: 'Pedro Ispanec',\n",
    " 24: 'Dimon Sirnik Lozuk',\n",
    " 25: 'Sergey Konovalov',\n",
    " 26: 'Vladimir Chavskiy',\n",
    " 27: 'Alex Akimov',\n",
    " 28: 'Andrey',\n",
    " 29: 'Sanya DrugIlchenko',\n",
    " 30: 'Vitalik goalkeeper',\n",
    " 31: 'Dimon Melkii'}"
   ]
  },
  {
   "cell_type": "code",
   "execution_count": null,
   "id": "84cf3fff-cdfd-46e0-81d5-21a61e12a11d",
   "metadata": {},
   "outputs": [],
   "source": []
  },
  {
   "cell_type": "markdown",
   "id": "93aca921-52eb-4f3d-933d-35e2b7cbe6a3",
   "metadata": {},
   "source": [
    "## Ideas"
   ]
  },
  {
   "cell_type": "code",
   "execution_count": 32,
   "id": "6e97c024-0388-4a54-96e6-1006454c9292",
   "metadata": {},
   "outputs": [],
   "source": [
    "# TODO\n",
    "# 1. how vector embeddings initialisation affects results? +\n",
    "# 2. add scores statistics for the player to speedup learning +\n",
    "\n",
    "# 3. WHy embeddings always different?\n",
    "# 4. How to check whether player zero embeddings change? - ok, doesn change if we disable embedding L2 regularization +\n",
    "# 5. can SMOTE help with learning?\n",
    "# 6. SHAP values, model agnostic?"
   ]
  },
  {
   "cell_type": "code",
   "execution_count": null,
   "id": "bbd1ade8-11d2-4377-8c2f-aed04d4216fc",
   "metadata": {},
   "outputs": [],
   "source": []
  }
 ],
 "metadata": {
  "kernelspec": {
   "display_name": "Python Football Manager",
   "language": "python",
   "name": "footballman"
  },
  "language_info": {
   "codemirror_mode": {
    "name": "ipython",
    "version": 3
   },
   "file_extension": ".py",
   "mimetype": "text/x-python",
   "name": "python",
   "nbconvert_exporter": "python",
   "pygments_lexer": "ipython3",
   "version": "3.12.9"
  }
 },
 "nbformat": 4,
 "nbformat_minor": 5
}

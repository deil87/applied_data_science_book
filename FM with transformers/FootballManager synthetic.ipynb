{
 "cells": [
  {
   "cell_type": "code",
   "execution_count": 2,
   "id": "b30031ee-5c79-46a5-a3d4-5e154ccef692",
   "metadata": {},
   "outputs": [],
   "source": [
    "import tensorflow as tf\n",
    "from tensorflow.keras import layers, Model, Input\n",
    "from datetime import date\n",
    "import numpy as np\n",
    "\n",
    "# import competition_manager as cm\n",
    "from competition_manager import *"
   ]
  },
  {
   "cell_type": "markdown",
   "id": "f0c0bd48-be29-48ab-907d-883525146bf9",
   "metadata": {},
   "source": [
    "## Generate synthetic teams and games"
   ]
  },
  {
   "cell_type": "code",
   "execution_count": 238,
   "id": "b521c968-a054-4ae2-9dc2-87edb2fed1fa",
   "metadata": {},
   "outputs": [],
   "source": [
    "def calculate_team_strength(team_players):\n",
    "    # Base strength sum\n",
    "    strength = player_strengths[team_players].sum()\n",
    "    print(f\"Base strength of team {team_players}: {strength:.4f}\")\n",
    "    \n",
    "    # Compute favorite player boost (fixed)\n",
    "    for i, pair in enumerate(friend_pairs):\n",
    "        if all(player in team_players for player in pair):\n",
    "            boost = friend_pairs_boost[i]\n",
    "            strength += boost\n",
    "            print(f\"Favorite pair boost applied for players {pair}: +{boost:.4f}, total strength now {strength:.4f}\")\n",
    "    for i, triplet in enumerate(friend_triplets):\n",
    "        if all(player in team_players for player in triplet):\n",
    "            boost = friend_triplets_boost[i]\n",
    "            strength += boost\n",
    "            print(f\"Favorite triplet boost applied for players {triplet}: +{boost:.4f}, total strength now {strength:.4f}\")\n",
    "    \n",
    "    # Compute skills boost correlated with players' average strength\n",
    "    for i, pair in enumerate(skilled_pairs):\n",
    "        if all(player in team_players for player in pair):\n",
    "            avg_strength = player_strengths[list(pair)].mean()\n",
    "            boost = skilled_pairs_boost[i] * avg_strength\n",
    "            strength += boost\n",
    "            print(f\"Skills pair boost for players {pair}: avg strength {avg_strength:.4f} * boost factor {skilled_pairs_boost[i]:.4f} = +{boost:.4f}, total strength now {strength:.4f}\")\n",
    "    \n",
    "    for i, triplet in enumerate(skilled_triplets):\n",
    "        if all(player in team_players for player in triplet):\n",
    "            avg_strength = player_strengths[list(triplet)].mean()\n",
    "            boost = skilled_triplets_boost[i] * avg_strength\n",
    "            strength += boost\n",
    "            print(f\"Skills triplet boost for players {triplet}: avg strength {avg_strength:.4f} * boost factor {skilled_triplets_boost[i]:.4f} = +{boost:.4f}, total strength now {strength:.4f}\")\n",
    "    \n",
    "    return strength"
   ]
  },
  {
   "cell_type": "code",
   "execution_count": 239,
   "id": "8401f393-8f1b-4bc6-984d-2f4eb73051d4",
   "metadata": {},
   "outputs": [
    {
     "name": "stdout",
     "output_type": "stream",
     "text": [
      "Game # 0 evaluation: \n",
      "Base strength of team [ 3  7 18 23 22  2 25  6 24]: 4.5866\n",
      "Favorite triplet boost applied for players (np.int64(24), np.int64(2), np.int64(18)): +0.1755, total strength now 4.7621\n",
      "Base strength of team [29 14 15 26 10 12 28 19 16]: 2.6523\n",
      "Favorite pair boost applied for players (np.int64(15), np.int64(14)): +0.0544, total strength now 2.7066\n",
      "Skills pair boost for players (np.int64(10), np.int64(12)): avg strength 0.4265 * boost factor 0.1377 = +0.0587, total strength now 2.7653\n",
      "==================================================\n",
      "Game # 1 evaluation: \n",
      "Base strength of team [15  8 20  3  4  0  7 16  5]: 3.8520\n",
      "Favorite pair boost applied for players (np.int64(16), np.int64(4)): +0.1072, total strength now 3.9592\n",
      "Favorite pair boost applied for players (np.int64(16), np.int64(8)): +0.1269, total strength now 4.0861\n",
      "Base strength of team [ 9 25 11 10 29 17 27  2  6]: 4.3593\n",
      "Favorite pair boost applied for players (np.int64(9), np.int64(10)): +0.1248, total strength now 4.4840\n",
      "==================================================\n",
      "Game # 2 evaluation: \n",
      "Base strength of team [27 28 23  4 17]: 2.1538\n",
      "Base strength of team [26 18 13  0 10]: 1.2391\n",
      "==================================================\n",
      "Game # 3 evaluation: \n",
      "Base strength of team [25  9 11 16 13 19 17]: 3.7957\n",
      "Base strength of team [ 1 22 29 18 27  7 14]: 3.2835\n",
      "Skills pair boost for players (np.int64(27), np.int64(14)): avg strength 0.3480 * boost factor 0.1411 = +0.0491, total strength now 3.3326\n",
      "==================================================\n",
      "Game # 4 evaluation: \n",
      "Base strength of team [19 28 21 17 25]: 2.3331\n",
      "Base strength of team [ 8  6 15 22 20]: 1.7466\n",
      "Skills pair boost for players (np.int64(20), np.int64(6)): avg strength 0.3350 * boost factor 0.1165 = +0.0390, total strength now 1.7856\n",
      "==================================================\n",
      "Game # 5 evaluation: \n",
      "Base strength of team [15 21 16 13 20 29 28  6 26]: 2.3480\n",
      "Skills pair boost for players (np.int64(20), np.int64(6)): avg strength 0.3350 * boost factor 0.1165 = +0.0390, total strength now 2.3870\n",
      "Base strength of team [25 18 14  8 22 27  3 19  7]: 4.5625\n",
      "Favorite pair boost applied for players (np.int64(18), np.int64(8)): +0.0970, total strength now 4.6595\n",
      "Skills pair boost for players (np.int64(27), np.int64(14)): avg strength 0.3480 * boost factor 0.1411 = +0.0491, total strength now 4.7086\n",
      "Skills triplet boost for players (np.int64(19), np.int64(25), np.int64(22)): avg strength 0.4562 * boost factor 0.1561 = +0.0712, total strength now 4.7798\n",
      "==================================================\n",
      "Game # 6 evaluation: \n",
      "Base strength of team [ 3  6 19 15 26  5 29 12]: 2.3659\n",
      "Base strength of team [ 9 16 14 27 22 28  4 24]: 3.2050\n",
      "Favorite pair boost applied for players (np.int64(24), np.int64(16)): +0.0730, total strength now 3.2780\n",
      "Favorite pair boost applied for players (np.int64(16), np.int64(4)): +0.1072, total strength now 3.3852\n",
      "Skills pair boost for players (np.int64(27), np.int64(14)): avg strength 0.3480 * boost factor 0.1411 = +0.0491, total strength now 3.4344\n",
      "Skills pair boost for players (np.int64(16), np.int64(22)): avg strength 0.2982 * boost factor 0.1985 = +0.0592, total strength now 3.4936\n",
      "==================================================\n",
      "Game # 7 evaluation: \n",
      "Base strength of team [10 19 20  8 26  4  9]: 2.5885\n",
      "Favorite pair boost applied for players (np.int64(9), np.int64(10)): +0.1248, total strength now 2.7133\n",
      "Skills triplet boost for players (np.int64(10), np.int64(4), np.int64(20)): avg strength 0.2628 * boost factor 0.2501 = +0.0657, total strength now 2.7791\n",
      "Base strength of team [11  3 17 12 23 15 21]: 3.6150\n",
      "Favorite pair boost applied for players (np.int64(11), np.int64(15)): +0.1495, total strength now 3.7645\n",
      "==================================================\n",
      "Game # 8 evaluation: \n",
      "Base strength of team [ 2  6 20 16 14 10  8]: 2.5097\n",
      "Favorite pair boost applied for players (np.int64(16), np.int64(8)): +0.1269, total strength now 2.6366\n",
      "Skills pair boost for players (np.int64(20), np.int64(6)): avg strength 0.3350 * boost factor 0.1165 = +0.0390, total strength now 2.6756\n",
      "Base strength of team [18 17 11 13  7 21 12]: 3.9771\n",
      "Favorite pair boost applied for players (np.int64(7), np.int64(21)): +0.1383, total strength now 4.1154\n",
      "==================================================\n",
      "Game # 9 evaluation: \n",
      "Base strength of team [ 6 15 18 27 20 16  2  3]: 3.4344\n",
      "Skills pair boost for players (np.int64(20), np.int64(6)): avg strength 0.3350 * boost factor 0.1165 = +0.0390, total strength now 3.4734\n",
      "Base strength of team [17  0  8  1 29 12 23 11]: 4.6663\n",
      "Skills pair boost for players (np.int64(8), np.int64(11)): avg strength 0.7855 * boost factor 0.1778 = +0.1396, total strength now 4.8059\n",
      "==================================================\n",
      "Game # 10 evaluation: \n",
      "Base strength of team [ 1 12 14 24 15  2 11 19 23]: 4.9640\n",
      "Favorite pair boost applied for players (np.int64(15), np.int64(14)): +0.0544, total strength now 5.0183\n",
      "Favorite pair boost applied for players (np.int64(11), np.int64(15)): +0.1495, total strength now 5.1678\n",
      "Base strength of team [20  6  5  3 17 28 27  4 22]: 3.5042\n",
      "Skills pair boost for players (np.int64(20), np.int64(6)): avg strength 0.3350 * boost factor 0.1165 = +0.0390, total strength now 3.5432\n",
      "==================================================\n",
      "Game # 11 evaluation: \n",
      "Base strength of team [18 26  9 14 12 15  0  4 13]: 3.2803\n",
      "Favorite pair boost applied for players (np.int64(15), np.int64(14)): +0.0544, total strength now 3.3346\n",
      "Base strength of team [ 3 21 28  7 23 27 20 11 29]: 4.7056\n",
      "Favorite pair boost applied for players (np.int64(7), np.int64(21)): +0.1383, total strength now 4.8439\n",
      "Skills pair boost for players (np.int64(20), np.int64(11)): avg strength 0.7909 * boost factor 0.1480 = +0.1171, total strength now 4.9610\n",
      "==================================================\n",
      "Game # 12 evaluation: \n",
      "Base strength of team [22  1  3 14 18  4]: 2.6113\n",
      "Base strength of team [ 9  5 11 29 10  2]: 2.6330\n",
      "Favorite pair boost applied for players (np.int64(9), np.int64(10)): +0.1248, total strength now 2.7578\n",
      "==================================================\n",
      "Game # 13 evaluation: \n",
      "Base strength of team [ 8 22 12 24 10]: 2.2024\n",
      "Skills pair boost for players (np.int64(10), np.int64(12)): avg strength 0.4265 * boost factor 0.1377 = +0.0587, total strength now 2.2611\n",
      "Skills pair boost for players (np.int64(10), np.int64(22)): avg strength 0.1564 * boost factor 0.1750 = +0.0274, total strength now 2.2884\n",
      "Base strength of team [ 4 11 19 29 23]: 1.8300\n",
      "==================================================\n",
      "Game # 14 evaluation: \n",
      "Base strength of team [20 12 27 17  6 22  8]: 3.4346\n",
      "Skills pair boost for players (np.int64(20), np.int64(6)): avg strength 0.3350 * boost factor 0.1165 = +0.0390, total strength now 3.4736\n",
      "Base strength of team [ 9  5 26 11  3 10 16]: 2.9571\n",
      "Favorite pair boost applied for players (np.int64(9), np.int64(10)): +0.1248, total strength now 3.0819\n",
      "Favorite triplet boost applied for players (np.int64(11), np.int64(3), np.int64(9)): +0.1988, total strength now 3.2807\n",
      "==================================================\n",
      "Game # 15 evaluation: \n",
      "Base strength of team [ 6  7 20 27 24 12]: 3.3389\n",
      "Skills pair boost for players (np.int64(20), np.int64(6)): avg strength 0.3350 * boost factor 0.1165 = +0.0390, total strength now 3.3779\n",
      "Base strength of team [28 23 16  3 21 17]: 2.5259\n",
      "==================================================\n",
      "Game # 16 evaluation: \n",
      "Base strength of team [ 2 14 20  9 24]: 2.6898\n",
      "Base strength of team [27 11  0 29 28]: 2.4975\n",
      "==================================================\n",
      "Game # 17 evaluation: \n",
      "Base strength of team [27 10 19 17 13  8]: 2.1643\n",
      "Skills triplet boost for players (np.int64(27), np.int64(10), np.int64(8)): avg strength 0.3786 * boost factor 0.1788 = +0.0677, total strength now 2.2320\n",
      "Base strength of team [ 3 14  2  0 25 23]: 3.0386\n",
      "==================================================\n",
      "Game # 18 evaluation: \n",
      "Base strength of team [ 9 28 15 25  5 27 13]: 3.1516\n",
      "Base strength of team [20 11  8 22 12 17 19]: 4.1235\n",
      "Skills pair boost for players (np.int64(8), np.int64(11)): avg strength 0.7855 * boost factor 0.1778 = +0.1396, total strength now 4.2631\n",
      "Skills pair boost for players (np.int64(20), np.int64(11)): avg strength 0.7909 * boost factor 0.1480 = +0.1171, total strength now 4.3802\n",
      "==================================================\n",
      "Game # 19 evaluation: \n",
      "Base strength of team [23 15  3 22 14 12 19]: 2.7461\n",
      "Favorite pair boost applied for players (np.int64(15), np.int64(14)): +0.0544, total strength now 2.8004\n",
      "Base strength of team [13 10 29  7 20  0  6]: 2.1900\n",
      "Skills pair boost for players (np.int64(20), np.int64(6)): avg strength 0.3350 * boost factor 0.1165 = +0.0390, total strength now 2.2290\n",
      "==================================================\n",
      "Game # 20 evaluation: \n",
      "Base strength of team [ 0 23 10 27  3]: 1.8744\n",
      "Base strength of team [ 5 21 20 18  1]: 2.2900\n",
      "==================================================\n",
      "Game # 21 evaluation: \n",
      "Base strength of team [13 17 19 24  8  5 22]: 2.5336\n",
      "Base strength of team [23 25 20 15 21  9 18]: 3.2263\n",
      "Skills triplet boost for players (np.int64(18), np.int64(15), np.int64(21)): avg strength 0.2516 * boost factor 0.1758 = +0.0442, total strength now 3.2706\n",
      "==================================================\n",
      "Game # 22 evaluation: \n",
      "Base strength of team [12 18  8 17 23 25]: 3.5418\n",
      "Favorite pair boost applied for players (np.int64(18), np.int64(8)): +0.0970, total strength now 3.6388\n",
      "Base strength of team [24  5 10  3  1  7]: 3.0482\n",
      "==================================================\n",
      "Game # 23 evaluation: \n",
      "Base strength of team [15 21  9 17 29 14  8  0]: 2.7597\n",
      "Favorite pair boost applied for players (np.int64(15), np.int64(14)): +0.0544, total strength now 2.8140\n",
      "Favorite pair boost applied for players (np.int64(17), np.int64(14)): +0.0780, total strength now 2.8920\n",
      "Base strength of team [18  2 27 23 19 16  7 20]: 4.1180\n",
      "==================================================\n",
      "Game # 24 evaluation: \n",
      "Base strength of team [11 20  6  0 13  1 29 12  3]: 4.6550\n",
      "Skills pair boost for players (np.int64(20), np.int64(6)): avg strength 0.3350 * boost factor 0.1165 = +0.0390, total strength now 4.6940\n",
      "Skills pair boost for players (np.int64(20), np.int64(11)): avg strength 0.7909 * boost factor 0.1480 = +0.1171, total strength now 4.8111\n",
      "Base strength of team [10 24 15  5 27 26  7 28 18]: 3.4205\n",
      "==================================================\n",
      "Game # 25 evaluation: \n",
      "Base strength of team [19  6  3 13 25  8 20 29  9]: 3.9130\n",
      "Skills pair boost for players (np.int64(20), np.int64(6)): avg strength 0.3350 * boost factor 0.1165 = +0.0390, total strength now 3.9520\n",
      "Base strength of team [ 2 28 27  0 16 18 11 12 21]: 4.8912\n",
      "==================================================\n",
      "Game # 26 evaluation: \n",
      "Base strength of team [14 26 11 28 18  1 13]: 3.5388\n",
      "Base strength of team [17 25 16  2 24 19 21]: 3.2330\n",
      "Favorite pair boost applied for players (np.int64(24), np.int64(16)): +0.0730, total strength now 3.3060\n",
      "==================================================\n",
      "Game # 27 evaluation: \n",
      "Base strength of team [22 10  0 21 17 14 20 24 25]: 3.3864\n",
      "Favorite pair boost applied for players (np.int64(17), np.int64(14)): +0.0780, total strength now 3.4644\n",
      "Skills pair boost for players (np.int64(10), np.int64(22)): avg strength 0.1564 * boost factor 0.1750 = +0.0274, total strength now 3.4918\n",
      "Base strength of team [ 3 19  4 29 11 23 28  9  6]: 3.7872\n",
      "Favorite triplet boost applied for players (np.int64(11), np.int64(3), np.int64(9)): +0.1988, total strength now 3.9860\n",
      "==================================================\n",
      "Game # 28 evaluation: \n",
      "Base strength of team [ 4 26 18 20  8]: 2.0006\n",
      "Favorite pair boost applied for players (np.int64(18), np.int64(8)): +0.0970, total strength now 2.0976\n",
      "Base strength of team [16  7  1 15 29]: 2.3510\n",
      "==================================================\n",
      "Game # 29 evaluation: \n",
      "Base strength of team [ 6  9  7 12 24 26  0 17 18]: 4.4518\n",
      "Base strength of team [23  8 20  5  3 22  4 15 25]: 3.7507\n",
      "==================================================\n",
      "Game # 30 evaluation: \n",
      "Base strength of team [ 9  0  5 22  8 21 18 12 27]: 4.0500\n",
      "Favorite pair boost applied for players (np.int64(18), np.int64(8)): +0.0970, total strength now 4.1470\n",
      "Base strength of team [ 4 29  6  3  1 19 10 26 20]: 2.9333\n",
      "Skills pair boost for players (np.int64(20), np.int64(6)): avg strength 0.3350 * boost factor 0.1165 = +0.0390, total strength now 2.9723\n",
      "Skills triplet boost for players (np.int64(10), np.int64(4), np.int64(20)): avg strength 0.2628 * boost factor 0.2501 = +0.0657, total strength now 3.0380\n",
      "==================================================\n",
      "Game # 31 evaluation: \n",
      "Base strength of team [22  4 19  3  6]: 1.3961\n",
      "Base strength of team [ 9  2 17 11 18]: 3.3667\n",
      "==================================================\n",
      "Game # 32 evaluation: \n",
      "Base strength of team [28 11  2  4 27 20 10 23]: 3.9634\n",
      "Skills pair boost for players (np.int64(20), np.int64(11)): avg strength 0.7909 * boost factor 0.1480 = +0.1171, total strength now 4.0805\n",
      "Skills triplet boost for players (np.int64(10), np.int64(4), np.int64(20)): avg strength 0.2628 * boost factor 0.2501 = +0.0657, total strength now 4.1462\n",
      "Base strength of team [ 6  5 29  3 26 12  8 16]: 2.7967\n",
      "Favorite pair boost applied for players (np.int64(16), np.int64(8)): +0.1269, total strength now 2.9235\n",
      "==================================================\n",
      "Game # 33 evaluation: \n",
      "Base strength of team [ 4 21 20 12  0 29 13]: 2.3731\n",
      "Base strength of team [ 1  9 24 19  3 15 22]: 3.4803\n",
      "==================================================\n",
      "Game # 34 evaluation: \n",
      "Base strength of team [10  0 16  6 20 19  9]: 2.3686\n",
      "Favorite pair boost applied for players (np.int64(9), np.int64(10)): +0.1248, total strength now 2.4934\n",
      "Skills pair boost for players (np.int64(20), np.int64(6)): avg strength 0.3350 * boost factor 0.1165 = +0.0390, total strength now 2.5324\n",
      "Base strength of team [28  8 29  4 14  2 15]: 2.4932\n",
      "Favorite pair boost applied for players (np.int64(15), np.int64(14)): +0.0544, total strength now 2.5476\n",
      "==================================================\n",
      "Game # 35 evaluation: \n",
      "Base strength of team [ 9  0  7 27 29 10 12 22  2]: 4.3866\n",
      "Favorite pair boost applied for players (np.int64(9), np.int64(10)): +0.1248, total strength now 4.5114\n",
      "Skills pair boost for players (np.int64(10), np.int64(12)): avg strength 0.4265 * boost factor 0.1377 = +0.0587, total strength now 4.5701\n",
      "Skills pair boost for players (np.int64(10), np.int64(22)): avg strength 0.1564 * boost factor 0.1750 = +0.0274, total strength now 4.5975\n",
      "Base strength of team [ 6  5 14 13 20 21 15  1 24]: 2.9498\n",
      "Favorite pair boost applied for players (np.int64(15), np.int64(14)): +0.0544, total strength now 3.0041\n",
      "Favorite triplet boost applied for players (np.int64(5), np.int64(21), np.int64(24)): +0.1939, total strength now 3.1980\n",
      "Skills pair boost for players (np.int64(20), np.int64(6)): avg strength 0.3350 * boost factor 0.1165 = +0.0390, total strength now 3.2370\n",
      "==================================================\n",
      "Game # 36 evaluation: \n",
      "Base strength of team [21 10 22 25 26 28]: 2.0295\n",
      "Skills pair boost for players (np.int64(10), np.int64(22)): avg strength 0.1564 * boost factor 0.1750 = +0.0274, total strength now 2.0568\n",
      "Base strength of team [17 23 18  6 24 27]: 2.3515\n",
      "==================================================\n",
      "Game # 37 evaluation: \n",
      "Base strength of team [21 17  1  6  5 18 26 19 28]: 3.3443\n",
      "Base strength of team [25  4 29  8 27 16 24 20 15]: 3.6586\n",
      "Favorite pair boost applied for players (np.int64(24), np.int64(16)): +0.0730, total strength now 3.7316\n",
      "Favorite pair boost applied for players (np.int64(16), np.int64(4)): +0.1072, total strength now 3.8388\n",
      "Favorite pair boost applied for players (np.int64(16), np.int64(8)): +0.1269, total strength now 3.9656\n",
      "Favorite triplet boost applied for players (np.int64(29), np.int64(16), np.int64(4)): +0.2285, total strength now 4.1941\n",
      "==================================================\n",
      "Game # 38 evaluation: \n",
      "Base strength of team [15  6 17  7  2  0  9 21]: 3.5865\n",
      "Favorite pair boost applied for players (np.int64(7), np.int64(21)): +0.1383, total strength now 3.7249\n",
      "Base strength of team [13 23  8 18  1  3 12 28]: 4.5860\n",
      "Favorite pair boost applied for players (np.int64(18), np.int64(8)): +0.0970, total strength now 4.6830\n",
      "==================================================\n",
      "Game # 39 evaluation: \n",
      "Base strength of team [15 29 13  2 19  8 16  0]: 2.7453\n",
      "Favorite pair boost applied for players (np.int64(16), np.int64(8)): +0.1269, total strength now 2.8722\n",
      "Base strength of team [ 4 21  7 22 18  9 24  3]: 3.6486\n",
      "Favorite pair boost applied for players (np.int64(7), np.int64(21)): +0.1383, total strength now 3.7869\n",
      "==================================================\n",
      "Game # 40 evaluation: \n",
      "Base strength of team [ 5 24 12  6  1 15]: 2.6367\n",
      "Base strength of team [13 19  4  2 27 29]: 1.9523\n",
      "==================================================\n",
      "Game # 41 evaluation: \n",
      "Base strength of team [11 16  9  7 17]: 3.3732\n",
      "Base strength of team [ 0 21  4 14  6]: 0.9100\n",
      "==================================================\n",
      "Game # 42 evaluation: \n",
      "Base strength of team [12 28 17 23  3 29 15 19]: 3.4357\n",
      "Base strength of team [ 4 21  8  1  9 27 13  7]: 4.1482\n",
      "Favorite pair boost applied for players (np.int64(7), np.int64(21)): +0.1383, total strength now 4.2865\n",
      "==================================================\n",
      "Game # 43 evaluation: \n",
      "Base strength of team [18  7  0  6 26 24  9  1]: 4.0453\n",
      "Base strength of team [20 25  4 16  2 19  3  8]: 4.0803\n",
      "Favorite pair boost applied for players (np.int64(16), np.int64(4)): +0.1072, total strength now 4.1875\n",
      "Favorite pair boost applied for players (np.int64(16), np.int64(8)): +0.1269, total strength now 4.3143\n",
      "==================================================\n",
      "Game # 44 evaluation: \n",
      "Base strength of team [26  8  5 19 21 18  4]: 1.9755\n",
      "Favorite pair boost applied for players (np.int64(18), np.int64(8)): +0.0970, total strength now 2.0725\n",
      "Base strength of team [20  0 25 13 24 23 11]: 3.7762\n",
      "Skills pair boost for players (np.int64(20), np.int64(11)): avg strength 0.7909 * boost factor 0.1480 = +0.1171, total strength now 3.8933\n",
      "==================================================\n",
      "Game # 45 evaluation: \n",
      "Base strength of team [11 13 19  6  5 27  2 18  1]: 4.3164\n",
      "Base strength of team [ 3  4 10 16  0 15  7 17 29]: 3.0748\n",
      "Favorite pair boost applied for players (np.int64(16), np.int64(4)): +0.1072, total strength now 3.1820\n",
      "Favorite triplet boost applied for players (np.int64(29), np.int64(16), np.int64(4)): +0.2285, total strength now 3.4105\n",
      "==================================================\n",
      "Game # 46 evaluation: \n",
      "Base strength of team [13 28  7 29 24 12]: 3.0059\n",
      "Base strength of team [25 15  8 27 10  6]: 2.1626\n",
      "Skills triplet boost for players (np.int64(27), np.int64(10), np.int64(8)): avg strength 0.3786 * boost factor 0.1788 = +0.0677, total strength now 2.2303\n",
      "==================================================\n",
      "Game # 47 evaluation: \n",
      "Base strength of team [ 1 17 11 20 24 25]: 4.2985\n",
      "Skills pair boost for players (np.int64(20), np.int64(11)): avg strength 0.7909 * boost factor 0.1480 = +0.1171, total strength now 4.4156\n",
      "Base strength of team [15 23 29 14  0  4]: 1.3086\n",
      "Favorite pair boost applied for players (np.int64(15), np.int64(14)): +0.0544, total strength now 1.3630\n",
      "==================================================\n",
      "Game # 48 evaluation: \n",
      "Base strength of team [28 10 14  9  8 22  3 12]: 3.8273\n",
      "Favorite pair boost applied for players (np.int64(9), np.int64(10)): +0.1248, total strength now 3.9520\n",
      "Skills pair boost for players (np.int64(10), np.int64(12)): avg strength 0.4265 * boost factor 0.1377 = +0.0587, total strength now 4.0107\n",
      "Skills pair boost for players (np.int64(10), np.int64(22)): avg strength 0.1564 * boost factor 0.1750 = +0.0274, total strength now 4.0381\n",
      "Base strength of team [15 13 18  0 21 16 19  6]: 1.9953\n",
      "Skills triplet boost for players (np.int64(18), np.int64(15), np.int64(21)): avg strength 0.2516 * boost factor 0.1758 = +0.0442, total strength now 2.0395\n",
      "==================================================\n",
      "Game # 49 evaluation: \n",
      "Base strength of team [10  9 20 27  1  6]: 2.8635\n",
      "Favorite pair boost applied for players (np.int64(9), np.int64(10)): +0.1248, total strength now 2.9883\n",
      "Skills pair boost for players (np.int64(20), np.int64(6)): avg strength 0.3350 * boost factor 0.1165 = +0.0390, total strength now 3.0273\n",
      "Base strength of team [18 13 14  8  0 17]: 2.3265\n",
      "Favorite pair boost applied for players (np.int64(18), np.int64(8)): +0.0970, total strength now 2.4235\n",
      "Favorite pair boost applied for players (np.int64(17), np.int64(14)): +0.0780, total strength now 2.5015\n",
      "==================================================\n",
      "player_strengths shape: (31,)\n",
      "teamA_data shape: (50, 9)\n",
      "teamB_data shape: (50, 9)\n",
      "labels shape: (50,)\n",
      "Game 1:\n",
      " Team A players:  [ 3  7 18 23 22  2 25  6 24]\n",
      " Team A palyers' stregths:  [0.59865848 0.86617615 0.43194502 0.36636184 0.29214465 0.73199394\n",
      " 0.78517596 0.05808361 0.45606998]\n",
      " Team B players:  [29 14 15 26 10 12 28 19 16]\n",
      "Team B strengths 2.652266759054738\n",
      " Team B palyers' stregths:  [0.04645041 0.18182497 0.18340451 0.19967378 0.02058449 0.83244264\n",
      " 0.59241457 0.29122914 0.30424224]\n",
      " Label (Team A wins=1): 2.0581498276287515\n",
      "Game 2:\n",
      " Team A players:  [15  8 20  3  4  0  7 16  5]\n",
      " Team A palyers' stregths:  [0.18340451 0.60111501 0.61185289 0.59865848 0.15601864 0.37454012\n",
      " 0.86617615 0.30424224 0.15599452]\n",
      " Team B players:  [ 9 25 11 10 29 17 27  2  6]\n",
      "Team B strengths 4.359261722392308\n",
      " Team B palyers' stregths:  [0.70807258 0.78517596 0.96990985 0.02058449 0.04645041 0.52475643\n",
      " 0.51423444 0.73199394 0.05808361]\n",
      " Label (Team A wins=1): -0.3222244385492363\n",
      "Game 3:\n",
      " Team A players:  [27 28 23  4 17  0  0  0  0]\n",
      " Team A palyers' stregths:  [0.51423444 0.59241457 0.36636184 0.15601864 0.52475643 0.37454012\n",
      " 0.37454012 0.37454012 0.37454012]\n",
      " Team B players:  [26 18 13  0 10  0  0  0  0]\n",
      "Team B strengths 2.7372430000113663\n",
      " Team B palyers' stregths:  [0.19967378 0.43194502 0.21233911 0.37454012 0.02058449 0.37454012\n",
      " 0.37454012 0.37454012 0.37454012]\n",
      " Label (Team A wins=1): 1.007321152775268\n"
     ]
    }
   ],
   "source": [
    "np.random.seed(42)  # for reproducibility\n",
    "\n",
    "NUM_PLAYERS = 30  # player 0 is ignore/masked and 1 is added to account for this\n",
    "MIN_TEAM_SIZE = 5\n",
    "MAX_TEAM_SIZE = 9\n",
    "NUM_GAMES = 50\n",
    "\n",
    "# 1. Generate players' strengths: single float number [0, 1]\n",
    "player_strengths = np.random.rand(NUM_PLAYERS + 1) # player 0 is ignore/masked \n",
    "\n",
    "# 2. Generate favorite player pairs and triplets (friends)\n",
    "num_friend_pairs = 10\n",
    "num_friend_triplets = 5\n",
    "\n",
    "# Randomly select unique pairs\n",
    "friend_pairs = [tuple(np.random.choice(np.arange(1, NUM_PLAYERS +1), size=2, replace=False)) for _ in range(num_friend_pairs)]\n",
    "friend_pairs_boost = np.random.uniform(0.05, 0.15, size=num_friend_pairs)  # small boost\n",
    "\n",
    "# Randomly select unique triplets\n",
    "friend_triplets = [tuple(np.random.choice(np.arange(1, NUM_PLAYERS +1), size=3, replace=False)) for _ in range(num_friend_triplets)]\n",
    "friend_triplets_boost = np.random.uniform(0.1, 0.25, size=num_friend_triplets)  # larger boost\n",
    "\n",
    "# 3. Generate skilled pairs and triplets (high skill synergy)\n",
    "num_skilled_pairs = 8\n",
    "num_skilled_triplets = 4\n",
    "\n",
    "skilled_pairs = [tuple(np.random.choice(np.arange(1, NUM_PLAYERS + 1), size=2, replace=False)) for _ in range(num_skilled_pairs)]\n",
    "skilled_pairs_boost = np.random.uniform(0.1, 0.2, size=num_skilled_pairs)  # moderate boost\n",
    "\n",
    "skilled_triplets = [tuple(np.random.choice(np.arange(1, NUM_PLAYERS + 1), size=3, replace=False)) for _ in range(num_skilled_triplets)]\n",
    "skilled_triplets_boost = np.random.uniform(0.15, 0.3, size=num_skilled_triplets)  # strong boost\n",
    "\n",
    "# 2. Prepare arrays to hold the dataset\n",
    "teamA_data = np.zeros((NUM_GAMES, MAX_TEAM_SIZE), dtype=int)\n",
    "teamB_data = np.zeros((NUM_GAMES, MAX_TEAM_SIZE), dtype=int)\n",
    "labels = np.zeros(NUM_GAMES)\n",
    "\n",
    "def drop_zeroes_for_sum(players_strengths):\n",
    "    return players_strengths[players_strengths !=0]\n",
    "\n",
    "for game_i in range(NUM_GAMES):\n",
    "    # Random sizes for both teams in [MIN_TEAM_SIZE, MAX_TEAM_SIZE]\n",
    "\n",
    "    team_size = np.random.randint(MIN_TEAM_SIZE, MAX_TEAM_SIZE + 1)\n",
    "\n",
    "    # Randomly sample distinct players for each team (sampling with replacement allowed for simplicity)\n",
    "    # To avoid overlap if needed: sample without replacement from full 32 for both teams combined,\n",
    "    # here assuming players can appear on both teams (as per original conversation)\n",
    "    # teamA_players = np.random.choice(NUM_PLAYERS, size=teamA_size, replace=False)\n",
    "    # teamB_players = np.random.choice(NUM_PLAYERS, size=teamB_size, replace=False)\n",
    "    \n",
    "    # Shuffle all players and split into two disjoint teams\n",
    "    all_players = np.random.permutation(NUM_PLAYERS)\n",
    "    teamA_players = all_players[:team_size]\n",
    "    teamB_players = all_players[team_size:2*team_size]\n",
    "    \n",
    "    print(f\"Game # {game_i} evaluation: \")\n",
    "    # Compute team strengths as sum of player strengths\n",
    "    teamA_strength = calculate_team_strength(teamA_players)\n",
    "    teamB_strength = calculate_team_strength(teamB_players)\n",
    "    print(f\"=\" * 50)\n",
    "    \n",
    "    # print(f\"Team A strengths {player_strengths[teamA_players]} Total: {teamA_strength}\")\n",
    "\n",
    "    # Calculate match outcome: 1 if Team A wins, 0 if Team B wins\n",
    "    # Add small noise to simulate unpredictability\n",
    "    outcome = teamA_strength - teamB_strength + np.random.normal(scale=0.1)\n",
    "    labels[game_i] = outcome\n",
    "\n",
    "    # Pad teams to max size using zeros (which corresponds to masked player)\n",
    "    teamA_data[game_i, :team_size] = teamA_players\n",
    "    teamB_data[game_i, :team_size] = teamB_players\n",
    "\n",
    "print(\"player_strengths shape:\", player_strengths.shape)\n",
    "print(\"teamA_data shape:\", teamA_data.shape)\n",
    "print(\"teamB_data shape:\", teamB_data.shape)\n",
    "print(\"labels shape:\", labels.shape)\n",
    "\n",
    "# Example print first 3 games\n",
    "for i in range(3):\n",
    "    print(f\"Game {i+1}:\")\n",
    "    teamA_pls = teamA_data[i]\n",
    "    print(\" Team A players: \", teamA_pls)\n",
    "    print(\" Team A palyers' stregths: \", player_strengths[teamA_pls])\n",
    "\n",
    "    teamB_pls = teamB_data[i]\n",
    "    print(\" Team B players: \", teamB_pls)\n",
    "    print(f\"Team B strengths {drop_zeroes_for_sum(player_strengths[teamB_pls]).sum()}\")\n",
    "    print(\" Team B palyers' stregths: \", player_strengths[teamB_pls])\n",
    "    print(\" Label (Team A wins=1):\", labels[i])\n"
   ]
  },
  {
   "cell_type": "markdown",
   "id": "204ced67-44c3-4e09-b65b-fc35a92320c7",
   "metadata": {},
   "source": [
    "## Prepare real players data"
   ]
  },
  {
   "cell_type": "code",
   "execution_count": 76,
   "id": "a0f6c7ac-dc43-4840-99e7-88ff9e8a2832",
   "metadata": {},
   "outputs": [],
   "source": [
    "team_members = [\"Andrey Spiridonov\", \"Andrey Trubicin\", \"Andrey Larionov\", \"Veselin\", \"Fedor\", \"Andrey Selifonov\",\n",
    "                \"Dmitro Ilchenko\", \"Sergii Kolbasin\", \"Vlad\", \"Pavel Karacharov\", \"Sanya\", \"Roman\", \"Ivan\", \"Denys\", \"Vitalii Zhebrakovksy\",\n",
    "                \"Oleksandr\", \"Loginov Dmitrii\", \"Artem Bykov\", \"Kirill\", \"Bondarev Yurii\", \"Gundars Mednis\", \"Alexandr Mikhailov\",\n",
    "                \"Pedro Ispanec\", \"Dimon Sirnik Lozuk\", \"Sergey Konovalov\", \"Vladimir Chavskiy\", \"Alex Akimov\", \"Andrey\", \"Sanya DrugIlchenko\", \n",
    "                \"Vitalik goalkeeper\", \"Dimon Melkii\"]\n"
   ]
  },
  {
   "cell_type": "code",
   "execution_count": 77,
   "id": "c66447ee-2d6c-4df6-8cd2-f8535a607501",
   "metadata": {},
   "outputs": [
    {
     "data": {
      "text/plain": [
       "{1: 'Andrey Spiridonov',\n",
       " 2: 'Andrey Trubicin',\n",
       " 3: 'Andrey Larionov',\n",
       " 4: 'Veselin',\n",
       " 5: 'Fedor',\n",
       " 6: 'Andrey Selifonov',\n",
       " 7: 'Dmitro Ilchenko',\n",
       " 8: 'Sergii Kolbasin',\n",
       " 9: 'Vlad',\n",
       " 10: 'Pavel Karacharov',\n",
       " 11: 'Sanya',\n",
       " 12: 'Roman',\n",
       " 13: 'Ivan',\n",
       " 14: 'Denys',\n",
       " 15: 'Vitalii Zhebrakovksy',\n",
       " 16: 'Oleksandr',\n",
       " 17: 'Loginov Dmitrii',\n",
       " 18: 'Artem Bykov',\n",
       " 19: 'Kirill',\n",
       " 20: 'Bondarev Yurii',\n",
       " 21: 'Gundars Mednis',\n",
       " 22: 'Alexandr Mikhailov',\n",
       " 23: 'Pedro Ispanec',\n",
       " 24: 'Dimon Sirnik Lozuk',\n",
       " 25: 'Sergey Konovalov',\n",
       " 26: 'Vladimir Chavskiy',\n",
       " 27: 'Alex Akimov',\n",
       " 28: 'Andrey',\n",
       " 29: 'Sanya DrugIlchenko',\n",
       " 30: 'Vitalik goalkeeper',\n",
       " 31: 'Dimon Melkii'}"
      ]
     },
     "execution_count": 77,
     "metadata": {},
     "output_type": "execute_result"
    }
   ],
   "source": [
    "team_members_with_ids = {idx + 1: tm for idx, tm in enumerate(team_members)}\n",
    "team_members_with_ids"
   ]
  },
  {
   "cell_type": "code",
   "execution_count": 240,
   "id": "cf6280fa-6ad3-4e90-9073-65e9fa8d2d09",
   "metadata": {},
   "outputs": [],
   "source": [
    "\n",
    "def name_to_var(name):\n",
    "    \"\"\"Convert a full name string into a valid Python variable name.\"\"\"\n",
    "    # Lowercase, replace spaces with underscores, remove non-alphanumeric/underscore characters\n",
    "    import re\n",
    "    var = name.lower()\n",
    "    var = var.replace(' ', '_')\n",
    "    var = re.sub(r'[^0-9a-z_]', '', var)\n",
    "    return var\n",
    "\n",
    "# Define variables dynamically in globals()\n",
    "for idx, name in team_members_with_ids.items():\n",
    "    var_name = name_to_var(name)\n",
    "    globals()[var_name] = idx"
   ]
  },
  {
   "cell_type": "code",
   "execution_count": null,
   "id": "3127cc64-1031-4be3-b61a-2fa3300ae879",
   "metadata": {},
   "outputs": [],
   "source": []
  },
  {
   "cell_type": "code",
   "execution_count": 79,
   "id": "730adf2b-74b7-4da4-9bf1-841e821863cc",
   "metadata": {
    "jupyter": {
     "source_hidden": true
    }
   },
   "outputs": [],
   "source": [
    "historical_cometitions = [\n",
    "    Competition([loginov_dmitrii, andrey_spiridonov, veselin, alexandr_mikhailov, ivan],\n",
    "     [kirill, andrey_trubicin, oleksandr, fedor, denys], 11, date(2025, 7, 13 )),\n",
    "\n",
    "    Competition([roman, oleksandr, andrey_trubicin, denys, andrey_selifonov, veselin],\n",
    "     [alex_akimov, loginov_dmitrii, andrey_larionov, vitalik_goalkeeper, artem_bykov, andrey_spiridonov], 1, date(2025, 7, 6 )),\n",
    "\n",
    "    Competition([andrey_selifonov, roman, loginov_dmitrii, andrey_trubicin, kirill, vitalik_goalkeeper],\n",
    "     [oleksandr, andrey_larionov, sergii_kolbasin, andrey_spiridonov, pavel_karacharov, vlad], 2, date(2025, 6, 22 )),\n",
    "\n",
    "    Competition([ivan, artem_bykov, andrey_larionov, oleksandr, gundars_mednis, veselin, vitalii_zhebrakovksy, andrey_spiridonov],\n",
    "     [andrey_trubicin, loginov_dmitrii, dimon_sirnik_lozuk, kirill, alex_akimov, dimon_melkii, roman, sergii_kolbasin], 3, date(2025, 6, 14 )),\n",
    "\n",
    "    Competition([andrey_trubicin, loginov_dmitrii, roman, sergii_kolbasin, gundars_mednis],\n",
    "     [andrey_spiridonov, oleksandr, vlad, alex_akimov, vitalii_zhebrakovksy], 3, date(2025, 6, 9 )),\n",
    "\n",
    "    Competition([ivan, bondarev_yurii, loginov_dmitrii, andrey_larionov, fedor, andrey_spiridonov, roman, dimon_sirnik_lozuk],\n",
    "     [oleksandr, dimon_melkii, andrey_selifonov, artem_bykov, andrey_trubicin, gundars_mednis, pedro_ispanec, veselin], 3, date(2025, 6, 8 )),\n",
    "\n",
    "    Competition([andrey_larionov, vitalii_zhebrakovksy, roman, andrey_spiridonov, loginov_dmitrii, sergii_kolbasin],\n",
    "     [oleksandr, veselin, andrey_selifonov, bondarev_yurii, alex_akimov, andrey_trubicin], 1, date(2025, 5, 25 )),\n",
    "\n",
    "    Competition([oleksandr, fedor, andrey_spiridonov, loginov_dmitrii, vitalii_zhebrakovksy, pavel_karacharov],\n",
    "     [pedro_ispanec, andrey, andrey_trubicin, artem_bykov, roman, kirill], 1, date(2025, 5, 4 )), # 14:13\n",
    "\n",
    "    Competition([loginov_dmitrii, alex_akimov, andrey_larionov, oleksandr, veselin, andrey, andrey_trubicin],\n",
    "     [bondarev_yurii, artem_bykov, ivan, gundars_mednis, andrey_selifonov, roman, andrey_spiridonov], -2, date(2025, 4, 12 )), # 9:11\n",
    "\n",
    "    Competition([andrey_larionov, gundars_mednis, andrey_spiridonov, loginov_dmitrii, andrey_selifonov],\n",
    "     [oleksandr, vitalii_zhebrakovksy, andrey_trubicin, roman, denys], -3, date(2025, 4, 6 )), # 13:16\n",
    "\n",
    "    \n",
    "    \n",
    "    Competition([andrey_trubicin, fedor, gundars_mednis, pedro_ispanec, loginov_dmitrii],\n",
    "     [ivan, roman, alexandr_mikhailov, andrey_spiridonov, andrey_selifonov], -4, date(2025, 3, 29 )),\n",
    "\n",
    "    Competition([loginov_dmitrii, dimon_sirnik_lozuk, roman, sanya, andrey_larionov, sergii_kolbasin, roman, denys],\n",
    "     [veselin, andrey_spiridonov, andrey_trubicin, fedor, pedro_ispanec, artem_bykov, andrey, vlad], -4, date( 2025, 3, 22)),\n",
    "\n",
    "    Competition([roman, andrey_spiridonov, andrey_trubicin, ivan, pedro_ispanec, denys, artem_bykov],\n",
    "     [bondarev_yurii, fedor, kirill, oleksandr, andrey_larionov, veselin, loginov_dmitrii], 0, date(2025, 3, 9)),\n",
    "\n",
    "    Competition([andrey_larionov, oleksandr, andrey_trubicin, veselin, loginov_dmitrii, kirill, roman, pedro_ispanec, pavel_karacharov],\n",
    "     [ivan, dmitro_ilchenko, andrey_spiridonov, fedor, artem_bykov, sanya, sanya_drugilchenko, andrey_selifonov, alexandr_mikhailov], -1, date(2025, 3, 2)),\n",
    "\n",
    "    Competition([oleksandr, vlad, andrey_spiridonov, artem_bykov, andrey_larionov, andrey_trubicin, roman, bondarev_yurii],\n",
    "     [ivan, fedor, loginov_dmitrii, denys, dmitro_ilchenko, andrey_selifonov, sergii_kolbasin, pedro_ispanec], 1, date(2025, 2, 8)),\n",
    "\n",
    "    Competition([roman, andrey_trubicin, ivan, andrey_spiridonov, veselin, vlad, sergii_kolbasin, andrey_selifonov],\n",
    "     [denys, oleksandr, dmitro_ilchenko, fedor, artem_bykov, andrey_larionov, loginov_dmitrii, sanya], 0, date(2025, 2, 1)),\n",
    "\n",
    "    Competition([loginov_dmitrii, alexandr_mikhailov, bondarev_yurii, pavel_karacharov, fedor, dmitro_ilchenko],\n",
    "     [oleksandr, andrey_trubicin, andrey, andrey_larionov, artem_bykov, vitalii_zhebrakovksy], 0, date(2025, 1, 26)),\n",
    "\n",
    "    \n",
    "    Competition([bondarev_yurii, dmitro_ilchenko, roman, andrey_trubicin, andrey_spiridonov, vlad, pavel_karacharov, artem_bykov],\n",
    "     [loginov_dmitrii, veselin, ivan, oleksandr, vitalii_zhebrakovksy, sergii_kolbasin, denys, andrey_larionov], 0, date(2025, 1, 18)),  # Black legs matter\n",
    "\n",
    "    Competition([vitalii_zhebrakovksy, loginov_dmitrii, ivan, andrey_spiridonov, andrey_larionov, andrey_trubicin, veselin],\n",
    "     [sanya, roman, denys, andrey_spiridonov, andrey_selifonov, oleksandr, alex_akimov], 0, date(2024, 12, 29)),\n",
    "]"
   ]
  },
  {
   "cell_type": "code",
   "execution_count": 80,
   "id": "3d69cda4-3b41-4cd8-b966-af42106f8104",
   "metadata": {
    "jupyter": {
     "source_hidden": true
    }
   },
   "outputs": [
    {
     "name": "stdout",
     "output_type": "stream",
     "text": [
      "Shape of teamA_data: (19, 9)\n",
      "teamA_data shape: (19, 9)\n",
      "teamB_data shape: (19, 9)\n",
      "labels shape: (19,)\n"
     ]
    }
   ],
   "source": [
    "np.random.seed(42)  # for reproducibility\n",
    "\n",
    "NUM_PLAYERS = len(team_members_with_ids)\n",
    "MIN_TEAM_SIZE = 5\n",
    "MAX_TEAM_SIZE = 9\n",
    "NUM_GAMES = len(historical_cometitions)\n",
    "\n",
    "teamA_data = np.zeros((NUM_GAMES, MAX_TEAM_SIZE), dtype=int)\n",
    "teamB_data = np.zeros((NUM_GAMES, MAX_TEAM_SIZE), dtype=int)\n",
    "labels = np.zeros(NUM_GAMES)\n",
    "\n",
    "print(f\"Shape of teamA_data: {teamA_data.shape}\")\n",
    "\n",
    "for comp_i, competition in enumerate(historical_cometitions):\n",
    "\n",
    "    teamA_players = competition.team_a\n",
    "    teamB_players = competition.team_b\n",
    "    assert len(teamA_players) == len(teamB_players), f\"Teams are supposed to be of equal size, Team A:{len(teamA_players)} Team B: {len(teamB_players)}\"\n",
    "    team_size = len(teamA_players)\n",
    "\n",
    "    labels[comp_i] = competition.score_diff\n",
    "\n",
    "    # print(teamA_players)\n",
    "    # print(teamB_players)\n",
    "    # Pad teams to max size using zeros (which corresponds to masked player)\n",
    "    teamA_data[comp_i, :team_size] = teamA_players\n",
    "    teamB_data[comp_i, :team_size] = teamB_players\n",
    "\n",
    "print(\"teamA_data shape:\", teamA_data.shape)\n",
    "print(\"teamB_data shape:\", teamB_data.shape)\n",
    "print(\"labels shape:\", labels.shape)"
   ]
  },
  {
   "cell_type": "markdown",
   "id": "77c86620-b38e-488a-a8f4-1f2207bba927",
   "metadata": {},
   "source": [
    "## Version of the model for real data"
   ]
  },
  {
   "cell_type": "code",
   "execution_count": 136,
   "id": "a63e979a-e3f9-4f61-9468-7f5663aada75",
   "metadata": {},
   "outputs": [
    {
     "data": {
      "text/plain": [
       "(10000, 9)"
      ]
     },
     "execution_count": 136,
     "metadata": {},
     "output_type": "execute_result"
    }
   ],
   "source": [
    "teamB_data.shape"
   ]
  },
  {
   "cell_type": "code",
   "execution_count": 82,
   "id": "a702f663-1001-4c3b-9df0-fefa0315aa33",
   "metadata": {
    "collapsed": true,
    "jupyter": {
     "outputs_hidden": true,
     "source_hidden": true
    }
   },
   "outputs": [
    {
     "data": {
      "text/html": [
       "<pre style=\"white-space:pre;overflow-x:auto;line-height:normal;font-family:Menlo,'DejaVu Sans Mono',consolas,'Courier New',monospace\"><span style=\"font-weight: bold\">Model: \"functional_7\"</span>\n",
       "</pre>\n"
      ],
      "text/plain": [
       "\u001b[1mModel: \"functional_7\"\u001b[0m\n"
      ]
     },
     "metadata": {},
     "output_type": "display_data"
    },
    {
     "data": {
      "text/html": [
       "<pre style=\"white-space:pre;overflow-x:auto;line-height:normal;font-family:Menlo,'DejaVu Sans Mono',consolas,'Courier New',monospace\">┏━━━━━━━━━━━━━━━━━━━━━┳━━━━━━━━━━━━━━━━━━━┳━━━━━━━━━━━━┳━━━━━━━━━━━━━━━━━━━┓\n",
       "┃<span style=\"font-weight: bold\"> Layer (type)        </span>┃<span style=\"font-weight: bold\"> Output Shape      </span>┃<span style=\"font-weight: bold\">    Param # </span>┃<span style=\"font-weight: bold\"> Connected to      </span>┃\n",
       "┡━━━━━━━━━━━━━━━━━━━━━╇━━━━━━━━━━━━━━━━━━━╇━━━━━━━━━━━━╇━━━━━━━━━━━━━━━━━━━┩\n",
       "│ teamA (<span style=\"color: #0087ff; text-decoration-color: #0087ff\">InputLayer</span>)  │ (<span style=\"color: #00d7ff; text-decoration-color: #00d7ff\">None</span>, <span style=\"color: #00d7ff; text-decoration-color: #00d7ff\">None</span>)      │          <span style=\"color: #00af00; text-decoration-color: #00af00\">0</span> │ -                 │\n",
       "├─────────────────────┼───────────────────┼────────────┼───────────────────┤\n",
       "│ teamB (<span style=\"color: #0087ff; text-decoration-color: #0087ff\">InputLayer</span>)  │ (<span style=\"color: #00d7ff; text-decoration-color: #00d7ff\">None</span>, <span style=\"color: #00d7ff; text-decoration-color: #00d7ff\">None</span>)      │          <span style=\"color: #00af00; text-decoration-color: #00af00\">0</span> │ -                 │\n",
       "├─────────────────────┼───────────────────┼────────────┼───────────────────┤\n",
       "│ player_embedding    │ (<span style=\"color: #00d7ff; text-decoration-color: #00d7ff\">None</span>, <span style=\"color: #00d7ff; text-decoration-color: #00d7ff\">None</span>, <span style=\"color: #00af00; text-decoration-color: #00af00\">32</span>)  │      <span style=\"color: #00af00; text-decoration-color: #00af00\">1,024</span> │ teamA[<span style=\"color: #00af00; text-decoration-color: #00af00\">0</span>][<span style=\"color: #00af00; text-decoration-color: #00af00\">0</span>],      │\n",
       "│ (<span style=\"color: #0087ff; text-decoration-color: #0087ff\">Embedding</span>)         │                   │            │ teamB[<span style=\"color: #00af00; text-decoration-color: #00af00\">0</span>][<span style=\"color: #00af00; text-decoration-color: #00af00\">0</span>]       │\n",
       "├─────────────────────┼───────────────────┼────────────┼───────────────────┤\n",
       "│ not_equal_14        │ (<span style=\"color: #00d7ff; text-decoration-color: #00d7ff\">None</span>, <span style=\"color: #00d7ff; text-decoration-color: #00d7ff\">None</span>)      │          <span style=\"color: #00af00; text-decoration-color: #00af00\">0</span> │ teamA[<span style=\"color: #00af00; text-decoration-color: #00af00\">0</span>][<span style=\"color: #00af00; text-decoration-color: #00af00\">0</span>]       │\n",
       "│ (<span style=\"color: #0087ff; text-decoration-color: #0087ff\">NotEqual</span>)          │                   │            │                   │\n",
       "├─────────────────────┼───────────────────┼────────────┼───────────────────┤\n",
       "│ not_equal_15        │ (<span style=\"color: #00d7ff; text-decoration-color: #00d7ff\">None</span>, <span style=\"color: #00d7ff; text-decoration-color: #00d7ff\">None</span>)      │          <span style=\"color: #00af00; text-decoration-color: #00af00\">0</span> │ teamB[<span style=\"color: #00af00; text-decoration-color: #00af00\">0</span>][<span style=\"color: #00af00; text-decoration-color: #00af00\">0</span>]       │\n",
       "│ (<span style=\"color: #0087ff; text-decoration-color: #0087ff\">NotEqual</span>)          │                   │            │                   │\n",
       "├─────────────────────┼───────────────────┼────────────┼───────────────────┤\n",
       "│ teamA_attn          │ (<span style=\"color: #00d7ff; text-decoration-color: #00d7ff\">None</span>, <span style=\"color: #00d7ff; text-decoration-color: #00d7ff\">None</span>, <span style=\"color: #00af00; text-decoration-color: #00af00\">32</span>)  │     <span style=\"color: #00af00; text-decoration-color: #00af00\">16,800</span> │ player_embedding… │\n",
       "│ (<span style=\"color: #0087ff; text-decoration-color: #0087ff\">MultiHeadAttentio…</span> │                   │            │ player_embedding… │\n",
       "│                     │                   │            │ not_equal_14[<span style=\"color: #00af00; text-decoration-color: #00af00\">0</span>][<span style=\"color: #00af00; text-decoration-color: #00af00\">…</span> │\n",
       "│                     │                   │            │ not_equal_14[<span style=\"color: #00af00; text-decoration-color: #00af00\">0</span>][<span style=\"color: #00af00; text-decoration-color: #00af00\">…</span> │\n",
       "├─────────────────────┼───────────────────┼────────────┼───────────────────┤\n",
       "│ teamB_attn          │ (<span style=\"color: #00d7ff; text-decoration-color: #00d7ff\">None</span>, <span style=\"color: #00d7ff; text-decoration-color: #00d7ff\">None</span>, <span style=\"color: #00af00; text-decoration-color: #00af00\">32</span>)  │     <span style=\"color: #00af00; text-decoration-color: #00af00\">16,800</span> │ player_embedding… │\n",
       "│ (<span style=\"color: #0087ff; text-decoration-color: #0087ff\">MultiHeadAttentio…</span> │                   │            │ player_embedding… │\n",
       "│                     │                   │            │ not_equal_15[<span style=\"color: #00af00; text-decoration-color: #00af00\">0</span>][<span style=\"color: #00af00; text-decoration-color: #00af00\">…</span> │\n",
       "│                     │                   │            │ not_equal_15[<span style=\"color: #00af00; text-decoration-color: #00af00\">0</span>][<span style=\"color: #00af00; text-decoration-color: #00af00\">…</span> │\n",
       "├─────────────────────┼───────────────────┼────────────┼───────────────────┤\n",
       "│ teamA_residual      │ (<span style=\"color: #00d7ff; text-decoration-color: #00d7ff\">None</span>, <span style=\"color: #00d7ff; text-decoration-color: #00d7ff\">None</span>, <span style=\"color: #00af00; text-decoration-color: #00af00\">32</span>)  │          <span style=\"color: #00af00; text-decoration-color: #00af00\">0</span> │ player_embedding… │\n",
       "│ (<span style=\"color: #0087ff; text-decoration-color: #0087ff\">Add</span>)               │                   │            │ teamA_attn[<span style=\"color: #00af00; text-decoration-color: #00af00\">0</span>][<span style=\"color: #00af00; text-decoration-color: #00af00\">0</span>]  │\n",
       "├─────────────────────┼───────────────────┼────────────┼───────────────────┤\n",
       "│ teamB_residual      │ (<span style=\"color: #00d7ff; text-decoration-color: #00d7ff\">None</span>, <span style=\"color: #00d7ff; text-decoration-color: #00d7ff\">None</span>, <span style=\"color: #00af00; text-decoration-color: #00af00\">32</span>)  │          <span style=\"color: #00af00; text-decoration-color: #00af00\">0</span> │ player_embedding… │\n",
       "│ (<span style=\"color: #0087ff; text-decoration-color: #0087ff\">Add</span>)               │                   │            │ teamB_attn[<span style=\"color: #00af00; text-decoration-color: #00af00\">0</span>][<span style=\"color: #00af00; text-decoration-color: #00af00\">0</span>]  │\n",
       "├─────────────────────┼───────────────────┼────────────┼───────────────────┤\n",
       "│ teamA_norm          │ (<span style=\"color: #00d7ff; text-decoration-color: #00d7ff\">None</span>, <span style=\"color: #00d7ff; text-decoration-color: #00d7ff\">None</span>, <span style=\"color: #00af00; text-decoration-color: #00af00\">32</span>)  │         <span style=\"color: #00af00; text-decoration-color: #00af00\">64</span> │ teamA_residual[<span style=\"color: #00af00; text-decoration-color: #00af00\">0</span>… │\n",
       "│ (<span style=\"color: #0087ff; text-decoration-color: #0087ff\">LayerNormalizatio…</span> │                   │            │                   │\n",
       "├─────────────────────┼───────────────────┼────────────┼───────────────────┤\n",
       "│ logical_or_14       │ (<span style=\"color: #00d7ff; text-decoration-color: #00d7ff\">None</span>, <span style=\"color: #00d7ff; text-decoration-color: #00d7ff\">None</span>)      │          <span style=\"color: #00af00; text-decoration-color: #00af00\">0</span> │ not_equal_14[<span style=\"color: #00af00; text-decoration-color: #00af00\">0</span>][<span style=\"color: #00af00; text-decoration-color: #00af00\">…</span> │\n",
       "│ (<span style=\"color: #0087ff; text-decoration-color: #0087ff\">LogicalOr</span>)         │                   │            │ not_equal_14[<span style=\"color: #00af00; text-decoration-color: #00af00\">0</span>][<span style=\"color: #00af00; text-decoration-color: #00af00\">…</span> │\n",
       "├─────────────────────┼───────────────────┼────────────┼───────────────────┤\n",
       "│ teamB_norm          │ (<span style=\"color: #00d7ff; text-decoration-color: #00d7ff\">None</span>, <span style=\"color: #00d7ff; text-decoration-color: #00d7ff\">None</span>, <span style=\"color: #00af00; text-decoration-color: #00af00\">32</span>)  │         <span style=\"color: #00af00; text-decoration-color: #00af00\">64</span> │ teamB_residual[<span style=\"color: #00af00; text-decoration-color: #00af00\">0</span>… │\n",
       "│ (<span style=\"color: #0087ff; text-decoration-color: #0087ff\">LayerNormalizatio…</span> │                   │            │                   │\n",
       "├─────────────────────┼───────────────────┼────────────┼───────────────────┤\n",
       "│ logical_or_15       │ (<span style=\"color: #00d7ff; text-decoration-color: #00d7ff\">None</span>, <span style=\"color: #00d7ff; text-decoration-color: #00d7ff\">None</span>)      │          <span style=\"color: #00af00; text-decoration-color: #00af00\">0</span> │ not_equal_15[<span style=\"color: #00af00; text-decoration-color: #00af00\">0</span>][<span style=\"color: #00af00; text-decoration-color: #00af00\">…</span> │\n",
       "│ (<span style=\"color: #0087ff; text-decoration-color: #0087ff\">LogicalOr</span>)         │                   │            │ not_equal_15[<span style=\"color: #00af00; text-decoration-color: #00af00\">0</span>][<span style=\"color: #00af00; text-decoration-color: #00af00\">…</span> │\n",
       "├─────────────────────┼───────────────────┼────────────┼───────────────────┤\n",
       "│ teamA_avgpool       │ (<span style=\"color: #00d7ff; text-decoration-color: #00d7ff\">None</span>, <span style=\"color: #00af00; text-decoration-color: #00af00\">32</span>)        │          <span style=\"color: #00af00; text-decoration-color: #00af00\">0</span> │ teamA_norm[<span style=\"color: #00af00; text-decoration-color: #00af00\">0</span>][<span style=\"color: #00af00; text-decoration-color: #00af00\">0</span>], │\n",
       "│ (<span style=\"color: #0087ff; text-decoration-color: #0087ff\">GlobalAveragePool…</span> │                   │            │ logical_or_14[<span style=\"color: #00af00; text-decoration-color: #00af00\">0</span>]… │\n",
       "├─────────────────────┼───────────────────┼────────────┼───────────────────┤\n",
       "│ teamB_avgpool       │ (<span style=\"color: #00d7ff; text-decoration-color: #00d7ff\">None</span>, <span style=\"color: #00af00; text-decoration-color: #00af00\">32</span>)        │          <span style=\"color: #00af00; text-decoration-color: #00af00\">0</span> │ teamB_norm[<span style=\"color: #00af00; text-decoration-color: #00af00\">0</span>][<span style=\"color: #00af00; text-decoration-color: #00af00\">0</span>], │\n",
       "│ (<span style=\"color: #0087ff; text-decoration-color: #0087ff\">GlobalAveragePool…</span> │                   │            │ logical_or_15[<span style=\"color: #00af00; text-decoration-color: #00af00\">0</span>]… │\n",
       "├─────────────────────┼───────────────────┼────────────┼───────────────────┤\n",
       "│ matchup_diff        │ (<span style=\"color: #00d7ff; text-decoration-color: #00d7ff\">None</span>, <span style=\"color: #00af00; text-decoration-color: #00af00\">32</span>)        │          <span style=\"color: #00af00; text-decoration-color: #00af00\">0</span> │ teamA_avgpool[<span style=\"color: #00af00; text-decoration-color: #00af00\">0</span>]… │\n",
       "│ (<span style=\"color: #0087ff; text-decoration-color: #0087ff\">Subtract</span>)          │                   │            │ teamB_avgpool[<span style=\"color: #00af00; text-decoration-color: #00af00\">0</span>]… │\n",
       "├─────────────────────┼───────────────────┼────────────┼───────────────────┤\n",
       "│ match_features      │ (<span style=\"color: #00d7ff; text-decoration-color: #00d7ff\">None</span>, <span style=\"color: #00af00; text-decoration-color: #00af00\">96</span>)        │          <span style=\"color: #00af00; text-decoration-color: #00af00\">0</span> │ teamA_avgpool[<span style=\"color: #00af00; text-decoration-color: #00af00\">0</span>]… │\n",
       "│ (<span style=\"color: #0087ff; text-decoration-color: #0087ff\">Concatenate</span>)       │                   │            │ teamB_avgpool[<span style=\"color: #00af00; text-decoration-color: #00af00\">0</span>]… │\n",
       "│                     │                   │            │ matchup_diff[<span style=\"color: #00af00; text-decoration-color: #00af00\">0</span>][<span style=\"color: #00af00; text-decoration-color: #00af00\">…</span> │\n",
       "├─────────────────────┼───────────────────┼────────────┼───────────────────┤\n",
       "│ dense_14 (<span style=\"color: #0087ff; text-decoration-color: #0087ff\">Dense</span>)    │ (<span style=\"color: #00d7ff; text-decoration-color: #00d7ff\">None</span>, <span style=\"color: #00af00; text-decoration-color: #00af00\">64</span>)        │      <span style=\"color: #00af00; text-decoration-color: #00af00\">6,208</span> │ match_features[<span style=\"color: #00af00; text-decoration-color: #00af00\">0</span>… │\n",
       "├─────────────────────┼───────────────────┼────────────┼───────────────────┤\n",
       "│ dropout_30          │ (<span style=\"color: #00d7ff; text-decoration-color: #00d7ff\">None</span>, <span style=\"color: #00af00; text-decoration-color: #00af00\">64</span>)        │          <span style=\"color: #00af00; text-decoration-color: #00af00\">0</span> │ dense_14[<span style=\"color: #00af00; text-decoration-color: #00af00\">0</span>][<span style=\"color: #00af00; text-decoration-color: #00af00\">0</span>]    │\n",
       "│ (<span style=\"color: #0087ff; text-decoration-color: #0087ff\">Dropout</span>)           │                   │            │                   │\n",
       "├─────────────────────┼───────────────────┼────────────┼───────────────────┤\n",
       "│ dense_15 (<span style=\"color: #0087ff; text-decoration-color: #0087ff\">Dense</span>)    │ (<span style=\"color: #00d7ff; text-decoration-color: #00d7ff\">None</span>, <span style=\"color: #00af00; text-decoration-color: #00af00\">32</span>)        │      <span style=\"color: #00af00; text-decoration-color: #00af00\">2,080</span> │ dropout_30[<span style=\"color: #00af00; text-decoration-color: #00af00\">0</span>][<span style=\"color: #00af00; text-decoration-color: #00af00\">0</span>]  │\n",
       "├─────────────────────┼───────────────────┼────────────┼───────────────────┤\n",
       "│ dropout_31          │ (<span style=\"color: #00d7ff; text-decoration-color: #00d7ff\">None</span>, <span style=\"color: #00af00; text-decoration-color: #00af00\">32</span>)        │          <span style=\"color: #00af00; text-decoration-color: #00af00\">0</span> │ dense_15[<span style=\"color: #00af00; text-decoration-color: #00af00\">0</span>][<span style=\"color: #00af00; text-decoration-color: #00af00\">0</span>]    │\n",
       "│ (<span style=\"color: #0087ff; text-decoration-color: #0087ff\">Dropout</span>)           │                   │            │                   │\n",
       "├─────────────────────┼───────────────────┼────────────┼───────────────────┤\n",
       "│ regression_output   │ (<span style=\"color: #00d7ff; text-decoration-color: #00d7ff\">None</span>, <span style=\"color: #00af00; text-decoration-color: #00af00\">1</span>)         │         <span style=\"color: #00af00; text-decoration-color: #00af00\">33</span> │ dropout_31[<span style=\"color: #00af00; text-decoration-color: #00af00\">0</span>][<span style=\"color: #00af00; text-decoration-color: #00af00\">0</span>]  │\n",
       "│ (<span style=\"color: #0087ff; text-decoration-color: #0087ff\">Dense</span>)             │                   │            │                   │\n",
       "└─────────────────────┴───────────────────┴────────────┴───────────────────┘\n",
       "</pre>\n"
      ],
      "text/plain": [
       "┏━━━━━━━━━━━━━━━━━━━━━┳━━━━━━━━━━━━━━━━━━━┳━━━━━━━━━━━━┳━━━━━━━━━━━━━━━━━━━┓\n",
       "┃\u001b[1m \u001b[0m\u001b[1mLayer (type)       \u001b[0m\u001b[1m \u001b[0m┃\u001b[1m \u001b[0m\u001b[1mOutput Shape     \u001b[0m\u001b[1m \u001b[0m┃\u001b[1m \u001b[0m\u001b[1m   Param #\u001b[0m\u001b[1m \u001b[0m┃\u001b[1m \u001b[0m\u001b[1mConnected to     \u001b[0m\u001b[1m \u001b[0m┃\n",
       "┡━━━━━━━━━━━━━━━━━━━━━╇━━━━━━━━━━━━━━━━━━━╇━━━━━━━━━━━━╇━━━━━━━━━━━━━━━━━━━┩\n",
       "│ teamA (\u001b[38;5;33mInputLayer\u001b[0m)  │ (\u001b[38;5;45mNone\u001b[0m, \u001b[38;5;45mNone\u001b[0m)      │          \u001b[38;5;34m0\u001b[0m │ -                 │\n",
       "├─────────────────────┼───────────────────┼────────────┼───────────────────┤\n",
       "│ teamB (\u001b[38;5;33mInputLayer\u001b[0m)  │ (\u001b[38;5;45mNone\u001b[0m, \u001b[38;5;45mNone\u001b[0m)      │          \u001b[38;5;34m0\u001b[0m │ -                 │\n",
       "├─────────────────────┼───────────────────┼────────────┼───────────────────┤\n",
       "│ player_embedding    │ (\u001b[38;5;45mNone\u001b[0m, \u001b[38;5;45mNone\u001b[0m, \u001b[38;5;34m32\u001b[0m)  │      \u001b[38;5;34m1,024\u001b[0m │ teamA[\u001b[38;5;34m0\u001b[0m][\u001b[38;5;34m0\u001b[0m],      │\n",
       "│ (\u001b[38;5;33mEmbedding\u001b[0m)         │                   │            │ teamB[\u001b[38;5;34m0\u001b[0m][\u001b[38;5;34m0\u001b[0m]       │\n",
       "├─────────────────────┼───────────────────┼────────────┼───────────────────┤\n",
       "│ not_equal_14        │ (\u001b[38;5;45mNone\u001b[0m, \u001b[38;5;45mNone\u001b[0m)      │          \u001b[38;5;34m0\u001b[0m │ teamA[\u001b[38;5;34m0\u001b[0m][\u001b[38;5;34m0\u001b[0m]       │\n",
       "│ (\u001b[38;5;33mNotEqual\u001b[0m)          │                   │            │                   │\n",
       "├─────────────────────┼───────────────────┼────────────┼───────────────────┤\n",
       "│ not_equal_15        │ (\u001b[38;5;45mNone\u001b[0m, \u001b[38;5;45mNone\u001b[0m)      │          \u001b[38;5;34m0\u001b[0m │ teamB[\u001b[38;5;34m0\u001b[0m][\u001b[38;5;34m0\u001b[0m]       │\n",
       "│ (\u001b[38;5;33mNotEqual\u001b[0m)          │                   │            │                   │\n",
       "├─────────────────────┼───────────────────┼────────────┼───────────────────┤\n",
       "│ teamA_attn          │ (\u001b[38;5;45mNone\u001b[0m, \u001b[38;5;45mNone\u001b[0m, \u001b[38;5;34m32\u001b[0m)  │     \u001b[38;5;34m16,800\u001b[0m │ player_embedding… │\n",
       "│ (\u001b[38;5;33mMultiHeadAttentio…\u001b[0m │                   │            │ player_embedding… │\n",
       "│                     │                   │            │ not_equal_14[\u001b[38;5;34m0\u001b[0m][\u001b[38;5;34m…\u001b[0m │\n",
       "│                     │                   │            │ not_equal_14[\u001b[38;5;34m0\u001b[0m][\u001b[38;5;34m…\u001b[0m │\n",
       "├─────────────────────┼───────────────────┼────────────┼───────────────────┤\n",
       "│ teamB_attn          │ (\u001b[38;5;45mNone\u001b[0m, \u001b[38;5;45mNone\u001b[0m, \u001b[38;5;34m32\u001b[0m)  │     \u001b[38;5;34m16,800\u001b[0m │ player_embedding… │\n",
       "│ (\u001b[38;5;33mMultiHeadAttentio…\u001b[0m │                   │            │ player_embedding… │\n",
       "│                     │                   │            │ not_equal_15[\u001b[38;5;34m0\u001b[0m][\u001b[38;5;34m…\u001b[0m │\n",
       "│                     │                   │            │ not_equal_15[\u001b[38;5;34m0\u001b[0m][\u001b[38;5;34m…\u001b[0m │\n",
       "├─────────────────────┼───────────────────┼────────────┼───────────────────┤\n",
       "│ teamA_residual      │ (\u001b[38;5;45mNone\u001b[0m, \u001b[38;5;45mNone\u001b[0m, \u001b[38;5;34m32\u001b[0m)  │          \u001b[38;5;34m0\u001b[0m │ player_embedding… │\n",
       "│ (\u001b[38;5;33mAdd\u001b[0m)               │                   │            │ teamA_attn[\u001b[38;5;34m0\u001b[0m][\u001b[38;5;34m0\u001b[0m]  │\n",
       "├─────────────────────┼───────────────────┼────────────┼───────────────────┤\n",
       "│ teamB_residual      │ (\u001b[38;5;45mNone\u001b[0m, \u001b[38;5;45mNone\u001b[0m, \u001b[38;5;34m32\u001b[0m)  │          \u001b[38;5;34m0\u001b[0m │ player_embedding… │\n",
       "│ (\u001b[38;5;33mAdd\u001b[0m)               │                   │            │ teamB_attn[\u001b[38;5;34m0\u001b[0m][\u001b[38;5;34m0\u001b[0m]  │\n",
       "├─────────────────────┼───────────────────┼────────────┼───────────────────┤\n",
       "│ teamA_norm          │ (\u001b[38;5;45mNone\u001b[0m, \u001b[38;5;45mNone\u001b[0m, \u001b[38;5;34m32\u001b[0m)  │         \u001b[38;5;34m64\u001b[0m │ teamA_residual[\u001b[38;5;34m0\u001b[0m… │\n",
       "│ (\u001b[38;5;33mLayerNormalizatio…\u001b[0m │                   │            │                   │\n",
       "├─────────────────────┼───────────────────┼────────────┼───────────────────┤\n",
       "│ logical_or_14       │ (\u001b[38;5;45mNone\u001b[0m, \u001b[38;5;45mNone\u001b[0m)      │          \u001b[38;5;34m0\u001b[0m │ not_equal_14[\u001b[38;5;34m0\u001b[0m][\u001b[38;5;34m…\u001b[0m │\n",
       "│ (\u001b[38;5;33mLogicalOr\u001b[0m)         │                   │            │ not_equal_14[\u001b[38;5;34m0\u001b[0m][\u001b[38;5;34m…\u001b[0m │\n",
       "├─────────────────────┼───────────────────┼────────────┼───────────────────┤\n",
       "│ teamB_norm          │ (\u001b[38;5;45mNone\u001b[0m, \u001b[38;5;45mNone\u001b[0m, \u001b[38;5;34m32\u001b[0m)  │         \u001b[38;5;34m64\u001b[0m │ teamB_residual[\u001b[38;5;34m0\u001b[0m… │\n",
       "│ (\u001b[38;5;33mLayerNormalizatio…\u001b[0m │                   │            │                   │\n",
       "├─────────────────────┼───────────────────┼────────────┼───────────────────┤\n",
       "│ logical_or_15       │ (\u001b[38;5;45mNone\u001b[0m, \u001b[38;5;45mNone\u001b[0m)      │          \u001b[38;5;34m0\u001b[0m │ not_equal_15[\u001b[38;5;34m0\u001b[0m][\u001b[38;5;34m…\u001b[0m │\n",
       "│ (\u001b[38;5;33mLogicalOr\u001b[0m)         │                   │            │ not_equal_15[\u001b[38;5;34m0\u001b[0m][\u001b[38;5;34m…\u001b[0m │\n",
       "├─────────────────────┼───────────────────┼────────────┼───────────────────┤\n",
       "│ teamA_avgpool       │ (\u001b[38;5;45mNone\u001b[0m, \u001b[38;5;34m32\u001b[0m)        │          \u001b[38;5;34m0\u001b[0m │ teamA_norm[\u001b[38;5;34m0\u001b[0m][\u001b[38;5;34m0\u001b[0m], │\n",
       "│ (\u001b[38;5;33mGlobalAveragePool…\u001b[0m │                   │            │ logical_or_14[\u001b[38;5;34m0\u001b[0m]… │\n",
       "├─────────────────────┼───────────────────┼────────────┼───────────────────┤\n",
       "│ teamB_avgpool       │ (\u001b[38;5;45mNone\u001b[0m, \u001b[38;5;34m32\u001b[0m)        │          \u001b[38;5;34m0\u001b[0m │ teamB_norm[\u001b[38;5;34m0\u001b[0m][\u001b[38;5;34m0\u001b[0m], │\n",
       "│ (\u001b[38;5;33mGlobalAveragePool…\u001b[0m │                   │            │ logical_or_15[\u001b[38;5;34m0\u001b[0m]… │\n",
       "├─────────────────────┼───────────────────┼────────────┼───────────────────┤\n",
       "│ matchup_diff        │ (\u001b[38;5;45mNone\u001b[0m, \u001b[38;5;34m32\u001b[0m)        │          \u001b[38;5;34m0\u001b[0m │ teamA_avgpool[\u001b[38;5;34m0\u001b[0m]… │\n",
       "│ (\u001b[38;5;33mSubtract\u001b[0m)          │                   │            │ teamB_avgpool[\u001b[38;5;34m0\u001b[0m]… │\n",
       "├─────────────────────┼───────────────────┼────────────┼───────────────────┤\n",
       "│ match_features      │ (\u001b[38;5;45mNone\u001b[0m, \u001b[38;5;34m96\u001b[0m)        │          \u001b[38;5;34m0\u001b[0m │ teamA_avgpool[\u001b[38;5;34m0\u001b[0m]… │\n",
       "│ (\u001b[38;5;33mConcatenate\u001b[0m)       │                   │            │ teamB_avgpool[\u001b[38;5;34m0\u001b[0m]… │\n",
       "│                     │                   │            │ matchup_diff[\u001b[38;5;34m0\u001b[0m][\u001b[38;5;34m…\u001b[0m │\n",
       "├─────────────────────┼───────────────────┼────────────┼───────────────────┤\n",
       "│ dense_14 (\u001b[38;5;33mDense\u001b[0m)    │ (\u001b[38;5;45mNone\u001b[0m, \u001b[38;5;34m64\u001b[0m)        │      \u001b[38;5;34m6,208\u001b[0m │ match_features[\u001b[38;5;34m0\u001b[0m… │\n",
       "├─────────────────────┼───────────────────┼────────────┼───────────────────┤\n",
       "│ dropout_30          │ (\u001b[38;5;45mNone\u001b[0m, \u001b[38;5;34m64\u001b[0m)        │          \u001b[38;5;34m0\u001b[0m │ dense_14[\u001b[38;5;34m0\u001b[0m][\u001b[38;5;34m0\u001b[0m]    │\n",
       "│ (\u001b[38;5;33mDropout\u001b[0m)           │                   │            │                   │\n",
       "├─────────────────────┼───────────────────┼────────────┼───────────────────┤\n",
       "│ dense_15 (\u001b[38;5;33mDense\u001b[0m)    │ (\u001b[38;5;45mNone\u001b[0m, \u001b[38;5;34m32\u001b[0m)        │      \u001b[38;5;34m2,080\u001b[0m │ dropout_30[\u001b[38;5;34m0\u001b[0m][\u001b[38;5;34m0\u001b[0m]  │\n",
       "├─────────────────────┼───────────────────┼────────────┼───────────────────┤\n",
       "│ dropout_31          │ (\u001b[38;5;45mNone\u001b[0m, \u001b[38;5;34m32\u001b[0m)        │          \u001b[38;5;34m0\u001b[0m │ dense_15[\u001b[38;5;34m0\u001b[0m][\u001b[38;5;34m0\u001b[0m]    │\n",
       "│ (\u001b[38;5;33mDropout\u001b[0m)           │                   │            │                   │\n",
       "├─────────────────────┼───────────────────┼────────────┼───────────────────┤\n",
       "│ regression_output   │ (\u001b[38;5;45mNone\u001b[0m, \u001b[38;5;34m1\u001b[0m)         │         \u001b[38;5;34m33\u001b[0m │ dropout_31[\u001b[38;5;34m0\u001b[0m][\u001b[38;5;34m0\u001b[0m]  │\n",
       "│ (\u001b[38;5;33mDense\u001b[0m)             │                   │            │                   │\n",
       "└─────────────────────┴───────────────────┴────────────┴───────────────────┘\n"
      ]
     },
     "metadata": {},
     "output_type": "display_data"
    },
    {
     "data": {
      "text/html": [
       "<pre style=\"white-space:pre;overflow-x:auto;line-height:normal;font-family:Menlo,'DejaVu Sans Mono',consolas,'Courier New',monospace\"><span style=\"font-weight: bold\"> Total params: </span><span style=\"color: #00af00; text-decoration-color: #00af00\">43,073</span> (168.25 KB)\n",
       "</pre>\n"
      ],
      "text/plain": [
       "\u001b[1m Total params: \u001b[0m\u001b[38;5;34m43,073\u001b[0m (168.25 KB)\n"
      ]
     },
     "metadata": {},
     "output_type": "display_data"
    },
    {
     "data": {
      "text/html": [
       "<pre style=\"white-space:pre;overflow-x:auto;line-height:normal;font-family:Menlo,'DejaVu Sans Mono',consolas,'Courier New',monospace\"><span style=\"font-weight: bold\"> Trainable params: </span><span style=\"color: #00af00; text-decoration-color: #00af00\">43,073</span> (168.25 KB)\n",
       "</pre>\n"
      ],
      "text/plain": [
       "\u001b[1m Trainable params: \u001b[0m\u001b[38;5;34m43,073\u001b[0m (168.25 KB)\n"
      ]
     },
     "metadata": {},
     "output_type": "display_data"
    },
    {
     "data": {
      "text/html": [
       "<pre style=\"white-space:pre;overflow-x:auto;line-height:normal;font-family:Menlo,'DejaVu Sans Mono',consolas,'Courier New',monospace\"><span style=\"font-weight: bold\"> Non-trainable params: </span><span style=\"color: #00af00; text-decoration-color: #00af00\">0</span> (0.00 B)\n",
       "</pre>\n"
      ],
      "text/plain": [
       "\u001b[1m Non-trainable params: \u001b[0m\u001b[38;5;34m0\u001b[0m (0.00 B)\n"
      ]
     },
     "metadata": {},
     "output_type": "display_data"
    }
   ],
   "source": [
    "# Constants (adjust as needed)\n",
    "NUM_PLAYERS = len(team_members_with_ids)\n",
    "PLAYER_EMB_DIM = 32\n",
    "NUM_CLASSES = 1  # Binary: win/loss\n",
    "\n",
    "# Inputs: variable-length teams\n",
    "teamA_input = Input(shape=(None,), dtype='int32', name='teamA')  # variable-length\n",
    "teamB_input = Input(shape=(None,), dtype='int32', name='teamB')  # variable-length\n",
    "\n",
    "# Embedding layer with mask support\n",
    "player_embedding = layers.Embedding(\n",
    "    input_dim=NUM_PLAYERS + 1,  # includes 0 for mask\n",
    "    output_dim=PLAYER_EMB_DIM,\n",
    "    mask_zero=True,  # Important: enables automatic masking for padding (0 as pad token)\n",
    "    embeddings_regularizer=tf.keras.regularizers.l2(1e-4),\n",
    "    name='player_embedding'\n",
    ")\n",
    "\n",
    "# Embed team players\n",
    "teamA_embeds = player_embedding(teamA_input)  # shape: (batch, teamA_len, emb_dim)\n",
    "teamB_embeds = player_embedding(teamB_input)\n",
    "\n",
    "# Self-attention block (respects masks automatically if using Functional API)\n",
    "def self_attention_block(x, name_prefix=''):\n",
    "    attn_output = layers.MultiHeadAttention(\n",
    "        num_heads=4,\n",
    "        key_dim=PLAYER_EMB_DIM,\n",
    "        dropout=0.1,\n",
    "        name=f'{name_prefix}_attn'\n",
    "    )(x, x)\n",
    "    x = layers.Add(name=f'{name_prefix}_residual')([x, attn_output])\n",
    "    x = layers.LayerNormalization(name=f'{name_prefix}_norm')(x)\n",
    "    return x\n",
    "\n",
    "# Apply attention\n",
    "teamA_attn = self_attention_block(teamA_embeds, 'teamA')\n",
    "teamB_attn = self_attention_block(teamB_embeds, 'teamB')\n",
    "\n",
    "# Global average pooling over valid (non-padded) tokens\n",
    "# TF handles masking automatically in GlobalAveragePooling1D if mask_zero=True\n",
    "teamA_vector = layers.GlobalAveragePooling1D(name='teamA_avgpool')(teamA_attn)\n",
    "teamB_vector = layers.GlobalAveragePooling1D(name='teamB_avgpool')(teamB_attn)\n",
    "\n",
    "# Matchup modeling (difference vector)\n",
    "matchup_vector = layers.Subtract(name='matchup_diff')([teamA_vector, teamB_vector])\n",
    "\n",
    "# Concatenate summary representation\n",
    "match_input = layers.Concatenate(name='match_features')([teamA_vector, teamB_vector, matchup_vector])\n",
    "\n",
    "# Feedforward classification head\n",
    "x = layers.Dense(64, activation='relu', kernel_regularizer=tf.keras.regularizers.l2(1e-4))(match_input)\n",
    "x = layers.Dropout(0.3)(x)\n",
    "x = layers.Dense(32, activation='relu', kernel_regularizer=tf.keras.regularizers.l2(1e-4))(x)\n",
    "x = layers.Dropout(0.3)(x)\n",
    "# output = layers.Dense(NUM_CLASSES, activation='sigmoid')(x)\n",
    "output = layers.Dense(1, activation='linear', name='regression_output')(x)\n",
    "\n",
    "# Final model\n",
    "model = Model(inputs=[teamA_input, teamB_input], outputs=output)\n",
    "model.compile(optimizer='adam', \n",
    "              loss='mean_squared_error',   # or 'mean_absolute_error'\n",
    "                metrics=['mean_absolute_error']\n",
    "             )\n",
    "\n",
    "model.summary()"
   ]
  },
  {
   "cell_type": "markdown",
   "id": "e122be55-c827-4dd6-98a7-af55f039bf30",
   "metadata": {},
   "source": [
    "## Version of the model for generated data"
   ]
  },
  {
   "cell_type": "code",
   "execution_count": 241,
   "id": "0182ee2a-00af-4fd4-9cda-d28b9c79ec9a",
   "metadata": {},
   "outputs": [
    {
     "data": {
      "text/html": [
       "<pre style=\"white-space:pre;overflow-x:auto;line-height:normal;font-family:Menlo,'DejaVu Sans Mono',consolas,'Courier New',monospace\"><span style=\"font-weight: bold\">Model: \"functional_24\"</span>\n",
       "</pre>\n"
      ],
      "text/plain": [
       "\u001b[1mModel: \"functional_24\"\u001b[0m\n"
      ]
     },
     "metadata": {},
     "output_type": "display_data"
    },
    {
     "data": {
      "text/html": [
       "<pre style=\"white-space:pre;overflow-x:auto;line-height:normal;font-family:Menlo,'DejaVu Sans Mono',consolas,'Courier New',monospace\">┏━━━━━━━━━━━━━━━━━━━━━┳━━━━━━━━━━━━━━━━━━━┳━━━━━━━━━━━━┳━━━━━━━━━━━━━━━━━━━┓\n",
       "┃<span style=\"font-weight: bold\"> Layer (type)        </span>┃<span style=\"font-weight: bold\"> Output Shape      </span>┃<span style=\"font-weight: bold\">    Param # </span>┃<span style=\"font-weight: bold\"> Connected to      </span>┃\n",
       "┡━━━━━━━━━━━━━━━━━━━━━╇━━━━━━━━━━━━━━━━━━━╇━━━━━━━━━━━━╇━━━━━━━━━━━━━━━━━━━┩\n",
       "│ teamA (<span style=\"color: #0087ff; text-decoration-color: #0087ff\">InputLayer</span>)  │ (<span style=\"color: #00d7ff; text-decoration-color: #00d7ff\">None</span>, <span style=\"color: #00d7ff; text-decoration-color: #00d7ff\">None</span>)      │          <span style=\"color: #00af00; text-decoration-color: #00af00\">0</span> │ -                 │\n",
       "├─────────────────────┼───────────────────┼────────────┼───────────────────┤\n",
       "│ teamB (<span style=\"color: #0087ff; text-decoration-color: #0087ff\">InputLayer</span>)  │ (<span style=\"color: #00d7ff; text-decoration-color: #00d7ff\">None</span>, <span style=\"color: #00d7ff; text-decoration-color: #00d7ff\">None</span>)      │          <span style=\"color: #00af00; text-decoration-color: #00af00\">0</span> │ -                 │\n",
       "├─────────────────────┼───────────────────┼────────────┼───────────────────┤\n",
       "│ player_embedding    │ (<span style=\"color: #00d7ff; text-decoration-color: #00d7ff\">None</span>, <span style=\"color: #00d7ff; text-decoration-color: #00d7ff\">None</span>, <span style=\"color: #00af00; text-decoration-color: #00af00\">32</span>)  │        <span style=\"color: #00af00; text-decoration-color: #00af00\">992</span> │ teamA[<span style=\"color: #00af00; text-decoration-color: #00af00\">0</span>][<span style=\"color: #00af00; text-decoration-color: #00af00\">0</span>],      │\n",
       "│ (<span style=\"color: #0087ff; text-decoration-color: #0087ff\">Embedding</span>)         │                   │            │ teamB[<span style=\"color: #00af00; text-decoration-color: #00af00\">0</span>][<span style=\"color: #00af00; text-decoration-color: #00af00\">0</span>]       │\n",
       "├─────────────────────┼───────────────────┼────────────┼───────────────────┤\n",
       "│ not_equal_48        │ (<span style=\"color: #00d7ff; text-decoration-color: #00d7ff\">None</span>, <span style=\"color: #00d7ff; text-decoration-color: #00d7ff\">None</span>)      │          <span style=\"color: #00af00; text-decoration-color: #00af00\">0</span> │ teamA[<span style=\"color: #00af00; text-decoration-color: #00af00\">0</span>][<span style=\"color: #00af00; text-decoration-color: #00af00\">0</span>]       │\n",
       "│ (<span style=\"color: #0087ff; text-decoration-color: #0087ff\">NotEqual</span>)          │                   │            │                   │\n",
       "├─────────────────────┼───────────────────┼────────────┼───────────────────┤\n",
       "│ not_equal_49        │ (<span style=\"color: #00d7ff; text-decoration-color: #00d7ff\">None</span>, <span style=\"color: #00d7ff; text-decoration-color: #00d7ff\">None</span>)      │          <span style=\"color: #00af00; text-decoration-color: #00af00\">0</span> │ teamB[<span style=\"color: #00af00; text-decoration-color: #00af00\">0</span>][<span style=\"color: #00af00; text-decoration-color: #00af00\">0</span>]       │\n",
       "│ (<span style=\"color: #0087ff; text-decoration-color: #0087ff\">NotEqual</span>)          │                   │            │                   │\n",
       "├─────────────────────┼───────────────────┼────────────┼───────────────────┤\n",
       "│ teamA_attn          │ (<span style=\"color: #00d7ff; text-decoration-color: #00d7ff\">None</span>, <span style=\"color: #00d7ff; text-decoration-color: #00d7ff\">None</span>, <span style=\"color: #00af00; text-decoration-color: #00af00\">32</span>)  │     <span style=\"color: #00af00; text-decoration-color: #00af00\">16,800</span> │ player_embedding… │\n",
       "│ (<span style=\"color: #0087ff; text-decoration-color: #0087ff\">MultiHeadAttentio…</span> │                   │            │ player_embedding… │\n",
       "│                     │                   │            │ not_equal_48[<span style=\"color: #00af00; text-decoration-color: #00af00\">0</span>][<span style=\"color: #00af00; text-decoration-color: #00af00\">…</span> │\n",
       "│                     │                   │            │ not_equal_48[<span style=\"color: #00af00; text-decoration-color: #00af00\">0</span>][<span style=\"color: #00af00; text-decoration-color: #00af00\">…</span> │\n",
       "├─────────────────────┼───────────────────┼────────────┼───────────────────┤\n",
       "│ teamB_attn          │ (<span style=\"color: #00d7ff; text-decoration-color: #00d7ff\">None</span>, <span style=\"color: #00d7ff; text-decoration-color: #00d7ff\">None</span>, <span style=\"color: #00af00; text-decoration-color: #00af00\">32</span>)  │     <span style=\"color: #00af00; text-decoration-color: #00af00\">16,800</span> │ player_embedding… │\n",
       "│ (<span style=\"color: #0087ff; text-decoration-color: #0087ff\">MultiHeadAttentio…</span> │                   │            │ player_embedding… │\n",
       "│                     │                   │            │ not_equal_49[<span style=\"color: #00af00; text-decoration-color: #00af00\">0</span>][<span style=\"color: #00af00; text-decoration-color: #00af00\">…</span> │\n",
       "│                     │                   │            │ not_equal_49[<span style=\"color: #00af00; text-decoration-color: #00af00\">0</span>][<span style=\"color: #00af00; text-decoration-color: #00af00\">…</span> │\n",
       "├─────────────────────┼───────────────────┼────────────┼───────────────────┤\n",
       "│ teamA_residual      │ (<span style=\"color: #00d7ff; text-decoration-color: #00d7ff\">None</span>, <span style=\"color: #00d7ff; text-decoration-color: #00d7ff\">None</span>, <span style=\"color: #00af00; text-decoration-color: #00af00\">32</span>)  │          <span style=\"color: #00af00; text-decoration-color: #00af00\">0</span> │ player_embedding… │\n",
       "│ (<span style=\"color: #0087ff; text-decoration-color: #0087ff\">Add</span>)               │                   │            │ teamA_attn[<span style=\"color: #00af00; text-decoration-color: #00af00\">0</span>][<span style=\"color: #00af00; text-decoration-color: #00af00\">0</span>]  │\n",
       "├─────────────────────┼───────────────────┼────────────┼───────────────────┤\n",
       "│ teamB_residual      │ (<span style=\"color: #00d7ff; text-decoration-color: #00d7ff\">None</span>, <span style=\"color: #00d7ff; text-decoration-color: #00d7ff\">None</span>, <span style=\"color: #00af00; text-decoration-color: #00af00\">32</span>)  │          <span style=\"color: #00af00; text-decoration-color: #00af00\">0</span> │ player_embedding… │\n",
       "│ (<span style=\"color: #0087ff; text-decoration-color: #0087ff\">Add</span>)               │                   │            │ teamB_attn[<span style=\"color: #00af00; text-decoration-color: #00af00\">0</span>][<span style=\"color: #00af00; text-decoration-color: #00af00\">0</span>]  │\n",
       "├─────────────────────┼───────────────────┼────────────┼───────────────────┤\n",
       "│ teamA_norm          │ (<span style=\"color: #00d7ff; text-decoration-color: #00d7ff\">None</span>, <span style=\"color: #00d7ff; text-decoration-color: #00d7ff\">None</span>, <span style=\"color: #00af00; text-decoration-color: #00af00\">32</span>)  │         <span style=\"color: #00af00; text-decoration-color: #00af00\">64</span> │ teamA_residual[<span style=\"color: #00af00; text-decoration-color: #00af00\">0</span>… │\n",
       "│ (<span style=\"color: #0087ff; text-decoration-color: #0087ff\">LayerNormalizatio…</span> │                   │            │                   │\n",
       "├─────────────────────┼───────────────────┼────────────┼───────────────────┤\n",
       "│ logical_or_48       │ (<span style=\"color: #00d7ff; text-decoration-color: #00d7ff\">None</span>, <span style=\"color: #00d7ff; text-decoration-color: #00d7ff\">None</span>)      │          <span style=\"color: #00af00; text-decoration-color: #00af00\">0</span> │ not_equal_48[<span style=\"color: #00af00; text-decoration-color: #00af00\">0</span>][<span style=\"color: #00af00; text-decoration-color: #00af00\">…</span> │\n",
       "│ (<span style=\"color: #0087ff; text-decoration-color: #0087ff\">LogicalOr</span>)         │                   │            │ not_equal_48[<span style=\"color: #00af00; text-decoration-color: #00af00\">0</span>][<span style=\"color: #00af00; text-decoration-color: #00af00\">…</span> │\n",
       "├─────────────────────┼───────────────────┼────────────┼───────────────────┤\n",
       "│ teamB_norm          │ (<span style=\"color: #00d7ff; text-decoration-color: #00d7ff\">None</span>, <span style=\"color: #00d7ff; text-decoration-color: #00d7ff\">None</span>, <span style=\"color: #00af00; text-decoration-color: #00af00\">32</span>)  │         <span style=\"color: #00af00; text-decoration-color: #00af00\">64</span> │ teamB_residual[<span style=\"color: #00af00; text-decoration-color: #00af00\">0</span>… │\n",
       "│ (<span style=\"color: #0087ff; text-decoration-color: #0087ff\">LayerNormalizatio…</span> │                   │            │                   │\n",
       "├─────────────────────┼───────────────────┼────────────┼───────────────────┤\n",
       "│ logical_or_49       │ (<span style=\"color: #00d7ff; text-decoration-color: #00d7ff\">None</span>, <span style=\"color: #00d7ff; text-decoration-color: #00d7ff\">None</span>)      │          <span style=\"color: #00af00; text-decoration-color: #00af00\">0</span> │ not_equal_49[<span style=\"color: #00af00; text-decoration-color: #00af00\">0</span>][<span style=\"color: #00af00; text-decoration-color: #00af00\">…</span> │\n",
       "│ (<span style=\"color: #0087ff; text-decoration-color: #0087ff\">LogicalOr</span>)         │                   │            │ not_equal_49[<span style=\"color: #00af00; text-decoration-color: #00af00\">0</span>][<span style=\"color: #00af00; text-decoration-color: #00af00\">…</span> │\n",
       "├─────────────────────┼───────────────────┼────────────┼───────────────────┤\n",
       "│ teamA_avgpool       │ (<span style=\"color: #00d7ff; text-decoration-color: #00d7ff\">None</span>, <span style=\"color: #00af00; text-decoration-color: #00af00\">32</span>)        │          <span style=\"color: #00af00; text-decoration-color: #00af00\">0</span> │ teamA_norm[<span style=\"color: #00af00; text-decoration-color: #00af00\">0</span>][<span style=\"color: #00af00; text-decoration-color: #00af00\">0</span>], │\n",
       "│ (<span style=\"color: #0087ff; text-decoration-color: #0087ff\">GlobalAveragePool…</span> │                   │            │ logical_or_48[<span style=\"color: #00af00; text-decoration-color: #00af00\">0</span>]… │\n",
       "├─────────────────────┼───────────────────┼────────────┼───────────────────┤\n",
       "│ teamB_avgpool       │ (<span style=\"color: #00d7ff; text-decoration-color: #00d7ff\">None</span>, <span style=\"color: #00af00; text-decoration-color: #00af00\">32</span>)        │          <span style=\"color: #00af00; text-decoration-color: #00af00\">0</span> │ teamB_norm[<span style=\"color: #00af00; text-decoration-color: #00af00\">0</span>][<span style=\"color: #00af00; text-decoration-color: #00af00\">0</span>], │\n",
       "│ (<span style=\"color: #0087ff; text-decoration-color: #0087ff\">GlobalAveragePool…</span> │                   │            │ logical_or_49[<span style=\"color: #00af00; text-decoration-color: #00af00\">0</span>]… │\n",
       "├─────────────────────┼───────────────────┼────────────┼───────────────────┤\n",
       "│ matchup_diff        │ (<span style=\"color: #00d7ff; text-decoration-color: #00d7ff\">None</span>, <span style=\"color: #00af00; text-decoration-color: #00af00\">32</span>)        │          <span style=\"color: #00af00; text-decoration-color: #00af00\">0</span> │ teamA_avgpool[<span style=\"color: #00af00; text-decoration-color: #00af00\">0</span>]… │\n",
       "│ (<span style=\"color: #0087ff; text-decoration-color: #0087ff\">Subtract</span>)          │                   │            │ teamB_avgpool[<span style=\"color: #00af00; text-decoration-color: #00af00\">0</span>]… │\n",
       "├─────────────────────┼───────────────────┼────────────┼───────────────────┤\n",
       "│ match_features      │ (<span style=\"color: #00d7ff; text-decoration-color: #00d7ff\">None</span>, <span style=\"color: #00af00; text-decoration-color: #00af00\">96</span>)        │          <span style=\"color: #00af00; text-decoration-color: #00af00\">0</span> │ teamA_avgpool[<span style=\"color: #00af00; text-decoration-color: #00af00\">0</span>]… │\n",
       "│ (<span style=\"color: #0087ff; text-decoration-color: #0087ff\">Concatenate</span>)       │                   │            │ teamB_avgpool[<span style=\"color: #00af00; text-decoration-color: #00af00\">0</span>]… │\n",
       "│                     │                   │            │ matchup_diff[<span style=\"color: #00af00; text-decoration-color: #00af00\">0</span>][<span style=\"color: #00af00; text-decoration-color: #00af00\">…</span> │\n",
       "├─────────────────────┼───────────────────┼────────────┼───────────────────┤\n",
       "│ dense_48 (<span style=\"color: #0087ff; text-decoration-color: #0087ff\">Dense</span>)    │ (<span style=\"color: #00d7ff; text-decoration-color: #00d7ff\">None</span>, <span style=\"color: #00af00; text-decoration-color: #00af00\">64</span>)        │      <span style=\"color: #00af00; text-decoration-color: #00af00\">6,208</span> │ match_features[<span style=\"color: #00af00; text-decoration-color: #00af00\">0</span>… │\n",
       "├─────────────────────┼───────────────────┼────────────┼───────────────────┤\n",
       "│ dropout_98          │ (<span style=\"color: #00d7ff; text-decoration-color: #00d7ff\">None</span>, <span style=\"color: #00af00; text-decoration-color: #00af00\">64</span>)        │          <span style=\"color: #00af00; text-decoration-color: #00af00\">0</span> │ dense_48[<span style=\"color: #00af00; text-decoration-color: #00af00\">0</span>][<span style=\"color: #00af00; text-decoration-color: #00af00\">0</span>]    │\n",
       "│ (<span style=\"color: #0087ff; text-decoration-color: #0087ff\">Dropout</span>)           │                   │            │                   │\n",
       "├─────────────────────┼───────────────────┼────────────┼───────────────────┤\n",
       "│ dense_49 (<span style=\"color: #0087ff; text-decoration-color: #0087ff\">Dense</span>)    │ (<span style=\"color: #00d7ff; text-decoration-color: #00d7ff\">None</span>, <span style=\"color: #00af00; text-decoration-color: #00af00\">32</span>)        │      <span style=\"color: #00af00; text-decoration-color: #00af00\">2,080</span> │ dropout_98[<span style=\"color: #00af00; text-decoration-color: #00af00\">0</span>][<span style=\"color: #00af00; text-decoration-color: #00af00\">0</span>]  │\n",
       "├─────────────────────┼───────────────────┼────────────┼───────────────────┤\n",
       "│ dropout_99          │ (<span style=\"color: #00d7ff; text-decoration-color: #00d7ff\">None</span>, <span style=\"color: #00af00; text-decoration-color: #00af00\">32</span>)        │          <span style=\"color: #00af00; text-decoration-color: #00af00\">0</span> │ dense_49[<span style=\"color: #00af00; text-decoration-color: #00af00\">0</span>][<span style=\"color: #00af00; text-decoration-color: #00af00\">0</span>]    │\n",
       "│ (<span style=\"color: #0087ff; text-decoration-color: #0087ff\">Dropout</span>)           │                   │            │                   │\n",
       "├─────────────────────┼───────────────────┼────────────┼───────────────────┤\n",
       "│ regression_output   │ (<span style=\"color: #00d7ff; text-decoration-color: #00d7ff\">None</span>, <span style=\"color: #00af00; text-decoration-color: #00af00\">1</span>)         │         <span style=\"color: #00af00; text-decoration-color: #00af00\">33</span> │ dropout_99[<span style=\"color: #00af00; text-decoration-color: #00af00\">0</span>][<span style=\"color: #00af00; text-decoration-color: #00af00\">0</span>]  │\n",
       "│ (<span style=\"color: #0087ff; text-decoration-color: #0087ff\">Dense</span>)             │                   │            │                   │\n",
       "└─────────────────────┴───────────────────┴────────────┴───────────────────┘\n",
       "</pre>\n"
      ],
      "text/plain": [
       "┏━━━━━━━━━━━━━━━━━━━━━┳━━━━━━━━━━━━━━━━━━━┳━━━━━━━━━━━━┳━━━━━━━━━━━━━━━━━━━┓\n",
       "┃\u001b[1m \u001b[0m\u001b[1mLayer (type)       \u001b[0m\u001b[1m \u001b[0m┃\u001b[1m \u001b[0m\u001b[1mOutput Shape     \u001b[0m\u001b[1m \u001b[0m┃\u001b[1m \u001b[0m\u001b[1m   Param #\u001b[0m\u001b[1m \u001b[0m┃\u001b[1m \u001b[0m\u001b[1mConnected to     \u001b[0m\u001b[1m \u001b[0m┃\n",
       "┡━━━━━━━━━━━━━━━━━━━━━╇━━━━━━━━━━━━━━━━━━━╇━━━━━━━━━━━━╇━━━━━━━━━━━━━━━━━━━┩\n",
       "│ teamA (\u001b[38;5;33mInputLayer\u001b[0m)  │ (\u001b[38;5;45mNone\u001b[0m, \u001b[38;5;45mNone\u001b[0m)      │          \u001b[38;5;34m0\u001b[0m │ -                 │\n",
       "├─────────────────────┼───────────────────┼────────────┼───────────────────┤\n",
       "│ teamB (\u001b[38;5;33mInputLayer\u001b[0m)  │ (\u001b[38;5;45mNone\u001b[0m, \u001b[38;5;45mNone\u001b[0m)      │          \u001b[38;5;34m0\u001b[0m │ -                 │\n",
       "├─────────────────────┼───────────────────┼────────────┼───────────────────┤\n",
       "│ player_embedding    │ (\u001b[38;5;45mNone\u001b[0m, \u001b[38;5;45mNone\u001b[0m, \u001b[38;5;34m32\u001b[0m)  │        \u001b[38;5;34m992\u001b[0m │ teamA[\u001b[38;5;34m0\u001b[0m][\u001b[38;5;34m0\u001b[0m],      │\n",
       "│ (\u001b[38;5;33mEmbedding\u001b[0m)         │                   │            │ teamB[\u001b[38;5;34m0\u001b[0m][\u001b[38;5;34m0\u001b[0m]       │\n",
       "├─────────────────────┼───────────────────┼────────────┼───────────────────┤\n",
       "│ not_equal_48        │ (\u001b[38;5;45mNone\u001b[0m, \u001b[38;5;45mNone\u001b[0m)      │          \u001b[38;5;34m0\u001b[0m │ teamA[\u001b[38;5;34m0\u001b[0m][\u001b[38;5;34m0\u001b[0m]       │\n",
       "│ (\u001b[38;5;33mNotEqual\u001b[0m)          │                   │            │                   │\n",
       "├─────────────────────┼───────────────────┼────────────┼───────────────────┤\n",
       "│ not_equal_49        │ (\u001b[38;5;45mNone\u001b[0m, \u001b[38;5;45mNone\u001b[0m)      │          \u001b[38;5;34m0\u001b[0m │ teamB[\u001b[38;5;34m0\u001b[0m][\u001b[38;5;34m0\u001b[0m]       │\n",
       "│ (\u001b[38;5;33mNotEqual\u001b[0m)          │                   │            │                   │\n",
       "├─────────────────────┼───────────────────┼────────────┼───────────────────┤\n",
       "│ teamA_attn          │ (\u001b[38;5;45mNone\u001b[0m, \u001b[38;5;45mNone\u001b[0m, \u001b[38;5;34m32\u001b[0m)  │     \u001b[38;5;34m16,800\u001b[0m │ player_embedding… │\n",
       "│ (\u001b[38;5;33mMultiHeadAttentio…\u001b[0m │                   │            │ player_embedding… │\n",
       "│                     │                   │            │ not_equal_48[\u001b[38;5;34m0\u001b[0m][\u001b[38;5;34m…\u001b[0m │\n",
       "│                     │                   │            │ not_equal_48[\u001b[38;5;34m0\u001b[0m][\u001b[38;5;34m…\u001b[0m │\n",
       "├─────────────────────┼───────────────────┼────────────┼───────────────────┤\n",
       "│ teamB_attn          │ (\u001b[38;5;45mNone\u001b[0m, \u001b[38;5;45mNone\u001b[0m, \u001b[38;5;34m32\u001b[0m)  │     \u001b[38;5;34m16,800\u001b[0m │ player_embedding… │\n",
       "│ (\u001b[38;5;33mMultiHeadAttentio…\u001b[0m │                   │            │ player_embedding… │\n",
       "│                     │                   │            │ not_equal_49[\u001b[38;5;34m0\u001b[0m][\u001b[38;5;34m…\u001b[0m │\n",
       "│                     │                   │            │ not_equal_49[\u001b[38;5;34m0\u001b[0m][\u001b[38;5;34m…\u001b[0m │\n",
       "├─────────────────────┼───────────────────┼────────────┼───────────────────┤\n",
       "│ teamA_residual      │ (\u001b[38;5;45mNone\u001b[0m, \u001b[38;5;45mNone\u001b[0m, \u001b[38;5;34m32\u001b[0m)  │          \u001b[38;5;34m0\u001b[0m │ player_embedding… │\n",
       "│ (\u001b[38;5;33mAdd\u001b[0m)               │                   │            │ teamA_attn[\u001b[38;5;34m0\u001b[0m][\u001b[38;5;34m0\u001b[0m]  │\n",
       "├─────────────────────┼───────────────────┼────────────┼───────────────────┤\n",
       "│ teamB_residual      │ (\u001b[38;5;45mNone\u001b[0m, \u001b[38;5;45mNone\u001b[0m, \u001b[38;5;34m32\u001b[0m)  │          \u001b[38;5;34m0\u001b[0m │ player_embedding… │\n",
       "│ (\u001b[38;5;33mAdd\u001b[0m)               │                   │            │ teamB_attn[\u001b[38;5;34m0\u001b[0m][\u001b[38;5;34m0\u001b[0m]  │\n",
       "├─────────────────────┼───────────────────┼────────────┼───────────────────┤\n",
       "│ teamA_norm          │ (\u001b[38;5;45mNone\u001b[0m, \u001b[38;5;45mNone\u001b[0m, \u001b[38;5;34m32\u001b[0m)  │         \u001b[38;5;34m64\u001b[0m │ teamA_residual[\u001b[38;5;34m0\u001b[0m… │\n",
       "│ (\u001b[38;5;33mLayerNormalizatio…\u001b[0m │                   │            │                   │\n",
       "├─────────────────────┼───────────────────┼────────────┼───────────────────┤\n",
       "│ logical_or_48       │ (\u001b[38;5;45mNone\u001b[0m, \u001b[38;5;45mNone\u001b[0m)      │          \u001b[38;5;34m0\u001b[0m │ not_equal_48[\u001b[38;5;34m0\u001b[0m][\u001b[38;5;34m…\u001b[0m │\n",
       "│ (\u001b[38;5;33mLogicalOr\u001b[0m)         │                   │            │ not_equal_48[\u001b[38;5;34m0\u001b[0m][\u001b[38;5;34m…\u001b[0m │\n",
       "├─────────────────────┼───────────────────┼────────────┼───────────────────┤\n",
       "│ teamB_norm          │ (\u001b[38;5;45mNone\u001b[0m, \u001b[38;5;45mNone\u001b[0m, \u001b[38;5;34m32\u001b[0m)  │         \u001b[38;5;34m64\u001b[0m │ teamB_residual[\u001b[38;5;34m0\u001b[0m… │\n",
       "│ (\u001b[38;5;33mLayerNormalizatio…\u001b[0m │                   │            │                   │\n",
       "├─────────────────────┼───────────────────┼────────────┼───────────────────┤\n",
       "│ logical_or_49       │ (\u001b[38;5;45mNone\u001b[0m, \u001b[38;5;45mNone\u001b[0m)      │          \u001b[38;5;34m0\u001b[0m │ not_equal_49[\u001b[38;5;34m0\u001b[0m][\u001b[38;5;34m…\u001b[0m │\n",
       "│ (\u001b[38;5;33mLogicalOr\u001b[0m)         │                   │            │ not_equal_49[\u001b[38;5;34m0\u001b[0m][\u001b[38;5;34m…\u001b[0m │\n",
       "├─────────────────────┼───────────────────┼────────────┼───────────────────┤\n",
       "│ teamA_avgpool       │ (\u001b[38;5;45mNone\u001b[0m, \u001b[38;5;34m32\u001b[0m)        │          \u001b[38;5;34m0\u001b[0m │ teamA_norm[\u001b[38;5;34m0\u001b[0m][\u001b[38;5;34m0\u001b[0m], │\n",
       "│ (\u001b[38;5;33mGlobalAveragePool…\u001b[0m │                   │            │ logical_or_48[\u001b[38;5;34m0\u001b[0m]… │\n",
       "├─────────────────────┼───────────────────┼────────────┼───────────────────┤\n",
       "│ teamB_avgpool       │ (\u001b[38;5;45mNone\u001b[0m, \u001b[38;5;34m32\u001b[0m)        │          \u001b[38;5;34m0\u001b[0m │ teamB_norm[\u001b[38;5;34m0\u001b[0m][\u001b[38;5;34m0\u001b[0m], │\n",
       "│ (\u001b[38;5;33mGlobalAveragePool…\u001b[0m │                   │            │ logical_or_49[\u001b[38;5;34m0\u001b[0m]… │\n",
       "├─────────────────────┼───────────────────┼────────────┼───────────────────┤\n",
       "│ matchup_diff        │ (\u001b[38;5;45mNone\u001b[0m, \u001b[38;5;34m32\u001b[0m)        │          \u001b[38;5;34m0\u001b[0m │ teamA_avgpool[\u001b[38;5;34m0\u001b[0m]… │\n",
       "│ (\u001b[38;5;33mSubtract\u001b[0m)          │                   │            │ teamB_avgpool[\u001b[38;5;34m0\u001b[0m]… │\n",
       "├─────────────────────┼───────────────────┼────────────┼───────────────────┤\n",
       "│ match_features      │ (\u001b[38;5;45mNone\u001b[0m, \u001b[38;5;34m96\u001b[0m)        │          \u001b[38;5;34m0\u001b[0m │ teamA_avgpool[\u001b[38;5;34m0\u001b[0m]… │\n",
       "│ (\u001b[38;5;33mConcatenate\u001b[0m)       │                   │            │ teamB_avgpool[\u001b[38;5;34m0\u001b[0m]… │\n",
       "│                     │                   │            │ matchup_diff[\u001b[38;5;34m0\u001b[0m][\u001b[38;5;34m…\u001b[0m │\n",
       "├─────────────────────┼───────────────────┼────────────┼───────────────────┤\n",
       "│ dense_48 (\u001b[38;5;33mDense\u001b[0m)    │ (\u001b[38;5;45mNone\u001b[0m, \u001b[38;5;34m64\u001b[0m)        │      \u001b[38;5;34m6,208\u001b[0m │ match_features[\u001b[38;5;34m0\u001b[0m… │\n",
       "├─────────────────────┼───────────────────┼────────────┼───────────────────┤\n",
       "│ dropout_98          │ (\u001b[38;5;45mNone\u001b[0m, \u001b[38;5;34m64\u001b[0m)        │          \u001b[38;5;34m0\u001b[0m │ dense_48[\u001b[38;5;34m0\u001b[0m][\u001b[38;5;34m0\u001b[0m]    │\n",
       "│ (\u001b[38;5;33mDropout\u001b[0m)           │                   │            │                   │\n",
       "├─────────────────────┼───────────────────┼────────────┼───────────────────┤\n",
       "│ dense_49 (\u001b[38;5;33mDense\u001b[0m)    │ (\u001b[38;5;45mNone\u001b[0m, \u001b[38;5;34m32\u001b[0m)        │      \u001b[38;5;34m2,080\u001b[0m │ dropout_98[\u001b[38;5;34m0\u001b[0m][\u001b[38;5;34m0\u001b[0m]  │\n",
       "├─────────────────────┼───────────────────┼────────────┼───────────────────┤\n",
       "│ dropout_99          │ (\u001b[38;5;45mNone\u001b[0m, \u001b[38;5;34m32\u001b[0m)        │          \u001b[38;5;34m0\u001b[0m │ dense_49[\u001b[38;5;34m0\u001b[0m][\u001b[38;5;34m0\u001b[0m]    │\n",
       "│ (\u001b[38;5;33mDropout\u001b[0m)           │                   │            │                   │\n",
       "├─────────────────────┼───────────────────┼────────────┼───────────────────┤\n",
       "│ regression_output   │ (\u001b[38;5;45mNone\u001b[0m, \u001b[38;5;34m1\u001b[0m)         │         \u001b[38;5;34m33\u001b[0m │ dropout_99[\u001b[38;5;34m0\u001b[0m][\u001b[38;5;34m0\u001b[0m]  │\n",
       "│ (\u001b[38;5;33mDense\u001b[0m)             │                   │            │                   │\n",
       "└─────────────────────┴───────────────────┴────────────┴───────────────────┘\n"
      ]
     },
     "metadata": {},
     "output_type": "display_data"
    },
    {
     "data": {
      "text/html": [
       "<pre style=\"white-space:pre;overflow-x:auto;line-height:normal;font-family:Menlo,'DejaVu Sans Mono',consolas,'Courier New',monospace\"><span style=\"font-weight: bold\"> Total params: </span><span style=\"color: #00af00; text-decoration-color: #00af00\">43,041</span> (168.13 KB)\n",
       "</pre>\n"
      ],
      "text/plain": [
       "\u001b[1m Total params: \u001b[0m\u001b[38;5;34m43,041\u001b[0m (168.13 KB)\n"
      ]
     },
     "metadata": {},
     "output_type": "display_data"
    },
    {
     "data": {
      "text/html": [
       "<pre style=\"white-space:pre;overflow-x:auto;line-height:normal;font-family:Menlo,'DejaVu Sans Mono',consolas,'Courier New',monospace\"><span style=\"font-weight: bold\"> Trainable params: </span><span style=\"color: #00af00; text-decoration-color: #00af00\">43,041</span> (168.13 KB)\n",
       "</pre>\n"
      ],
      "text/plain": [
       "\u001b[1m Trainable params: \u001b[0m\u001b[38;5;34m43,041\u001b[0m (168.13 KB)\n"
      ]
     },
     "metadata": {},
     "output_type": "display_data"
    },
    {
     "data": {
      "text/html": [
       "<pre style=\"white-space:pre;overflow-x:auto;line-height:normal;font-family:Menlo,'DejaVu Sans Mono',consolas,'Courier New',monospace\"><span style=\"font-weight: bold\"> Non-trainable params: </span><span style=\"color: #00af00; text-decoration-color: #00af00\">0</span> (0.00 B)\n",
       "</pre>\n"
      ],
      "text/plain": [
       "\u001b[1m Non-trainable params: \u001b[0m\u001b[38;5;34m0\u001b[0m (0.00 B)\n"
      ]
     },
     "metadata": {},
     "output_type": "display_data"
    }
   ],
   "source": [
    "if True:\n",
    "    # Constants (adjust as needed)\n",
    "    PLAYER_EMB_DIM = 32\n",
    "    # NUM_CLASSES = 1  # Binary: win/loss\n",
    "    \n",
    "    # Inputs: variable-length teams\n",
    "    teamA_input = Input(shape=(None,), dtype='int32', name='teamA')  # variable-length\n",
    "    teamB_input = Input(shape=(None,), dtype='int32', name='teamB')  # variable-length\n",
    "    \n",
    "    # Embedding layer with mask support\n",
    "    player_embedding = layers.Embedding(\n",
    "        input_dim=NUM_PLAYERS + 1,\n",
    "        output_dim=PLAYER_EMB_DIM,\n",
    "        mask_zero=True,  # Important: enables automatic masking for padding (0 as pad token)\n",
    "        embeddings_regularizer=tf.keras.regularizers.l2(1e-4),\n",
    "        name='player_embedding'\n",
    "    )\n",
    "    \n",
    "    # Embed team players\n",
    "    teamA_embeds = player_embedding(teamA_input)  # shape: (batch, teamA_len, emb_dim)\n",
    "    teamB_embeds = player_embedding(teamB_input)\n",
    "    \n",
    "    # Self-attention block (respects masks automatically if using Functional API)\n",
    "    def self_attention_block(x, name_prefix=''):\n",
    "        attn_output = layers.MultiHeadAttention(\n",
    "            num_heads=4,\n",
    "            key_dim=PLAYER_EMB_DIM,\n",
    "            dropout=0.1,\n",
    "            name=f'{name_prefix}_attn'\n",
    "        )(x, x)\n",
    "        x = layers.Add(name=f'{name_prefix}_residual')([x, attn_output])\n",
    "        x = layers.LayerNormalization(name=f'{name_prefix}_norm')(x)\n",
    "        return x\n",
    "    \n",
    "    # Apply attention\n",
    "    teamA_attn = self_attention_block(teamA_embeds, 'teamA')\n",
    "    teamB_attn = self_attention_block(teamB_embeds, 'teamB')\n",
    "    \n",
    "    # Global average pooling over valid (non-padded) tokens\n",
    "    # TF handles masking automatically in GlobalAveragePooling1D if mask_zero=True\n",
    "    teamA_vector = layers.GlobalAveragePooling1D(name='teamA_avgpool')(teamA_attn)\n",
    "    teamB_vector = layers.GlobalAveragePooling1D(name='teamB_avgpool')(teamB_attn)\n",
    "    \n",
    "    # Matchup modeling (difference vector)\n",
    "    matchup_vector = layers.Subtract(name='matchup_diff')([teamA_vector, teamB_vector])\n",
    "    \n",
    "    # Concatenate summary representation\n",
    "    match_input = layers.Concatenate(name='match_features')([teamA_vector, teamB_vector, matchup_vector])\n",
    "    \n",
    "    # Feedforward classification head\n",
    "    x = layers.Dense(64, activation='relu', kernel_regularizer=tf.keras.regularizers.l2(1e-4))(match_input)\n",
    "    x = layers.Dropout(0.3)(x)\n",
    "    x = layers.Dense(32, activation='relu', kernel_regularizer=tf.keras.regularizers.l2(1e-4))(x)\n",
    "    x = layers.Dropout(0.3)(x)\n",
    "    output = layers.Dense(1, activation='linear', name='regression_output')(x)\n",
    "\n",
    "    # Final model\n",
    "    model = Model(inputs=[teamA_input, teamB_input], outputs=output)\n",
    "    model.compile(optimizer='adam', \n",
    "                  loss='mean_squared_error',   # or 'mean_absolute_error'\n",
    "                    metrics=['mean_absolute_error']\n",
    "                 )\n",
    "\n",
    "    model.summary()\n"
   ]
  },
  {
   "cell_type": "code",
   "execution_count": 242,
   "id": "6c528321-5073-4d26-b395-bcfb51e49f6e",
   "metadata": {},
   "outputs": [
    {
     "name": "stdout",
     "output_type": "stream",
     "text": [
      "Epoch 1/50\n",
      "\u001b[1m2/2\u001b[0m \u001b[32m━━━━━━━━━━━━━━━━━━━━\u001b[0m\u001b[37m\u001b[0m \u001b[1m1s\u001b[0m 135ms/step - loss: 1.4686 - mean_absolute_error: 0.9538 - val_loss: 0.9399 - val_mean_absolute_error: 0.8644 - learning_rate: 0.0010\n",
      "Epoch 2/50\n",
      "\u001b[1m2/2\u001b[0m \u001b[32m━━━━━━━━━━━━━━━━━━━━\u001b[0m\u001b[37m\u001b[0m \u001b[1m0s\u001b[0m 19ms/step - loss: 1.2372 - mean_absolute_error: 0.8712 - val_loss: 0.9566 - val_mean_absolute_error: 0.8738 - learning_rate: 0.0010\n",
      "Epoch 3/50\n",
      "\u001b[1m2/2\u001b[0m \u001b[32m━━━━━━━━━━━━━━━━━━━━\u001b[0m\u001b[37m\u001b[0m \u001b[1m0s\u001b[0m 19ms/step - loss: 1.3060 - mean_absolute_error: 0.8787 - val_loss: 1.1003 - val_mean_absolute_error: 0.9254 - learning_rate: 0.0010\n",
      "Epoch 4/50\n",
      "\u001b[1m2/2\u001b[0m \u001b[32m━━━━━━━━━━━━━━━━━━━━\u001b[0m\u001b[37m\u001b[0m \u001b[1m0s\u001b[0m 19ms/step - loss: 0.7905 - mean_absolute_error: 0.7295 - val_loss: 1.2159 - val_mean_absolute_error: 0.9348 - learning_rate: 0.0010\n",
      "Epoch 5/50\n",
      "\u001b[1m2/2\u001b[0m \u001b[32m━━━━━━━━━━━━━━━━━━━━\u001b[0m\u001b[37m\u001b[0m \u001b[1m0s\u001b[0m 20ms/step - loss: 1.1630 - mean_absolute_error: 0.8196 - val_loss: 0.8996 - val_mean_absolute_error: 0.8248 - learning_rate: 0.0010\n",
      "Epoch 6/50\n",
      "\u001b[1m2/2\u001b[0m \u001b[32m━━━━━━━━━━━━━━━━━━━━\u001b[0m\u001b[37m\u001b[0m \u001b[1m0s\u001b[0m 20ms/step - loss: 0.6137 - mean_absolute_error: 0.6390 - val_loss: 0.7794 - val_mean_absolute_error: 0.7592 - learning_rate: 0.0010\n",
      "Epoch 7/50\n",
      "\u001b[1m2/2\u001b[0m \u001b[32m━━━━━━━━━━━━━━━━━━━━\u001b[0m\u001b[37m\u001b[0m \u001b[1m0s\u001b[0m 21ms/step - loss: 0.7950 - mean_absolute_error: 0.7063 - val_loss: 0.7192 - val_mean_absolute_error: 0.7165 - learning_rate: 0.0010\n",
      "Epoch 8/50\n",
      "\u001b[1m2/2\u001b[0m \u001b[32m━━━━━━━━━━━━━━━━━━━━\u001b[0m\u001b[37m\u001b[0m \u001b[1m0s\u001b[0m 20ms/step - loss: 0.7313 - mean_absolute_error: 0.6659 - val_loss: 0.7514 - val_mean_absolute_error: 0.7066 - learning_rate: 0.0010\n",
      "Epoch 9/50\n",
      "\u001b[1m2/2\u001b[0m \u001b[32m━━━━━━━━━━━━━━━━━━━━\u001b[0m\u001b[37m\u001b[0m \u001b[1m0s\u001b[0m 19ms/step - loss: 0.5939 - mean_absolute_error: 0.6454 - val_loss: 0.8832 - val_mean_absolute_error: 0.7303 - learning_rate: 0.0010\n",
      "Epoch 10/50\n",
      "\u001b[1m2/2\u001b[0m \u001b[32m━━━━━━━━━━━━━━━━━━━━\u001b[0m\u001b[37m\u001b[0m \u001b[1m0s\u001b[0m 20ms/step - loss: 0.5210 - mean_absolute_error: 0.5729 - val_loss: 0.9777 - val_mean_absolute_error: 0.7543 - learning_rate: 0.0010\n",
      "Epoch 11/50\n",
      "\u001b[1m2/2\u001b[0m \u001b[32m━━━━━━━━━━━━━━━━━━━━\u001b[0m\u001b[37m\u001b[0m \u001b[1m0s\u001b[0m 19ms/step - loss: 0.5135 - mean_absolute_error: 0.6145 - val_loss: 0.9368 - val_mean_absolute_error: 0.7306 - learning_rate: 5.0000e-04\n",
      "Epoch 12/50\n",
      "\u001b[1m2/2\u001b[0m \u001b[32m━━━━━━━━━━━━━━━━━━━━\u001b[0m\u001b[37m\u001b[0m \u001b[1m0s\u001b[0m 20ms/step - loss: 0.8338 - mean_absolute_error: 0.6733 - val_loss: 0.8234 - val_mean_absolute_error: 0.6780 - learning_rate: 5.0000e-04\n",
      "\u001b[1m1/1\u001b[0m \u001b[32m━━━━━━━━━━━━━━━━━━━━\u001b[0m\u001b[37m\u001b[0m \u001b[1m0s\u001b[0m 12ms/step - loss: 0.7192 - mean_absolute_error: 0.7165\n",
      "Validation accuracy: 0.716\n"
     ]
    }
   ],
   "source": [
    "import numpy as np\n",
    "from sklearn.model_selection import train_test_split\n",
    "\n",
    "# Assume the following arrays from your dataset generation code:\n",
    "# teamA_data, teamB_data, labels (all np arrays)\n",
    "\n",
    "# 1. Train-validation split (80% train, 20% validation)\n",
    "X_trainA, X_valA, X_trainB, X_valB, y_train, y_val = train_test_split(\n",
    "    teamA_data, teamB_data, labels, test_size=0.2, random_state=42\n",
    ")\n",
    "\n",
    "# 2. Build or import your Keras model (reuse the model creation code from before)\n",
    "# For example, let's say you have your variable-size team transformer model as 'model'\n",
    "\n",
    "# 3. Optional: callbacks for monitoring\n",
    "from tensorflow.keras.callbacks import EarlyStopping\n",
    "\n",
    "early_stop = EarlyStopping(monitor='val_loss', patience=5, restore_best_weights=True)\n",
    "\n",
    "# Define a learning rate schedule function (step decay example)\n",
    "def lr_schedule(epoch, lr):\n",
    "    drop_rate = 0.5\n",
    "    epochs_drop = 10\n",
    "    if epoch > 0 and epoch % epochs_drop == 0:\n",
    "        return lr * drop_rate\n",
    "    return lr\n",
    "\n",
    "#Instantiate callback\n",
    "lr_scheduler = tf.keras.callbacks.LearningRateScheduler(lr_schedule)\n",
    "\n",
    "# Or adaptive reduction on plateau (reduce LR when val_loss stalls)\n",
    "reduce_lr = tf.keras.callbacks.ReduceLROnPlateau(monitor='val_loss', factor=0.5,\n",
    "                                                 patience=5, min_lr=1e-6)\n",
    "\n",
    "\n",
    "# 4. Train the model\n",
    "history = model.fit(\n",
    "    [X_trainA, X_trainB],                 # Inputs as a list\n",
    "    y_train,                              # Targets\n",
    "    epochs=50,\n",
    "    batch_size=32,\n",
    "    validation_data=([X_valA, X_valB], y_val),\n",
    "    callbacks=[lr_scheduler, reduce_lr, early_stop],\n",
    "    # callbacks=[early_stop]\n",
    ")\n",
    "\n",
    "# 5. Evaluate model performance\n",
    "loss, accuracy = model.evaluate([X_valA, X_valB], y_val)\n",
    "print(f\"Validation accuracy: {accuracy:.3f}\")"
   ]
  },
  {
   "cell_type": "code",
   "execution_count": 243,
   "id": "528f7e01-f1ae-4e90-912b-ae79fe90cdcd",
   "metadata": {},
   "outputs": [
    {
     "data": {
      "image/png": "[encoded data removed]",
      "text/plain": [
       "<Figure size 1400x500 with 2 Axes>"
      ]
     },
     "metadata": {},
     "output_type": "display_data"
    }
   ],
   "source": [
    "import matplotlib.pyplot as plt\n",
    "\n",
    "# Assume 'history' is the object returned by your call to model.fit(...)\n",
    "\n",
    "# Plot training and validation accuracy\n",
    "plt.figure(figsize=(14, 5))\n",
    "\n",
    "plt.subplot(1, 2, 1)\n",
    "plt.plot(history.history['mean_absolute_error'], label='Training MAE')\n",
    "plt.plot(history.history['val_mean_absolute_error'], label='Validation MAE')\n",
    "plt.xlabel('Epoch')\n",
    "plt.ylabel('mean_absolute_error')\n",
    "plt.title('Training vs Validation MAE')\n",
    "plt.legend()\n",
    "\n",
    "# Plot training and validation loss\n",
    "plt.subplot(1, 2, 2)\n",
    "plt.plot(history.history['loss'], label='Training Loss')\n",
    "plt.plot(history.history['val_loss'], label='Validation Loss')\n",
    "plt.xlabel('Epoch')\n",
    "plt.ylabel('Loss')\n",
    "plt.title('Training vs Validation Loss')\n",
    "plt.legend()\n",
    "\n",
    "plt.tight_layout()\n",
    "plt.show()\n"
   ]
  },
  {
   "cell_type": "markdown",
   "id": "43120009-27cc-4269-9ad3-3055b150ae11",
   "metadata": {},
   "source": [
    "## Predicting for the match"
   ]
  },
  {
   "cell_type": "code",
   "execution_count": 60,
   "id": "5a834ebb-3739-4835-b3ad-a7188f0490d5",
   "metadata": {},
   "outputs": [
    {
     "data": {
      "text/plain": [
       "[15, 17, 13, 1, 3, 2, 4]"
      ]
     },
     "execution_count": 60,
     "metadata": {},
     "output_type": "execute_result"
    }
   ],
   "source": [
    "teamA_players = [vitalii_zhebrakovksy, loginov_dmitrii, ivan, andrey_spiridonov, andrey_larionov, andrey_trubicin, veselin]   # player IDs for Team A\n",
    "teamB_players = [sanya, roman, denys, andrey_spiridonov, andrey_selifonov, oleksandr, alex_akimov]      # player IDs for Team B\n",
    "teamA_players"
   ]
  },
  {
   "cell_type": "code",
   "execution_count": 61,
   "id": "f059fcaf-6c19-4935-855d-dd3d355e1807",
   "metadata": {},
   "outputs": [
    {
     "name": "stdout",
     "output_type": "stream",
     "text": [
      "\u001b[1m1/1\u001b[0m \u001b[32m━━━━━━━━━━━━━━━━━━━━\u001b[0m\u001b[37m\u001b[0m \u001b[1m0s\u001b[0m 94ms/step\n",
      "[[-0.13870883]]\n"
     ]
    }
   ],
   "source": [
    "\n",
    "MAX_TEAM_SIZE = 9  # Should match model's expected size\n",
    "\n",
    "# Pad teams to MAX_TEAM_SIZE with 0 (mask token)\n",
    "def pad_team(players, max_size):\n",
    "    padded = players + [0]*(max_size - len(players))\n",
    "    return np.array(padded)\n",
    "\n",
    "teamA_input = pad_team(teamA_players, MAX_TEAM_SIZE)\n",
    "teamB_input = pad_team(teamB_players, MAX_TEAM_SIZE)\n",
    "\n",
    "# Add batch dimension: shape (1, MAX_TEAM_SIZE)\n",
    "teamA_input = np.expand_dims(teamA_input, axis=0)\n",
    "teamB_input = np.expand_dims(teamB_input, axis=0)\n",
    "\n",
    "# Predict using the trained model\n",
    "prediction = model.predict([teamA_input, teamB_input])\n",
    "print(prediction)\n",
    "# If model output is sigmoid probability of Team A win:\n",
    "# prob_teamA_wins = prediction[0][0]\n",
    "\n",
    "# print(f\"Predicted probability that Team A wins: {prob_teamA_wins:.3f}\")\n",
    "\n",
    "# # Optional: Decide class label\n",
    "# predicted_label = 1 if prob_teamA_wins > 0.5 else 0\n",
    "# print(\"Predicted winner:\", \"Team A\" if predicted_label == 1 else \"Team B\")\n"
   ]
  },
  {
   "cell_type": "code",
   "execution_count": 244,
   "id": "292ac828-9f31-48cd-8436-bb24239d7cdf",
   "metadata": {},
   "outputs": [],
   "source": [
    "\n",
    "# teamA_pls = teamA_players\n",
    "# print(\" Team A players: \", teamA_pls)\n",
    "# teamA_str = player_strengths[teamA_pls]\n",
    "# print(f\" Team A palyers' stregths:{teamA_str}, Total: {teamA_str.sum()}\")\n",
    "\n",
    "# teamB_pls = teamB_players\n",
    "# print(\" Team B players: \", teamB_pls)\n",
    "# teamB_str = player_strengths[teamB_pls]\n",
    "# print(f\" Team B palyers' stregths:{teamB_str}, Total: {teamB_str.sum()}\")\n",
    "# # print(\" Label (Team A wins=1):\", labels[i])"
   ]
  },
  {
   "cell_type": "code",
   "execution_count": 67,
   "id": "e266c2a0-ec4e-413e-813f-2103a055ec88",
   "metadata": {},
   "outputs": [],
   "source": [
    "# outcome = teamA_strength - teamB_strength\n",
    "# competition_res = 1 if outcome > 0 else 0\n",
    "# competition_res"
   ]
  },
  {
   "cell_type": "markdown",
   "id": "805c50f3-5539-45e2-906c-3020a96fc3b0",
   "metadata": {},
   "source": [
    "## Extracting embeddings of players"
   ]
  },
  {
   "cell_type": "code",
   "execution_count": 245,
   "id": "587acf16-124f-477f-811e-bab61b6688f1",
   "metadata": {},
   "outputs": [
    {
     "name": "stdout",
     "output_type": "stream",
     "text": [
      "(31, 32)\n"
     ]
    }
   ],
   "source": [
    "# Direct reference to layer\n",
    "player_embeddings = player_embedding.get_weights()[0]\n",
    "print(player_embeddings.shape)  # (NUM_PLAYERS, PLAYER_EMB_DIM)"
   ]
  },
  {
   "cell_type": "code",
   "execution_count": 246,
   "id": "a2b15743-fc52-4a27-9d4c-b68d483b0ae3",
   "metadata": {},
   "outputs": [
    {
     "name": "stdout",
     "output_type": "stream",
     "text": [
      "31\n",
      "(31, 32)\n"
     ]
    }
   ],
   "source": [
    "print(player_embedding.input_dim)  # should show actual input_dim in the model\n",
    "print(player_embedding.embeddings.shape)  "
   ]
  },
  {
   "cell_type": "markdown",
   "id": "9eab6fe6-3124-4101-be14-41f5f39fbebf",
   "metadata": {},
   "source": [
    "## Try to initialize embeddings based on content based similarity.\n",
    "\n",
    "TODO Use MPS(not sure) manifold approach to get initial embeddings"
   ]
  },
  {
   "cell_type": "markdown",
   "id": "62c8fe56-8ce5-40fc-ac70-396c8929e696",
   "metadata": {},
   "source": [
    "## UMAP and visualizing players in 3D"
   ]
  },
  {
   "cell_type": "code",
   "execution_count": 250,
   "id": "c821ad50-ddaa-4197-9c4b-d9d81dbc810c",
   "metadata": {},
   "outputs": [
    {
     "name": "stderr",
     "output_type": "stream",
     "text": [
      "/opt/anaconda3/envs/footballman/lib/python3.12/site-packages/umap/umap_.py:1952: UserWarning:\n",
      "\n",
      "n_jobs value 1 overridden to 1 by setting random_state. Use no seed for parallelism.\n",
      "\n"
     ]
    },
    {
     "data": {
      "application/vnd.plotly.v1+json": {
       "config": {
        "plotlyServerURL": "https://plot.ly"
       },
       "data": [
        {
         "hoverinfo": "text",
         "marker": {
          "color": {
           "bdata": "7FFfHnf41z9U1rtoQGzuP1FnHo9+bOc/sCxj1jUo4z+EISI3a/jDP0x/meGg98M/cFVknSK9rT+1t1UJt7frP61LkoxVPOM/goKa0oeo5j+AfjgHGhSVP6VT42KACe8/9hPBv16j6j+YMAOQ7S3LPzgZ4F8KRsc/SDThicx5xz9oquR0tHjTP2M8BwDOyuA/WjsvuPyk2z8OvTKMf6PSPyd1mYVMlOM/fCS/UO/awT9UQMp3f7LSPzi33PF4ctc/3I+5KEAw3T8uOnlWKSDpP3SQHhbpjsk/E9Tux5t04D8X991lD/XiP3BDCTdZyKc/iqK45gFx4z8=",
           "dtype": "f8"
          },
          "colorbar": {
           "title": {
            "text": "Strength"
           }
          },
          "colorscale": [
           [
            0,
            "#440154"
           ],
           [
            0.1111111111111111,
            "#482878"
           ],
           [
            0.2222222222222222,
            "#3e4989"
           ],
           [
            0.3333333333333333,
            "#31688e"
           ],
           [
            0.4444444444444444,
            "#26828e"
           ],
           [
            0.5555555555555556,
            "#1f9e89"
           ],
           [
            0.6666666666666666,
            "#35b779"
           ],
           [
            0.7777777777777778,
            "#6ece58"
           ],
           [
            0.8888888888888888,
            "#b5de2b"
           ],
           [
            1,
            "#fde725"
           ]
          ],
          "opacity": 0.8,
          "size": 7
         },
         "mode": "markers",
         "text": [
          "Player 0:0.3745401188473625",
          "Player 1:0.9507143064099162",
          "Player 2:0.7319939418114051",
          "Player 3:0.5986584841970366",
          "Player 4:0.15601864044243652",
          "Player 5:0.15599452033620265",
          "Player 6:0.05808361216819946",
          "Player 7:0.8661761457749352",
          "Player 8:0.6011150117432088",
          "Player 9:0.7080725777960455",
          "Player 10:0.020584494295802447",
          "Player 11:0.9699098521619943",
          "Player 12:0.8324426408004217",
          "Player 13:0.21233911067827616",
          "Player 14:0.18182496720710062",
          "Player 15:0.18340450985343382",
          "Player 16:0.3042422429595377",
          "Player 17:0.5247564316322378",
          "Player 18:0.43194501864211576",
          "Player 19:0.2912291401980419",
          "Player 20:0.6118528947223795",
          "Player 21:0.13949386065204183",
          "Player 22:0.29214464853521815",
          "Player 23:0.3663618432936917",
          "Player 24:0.45606998421703593",
          "Player 25:0.7851759613930136",
          "Player 26:0.19967378215835974",
          "Player 27:0.5142344384136116",
          "Player 28:0.5924145688620425",
          "Player 29:0.046450412719997725",
          "Player 30:0.6075448519014384"
         ],
         "type": "scatter3d",
         "x": {
          "bdata": "U0opQbF9LUG+eBFBi/YoQUvDF0GuzxtBN4siQeGpJkF+sihBAjQeQQC6D0Fl7hpBPjIjQYxtJUHSwBhBoDohQdr6GkHrzRZByOcqQT0aF0HHFCZBfv4mQbl7MkHsRixB7zIMQXe8I0GZty1Bm1AwQVGWLkHGKB5BLl8QQQ==",
          "dtype": "f4"
         },
         "y": {
          "bdata": "bZCGP5N6ij9PuPI/ZGbbP2FwFj9/nKM+86uQP343CkCeyDu8NOKtPzR9vz9d09A/jZAaQLS2jT+xlEg/VUmOP7UPGEBlhPA/0wI+P2FU5T+Hzs4+w+CtPtujFD9yXPE/ENXAP+DDyj+oTFQ8DMo0PztAyz+JgRC9gl1yPw==",
          "dtype": "f4"
         },
         "z": {
          "bdata": "bCotwPUHcMAAy07AGoJhwNqVGMDzOVTAmVgbwJXkG8AxJzTAb2bkv0IkB8AREmDApDI0wAhGg8ANzzTAl0FJwOuMHMC+tDXA308DwKQP87+N6fO/WbJbwILuQsALEwzARkQuwDgKhMBJ1UnAJ/wZwE1dN8Br7SLAVHhSwA==",
          "dtype": "f4"
         }
        }
       ],
       "layout": {
        "height": 800,
        "scene": {
         "xaxis": {
          "title": {
           "text": "UMAP-1"
          }
         },
         "yaxis": {
          "title": {
           "text": "UMAP-2"
          }
         },
         "zaxis": {
          "title": {
           "text": "UMAP-3"
          }
         }
        },
        "template": {
         "data": {
          "bar": [
           {
            "error_x": {
             "color": "#2a3f5f"
            },
            "error_y": {
             "color": "#2a3f5f"
            },
            "marker": {
             "line": {
              "color": "#E5ECF6",
              "width": 0.5
             },
             "pattern": {
              "fillmode": "overlay",
              "size": 10,
              "solidity": 0.2
             }
            },
            "type": "bar"
           }
          ],
          "barpolar": [
           {
            "marker": {
             "line": {
              "color": "#E5ECF6",
              "width": 0.5
             },
             "pattern": {
              "fillmode": "overlay",
              "size": 10,
              "solidity": 0.2
             }
            },
            "type": "barpolar"
           }
          ],
          "carpet": [
           {
            "aaxis": {
             "endlinecolor": "#2a3f5f",
             "gridcolor": "white",
             "linecolor": "white",
             "minorgridcolor": "white",
             "startlinecolor": "#2a3f5f"
            },
            "baxis": {
             "endlinecolor": "#2a3f5f",
             "gridcolor": "white",
             "linecolor": "white",
             "minorgridcolor": "white",
             "startlinecolor": "#2a3f5f"
            },
            "type": "carpet"
           }
          ],
          "choropleth": [
           {
            "colorbar": {
             "outlinewidth": 0,
             "ticks": ""
            },
            "type": "choropleth"
           }
          ],
          "contour": [
           {
            "colorbar": {
             "outlinewidth": 0,
             "ticks": ""
            },
            "colorscale": [
             [
              0,
              "#0d0887"
             ],
             [
              0.1111111111111111,
              "#46039f"
             ],
             [
              0.2222222222222222,
              "#7201a8"
             ],
             [
              0.3333333333333333,
              "#9c179e"
             ],
             [
              0.4444444444444444,
              "#bd3786"
             ],
             [
              0.5555555555555556,
              "#d8576b"
             ],
             [
              0.6666666666666666,
              "#ed7953"
             ],
             [
              0.7777777777777778,
              "#fb9f3a"
             ],
             [
              0.8888888888888888,
              "#fdca26"
             ],
             [
              1,
              "#f0f921"
             ]
            ],
            "type": "contour"
           }
          ],
          "contourcarpet": [
           {
            "colorbar": {
             "outlinewidth": 0,
             "ticks": ""
            },
            "type": "contourcarpet"
           }
          ],
          "heatmap": [
           {
            "colorbar": {
             "outlinewidth": 0,
             "ticks": ""
            },
            "colorscale": [
             [
              0,
              "#0d0887"
             ],
             [
              0.1111111111111111,
              "#46039f"
             ],
             [
              0.2222222222222222,
              "#7201a8"
             ],
             [
              0.3333333333333333,
              "#9c179e"
             ],
             [
              0.4444444444444444,
              "#bd3786"
             ],
             [
              0.5555555555555556,
              "#d8576b"
             ],
             [
              0.6666666666666666,
              "#ed7953"
             ],
             [
              0.7777777777777778,
              "#fb9f3a"
             ],
             [
              0.8888888888888888,
              "#fdca26"
             ],
             [
              1,
              "#f0f921"
             ]
            ],
            "type": "heatmap"
           }
          ],
          "histogram": [
           {
            "marker": {
             "pattern": {
              "fillmode": "overlay",
              "size": 10,
              "solidity": 0.2
             }
            },
            "type": "histogram"
           }
          ],
          "histogram2d": [
           {
            "colorbar": {
             "outlinewidth": 0,
             "ticks": ""
            },
            "colorscale": [
             [
              0,
              "#0d0887"
             ],
             [
              0.1111111111111111,
              "#46039f"
             ],
             [
              0.2222222222222222,
              "#7201a8"
             ],
             [
              0.3333333333333333,
              "#9c179e"
             ],
             [
              0.4444444444444444,
              "#bd3786"
             ],
             [
              0.5555555555555556,
              "#d8576b"
             ],
             [
              0.6666666666666666,
              "#ed7953"
             ],
             [
              0.7777777777777778,
              "#fb9f3a"
             ],
             [
              0.8888888888888888,
              "#fdca26"
             ],
             [
              1,
              "#f0f921"
             ]
            ],
            "type": "histogram2d"
           }
          ],
          "histogram2dcontour": [
           {
            "colorbar": {
             "outlinewidth": 0,
             "ticks": ""
            },
            "colorscale": [
             [
              0,
              "#0d0887"
             ],
             [
              0.1111111111111111,
              "#46039f"
             ],
             [
              0.2222222222222222,
              "#7201a8"
             ],
             [
              0.3333333333333333,
              "#9c179e"
             ],
             [
              0.4444444444444444,
              "#bd3786"
             ],
             [
              0.5555555555555556,
              "#d8576b"
             ],
             [
              0.6666666666666666,
              "#ed7953"
             ],
             [
              0.7777777777777778,
              "#fb9f3a"
             ],
             [
              0.8888888888888888,
              "#fdca26"
             ],
             [
              1,
              "#f0f921"
             ]
            ],
            "type": "histogram2dcontour"
           }
          ],
          "mesh3d": [
           {
            "colorbar": {
             "outlinewidth": 0,
             "ticks": ""
            },
            "type": "mesh3d"
           }
          ],
          "parcoords": [
           {
            "line": {
             "colorbar": {
              "outlinewidth": 0,
              "ticks": ""
             }
            },
            "type": "parcoords"
           }
          ],
          "pie": [
           {
            "automargin": true,
            "type": "pie"
           }
          ],
          "scatter": [
           {
            "fillpattern": {
             "fillmode": "overlay",
             "size": 10,
             "solidity": 0.2
            },
            "type": "scatter"
           }
          ],
          "scatter3d": [
           {
            "line": {
             "colorbar": {
              "outlinewidth": 0,
              "ticks": ""
             }
            },
            "marker": {
             "colorbar": {
              "outlinewidth": 0,
              "ticks": ""
             }
            },
            "type": "scatter3d"
           }
          ],
          "scattercarpet": [
           {
            "marker": {
             "colorbar": {
              "outlinewidth": 0,
              "ticks": ""
             }
            },
            "type": "scattercarpet"
           }
          ],
          "scattergeo": [
           {
            "marker": {
             "colorbar": {
              "outlinewidth": 0,
              "ticks": ""
             }
            },
            "type": "scattergeo"
           }
          ],
          "scattergl": [
           {
            "marker": {
             "colorbar": {
              "outlinewidth": 0,
              "ticks": ""
             }
            },
            "type": "scattergl"
           }
          ],
          "scattermap": [
           {
            "marker": {
             "colorbar": {
              "outlinewidth": 0,
              "ticks": ""
             }
            },
            "type": "scattermap"
           }
          ],
          "scattermapbox": [
           {
            "marker": {
             "colorbar": {
              "outlinewidth": 0,
              "ticks": ""
             }
            },
            "type": "scattermapbox"
           }
          ],
          "scatterpolar": [
           {
            "marker": {
             "colorbar": {
              "outlinewidth": 0,
              "ticks": ""
             }
            },
            "type": "scatterpolar"
           }
          ],
          "scatterpolargl": [
           {
            "marker": {
             "colorbar": {
              "outlinewidth": 0,
              "ticks": ""
             }
            },
            "type": "scatterpolargl"
           }
          ],
          "scatterternary": [
           {
            "marker": {
             "colorbar": {
              "outlinewidth": 0,
              "ticks": ""
             }
            },
            "type": "scatterternary"
           }
          ],
          "surface": [
           {
            "colorbar": {
             "outlinewidth": 0,
             "ticks": ""
            },
            "colorscale": [
             [
              0,
              "#0d0887"
             ],
             [
              0.1111111111111111,
              "#46039f"
             ],
             [
              0.2222222222222222,
              "#7201a8"
             ],
             [
              0.3333333333333333,
              "#9c179e"
             ],
             [
              0.4444444444444444,
              "#bd3786"
             ],
             [
              0.5555555555555556,
              "#d8576b"
             ],
             [
              0.6666666666666666,
              "#ed7953"
             ],
             [
              0.7777777777777778,
              "#fb9f3a"
             ],
             [
              0.8888888888888888,
              "#fdca26"
             ],
             [
              1,
              "#f0f921"
             ]
            ],
            "type": "surface"
           }
          ],
          "table": [
           {
            "cells": {
             "fill": {
              "color": "#EBF0F8"
             },
             "line": {
              "color": "white"
             }
            },
            "header": {
             "fill": {
              "color": "#C8D4E3"
             },
             "line": {
              "color": "white"
             }
            },
            "type": "table"
           }
          ]
         },
         "layout": {
          "annotationdefaults": {
           "arrowcolor": "#2a3f5f",
           "arrowhead": 0,
           "arrowwidth": 1
          },
          "autotypenumbers": "strict",
          "coloraxis": {
           "colorbar": {
            "outlinewidth": 0,
            "ticks": ""
           }
          },
          "colorscale": {
           "diverging": [
            [
             0,
             "#8e0152"
            ],
            [
             0.1,
             "#c51b7d"
            ],
            [
             0.2,
             "#de77ae"
            ],
            [
             0.3,
             "#f1b6da"
            ],
            [
             0.4,
             "#fde0ef"
            ],
            [
             0.5,
             "#f7f7f7"
            ],
            [
             0.6,
             "#e6f5d0"
            ],
            [
             0.7,
             "#b8e186"
            ],
            [
             0.8,
             "#7fbc41"
            ],
            [
             0.9,
             "#4d9221"
            ],
            [
             1,
             "#276419"
            ]
           ],
           "sequential": [
            [
             0,
             "#0d0887"
            ],
            [
             0.1111111111111111,
             "#46039f"
            ],
            [
             0.2222222222222222,
             "#7201a8"
            ],
            [
             0.3333333333333333,
             "#9c179e"
            ],
            [
             0.4444444444444444,
             "#bd3786"
            ],
            [
             0.5555555555555556,
             "#d8576b"
            ],
            [
             0.6666666666666666,
             "#ed7953"
            ],
            [
             0.7777777777777778,
             "#fb9f3a"
            ],
            [
             0.8888888888888888,
             "#fdca26"
            ],
            [
             1,
             "#f0f921"
            ]
           ],
           "sequentialminus": [
            [
             0,
             "#0d0887"
            ],
            [
             0.1111111111111111,
             "#46039f"
            ],
            [
             0.2222222222222222,
             "#7201a8"
            ],
            [
             0.3333333333333333,
             "#9c179e"
            ],
            [
             0.4444444444444444,
             "#bd3786"
            ],
            [
             0.5555555555555556,
             "#d8576b"
            ],
            [
             0.6666666666666666,
             "#ed7953"
            ],
            [
             0.7777777777777778,
             "#fb9f3a"
            ],
            [
             0.8888888888888888,
             "#fdca26"
            ],
            [
             1,
             "#f0f921"
            ]
           ]
          },
          "colorway": [
           "#636efa",
           "#EF553B",
           "#00cc96",
           "#ab63fa",
           "#FFA15A",
           "#19d3f3",
           "#FF6692",
           "#B6E880",
           "#FF97FF",
           "#FECB52"
          ],
          "font": {
           "color": "#2a3f5f"
          },
          "geo": {
           "bgcolor": "white",
           "lakecolor": "white",
           "landcolor": "#E5ECF6",
           "showlakes": true,
           "showland": true,
           "subunitcolor": "white"
          },
          "hoverlabel": {
           "align": "left"
          },
          "hovermode": "closest",
          "mapbox": {
           "style": "light"
          },
          "paper_bgcolor": "white",
          "plot_bgcolor": "#E5ECF6",
          "polar": {
           "angularaxis": {
            "gridcolor": "white",
            "linecolor": "white",
            "ticks": ""
           },
           "bgcolor": "#E5ECF6",
           "radialaxis": {
            "gridcolor": "white",
            "linecolor": "white",
            "ticks": ""
           }
          },
          "scene": {
           "xaxis": {
            "backgroundcolor": "#E5ECF6",
            "gridcolor": "white",
            "gridwidth": 2,
            "linecolor": "white",
            "showbackground": true,
            "ticks": "",
            "zerolinecolor": "white"
           },
           "yaxis": {
            "backgroundcolor": "#E5ECF6",
            "gridcolor": "white",
            "gridwidth": 2,
            "linecolor": "white",
            "showbackground": true,
            "ticks": "",
            "zerolinecolor": "white"
           },
           "zaxis": {
            "backgroundcolor": "#E5ECF6",
            "gridcolor": "white",
            "gridwidth": 2,
            "linecolor": "white",
            "showbackground": true,
            "ticks": "",
            "zerolinecolor": "white"
           }
          },
          "shapedefaults": {
           "line": {
            "color": "#2a3f5f"
           }
          },
          "ternary": {
           "aaxis": {
            "gridcolor": "white",
            "linecolor": "white",
            "ticks": ""
           },
           "baxis": {
            "gridcolor": "white",
            "linecolor": "white",
            "ticks": ""
           },
           "bgcolor": "#E5ECF6",
           "caxis": {
            "gridcolor": "white",
            "linecolor": "white",
            "ticks": ""
           }
          },
          "title": {
           "x": 0.05
          },
          "xaxis": {
           "automargin": true,
           "gridcolor": "white",
           "linecolor": "white",
           "ticks": "",
           "title": {
            "standoff": 15
           },
           "zerolinecolor": "white",
           "zerolinewidth": 2
          },
          "yaxis": {
           "automargin": true,
           "gridcolor": "white",
           "linecolor": "white",
           "ticks": "",
           "title": {
            "standoff": 15
           },
           "zerolinecolor": "white",
           "zerolinewidth": 2
          }
         }
        },
        "title": {
         "text": "3D UMAP projection of player embeddings"
        },
        "width": 1000
       }
      }
     },
     "metadata": {},
     "output_type": "display_data"
    }
   ],
   "source": [
    "import numpy as np\n",
    "import umap\n",
    "import matplotlib.pyplot as plt\n",
    "import plotly.graph_objs as go\n",
    "\n",
    "# Generate test embeddings and labels (replace these with actual data)\n",
    "np.random.seed(42)\n",
    "# player_embeddings = np.random.rand(32, 32)\n",
    "# labels = [f'{name}' for name in team_dict.values()]\n",
    "labels_points = [f'Player {idx}:{name}' for idx, name in enumerate(player_strengths)]\n",
    "\n",
    "\n",
    "# Embed to 3D\n",
    "reducer = umap.UMAP(n_components=3, random_state=42)\n",
    "embeddings_3d = reducer.fit_transform(player_embeddings)\n",
    "\n",
    "# Create interactive 3D scatter plot\n",
    "fig = go.Figure(\n",
    "    data=[go.Scatter3d(\n",
    "        x=embeddings_3d[:, 0],\n",
    "        y=embeddings_3d[:, 1],\n",
    "        z=embeddings_3d[:, 2],\n",
    "        mode='markers',\n",
    "        marker=dict(\n",
    "            size=7,\n",
    "            color=player_strengths,       # Color by this array\n",
    "            colorscale='Viridis',         # Choose a colorscale\n",
    "            colorbar=dict(title='Strength'),\n",
    "            opacity=0.8\n",
    "        ),\n",
    "        text=labels_points,          # Hover labels\n",
    "        hoverinfo='text'\n",
    "    )]\n",
    ")\n",
    "\n",
    "fig.update_layout(\n",
    "    title=\"3D UMAP projection of player embeddings\",\n",
    "    width=1000,             # <-- Change this to your desired width in pixels\n",
    "    height=800,  \n",
    "    scene=dict(\n",
    "        xaxis_title=\"UMAP-1\",\n",
    "        yaxis_title=\"UMAP-2\",\n",
    "        zaxis_title=\"UMAP-3\"\n",
    "    )\n",
    ")\n",
    "\n",
    "fig.show()\n"
   ]
  },
  {
   "cell_type": "code",
   "execution_count": 213,
   "id": "321b79a0-2da7-457a-a6ef-6d6c07ce96d2",
   "metadata": {},
   "outputs": [
    {
     "data": {
      "text/plain": [
       "(33, 3)"
      ]
     },
     "execution_count": 213,
     "metadata": {},
     "output_type": "execute_result"
    }
   ],
   "source": [
    "embeddings_3d.shape"
   ]
  },
  {
   "cell_type": "code",
   "execution_count": null,
   "id": "834716ae-6601-4c19-89cc-648df5a724eb",
   "metadata": {},
   "outputs": [],
   "source": []
  },
  {
   "cell_type": "markdown",
   "id": "8d409f0a-9159-43ff-b59c-e99c6966aaa3",
   "metadata": {},
   "source": [
    "## Calculate correlation of the embeddings with the original base strengths"
   ]
  },
  {
   "cell_type": "code",
   "execution_count": 248,
   "id": "9a351b05-ed9c-45b9-9cdc-10a8ebaea6ee",
   "metadata": {},
   "outputs": [
    {
     "name": "stdout",
     "output_type": "stream",
     "text": [
      "(31,)\n",
      "(31,)\n",
      "Dimension 1 correlation with base strengths: r = 0.1248, p-value = 0.5035\n",
      "Dimension 2 correlation with base strengths: r = 0.4362, p-value = 0.01415\n",
      "Dimension 3 correlation with base strengths: r = -0.2078, p-value = 0.2621\n",
      "Average absolute correlation across 3 components: 0.2563\n"
     ]
    }
   ],
   "source": [
    "import numpy as np\n",
    "from scipy.stats import pearsonr\n",
    "\n",
    "# Assuming these variables from your setup:\n",
    "# player_strengths: numpy array of shape (num_players,)\n",
    "# embeddings_3d: numpy array of shape (num_players, 3) -- UMAP 3D projections\n",
    "\n",
    "num_players = player_strengths.shape[0]\n",
    "correlations = []\n",
    "print(player_strengths.shape)\n",
    "print(embeddings_3d[:, 0].shape)\n",
    "for dim in range(3):\n",
    "    corr, p_value = pearsonr(embeddings_3d[:, dim], player_strengths)\n",
    "    correlations.append((corr, p_value))\n",
    "    print(f\"Dimension {dim + 1} correlation with base strengths: r = {corr:.4f}, p-value = {p_value:.4g}\")\n",
    "\n",
    "# Optionally, compute average absolute correlation across all 3 dimensions\n",
    "avg_abs_corr = np.mean([abs(c[0]) for c in correlations])\n",
    "print(f\"Average absolute correlation across 3 components: {avg_abs_corr:.4f}\")\n"
   ]
  },
  {
   "cell_type": "markdown",
   "id": "3851f611-5779-4f99-b36a-8d6af3493d2c",
   "metadata": {},
   "source": [
    "## Use SHAP values to explain individual contributions"
   ]
  },
  {
   "cell_type": "code",
   "execution_count": 249,
   "id": "28eeed00-354e-4165-9302-c0e9e9f082aa",
   "metadata": {
    "collapsed": true,
    "jupyter": {
     "outputs_hidden": true,
     "source_hidden": true
    }
   },
   "outputs": [
    {
     "name": "stderr",
     "output_type": "stream",
     "text": [
      "/opt/anaconda3/envs/footballman/lib/python3.12/site-packages/shap/explainers/_deep/deep_tf.py:94: UserWarning:\n",
      "\n",
      "Your TensorFlow version is newer than 2.4.0 and so graph support has been removed in eager mode and some static graphs may not be supported. See PR #1483 for discussion.\n",
      "\n"
     ]
    },
    {
     "ename": "TypeError",
     "evalue": "'NoneType' object cannot be interpreted as an integer",
     "output_type": "error",
     "traceback": [
      "\u001b[31m---------------------------------------------------------------------------\u001b[39m",
      "\u001b[31mTypeError\u001b[39m                                 Traceback (most recent call last)",
      "\u001b[36mCell\u001b[39m\u001b[36m \u001b[39m\u001b[32mIn[249]\u001b[39m\u001b[32m, line 20\u001b[39m\n\u001b[32m     17\u001b[39m test_samples = [x[:\u001b[32m10\u001b[39m] \u001b[38;5;28;01mfor\u001b[39;00m x \u001b[38;5;129;01min\u001b[39;00m X]\n\u001b[32m     19\u001b[39m \u001b[38;5;66;03m# Compute SHAP values\u001b[39;00m\n\u001b[32m---> \u001b[39m\u001b[32m20\u001b[39m shap_values = \u001b[43mexplainer\u001b[49m\u001b[43m.\u001b[49m\u001b[43mshap_values\u001b[49m\u001b[43m(\u001b[49m\u001b[43mtest_samples\u001b[49m\u001b[43m)\u001b[49m\n\u001b[32m     22\u001b[39m \u001b[38;5;66;03m# shap_values is a list of arrays corresponding to output shape, for a binary output usually one array\u001b[39;00m\n\u001b[32m     23\u001b[39m \u001b[38;5;66;03m# Shape of shap_values[0] should match input shape (e.g. (10, max_team_size))\u001b[39;00m\n\u001b[32m     24\u001b[39m \n\u001b[32m     25\u001b[39m \u001b[38;5;66;03m# Example: Summing contributions per player slot for team A and B separately\u001b[39;00m\n\u001b[32m     26\u001b[39m teamA_shap = shap_values[\u001b[32m0\u001b[39m] \u001b[38;5;28;01mif\u001b[39;00m \u001b[38;5;28misinstance\u001b[39m(shap_values, \u001b[38;5;28mlist\u001b[39m) \u001b[38;5;28;01melse\u001b[39;00m shap_values\n",
      "\u001b[36mFile \u001b[39m\u001b[32m/opt/anaconda3/envs/footballman/lib/python3.12/site-packages/shap/explainers/_deep/__init__.py:164\u001b[39m, in \u001b[36mDeepExplainer.shap_values\u001b[39m\u001b[34m(self, X, ranked_outputs, output_rank_order, check_additivity)\u001b[39m\n\u001b[32m    120\u001b[39m \u001b[38;5;28;01mdef\u001b[39;00m\u001b[38;5;250m \u001b[39m\u001b[34mshap_values\u001b[39m(\u001b[38;5;28mself\u001b[39m, X, ranked_outputs=\u001b[38;5;28;01mNone\u001b[39;00m, output_rank_order=\u001b[33m\"\u001b[39m\u001b[33mmax\u001b[39m\u001b[33m\"\u001b[39m, check_additivity=\u001b[38;5;28;01mTrue\u001b[39;00m):\n\u001b[32m    121\u001b[39m \u001b[38;5;250m    \u001b[39m\u001b[33;03m\"\"\"Return approximate SHAP values for the model applied to the data given by X.\u001b[39;00m\n\u001b[32m    122\u001b[39m \n\u001b[32m    123\u001b[39m \u001b[33;03m    Parameters\u001b[39;00m\n\u001b[32m   (...)\u001b[39m\u001b[32m    162\u001b[39m \n\u001b[32m    163\u001b[39m \u001b[33;03m    \"\"\"\u001b[39;00m\n\u001b[32m--> \u001b[39m\u001b[32m164\u001b[39m     \u001b[38;5;28;01mreturn\u001b[39;00m \u001b[38;5;28;43mself\u001b[39;49m\u001b[43m.\u001b[49m\u001b[43mexplainer\u001b[49m\u001b[43m.\u001b[49m\u001b[43mshap_values\u001b[49m\u001b[43m(\u001b[49m\u001b[43mX\u001b[49m\u001b[43m,\u001b[49m\u001b[43m \u001b[49m\u001b[43mranked_outputs\u001b[49m\u001b[43m,\u001b[49m\u001b[43m \u001b[49m\u001b[43moutput_rank_order\u001b[49m\u001b[43m,\u001b[49m\u001b[43m \u001b[49m\u001b[43mcheck_additivity\u001b[49m\u001b[43m=\u001b[49m\u001b[43mcheck_additivity\u001b[49m\u001b[43m)\u001b[49m\n",
      "\u001b[36mFile \u001b[39m\u001b[32m/opt/anaconda3/envs/footballman/lib/python3.12/site-packages/shap/explainers/_deep/deep_tf.py:332\u001b[39m, in \u001b[36mTFDeep.shap_values\u001b[39m\u001b[34m(self, X, ranked_outputs, output_rank_order, check_additivity)\u001b[39m\n\u001b[32m    330\u001b[39m \u001b[38;5;66;03m# run attribution computation graph\u001b[39;00m\n\u001b[32m    331\u001b[39m feature_ind = model_output_ranks[j, i]\n\u001b[32m--> \u001b[39m\u001b[32m332\u001b[39m sample_phis = \u001b[38;5;28;43mself\u001b[39;49m\u001b[43m.\u001b[49m\u001b[43mrun\u001b[49m\u001b[43m(\u001b[49m\u001b[38;5;28;43mself\u001b[39;49m\u001b[43m.\u001b[49m\u001b[43mphi_symbolic\u001b[49m\u001b[43m(\u001b[49m\u001b[43mfeature_ind\u001b[49m\u001b[43m)\u001b[49m\u001b[43m,\u001b[49m\u001b[43m \u001b[49m\u001b[38;5;28;43mself\u001b[39;49m\u001b[43m.\u001b[49m\u001b[43mmodel_inputs\u001b[49m\u001b[43m,\u001b[49m\u001b[43m \u001b[49m\u001b[43mjoint_input\u001b[49m\u001b[43m)\u001b[49m\n\u001b[32m    334\u001b[39m \u001b[38;5;66;03m# assign the attributions to the right part of the output arrays\u001b[39;00m\n\u001b[32m    335\u001b[39m \u001b[38;5;28;01mfor\u001b[39;00m t \u001b[38;5;129;01min\u001b[39;00m \u001b[38;5;28mrange\u001b[39m(\u001b[38;5;28mlen\u001b[39m(X)):\n",
      "\u001b[36mFile \u001b[39m\u001b[32m/opt/anaconda3/envs/footballman/lib/python3.12/site-packages/shap/explainers/_deep/deep_tf.py:389\u001b[39m, in \u001b[36mTFDeep.run\u001b[39m\u001b[34m(self, out, model_inputs, X)\u001b[39m\n\u001b[32m    385\u001b[39m         tf_execute.record_gradient = tf_backprop.record_gradient\n\u001b[32m    387\u001b[39m     \u001b[38;5;28;01mreturn\u001b[39;00m final_out\n\u001b[32m--> \u001b[39m\u001b[32m389\u001b[39m \u001b[38;5;28;01mreturn\u001b[39;00m \u001b[38;5;28;43mself\u001b[39;49m\u001b[43m.\u001b[49m\u001b[43mexecute_with_overridden_gradients\u001b[49m\u001b[43m(\u001b[49m\u001b[43manon\u001b[49m\u001b[43m)\u001b[49m\n",
      "\u001b[36mFile \u001b[39m\u001b[32m/opt/anaconda3/envs/footballman/lib/python3.12/site-packages/shap/explainers/_deep/deep_tf.py:421\u001b[39m, in \u001b[36mTFDeep.execute_with_overridden_gradients\u001b[39m\u001b[34m(self, f)\u001b[39m\n\u001b[32m    419\u001b[39m \u001b[38;5;66;03m# define the computation graph for the attribution values using a custom gradient-like computation\u001b[39;00m\n\u001b[32m    420\u001b[39m \u001b[38;5;28;01mtry\u001b[39;00m:\n\u001b[32m--> \u001b[39m\u001b[32m421\u001b[39m     out = \u001b[43mf\u001b[49m\u001b[43m(\u001b[49m\u001b[43m)\u001b[49m\n\u001b[32m    422\u001b[39m \u001b[38;5;28;01mfinally\u001b[39;00m:\n\u001b[32m    423\u001b[39m     \u001b[38;5;66;03m# reinstate the backpropagatable check\u001b[39;00m\n\u001b[32m    424\u001b[39m     \u001b[38;5;28;01mif\u001b[39;00m \u001b[38;5;28mhasattr\u001b[39m(tf_gradients_impl, \u001b[33m\"\u001b[39m\u001b[33m_IsBackpropagatable\u001b[39m\u001b[33m\"\u001b[39m):\n",
      "\u001b[36mFile \u001b[39m\u001b[32m/opt/anaconda3/envs/footballman/lib/python3.12/site-packages/shap/explainers/_deep/deep_tf.py:378\u001b[39m, in \u001b[36mTFDeep.run.<locals>.anon\u001b[39m\u001b[34m()\u001b[39m\n\u001b[32m    376\u001b[39m shape = \u001b[38;5;28mlist\u001b[39m(\u001b[38;5;28mself\u001b[39m.model_inputs[i].shape)\n\u001b[32m    377\u001b[39m shape[\u001b[32m0\u001b[39m] = -\u001b[32m1\u001b[39m\n\u001b[32m--> \u001b[39m\u001b[32m378\u001b[39m data = \u001b[43mX\u001b[49m\u001b[43m[\u001b[49m\u001b[43mi\u001b[49m\u001b[43m]\u001b[49m\u001b[43m.\u001b[49m\u001b[43mreshape\u001b[49m\u001b[43m(\u001b[49m\u001b[43mshape\u001b[49m\u001b[43m)\u001b[49m\n\u001b[32m    379\u001b[39m v = tf.constant(data, dtype=\u001b[38;5;28mself\u001b[39m.model_inputs[i].dtype)\n\u001b[32m    380\u001b[39m inputs.append(v)\n",
      "\u001b[31mTypeError\u001b[39m: 'NoneType' object cannot be interpreted as an integer"
     ]
    }
   ],
   "source": [
    "import shap\n",
    "import numpy as np\n",
    "\n",
    "# Assume model is your trained Keras model\n",
    "# Assume inputs: teamA_data, teamB_data shaped (num_samples, max_team_size)\n",
    "\n",
    "# Concatenate team inputs if your model takes multiple inputs, or prepare tuple as needed\n",
    "X = [teamA_data, teamB_data]  # example\n",
    "\n",
    "# Choose a small background sample for SHAP (e.g., 100 samples from your train set)\n",
    "background = [x[:100] for x in X]\n",
    "\n",
    "# Initialize DeepExplainer for your keras model and background data\n",
    "explainer = shap.DeepExplainer(model, background)\n",
    "\n",
    "# Explain the model's predictions on some test samples (e.g., the first 10 games)\n",
    "test_samples = [x[:10] for x in X]\n",
    "\n",
    "# Compute SHAP values\n",
    "shap_values = explainer.shap_values(test_samples)\n",
    "\n",
    "# shap_values is a list of arrays corresponding to output shape, for a binary output usually one array\n",
    "# Shape of shap_values[0] should match input shape (e.g. (10, max_team_size))\n",
    "\n",
    "# Example: Summing contributions per player slot for team A and B separately\n",
    "teamA_shap = shap_values[0] if isinstance(shap_values, list) else shap_values\n",
    "teamB_shap = shap_values[1] if len(shap_values) > 1 else None  # if separate outputs per input\n",
    "\n",
    "# Print SHAP values for first game players in team A\n",
    "print(\"SHAP values for Team A players in game 1:\", teamA_shap[0])\n",
    "\n",
    "# You can visualize or aggregate these values to rank players by contribution\n"
   ]
  },
  {
   "cell_type": "code",
   "execution_count": null,
   "id": "def333eb-6b77-4839-a243-4e2101a9416e",
   "metadata": {},
   "outputs": [],
   "source": []
  }
 ],
 "metadata": {
  "kernelspec": {
   "display_name": "Python Football Manager",
   "language": "python",
   "name": "footballman"
  },
  "language_info": {
   "codemirror_mode": {
    "name": "ipython",
    "version": 3
   },
   "file_extension": ".py",
   "mimetype": "text/x-python",
   "name": "python",
   "nbconvert_exporter": "python",
   "pygments_lexer": "ipython3",
   "version": "3.12.9"
  }
 },
 "nbformat": 4,
 "nbformat_minor": 5
}

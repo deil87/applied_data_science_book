{
 "cells": [
  {
   "cell_type": "markdown",
   "metadata": {},
   "source": [
    "# Representation learning and predictive analysis for Football managers\n",
    "\n",
    "In this chapter we are going to try to model members of the amateur football club. This is related to one of the author's contributions to a wellbeing of a local football community. The ultimate goal is to split membors into a reasonable teams so that it is as enjoyable and competitive from sport's perspoective as possible.\n",
    "\n",
    "## The challenge\n",
    "\n",
    "For every Sunday's game we organise a poll to see who is joining a game. Coomon agreement is that we need minimum 10 and maximum 18 players - so it means we have a variable size teams.\n",
    "\n",
    "- even though we have started to collect data for our game we still have around 20 games recorded. Distribution of the players also changed over the course of the recoring period so we have even less data for every single player. \n",
    "\n",
    "## The plan\n"
   ]
  },
  {
   "cell_type": "code",
   "execution_count": 1,
   "metadata": {},
   "outputs": [],
   "source": [
    "import tensorflow as tf\n",
    "from tensorflow.keras import layers, Model, Input, initializers\n",
    "from datetime import date\n",
    "import numpy as np\n",
    "import os\n",
    "\n",
    "    \n",
    "from competition_manager import *"
   ]
  },
  {
   "cell_type": "code",
   "execution_count": 2,
   "metadata": {},
   "outputs": [],
   "source": [
    "import random\n",
    "\n",
    "\n",
    "def set_seed(seed=42):\n",
    "    np.random.seed(seed)                  # Fix NumPy random seed\n",
    "    random.seed(seed)                     # Fix Python built-in random seed\n",
    "    tf.random.set_seed(seed)              # Fix TensorFlow random seed\n",
    "\n",
    "    # Optional but recommended: configure TensorFlow for deterministic ops\n",
    "    os.environ['TF_DETERMINISTIC_OPS'] = '1'\n",
    "\n",
    "# Call this function at the very start, before building or training your model\n",
    "seed_value = 42\n",
    "set_seed(seed_value)"
   ]
  },
  {
   "cell_type": "markdown",
   "metadata": {},
   "source": [
    "## Generate synthetic teams and games"
   ]
  },
  {
   "cell_type": "markdown",
   "metadata": {},
   "source": [
    "### Calculating team's strength based on players individual strengths and rule-based interactions "
   ]
  },
  {
   "cell_type": "code",
   "execution_count": 3,
   "metadata": {},
   "outputs": [],
   "source": [
    "def calculate_team_strength(team_players):\n",
    "    # Base strength sum\n",
    "    strength = player_strengths[team_players].sum()\n",
    "    print(f\"Base strength of team {team_players}: {strength:.4f}\")\n",
    "    \n",
    "    # Compute favorite player boost (fixed)\n",
    "    for i, pair in enumerate(friend_pairs):\n",
    "        if all(player in team_players for player in pair):\n",
    "            boost = friend_pairs_boost[i]\n",
    "            strength += boost\n",
    "            print(f\"Favorite pair boost applied for players {pair}: +{boost:.4f}, total strength now {strength:.4f}\")\n",
    "    for i, triplet in enumerate(friend_triplets):\n",
    "        if all(player in team_players for player in triplet):\n",
    "            boost = friend_triplets_boost[i]\n",
    "            strength += boost\n",
    "            print(f\"Favorite triplet boost applied for players {triplet}: +{boost:.4f}, total strength now {strength:.4f}\")\n",
    "    \n",
    "    # Compute skills boost correlated with players' average strength\n",
    "    for i, pair in enumerate(skilled_pairs):\n",
    "        if all(player in team_players for player in pair):\n",
    "            avg_strength = player_strengths[list(pair)].mean()\n",
    "            boost = skilled_pairs_boost[i] * avg_strength\n",
    "            strength += boost\n",
    "            print(f\"Skills pair boost for players {pair}: avg strength {avg_strength:.4f} * boost factor {skilled_pairs_boost[i]:.4f} = +{boost:.4f}, total strength now {strength:.4f}\")\n",
    "    \n",
    "    for i, triplet in enumerate(skilled_triplets):\n",
    "        if all(player in team_players for player in triplet):\n",
    "            avg_strength = player_strengths[list(triplet)].mean()\n",
    "            boost = skilled_triplets_boost[i] * avg_strength\n",
    "            strength += boost\n",
    "            print(f\"Skills triplet boost for players {triplet}: avg strength {avg_strength:.4f} * boost factor {skilled_triplets_boost[i]:.4f} = +{boost:.4f}, total strength now {strength:.4f}\")\n",
    "    \n",
    "    return strength"
   ]
  },
  {
   "cell_type": "markdown",
   "metadata": {},
   "source": [
    "### Generating the teams, friend pairs/triplets and skills pairs/triplets"
   ]
  },
  {
   "cell_type": "code",
   "execution_count": 4,
   "metadata": {},
   "outputs": [
    {
     "name": "stdout",
     "output_type": "stream",
     "text": [
      "Game # 0 evaluation: \n",
      "Base strength of team [ 4  8 19 24 23  3 26  7 25]: 4.3205\n",
      "Base strength of team [30 15 16 27 11 13 29 20 17]: 3.9747\n",
      "Favorite pair boost applied for players (np.int64(30), np.int64(20)): +0.0999, total strength now 4.0747\n",
      "Favorite pair boost applied for players (np.int64(11), np.int64(15)): +0.1495, total strength now 4.2241\n",
      "Skills pair boost for players (np.int64(20), np.int64(11)): avg strength 0.7909 * boost factor 0.1480 = +0.1171, total strength now 4.3412\n",
      "==================================================\n",
      "Game # 1 evaluation: \n",
      "Base strength of team [16  9 21  4  5  1  8 17  6]: 3.5985\n",
      "Favorite pair boost applied for players (np.int64(16), np.int64(4)): +0.1072, total strength now 3.7057\n",
      "Favorite pair boost applied for players (np.int64(16), np.int64(8)): +0.1269, total strength now 3.8325\n",
      "Base strength of team [10 26 12 11 30 18 28  3  7]: 5.1193\n",
      "Skills pair boost for players (np.int64(10), np.int64(12)): avg strength 0.4265 * boost factor 0.1377 = +0.0587, total strength now 5.1781\n",
      "==================================================\n",
      "Game # 2 evaluation: \n",
      "Base strength of team [28 29 24  5 18]: 1.6829\n",
      "Base strength of team [27 19 14  1 11]: 2.9079\n",
      "Skills pair boost for players (np.int64(27), np.int64(14)): avg strength 0.3480 * boost factor 0.1411 = +0.0491, total strength now 2.9570\n",
      "==================================================\n",
      "Game # 3 evaluation: \n",
      "Base strength of team [26 10 12 17 14 20 18]: 2.8031\n",
      "Favorite pair boost applied for players (np.int64(17), np.int64(14)): +0.0780, total strength now 2.8810\n",
      "Skills pair boost for players (np.int64(10), np.int64(12)): avg strength 0.4265 * boost factor 0.1377 = +0.0587, total strength now 2.9398\n",
      "Base strength of team [ 2 23 30 19 28  8 15]: 3.3741\n",
      "==================================================\n",
      "Game # 4 evaluation: \n",
      "Base strength of team [20 29 22 18 26]: 1.5821\n",
      "Base strength of team [ 9  7 16 23 21]: 2.3843\n",
      "Favorite pair boost applied for players (np.int64(7), np.int64(21)): +0.1383, total strength now 2.5227\n",
      "==================================================\n",
      "Game # 5 evaluation: \n",
      "Base strength of team [16 22 17 14 21 30 29  7 27]: 3.4769\n",
      "Favorite pair boost applied for players (np.int64(17), np.int64(14)): +0.0780, total strength now 3.5548\n",
      "Favorite pair boost applied for players (np.int64(7), np.int64(21)): +0.1383, total strength now 3.6932\n",
      "Skills pair boost for players (np.int64(27), np.int64(14)): avg strength 0.3480 * boost factor 0.1411 = +0.0491, total strength now 3.7423\n",
      "Skills pair boost for players (np.int64(16), np.int64(22)): avg strength 0.2982 * boost factor 0.1985 = +0.0592, total strength now 3.8015\n",
      "Base strength of team [26 19 15  9 23 28  4 20  8]: 3.7101\n",
      "==================================================\n",
      "Game # 6 evaluation: \n",
      "Base strength of team [ 4  7 20 16 27  6 30 13]: 3.3305\n",
      "Favorite pair boost applied for players (np.int64(30), np.int64(20)): +0.0999, total strength now 3.4304\n",
      "Favorite pair boost applied for players (np.int64(16), np.int64(4)): +0.1072, total strength now 3.5376\n",
      "Skills pair boost for players (np.int64(30), np.int64(6)): avg strength 0.3328 * boost factor 0.1552 = +0.0516, total strength now 3.5893\n",
      "Skills pair boost for players (np.int64(20), np.int64(6)): avg strength 0.3350 * boost factor 0.1165 = +0.0390, total strength now 3.6283\n",
      "Base strength of team [10 17 15 28 23 29  5 25]: 2.6751\n",
      "==================================================\n",
      "Game # 7 evaluation: \n",
      "Base strength of team [11 20 21  9 27  5 10]: 3.1201\n",
      "Favorite pair boost applied for players (np.int64(9), np.int64(10)): +0.1248, total strength now 3.2449\n",
      "Skills pair boost for players (np.int64(20), np.int64(11)): avg strength 0.7909 * boost factor 0.1480 = +0.1171, total strength now 3.3620\n",
      "Base strength of team [12  4 18 13 24 16 22]: 2.6852\n",
      "Favorite pair boost applied for players (np.int64(24), np.int64(16)): +0.0730, total strength now 2.7582\n",
      "Favorite pair boost applied for players (np.int64(16), np.int64(4)): +0.1072, total strength now 2.8654\n",
      "Skills pair boost for players (np.int64(16), np.int64(22)): avg strength 0.2982 * boost factor 0.1985 = +0.0592, total strength now 2.9246\n",
      "==================================================\n",
      "Game # 8 evaluation: \n",
      "Base strength of team [ 3  7 21 17 15 11  9]: 3.9905\n",
      "Favorite pair boost applied for players (np.int64(11), np.int64(15)): +0.1495, total strength now 4.1399\n",
      "Favorite pair boost applied for players (np.int64(7), np.int64(21)): +0.1383, total strength now 4.2783\n",
      "Favorite triplet boost applied for players (np.int64(11), np.int64(3), np.int64(9)): +0.1988, total strength now 4.4771\n",
      "Base strength of team [19 18 12 14  8 22 13]: 2.8430\n",
      "Favorite pair boost applied for players (np.int64(18), np.int64(8)): +0.0970, total strength now 2.9400\n",
      "==================================================\n",
      "Game # 9 evaluation: \n",
      "Base strength of team [ 7 16 19 28 21 17  3  4]: 3.4730\n",
      "Favorite pair boost applied for players (np.int64(16), np.int64(4)): +0.1072, total strength now 3.5802\n",
      "Favorite pair boost applied for players (np.int64(7), np.int64(21)): +0.1383, total strength now 3.7185\n",
      "Base strength of team [18  1  9  2 30 13 24 12]: 4.9311\n",
      "Favorite triplet boost applied for players (np.int64(24), np.int64(2), np.int64(18)): +0.1755, total strength now 5.1066\n",
      "==================================================\n",
      "Game # 10 evaluation: \n",
      "Base strength of team [ 2 13 15 25 16  3 12 20 24]: 4.7162\n",
      "Favorite pair boost applied for players (np.int64(24), np.int64(16)): +0.0730, total strength now 4.7892\n",
      "Base strength of team [21  7  6  4 18 29 28  5 23]: 2.8129\n",
      "Favorite pair boost applied for players (np.int64(7), np.int64(21)): +0.1383, total strength now 2.9513\n",
      "==================================================\n",
      "Game # 11 evaluation: \n",
      "Base strength of team [19 27 10 15 13 16  1  5 14]: 2.8146\n",
      "Favorite pair boost applied for players (np.int64(15), np.int64(14)): +0.0544, total strength now 2.8689\n",
      "Skills pair boost for players (np.int64(27), np.int64(14)): avg strength 0.3480 * boost factor 0.1411 = +0.0491, total strength now 2.9180\n",
      "Base strength of team [ 4 22 29  8 24 28 21 12 30]: 3.7237\n",
      "==================================================\n",
      "Game # 12 evaluation: \n",
      "Base strength of team [23  2  4 15 19  5]: 1.8850\n",
      "Base strength of team [10  6 12 30 11  3]: 3.0872\n",
      "Skills pair boost for players (np.int64(30), np.int64(6)): avg strength 0.3328 * boost factor 0.1552 = +0.0516, total strength now 3.1389\n",
      "Skills pair boost for players (np.int64(10), np.int64(12)): avg strength 0.4265 * boost factor 0.1377 = +0.0587, total strength now 3.1976\n",
      "==================================================\n",
      "Game # 13 evaluation: \n",
      "Base strength of team [ 9 23 13 25 11]: 3.0419\n",
      "Base strength of team [ 5 12 20 30 24]: 2.6639\n",
      "Favorite pair boost applied for players (np.int64(30), np.int64(20)): +0.0999, total strength now 2.7638\n",
      "==================================================\n",
      "Game # 14 evaluation: \n",
      "Base strength of team [21 13 28 18  7 23  9]: 3.3168\n",
      "Favorite pair boost applied for players (np.int64(7), np.int64(21)): +0.1383, total strength now 3.4552\n",
      "Base strength of team [10  6 27 12  4 11 17]: 3.0760\n",
      "Skills pair boost for players (np.int64(10), np.int64(12)): avg strength 0.4265 * boost factor 0.1377 = +0.0587, total strength now 3.1347\n",
      "==================================================\n",
      "Game # 15 evaluation: \n",
      "Base strength of team [ 7  8 21 28 25 13]: 3.1967\n",
      "Favorite pair boost applied for players (np.int64(7), np.int64(21)): +0.1383, total strength now 3.3351\n",
      "Base strength of team [29 24 17  4 22 18]: 1.9074\n",
      "==================================================\n",
      "Game # 16 evaluation: \n",
      "Base strength of team [ 3 15 21 10 25]: 1.7273\n",
      "Base strength of team [28 12  1 30 29]: 3.0296\n",
      "==================================================\n",
      "Game # 17 evaluation: \n",
      "Base strength of team [28 11 20 18 14  9]: 3.4960\n",
      "Skills pair boost for players (np.int64(20), np.int64(11)): avg strength 0.7909 * boost factor 0.1480 = +0.1171, total strength now 3.6131\n",
      "Base strength of team [ 4 15  3  1 26 24]: 2.5445\n",
      "==================================================\n",
      "Game # 18 evaluation: \n",
      "Base strength of team [10 29 16 26  6 28 14]: 1.4033\n",
      "Base strength of team [21 12  9 23 13 18 20]: 3.3025\n",
      "==================================================\n",
      "Game # 19 evaluation: \n",
      "Base strength of team [24 16  4 23 15 13 20]: 2.2903\n",
      "Favorite pair boost applied for players (np.int64(24), np.int64(16)): +0.0730, total strength now 2.3633\n",
      "Favorite pair boost applied for players (np.int64(16), np.int64(4)): +0.1072, total strength now 2.4705\n",
      "Base strength of team [14 11 30  8 21  1  7]: 4.3168\n",
      "Favorite pair boost applied for players (np.int64(7), np.int64(21)): +0.1383, total strength now 4.4551\n",
      "Skills pair boost for players (np.int64(8), np.int64(11)): avg strength 0.7855 * boost factor 0.1778 = +0.1396, total strength now 4.5948\n",
      "==================================================\n",
      "Game # 20 evaluation: \n",
      "Base strength of team [ 1 24 11 28  4]: 3.1251\n",
      "Base strength of team [ 6 22 21 19  2]: 1.5129\n",
      "==================================================\n",
      "Game # 21 evaluation: \n",
      "Base strength of team [14 18 20 25  9  6 23]: 3.1433\n",
      "Skills pair boost for players (np.int64(20), np.int64(6)): avg strength 0.3350 * boost factor 0.1165 = +0.0390, total strength now 3.1823\n",
      "Base strength of team [24 26 21 16 22 10 19]: 1.7034\n",
      "Favorite pair boost applied for players (np.int64(24), np.int64(16)): +0.0730, total strength now 1.7765\n",
      "Skills pair boost for players (np.int64(16), np.int64(22)): avg strength 0.2982 * boost factor 0.1985 = +0.0592, total strength now 1.8357\n",
      "Skills pair boost for players (np.int64(10), np.int64(22)): avg strength 0.1564 * boost factor 0.1750 = +0.0274, total strength now 1.8630\n",
      "==================================================\n",
      "Game # 22 evaluation: \n",
      "Base strength of team [13 19  9 18 24 26]: 2.2993\n",
      "Base strength of team [25  6 11  4  2  8]: 3.3023\n",
      "Skills pair boost for players (np.int64(8), np.int64(11)): avg strength 0.7855 * boost factor 0.1778 = +0.1396, total strength now 3.4419\n",
      "==================================================\n",
      "Game # 23 evaluation: \n",
      "Base strength of team [16 22 10 18 30 15  9  1]: 3.4987\n",
      "Favorite pair boost applied for players (np.int64(9), np.int64(10)): +0.1248, total strength now 3.6234\n",
      "Skills pair boost for players (np.int64(16), np.int64(22)): avg strength 0.2982 * boost factor 0.1985 = +0.0592, total strength now 3.6826\n",
      "Skills pair boost for players (np.int64(10), np.int64(22)): avg strength 0.1564 * boost factor 0.1750 = +0.0274, total strength now 3.7100\n",
      "Base strength of team [19  3 28 24 20 17  8 21]: 3.8156\n",
      "==================================================\n",
      "Game # 24 evaluation: \n",
      "Base strength of team [12 21  7  1 14  2 30 13  4]: 4.6785\n",
      "Favorite pair boost applied for players (np.int64(7), np.int64(21)): +0.1383, total strength now 4.8169\n",
      "Base strength of team [11 25 16  6 28 27  8 29 19]: 4.1629\n",
      "Favorite pair boost applied for players (np.int64(16), np.int64(8)): +0.1269, total strength now 4.2897\n",
      "Skills pair boost for players (np.int64(8), np.int64(11)): avg strength 0.7855 * boost factor 0.1778 = +0.1396, total strength now 4.4293\n",
      "==================================================\n",
      "Game # 25 evaluation: \n",
      "Base strength of team [20  7  4 14 26  9 21 30 10]: 3.4912\n",
      "Favorite pair boost applied for players (np.int64(30), np.int64(20)): +0.0999, total strength now 3.5912\n",
      "Favorite pair boost applied for players (np.int64(7), np.int64(21)): +0.1383, total strength now 3.7295\n",
      "Favorite pair boost applied for players (np.int64(9), np.int64(10)): +0.1248, total strength now 3.8543\n",
      "Skills triplet boost for players (np.int64(10), np.int64(4), np.int64(20)): avg strength 0.2628 * boost factor 0.2501 = +0.0657, total strength now 3.9200\n",
      "Base strength of team [ 3 29 28  1 17 19 12 13 22]: 4.3411\n",
      "==================================================\n",
      "Game # 26 evaluation: \n",
      "Base strength of team [15 27 12 29 19  2 14]: 2.7816\n",
      "Favorite pair boost applied for players (np.int64(15), np.int64(14)): +0.0544, total strength now 2.8359\n",
      "Skills pair boost for players (np.int64(27), np.int64(14)): avg strength 0.3480 * boost factor 0.1411 = +0.0491, total strength now 2.8851\n",
      "Base strength of team [18 26 17  3 25 20 22]: 3.4442\n",
      "==================================================\n",
      "Game # 27 evaluation: \n",
      "Base strength of team [23 11  1 22 18 15 21 25 26]: 4.3188\n",
      "Favorite pair boost applied for players (np.int64(11), np.int64(15)): +0.1495, total strength now 4.4683\n",
      "Skills triplet boost for players (np.int64(18), np.int64(15), np.int64(21)): avg strength 0.2516 * boost factor 0.1758 = +0.0442, total strength now 4.5125\n",
      "Base strength of team [ 4 20  5 30 12 24 29 10  7]: 3.7531\n",
      "Favorite pair boost applied for players (np.int64(30), np.int64(20)): +0.0999, total strength now 3.8531\n",
      "Skills pair boost for players (np.int64(10), np.int64(12)): avg strength 0.4265 * boost factor 0.1377 = +0.0587, total strength now 3.9118\n",
      "Skills triplet boost for players (np.int64(10), np.int64(4), np.int64(20)): avg strength 0.2628 * boost factor 0.2501 = +0.0657, total strength now 3.9775\n",
      "==================================================\n",
      "Game # 28 evaluation: \n",
      "Base strength of team [ 5 27 19 21  9]: 1.8090\n",
      "Base strength of team [17  8  2 16 30]: 2.7697\n",
      "Favorite pair boost applied for players (np.int64(16), np.int64(8)): +0.1269, total strength now 2.8965\n",
      "==================================================\n",
      "Game # 29 evaluation: \n",
      "Base strength of team [ 7 10  8 13 25 27  1 18 19]: 4.6735\n",
      "Favorite pair boost applied for players (np.int64(18), np.int64(8)): +0.0970, total strength now 4.7705\n",
      "Skills triplet boost for players (np.int64(27), np.int64(10), np.int64(8)): avg strength 0.3786 * boost factor 0.1788 = +0.0677, total strength now 4.8382\n",
      "Base strength of team [24  9 21  6  4 23  5 16 26]: 2.5440\n",
      "Favorite pair boost applied for players (np.int64(24), np.int64(16)): +0.0730, total strength now 2.6170\n",
      "Favorite pair boost applied for players (np.int64(16), np.int64(4)): +0.1072, total strength now 2.7242\n",
      "Favorite triplet boost applied for players (np.int64(5), np.int64(21), np.int64(24)): +0.1939, total strength now 2.9181\n",
      "==================================================\n",
      "Game # 30 evaluation: \n",
      "Base strength of team [10  1  6 23  9 22 19 13 28]: 3.4919\n",
      "Favorite pair boost applied for players (np.int64(9), np.int64(10)): +0.1248, total strength now 3.6167\n",
      "Skills pair boost for players (np.int64(10), np.int64(22)): avg strength 0.1564 * boost factor 0.1750 = +0.0274, total strength now 3.6441\n",
      "Base strength of team [ 5 30  7  4  2 20 11 27 21]: 4.7532\n",
      "Favorite pair boost applied for players (np.int64(30), np.int64(20)): +0.0999, total strength now 4.8531\n",
      "Favorite pair boost applied for players (np.int64(7), np.int64(21)): +0.1383, total strength now 4.9915\n",
      "Skills pair boost for players (np.int64(20), np.int64(11)): avg strength 0.7909 * boost factor 0.1480 = +0.1171, total strength now 5.1086\n",
      "==================================================\n",
      "Game # 31 evaluation: \n",
      "Base strength of team [23  5 20  4  7]: 2.1564\n",
      "Base strength of team [10  3 18 12 19]: 2.1749\n",
      "Skills pair boost for players (np.int64(10), np.int64(12)): avg strength 0.4265 * boost factor 0.1377 = +0.0587, total strength now 2.2336\n",
      "==================================================\n",
      "Game # 32 evaluation: \n",
      "Base strength of team [29 12  3  5 28 21 11 24]: 3.7914\n",
      "Favorite triplet boost applied for players (np.int64(5), np.int64(21), np.int64(24)): +0.1939, total strength now 3.9853\n",
      "Base strength of team [ 7  6 30  4 27 13  9 17]: 3.6472\n",
      "Skills pair boost for players (np.int64(30), np.int64(6)): avg strength 0.3328 * boost factor 0.1552 = +0.0516, total strength now 3.6989\n",
      "==================================================\n",
      "Game # 33 evaluation: \n",
      "Base strength of team [ 5 22 21 13  1 30 14]: 2.5401\n",
      "Base strength of team [ 2 10 25 20  4 16 23]: 2.9762\n",
      "Favorite pair boost applied for players (np.int64(16), np.int64(4)): +0.1072, total strength now 3.0834\n",
      "Skills triplet boost for players (np.int64(10), np.int64(4), np.int64(20)): avg strength 0.2628 * boost factor 0.2501 = +0.0657, total strength now 3.1492\n",
      "==================================================\n",
      "Game # 34 evaluation: \n",
      "Base strength of team [11  1 17  7 21 20 10]: 4.0835\n",
      "Favorite pair boost applied for players (np.int64(7), np.int64(21)): +0.1383, total strength now 4.2218\n",
      "Skills pair boost for players (np.int64(20), np.int64(11)): avg strength 0.7909 * boost factor 0.1480 = +0.1171, total strength now 4.3389\n",
      "Base strength of team [29  9 30  5 15  3 16]: 2.6044\n",
      "==================================================\n",
      "Game # 35 evaluation: \n",
      "Base strength of team [10  1  8 28 30 11 13 23  3]: 4.9196\n",
      "Skills pair boost for players (np.int64(8), np.int64(11)): avg strength 0.7855 * boost factor 0.1778 = +0.1396, total strength now 5.0593\n",
      "Base strength of team [ 7  6 15 14 21 22 16  2 25]: 3.5425\n",
      "Favorite pair boost applied for players (np.int64(15), np.int64(14)): +0.0544, total strength now 3.5969\n",
      "Favorite pair boost applied for players (np.int64(7), np.int64(21)): +0.1383, total strength now 3.7352\n",
      "Skills pair boost for players (np.int64(16), np.int64(22)): avg strength 0.2982 * boost factor 0.1985 = +0.0592, total strength now 3.7944\n",
      "==================================================\n",
      "Game # 36 evaluation: \n",
      "Base strength of team [22 11 23 26 27 29]: 2.3888\n",
      "Base strength of team [18 24 19  7 25 28]: 3.4230\n",
      "==================================================\n",
      "Game # 37 evaluation: \n",
      "Base strength of team [22 18  2  7  6 19 27 20 29]: 3.8441\n",
      "Skills pair boost for players (np.int64(20), np.int64(6)): avg strength 0.3350 * boost factor 0.1165 = +0.0390, total strength now 3.8831\n",
      "Base strength of team [26  5 30  9 28 17 25 21 16]: 4.0174\n",
      "==================================================\n",
      "Game # 38 evaluation: \n",
      "Base strength of team [16  7 18  8  3  1 10 22]: 4.0656\n",
      "Favorite pair boost applied for players (np.int64(16), np.int64(8)): +0.1269, total strength now 4.1924\n",
      "Favorite pair boost applied for players (np.int64(18), np.int64(8)): +0.0970, total strength now 4.2894\n",
      "Skills pair boost for players (np.int64(16), np.int64(22)): avg strength 0.2982 * boost factor 0.1985 = +0.0592, total strength now 4.3486\n",
      "Skills pair boost for players (np.int64(10), np.int64(22)): avg strength 0.1564 * boost factor 0.1750 = +0.0274, total strength now 4.3760\n",
      "Base strength of team [14 24  9 19  2  4 13 29]: 2.7840\n",
      "==================================================\n",
      "Game # 39 evaluation: \n",
      "Base strength of team [16 30 14  3 20  9 17  1]: 4.4877\n",
      "Favorite pair boost applied for players (np.int64(30), np.int64(20)): +0.0999, total strength now 4.5876\n",
      "Favorite pair boost applied for players (np.int64(17), np.int64(14)): +0.0780, total strength now 4.6655\n",
      "Base strength of team [ 5 22  8 23 19 10 25  4]: 2.6686\n",
      "Skills pair boost for players (np.int64(10), np.int64(22)): avg strength 0.1564 * boost factor 0.1750 = +0.0274, total strength now 2.6960\n",
      "Skills triplet boost for players (np.int64(19), np.int64(25), np.int64(22)): avg strength 0.4562 * boost factor 0.1561 = +0.0712, total strength now 2.7672\n",
      "==================================================\n",
      "Game # 40 evaluation: \n",
      "Base strength of team [ 6 25 13  7  2 16]: 2.9580\n",
      "Base strength of team [14 20  5  3 28 30]: 2.7483\n",
      "Favorite pair boost applied for players (np.int64(30), np.int64(20)): +0.0999, total strength now 2.8482\n",
      "==================================================\n",
      "Game # 41 evaluation: \n",
      "Base strength of team [12 17 10  8 18]: 2.4108\n",
      "Favorite pair boost applied for players (np.int64(18), np.int64(8)): +0.0970, total strength now 2.5078\n",
      "Skills pair boost for players (np.int64(10), np.int64(12)): avg strength 0.4265 * boost factor 0.1377 = +0.0587, total strength now 2.5666\n",
      "Base strength of team [ 1 22  5 15  7]: 2.4484\n",
      "==================================================\n",
      "Game # 42 evaluation: \n",
      "Base strength of team [13 29 18 24  4 30 16 20]: 2.8265\n",
      "Favorite pair boost applied for players (np.int64(24), np.int64(16)): +0.0730, total strength now 2.8995\n",
      "Favorite pair boost applied for players (np.int64(30), np.int64(20)): +0.0999, total strength now 2.9994\n",
      "Favorite pair boost applied for players (np.int64(16), np.int64(4)): +0.1072, total strength now 3.1066\n",
      "Favorite triplet boost applied for players (np.int64(29), np.int64(16), np.int64(4)): +0.2285, total strength now 3.3351\n",
      "Base strength of team [ 5 22  9  2 10 28 14  8]: 3.2841\n",
      "Favorite pair boost applied for players (np.int64(9), np.int64(10)): +0.1248, total strength now 3.4089\n",
      "Skills pair boost for players (np.int64(10), np.int64(22)): avg strength 0.1564 * boost factor 0.1750 = +0.0274, total strength now 3.4363\n",
      "==================================================\n",
      "Game # 43 evaluation: \n",
      "Base strength of team [19  8  1  7 27 25 10  2]: 4.7612\n",
      "Skills triplet boost for players (np.int64(27), np.int64(10), np.int64(8)): avg strength 0.3786 * boost factor 0.1788 = +0.0677, total strength now 4.8289\n",
      "Base strength of team [21 26  5 17  3 20  4  9]: 3.0945\n",
      "==================================================\n",
      "Game # 44 evaluation: \n",
      "Base strength of team [27  9  6 20 22 19  5]: 2.6316\n",
      "Skills pair boost for players (np.int64(20), np.int64(6)): avg strength 0.3350 * boost factor 0.1165 = +0.0390, total strength now 2.6706\n",
      "Base strength of team [21  1 26 14 25 24 12]: 3.5454\n",
      "==================================================\n",
      "Game # 45 evaluation: \n",
      "Base strength of team [12 14 20  7  6 28  3 19  2]: 4.7647\n",
      "Skills pair boost for players (np.int64(20), np.int64(6)): avg strength 0.3350 * boost factor 0.1165 = +0.0390, total strength now 4.8037\n",
      "Base strength of team [ 4  5 11 17  1 16  8 18 30]: 4.7022\n",
      "Favorite pair boost applied for players (np.int64(16), np.int64(4)): +0.1072, total strength now 4.8094\n",
      "Favorite pair boost applied for players (np.int64(16), np.int64(8)): +0.1269, total strength now 4.9363\n",
      "Favorite pair boost applied for players (np.int64(18), np.int64(8)): +0.0970, total strength now 5.0333\n",
      "Skills pair boost for players (np.int64(8), np.int64(11)): avg strength 0.7855 * boost factor 0.1778 = +0.1396, total strength now 5.1729\n",
      "==================================================\n",
      "Game # 46 evaluation: \n",
      "Base strength of team [14 29  8 30 25 13]: 2.4345\n",
      "Base strength of team [26 16  9 28 11  7]: 3.6405\n",
      "==================================================\n",
      "Game # 47 evaluation: \n",
      "Base strength of team [ 2 18 12 21 25 26]: 3.1207\n",
      "Base strength of team [16 24 30 15  1  5]: 2.6580\n",
      "Favorite pair boost applied for players (np.int64(24), np.int64(16)): +0.0730, total strength now 2.7310\n",
      "==================================================\n",
      "Game # 48 evaluation: \n",
      "Base strength of team [29 11 15 10  9 23  4 13]: 2.6631\n",
      "Favorite pair boost applied for players (np.int64(11), np.int64(15)): +0.1495, total strength now 2.8126\n",
      "Favorite pair boost applied for players (np.int64(9), np.int64(10)): +0.1248, total strength now 2.9374\n",
      "Base strength of team [16 14 19  1 22 17 20  7]: 4.0229\n",
      "Favorite pair boost applied for players (np.int64(17), np.int64(14)): +0.0780, total strength now 4.1009\n",
      "Skills pair boost for players (np.int64(16), np.int64(22)): avg strength 0.2982 * boost factor 0.1985 = +0.0592, total strength now 4.1601\n",
      "==================================================\n",
      "Game # 49 evaluation: \n",
      "Base strength of team [11 10 21 28  2  7]: 3.3206\n",
      "Favorite pair boost applied for players (np.int64(7), np.int64(21)): +0.1383, total strength now 3.4589\n",
      "Base strength of team [19 14 15  9  1 18]: 2.7472\n",
      "Favorite pair boost applied for players (np.int64(15), np.int64(14)): +0.0544, total strength now 2.8016\n",
      "==================================================\n",
      "Game # 50 evaluation: \n",
      "Base strength of team [24 26  5 27 28]: 1.9184\n",
      "Base strength of team [ 8 10 17  7 23]: 2.3790\n",
      "==================================================\n",
      "Game # 51 evaluation: \n",
      "Base strength of team [26  8 21 12 23  5  1]: 3.2458\n",
      "Base strength of team [29 22 28 13  4 19 18]: 2.0225\n",
      "==================================================\n",
      "Game # 52 evaluation: \n",
      "Base strength of team [ 7  1 29 11 10]: 2.8538\n",
      "Base strength of team [24  5 19 28 18]: 1.9277\n",
      "==================================================\n",
      "Game # 53 evaluation: \n",
      "Base strength of team [20 30 28 22  6 29]: 2.2085\n",
      "Favorite pair boost applied for players (np.int64(30), np.int64(20)): +0.0999, total strength now 2.3084\n",
      "Skills pair boost for players (np.int64(30), np.int64(6)): avg strength 0.3328 * boost factor 0.1552 = +0.0516, total strength now 2.3600\n",
      "Skills pair boost for players (np.int64(20), np.int64(6)): avg strength 0.3350 * boost factor 0.1165 = +0.0390, total strength now 2.3991\n",
      "Base strength of team [27  5 26  8 17 13]: 2.2081\n",
      "==================================================\n",
      "Game # 54 evaluation: \n",
      "Base strength of team [28 19  4 11  9 13]: 2.9300\n",
      "Base strength of team [25 18 29 12  1 21]: 3.1862\n",
      "==================================================\n",
      "Game # 55 evaluation: \n",
      "Base strength of team [15 19 17 25 24  7 30 14]: 3.8962\n",
      "Favorite pair boost applied for players (np.int64(15), np.int64(14)): +0.0544, total strength now 3.9505\n",
      "Favorite pair boost applied for players (np.int64(17), np.int64(14)): +0.0780, total strength now 4.0285\n",
      "Base strength of team [27 12 26  1 13 22  5 10]: 3.1781\n",
      "Skills pair boost for players (np.int64(10), np.int64(12)): avg strength 0.4265 * boost factor 0.1377 = +0.0587, total strength now 3.2368\n",
      "Skills pair boost for players (np.int64(10), np.int64(22)): avg strength 0.1564 * boost factor 0.1750 = +0.0274, total strength now 3.2642\n",
      "==================================================\n",
      "Game # 56 evaluation: \n",
      "Base strength of team [ 4 24  6 25  9 16]: 2.4677\n",
      "Favorite pair boost applied for players (np.int64(24), np.int64(16)): +0.0730, total strength now 2.5407\n",
      "Favorite pair boost applied for players (np.int64(16), np.int64(4)): +0.1072, total strength now 2.6479\n",
      "Base strength of team [14 30 10 29 19  7]: 2.0138\n",
      "==================================================\n",
      "Game # 57 evaluation: \n",
      "Base strength of team [21 18 17  4 14  3 24 26]: 2.6884\n",
      "Favorite pair boost applied for players (np.int64(17), np.int64(14)): +0.0780, total strength now 2.7664\n",
      "Base strength of team [ 2 23  9 13 29  1 12 16]: 4.1526\n",
      "==================================================\n",
      "Game # 58 evaluation: \n",
      "Base strength of team [28  5 14 22 27]: 1.7366\n",
      "Skills pair boost for players (np.int64(27), np.int64(14)): avg strength 0.3480 * boost factor 0.1411 = +0.0491, total strength now 1.7857\n",
      "Base strength of team [ 6  3 19 15 30]: 1.7389\n",
      "Skills pair boost for players (np.int64(30), np.int64(6)): avg strength 0.3328 * boost factor 0.1552 = +0.0516, total strength now 1.7906\n",
      "==================================================\n",
      "Game # 59 evaluation: \n",
      "Base strength of team [16  2  5 19  4]: 1.6395\n",
      "Favorite pair boost applied for players (np.int64(16), np.int64(4)): +0.1072, total strength now 1.7467\n",
      "Base strength of team [22  1 28 10  6]: 1.9139\n",
      "Skills pair boost for players (np.int64(10), np.int64(22)): avg strength 0.1564 * boost factor 0.1750 = +0.0274, total strength now 1.9413\n",
      "==================================================\n",
      "Game # 60 evaluation: \n",
      "Base strength of team [22 10 14 16  4 26]: 1.1545\n",
      "Favorite pair boost applied for players (np.int64(16), np.int64(4)): +0.1072, total strength now 1.2617\n",
      "Skills pair boost for players (np.int64(16), np.int64(22)): avg strength 0.2982 * boost factor 0.1985 = +0.0592, total strength now 1.3209\n",
      "Skills pair boost for players (np.int64(10), np.int64(22)): avg strength 0.1564 * boost factor 0.1750 = +0.0274, total strength now 1.3482\n",
      "Base strength of team [27  2  8 24  9 30]: 3.6190\n",
      "==================================================\n",
      "Game # 61 evaluation: \n",
      "Base strength of team [ 8 15 24 29 28  3]: 2.4781\n",
      "Base strength of team [18 20  5 23 19  1]: 2.8081\n",
      "==================================================\n",
      "Game # 62 evaluation: \n",
      "Base strength of team [16  2 17 19 23 21 11]: 3.3280\n",
      "Base strength of team [13 18  1 27  9 12 29]: 3.6962\n",
      "==================================================\n",
      "Game # 63 evaluation: \n",
      "Base strength of team [10  8 20  5 21  9]: 2.2371\n",
      "Favorite pair boost applied for players (np.int64(9), np.int64(10)): +0.1248, total strength now 2.3619\n",
      "Base strength of team [ 3 11 29  2 26 15]: 2.7301\n",
      "Favorite pair boost applied for players (np.int64(11), np.int64(15)): +0.1495, total strength now 2.8795\n",
      "==================================================\n",
      "Game # 64 evaluation: \n",
      "Base strength of team [23 24 27 12 28  8 29  3]: 4.0077\n",
      "Base strength of team [ 2 18 25 19  5 10  9  7]: 3.9912\n",
      "Favorite pair boost applied for players (np.int64(9), np.int64(10)): +0.1248, total strength now 4.1159\n",
      "==================================================\n",
      "Game # 65 evaluation: \n",
      "Base strength of team [18 15 16 11 12 25  9  8  1]: 5.7670\n",
      "Favorite pair boost applied for players (np.int64(16), np.int64(8)): +0.1269, total strength now 5.8939\n",
      "Favorite pair boost applied for players (np.int64(11), np.int64(15)): +0.1495, total strength now 6.0433\n",
      "Favorite pair boost applied for players (np.int64(18), np.int64(8)): +0.0970, total strength now 6.1403\n",
      "Skills pair boost for players (np.int64(8), np.int64(11)): avg strength 0.7855 * boost factor 0.1778 = +0.1396, total strength now 6.2800\n",
      "Base strength of team [26  2 13  7 29 24  6  4 22]: 3.0190\n",
      "==================================================\n",
      "Game # 66 evaluation: \n",
      "Base strength of team [ 5 27  1 11 23  2 19 30]: 4.5880\n",
      "Base strength of team [ 8 26 13 15  9 18  6 17]: 2.9194\n",
      "Favorite pair boost applied for players (np.int64(18), np.int64(8)): +0.0970, total strength now 3.0164\n",
      "==================================================\n",
      "Game # 67 evaluation: \n",
      "Base strength of team [ 2  9  6 26 23  4]: 2.2202\n",
      "Base strength of team [13 29 28 25  1  8]: 3.1882\n",
      "==================================================\n",
      "Game # 68 evaluation: \n",
      "Base strength of team [ 8  3 29 18 20 13]: 2.5024\n",
      "Favorite pair boost applied for players (np.int64(18), np.int64(8)): +0.0970, total strength now 2.5994\n",
      "Base strength of team [12 19  5 28 16 15]: 2.3597\n",
      "==================================================\n",
      "Game # 69 evaluation: \n",
      "Base strength of team [22 18 13 25  1 26 12  2]: 4.4364\n",
      "Base strength of team [23  9 11 30 27  5 16 28]: 4.2188\n",
      "==================================================\n",
      "Game # 70 evaluation: \n",
      "Base strength of team [24 25 14 15  2 28 23]: 3.2972\n",
      "Favorite pair boost applied for players (np.int64(15), np.int64(14)): +0.0544, total strength now 3.3516\n",
      "Base strength of team [17 21  4  9 13 16 27]: 2.5592\n",
      "Favorite pair boost applied for players (np.int64(16), np.int64(4)): +0.1072, total strength now 2.6664\n",
      "==================================================\n",
      "Game # 71 evaluation: \n",
      "Base strength of team [12 17 19  2 13 22 28 10 23]: 3.8643\n",
      "Skills pair boost for players (np.int64(10), np.int64(12)): avg strength 0.4265 * boost factor 0.1377 = +0.0587, total strength now 3.9230\n",
      "Skills pair boost for players (np.int64(10), np.int64(22)): avg strength 0.1564 * boost factor 0.1750 = +0.0274, total strength now 3.9503\n",
      "Base strength of team [ 7  9 30 15 20 25 14  4 21]: 4.2396\n",
      "Favorite pair boost applied for players (np.int64(30), np.int64(20)): +0.0999, total strength now 4.3395\n",
      "Favorite pair boost applied for players (np.int64(15), np.int64(14)): +0.0544, total strength now 4.3938\n",
      "Favorite pair boost applied for players (np.int64(7), np.int64(21)): +0.1383, total strength now 4.5322\n",
      "Favorite triplet boost applied for players (np.int64(30), np.int64(4), np.int64(15)): +0.1562, total strength now 4.6884\n",
      "==================================================\n",
      "Game # 72 evaluation: \n",
      "Base strength of team [30  8  7 16 12 13 10 19]: 3.7357\n",
      "Favorite pair boost applied for players (np.int64(16), np.int64(8)): +0.1269, total strength now 3.8625\n",
      "Skills pair boost for players (np.int64(10), np.int64(12)): avg strength 0.4265 * boost factor 0.1377 = +0.0587, total strength now 3.9212\n",
      "Base strength of team [11 14 17 18 15 21 29 22]: 2.7699\n",
      "Favorite pair boost applied for players (np.int64(15), np.int64(14)): +0.0544, total strength now 2.8243\n",
      "Favorite pair boost applied for players (np.int64(11), np.int64(15)): +0.1495, total strength now 2.9737\n",
      "Favorite pair boost applied for players (np.int64(17), np.int64(14)): +0.0780, total strength now 3.0517\n",
      "Skills triplet boost for players (np.int64(18), np.int64(15), np.int64(21)): avg strength 0.2516 * boost factor 0.1758 = +0.0442, total strength now 3.0959\n",
      "==================================================\n",
      "Game # 73 evaluation: \n",
      "Base strength of team [ 7  8 28  6 13 10]: 2.3507\n",
      "Base strength of team [23 24 25  4 29 27]: 2.3243\n",
      "==================================================\n",
      "Game # 74 evaluation: \n",
      "Base strength of team [19 18 11  5  8 28 10]: 3.0632\n",
      "Favorite pair boost applied for players (np.int64(18), np.int64(8)): +0.0970, total strength now 3.1602\n",
      "Skills pair boost for players (np.int64(8), np.int64(11)): avg strength 0.7855 * boost factor 0.1778 = +0.1396, total strength now 3.2998\n",
      "Base strength of team [29 16 13  2 17 23  9]: 2.8942\n",
      "==================================================\n",
      "Game # 75 evaluation: \n",
      "Base strength of team [25  2 22  1  5 24 21 13 11]: 4.6938\n",
      "Favorite triplet boost applied for players (np.int64(5), np.int64(21), np.int64(24)): +0.1939, total strength now 4.8877\n",
      "Base strength of team [26 15  7  4 12  9 18 10 29]: 3.4448\n",
      "Favorite pair boost applied for players (np.int64(9), np.int64(10)): +0.1248, total strength now 3.5695\n",
      "Skills pair boost for players (np.int64(10), np.int64(12)): avg strength 0.4265 * boost factor 0.1377 = +0.0587, total strength now 3.6283\n",
      "==================================================\n",
      "Game # 76 evaluation: \n",
      "Base strength of team [12 10 16  5 23]: 1.6796\n",
      "Skills pair boost for players (np.int64(10), np.int64(12)): avg strength 0.4265 * boost factor 0.1377 = +0.0587, total strength now 1.7383\n",
      "Base strength of team [18 29 27 30  7]: 2.4664\n",
      "==================================================\n",
      "Game # 77 evaluation: \n",
      "Base strength of team [11 16 19 20 10 14 26 30]: 3.1869\n",
      "Favorite pair boost applied for players (np.int64(30), np.int64(20)): +0.0999, total strength now 3.2868\n",
      "Skills pair boost for players (np.int64(20), np.int64(11)): avg strength 0.7909 * boost factor 0.1480 = +0.1171, total strength now 3.4039\n",
      "Base strength of team [23 22 24  6 28 18 15  7]: 3.2466\n",
      "==================================================\n",
      "Game # 78 evaluation: \n",
      "Base strength of team [11 16 15 29 10 21 27]: 2.1783\n",
      "Favorite pair boost applied for players (np.int64(11), np.int64(15)): +0.1495, total strength now 2.3278\n",
      "Base strength of team [ 5 17 19 18 24 14  6]: 2.0999\n",
      "Favorite pair boost applied for players (np.int64(17), np.int64(14)): +0.0780, total strength now 2.1779\n",
      "==================================================\n",
      "Game # 79 evaluation: \n",
      "Base strength of team [23 21  9 26  2 25 15  5  7]: 4.1363\n",
      "Favorite pair boost applied for players (np.int64(7), np.int64(21)): +0.1383, total strength now 4.2747\n",
      "Base strength of team [10  1 12  4 11 28 18 19 27]: 4.7595\n",
      "Skills pair boost for players (np.int64(10), np.int64(12)): avg strength 0.4265 * boost factor 0.1377 = +0.0587, total strength now 4.8182\n",
      "==================================================\n",
      "Game # 80 evaluation: \n",
      "Base strength of team [10  2 12  4  6]: 1.7991\n",
      "Skills pair boost for players (np.int64(10), np.int64(12)): avg strength 0.4265 * boost factor 0.1377 = +0.0587, total strength now 1.8578\n",
      "Base strength of team [22 28 20 16 15]: 1.9841\n",
      "Skills pair boost for players (np.int64(16), np.int64(22)): avg strength 0.2982 * boost factor 0.1985 = +0.0592, total strength now 2.0433\n",
      "==================================================\n",
      "Game # 81 evaluation: \n",
      "Base strength of team [11  6 10 12  9  7 21 24]: 4.0508\n",
      "Favorite pair boost applied for players (np.int64(7), np.int64(21)): +0.1383, total strength now 4.1892\n",
      "Favorite pair boost applied for players (np.int64(9), np.int64(10)): +0.1248, total strength now 4.3140\n",
      "Skills pair boost for players (np.int64(10), np.int64(12)): avg strength 0.4265 * boost factor 0.1377 = +0.0587, total strength now 4.3727\n",
      "Base strength of team [28  3 29 22 16  1 30  4]: 3.5482\n",
      "Favorite pair boost applied for players (np.int64(16), np.int64(4)): +0.1072, total strength now 3.6554\n",
      "Favorite triplet boost applied for players (np.int64(29), np.int64(16), np.int64(4)): +0.2285, total strength now 3.8839\n",
      "Skills pair boost for players (np.int64(16), np.int64(22)): avg strength 0.2982 * boost factor 0.1985 = +0.0592, total strength now 3.9431\n",
      "==================================================\n",
      "Game # 82 evaluation: \n",
      "Base strength of team [21  8 17 16  1]: 2.5203\n",
      "Favorite pair boost applied for players (np.int64(16), np.int64(8)): +0.1269, total strength now 2.6472\n",
      "Base strength of team [22 20 15 23 26]: 1.6534\n",
      "==================================================\n",
      "Game # 83 evaluation: \n",
      "Base strength of team [14 29 22 16 30  1  8 19 12]: 4.1077\n",
      "Favorite pair boost applied for players (np.int64(16), np.int64(8)): +0.1269, total strength now 4.2346\n",
      "Skills pair boost for players (np.int64(16), np.int64(22)): avg strength 0.2982 * boost factor 0.1985 = +0.0592, total strength now 4.2938\n",
      "Base strength of team [20  2 10 24 28  9  7 13  3]: 4.7982\n",
      "Favorite pair boost applied for players (np.int64(9), np.int64(10)): +0.1248, total strength now 4.9229\n",
      "==================================================\n",
      "Game # 84 evaluation: \n",
      "Base strength of team [14  8 30 16 11]: 2.6646\n",
      "Favorite pair boost applied for players (np.int64(16), np.int64(8)): +0.1269, total strength now 2.7915\n",
      "Skills pair boost for players (np.int64(8), np.int64(11)): avg strength 0.7855 * boost factor 0.1778 = +0.1396, total strength now 2.9311\n",
      "Base strength of team [20  6  9 18 17]: 2.3347\n",
      "Skills pair boost for players (np.int64(20), np.int64(6)): avg strength 0.3350 * boost factor 0.1165 = +0.0390, total strength now 2.3737\n",
      "==================================================\n",
      "Game # 85 evaluation: \n",
      "Base strength of team [ 9  8 13 25 28 20  1 16  2]: 5.4979\n",
      "Favorite pair boost applied for players (np.int64(16), np.int64(8)): +0.1269, total strength now 5.6248\n",
      "Base strength of team [30 21  7  3 17 12 23 29  5]: 4.1379\n",
      "Favorite pair boost applied for players (np.int64(7), np.int64(21)): +0.1383, total strength now 4.2762\n",
      "==================================================\n",
      "Game # 86 evaluation: \n",
      "Base strength of team [28 15  6 23  8 12 14 26]: 3.0153\n",
      "Favorite pair boost applied for players (np.int64(15), np.int64(14)): +0.0544, total strength now 3.0697\n",
      "Base strength of team [ 7 11 24  1 27 18 19 20]: 5.0921\n",
      "Skills pair boost for players (np.int64(20), np.int64(11)): avg strength 0.7909 * boost factor 0.1480 = +0.1171, total strength now 5.2092\n",
      "==================================================\n",
      "Game # 87 evaluation: \n",
      "Base strength of team [21 13 20  1 16 14  9 12]: 3.9410\n",
      "Base strength of team [10 15  2 26 11 27  6  4]: 2.8339\n",
      "Favorite pair boost applied for players (np.int64(11), np.int64(15)): +0.1495, total strength now 2.9834\n",
      "==================================================\n",
      "Game # 88 evaluation: \n",
      "Base strength of team [20 18 25 13  5 10 15  2]: 3.1333\n",
      "Base strength of team [ 3 30 22  7  8 29  1 11]: 4.9327\n",
      "Skills pair boost for players (np.int64(8), np.int64(11)): avg strength 0.7855 * boost factor 0.1778 = +0.1396, total strength now 5.0723\n",
      "==================================================\n",
      "Game # 89 evaluation: \n",
      "Base strength of team [12 19  4 14 15 26 18 27]: 2.7908\n",
      "Favorite pair boost applied for players (np.int64(15), np.int64(14)): +0.0544, total strength now 2.8451\n",
      "Skills pair boost for players (np.int64(27), np.int64(14)): avg strength 0.3480 * boost factor 0.1411 = +0.0491, total strength now 2.8942\n",
      "Base strength of team [10 24  2 30 23  5 11 28]: 3.9009\n",
      "==================================================\n",
      "Game # 90 evaluation: \n",
      "Base strength of team [30 16 11 12  6 21 10 26]: 3.1320\n",
      "Skills pair boost for players (np.int64(30), np.int64(6)): avg strength 0.3328 * boost factor 0.1552 = +0.0516, total strength now 3.1836\n",
      "Skills pair boost for players (np.int64(10), np.int64(12)): avg strength 0.4265 * boost factor 0.1377 = +0.0587, total strength now 3.2423\n",
      "Base strength of team [13  5 29  4  1 23 22 14]: 2.3618\n",
      "==================================================\n",
      "Game # 91 evaluation: \n",
      "Base strength of team [10 15  5  9 16]: 1.3723\n",
      "Favorite pair boost applied for players (np.int64(9), np.int64(10)): +0.1248, total strength now 1.4971\n",
      "Base strength of team [27 21 12  7  1]: 3.3031\n",
      "Favorite pair boost applied for players (np.int64(7), np.int64(21)): +0.1383, total strength now 3.4414\n",
      "==================================================\n",
      "Game # 92 evaluation: \n",
      "Base strength of team [20 10  4 11 27 30  6 19 18]: 3.6614\n",
      "Favorite pair boost applied for players (np.int64(30), np.int64(20)): +0.0999, total strength now 3.7613\n",
      "Skills pair boost for players (np.int64(30), np.int64(6)): avg strength 0.3328 * boost factor 0.1552 = +0.0516, total strength now 3.8130\n",
      "Skills pair boost for players (np.int64(20), np.int64(6)): avg strength 0.3350 * boost factor 0.1165 = +0.0390, total strength now 3.8520\n",
      "Skills pair boost for players (np.int64(20), np.int64(11)): avg strength 0.7909 * boost factor 0.1480 = +0.1171, total strength now 3.9691\n",
      "Skills triplet boost for players (np.int64(10), np.int64(4), np.int64(20)): avg strength 0.2628 * boost factor 0.2501 = +0.0657, total strength now 4.0348\n",
      "Base strength of team [12 16 25 29 13  5 22  9 17]: 3.8616\n",
      "Skills pair boost for players (np.int64(16), np.int64(22)): avg strength 0.2982 * boost factor 0.1985 = +0.0592, total strength now 3.9208\n",
      "==================================================\n",
      "Game # 93 evaluation: \n",
      "Base strength of team [10  3  7 23  6 25]: 2.6950\n",
      "Base strength of team [ 5 30 26 19  1  9]: 2.9132\n",
      "==================================================\n",
      "Game # 94 evaluation: \n",
      "Base strength of team [28  7 13 10 29]: 1.7380\n",
      "Base strength of team [20 14 27 25 21]: 2.2326\n",
      "Skills pair boost for players (np.int64(27), np.int64(14)): avg strength 0.3480 * boost factor 0.1411 = +0.0491, total strength now 2.2817\n",
      "==================================================\n",
      "Game # 95 evaluation: \n",
      "Base strength of team [ 8 30  6  7 16  2 18]: 3.6011\n",
      "Favorite pair boost applied for players (np.int64(16), np.int64(8)): +0.1269, total strength now 3.7280\n",
      "Favorite pair boost applied for players (np.int64(18), np.int64(8)): +0.0970, total strength now 3.8250\n",
      "Skills pair boost for players (np.int64(30), np.int64(6)): avg strength 0.3328 * boost factor 0.1552 = +0.0516, total strength now 3.8766\n",
      "Base strength of team [17 27  3 26 20 14  9]: 3.3391\n",
      "Favorite pair boost applied for players (np.int64(17), np.int64(14)): +0.0780, total strength now 3.4170\n",
      "Skills pair boost for players (np.int64(27), np.int64(14)): avg strength 0.3480 * boost factor 0.1411 = +0.0491, total strength now 3.4661\n",
      "==================================================\n",
      "Game # 96 evaluation: \n",
      "Base strength of team [25 23 21 24 17 28  1 10]: 3.8356\n",
      "Base strength of team [ 8 11  6 27 20  2  4 19]: 3.9344\n",
      "Skills pair boost for players (np.int64(20), np.int64(6)): avg strength 0.3350 * boost factor 0.1165 = +0.0390, total strength now 3.9735\n",
      "Skills pair boost for players (np.int64(8), np.int64(11)): avg strength 0.7855 * boost factor 0.1778 = +0.1396, total strength now 4.1131\n",
      "Skills pair boost for players (np.int64(20), np.int64(11)): avg strength 0.7909 * boost factor 0.1480 = +0.1171, total strength now 4.2302\n",
      "==================================================\n",
      "Game # 97 evaluation: \n",
      "Base strength of team [16 30  7 20 15 23  2 17]: 4.1963\n",
      "Favorite pair boost applied for players (np.int64(30), np.int64(20)): +0.0999, total strength now 4.2963\n",
      "Base strength of team [25 19  5 10 14 27 24  9]: 3.1132\n",
      "Favorite pair boost applied for players (np.int64(9), np.int64(10)): +0.1248, total strength now 3.2380\n",
      "Skills pair boost for players (np.int64(27), np.int64(14)): avg strength 0.3480 * boost factor 0.1411 = +0.0491, total strength now 3.2871\n",
      "==================================================\n",
      "Game # 98 evaluation: \n",
      "Base strength of team [ 7 21  9 26 18 13 29]: 2.6042\n",
      "Favorite pair boost applied for players (np.int64(7), np.int64(21)): +0.1383, total strength now 2.7425\n",
      "Base strength of team [ 2  5 23 24 14 10 30]: 2.5204\n",
      "==================================================\n",
      "Game # 99 evaluation: \n",
      "Base strength of team [ 2 19 10 17 22]: 1.8607\n",
      "Skills pair boost for players (np.int64(10), np.int64(22)): avg strength 0.1564 * boost factor 0.1750 = +0.0274, total strength now 1.8881\n",
      "Base strength of team [ 6  5 24 14 18]: 1.2839\n",
      "==================================================\n",
      "player_strengths shape: (31,)\n",
      "teamA_data shape: (100, 9)\n",
      "teamB_data shape: (100, 9)\n",
      "labels shape: (100,)\n",
      "Game 0:\n",
      " Team A players:  [ 4  8 19 24 23  3 26  7 25]\n",
      " Team A palyers' stregths:  [0.15601864 0.60111501 0.29122914 0.45606998 0.36636184 0.59865848\n",
      " 0.19967378 0.86617615 0.78517596]\n",
      " Team B players:  [30 15 16 27 11 13 29 20 17]\n",
      "Team B strengths 3.9747347450429076\n",
      " Team B palyers' stregths:  [0.60754485 0.18340451 0.30424224 0.51423444 0.96990985 0.21233911\n",
      " 0.04645041 0.61185289 0.52475643]\n",
      " Label (Team A wins=1): 0.04070681695606775\n",
      "Game 1:\n",
      " Team A players:  [16  9 21  4  5  1  8 17  6]\n",
      " Team A palyers' stregths:  [0.30424224 0.70807258 0.13949386 0.15601864 0.15599452 0.95071431\n",
      " 0.60111501 0.52475643 0.05808361]\n",
      " Team B players:  [10 26 12 11 30 18 28  3  7]\n",
      "Team B strengths 5.119349838794148\n",
      " Team B palyers' stregths:  [0.02058449 0.19967378 0.83244264 0.96990985 0.60754485 0.43194502\n",
      " 0.59241457 0.59865848 0.86617615]\n",
      " Label (Team A wins=1): -1.2697718272631153\n",
      "Game 2:\n",
      " Team A players:  [28 29 24  5 18  0  0  0  0]\n",
      " Team A palyers' stregths:  [0.59241457 0.04645041 0.45606998 0.15599452 0.43194502 0.37454012\n",
      " 0.37454012 0.37454012 0.37454012]\n",
      " Team B players:  [27 19 14  1 11  0  0  0  0]\n",
      "Team B strengths 4.4060731797801145\n",
      " Team B palyers' stregths:  [0.51423444 0.29122914 0.18182497 0.95071431 0.96990985 0.37454012\n",
      " 0.37454012 0.37454012 0.37454012]\n",
      " Label (Team A wins=1): -1.181536314741586\n"
     ]
    }
   ],
   "source": [
    "np.random.seed(42)  # for reproducibility\n",
    "\n",
    "NUM_PLAYERS = 30  # player 0 is ignore/masked and 1 is added to account for this\n",
    "MIN_TEAM_SIZE = 5\n",
    "MAX_TEAM_SIZE = 9\n",
    "NUM_GAMES = 100\n",
    "\n",
    "# 1. Generate players' strengths: single float number [0, 1]\n",
    "player_strengths = np.random.rand(NUM_PLAYERS + 1) # player 0 is ignore/masked \n",
    "\n",
    "# 2. Generate favorite player pairs and triplets (friends)\n",
    "num_friend_pairs = 10\n",
    "num_friend_triplets = 5\n",
    "\n",
    "# Randomly select unique pairs\n",
    "friend_pairs = [tuple(np.random.choice(np.arange(1, NUM_PLAYERS +1), size=2, replace=False)) for _ in range(num_friend_pairs)]\n",
    "friend_pairs_boost = np.random.uniform(0.05, 0.15, size=num_friend_pairs)  # small boost\n",
    "\n",
    "# Randomly select unique triplets\n",
    "friend_triplets = [tuple(np.random.choice(np.arange(1, NUM_PLAYERS +1), size=3, replace=False)) for _ in range(num_friend_triplets)]\n",
    "friend_triplets_boost = np.random.uniform(0.1, 0.25, size=num_friend_triplets)  # larger boost\n",
    "\n",
    "# 3. Generate skilled pairs and triplets (high skill synergy)\n",
    "num_skilled_pairs = 8\n",
    "num_skilled_triplets = 4\n",
    "\n",
    "skilled_pairs = [tuple(np.random.choice(np.arange(1, NUM_PLAYERS + 1), size=2, replace=False)) for _ in range(num_skilled_pairs)]\n",
    "skilled_pairs_boost = np.random.uniform(0.1, 0.2, size=num_skilled_pairs)  # moderate boost\n",
    "\n",
    "skilled_triplets = [tuple(np.random.choice(np.arange(1, NUM_PLAYERS + 1), size=3, replace=False)) for _ in range(num_skilled_triplets)]\n",
    "skilled_triplets_boost = np.random.uniform(0.15, 0.3, size=num_skilled_triplets)  # strong boost\n",
    "\n",
    "# 2. Prepare arrays to hold the dataset\n",
    "teamA_data = np.zeros((NUM_GAMES, MAX_TEAM_SIZE), dtype=int)\n",
    "teamB_data = np.zeros((NUM_GAMES, MAX_TEAM_SIZE), dtype=int)\n",
    "labels = np.zeros(NUM_GAMES)\n",
    "\n",
    "def drop_zeroes_for_sum(players_strengths):\n",
    "    return players_strengths[players_strengths !=0]\n",
    "\n",
    "for game_i in range(NUM_GAMES):\n",
    "    # Random sizes for both teams in [MIN_TEAM_SIZE, MAX_TEAM_SIZE]\n",
    "\n",
    "    team_size = np.random.randint(MIN_TEAM_SIZE, MAX_TEAM_SIZE + 1)\n",
    "\n",
    "    # Randomly sample distinct players for each team (sampling with replacement allowed for simplicity)\n",
    "    # To avoid overlap if needed: sample without replacement from full 32 for both teams combined,\n",
    "    # here assuming players can appear on both teams (as per original conversation)\n",
    "    # teamA_players = np.random.choice(NUM_PLAYERS, size=teamA_size, replace=False)\n",
    "    # teamB_players = np.random.choice(NUM_PLAYERS, size=teamB_size, replace=False)\n",
    "    \n",
    "    # Shuffle all players and split into two disjoint teams\n",
    "    all_players = np.random.permutation(np.arange(1, NUM_PLAYERS + 1))\n",
    "    teamA_players = all_players[:team_size]\n",
    "    teamB_players = all_players[team_size:2*team_size]\n",
    "    \n",
    "    print(f\"Game # {game_i} evaluation: \")\n",
    "    # Compute team strengths as sum of player strengths\n",
    "    teamA_strength = calculate_team_strength(teamA_players)\n",
    "    teamB_strength = calculate_team_strength(teamB_players)\n",
    "    print(f\"=\" * 50)\n",
    "    \n",
    "    # print(f\"Team A strengths {player_strengths[teamA_players]} Total: {teamA_strength}\")\n",
    "\n",
    "    # Calculate match outcome: 1 if Team A wins, 0 if Team B wins\n",
    "    # Add small noise to simulate unpredictability\n",
    "    outcome = teamA_strength - teamB_strength + np.random.normal(scale=0.1)\n",
    "    labels[game_i] = outcome\n",
    "\n",
    "    # Pad teams to max size using zeros (which corresponds to masked player)\n",
    "    teamA_data[game_i, :team_size] = teamA_players\n",
    "    teamB_data[game_i, :team_size] = teamB_players\n",
    "\n",
    "print(\"player_strengths shape:\", player_strengths.shape)\n",
    "print(\"teamA_data shape:\", teamA_data.shape)\n",
    "print(\"teamB_data shape:\", teamB_data.shape)\n",
    "print(\"labels shape:\", labels.shape)\n",
    "\n",
    "# Example print first 3 games\n",
    "for i in range(3):\n",
    "    print(f\"Game {i}:\")\n",
    "    teamA_pls = teamA_data[i]\n",
    "    print(\" Team A players: \", teamA_pls)\n",
    "    print(\" Team A palyers' stregths: \", player_strengths[teamA_pls])\n",
    "\n",
    "    teamB_pls = teamB_data[i]\n",
    "    print(\" Team B players: \", teamB_pls)\n",
    "    print(f\"Team B strengths {drop_zeroes_for_sum(player_strengths[teamB_pls]).sum()}\")\n",
    "    print(\" Team B palyers' stregths: \", player_strengths[teamB_pls])\n",
    "    print(\" Label (Team A wins=1):\", labels[i])\n"
   ]
  },
  {
   "cell_type": "markdown",
   "metadata": {},
   "source": [
    "## Building a model"
   ]
  },
  {
   "cell_type": "code",
   "execution_count": 5,
   "metadata": {},
   "outputs": [
    {
     "data": {
      "text/html": [
       "<pre style=\"white-space:pre;overflow-x:auto;line-height:normal;font-family:Menlo,'DejaVu Sans Mono',consolas,'Courier New',monospace\"><span style=\"font-weight: bold\">Model: \"functional\"</span>\n",
       "</pre>\n"
      ],
      "text/plain": [
       "\u001b[1mModel: \"functional\"\u001b[0m\n"
      ]
     },
     "metadata": {},
     "output_type": "display_data"
    },
    {
     "data": {
      "text/html": [
       "<pre style=\"white-space:pre;overflow-x:auto;line-height:normal;font-family:Menlo,'DejaVu Sans Mono',consolas,'Courier New',monospace\">┏━━━━━━━━━━━━━━━━━━━━━┳━━━━━━━━━━━━━━━━━━━┳━━━━━━━━━━━━┳━━━━━━━━━━━━━━━━━━━┓\n",
       "┃<span style=\"font-weight: bold\"> Layer (type)        </span>┃<span style=\"font-weight: bold\"> Output Shape      </span>┃<span style=\"font-weight: bold\">    Param # </span>┃<span style=\"font-weight: bold\"> Connected to      </span>┃\n",
       "┡━━━━━━━━━━━━━━━━━━━━━╇━━━━━━━━━━━━━━━━━━━╇━━━━━━━━━━━━╇━━━━━━━━━━━━━━━━━━━┩\n",
       "│ teamA (<span style=\"color: #0087ff; text-decoration-color: #0087ff\">InputLayer</span>)  │ (<span style=\"color: #00af00; text-decoration-color: #00af00\">80</span>, <span style=\"color: #00af00; text-decoration-color: #00af00\">9</span>)           │          <span style=\"color: #00af00; text-decoration-color: #00af00\">0</span> │ -                 │\n",
       "├─────────────────────┼───────────────────┼────────────┼───────────────────┤\n",
       "│ teamB (<span style=\"color: #0087ff; text-decoration-color: #0087ff\">InputLayer</span>)  │ (<span style=\"color: #00af00; text-decoration-color: #00af00\">80</span>, <span style=\"color: #00af00; text-decoration-color: #00af00\">9</span>)           │          <span style=\"color: #00af00; text-decoration-color: #00af00\">0</span> │ -                 │\n",
       "├─────────────────────┼───────────────────┼────────────┼───────────────────┤\n",
       "│ player_embedding    │ (<span style=\"color: #00af00; text-decoration-color: #00af00\">80</span>, <span style=\"color: #00af00; text-decoration-color: #00af00\">9</span>, <span style=\"color: #00af00; text-decoration-color: #00af00\">32</span>)       │        <span style=\"color: #00af00; text-decoration-color: #00af00\">992</span> │ teamA[<span style=\"color: #00af00; text-decoration-color: #00af00\">0</span>][<span style=\"color: #00af00; text-decoration-color: #00af00\">0</span>],      │\n",
       "│ (<span style=\"color: #0087ff; text-decoration-color: #0087ff\">Embedding</span>)         │                   │            │ teamB[<span style=\"color: #00af00; text-decoration-color: #00af00\">0</span>][<span style=\"color: #00af00; text-decoration-color: #00af00\">0</span>]       │\n",
       "├─────────────────────┼───────────────────┼────────────┼───────────────────┤\n",
       "│ not_equal           │ (<span style=\"color: #00af00; text-decoration-color: #00af00\">80</span>, <span style=\"color: #00af00; text-decoration-color: #00af00\">9</span>)           │          <span style=\"color: #00af00; text-decoration-color: #00af00\">0</span> │ teamA[<span style=\"color: #00af00; text-decoration-color: #00af00\">0</span>][<span style=\"color: #00af00; text-decoration-color: #00af00\">0</span>]       │\n",
       "│ (<span style=\"color: #0087ff; text-decoration-color: #0087ff\">NotEqual</span>)          │                   │            │                   │\n",
       "├─────────────────────┼───────────────────┼────────────┼───────────────────┤\n",
       "│ not_equal_1         │ (<span style=\"color: #00af00; text-decoration-color: #00af00\">80</span>, <span style=\"color: #00af00; text-decoration-color: #00af00\">9</span>)           │          <span style=\"color: #00af00; text-decoration-color: #00af00\">0</span> │ teamB[<span style=\"color: #00af00; text-decoration-color: #00af00\">0</span>][<span style=\"color: #00af00; text-decoration-color: #00af00\">0</span>]       │\n",
       "│ (<span style=\"color: #0087ff; text-decoration-color: #0087ff\">NotEqual</span>)          │                   │            │                   │\n",
       "├─────────────────────┼───────────────────┼────────────┼───────────────────┤\n",
       "│ teamA_attn          │ (<span style=\"color: #00af00; text-decoration-color: #00af00\">80</span>, <span style=\"color: #00af00; text-decoration-color: #00af00\">9</span>, <span style=\"color: #00af00; text-decoration-color: #00af00\">32</span>)       │     <span style=\"color: #00af00; text-decoration-color: #00af00\">16,800</span> │ player_embedding… │\n",
       "│ (<span style=\"color: #0087ff; text-decoration-color: #0087ff\">MultiHeadAttentio…</span> │                   │            │ player_embedding… │\n",
       "│                     │                   │            │ not_equal[<span style=\"color: #00af00; text-decoration-color: #00af00\">0</span>][<span style=\"color: #00af00; text-decoration-color: #00af00\">0</span>],  │\n",
       "│                     │                   │            │ not_equal[<span style=\"color: #00af00; text-decoration-color: #00af00\">0</span>][<span style=\"color: #00af00; text-decoration-color: #00af00\">0</span>]   │\n",
       "├─────────────────────┼───────────────────┼────────────┼───────────────────┤\n",
       "│ teamB_attn          │ (<span style=\"color: #00af00; text-decoration-color: #00af00\">80</span>, <span style=\"color: #00af00; text-decoration-color: #00af00\">9</span>, <span style=\"color: #00af00; text-decoration-color: #00af00\">32</span>)       │     <span style=\"color: #00af00; text-decoration-color: #00af00\">16,800</span> │ player_embedding… │\n",
       "│ (<span style=\"color: #0087ff; text-decoration-color: #0087ff\">MultiHeadAttentio…</span> │                   │            │ player_embedding… │\n",
       "│                     │                   │            │ not_equal_1[<span style=\"color: #00af00; text-decoration-color: #00af00\">0</span>][<span style=\"color: #00af00; text-decoration-color: #00af00\">0</span>… │\n",
       "│                     │                   │            │ not_equal_1[<span style=\"color: #00af00; text-decoration-color: #00af00\">0</span>][<span style=\"color: #00af00; text-decoration-color: #00af00\">0</span>] │\n",
       "├─────────────────────┼───────────────────┼────────────┼───────────────────┤\n",
       "│ teamA_residual      │ (<span style=\"color: #00af00; text-decoration-color: #00af00\">80</span>, <span style=\"color: #00af00; text-decoration-color: #00af00\">9</span>, <span style=\"color: #00af00; text-decoration-color: #00af00\">32</span>)       │          <span style=\"color: #00af00; text-decoration-color: #00af00\">0</span> │ player_embedding… │\n",
       "│ (<span style=\"color: #0087ff; text-decoration-color: #0087ff\">Add</span>)               │                   │            │ teamA_attn[<span style=\"color: #00af00; text-decoration-color: #00af00\">0</span>][<span style=\"color: #00af00; text-decoration-color: #00af00\">0</span>]  │\n",
       "├─────────────────────┼───────────────────┼────────────┼───────────────────┤\n",
       "│ teamB_residual      │ (<span style=\"color: #00af00; text-decoration-color: #00af00\">80</span>, <span style=\"color: #00af00; text-decoration-color: #00af00\">9</span>, <span style=\"color: #00af00; text-decoration-color: #00af00\">32</span>)       │          <span style=\"color: #00af00; text-decoration-color: #00af00\">0</span> │ player_embedding… │\n",
       "│ (<span style=\"color: #0087ff; text-decoration-color: #0087ff\">Add</span>)               │                   │            │ teamB_attn[<span style=\"color: #00af00; text-decoration-color: #00af00\">0</span>][<span style=\"color: #00af00; text-decoration-color: #00af00\">0</span>]  │\n",
       "├─────────────────────┼───────────────────┼────────────┼───────────────────┤\n",
       "│ teamA_norm          │ (<span style=\"color: #00af00; text-decoration-color: #00af00\">80</span>, <span style=\"color: #00af00; text-decoration-color: #00af00\">9</span>, <span style=\"color: #00af00; text-decoration-color: #00af00\">32</span>)       │         <span style=\"color: #00af00; text-decoration-color: #00af00\">64</span> │ teamA_residual[<span style=\"color: #00af00; text-decoration-color: #00af00\">0</span>… │\n",
       "│ (<span style=\"color: #0087ff; text-decoration-color: #0087ff\">LayerNormalizatio…</span> │                   │            │                   │\n",
       "├─────────────────────┼───────────────────┼────────────┼───────────────────┤\n",
       "│ logical_or          │ (<span style=\"color: #00af00; text-decoration-color: #00af00\">80</span>, <span style=\"color: #00af00; text-decoration-color: #00af00\">9</span>)           │          <span style=\"color: #00af00; text-decoration-color: #00af00\">0</span> │ not_equal[<span style=\"color: #00af00; text-decoration-color: #00af00\">0</span>][<span style=\"color: #00af00; text-decoration-color: #00af00\">0</span>],  │\n",
       "│ (<span style=\"color: #0087ff; text-decoration-color: #0087ff\">LogicalOr</span>)         │                   │            │ not_equal[<span style=\"color: #00af00; text-decoration-color: #00af00\">0</span>][<span style=\"color: #00af00; text-decoration-color: #00af00\">0</span>]   │\n",
       "├─────────────────────┼───────────────────┼────────────┼───────────────────┤\n",
       "│ teamB_norm          │ (<span style=\"color: #00af00; text-decoration-color: #00af00\">80</span>, <span style=\"color: #00af00; text-decoration-color: #00af00\">9</span>, <span style=\"color: #00af00; text-decoration-color: #00af00\">32</span>)       │         <span style=\"color: #00af00; text-decoration-color: #00af00\">64</span> │ teamB_residual[<span style=\"color: #00af00; text-decoration-color: #00af00\">0</span>… │\n",
       "│ (<span style=\"color: #0087ff; text-decoration-color: #0087ff\">LayerNormalizatio…</span> │                   │            │                   │\n",
       "├─────────────────────┼───────────────────┼────────────┼───────────────────┤\n",
       "│ logical_or_1        │ (<span style=\"color: #00af00; text-decoration-color: #00af00\">80</span>, <span style=\"color: #00af00; text-decoration-color: #00af00\">9</span>)           │          <span style=\"color: #00af00; text-decoration-color: #00af00\">0</span> │ not_equal_1[<span style=\"color: #00af00; text-decoration-color: #00af00\">0</span>][<span style=\"color: #00af00; text-decoration-color: #00af00\">0</span>… │\n",
       "│ (<span style=\"color: #0087ff; text-decoration-color: #0087ff\">LogicalOr</span>)         │                   │            │ not_equal_1[<span style=\"color: #00af00; text-decoration-color: #00af00\">0</span>][<span style=\"color: #00af00; text-decoration-color: #00af00\">0</span>] │\n",
       "├─────────────────────┼───────────────────┼────────────┼───────────────────┤\n",
       "│ teamA_avgpool       │ (<span style=\"color: #00af00; text-decoration-color: #00af00\">80</span>, <span style=\"color: #00af00; text-decoration-color: #00af00\">32</span>)          │          <span style=\"color: #00af00; text-decoration-color: #00af00\">0</span> │ teamA_norm[<span style=\"color: #00af00; text-decoration-color: #00af00\">0</span>][<span style=\"color: #00af00; text-decoration-color: #00af00\">0</span>], │\n",
       "│ (<span style=\"color: #0087ff; text-decoration-color: #0087ff\">GlobalAveragePool…</span> │                   │            │ logical_or[<span style=\"color: #00af00; text-decoration-color: #00af00\">0</span>][<span style=\"color: #00af00; text-decoration-color: #00af00\">0</span>]  │\n",
       "├─────────────────────┼───────────────────┼────────────┼───────────────────┤\n",
       "│ teamB_avgpool       │ (<span style=\"color: #00af00; text-decoration-color: #00af00\">80</span>, <span style=\"color: #00af00; text-decoration-color: #00af00\">32</span>)          │          <span style=\"color: #00af00; text-decoration-color: #00af00\">0</span> │ teamB_norm[<span style=\"color: #00af00; text-decoration-color: #00af00\">0</span>][<span style=\"color: #00af00; text-decoration-color: #00af00\">0</span>], │\n",
       "│ (<span style=\"color: #0087ff; text-decoration-color: #0087ff\">GlobalAveragePool…</span> │                   │            │ logical_or_1[<span style=\"color: #00af00; text-decoration-color: #00af00\">0</span>][<span style=\"color: #00af00; text-decoration-color: #00af00\">…</span> │\n",
       "├─────────────────────┼───────────────────┼────────────┼───────────────────┤\n",
       "│ matchup_diff        │ (<span style=\"color: #00af00; text-decoration-color: #00af00\">80</span>, <span style=\"color: #00af00; text-decoration-color: #00af00\">32</span>)          │          <span style=\"color: #00af00; text-decoration-color: #00af00\">0</span> │ teamA_avgpool[<span style=\"color: #00af00; text-decoration-color: #00af00\">0</span>]… │\n",
       "│ (<span style=\"color: #0087ff; text-decoration-color: #0087ff\">Subtract</span>)          │                   │            │ teamB_avgpool[<span style=\"color: #00af00; text-decoration-color: #00af00\">0</span>]… │\n",
       "├─────────────────────┼───────────────────┼────────────┼───────────────────┤\n",
       "│ match_features      │ (<span style=\"color: #00af00; text-decoration-color: #00af00\">80</span>, <span style=\"color: #00af00; text-decoration-color: #00af00\">96</span>)          │          <span style=\"color: #00af00; text-decoration-color: #00af00\">0</span> │ teamA_avgpool[<span style=\"color: #00af00; text-decoration-color: #00af00\">0</span>]… │\n",
       "│ (<span style=\"color: #0087ff; text-decoration-color: #0087ff\">Concatenate</span>)       │                   │            │ teamB_avgpool[<span style=\"color: #00af00; text-decoration-color: #00af00\">0</span>]… │\n",
       "│                     │                   │            │ matchup_diff[<span style=\"color: #00af00; text-decoration-color: #00af00\">0</span>][<span style=\"color: #00af00; text-decoration-color: #00af00\">…</span> │\n",
       "├─────────────────────┼───────────────────┼────────────┼───────────────────┤\n",
       "│ dense (<span style=\"color: #0087ff; text-decoration-color: #0087ff\">Dense</span>)       │ (<span style=\"color: #00af00; text-decoration-color: #00af00\">80</span>, <span style=\"color: #00af00; text-decoration-color: #00af00\">64</span>)          │      <span style=\"color: #00af00; text-decoration-color: #00af00\">6,208</span> │ match_features[<span style=\"color: #00af00; text-decoration-color: #00af00\">0</span>… │\n",
       "├─────────────────────┼───────────────────┼────────────┼───────────────────┤\n",
       "│ dropout_2 (<span style=\"color: #0087ff; text-decoration-color: #0087ff\">Dropout</span>) │ (<span style=\"color: #00af00; text-decoration-color: #00af00\">80</span>, <span style=\"color: #00af00; text-decoration-color: #00af00\">64</span>)          │          <span style=\"color: #00af00; text-decoration-color: #00af00\">0</span> │ dense[<span style=\"color: #00af00; text-decoration-color: #00af00\">0</span>][<span style=\"color: #00af00; text-decoration-color: #00af00\">0</span>]       │\n",
       "├─────────────────────┼───────────────────┼────────────┼───────────────────┤\n",
       "│ dense_1 (<span style=\"color: #0087ff; text-decoration-color: #0087ff\">Dense</span>)     │ (<span style=\"color: #00af00; text-decoration-color: #00af00\">80</span>, <span style=\"color: #00af00; text-decoration-color: #00af00\">32</span>)          │      <span style=\"color: #00af00; text-decoration-color: #00af00\">2,080</span> │ dropout_2[<span style=\"color: #00af00; text-decoration-color: #00af00\">0</span>][<span style=\"color: #00af00; text-decoration-color: #00af00\">0</span>]   │\n",
       "├─────────────────────┼───────────────────┼────────────┼───────────────────┤\n",
       "│ dropout_3 (<span style=\"color: #0087ff; text-decoration-color: #0087ff\">Dropout</span>) │ (<span style=\"color: #00af00; text-decoration-color: #00af00\">80</span>, <span style=\"color: #00af00; text-decoration-color: #00af00\">32</span>)          │          <span style=\"color: #00af00; text-decoration-color: #00af00\">0</span> │ dense_1[<span style=\"color: #00af00; text-decoration-color: #00af00\">0</span>][<span style=\"color: #00af00; text-decoration-color: #00af00\">0</span>]     │\n",
       "├─────────────────────┼───────────────────┼────────────┼───────────────────┤\n",
       "│ regression_output   │ (<span style=\"color: #00af00; text-decoration-color: #00af00\">80</span>, <span style=\"color: #00af00; text-decoration-color: #00af00\">1</span>)           │         <span style=\"color: #00af00; text-decoration-color: #00af00\">33</span> │ dropout_3[<span style=\"color: #00af00; text-decoration-color: #00af00\">0</span>][<span style=\"color: #00af00; text-decoration-color: #00af00\">0</span>]   │\n",
       "│ (<span style=\"color: #0087ff; text-decoration-color: #0087ff\">Dense</span>)             │                   │            │                   │\n",
       "└─────────────────────┴───────────────────┴────────────┴───────────────────┘\n",
       "</pre>\n"
      ],
      "text/plain": [
       "┏━━━━━━━━━━━━━━━━━━━━━┳━━━━━━━━━━━━━━━━━━━┳━━━━━━━━━━━━┳━━━━━━━━━━━━━━━━━━━┓\n",
       "┃\u001b[1m \u001b[0m\u001b[1mLayer (type)       \u001b[0m\u001b[1m \u001b[0m┃\u001b[1m \u001b[0m\u001b[1mOutput Shape     \u001b[0m\u001b[1m \u001b[0m┃\u001b[1m \u001b[0m\u001b[1m   Param #\u001b[0m\u001b[1m \u001b[0m┃\u001b[1m \u001b[0m\u001b[1mConnected to     \u001b[0m\u001b[1m \u001b[0m┃\n",
       "┡━━━━━━━━━━━━━━━━━━━━━╇━━━━━━━━━━━━━━━━━━━╇━━━━━━━━━━━━╇━━━━━━━━━━━━━━━━━━━┩\n",
       "│ teamA (\u001b[38;5;33mInputLayer\u001b[0m)  │ (\u001b[38;5;34m80\u001b[0m, \u001b[38;5;34m9\u001b[0m)           │          \u001b[38;5;34m0\u001b[0m │ -                 │\n",
       "├─────────────────────┼───────────────────┼────────────┼───────────────────┤\n",
       "│ teamB (\u001b[38;5;33mInputLayer\u001b[0m)  │ (\u001b[38;5;34m80\u001b[0m, \u001b[38;5;34m9\u001b[0m)           │          \u001b[38;5;34m0\u001b[0m │ -                 │\n",
       "├─────────────────────┼───────────────────┼────────────┼───────────────────┤\n",
       "│ player_embedding    │ (\u001b[38;5;34m80\u001b[0m, \u001b[38;5;34m9\u001b[0m, \u001b[38;5;34m32\u001b[0m)       │        \u001b[38;5;34m992\u001b[0m │ teamA[\u001b[38;5;34m0\u001b[0m][\u001b[38;5;34m0\u001b[0m],      │\n",
       "│ (\u001b[38;5;33mEmbedding\u001b[0m)         │                   │            │ teamB[\u001b[38;5;34m0\u001b[0m][\u001b[38;5;34m0\u001b[0m]       │\n",
       "├─────────────────────┼───────────────────┼────────────┼───────────────────┤\n",
       "│ not_equal           │ (\u001b[38;5;34m80\u001b[0m, \u001b[38;5;34m9\u001b[0m)           │          \u001b[38;5;34m0\u001b[0m │ teamA[\u001b[38;5;34m0\u001b[0m][\u001b[38;5;34m0\u001b[0m]       │\n",
       "│ (\u001b[38;5;33mNotEqual\u001b[0m)          │                   │            │                   │\n",
       "├─────────────────────┼───────────────────┼────────────┼───────────────────┤\n",
       "│ not_equal_1         │ (\u001b[38;5;34m80\u001b[0m, \u001b[38;5;34m9\u001b[0m)           │          \u001b[38;5;34m0\u001b[0m │ teamB[\u001b[38;5;34m0\u001b[0m][\u001b[38;5;34m0\u001b[0m]       │\n",
       "│ (\u001b[38;5;33mNotEqual\u001b[0m)          │                   │            │                   │\n",
       "├─────────────────────┼───────────────────┼────────────┼───────────────────┤\n",
       "│ teamA_attn          │ (\u001b[38;5;34m80\u001b[0m, \u001b[38;5;34m9\u001b[0m, \u001b[38;5;34m32\u001b[0m)       │     \u001b[38;5;34m16,800\u001b[0m │ player_embedding… │\n",
       "│ (\u001b[38;5;33mMultiHeadAttentio…\u001b[0m │                   │            │ player_embedding… │\n",
       "│                     │                   │            │ not_equal[\u001b[38;5;34m0\u001b[0m][\u001b[38;5;34m0\u001b[0m],  │\n",
       "│                     │                   │            │ not_equal[\u001b[38;5;34m0\u001b[0m][\u001b[38;5;34m0\u001b[0m]   │\n",
       "├─────────────────────┼───────────────────┼────────────┼───────────────────┤\n",
       "│ teamB_attn          │ (\u001b[38;5;34m80\u001b[0m, \u001b[38;5;34m9\u001b[0m, \u001b[38;5;34m32\u001b[0m)       │     \u001b[38;5;34m16,800\u001b[0m │ player_embedding… │\n",
       "│ (\u001b[38;5;33mMultiHeadAttentio…\u001b[0m │                   │            │ player_embedding… │\n",
       "│                     │                   │            │ not_equal_1[\u001b[38;5;34m0\u001b[0m][\u001b[38;5;34m0\u001b[0m… │\n",
       "│                     │                   │            │ not_equal_1[\u001b[38;5;34m0\u001b[0m][\u001b[38;5;34m0\u001b[0m] │\n",
       "├─────────────────────┼───────────────────┼────────────┼───────────────────┤\n",
       "│ teamA_residual      │ (\u001b[38;5;34m80\u001b[0m, \u001b[38;5;34m9\u001b[0m, \u001b[38;5;34m32\u001b[0m)       │          \u001b[38;5;34m0\u001b[0m │ player_embedding… │\n",
       "│ (\u001b[38;5;33mAdd\u001b[0m)               │                   │            │ teamA_attn[\u001b[38;5;34m0\u001b[0m][\u001b[38;5;34m0\u001b[0m]  │\n",
       "├─────────────────────┼───────────────────┼────────────┼───────────────────┤\n",
       "│ teamB_residual      │ (\u001b[38;5;34m80\u001b[0m, \u001b[38;5;34m9\u001b[0m, \u001b[38;5;34m32\u001b[0m)       │          \u001b[38;5;34m0\u001b[0m │ player_embedding… │\n",
       "│ (\u001b[38;5;33mAdd\u001b[0m)               │                   │            │ teamB_attn[\u001b[38;5;34m0\u001b[0m][\u001b[38;5;34m0\u001b[0m]  │\n",
       "├─────────────────────┼───────────────────┼────────────┼───────────────────┤\n",
       "│ teamA_norm          │ (\u001b[38;5;34m80\u001b[0m, \u001b[38;5;34m9\u001b[0m, \u001b[38;5;34m32\u001b[0m)       │         \u001b[38;5;34m64\u001b[0m │ teamA_residual[\u001b[38;5;34m0\u001b[0m… │\n",
       "│ (\u001b[38;5;33mLayerNormalizatio…\u001b[0m │                   │            │                   │\n",
       "├─────────────────────┼───────────────────┼────────────┼───────────────────┤\n",
       "│ logical_or          │ (\u001b[38;5;34m80\u001b[0m, \u001b[38;5;34m9\u001b[0m)           │          \u001b[38;5;34m0\u001b[0m │ not_equal[\u001b[38;5;34m0\u001b[0m][\u001b[38;5;34m0\u001b[0m],  │\n",
       "│ (\u001b[38;5;33mLogicalOr\u001b[0m)         │                   │            │ not_equal[\u001b[38;5;34m0\u001b[0m][\u001b[38;5;34m0\u001b[0m]   │\n",
       "├─────────────────────┼───────────────────┼────────────┼───────────────────┤\n",
       "│ teamB_norm          │ (\u001b[38;5;34m80\u001b[0m, \u001b[38;5;34m9\u001b[0m, \u001b[38;5;34m32\u001b[0m)       │         \u001b[38;5;34m64\u001b[0m │ teamB_residual[\u001b[38;5;34m0\u001b[0m… │\n",
       "│ (\u001b[38;5;33mLayerNormalizatio…\u001b[0m │                   │            │                   │\n",
       "├─────────────────────┼───────────────────┼────────────┼───────────────────┤\n",
       "│ logical_or_1        │ (\u001b[38;5;34m80\u001b[0m, \u001b[38;5;34m9\u001b[0m)           │          \u001b[38;5;34m0\u001b[0m │ not_equal_1[\u001b[38;5;34m0\u001b[0m][\u001b[38;5;34m0\u001b[0m… │\n",
       "│ (\u001b[38;5;33mLogicalOr\u001b[0m)         │                   │            │ not_equal_1[\u001b[38;5;34m0\u001b[0m][\u001b[38;5;34m0\u001b[0m] │\n",
       "├─────────────────────┼───────────────────┼────────────┼───────────────────┤\n",
       "│ teamA_avgpool       │ (\u001b[38;5;34m80\u001b[0m, \u001b[38;5;34m32\u001b[0m)          │          \u001b[38;5;34m0\u001b[0m │ teamA_norm[\u001b[38;5;34m0\u001b[0m][\u001b[38;5;34m0\u001b[0m], │\n",
       "│ (\u001b[38;5;33mGlobalAveragePool…\u001b[0m │                   │            │ logical_or[\u001b[38;5;34m0\u001b[0m][\u001b[38;5;34m0\u001b[0m]  │\n",
       "├─────────────────────┼───────────────────┼────────────┼───────────────────┤\n",
       "│ teamB_avgpool       │ (\u001b[38;5;34m80\u001b[0m, \u001b[38;5;34m32\u001b[0m)          │          \u001b[38;5;34m0\u001b[0m │ teamB_norm[\u001b[38;5;34m0\u001b[0m][\u001b[38;5;34m0\u001b[0m], │\n",
       "│ (\u001b[38;5;33mGlobalAveragePool…\u001b[0m │                   │            │ logical_or_1[\u001b[38;5;34m0\u001b[0m][\u001b[38;5;34m…\u001b[0m │\n",
       "├─────────────────────┼───────────────────┼────────────┼───────────────────┤\n",
       "│ matchup_diff        │ (\u001b[38;5;34m80\u001b[0m, \u001b[38;5;34m32\u001b[0m)          │          \u001b[38;5;34m0\u001b[0m │ teamA_avgpool[\u001b[38;5;34m0\u001b[0m]… │\n",
       "│ (\u001b[38;5;33mSubtract\u001b[0m)          │                   │            │ teamB_avgpool[\u001b[38;5;34m0\u001b[0m]… │\n",
       "├─────────────────────┼───────────────────┼────────────┼───────────────────┤\n",
       "│ match_features      │ (\u001b[38;5;34m80\u001b[0m, \u001b[38;5;34m96\u001b[0m)          │          \u001b[38;5;34m0\u001b[0m │ teamA_avgpool[\u001b[38;5;34m0\u001b[0m]… │\n",
       "│ (\u001b[38;5;33mConcatenate\u001b[0m)       │                   │            │ teamB_avgpool[\u001b[38;5;34m0\u001b[0m]… │\n",
       "│                     │                   │            │ matchup_diff[\u001b[38;5;34m0\u001b[0m][\u001b[38;5;34m…\u001b[0m │\n",
       "├─────────────────────┼───────────────────┼────────────┼───────────────────┤\n",
       "│ dense (\u001b[38;5;33mDense\u001b[0m)       │ (\u001b[38;5;34m80\u001b[0m, \u001b[38;5;34m64\u001b[0m)          │      \u001b[38;5;34m6,208\u001b[0m │ match_features[\u001b[38;5;34m0\u001b[0m… │\n",
       "├─────────────────────┼───────────────────┼────────────┼───────────────────┤\n",
       "│ dropout_2 (\u001b[38;5;33mDropout\u001b[0m) │ (\u001b[38;5;34m80\u001b[0m, \u001b[38;5;34m64\u001b[0m)          │          \u001b[38;5;34m0\u001b[0m │ dense[\u001b[38;5;34m0\u001b[0m][\u001b[38;5;34m0\u001b[0m]       │\n",
       "├─────────────────────┼───────────────────┼────────────┼───────────────────┤\n",
       "│ dense_1 (\u001b[38;5;33mDense\u001b[0m)     │ (\u001b[38;5;34m80\u001b[0m, \u001b[38;5;34m32\u001b[0m)          │      \u001b[38;5;34m2,080\u001b[0m │ dropout_2[\u001b[38;5;34m0\u001b[0m][\u001b[38;5;34m0\u001b[0m]   │\n",
       "├─────────────────────┼───────────────────┼────────────┼───────────────────┤\n",
       "│ dropout_3 (\u001b[38;5;33mDropout\u001b[0m) │ (\u001b[38;5;34m80\u001b[0m, \u001b[38;5;34m32\u001b[0m)          │          \u001b[38;5;34m0\u001b[0m │ dense_1[\u001b[38;5;34m0\u001b[0m][\u001b[38;5;34m0\u001b[0m]     │\n",
       "├─────────────────────┼───────────────────┼────────────┼───────────────────┤\n",
       "│ regression_output   │ (\u001b[38;5;34m80\u001b[0m, \u001b[38;5;34m1\u001b[0m)           │         \u001b[38;5;34m33\u001b[0m │ dropout_3[\u001b[38;5;34m0\u001b[0m][\u001b[38;5;34m0\u001b[0m]   │\n",
       "│ (\u001b[38;5;33mDense\u001b[0m)             │                   │            │                   │\n",
       "└─────────────────────┴───────────────────┴────────────┴───────────────────┘\n"
      ]
     },
     "metadata": {},
     "output_type": "display_data"
    },
    {
     "data": {
      "text/html": [
       "<pre style=\"white-space:pre;overflow-x:auto;line-height:normal;font-family:Menlo,'DejaVu Sans Mono',consolas,'Courier New',monospace\"><span style=\"font-weight: bold\"> Total params: </span><span style=\"color: #00af00; text-decoration-color: #00af00\">43,041</span> (168.13 KB)\n",
       "</pre>\n"
      ],
      "text/plain": [
       "\u001b[1m Total params: \u001b[0m\u001b[38;5;34m43,041\u001b[0m (168.13 KB)\n"
      ]
     },
     "metadata": {},
     "output_type": "display_data"
    },
    {
     "data": {
      "text/html": [
       "<pre style=\"white-space:pre;overflow-x:auto;line-height:normal;font-family:Menlo,'DejaVu Sans Mono',consolas,'Courier New',monospace\"><span style=\"font-weight: bold\"> Trainable params: </span><span style=\"color: #00af00; text-decoration-color: #00af00\">43,041</span> (168.13 KB)\n",
       "</pre>\n"
      ],
      "text/plain": [
       "\u001b[1m Trainable params: \u001b[0m\u001b[38;5;34m43,041\u001b[0m (168.13 KB)\n"
      ]
     },
     "metadata": {},
     "output_type": "display_data"
    },
    {
     "data": {
      "text/html": [
       "<pre style=\"white-space:pre;overflow-x:auto;line-height:normal;font-family:Menlo,'DejaVu Sans Mono',consolas,'Courier New',monospace\"><span style=\"font-weight: bold\"> Non-trainable params: </span><span style=\"color: #00af00; text-decoration-color: #00af00\">0</span> (0.00 B)\n",
       "</pre>\n"
      ],
      "text/plain": [
       "\u001b[1m Non-trainable params: \u001b[0m\u001b[38;5;34m0\u001b[0m (0.00 B)\n"
      ]
     },
     "metadata": {},
     "output_type": "display_data"
    }
   ],
   "source": [
    "\n",
    "# Constants (adjust as needed)\n",
    "PLAYER_EMB_DIM = 32\n",
    "# NUM_CLASSES = 1  # Binary: win/loss\n",
    "\n",
    "# Inputs: variable-length teams\n",
    "teamA_input = Input(batch_shape=(80, 9), dtype='int32', name='teamA')  # variable-length\n",
    "teamB_input = Input(batch_shape=(80, 9), dtype='int32', name='teamB')  # variable-length\n",
    "\n",
    "# Embedding layer with mask support\n",
    "player_embedding = layers.Embedding(\n",
    "    input_dim=NUM_PLAYERS + 1,\n",
    "    output_dim=PLAYER_EMB_DIM,\n",
    "    embeddings_initializer=initializers.GlorotUniform(seed=seed_value),\n",
    "    mask_zero=True,  # Important: enables automatic masking for padding (0 as pad token)\n",
    "    # embeddings_regularizer=tf.keras.regularizers.l2(1e-4),\n",
    "    name='player_embedding'\n",
    ")\n",
    "\n",
    "# Embed team players\n",
    "teamA_embeds = player_embedding(teamA_input)  # shape: (batch, teamA_len, emb_dim)\n",
    "teamB_embeds = player_embedding(teamB_input)\n",
    "\n",
    "#Self-attention block (respects masks automatically if using Functional API)\n",
    "def self_attention_block(x, name_prefix=''):\n",
    "    attn_output = layers.MultiHeadAttention(\n",
    "        num_heads=4,\n",
    "        key_dim=PLAYER_EMB_DIM,\n",
    "        dropout=0.1,\n",
    "        name=f'{name_prefix}_attn'\n",
    "    )(x, x)\n",
    "    x = layers.Add(name=f'{name_prefix}_residual')([x, attn_output])\n",
    "    x = layers.LayerNormalization(name=f'{name_prefix}_norm')(x)\n",
    "    return x\n",
    "\n",
    "# # Apply attention\n",
    "teamA_attn = self_attention_block(teamA_embeds, 'teamA')\n",
    "teamB_attn = self_attention_block(teamB_embeds, 'teamB')\n",
    "\n",
    "# Global average pooling over valid (non-padded) tokens\n",
    "# TF handles masking automatically in GlobalAveragePooling1D if mask_zero=True\n",
    "teamA_vector = layers.GlobalAveragePooling1D(name='teamA_avgpool')(teamA_attn)\n",
    "teamB_vector = layers.GlobalAveragePooling1D(name='teamB_avgpool')(teamB_attn)\n",
    "teamA_vector = teamA_vector\n",
    "teamB_vector = teamB_vector \n",
    "\n",
    "# Matchup modeling (difference vector)\n",
    "matchup_vector = layers.Subtract(name='matchup_diff')([teamA_vector, teamB_vector])\n",
    "\n",
    "# Concatenate summary representation\n",
    "match_input = layers.Concatenate(name='match_features')([teamA_vector, teamB_vector, matchup_vector])\n",
    "# match_input = layers.Concatenate(name='match_features')([teamA_vector, teamB_vector])\n",
    "\n",
    "# Feedforward classification head\n",
    "x = layers.Dense(64, activation='relu', kernel_regularizer=tf.keras.regularizers.l2(1e-4))(match_input)\n",
    "x = layers.Dropout(0.3)(x)\n",
    "x = layers.Dense(32, activation='relu', kernel_regularizer=tf.keras.regularizers.l2(1e-4))(x)\n",
    "x = layers.Dropout(0.3)(x)\n",
    "output = layers.Dense(1, activation='linear', name='regression_output')(x)\n",
    "\n",
    "# Final model\n",
    "model = Model(inputs=[teamA_input, teamB_input], outputs=output)\n",
    "model.compile(optimizer='adam', \n",
    "                loss='mean_squared_error',   # or 'mean_absolute_error'\n",
    "                metrics=['mean_absolute_error']\n",
    "                )\n",
    "\n",
    "model.summary()\n"
   ]
  },
  {
   "cell_type": "markdown",
   "metadata": {},
   "source": [
    "## Training the model"
   ]
  },
  {
   "cell_type": "code",
   "execution_count": 6,
   "metadata": {},
   "outputs": [
    {
     "name": "stdout",
     "output_type": "stream",
     "text": [
      "Embedding vector for player zero before training: [-0.13428518 -0.0009771   0.1329839  -0.29613775 -0.26009488  0.07811415\n",
      "  0.15738839 -0.20170173 -0.22916353 -0.27609777  0.27313498 -0.16636868\n",
      " -0.01386166 -0.1564296   0.13861132  0.16607106  0.02278191 -0.20447966\n",
      "  0.00173342 -0.18519947 -0.28682098 -0.11555447 -0.01580417  0.03690901\n",
      "  0.1996915   0.05639273 -0.11093217  0.16203171 -0.23099054  0.06050453\n",
      " -0.12172711  0.21778926]\n",
      "[[15 19 17 25 24  7 30 14  0]\n",
      " [20 18 25 13  5 10 15  2  0]\n",
      " [15 27 12 29 19  2 14  0  0]\n",
      " [13 29 18 24  4 30 16 20  0]\n",
      " [22 18 13 25  1 26 12  2  0]\n",
      " [ 7  8 21 28 25 13  0  0  0]\n",
      " [ 6 25 13  7  2 16  0  0  0]\n",
      " [25 23 21 24 17 28  1 10  0]\n",
      " [ 7 16 19 28 21 17  3  4  0]\n",
      " [30  8  7 16 12 13 10 19  0]\n",
      " [19 27 10 15 13 16  1  5 14]\n",
      " [ 2 18 12 21 25 26  0  0  0]\n",
      " [ 9  8 13 25 28 20  1 16  2]\n",
      " [ 5 27 19 21  9  0  0  0  0]\n",
      " [10  3  7 23  6 25  0  0  0]\n",
      " [16 22 17 14 21 30 29  7 27]\n",
      " [ 5 27  1 11 23  2 19 30  0]\n",
      " [18 15 16 11 12 25  9  8  1]\n",
      " [10  1  8 28 30 11 13 23  3]\n",
      " [ 3 15 21 10 25  0  0  0  0]\n",
      " [11 10 21 28  2  7  0  0  0]\n",
      " [11  1 17  7 21 20 10  0  0]\n",
      " [11 20 21  9 27  5 10  0  0]\n",
      " [ 8 30  6  7 16  2 18  0  0]\n",
      " [23 11  1 22 18 15 21 25 26]\n",
      " [24 16  4 23 15 13 20  0  0]\n",
      " [11  6 10 12  9  7 21 24  0]\n",
      " [20  7  4 14 26  9 21 30 10]\n",
      " [16  2 17 19 23 21 11  0  0]\n",
      " [ 9 23 13 25 11  0  0  0  0]\n",
      " [12 21  7  1 14  2 30 13  4]\n",
      " [26 10 12 17 14 20 18  0  0]\n",
      " [28 11 20 18 14  9  0  0  0]\n",
      " [16  7 18  8  3  1 10 22  0]\n",
      " [ 3  7 21 17 15 11  9  0  0]\n",
      " [11 16 15 29 10 21 27  0  0]\n",
      " [ 4  7 20 16 27  6 30 13  0]\n",
      " [23 24 27 12 28  8 29  3  0]\n",
      " [22 11 23 26 27 29  0  0  0]\n",
      " [12 19  4 14 15 26 18 27  0]\n",
      " [ 4 24  6 25  9 16  0  0  0]\n",
      " [ 2 19 10 17 22  0  0  0  0]\n",
      " [28 19  4 11  9 13  0  0  0]\n",
      " [19  8  1  7 27 25 10  2  0]\n",
      " [24 26  5 27 28  0  0  0  0]\n",
      " [ 2  9  6 26 23  4  0  0  0]\n",
      " [14 29  8 30 25 13  0  0  0]\n",
      " [ 8  3 29 18 20 13  0  0  0]\n",
      " [ 8 15 24 29 28  3  0  0  0]\n",
      " [16 30  7 20 15 23  2 17  0]\n",
      " [23 21  9 26  2 25 15  5  7]\n",
      " [12 17 10  8 18  0  0  0  0]\n",
      " [28  5 14 22 27  0  0  0  0]\n",
      " [29 11 15 10  9 23  4 13  0]\n",
      " [ 7 21  9 26 18 13 29  0  0]\n",
      " [21 18 17  4 14  3 24 26  0]\n",
      " [25  2 22  1  5 24 21 13 11]\n",
      " [29 12  3  5 28 21 11 24  0]\n",
      " [28  7 13 10 29  0  0  0  0]\n",
      " [16  2  5 19  4  0  0  0  0]\n",
      " [10  8 20  5 21  9  0  0  0]\n",
      " [14  8 30 16 11  0  0  0  0]\n",
      " [22 18  2  7  6 19 27 20 29]\n",
      " [ 7 10  8 13 25 27  1 18 19]\n",
      " [16  9 21  4  5  1  8 17  6]\n",
      " [ 7  1 29 11 10  0  0  0  0]\n",
      " [14 18 20 25  9  6 23  0  0]\n",
      " [28 29 24  5 18  0  0  0  0]\n",
      " [16 22 10 18 30 15  9  1  0]\n",
      " [21 13 20  1 16 14  9 12  0]\n",
      " [10 15  5  9 16  0  0  0  0]\n",
      " [19 18 11  5  8 28 10  0  0]\n",
      " [28 15  6 23  8 12 14 26  0]\n",
      " [21  8 17 16  1  0  0  0  0]\n",
      " [ 1 24 11 28  4  0  0  0  0]\n",
      " [22 10 14 16  4 26  0  0  0]\n",
      " [12 17 19  2 13 22 28 10 23]\n",
      " [21 13 28 18  7 23  9  0  0]\n",
      " [20 10  4 11 27 30  6 19 18]\n",
      " [26  8 21 12 23  5  1  0  0]]\n",
      "Epoch 1/50\n"
     ]
    },
    {
     "name": "stderr",
     "output_type": "stream",
     "text": [
      "2025-08-07 12:54:53.570698: E tensorflow/core/framework/node_def_util.cc:676] NodeDef mentions attribute use_unbounded_threadpool which is not in the op definition: Op<name=MapDataset; signature=input_dataset:variant, other_arguments: -> handle:variant; attr=f:func; attr=Targuments:list(type),min=0; attr=output_types:list(type),min=1; attr=output_shapes:list(shape),min=1; attr=use_inter_op_parallelism:bool,default=true; attr=preserve_cardinality:bool,default=false; attr=force_synchronous:bool,default=false; attr=metadata:string,default=\"\"> This may be expected if your graph generating binary is newer  than this binary. Unknown attributes will be ignored. NodeDef: {{node ParallelMapDatasetV2/_16}}\n",
      "2025-08-07 12:54:53.571007: E tensorflow/core/framework/node_def_util.cc:676] NodeDef mentions attribute use_unbounded_threadpool which is not in the op definition: Op<name=MapDataset; signature=input_dataset:variant, other_arguments: -> handle:variant; attr=f:func; attr=Targuments:list(type),min=0; attr=output_types:list(type),min=1; attr=output_shapes:list(shape),min=1; attr=use_inter_op_parallelism:bool,default=true; attr=preserve_cardinality:bool,default=false; attr=force_synchronous:bool,default=false; attr=metadata:string,default=\"\"> This may be expected if your graph generating binary is newer  than this binary. Unknown attributes will be ignored. NodeDef: {{node ParallelMapDatasetV2/_16}}\n"
     ]
    },
    {
     "name": "stdout",
     "output_type": "stream",
     "text": [
      "\r",
      "\u001b[1m1/3\u001b[0m \u001b[32m━━━━━━\u001b[0m\u001b[37m━━━━━━━━━━━━━━\u001b[0m \u001b[1m2s\u001b[0m 1s/step - loss: 1.3557 - mean_absolute_error: 0.9303"
     ]
    },
    {
     "name": "stdout",
     "output_type": "stream",
     "text": [
      "\b\b\b\b\b\b\b\b\b\b\b\b\b\b\b\b\b\b\b\b\b\b\b\b\b\b\b\b\b\b\b\b\b\b\b\b\b\b\b\b\b\b\b\b\b\b\b\b\b\b\b\b\b\b\b\b\b\b\b\b\b\b\b\b\b\b\b\b\b\b\b\b\b\b\b\b\b\b\b\b\r",
      "\u001b[1m3/3\u001b[0m \u001b[32m━━━━━━━━━━━━━━━━━━━━\u001b[0m\u001b[37m\u001b[0m \u001b[1m2s\u001b[0m 88ms/step - loss: 1.2934 - mean_absolute_error: 0.9206 - val_loss: 1.1137 - val_mean_absolute_error: 0.8305 - learning_rate: 0.0010\n"
     ]
    },
    {
     "name": "stdout",
     "output_type": "stream",
     "text": [
      "Epoch 2/50\n"
     ]
    },
    {
     "name": "stdout",
     "output_type": "stream",
     "text": [
      "\r",
      "\u001b[1m1/3\u001b[0m \u001b[32m━━━━━━\u001b[0m\u001b[37m━━━━━━━━━━━━━━\u001b[0m \u001b[1m0s\u001b[0m 10ms/step - loss: 1.1848 - mean_absolute_error: 0.8136"
     ]
    },
    {
     "name": "stdout",
     "output_type": "stream",
     "text": [
      "\b\b\b\b\b\b\b\b\b\b\b\b\b\b\b\b\b\b\b\b\b\b\b\b\b\b\b\b\b\b\b\b\b\b\b\b\b\b\b\b\b\b\b\b\b\b\b\b\b\b\b\b\b\b\b\b\b\b\b\b\b\b\b\b\b\b\b\b\b\b\b\b\b\b\b\b\b\b\b\b\b\b\r",
      "\u001b[1m3/3\u001b[0m \u001b[32m━━━━━━━━━━━━━━━━━━━━\u001b[0m\u001b[37m\u001b[0m \u001b[1m0s\u001b[0m 14ms/step - loss: 1.2007 - mean_absolute_error: 0.8546 - val_loss: 1.0625 - val_mean_absolute_error: 0.8088 - learning_rate: 0.0010\n"
     ]
    },
    {
     "name": "stdout",
     "output_type": "stream",
     "text": [
      "Epoch 3/50\n"
     ]
    },
    {
     "name": "stdout",
     "output_type": "stream",
     "text": [
      "\r",
      "\u001b[1m1/3\u001b[0m \u001b[32m━━━━━━\u001b[0m\u001b[37m━━━━━━━━━━━━━━\u001b[0m \u001b[1m0s\u001b[0m 10ms/step - loss: 1.1106 - mean_absolute_error: 0.7927"
     ]
    },
    {
     "name": "stdout",
     "output_type": "stream",
     "text": [
      "\b\b\b\b\b\b\b\b\b\b\b\b\b\b\b\b\b\b\b\b\b\b\b\b\b\b\b\b\b\b\b\b\b\b\b\b\b\b\b\b\b\b\b\b\b\b\b\b\b\b\b\b\b\b\b\b\b\b\b\b\b\b\b\b\b\b\b\b\b\b\b\b\b\b\b\b\b\b\b\b\b\b\r",
      "\u001b[1m3/3\u001b[0m \u001b[32m━━━━━━━━━━━━━━━━━━━━\u001b[0m\u001b[37m\u001b[0m \u001b[1m0s\u001b[0m 14ms/step - loss: 1.0591 - mean_absolute_error: 0.7859 - val_loss: 1.0326 - val_mean_absolute_error: 0.7945 - learning_rate: 0.0010\n"
     ]
    },
    {
     "name": "stdout",
     "output_type": "stream",
     "text": [
      "Epoch 4/50\n"
     ]
    },
    {
     "name": "stdout",
     "output_type": "stream",
     "text": [
      "\r",
      "\u001b[1m1/3\u001b[0m \u001b[32m━━━━━━\u001b[0m\u001b[37m━━━━━━━━━━━━━━\u001b[0m \u001b[1m0s\u001b[0m 10ms/step - loss: 0.9526 - mean_absolute_error: 0.7229"
     ]
    },
    {
     "name": "stdout",
     "output_type": "stream",
     "text": [
      "\b\b\b\b\b\b\b\b\b\b\b\b\b\b\b\b\b\b\b\b\b\b\b\b\b\b\b\b\b\b\b\b\b\b\b\b\b\b\b\b\b\b\b\b\b\b\b\b\b\b\b\b\b\b\b\b\b\b\b\b\b\b\b\b\b\b\b\b\b\b\b\b\b\b\b\b\b\b\b\b\b\b\r",
      "\u001b[1m3/3\u001b[0m \u001b[32m━━━━━━━━━━━━━━━━━━━━\u001b[0m\u001b[37m\u001b[0m \u001b[1m0s\u001b[0m 14ms/step - loss: 0.9261 - mean_absolute_error: 0.7371 - val_loss: 1.0226 - val_mean_absolute_error: 0.7906 - learning_rate: 0.0010\n"
     ]
    },
    {
     "name": "stdout",
     "output_type": "stream",
     "text": [
      "Epoch 5/50\n"
     ]
    },
    {
     "name": "stdout",
     "output_type": "stream",
     "text": [
      "\r",
      "\u001b[1m1/3\u001b[0m \u001b[32m━━━━━━\u001b[0m\u001b[37m━━━━━━━━━━━━━━\u001b[0m \u001b[1m0s\u001b[0m 10ms/step - loss: 0.9425 - mean_absolute_error: 0.7056"
     ]
    },
    {
     "name": "stdout",
     "output_type": "stream",
     "text": [
      "\b\b\b\b\b\b\b\b\b\b\b\b\b\b\b\b\b\b\b\b\b\b\b\b\b\b\b\b\b\b\b\b\b\b\b\b\b\b\b\b\b\b\b\b\b\b\b\b\b\b\b\b\b\b\b\b\b\b\b\b\b\b\b\b\b\b\b\b\b\b\b\b\b\b\b\b\b\b\b\b\b\b\r",
      "\u001b[1m3/3\u001b[0m \u001b[32m━━━━━━━━━━━━━━━━━━━━\u001b[0m\u001b[37m\u001b[0m \u001b[1m0s\u001b[0m 14ms/step - loss: 0.9153 - mean_absolute_error: 0.7227 - val_loss: 1.0179 - val_mean_absolute_error: 0.7868 - learning_rate: 0.0010\n"
     ]
    },
    {
     "name": "stdout",
     "output_type": "stream",
     "text": [
      "Epoch 6/50\n"
     ]
    },
    {
     "name": "stdout",
     "output_type": "stream",
     "text": [
      "\r",
      "\u001b[1m1/3\u001b[0m \u001b[32m━━━━━━\u001b[0m\u001b[37m━━━━━━━━━━━━━━\u001b[0m \u001b[1m0s\u001b[0m 10ms/step - loss: 0.9145 - mean_absolute_error: 0.6780"
     ]
    },
    {
     "name": "stdout",
     "output_type": "stream",
     "text": [
      "\b\b\b\b\b\b\b\b\b\b\b\b\b\b\b\b\b\b\b\b\b\b\b\b\b\b\b\b\b\b\b\b\b\b\b\b\b\b\b\b\b\b\b\b\b\b\b\b\b\b\b\b\b\b\b\b\b\b\b\b\b\b\b\b\b\b\b\b\b\b\b\b\b\b\b\b\b\b\b\b\b\b\r",
      "\u001b[1m3/3\u001b[0m \u001b[32m━━━━━━━━━━━━━━━━━━━━\u001b[0m\u001b[37m\u001b[0m \u001b[1m0s\u001b[0m 14ms/step - loss: 0.8520 - mean_absolute_error: 0.6960 - val_loss: 0.9930 - val_mean_absolute_error: 0.7741 - learning_rate: 0.0010\n"
     ]
    },
    {
     "name": "stdout",
     "output_type": "stream",
     "text": [
      "Epoch 7/50\n"
     ]
    },
    {
     "name": "stdout",
     "output_type": "stream",
     "text": [
      "\r",
      "\u001b[1m1/3\u001b[0m \u001b[32m━━━━━━\u001b[0m\u001b[37m━━━━━━━━━━━━━━\u001b[0m \u001b[1m0s\u001b[0m 10ms/step - loss: 0.9592 - mean_absolute_error: 0.7422"
     ]
    },
    {
     "name": "stdout",
     "output_type": "stream",
     "text": [
      "\b\b\b\b\b\b\b\b\b\b\b\b\b\b\b\b\b\b\b\b\b\b\b\b\b\b\b\b\b\b\b\b\b\b\b\b\b\b\b\b\b\b\b\b\b\b\b\b\b\b\b\b\b\b\b\b\b\b\b\b\b\b\b\b\b\b\b\b\b\b\b\b\b\b\b\b\b\b\b\b\b\b\r",
      "\u001b[1m3/3\u001b[0m \u001b[32m━━━━━━━━━━━━━━━━━━━━\u001b[0m\u001b[37m\u001b[0m \u001b[1m0s\u001b[0m 14ms/step - loss: 0.8641 - mean_absolute_error: 0.7152 - val_loss: 0.9514 - val_mean_absolute_error: 0.7529 - learning_rate: 0.0010\n"
     ]
    },
    {
     "name": "stdout",
     "output_type": "stream",
     "text": [
      "Epoch 8/50\n"
     ]
    },
    {
     "name": "stdout",
     "output_type": "stream",
     "text": [
      "\r",
      "\u001b[1m1/3\u001b[0m \u001b[32m━━━━━━\u001b[0m\u001b[37m━━━━━━━━━━━━━━\u001b[0m \u001b[1m0s\u001b[0m 10ms/step - loss: 0.7137 - mean_absolute_error: 0.6123"
     ]
    },
    {
     "name": "stdout",
     "output_type": "stream",
     "text": [
      "\b\b\b\b\b\b\b\b\b\b\b\b\b\b\b\b\b\b\b\b\b\b\b\b\b\b\b\b\b\b\b\b\b\b\b\b\b\b\b\b\b\b\b\b\b\b\b\b\b\b\b\b\b\b\b\b\b\b\b\b\b\b\b\b\b\b\b\b\b\b\b\b\b\b\b\b\b\b\b\b\b\b\r",
      "\u001b[1m3/3\u001b[0m \u001b[32m━━━━━━━━━━━━━━━━━━━━\u001b[0m\u001b[37m\u001b[0m \u001b[1m0s\u001b[0m 14ms/step - loss: 0.6931 - mean_absolute_error: 0.6194 - val_loss: 0.9067 - val_mean_absolute_error: 0.7315 - learning_rate: 0.0010\n"
     ]
    },
    {
     "name": "stdout",
     "output_type": "stream",
     "text": [
      "Epoch 9/50\n"
     ]
    },
    {
     "name": "stdout",
     "output_type": "stream",
     "text": [
      "\r",
      "\u001b[1m1/3\u001b[0m \u001b[32m━━━━━━\u001b[0m\u001b[37m━━━━━━━━━━━━━━\u001b[0m \u001b[1m0s\u001b[0m 10ms/step - loss: 0.7740 - mean_absolute_error: 0.6560"
     ]
    },
    {
     "name": "stdout",
     "output_type": "stream",
     "text": [
      "\b\b\b\b\b\b\b\b\b\b\b\b\b\b\b\b\b\b\b\b\b\b\b\b\b\b\b\b\b\b\b\b\b\b\b\b\b\b\b\b\b\b\b\b\b\b\b\b\b\b\b\b\b\b\b\b\b\b\b\b\b\b\b\b\b\b\b\b\b\b\b\b\b\b\b\b\b\b\b\b\b\b\r",
      "\u001b[1m3/3\u001b[0m \u001b[32m━━━━━━━━━━━━━━━━━━━━\u001b[0m\u001b[37m\u001b[0m \u001b[1m0s\u001b[0m 14ms/step - loss: 0.7002 - mean_absolute_error: 0.6307 - val_loss: 0.8652 - val_mean_absolute_error: 0.7169 - learning_rate: 0.0010\n"
     ]
    },
    {
     "name": "stdout",
     "output_type": "stream",
     "text": [
      "Epoch 10/50\n"
     ]
    },
    {
     "name": "stdout",
     "output_type": "stream",
     "text": [
      "\r",
      "\u001b[1m1/3\u001b[0m \u001b[32m━━━━━━\u001b[0m\u001b[37m━━━━━━━━━━━━━━\u001b[0m \u001b[1m0s\u001b[0m 10ms/step - loss: 0.7091 - mean_absolute_error: 0.6217"
     ]
    },
    {
     "name": "stdout",
     "output_type": "stream",
     "text": [
      "\b\b\b\b\b\b\b\b\b\b\b\b\b\b\b\b\b\b\b\b\b\b\b\b\b\b\b\b\b\b\b\b\b\b\b\b\b\b\b\b\b\b\b\b\b\b\b\b\b\b\b\b\b\b\b\b\b\b\b\b\b\b\b\b\b\b\b\b\b\b\b\b\b\b\b\b\b\b\b\b\b\b\r",
      "\u001b[1m3/3\u001b[0m \u001b[32m━━━━━━━━━━━━━━━━━━━━\u001b[0m\u001b[37m\u001b[0m \u001b[1m0s\u001b[0m 14ms/step - loss: 0.6592 - mean_absolute_error: 0.5925 - val_loss: 0.8078 - val_mean_absolute_error: 0.6949 - learning_rate: 0.0010\n"
     ]
    },
    {
     "name": "stdout",
     "output_type": "stream",
     "text": [
      "Epoch 11/50\n"
     ]
    },
    {
     "name": "stdout",
     "output_type": "stream",
     "text": [
      "\r",
      "\u001b[1m1/3\u001b[0m \u001b[32m━━━━━━\u001b[0m\u001b[37m━━━━━━━━━━━━━━\u001b[0m \u001b[1m0s\u001b[0m 10ms/step - loss: 0.6153 - mean_absolute_error: 0.6081"
     ]
    },
    {
     "name": "stdout",
     "output_type": "stream",
     "text": [
      "\b\b\b\b\b\b\b\b\b\b\b\b\b\b\b\b\b\b\b\b\b\b\b\b\b\b\b\b\b\b\b\b\b\b\b\b\b\b\b\b\b\b\b\b\b\b\b\b\b\b\b\b\b\b\b\b\b\b\b\b\b\b\b\b\b\b\b\b\b\b\b\b\b\b\b\b\b\b\b\b\b\b\r",
      "\u001b[1m3/3\u001b[0m \u001b[32m━━━━━━━━━━━━━━━━━━━━\u001b[0m\u001b[37m\u001b[0m \u001b[1m0s\u001b[0m 14ms/step - loss: 0.5994 - mean_absolute_error: 0.6071 - val_loss: 0.7801 - val_mean_absolute_error: 0.6914 - learning_rate: 5.0000e-04\n"
     ]
    },
    {
     "name": "stdout",
     "output_type": "stream",
     "text": [
      "Epoch 12/50\n"
     ]
    },
    {
     "name": "stdout",
     "output_type": "stream",
     "text": [
      "\r",
      "\u001b[1m1/3\u001b[0m \u001b[32m━━━━━━\u001b[0m\u001b[37m━━━━━━━━━━━━━━\u001b[0m \u001b[1m0s\u001b[0m 10ms/step - loss: 0.4765 - mean_absolute_error: 0.5098"
     ]
    },
    {
     "name": "stdout",
     "output_type": "stream",
     "text": [
      "\b\b\b\b\b\b\b\b\b\b\b\b\b\b\b\b\b\b\b\b\b\b\b\b\b\b\b\b\b\b\b\b\b\b\b\b\b\b\b\b\b\b\b\b\b\b\b\b\b\b\b\b\b\b\b\b\b\b\b\b\b\b\b\b\b\b\b\b\b\b\b\b\b\b\b\b\b\b\b\b\b\b\r",
      "\u001b[1m3/3\u001b[0m \u001b[32m━━━━━━━━━━━━━━━━━━━━\u001b[0m\u001b[37m\u001b[0m \u001b[1m0s\u001b[0m 14ms/step - loss: 0.5707 - mean_absolute_error: 0.5679 - val_loss: 0.7561 - val_mean_absolute_error: 0.6847 - learning_rate: 5.0000e-04\n"
     ]
    },
    {
     "name": "stdout",
     "output_type": "stream",
     "text": [
      "Epoch 13/50\n"
     ]
    },
    {
     "name": "stdout",
     "output_type": "stream",
     "text": [
      "\r",
      "\u001b[1m1/3\u001b[0m \u001b[32m━━━━━━\u001b[0m\u001b[37m━━━━━━━━━━━━━━\u001b[0m \u001b[1m0s\u001b[0m 10ms/step - loss: 0.4296 - mean_absolute_error: 0.5430"
     ]
    },
    {
     "name": "stdout",
     "output_type": "stream",
     "text": [
      "\b\b\b\b\b\b\b\b\b\b\b\b\b\b\b\b\b\b\b\b\b\b\b\b\b\b\b\b\b\b\b\b\b\b\b\b\b\b\b\b\b\b\b\b\b\b\b\b\b\b\b\b\b\b\b\b\b\b\b\b\b\b\b\b\b\b\b\b\b\b\b\b\b\b\b\b\b\b\b\b\b\b\r",
      "\u001b[1m3/3\u001b[0m \u001b[32m━━━━━━━━━━━━━━━━━━━━\u001b[0m\u001b[37m\u001b[0m \u001b[1m0s\u001b[0m 14ms/step - loss: 0.4860 - mean_absolute_error: 0.5670 - val_loss: 0.7140 - val_mean_absolute_error: 0.6694 - learning_rate: 5.0000e-04\n"
     ]
    },
    {
     "name": "stdout",
     "output_type": "stream",
     "text": [
      "Epoch 14/50\n"
     ]
    },
    {
     "name": "stdout",
     "output_type": "stream",
     "text": [
      "\r",
      "\u001b[1m1/3\u001b[0m \u001b[32m━━━━━━\u001b[0m\u001b[37m━━━━━━━━━━━━━━\u001b[0m \u001b[1m0s\u001b[0m 10ms/step - loss: 0.4422 - mean_absolute_error: 0.5066"
     ]
    },
    {
     "name": "stdout",
     "output_type": "stream",
     "text": [
      "\b\b\b\b\b\b\b\b\b\b\b\b\b\b\b\b\b\b\b\b\b\b\b\b\b\b\b\b\b\b\b\b\b\b\b\b\b\b\b\b\b\b\b\b\b\b\b\b\b\b\b\b\b\b\b\b\b\b\b\b\b\b\b\b\b\b\b\b\b\b\b\b\b\b\b\b\b\b\b\b\b\b\r",
      "\u001b[1m3/3\u001b[0m \u001b[32m━━━━━━━━━━━━━━━━━━━━\u001b[0m\u001b[37m\u001b[0m \u001b[1m0s\u001b[0m 16ms/step - loss: 0.4425 - mean_absolute_error: 0.5176 - val_loss: 0.6701 - val_mean_absolute_error: 0.6544 - learning_rate: 5.0000e-04\n"
     ]
    },
    {
     "name": "stdout",
     "output_type": "stream",
     "text": [
      "Epoch 15/50\n"
     ]
    },
    {
     "name": "stdout",
     "output_type": "stream",
     "text": [
      "\r",
      "\u001b[1m1/3\u001b[0m \u001b[32m━━━━━━\u001b[0m\u001b[37m━━━━━━━━━━━━━━\u001b[0m \u001b[1m0s\u001b[0m 11ms/step - loss: 0.3880 - mean_absolute_error: 0.5041"
     ]
    },
    {
     "name": "stdout",
     "output_type": "stream",
     "text": [
      "\b\b\b\b\b\b\b\b\b\b\b\b\b\b\b\b\b\b\b\b\b\b\b\b\b\b\b\b\b\b\b\b\b\b\b\b\b\b\b\b\b\b\b\b\b\b\b\b\b\b\b\b\b\b\b\b\b\b\b\b\b\b\b\b\b\b\b\b\b\b\b\b\b\b\b\b\b\b\b\b\b\b\r",
      "\u001b[1m3/3\u001b[0m \u001b[32m━━━━━━━━━━━━━━━━━━━━\u001b[0m\u001b[37m\u001b[0m \u001b[1m0s\u001b[0m 15ms/step - loss: 0.3923 - mean_absolute_error: 0.4950 - val_loss: 0.6208 - val_mean_absolute_error: 0.6388 - learning_rate: 5.0000e-04\n"
     ]
    },
    {
     "name": "stdout",
     "output_type": "stream",
     "text": [
      "Epoch 16/50\n"
     ]
    },
    {
     "name": "stdout",
     "output_type": "stream",
     "text": [
      "\r",
      "\u001b[1m1/3\u001b[0m \u001b[32m━━━━━━\u001b[0m\u001b[37m━━━━━━━━━━━━━━\u001b[0m \u001b[1m0s\u001b[0m 10ms/step - loss: 0.4060 - mean_absolute_error: 0.5013"
     ]
    },
    {
     "name": "stdout",
     "output_type": "stream",
     "text": [
      "\b\b\b\b\b\b\b\b\b\b\b\b\b\b\b\b\b\b\b\b\b\b\b\b\b\b\b\b\b\b\b\b\b\b\b\b\b\b\b\b\b\b\b\b\b\b\b\b\b\b\b\b\b\b\b\b\b\b\b\b\b\b\b\b\b\b\b\b\b\b\b\b\b\b\b\b\b\b\b\b\b\b\r",
      "\u001b[1m3/3\u001b[0m \u001b[32m━━━━━━━━━━━━━━━━━━━━\u001b[0m\u001b[37m\u001b[0m \u001b[1m0s\u001b[0m 14ms/step - loss: 0.3825 - mean_absolute_error: 0.4741 - val_loss: 0.5808 - val_mean_absolute_error: 0.6216 - learning_rate: 5.0000e-04\n"
     ]
    },
    {
     "name": "stdout",
     "output_type": "stream",
     "text": [
      "Epoch 17/50\n"
     ]
    },
    {
     "name": "stdout",
     "output_type": "stream",
     "text": [
      "\r",
      "\u001b[1m1/3\u001b[0m \u001b[32m━━━━━━\u001b[0m\u001b[37m━━━━━━━━━━━━━━\u001b[0m \u001b[1m0s\u001b[0m 10ms/step - loss: 0.4670 - mean_absolute_error: 0.5333"
     ]
    },
    {
     "name": "stdout",
     "output_type": "stream",
     "text": [
      "\b\b\b\b\b\b\b\b\b\b\b\b\b\b\b\b\b\b\b\b\b\b\b\b\b\b\b\b\b\b\b\b\b\b\b\b\b\b\b\b\b\b\b\b\b\b\b\b\b\b\b\b\b\b\b\b\b\b\b\b\b\b\b\b\b\b\b\b\b\b\b\b\b\b\b\b\b\b\b\b\b\b\r",
      "\u001b[1m3/3\u001b[0m \u001b[32m━━━━━━━━━━━━━━━━━━━━\u001b[0m\u001b[37m\u001b[0m \u001b[1m0s\u001b[0m 15ms/step - loss: 0.4114 - mean_absolute_error: 0.4943 - val_loss: 0.5546 - val_mean_absolute_error: 0.6167 - learning_rate: 5.0000e-04\n"
     ]
    },
    {
     "name": "stdout",
     "output_type": "stream",
     "text": [
      "Epoch 18/50\n"
     ]
    },
    {
     "name": "stdout",
     "output_type": "stream",
     "text": [
      "\r",
      "\u001b[1m1/3\u001b[0m \u001b[32m━━━━━━\u001b[0m\u001b[37m━━━━━━━━━━━━━━\u001b[0m \u001b[1m0s\u001b[0m 10ms/step - loss: 0.5359 - mean_absolute_error: 0.5487"
     ]
    },
    {
     "name": "stdout",
     "output_type": "stream",
     "text": [
      "\b\b\b\b\b\b\b\b\b\b\b\b\b\b\b\b\b\b\b\b\b\b\b\b\b\b\b\b\b\b\b\b\b\b\b\b\b\b\b\b\b\b\b\b\b\b\b\b\b\b\b\b\b\b\b\b\b\b\b\b\b\b\b\b\b\b\b\b\b\b\b\b\b\b\b\b\b\b\b\b\b\b\r",
      "\u001b[1m3/3\u001b[0m \u001b[32m━━━━━━━━━━━━━━━━━━━━\u001b[0m\u001b[37m\u001b[0m \u001b[1m0s\u001b[0m 14ms/step - loss: 0.4705 - mean_absolute_error: 0.5104 - val_loss: 0.5448 - val_mean_absolute_error: 0.6084 - learning_rate: 5.0000e-04\n"
     ]
    },
    {
     "name": "stdout",
     "output_type": "stream",
     "text": [
      "Epoch 19/50\n"
     ]
    },
    {
     "name": "stdout",
     "output_type": "stream",
     "text": [
      "\r",
      "\u001b[1m1/3\u001b[0m \u001b[32m━━━━━━\u001b[0m\u001b[37m━━━━━━━━━━━━━━\u001b[0m \u001b[1m0s\u001b[0m 10ms/step - loss: 0.4063 - mean_absolute_error: 0.5224"
     ]
    },
    {
     "name": "stdout",
     "output_type": "stream",
     "text": [
      "\b\b\b\b\b\b\b\b\b\b\b\b\b\b\b\b\b\b\b\b\b\b\b\b\b\b\b\b\b\b\b\b\b\b\b\b\b\b\b\b\b\b\b\b\b\b\b\b\b\b\b\b\b\b\b\b\b\b\b\b\b\b\b\b\b\b\b\b\b\b\b\b\b\b\b\b\b\b\b\b\b\b\r",
      "\u001b[1m3/3\u001b[0m \u001b[32m━━━━━━━━━━━━━━━━━━━━\u001b[0m\u001b[37m\u001b[0m \u001b[1m0s\u001b[0m 14ms/step - loss: 0.4446 - mean_absolute_error: 0.5385 - val_loss: 0.5687 - val_mean_absolute_error: 0.6052 - learning_rate: 5.0000e-04\n"
     ]
    },
    {
     "name": "stdout",
     "output_type": "stream",
     "text": [
      "Epoch 20/50\n"
     ]
    },
    {
     "name": "stdout",
     "output_type": "stream",
     "text": [
      "\r",
      "\u001b[1m1/3\u001b[0m \u001b[32m━━━━━━\u001b[0m\u001b[37m━━━━━━━━━━━━━━\u001b[0m \u001b[1m0s\u001b[0m 10ms/step - loss: 0.5185 - mean_absolute_error: 0.5332"
     ]
    },
    {
     "name": "stdout",
     "output_type": "stream",
     "text": [
      "\b\b\b\b\b\b\b\b\b\b\b\b\b\b\b\b\b\b\b\b\b\b\b\b\b\b\b\b\b\b\b\b\b\b\b\b\b\b\b\b\b\b\b\b\b\b\b\b\b\b\b\b\b\b\b\b\b\b\b\b\b\b\b\b\b\b\b\b\b\b\b\b\b\b\b\b\b\b\b\b\b\b\r",
      "\u001b[1m3/3\u001b[0m \u001b[32m━━━━━━━━━━━━━━━━━━━━\u001b[0m\u001b[37m\u001b[0m \u001b[1m0s\u001b[0m 14ms/step - loss: 0.4351 - mean_absolute_error: 0.4867 - val_loss: 0.6201 - val_mean_absolute_error: 0.6180 - learning_rate: 5.0000e-04\n"
     ]
    },
    {
     "name": "stdout",
     "output_type": "stream",
     "text": [
      "Epoch 21/50\n"
     ]
    },
    {
     "name": "stdout",
     "output_type": "stream",
     "text": [
      "\r",
      "\u001b[1m1/3\u001b[0m \u001b[32m━━━━━━\u001b[0m\u001b[37m━━━━━━━━━━━━━━\u001b[0m \u001b[1m0s\u001b[0m 10ms/step - loss: 0.4609 - mean_absolute_error: 0.5536"
     ]
    },
    {
     "name": "stdout",
     "output_type": "stream",
     "text": [
      "\b\b\b\b\b\b\b\b\b\b\b\b\b\b\b\b\b\b\b\b\b\b\b\b\b\b\b\b\b\b\b\b\b\b\b\b\b\b\b\b\b\b\b\b\b\b\b\b\b\b\b\b\b\b\b\b\b\b\b\b\b\b\b\b\b\b\b\b\b\b\b\b\b\b\b\b\b\b\b\b\b\b\r",
      "\u001b[1m3/3\u001b[0m \u001b[32m━━━━━━━━━━━━━━━━━━━━\u001b[0m\u001b[37m\u001b[0m \u001b[1m0s\u001b[0m 14ms/step - loss: 0.4213 - mean_absolute_error: 0.5203 - val_loss: 0.6131 - val_mean_absolute_error: 0.6152 - learning_rate: 2.5000e-04\n"
     ]
    },
    {
     "name": "stdout",
     "output_type": "stream",
     "text": [
      "Epoch 22/50\n"
     ]
    },
    {
     "name": "stdout",
     "output_type": "stream",
     "text": [
      "\r",
      "\u001b[1m1/3\u001b[0m \u001b[32m━━━━━━\u001b[0m\u001b[37m━━━━━━━━━━━━━━\u001b[0m \u001b[1m0s\u001b[0m 10ms/step - loss: 0.4047 - mean_absolute_error: 0.5080"
     ]
    },
    {
     "name": "stdout",
     "output_type": "stream",
     "text": [
      "\b\b\b\b\b\b\b\b\b\b\b\b\b\b\b\b\b\b\b\b\b\b\b\b\b\b\b\b\b\b\b\b\b\b\b\b\b\b\b\b\b\b\b\b\b\b\b\b\b\b\b\b\b\b\b\b\b\b\b\b\b\b\b\b\b\b\b\b\b\b\b\b\b\b\b\b\b\b\b\b\b\b\r",
      "\u001b[1m3/3\u001b[0m \u001b[32m━━━━━━━━━━━━━━━━━━━━\u001b[0m\u001b[37m\u001b[0m \u001b[1m0s\u001b[0m 15ms/step - loss: 0.3870 - mean_absolute_error: 0.4994 - val_loss: 0.5773 - val_mean_absolute_error: 0.5989 - learning_rate: 2.5000e-04\n"
     ]
    },
    {
     "name": "stdout",
     "output_type": "stream",
     "text": [
      "Epoch 23/50\n"
     ]
    },
    {
     "name": "stdout",
     "output_type": "stream",
     "text": [
      "\r",
      "\u001b[1m1/3\u001b[0m \u001b[32m━━━━━━\u001b[0m\u001b[37m━━━━━━━━━━━━━━\u001b[0m \u001b[1m0s\u001b[0m 10ms/step - loss: 0.3631 - mean_absolute_error: 0.4250"
     ]
    },
    {
     "name": "stdout",
     "output_type": "stream",
     "text": [
      "\b\b\b\b\b\b\b\b\b\b\b\b\b\b\b\b\b\b\b\b\b\b\b\b\b\b\b\b\b\b\b\b\b\b\b\b\b\b\b\b\b\b\b\b\b\b\b\b\b\b\b\b\b\b\b\b\b\b\b\b\b\b\b\b\b\b\b\b\b\b\b\b\b\b\b\b\b\b\b\b\b\b\r",
      "\u001b[1m3/3\u001b[0m \u001b[32m━━━━━━━━━━━━━━━━━━━━\u001b[0m\u001b[37m\u001b[0m \u001b[1m0s\u001b[0m 14ms/step - loss: 0.3678 - mean_absolute_error: 0.4477 - val_loss: 0.5427 - val_mean_absolute_error: 0.5896 - learning_rate: 2.5000e-04\n"
     ]
    },
    {
     "name": "stdout",
     "output_type": "stream",
     "text": [
      "Epoch 24/50\n"
     ]
    },
    {
     "name": "stdout",
     "output_type": "stream",
     "text": [
      "\r",
      "\u001b[1m1/3\u001b[0m \u001b[32m━━━━━━\u001b[0m\u001b[37m━━━━━━━━━━━━━━\u001b[0m \u001b[1m0s\u001b[0m 10ms/step - loss: 0.4449 - mean_absolute_error: 0.5040"
     ]
    },
    {
     "name": "stdout",
     "output_type": "stream",
     "text": [
      "\b\b\b\b\b\b\b\b\b\b\b\b\b\b\b\b\b\b\b\b\b\b\b\b\b\b\b\b\b\b\b\b\b\b\b\b\b\b\b\b\b\b\b\b\b\b\b\b\b\b\b\b\b\b\b\b\b\b\b\b\b\b\b\b\b\b\b\b\b\b\b\b\b\b\b\b\b\b\b\b\b\b\r",
      "\u001b[1m3/3\u001b[0m \u001b[32m━━━━━━━━━━━━━━━━━━━━\u001b[0m\u001b[37m\u001b[0m \u001b[1m0s\u001b[0m 14ms/step - loss: 0.3848 - mean_absolute_error: 0.4724 - val_loss: 0.5232 - val_mean_absolute_error: 0.5849 - learning_rate: 2.5000e-04\n"
     ]
    },
    {
     "name": "stdout",
     "output_type": "stream",
     "text": [
      "Epoch 25/50\n"
     ]
    },
    {
     "name": "stdout",
     "output_type": "stream",
     "text": [
      "\r",
      "\u001b[1m1/3\u001b[0m \u001b[32m━━━━━━\u001b[0m\u001b[37m━━━━━━━━━━━━━━\u001b[0m \u001b[1m0s\u001b[0m 10ms/step - loss: 0.4191 - mean_absolute_error: 0.5346"
     ]
    },
    {
     "name": "stdout",
     "output_type": "stream",
     "text": [
      "\b\b\b\b\b\b\b\b\b\b\b\b\b\b\b\b\b\b\b\b\b\b\b\b\b\b\b\b\b\b\b\b\b\b\b\b\b\b\b\b\b\b\b\b\b\b\b\b\b\b\b\b\b\b\b\b\b\b\b\b\b\b\b\b\b\b\b\b\b\b\b\b\b\b\b\b\b\b\b\b\b\b\r",
      "\u001b[1m3/3\u001b[0m \u001b[32m━━━━━━━━━━━━━━━━━━━━\u001b[0m\u001b[37m\u001b[0m \u001b[1m0s\u001b[0m 14ms/step - loss: 0.3758 - mean_absolute_error: 0.4998 - val_loss: 0.5134 - val_mean_absolute_error: 0.5788 - learning_rate: 2.5000e-04\n"
     ]
    },
    {
     "name": "stdout",
     "output_type": "stream",
     "text": [
      "Epoch 26/50\n"
     ]
    },
    {
     "name": "stdout",
     "output_type": "stream",
     "text": [
      "\r",
      "\u001b[1m1/3\u001b[0m \u001b[32m━━━━━━\u001b[0m\u001b[37m━━━━━━━━━━━━━━\u001b[0m \u001b[1m0s\u001b[0m 10ms/step - loss: 0.2815 - mean_absolute_error: 0.4228"
     ]
    },
    {
     "name": "stdout",
     "output_type": "stream",
     "text": [
      "\b\b\b\b\b\b\b\b\b\b\b\b\b\b\b\b\b\b\b\b\b\b\b\b\b\b\b\b\b\b\b\b\b\b\b\b\b\b\b\b\b\b\b\b\b\b\b\b\b\b\b\b\b\b\b\b\b\b\b\b\b\b\b\b\b\b\b\b\b\b\b\b\b\b\b\b\b\b\b\b\b\b\r",
      "\u001b[1m3/3\u001b[0m \u001b[32m━━━━━━━━━━━━━━━━━━━━\u001b[0m\u001b[37m\u001b[0m \u001b[1m0s\u001b[0m 14ms/step - loss: 0.2607 - mean_absolute_error: 0.3929 - val_loss: 0.5086 - val_mean_absolute_error: 0.5730 - learning_rate: 2.5000e-04\n"
     ]
    },
    {
     "name": "stdout",
     "output_type": "stream",
     "text": [
      "Epoch 27/50\n"
     ]
    },
    {
     "name": "stdout",
     "output_type": "stream",
     "text": [
      "\r",
      "\u001b[1m1/3\u001b[0m \u001b[32m━━━━━━\u001b[0m\u001b[37m━━━━━━━━━━━━━━\u001b[0m \u001b[1m0s\u001b[0m 10ms/step - loss: 0.5226 - mean_absolute_error: 0.4887"
     ]
    },
    {
     "name": "stdout",
     "output_type": "stream",
     "text": [
      "\b\b\b\b\b\b\b\b\b\b\b\b\b\b\b\b\b\b\b\b\b\b\b\b\b\b\b\b\b\b\b\b\b\b\b\b\b\b\b\b\b\b\b\b\b\b\b\b\b\b\b\b\b\b\b\b\b\b\b\b\b\b\b\b\b\b\b\b\b\b\b\b\b\b\b\b\b\b\b\b\b\b\r",
      "\u001b[1m3/3\u001b[0m \u001b[32m━━━━━━━━━━━━━━━━━━━━\u001b[0m\u001b[37m\u001b[0m \u001b[1m0s\u001b[0m 15ms/step - loss: 0.4573 - mean_absolute_error: 0.4775 - val_loss: 0.5054 - val_mean_absolute_error: 0.5689 - learning_rate: 2.5000e-04\n"
     ]
    },
    {
     "name": "stdout",
     "output_type": "stream",
     "text": [
      "Epoch 28/50\n"
     ]
    },
    {
     "name": "stdout",
     "output_type": "stream",
     "text": [
      "\r",
      "\u001b[1m1/3\u001b[0m \u001b[32m━━━━━━\u001b[0m\u001b[37m━━━━━━━━━━━━━━\u001b[0m \u001b[1m0s\u001b[0m 10ms/step - loss: 0.2873 - mean_absolute_error: 0.4129"
     ]
    },
    {
     "name": "stdout",
     "output_type": "stream",
     "text": [
      "\b\b\b\b\b\b\b\b\b\b\b\b\b\b\b\b\b\b\b\b\b\b\b\b\b\b\b\b\b\b\b\b\b\b\b\b\b\b\b\b\b\b\b\b\b\b\b\b\b\b\b\b\b\b\b\b\b\b\b\b\b\b\b\b\b\b\b\b\b\b\b\b\b\b\b\b\b\b\b\b\b\b\r",
      "\u001b[1m3/3\u001b[0m \u001b[32m━━━━━━━━━━━━━━━━━━━━\u001b[0m\u001b[37m\u001b[0m \u001b[1m0s\u001b[0m 14ms/step - loss: 0.2828 - mean_absolute_error: 0.4161 - val_loss: 0.5032 - val_mean_absolute_error: 0.5652 - learning_rate: 2.5000e-04\n"
     ]
    },
    {
     "name": "stdout",
     "output_type": "stream",
     "text": [
      "Epoch 29/50\n"
     ]
    },
    {
     "name": "stdout",
     "output_type": "stream",
     "text": [
      "\r",
      "\u001b[1m1/3\u001b[0m \u001b[32m━━━━━━\u001b[0m\u001b[37m━━━━━━━━━━━━━━\u001b[0m \u001b[1m0s\u001b[0m 10ms/step - loss: 0.3079 - mean_absolute_error: 0.4168"
     ]
    },
    {
     "name": "stdout",
     "output_type": "stream",
     "text": [
      "\b\b\b\b\b\b\b\b\b\b\b\b\b\b\b\b\b\b\b\b\b\b\b\b\b\b\b\b\b\b\b\b\b\b\b\b\b\b\b\b\b\b\b\b\b\b\b\b\b\b\b\b\b\b\b\b\b\b\b\b\b\b\b\b\b\b\b\b\b\b\b\b\b\b\b\b\b\b\b\b\b\b\r",
      "\u001b[1m3/3\u001b[0m \u001b[32m━━━━━━━━━━━━━━━━━━━━\u001b[0m\u001b[37m\u001b[0m \u001b[1m0s\u001b[0m 14ms/step - loss: 0.3194 - mean_absolute_error: 0.4327 - val_loss: 0.5033 - val_mean_absolute_error: 0.5625 - learning_rate: 2.5000e-04\n"
     ]
    },
    {
     "name": "stdout",
     "output_type": "stream",
     "text": [
      "Epoch 30/50\n"
     ]
    },
    {
     "name": "stdout",
     "output_type": "stream",
     "text": [
      "\r",
      "\u001b[1m1/3\u001b[0m \u001b[32m━━━━━━\u001b[0m\u001b[37m━━━━━━━━━━━━━━\u001b[0m \u001b[1m0s\u001b[0m 11ms/step - loss: 0.3105 - mean_absolute_error: 0.4512"
     ]
    },
    {
     "name": "stdout",
     "output_type": "stream",
     "text": [
      "\b\b\b\b\b\b\b\b\b\b\b\b\b\b\b\b\b\b\b\b\b\b\b\b\b\b\b\b\b\b\b\b\b\b\b\b\b\b\b\b\b\b\b\b\b\b\b\b\b\b\b\b\b\b\b\b\b\b\b\b\b\b\b\b\b\b\b\b\b\b\b\b\b\b\b\b\b\b\b\b\b\b\r",
      "\u001b[1m3/3\u001b[0m \u001b[32m━━━━━━━━━━━━━━━━━━━━\u001b[0m\u001b[37m\u001b[0m \u001b[1m0s\u001b[0m 14ms/step - loss: 0.2840 - mean_absolute_error: 0.4153 - val_loss: 0.4960 - val_mean_absolute_error: 0.5571 - learning_rate: 2.5000e-04\n"
     ]
    },
    {
     "name": "stdout",
     "output_type": "stream",
     "text": [
      "Epoch 31/50\n"
     ]
    },
    {
     "name": "stdout",
     "output_type": "stream",
     "text": [
      "\r",
      "\u001b[1m1/3\u001b[0m \u001b[32m━━━━━━\u001b[0m\u001b[37m━━━━━━━━━━━━━━\u001b[0m \u001b[1m0s\u001b[0m 10ms/step - loss: 0.4017 - mean_absolute_error: 0.4361"
     ]
    },
    {
     "name": "stdout",
     "output_type": "stream",
     "text": [
      "\b\b\b\b\b\b\b\b\b\b\b\b\b\b\b\b\b\b\b\b\b\b\b\b\b\b\b\b\b\b\b\b\b\b\b\b\b\b\b\b\b\b\b\b\b\b\b\b\b\b\b\b\b\b\b\b\b\b\b\b\b\b\b\b\b\b\b\b\b\b\b\b\b\b\b\b\b\b\b\b\b\b\r",
      "\u001b[1m3/3\u001b[0m \u001b[32m━━━━━━━━━━━━━━━━━━━━\u001b[0m\u001b[37m\u001b[0m \u001b[1m0s\u001b[0m 14ms/step - loss: 0.3850 - mean_absolute_error: 0.4510 - val_loss: 0.4912 - val_mean_absolute_error: 0.5542 - learning_rate: 1.2500e-04\n"
     ]
    },
    {
     "name": "stdout",
     "output_type": "stream",
     "text": [
      "Epoch 32/50\n"
     ]
    },
    {
     "name": "stdout",
     "output_type": "stream",
     "text": [
      "\r",
      "\u001b[1m1/3\u001b[0m \u001b[32m━━━━━━\u001b[0m\u001b[37m━━━━━━━━━━━━━━\u001b[0m \u001b[1m0s\u001b[0m 13ms/step - loss: 0.3000 - mean_absolute_error: 0.4050"
     ]
    },
    {
     "name": "stdout",
     "output_type": "stream",
     "text": [
      "\b\b\b\b\b\b\b\b\b\b\b\b\b\b\b\b\b\b\b\b\b\b\b\b\b\b\b\b\b\b\b\b\b\b\b\b\b\b\b\b\b\b\b\b\b\b\b\b\b\b\b\b\b\b\b\b\b\b\b\b\b\b\b\b\b\b\b\b\b\b\b\b\b\b\b\b\b\b\b\b\b\b\r",
      "\u001b[1m3/3\u001b[0m \u001b[32m━━━━━━━━━━━━━━━━━━━━\u001b[0m\u001b[37m\u001b[0m \u001b[1m0s\u001b[0m 16ms/step - loss: 0.3743 - mean_absolute_error: 0.4466 - val_loss: 0.4893 - val_mean_absolute_error: 0.5513 - learning_rate: 1.2500e-04\n"
     ]
    },
    {
     "name": "stdout",
     "output_type": "stream",
     "text": [
      "Epoch 33/50\n"
     ]
    },
    {
     "name": "stdout",
     "output_type": "stream",
     "text": [
      "\r",
      "\u001b[1m1/3\u001b[0m \u001b[32m━━━━━━\u001b[0m\u001b[37m━━━━━━━━━━━━━━\u001b[0m \u001b[1m0s\u001b[0m 12ms/step - loss: 0.4499 - mean_absolute_error: 0.5023"
     ]
    },
    {
     "name": "stdout",
     "output_type": "stream",
     "text": [
      "\b\b\b\b\b\b\b\b\b\b\b\b\b\b\b\b\b\b\b\b\b\b\b\b\b\b\b\b\b\b\b\b\b\b\b\b\b\b\b\b\b\b\b\b\b\b\b\b\b\b\b\b\b\b\b\b\b\b\b\b\b\b\b\b\b\b\b\b\b\b\b\b\b\b\b\b\b\b\b\b\b\b\r",
      "\u001b[1m3/3\u001b[0m \u001b[32m━━━━━━━━━━━━━━━━━━━━\u001b[0m\u001b[37m\u001b[0m \u001b[1m0s\u001b[0m 15ms/step - loss: 0.3763 - mean_absolute_error: 0.4550 - val_loss: 0.4882 - val_mean_absolute_error: 0.5488 - learning_rate: 1.2500e-04\n"
     ]
    },
    {
     "name": "stdout",
     "output_type": "stream",
     "text": [
      "Epoch 34/50\n"
     ]
    },
    {
     "name": "stdout",
     "output_type": "stream",
     "text": [
      "\r",
      "\u001b[1m1/3\u001b[0m \u001b[32m━━━━━━\u001b[0m\u001b[37m━━━━━━━━━━━━━━\u001b[0m \u001b[1m0s\u001b[0m 11ms/step - loss: 0.4591 - mean_absolute_error: 0.5302"
     ]
    },
    {
     "name": "stdout",
     "output_type": "stream",
     "text": [
      "\b\b\b\b\b\b\b\b\b\b\b\b\b\b\b\b\b\b\b\b\b\b\b\b\b\b\b\b\b\b\b\b\b\b\b\b\b\b\b\b\b\b\b\b\b\b\b\b\b\b\b\b\b\b\b\b\b\b\b\b\b\b\b\b\b\b\b\b\b\b\b\b\b\b\b\b\b\b\b\b\b\b\r",
      "\u001b[1m3/3\u001b[0m \u001b[32m━━━━━━━━━━━━━━━━━━━━\u001b[0m\u001b[37m\u001b[0m \u001b[1m0s\u001b[0m 15ms/step - loss: 0.3673 - mean_absolute_error: 0.4628 - val_loss: 0.4857 - val_mean_absolute_error: 0.5462 - learning_rate: 1.2500e-04\n"
     ]
    },
    {
     "name": "stdout",
     "output_type": "stream",
     "text": [
      "Epoch 35/50\n"
     ]
    },
    {
     "name": "stdout",
     "output_type": "stream",
     "text": [
      "\r",
      "\u001b[1m1/3\u001b[0m \u001b[32m━━━━━━\u001b[0m\u001b[37m━━━━━━━━━━━━━━\u001b[0m \u001b[1m0s\u001b[0m 12ms/step - loss: 0.3753 - mean_absolute_error: 0.4626"
     ]
    },
    {
     "name": "stdout",
     "output_type": "stream",
     "text": [
      "\b\b\b\b\b\b\b\b\b\b\b\b\b\b\b\b\b\b\b\b\b\b\b\b\b\b\b\b\b\b\b\b\b\b\b\b\b\b\b\b\b\b\b\b\b\b\b\b\b\b\b\b\b\b\b\b\b\b\b\b\b\b\b\b\b\b\b\b\b\b\b\b\b\b\b\b\b\b\b\b\b\b\r",
      "\u001b[1m3/3\u001b[0m \u001b[32m━━━━━━━━━━━━━━━━━━━━\u001b[0m\u001b[37m\u001b[0m \u001b[1m0s\u001b[0m 15ms/step - loss: 0.3184 - mean_absolute_error: 0.4138 - val_loss: 0.4824 - val_mean_absolute_error: 0.5435 - learning_rate: 1.2500e-04\n"
     ]
    },
    {
     "name": "stdout",
     "output_type": "stream",
     "text": [
      "Epoch 36/50\n"
     ]
    },
    {
     "name": "stdout",
     "output_type": "stream",
     "text": [
      "\r",
      "\u001b[1m1/3\u001b[0m \u001b[32m━━━━━━\u001b[0m\u001b[37m━━━━━━━━━━━━━━\u001b[0m \u001b[1m0s\u001b[0m 12ms/step - loss: 0.4467 - mean_absolute_error: 0.5184"
     ]
    },
    {
     "name": "stdout",
     "output_type": "stream",
     "text": [
      "\b\b\b\b\b\b\b\b\b\b\b\b\b\b\b\b\b\b\b\b\b\b\b\b\b\b\b\b\b\b\b\b\b\b\b\b\b\b\b\b\b\b\b\b\b\b\b\b\b\b\b\b\b\b\b\b\b\b\b\b\b\b\b\b\b\b\b\b\b\b\b\b\b\b\b\b\b\b\b\b\b\b\r",
      "\u001b[1m3/3\u001b[0m \u001b[32m━━━━━━━━━━━━━━━━━━━━\u001b[0m\u001b[37m\u001b[0m \u001b[1m0s\u001b[0m 15ms/step - loss: 0.3657 - mean_absolute_error: 0.4630 - val_loss: 0.4779 - val_mean_absolute_error: 0.5410 - learning_rate: 1.2500e-04\n"
     ]
    },
    {
     "name": "stdout",
     "output_type": "stream",
     "text": [
      "Epoch 37/50\n"
     ]
    },
    {
     "name": "stdout",
     "output_type": "stream",
     "text": [
      "\r",
      "\u001b[1m1/3\u001b[0m \u001b[32m━━━━━━\u001b[0m\u001b[37m━━━━━━━━━━━━━━\u001b[0m \u001b[1m0s\u001b[0m 11ms/step - loss: 0.3202 - mean_absolute_error: 0.4359"
     ]
    },
    {
     "name": "stdout",
     "output_type": "stream",
     "text": [
      "\b\b\b\b\b\b\b\b\b\b\b\b\b\b\b\b\b\b\b\b\b\b\b\b\b\b\b\b\b\b\b\b\b\b\b\b\b\b\b\b\b\b\b\b\b\b\b\b\b\b\b\b\b\b\b\b\b\b\b\b\b\b\b\b\b\b\b\b\b\b\b\b\b\b\b\b\b\b\b\b\b\b\r",
      "\u001b[1m3/3\u001b[0m \u001b[32m━━━━━━━━━━━━━━━━━━━━\u001b[0m\u001b[37m\u001b[0m \u001b[1m0s\u001b[0m 15ms/step - loss: 0.3095 - mean_absolute_error: 0.4261 - val_loss: 0.4734 - val_mean_absolute_error: 0.5382 - learning_rate: 1.2500e-04\n"
     ]
    },
    {
     "name": "stdout",
     "output_type": "stream",
     "text": [
      "Epoch 38/50\n"
     ]
    },
    {
     "name": "stdout",
     "output_type": "stream",
     "text": [
      "\r",
      "\u001b[1m1/3\u001b[0m \u001b[32m━━━━━━\u001b[0m\u001b[37m━━━━━━━━━━━━━━\u001b[0m \u001b[1m0s\u001b[0m 11ms/step - loss: 0.2336 - mean_absolute_error: 0.4206"
     ]
    },
    {
     "name": "stdout",
     "output_type": "stream",
     "text": [
      "\b\b\b\b\b\b\b\b\b\b\b\b\b\b\b\b\b\b\b\b\b\b\b\b\b\b\b\b\b\b\b\b\b\b\b\b\b\b\b\b\b\b\b\b\b\b\b\b\b\b\b\b\b\b\b\b\b\b\b\b\b\b\b\b\b\b\b\b\b\b\b\b\b\b\b\b\b\b\b\b\b\b\r",
      "\u001b[1m3/3\u001b[0m \u001b[32m━━━━━━━━━━━━━━━━━━━━\u001b[0m\u001b[37m\u001b[0m \u001b[1m0s\u001b[0m 15ms/step - loss: 0.2450 - mean_absolute_error: 0.4052 - val_loss: 0.4674 - val_mean_absolute_error: 0.5351 - learning_rate: 1.2500e-04\n"
     ]
    },
    {
     "name": "stdout",
     "output_type": "stream",
     "text": [
      "Epoch 39/50\n"
     ]
    },
    {
     "name": "stdout",
     "output_type": "stream",
     "text": [
      "\r",
      "\u001b[1m1/3\u001b[0m \u001b[32m━━━━━━\u001b[0m\u001b[37m━━━━━━━━━━━━━━\u001b[0m \u001b[1m0s\u001b[0m 11ms/step - loss: 0.2624 - mean_absolute_error: 0.4166"
     ]
    },
    {
     "name": "stdout",
     "output_type": "stream",
     "text": [
      "\b\b\b\b\b\b\b\b\b\b\b\b\b\b\b\b\b\b\b\b\b\b\b\b\b\b\b\b\b\b\b\b\b\b\b\b\b\b\b\b\b\b\b\b\b\b\b\b\b\b\b\b\b\b\b\b\b\b\b\b\b\b\b\b\b\b\b\b\b\b\b\b\b\b\b\b\b\b\b\b\b\b\r",
      "\u001b[1m3/3\u001b[0m \u001b[32m━━━━━━━━━━━━━━━━━━━━\u001b[0m\u001b[37m\u001b[0m \u001b[1m0s\u001b[0m 15ms/step - loss: 0.2913 - mean_absolute_error: 0.4216 - val_loss: 0.4611 - val_mean_absolute_error: 0.5318 - learning_rate: 1.2500e-04\n"
     ]
    },
    {
     "name": "stdout",
     "output_type": "stream",
     "text": [
      "Epoch 40/50\n"
     ]
    },
    {
     "name": "stdout",
     "output_type": "stream",
     "text": [
      "\r",
      "\u001b[1m1/3\u001b[0m \u001b[32m━━━━━━\u001b[0m\u001b[37m━━━━━━━━━━━━━━\u001b[0m \u001b[1m0s\u001b[0m 11ms/step - loss: 0.2081 - mean_absolute_error: 0.3497"
     ]
    },
    {
     "name": "stdout",
     "output_type": "stream",
     "text": [
      "\b\b\b\b\b\b\b\b\b\b\b\b\b\b\b\b\b\b\b\b\b\b\b\b\b\b\b\b\b\b\b\b\b\b\b\b\b\b\b\b\b\b\b\b\b\b\b\b\b\b\b\b\b\b\b\b\b\b\b\b\b\b\b\b\b\b\b\b\b\b\b\b\b\b\b\b\b\b\b\b\b\b\r",
      "\u001b[1m3/3\u001b[0m \u001b[32m━━━━━━━━━━━━━━━━━━━━\u001b[0m\u001b[37m\u001b[0m \u001b[1m0s\u001b[0m 15ms/step - loss: 0.2387 - mean_absolute_error: 0.3705 - val_loss: 0.4557 - val_mean_absolute_error: 0.5286 - learning_rate: 1.2500e-04\n"
     ]
    },
    {
     "name": "stdout",
     "output_type": "stream",
     "text": [
      "Epoch 41/50\n"
     ]
    },
    {
     "name": "stdout",
     "output_type": "stream",
     "text": [
      "\r",
      "\u001b[1m1/3\u001b[0m \u001b[32m━━━━━━\u001b[0m\u001b[37m━━━━━━━━━━━━━━\u001b[0m \u001b[1m0s\u001b[0m 12ms/step - loss: 0.3156 - mean_absolute_error: 0.4012"
     ]
    },
    {
     "name": "stdout",
     "output_type": "stream",
     "text": [
      "\b\b\b\b\b\b\b\b\b\b\b\b\b\b\b\b\b\b\b\b\b\b\b\b\b\b\b\b\b\b\b\b\b\b\b\b\b\b\b\b\b\b\b\b\b\b\b\b\b\b\b\b\b\b\b\b\b\b\b\b\b\b\b\b\b\b\b\b\b\b\b\b\b\b\b\b\b\b\b\b\b\b\r",
      "\u001b[1m3/3\u001b[0m \u001b[32m━━━━━━━━━━━━━━━━━━━━\u001b[0m\u001b[37m\u001b[0m \u001b[1m0s\u001b[0m 15ms/step - loss: 0.3304 - mean_absolute_error: 0.4258 - val_loss: 0.4541 - val_mean_absolute_error: 0.5274 - learning_rate: 6.2500e-05\n"
     ]
    },
    {
     "name": "stdout",
     "output_type": "stream",
     "text": [
      "Epoch 42/50\n"
     ]
    },
    {
     "name": "stdout",
     "output_type": "stream",
     "text": [
      "\r",
      "\u001b[1m1/3\u001b[0m \u001b[32m━━━━━━\u001b[0m\u001b[37m━━━━━━━━━━━━━━\u001b[0m \u001b[1m0s\u001b[0m 12ms/step - loss: 0.2919 - mean_absolute_error: 0.4238"
     ]
    },
    {
     "name": "stdout",
     "output_type": "stream",
     "text": [
      "\b\b\b\b\b\b\b\b\b\b\b\b\b\b\b\b\b\b\b\b\b\b\b\b\b\b\b\b\b\b\b\b\b\b\b\b\b\b\b\b\b\b\b\b\b\b\b\b\b\b\b\b\b\b\b\b\b\b\b\b\b\b\b\b\b\b\b\b\b\b\b\b\b\b\b\b\b\b\b\b\b\b\r",
      "\u001b[1m3/3\u001b[0m \u001b[32m━━━━━━━━━━━━━━━━━━━━\u001b[0m\u001b[37m\u001b[0m \u001b[1m0s\u001b[0m 15ms/step - loss: 0.3036 - mean_absolute_error: 0.4212 - val_loss: 0.4531 - val_mean_absolute_error: 0.5262 - learning_rate: 6.2500e-05\n"
     ]
    },
    {
     "name": "stdout",
     "output_type": "stream",
     "text": [
      "Epoch 43/50\n"
     ]
    },
    {
     "name": "stdout",
     "output_type": "stream",
     "text": [
      "\r",
      "\u001b[1m1/3\u001b[0m \u001b[32m━━━━━━\u001b[0m\u001b[37m━━━━━━━━━━━━━━\u001b[0m \u001b[1m0s\u001b[0m 11ms/step - loss: 0.1735 - mean_absolute_error: 0.3326"
     ]
    },
    {
     "name": "stdout",
     "output_type": "stream",
     "text": [
      "\b\b\b\b\b\b\b\b\b\b\b\b\b\b\b\b\b\b\b\b\b\b\b\b\b\b\b\b\b\b\b\b\b\b\b\b\b\b\b\b\b\b\b\b\b\b\b\b\b\b\b\b\b\b\b\b\b\b\b\b\b\b\b\b\b\b\b\b\b\b\b\b\b\b\b\b\b\b\b\b\b\b\r",
      "\u001b[1m3/3\u001b[0m \u001b[32m━━━━━━━━━━━━━━━━━━━━\u001b[0m\u001b[37m\u001b[0m \u001b[1m0s\u001b[0m 15ms/step - loss: 0.2003 - mean_absolute_error: 0.3458 - val_loss: 0.4529 - val_mean_absolute_error: 0.5252 - learning_rate: 6.2500e-05\n"
     ]
    },
    {
     "name": "stdout",
     "output_type": "stream",
     "text": [
      "Epoch 44/50\n"
     ]
    },
    {
     "name": "stdout",
     "output_type": "stream",
     "text": [
      "\r",
      "\u001b[1m1/3\u001b[0m \u001b[32m━━━━━━\u001b[0m\u001b[37m━━━━━━━━━━━━━━\u001b[0m \u001b[1m0s\u001b[0m 11ms/step - loss: 0.2632 - mean_absolute_error: 0.3957"
     ]
    },
    {
     "name": "stdout",
     "output_type": "stream",
     "text": [
      "\b\b\b\b\b\b\b\b\b\b\b\b\b\b\b\b\b\b\b\b\b\b\b\b\b\b\b\b\b\b\b\b\b\b\b\b\b\b\b\b\b\b\b\b\b\b\b\b\b\b\b\b\b\b\b\b\b\b\b\b\b\b\b\b\b\b\b\b\b\b\b\b\b\b\b\b\b\b\b\b\b\b\r",
      "\u001b[1m3/3\u001b[0m \u001b[32m━━━━━━━━━━━━━━━━━━━━\u001b[0m\u001b[37m\u001b[0m \u001b[1m0s\u001b[0m 15ms/step - loss: 0.2702 - mean_absolute_error: 0.3990 - val_loss: 0.4544 - val_mean_absolute_error: 0.5245 - learning_rate: 6.2500e-05\n"
     ]
    },
    {
     "name": "stdout",
     "output_type": "stream",
     "text": [
      "Epoch 45/50\n"
     ]
    },
    {
     "name": "stdout",
     "output_type": "stream",
     "text": [
      "\r",
      "\u001b[1m1/3\u001b[0m \u001b[32m━━━━━━\u001b[0m\u001b[37m━━━━━━━━━━━━━━\u001b[0m \u001b[1m0s\u001b[0m 11ms/step - loss: 0.2503 - mean_absolute_error: 0.3682"
     ]
    },
    {
     "name": "stdout",
     "output_type": "stream",
     "text": [
      "\b\b\b\b\b\b\b\b\b\b\b\b\b\b\b\b\b\b\b\b\b\b\b\b\b\b\b\b\b\b\b\b\b\b\b\b\b\b\b\b\b\b\b\b\b\b\b\b\b\b\b\b\b\b\b\b\b\b\b\b\b\b\b\b\b\b\b\b\b\b\b\b\b\b\b\b\b\b\b\b\b\b\r",
      "\u001b[1m3/3\u001b[0m \u001b[32m━━━━━━━━━━━━━━━━━━━━\u001b[0m\u001b[37m\u001b[0m \u001b[1m0s\u001b[0m 15ms/step - loss: 0.2710 - mean_absolute_error: 0.3724 - val_loss: 0.4546 - val_mean_absolute_error: 0.5236 - learning_rate: 6.2500e-05\n"
     ]
    },
    {
     "name": "stdout",
     "output_type": "stream",
     "text": [
      "Epoch 46/50\n"
     ]
    },
    {
     "name": "stdout",
     "output_type": "stream",
     "text": [
      "\r",
      "\u001b[1m1/3\u001b[0m \u001b[32m━━━━━━\u001b[0m\u001b[37m━━━━━━━━━━━━━━\u001b[0m \u001b[1m0s\u001b[0m 11ms/step - loss: 0.2527 - mean_absolute_error: 0.3469"
     ]
    },
    {
     "name": "stdout",
     "output_type": "stream",
     "text": [
      "\b\b\b\b\b\b\b\b\b\b\b\b\b\b\b\b\b\b\b\b\b\b\b\b\b\b\b\b\b\b\b\b\b\b\b\b\b\b\b\b\b\b\b\b\b\b\b\b\b\b\b\b\b\b\b\b\b\b\b\b\b\b\b\b\b\b\b\b\b\b\b\b\b\b\b\b\b\b\b\b\b\b\r",
      "\u001b[1m3/3\u001b[0m \u001b[32m━━━━━━━━━━━━━━━━━━━━\u001b[0m\u001b[37m\u001b[0m \u001b[1m0s\u001b[0m 15ms/step - loss: 0.2764 - mean_absolute_error: 0.3783 - val_loss: 0.4549 - val_mean_absolute_error: 0.5228 - learning_rate: 6.2500e-05\n"
     ]
    },
    {
     "name": "stdout",
     "output_type": "stream",
     "text": [
      "Epoch 47/50\n"
     ]
    },
    {
     "name": "stdout",
     "output_type": "stream",
     "text": [
      "\r",
      "\u001b[1m1/3\u001b[0m \u001b[32m━━━━━━\u001b[0m\u001b[37m━━━━━━━━━━━━━━\u001b[0m \u001b[1m0s\u001b[0m 11ms/step - loss: 0.2627 - mean_absolute_error: 0.4265"
     ]
    },
    {
     "name": "stdout",
     "output_type": "stream",
     "text": [
      "\b\b\b\b\b\b\b\b\b\b\b\b\b\b\b\b\b\b\b\b\b\b\b\b\b\b\b\b\b\b\b\b\b\b\b\b\b\b\b\b\b\b\b\b\b\b\b\b\b\b\b\b\b\b\b\b\b\b\b\b\b\b\b\b\b\b\b\b\b\b\b\b\b\b\b\b\b\b\b\b\b\b\r",
      "\u001b[1m3/3\u001b[0m \u001b[32m━━━━━━━━━━━━━━━━━━━━\u001b[0m\u001b[37m\u001b[0m \u001b[1m0s\u001b[0m 15ms/step - loss: 0.2857 - mean_absolute_error: 0.4428 - val_loss: 0.4546 - val_mean_absolute_error: 0.5221 - learning_rate: 6.2500e-05\n"
     ]
    },
    {
     "name": "stdout",
     "output_type": "stream",
     "text": [
      "Epoch 48/50\n"
     ]
    },
    {
     "name": "stdout",
     "output_type": "stream",
     "text": [
      "\r",
      "\u001b[1m1/3\u001b[0m \u001b[32m━━━━━━\u001b[0m\u001b[37m━━━━━━━━━━━━━━\u001b[0m \u001b[1m0s\u001b[0m 12ms/step - loss: 0.2362 - mean_absolute_error: 0.4126"
     ]
    },
    {
     "name": "stdout",
     "output_type": "stream",
     "text": [
      "\b\b\b\b\b\b\b\b\b\b\b\b\b\b\b\b\b\b\b\b\b\b\b\b\b\b\b\b\b\b\b\b\b\b\b\b\b\b\b\b\b\b\b\b\b\b\b\b\b\b\b\b\b\b\b\b\b\b\b\b\b\b\b\b\b\b\b\b\b\b\b\b\b\b\b\b\b\b\b\b\b\b\r",
      "\u001b[1m3/3\u001b[0m \u001b[32m━━━━━━━━━━━━━━━━━━━━\u001b[0m\u001b[37m\u001b[0m \u001b[1m0s\u001b[0m 15ms/step - loss: 0.2501 - mean_absolute_error: 0.4026 - val_loss: 0.4557 - val_mean_absolute_error: 0.5216 - learning_rate: 6.2500e-05\n"
     ]
    },
    {
     "name": "stdout",
     "output_type": "stream",
     "text": [
      "Embedding vector for player zero after training: [-0.13428518 -0.0009771   0.1329839  -0.29613775 -0.26009488  0.07811415\n",
      "  0.15738839 -0.20170173 -0.22916353 -0.27609777  0.27313498 -0.16636868\n",
      " -0.01386166 -0.1564296   0.13861132  0.16607106  0.02278191 -0.20447966\n",
      "  0.00173342 -0.18519947 -0.28682098 -0.11555447 -0.01580417  0.03690901\n",
      "  0.1996915   0.05639273 -0.11093217  0.16203171 -0.23099054  0.06050453\n",
      " -0.12172711  0.21778926]\n",
      "Change in player zero embedding vector: 0.0\n",
      "\r",
      "\u001b[1m1/1\u001b[0m \u001b[32m━━━━━━━━━━━━━━━━━━━━\u001b[0m\u001b[37m\u001b[0m \u001b[1m0s\u001b[0m 12ms/step - loss: 0.4529 - mean_absolute_error: 0.5252"
     ]
    },
    {
     "name": "stdout",
     "output_type": "stream",
     "text": [
      "\b\b\b\b\b\b\b\b\b\b\b\b\b\b\b\b\b\b\b\b\b\b\b\b\b\b\b\b\b\b\b\b\b\b\b\b\b\b\b\b\b\b\b\b\b\b\b\b\b\b\b\b\b\b\b\b\b\b\b\b\b\b\b\b\b\b\b\b\b\b\b\b\b\b\b\b\b\b\b\b\b\b\r",
      "\u001b[1m1/1\u001b[0m \u001b[32m━━━━━━━━━━━━━━━━━━━━\u001b[0m\u001b[37m\u001b[0m \u001b[1m0s\u001b[0m 20ms/step - loss: 0.4529 - mean_absolute_error: 0.5252\n"
     ]
    },
    {
     "name": "stdout",
     "output_type": "stream",
     "text": [
      "Validation accuracy: 0.525\n"
     ]
    }
   ],
   "source": [
    "import numpy as np\n",
    "from sklearn.model_selection import train_test_split\n",
    "\n",
    "# Assume the following arrays from your dataset generation code:\n",
    "# teamA_data, teamB_data, labels (all np arrays)\n",
    "\n",
    "# 1. Train-validation split (80% train, 20% validation)\n",
    "X_trainA, X_valA, X_trainB, X_valB, y_train, y_val = train_test_split(\n",
    "    teamA_data, teamB_data, labels, test_size=0.2, random_state=42\n",
    ")\n",
    "\n",
    "# 2. Build or import your Keras model (reuse the model creation code from before)\n",
    "# For example, let's say you have your variable-size team transformer model as 'model'\n",
    "\n",
    "# 3. Optional: callbacks for monitoring\n",
    "from tensorflow.keras.callbacks import EarlyStopping\n",
    "\n",
    "early_stop = EarlyStopping(monitor='val_loss', patience=5, restore_best_weights=True)\n",
    "\n",
    "# Define a learning rate schedule function (step decay example)\n",
    "def lr_schedule(epoch, lr):\n",
    "    drop_rate = 0.5\n",
    "    epochs_drop = 10\n",
    "    if epoch > 0 and epoch % epochs_drop == 0:\n",
    "        return lr * drop_rate\n",
    "    return lr\n",
    "\n",
    "#Instantiate callback\n",
    "lr_scheduler = tf.keras.callbacks.LearningRateScheduler(lr_schedule)\n",
    "\n",
    "# Or adaptive reduction on plateau (reduce LR when val_loss stalls)\n",
    "reduce_lr = tf.keras.callbacks.ReduceLROnPlateau(monitor='val_loss', factor=0.5,\n",
    "                                                 patience=5, min_lr=1e-6)\n",
    "\n",
    "\n",
    "player_embedding_layer = model.get_layer(\"player_embedding\")\n",
    "embeddings_before_fold = player_embedding_layer.get_weights()[0]\n",
    "print(\"Embedding vector for player zero before training:\", embeddings_before_fold[0])\n",
    "\n",
    "print(X_trainA)\n",
    "\n",
    "# 4. Train the model\n",
    "history = model.fit(\n",
    "    [X_trainA, X_trainB],                 # Inputs as a list\n",
    "    y_train,                              # Targets\n",
    "    epochs=50,\n",
    "    batch_size=32,\n",
    "    validation_data=([X_valA, X_valB], y_val),\n",
    "    callbacks=[lr_scheduler, reduce_lr, early_stop],\n",
    "    # callbacks=[early_stop]\n",
    ")\n",
    "\n",
    "pe_layer = model.get_layer(\"player_embedding\")\n",
    "embeddings_after_fold = pe_layer.get_weights()[0]\n",
    "print(\"Embedding vector for player zero after training:\", embeddings_after_fold[0])\n",
    "\n",
    "change = np.linalg.norm(embeddings_after_fold[0] - embeddings_before_fold[0])\n",
    "print(\"Change in player zero embedding vector:\", change)\n",
    "\n",
    "# 5. Evaluate model performance\n",
    "loss, accuracy = model.evaluate([X_valA, X_valB], y_val)\n",
    "print(f\"Validation accuracy: {accuracy:.3f}\")"
   ]
  },
  {
   "cell_type": "code",
   "execution_count": 7,
   "metadata": {},
   "outputs": [
    {
     "data": {
      "image/png": "[encoded data removed]",
      "text/plain": [
       "<Figure size 1400x500 with 2 Axes>"
      ]
     },
     "metadata": {},
     "output_type": "display_data"
    }
   ],
   "source": [
    "import matplotlib.pyplot as plt\n",
    "\n",
    "# Assume 'history' is the object returned by your call to model.fit(...)\n",
    "\n",
    "# Plot training and validation accuracy\n",
    "plt.figure(figsize=(14, 5))\n",
    "\n",
    "plt.subplot(1, 2, 1)\n",
    "plt.plot(history.history['mean_absolute_error'], label='Training MAE')\n",
    "plt.plot(history.history['val_mean_absolute_error'], label='Validation MAE')\n",
    "plt.xlabel('Epoch')\n",
    "plt.ylabel('mean_absolute_error')\n",
    "plt.title('Training vs Validation MAE')\n",
    "plt.legend()\n",
    "\n",
    "# Plot training and validation loss\n",
    "plt.subplot(1, 2, 2)\n",
    "plt.plot(history.history['loss'], label='Training Loss')\n",
    "plt.plot(history.history['val_loss'], label='Validation Loss')\n",
    "plt.xlabel('Epoch')\n",
    "plt.ylabel('Loss')\n",
    "plt.title('Training vs Validation Loss')\n",
    "plt.legend()\n",
    "\n",
    "plt.tight_layout()\n",
    "plt.show()"
   ]
  },
  {
   "cell_type": "markdown",
   "metadata": {},
   "source": [
    "## Extracting embeddings of players"
   ]
  },
  {
   "cell_type": "code",
   "execution_count": 8,
   "metadata": {},
   "outputs": [
    {
     "name": "stdout",
     "output_type": "stream",
     "text": [
      "(31, 32)\n"
     ]
    }
   ],
   "source": [
    "# Direct reference to layer\n",
    "player_embeddings = player_embedding.get_weights()[0]\n",
    "print(player_embeddings.shape)  # (NUM_PLAYERS, PLAYER_EMB_DIM)"
   ]
  },
  {
   "cell_type": "markdown",
   "metadata": {},
   "source": [
    "### UMAP and visualizing players in 3D"
   ]
  },
  {
   "cell_type": "code",
   "execution_count": 9,
   "metadata": {},
   "outputs": [
    {
     "data": {
      "application/vnd.plotly.v1+json": {
       "config": {
        "plotlyServerURL": "https://plot.ly"
       },
       "data": [
        {
         "hoverinfo": "text",
         "marker": {
          "color": {
           "bdata": "7FFfHnf41z9U1rtoQGzuP1FnHo9+bOc/sCxj1jUo4z+EISI3a/jDP0x/meGg98M/cFVknSK9rT+1t1UJt7frP61LkoxVPOM/goKa0oeo5j+AfjgHGhSVP6VT42KACe8/9hPBv16j6j+YMAOQ7S3LPzgZ4F8KRsc/SDThicx5xz9oquR0tHjTP2M8BwDOyuA/WjsvuPyk2z8OvTKMf6PSPyd1mYVMlOM/fCS/UO/awT9UQMp3f7LSPzi33PF4ctc/3I+5KEAw3T8uOnlWKSDpP3SQHhbpjsk/E9Tux5t04D8X991lD/XiP3BDCTdZyKc/iqK45gFx4z8=",
           "dtype": "f8"
          },
          "colorbar": {
           "title": {
            "text": "Strength"
           }
          },
          "colorscale": [
           [
            0.0,
            "#440154"
           ],
           [
            0.1111111111111111,
            "#482878"
           ],
           [
            0.2222222222222222,
            "#3e4989"
           ],
           [
            0.3333333333333333,
            "#31688e"
           ],
           [
            0.4444444444444444,
            "#26828e"
           ],
           [
            0.5555555555555556,
            "#1f9e89"
           ],
           [
            0.6666666666666666,
            "#35b779"
           ],
           [
            0.7777777777777778,
            "#6ece58"
           ],
           [
            0.8888888888888888,
            "#b5de2b"
           ],
           [
            1.0,
            "#fde725"
           ]
          ],
          "opacity": 0.8,
          "size": 7
         },
         "mode": "markers",
         "text": [
          "Player 0:0.3745401188473625",
          "Player 1:0.9507143064099162",
          "Player 2:0.7319939418114051",
          "Player 3:0.5986584841970366",
          "Player 4:0.15601864044243652",
          "Player 5:0.15599452033620265",
          "Player 6:0.05808361216819946",
          "Player 7:0.8661761457749352",
          "Player 8:0.6011150117432088",
          "Player 9:0.7080725777960455",
          "Player 10:0.020584494295802447",
          "Player 11:0.9699098521619943",
          "Player 12:0.8324426408004217",
          "Player 13:0.21233911067827616",
          "Player 14:0.18182496720710062",
          "Player 15:0.18340450985343382",
          "Player 16:0.3042422429595377",
          "Player 17:0.5247564316322378",
          "Player 18:0.43194501864211576",
          "Player 19:0.2912291401980419",
          "Player 20:0.6118528947223795",
          "Player 21:0.13949386065204183",
          "Player 22:0.29214464853521815",
          "Player 23:0.3663618432936917",
          "Player 24:0.45606998421703593",
          "Player 25:0.7851759613930136",
          "Player 26:0.19967378215835974",
          "Player 27:0.5142344384136116",
          "Player 28:0.5924145688620425",
          "Player 29:0.046450412719997725",
          "Player 30:0.6075448519014384"
         ],
         "type": "scatter3d",
         "x": {
          "bdata": "5MGPv4a5Z7+4wFg/s7ravoXZ8jxT/di8aSDtPNbSt79uw+c+oGmLv7uScr6j9pW+MS+Nv9o9dz4zvU4/6Ja6P1Mfpb7T/LM+qMllv7NG8L5ZoFE/SsQpP0tJPb+cmt8+4VOhPyQ/rD40Z+c+cl6NPyK4pD+XkUy/cHyavQ==",
          "dtype": "f4"
         },
         "y": {
          "bdata": "QCdAQZXrP0Gr5UdBrgNDQYfAMUEZrENBSmBLQR9lQUFRNjtBRCtKQRnoOkHMQT9BPP85QZdDMEFv5j5Bnvs6QQOnP0GBAERBRuNFQSg+MkExBTpBliJOQXWcMEGEFVBBJgI/QV3gRUEt/1NBtGZLQThfRUHP/DRB0qI5QQ==",
          "dtype": "f4"
         },
         "z": {
          "bdata": "WYl8QVT8iEF7un9BFklxQczKeUEZioJBinWNQYR9gUHFrYBBKQCBQUQydEGbJn5B24yFQe1bg0Gfa3hBkeeHQYUWjEFwOY1BBmR2Qb8oh0FCdIpByqaEQfGagUGIi4xBo7uJQfzfeUEVsodB8f6JQWZehEHbDXlBBayHQQ==",
          "dtype": "f4"
         }
        }
       ],
       "layout": {
        "height": 800,
        "scene": {
         "xaxis": {
          "title": {
           "text": "UMAP-1"
          }
         },
         "yaxis": {
          "title": {
           "text": "UMAP-2"
          }
         },
         "zaxis": {
          "title": {
           "text": "UMAP-3"
          }
         }
        },
        "template": {
         "data": {
          "bar": [
           {
            "error_x": {
             "color": "#2a3f5f"
            },
            "error_y": {
             "color": "#2a3f5f"
            },
            "marker": {
             "line": {
              "color": "#E5ECF6",
              "width": 0.5
             },
             "pattern": {
              "fillmode": "overlay",
              "size": 10,
              "solidity": 0.2
             }
            },
            "type": "bar"
           }
          ],
          "barpolar": [
           {
            "marker": {
             "line": {
              "color": "#E5ECF6",
              "width": 0.5
             },
             "pattern": {
              "fillmode": "overlay",
              "size": 10,
              "solidity": 0.2
             }
            },
            "type": "barpolar"
           }
          ],
          "carpet": [
           {
            "aaxis": {
             "endlinecolor": "#2a3f5f",
             "gridcolor": "white",
             "linecolor": "white",
             "minorgridcolor": "white",
             "startlinecolor": "#2a3f5f"
            },
            "baxis": {
             "endlinecolor": "#2a3f5f",
             "gridcolor": "white",
             "linecolor": "white",
             "minorgridcolor": "white",
             "startlinecolor": "#2a3f5f"
            },
            "type": "carpet"
           }
          ],
          "choropleth": [
           {
            "colorbar": {
             "outlinewidth": 0,
             "ticks": ""
            },
            "type": "choropleth"
           }
          ],
          "contour": [
           {
            "colorbar": {
             "outlinewidth": 0,
             "ticks": ""
            },
            "colorscale": [
             [
              0.0,
              "#0d0887"
             ],
             [
              0.1111111111111111,
              "#46039f"
             ],
             [
              0.2222222222222222,
              "#7201a8"
             ],
             [
              0.3333333333333333,
              "#9c179e"
             ],
             [
              0.4444444444444444,
              "#bd3786"
             ],
             [
              0.5555555555555556,
              "#d8576b"
             ],
             [
              0.6666666666666666,
              "#ed7953"
             ],
             [
              0.7777777777777778,
              "#fb9f3a"
             ],
             [
              0.8888888888888888,
              "#fdca26"
             ],
             [
              1.0,
              "#f0f921"
             ]
            ],
            "type": "contour"
           }
          ],
          "contourcarpet": [
           {
            "colorbar": {
             "outlinewidth": 0,
             "ticks": ""
            },
            "type": "contourcarpet"
           }
          ],
          "heatmap": [
           {
            "colorbar": {
             "outlinewidth": 0,
             "ticks": ""
            },
            "colorscale": [
             [
              0.0,
              "#0d0887"
             ],
             [
              0.1111111111111111,
              "#46039f"
             ],
             [
              0.2222222222222222,
              "#7201a8"
             ],
             [
              0.3333333333333333,
              "#9c179e"
             ],
             [
              0.4444444444444444,
              "#bd3786"
             ],
             [
              0.5555555555555556,
              "#d8576b"
             ],
             [
              0.6666666666666666,
              "#ed7953"
             ],
             [
              0.7777777777777778,
              "#fb9f3a"
             ],
             [
              0.8888888888888888,
              "#fdca26"
             ],
             [
              1.0,
              "#f0f921"
             ]
            ],
            "type": "heatmap"
           }
          ],
          "histogram": [
           {
            "marker": {
             "pattern": {
              "fillmode": "overlay",
              "size": 10,
              "solidity": 0.2
             }
            },
            "type": "histogram"
           }
          ],
          "histogram2d": [
           {
            "colorbar": {
             "outlinewidth": 0,
             "ticks": ""
            },
            "colorscale": [
             [
              0.0,
              "#0d0887"
             ],
             [
              0.1111111111111111,
              "#46039f"
             ],
             [
              0.2222222222222222,
              "#7201a8"
             ],
             [
              0.3333333333333333,
              "#9c179e"
             ],
             [
              0.4444444444444444,
              "#bd3786"
             ],
             [
              0.5555555555555556,
              "#d8576b"
             ],
             [
              0.6666666666666666,
              "#ed7953"
             ],
             [
              0.7777777777777778,
              "#fb9f3a"
             ],
             [
              0.8888888888888888,
              "#fdca26"
             ],
             [
              1.0,
              "#f0f921"
             ]
            ],
            "type": "histogram2d"
           }
          ],
          "histogram2dcontour": [
           {
            "colorbar": {
             "outlinewidth": 0,
             "ticks": ""
            },
            "colorscale": [
             [
              0.0,
              "#0d0887"
             ],
             [
              0.1111111111111111,
              "#46039f"
             ],
             [
              0.2222222222222222,
              "#7201a8"
             ],
             [
              0.3333333333333333,
              "#9c179e"
             ],
             [
              0.4444444444444444,
              "#bd3786"
             ],
             [
              0.5555555555555556,
              "#d8576b"
             ],
             [
              0.6666666666666666,
              "#ed7953"
             ],
             [
              0.7777777777777778,
              "#fb9f3a"
             ],
             [
              0.8888888888888888,
              "#fdca26"
             ],
             [
              1.0,
              "#f0f921"
             ]
            ],
            "type": "histogram2dcontour"
           }
          ],
          "mesh3d": [
           {
            "colorbar": {
             "outlinewidth": 0,
             "ticks": ""
            },
            "type": "mesh3d"
           }
          ],
          "parcoords": [
           {
            "line": {
             "colorbar": {
              "outlinewidth": 0,
              "ticks": ""
             }
            },
            "type": "parcoords"
           }
          ],
          "pie": [
           {
            "automargin": true,
            "type": "pie"
           }
          ],
          "scatter": [
           {
            "fillpattern": {
             "fillmode": "overlay",
             "size": 10,
             "solidity": 0.2
            },
            "type": "scatter"
           }
          ],
          "scatter3d": [
           {
            "line": {
             "colorbar": {
              "outlinewidth": 0,
              "ticks": ""
             }
            },
            "marker": {
             "colorbar": {
              "outlinewidth": 0,
              "ticks": ""
             }
            },
            "type": "scatter3d"
           }
          ],
          "scattercarpet": [
           {
            "marker": {
             "colorbar": {
              "outlinewidth": 0,
              "ticks": ""
             }
            },
            "type": "scattercarpet"
           }
          ],
          "scattergeo": [
           {
            "marker": {
             "colorbar": {
              "outlinewidth": 0,
              "ticks": ""
             }
            },
            "type": "scattergeo"
           }
          ],
          "scattergl": [
           {
            "marker": {
             "colorbar": {
              "outlinewidth": 0,
              "ticks": ""
             }
            },
            "type": "scattergl"
           }
          ],
          "scattermap": [
           {
            "marker": {
             "colorbar": {
              "outlinewidth": 0,
              "ticks": ""
             }
            },
            "type": "scattermap"
           }
          ],
          "scattermapbox": [
           {
            "marker": {
             "colorbar": {
              "outlinewidth": 0,
              "ticks": ""
             }
            },
            "type": "scattermapbox"
           }
          ],
          "scatterpolar": [
           {
            "marker": {
             "colorbar": {
              "outlinewidth": 0,
              "ticks": ""
             }
            },
            "type": "scatterpolar"
           }
          ],
          "scatterpolargl": [
           {
            "marker": {
             "colorbar": {
              "outlinewidth": 0,
              "ticks": ""
             }
            },
            "type": "scatterpolargl"
           }
          ],
          "scatterternary": [
           {
            "marker": {
             "colorbar": {
              "outlinewidth": 0,
              "ticks": ""
             }
            },
            "type": "scatterternary"
           }
          ],
          "surface": [
           {
            "colorbar": {
             "outlinewidth": 0,
             "ticks": ""
            },
            "colorscale": [
             [
              0.0,
              "#0d0887"
             ],
             [
              0.1111111111111111,
              "#46039f"
             ],
             [
              0.2222222222222222,
              "#7201a8"
             ],
             [
              0.3333333333333333,
              "#9c179e"
             ],
             [
              0.4444444444444444,
              "#bd3786"
             ],
             [
              0.5555555555555556,
              "#d8576b"
             ],
             [
              0.6666666666666666,
              "#ed7953"
             ],
             [
              0.7777777777777778,
              "#fb9f3a"
             ],
             [
              0.8888888888888888,
              "#fdca26"
             ],
             [
              1.0,
              "#f0f921"
             ]
            ],
            "type": "surface"
           }
          ],
          "table": [
           {
            "cells": {
             "fill": {
              "color": "#EBF0F8"
             },
             "line": {
              "color": "white"
             }
            },
            "header": {
             "fill": {
              "color": "#C8D4E3"
             },
             "line": {
              "color": "white"
             }
            },
            "type": "table"
           }
          ]
         },
         "layout": {
          "annotationdefaults": {
           "arrowcolor": "#2a3f5f",
           "arrowhead": 0,
           "arrowwidth": 1
          },
          "autotypenumbers": "strict",
          "coloraxis": {
           "colorbar": {
            "outlinewidth": 0,
            "ticks": ""
           }
          },
          "colorscale": {
           "diverging": [
            [
             0,
             "#8e0152"
            ],
            [
             0.1,
             "#c51b7d"
            ],
            [
             0.2,
             "#de77ae"
            ],
            [
             0.3,
             "#f1b6da"
            ],
            [
             0.4,
             "#fde0ef"
            ],
            [
             0.5,
             "#f7f7f7"
            ],
            [
             0.6,
             "#e6f5d0"
            ],
            [
             0.7,
             "#b8e186"
            ],
            [
             0.8,
             "#7fbc41"
            ],
            [
             0.9,
             "#4d9221"
            ],
            [
             1,
             "#276419"
            ]
           ],
           "sequential": [
            [
             0.0,
             "#0d0887"
            ],
            [
             0.1111111111111111,
             "#46039f"
            ],
            [
             0.2222222222222222,
             "#7201a8"
            ],
            [
             0.3333333333333333,
             "#9c179e"
            ],
            [
             0.4444444444444444,
             "#bd3786"
            ],
            [
             0.5555555555555556,
             "#d8576b"
            ],
            [
             0.6666666666666666,
             "#ed7953"
            ],
            [
             0.7777777777777778,
             "#fb9f3a"
            ],
            [
             0.8888888888888888,
             "#fdca26"
            ],
            [
             1.0,
             "#f0f921"
            ]
           ],
           "sequentialminus": [
            [
             0.0,
             "#0d0887"
            ],
            [
             0.1111111111111111,
             "#46039f"
            ],
            [
             0.2222222222222222,
             "#7201a8"
            ],
            [
             0.3333333333333333,
             "#9c179e"
            ],
            [
             0.4444444444444444,
             "#bd3786"
            ],
            [
             0.5555555555555556,
             "#d8576b"
            ],
            [
             0.6666666666666666,
             "#ed7953"
            ],
            [
             0.7777777777777778,
             "#fb9f3a"
            ],
            [
             0.8888888888888888,
             "#fdca26"
            ],
            [
             1.0,
             "#f0f921"
            ]
           ]
          },
          "colorway": [
           "#636efa",
           "#EF553B",
           "#00cc96",
           "#ab63fa",
           "#FFA15A",
           "#19d3f3",
           "#FF6692",
           "#B6E880",
           "#FF97FF",
           "#FECB52"
          ],
          "font": {
           "color": "#2a3f5f"
          },
          "geo": {
           "bgcolor": "white",
           "lakecolor": "white",
           "landcolor": "#E5ECF6",
           "showlakes": true,
           "showland": true,
           "subunitcolor": "white"
          },
          "hoverlabel": {
           "align": "left"
          },
          "hovermode": "closest",
          "mapbox": {
           "style": "light"
          },
          "paper_bgcolor": "white",
          "plot_bgcolor": "#E5ECF6",
          "polar": {
           "angularaxis": {
            "gridcolor": "white",
            "linecolor": "white",
            "ticks": ""
           },
           "bgcolor": "#E5ECF6",
           "radialaxis": {
            "gridcolor": "white",
            "linecolor": "white",
            "ticks": ""
           }
          },
          "scene": {
           "xaxis": {
            "backgroundcolor": "#E5ECF6",
            "gridcolor": "white",
            "gridwidth": 2,
            "linecolor": "white",
            "showbackground": true,
            "ticks": "",
            "zerolinecolor": "white"
           },
           "yaxis": {
            "backgroundcolor": "#E5ECF6",
            "gridcolor": "white",
            "gridwidth": 2,
            "linecolor": "white",
            "showbackground": true,
            "ticks": "",
            "zerolinecolor": "white"
           },
           "zaxis": {
            "backgroundcolor": "#E5ECF6",
            "gridcolor": "white",
            "gridwidth": 2,
            "linecolor": "white",
            "showbackground": true,
            "ticks": "",
            "zerolinecolor": "white"
           }
          },
          "shapedefaults": {
           "line": {
            "color": "#2a3f5f"
           }
          },
          "ternary": {
           "aaxis": {
            "gridcolor": "white",
            "linecolor": "white",
            "ticks": ""
           },
           "baxis": {
            "gridcolor": "white",
            "linecolor": "white",
            "ticks": ""
           },
           "bgcolor": "#E5ECF6",
           "caxis": {
            "gridcolor": "white",
            "linecolor": "white",
            "ticks": ""
           }
          },
          "title": {
           "x": 0.05
          },
          "xaxis": {
           "automargin": true,
           "gridcolor": "white",
           "linecolor": "white",
           "ticks": "",
           "title": {
            "standoff": 15
           },
           "zerolinecolor": "white",
           "zerolinewidth": 2
          },
          "yaxis": {
           "automargin": true,
           "gridcolor": "white",
           "linecolor": "white",
           "ticks": "",
           "title": {
            "standoff": 15
           },
           "zerolinecolor": "white",
           "zerolinewidth": 2
          }
         }
        },
        "title": {
         "text": "3D UMAP projection of player embeddings"
        },
        "width": 1000
       }
      }
     },
     "metadata": {},
     "output_type": "display_data"
    }
   ],
   "source": [
    "import numpy as np\n",
    "import umap\n",
    "import matplotlib.pyplot as plt\n",
    "import plotly.graph_objs as go\n",
    "\n",
    "# Generate test embeddings and labels (replace these with actual data)\n",
    "np.random.seed(42)\n",
    "# player_embeddings = np.random.rand(32, 32)\n",
    "# labels = [f'{name}' for name in team_dict.values()]\n",
    "labels_points = [f'Player {idx}:{name}' for idx, name in enumerate(player_strengths)]\n",
    "\n",
    "\n",
    "# Embed to 3D\n",
    "reducer = umap.UMAP(n_components=3, random_state=None, n_jobs=-1)\n",
    "embeddings_3d = reducer.fit_transform(player_embeddings)\n",
    "\n",
    "# Create interactive 3D scatter plot\n",
    "fig = go.Figure(\n",
    "    data=[go.Scatter3d(\n",
    "        x=embeddings_3d[:, 0],\n",
    "        y=embeddings_3d[:, 1],\n",
    "        z=embeddings_3d[:, 2],\n",
    "        mode='markers',\n",
    "        marker=dict(\n",
    "            size=7,\n",
    "            color=player_strengths,       # Color by this array\n",
    "            colorscale='Viridis',         # Choose a colorscale\n",
    "            colorbar=dict(title='Strength'),\n",
    "            opacity=0.8\n",
    "        ),\n",
    "        text=labels_points,          # Hover labels\n",
    "        hoverinfo='text'\n",
    "    )]\n",
    ")\n",
    "\n",
    "fig.update_layout(\n",
    "    title=\"3D UMAP projection of player embeddings\",\n",
    "    width=1000,             # <-- Change this to your desired width in pixels\n",
    "    height=800,  \n",
    "    scene=dict(\n",
    "        xaxis_title=\"UMAP-1\",\n",
    "        yaxis_title=\"UMAP-2\",\n",
    "        zaxis_title=\"UMAP-3\"\n",
    "    )\n",
    ")\n",
    "\n",
    "fig"
   ]
  },
  {
   "cell_type": "markdown",
   "metadata": {},
   "source": [
    "### Calculate correlation of the embeddings with the original base strengths"
   ]
  },
  {
   "cell_type": "code",
   "execution_count": 10,
   "metadata": {},
   "outputs": [
    {
     "name": "stdout",
     "output_type": "stream",
     "text": [
      "(31,)\n",
      "(31,)\n",
      "Dimension 1 correlation with base strengths: r = -0.2098, p-value = 0.2574\n",
      "Dimension 2 correlation with base strengths: r = 0.1123, p-value = 0.5475\n",
      "Dimension 3 correlation with base strengths: r = 0.0083, p-value = 0.9648\n",
      "Average absolute correlation across 3 components: 0.1101\n"
     ]
    }
   ],
   "source": [
    "import numpy as np\n",
    "from scipy.stats import pearsonr\n",
    "\n",
    "# Assuming these variables from your setup:\n",
    "# player_strengths: numpy array of shape (num_players,)\n",
    "# embeddings_3d: numpy array of shape (num_players, 3) -- UMAP 3D projections\n",
    "\n",
    "num_players = player_strengths.shape[0]\n",
    "correlations = []\n",
    "print(player_strengths.shape)\n",
    "print(embeddings_3d[:, 0].shape)\n",
    "for dim in range(3):\n",
    "    corr, p_value = pearsonr(embeddings_3d[:, dim], player_strengths)\n",
    "    correlations.append((corr, p_value))\n",
    "    print(f\"Dimension {dim + 1} correlation with base strengths: r = {corr:.4f}, p-value = {p_value:.4g}\")\n",
    "\n",
    "# Optionally, compute average absolute correlation across all 3 dimensions\n",
    "avg_abs_corr = np.mean([abs(c[0]) for c in correlations])\n",
    "print(f\"Average absolute correlation across 3 components: {avg_abs_corr:.4f}\")"
   ]
  },
  {
   "cell_type": "markdown",
   "metadata": {},
   "source": []
  }
 ],
 "metadata": {
  "kernelspec": {
   "display_name": "Python 3",
   "language": "python",
   "name": "python3"
  },
  "language_info": {
   "codemirror_mode": {
    "name": "ipython",
    "version": 3
   },
   "file_extension": ".py",
   "mimetype": "text/x-python",
   "name": "python",
   "nbconvert_exporter": "python",
   "pygments_lexer": "ipython3",
   "version": "3.12.9"
  },
  "widgets": {
   "application/vnd.jupyter.widget-state+json": {
    "state": {},
    "version_major": 2,
    "version_minor": 0
   }
  }
 },
 "nbformat": 4,
 "nbformat_minor": 4
}